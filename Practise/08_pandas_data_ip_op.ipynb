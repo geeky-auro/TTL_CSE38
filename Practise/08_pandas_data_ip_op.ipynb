{
 "cells": [
  {
   "cell_type": "code",
   "execution_count": 15,
   "metadata": {},
   "outputs": [
    {
     "name": "stdout",
     "output_type": "stream",
     "text": [
      "Requirement already satisfied: sqlalchemy in c:\\users\\kiit\\anaconda3\\lib\\site-packages (1.4.39)\n",
      "Requirement already satisfied: greenlet!=0.4.17 in c:\\users\\kiit\\anaconda3\\lib\\site-packages (from sqlalchemy) (2.0.1)\n",
      "Requirement already satisfied: lxml in c:\\users\\kiit\\anaconda3\\lib\\site-packages (4.9.3)\n",
      "Requirement already satisfied: html5lib in c:\\users\\kiit\\anaconda3\\lib\\site-packages (1.1)\n",
      "Requirement already satisfied: six>=1.9 in c:\\users\\kiit\\anaconda3\\lib\\site-packages (from html5lib) (1.16.0)\n",
      "Requirement already satisfied: webencodings in c:\\users\\kiit\\anaconda3\\lib\\site-packages (from html5lib) (0.5.1)\n",
      "Requirement already satisfied: BeautifulSoup4 in c:\\users\\kiit\\anaconda3\\lib\\site-packages (4.12.2)\n",
      "Requirement already satisfied: soupsieve>1.2 in c:\\users\\kiit\\anaconda3\\lib\\site-packages (from BeautifulSoup4) (2.4)\n"
     ]
    }
   ],
   "source": [
    "!pip install sqlalchemy\n",
    "!pip install lxml\n",
    "!pip install html5lib\n",
    "!pip install BeautifulSoup4\n"
   ]
  },
  {
   "cell_type": "code",
   "execution_count": 16,
   "metadata": {},
   "outputs": [],
   "source": [
    "import pandas as pd\n"
   ]
  },
  {
   "cell_type": "code",
   "execution_count": 17,
   "metadata": {},
   "outputs": [],
   "source": [
    "df=pd.read_csv('example')"
   ]
  },
  {
   "cell_type": "code",
   "execution_count": 23,
   "metadata": {},
   "outputs": [],
   "source": [
    "df.to_csv('My_output',index=False)"
   ]
  },
  {
   "cell_type": "code",
   "execution_count": 24,
   "metadata": {},
   "outputs": [
    {
     "data": {
      "text/html": [
       "<div>\n",
       "<style scoped>\n",
       "    .dataframe tbody tr th:only-of-type {\n",
       "        vertical-align: middle;\n",
       "    }\n",
       "\n",
       "    .dataframe tbody tr th {\n",
       "        vertical-align: top;\n",
       "    }\n",
       "\n",
       "    .dataframe thead th {\n",
       "        text-align: right;\n",
       "    }\n",
       "</style>\n",
       "<table border=\"1\" class=\"dataframe\">\n",
       "  <thead>\n",
       "    <tr style=\"text-align: right;\">\n",
       "      <th></th>\n",
       "      <th>a</th>\n",
       "      <th>b</th>\n",
       "      <th>c</th>\n",
       "      <th>d</th>\n",
       "    </tr>\n",
       "  </thead>\n",
       "  <tbody>\n",
       "    <tr>\n",
       "      <th>0</th>\n",
       "      <td>0</td>\n",
       "      <td>1</td>\n",
       "      <td>2</td>\n",
       "      <td>3</td>\n",
       "    </tr>\n",
       "    <tr>\n",
       "      <th>1</th>\n",
       "      <td>4</td>\n",
       "      <td>5</td>\n",
       "      <td>6</td>\n",
       "      <td>7</td>\n",
       "    </tr>\n",
       "    <tr>\n",
       "      <th>2</th>\n",
       "      <td>8</td>\n",
       "      <td>9</td>\n",
       "      <td>10</td>\n",
       "      <td>11</td>\n",
       "    </tr>\n",
       "    <tr>\n",
       "      <th>3</th>\n",
       "      <td>12</td>\n",
       "      <td>13</td>\n",
       "      <td>14</td>\n",
       "      <td>15</td>\n",
       "    </tr>\n",
       "  </tbody>\n",
       "</table>\n",
       "</div>"
      ],
      "text/plain": [
       "    a   b   c   d\n",
       "0   0   1   2   3\n",
       "1   4   5   6   7\n",
       "2   8   9  10  11\n",
       "3  12  13  14  15"
      ]
     },
     "execution_count": 24,
     "metadata": {},
     "output_type": "execute_result"
    }
   ],
   "source": [
    "pd.read_csv('My_output')"
   ]
  },
  {
   "cell_type": "code",
   "execution_count": 25,
   "metadata": {},
   "outputs": [
    {
     "name": "stdout",
     "output_type": "stream",
     "text": [
      "Collecting xlrd\n",
      "  Obtaining dependency information for xlrd from https://files.pythonhosted.org/packages/a6/0c/c2a72d51fe56e08a08acc85d13013558a2d793028ae7385448a6ccdfae64/xlrd-2.0.1-py2.py3-none-any.whl.metadata\n",
      "  Downloading xlrd-2.0.1-py2.py3-none-any.whl.metadata (3.4 kB)\n",
      "Downloading xlrd-2.0.1-py2.py3-none-any.whl (96 kB)\n",
      "   ---------------------------------------- 0.0/96.5 kB ? eta -:--:--\n",
      "   ------------ --------------------------- 30.7/96.5 kB 660.6 kB/s eta 0:00:01\n",
      "   ------------------------- -------------- 61.4/96.5 kB 544.7 kB/s eta 0:00:01\n",
      "   ---------------------------------------- 96.5/96.5 kB 690.3 kB/s eta 0:00:00\n",
      "Installing collected packages: xlrd\n",
      "Successfully installed xlrd-2.0.1\n"
     ]
    }
   ],
   "source": [
    "!pip install xlrd"
   ]
  },
  {
   "cell_type": "code",
   "execution_count": 27,
   "metadata": {},
   "outputs": [
    {
     "data": {
      "text/html": [
       "<div>\n",
       "<style scoped>\n",
       "    .dataframe tbody tr th:only-of-type {\n",
       "        vertical-align: middle;\n",
       "    }\n",
       "\n",
       "    .dataframe tbody tr th {\n",
       "        vertical-align: top;\n",
       "    }\n",
       "\n",
       "    .dataframe thead th {\n",
       "        text-align: right;\n",
       "    }\n",
       "</style>\n",
       "<table border=\"1\" class=\"dataframe\">\n",
       "  <thead>\n",
       "    <tr style=\"text-align: right;\">\n",
       "      <th></th>\n",
       "      <th>Unnamed: 0</th>\n",
       "      <th>a</th>\n",
       "      <th>b</th>\n",
       "      <th>c</th>\n",
       "      <th>d</th>\n",
       "    </tr>\n",
       "  </thead>\n",
       "  <tbody>\n",
       "    <tr>\n",
       "      <th>0</th>\n",
       "      <td>0</td>\n",
       "      <td>0</td>\n",
       "      <td>1</td>\n",
       "      <td>2</td>\n",
       "      <td>3</td>\n",
       "    </tr>\n",
       "    <tr>\n",
       "      <th>1</th>\n",
       "      <td>1</td>\n",
       "      <td>4</td>\n",
       "      <td>5</td>\n",
       "      <td>6</td>\n",
       "      <td>7</td>\n",
       "    </tr>\n",
       "    <tr>\n",
       "      <th>2</th>\n",
       "      <td>2</td>\n",
       "      <td>8</td>\n",
       "      <td>9</td>\n",
       "      <td>10</td>\n",
       "      <td>11</td>\n",
       "    </tr>\n",
       "    <tr>\n",
       "      <th>3</th>\n",
       "      <td>3</td>\n",
       "      <td>12</td>\n",
       "      <td>13</td>\n",
       "      <td>14</td>\n",
       "      <td>15</td>\n",
       "    </tr>\n",
       "  </tbody>\n",
       "</table>\n",
       "</div>"
      ],
      "text/plain": [
       "   Unnamed: 0   a   b   c   d\n",
       "0           0   0   1   2   3\n",
       "1           1   4   5   6   7\n",
       "2           2   8   9  10  11\n",
       "3           3  12  13  14  15"
      ]
     },
     "execution_count": 27,
     "metadata": {},
     "output_type": "execute_result"
    }
   ],
   "source": [
    "pd.read_excel('Excel_Sample.xlsx',sheet_name='Sheet1')"
   ]
  },
  {
   "cell_type": "code",
   "execution_count": 29,
   "metadata": {},
   "outputs": [],
   "source": [
    "data=pd.read_html('https://www.espn.com/nba/standings')"
   ]
  },
  {
   "cell_type": "code",
   "execution_count": 30,
   "metadata": {},
   "outputs": [
    {
     "data": {
      "text/plain": [
       "[         1BOSBoston Celtics\n",
       " 0   2CLECleveland Cavaliers\n",
       " 1       3MILMilwaukee Bucks\n",
       " 2        4NYNew York Knicks\n",
       " 3    5PHIPhiladelphia 76ers\n",
       " 4            6MIAMiami Heat\n",
       " 5         7ORLOrlando Magic\n",
       " 6        8INDIndiana Pacers\n",
       " 7         9CHIChicago Bulls\n",
       " 8        10ATLAtlanta Hawks\n",
       " 9          BKNBrooklyn Nets\n",
       " 10       TORToronto Raptors\n",
       " 11     CHACharlotte Hornets\n",
       " 12       DETDetroit Pistons\n",
       " 13    WSHWashington Wizards,\n",
       "      W   L    PCT    GB   HOME   AWAY   DIV   CONF    PPG  OPP PPG  DIFF STRK  \\\n",
       " 0   47  12  0.797     -   28-3   19-9  15-1   33-6  121.0    110.2  10.8  W10   \n",
       " 1   39  20  0.661     8  20-10  19-10   9-5  26-14  114.6    109.6   5.0   W1   \n",
       " 2   40  21  0.656     8   24-7  16-14  10-7  29-13  121.5    117.1   4.4   W5   \n",
       " 3   35  25  0.583  12.5  20-11  15-14   7-4  24-13  113.6    109.9   3.7   L2   \n",
       " 4   34  25  0.576    13  19-13  15-12   5-6  23-17  117.1    113.7   3.4   W1   \n",
       " 5   34  26  0.567  13.5  16-13  18-13  11-2  22-16  110.6    109.9   0.7   W1   \n",
       " 6   34  26  0.567  13.5   20-8  14-18   6-6  23-15  111.5    110.2   1.3   W2   \n",
       " 7   34  27  0.557    14  20-12  14-15  10-2  25-15  123.6    122.1   1.5   L1   \n",
       " 8   28  32  0.467  19.5  16-15  12-17   4-9  16-22  111.7    113.1  -1.4   L1   \n",
       " 9   26  34  0.433  21.5  15-16  11-18   7-6  15-26  120.4    122.7  -2.3   L2   \n",
       " 10  24  36  0.400  23.5  15-17   9-19   2-8  16-19  112.2    114.3  -2.1   W2   \n",
       " 11  22  38  0.367  25.5  12-18  10-20  1-11  15-23  114.5    117.8  -3.4   L2   \n",
       " 12  15  45  0.250  32.5   8-22   7-23   4-6   9-28  107.6    118.1 -10.5   L3   \n",
       " 13   9  50  0.153    38   4-25   5-25  2-12   6-29  112.5    121.1  -8.6   L1   \n",
       " 14   9  51  0.150  38.5   3-25   6-26  2-10   6-32  114.6    124.6 -10.0  L14   \n",
       " \n",
       "      L10  \n",
       " 0   10-0  \n",
       " 1    6-4  \n",
       " 2    7-3  \n",
       " 3    3-7  \n",
       " 4    4-6  \n",
       " 5    8-2  \n",
       " 6    7-3  \n",
       " 7    6-4  \n",
       " 8    5-5  \n",
       " 9    4-6  \n",
       " 10   4-6  \n",
       " 11   5-5  \n",
       " 12   5-5  \n",
       " 13   3-7  \n",
       " 14  0-10  ,\n",
       "    1MINMinnesota Timberwolves\n",
       " 0   2OKCOklahoma City Thunder\n",
       " 1          3DENDenver Nuggets\n",
       " 2             4LACLA Clippers\n",
       " 3     5NONew Orleans Pelicans\n",
       " 4            6PHXPhoenix Suns\n",
       " 5        7SACSacramento Kings\n",
       " 6        8DALDallas Mavericks\n",
       " 7    9GSGolden State Warriors\n",
       " 8     10LALLos Angeles Lakers\n",
       " 9               UTAHUtah Jazz\n",
       " 10         HOUHouston Rockets\n",
       " 11       MEMMemphis Grizzlies\n",
       " 12  PORPortland Trail Blazers\n",
       " 13        SASan Antonio Spurs,\n",
       "      W   L    PCT    GB   HOME   AWAY   DIV   CONF    PPG  OPP PPG  DIFF STRK  \\\n",
       " 0   42  18  0.700     -   22-7  20-11   8-2   29-9  113.7    106.6   7.1   L1   \n",
       " 1   41  18  0.695   0.5   24-6  17-12  10-4  25-14  121.2    113.3   7.9   L1   \n",
       " 2   42  19  0.689   0.5   24-5  18-14   5-5  24-13  114.5    110.3   4.2   W6   \n",
       " 3   38  20  0.655     3   21-8  17-12   8-5  23-16  117.8    112.9   4.9   W1   \n",
       " 4   36  25  0.590   6.5  18-12  18-13   9-6  24-18  116.2    111.7   4.5   W1   \n",
       " 5   35  25  0.583     7  20-12  15-13   7-8  21-18  117.2    114.4   2.8   L1   \n",
       " 6   34  25  0.576   7.5  16-10  18-15   7-6  23-16  118.2    117.9   0.3   W1   \n",
       " 7   34  26  0.567     8  18-13  16-13   8-5  21-18  118.8    118.0   0.8   L1   \n",
       " 8   32  27  0.542   9.5  16-15  16-12   5-9  16-21  119.1    116.8   2.3   W3   \n",
       " 9   33  29  0.532    10  21-10  12-19   7-6  22-20  117.1    117.7  -0.6   L1   \n",
       " 10  27  34  0.443  15.5  18-11   9-23   5-6  14-22  117.5    120.5  -3.0   L3   \n",
       " 11  26  34  0.433    16  20-10   6-24   7-5  18-18  112.8    113.0  -0.2   W1   \n",
       " 12  20  41  0.328  22.5   7-24  13-17   7-7  13-28  106.1    112.8  -6.7   L5   \n",
       " 13  17  42  0.288  24.5   9-20   8-22  1-12   8-32  107.5    115.6  -8.1   W2   \n",
       " 14  12  48  0.200    30   6-21   6-27   1-9   8-26  112.3    120.6  -8.3   W1   \n",
       " \n",
       "     L10  \n",
       " 0   7-3  \n",
       " 1   7-3  \n",
       " 2   7-3  \n",
       " 3   5-5  \n",
       " 4   6-4  \n",
       " 5   6-4  \n",
       " 6   5-5  \n",
       " 7   7-3  \n",
       " 8   8-2  \n",
       " 9   6-4  \n",
       " 10  2-8  \n",
       " 11  3-7  \n",
       " 12  2-8  \n",
       " 13  2-8  \n",
       " 14  2-8  ]"
      ]
     },
     "execution_count": 30,
     "metadata": {},
     "output_type": "execute_result"
    }
   ],
   "source": [
    "data"
   ]
  },
  {
   "cell_type": "code",
   "execution_count": 31,
   "metadata": {},
   "outputs": [],
   "source": [
    "#pandas reading table from mysql\n",
    "from sqlalchemy import create_engine"
   ]
  },
  {
   "cell_type": "code",
   "execution_count": 32,
   "metadata": {},
   "outputs": [],
   "source": [
    "engine=create_engine('sqlite:///:memory:')"
   ]
  },
  {
   "cell_type": "code",
   "execution_count": 33,
   "metadata": {},
   "outputs": [
    {
     "data": {
      "text/plain": [
       "4"
      ]
     },
     "execution_count": 33,
     "metadata": {},
     "output_type": "execute_result"
    }
   ],
   "source": [
    "df.to_sql('my_table',engine)"
   ]
  },
  {
   "cell_type": "code",
   "execution_count": 34,
   "metadata": {},
   "outputs": [],
   "source": [
    "sqldf=pd.read_sql('my_table',con=engine)"
   ]
  },
  {
   "cell_type": "code",
   "execution_count": 35,
   "metadata": {},
   "outputs": [
    {
     "data": {
      "text/html": [
       "<div>\n",
       "<style scoped>\n",
       "    .dataframe tbody tr th:only-of-type {\n",
       "        vertical-align: middle;\n",
       "    }\n",
       "\n",
       "    .dataframe tbody tr th {\n",
       "        vertical-align: top;\n",
       "    }\n",
       "\n",
       "    .dataframe thead th {\n",
       "        text-align: right;\n",
       "    }\n",
       "</style>\n",
       "<table border=\"1\" class=\"dataframe\">\n",
       "  <thead>\n",
       "    <tr style=\"text-align: right;\">\n",
       "      <th></th>\n",
       "      <th>index</th>\n",
       "      <th>a</th>\n",
       "      <th>b</th>\n",
       "      <th>c</th>\n",
       "      <th>d</th>\n",
       "    </tr>\n",
       "  </thead>\n",
       "  <tbody>\n",
       "    <tr>\n",
       "      <th>0</th>\n",
       "      <td>0</td>\n",
       "      <td>0</td>\n",
       "      <td>1</td>\n",
       "      <td>2</td>\n",
       "      <td>3</td>\n",
       "    </tr>\n",
       "    <tr>\n",
       "      <th>1</th>\n",
       "      <td>1</td>\n",
       "      <td>4</td>\n",
       "      <td>5</td>\n",
       "      <td>6</td>\n",
       "      <td>7</td>\n",
       "    </tr>\n",
       "    <tr>\n",
       "      <th>2</th>\n",
       "      <td>2</td>\n",
       "      <td>8</td>\n",
       "      <td>9</td>\n",
       "      <td>10</td>\n",
       "      <td>11</td>\n",
       "    </tr>\n",
       "    <tr>\n",
       "      <th>3</th>\n",
       "      <td>3</td>\n",
       "      <td>12</td>\n",
       "      <td>13</td>\n",
       "      <td>14</td>\n",
       "      <td>15</td>\n",
       "    </tr>\n",
       "  </tbody>\n",
       "</table>\n",
       "</div>"
      ],
      "text/plain": [
       "   index   a   b   c   d\n",
       "0      0   0   1   2   3\n",
       "1      1   4   5   6   7\n",
       "2      2   8   9  10  11\n",
       "3      3  12  13  14  15"
      ]
     },
     "execution_count": 35,
     "metadata": {},
     "output_type": "execute_result"
    }
   ],
   "source": [
    "sqldf"
   ]
  },
  {
   "cell_type": "code",
   "execution_count": null,
   "metadata": {},
   "outputs": [],
   "source": []
  },
  {
   "cell_type": "code",
   "execution_count": null,
   "metadata": {},
   "outputs": [],
   "source": []
  }
 ],
 "metadata": {
  "kernelspec": {
   "display_name": "base",
   "language": "python",
   "name": "python3"
  },
  "language_info": {
   "codemirror_mode": {
    "name": "ipython",
    "version": 3
   },
   "file_extension": ".py",
   "mimetype": "text/x-python",
   "name": "python",
   "nbconvert_exporter": "python",
   "pygments_lexer": "ipython3",
   "version": "3.11.5"
  }
 },
 "nbformat": 4,
 "nbformat_minor": 2
}
