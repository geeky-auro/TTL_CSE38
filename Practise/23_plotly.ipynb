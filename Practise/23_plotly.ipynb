{
 "cells": [
  {
   "cell_type": "code",
   "execution_count": 1,
   "metadata": {},
   "outputs": [
    {
     "name": "stdout",
     "output_type": "stream",
     "text": [
      "Hello\n"
     ]
    }
   ],
   "source": [
    "# import cufflinks as cf\n",
    "print(\"Hello\")\n",
    "import cufflinks as cf\n",
    "import pandas as pd\n",
    "import numpy as np\n",
    "from plotly import __version__"
   ]
  },
  {
   "cell_type": "code",
   "execution_count": 2,
   "metadata": {},
   "outputs": [],
   "source": [
    "from plotly.offline import download_plotlyjs,init_notebook_mode,plot,iplot"
   ]
  },
  {
   "cell_type": "code",
   "execution_count": 3,
   "metadata": {},
   "outputs": [
    {
     "data": {
      "text/html": [
       "        <script type=\"text/javascript\">\n",
       "        window.PlotlyConfig = {MathJaxConfig: 'local'};\n",
       "        if (window.MathJax && window.MathJax.Hub && window.MathJax.Hub.Config) {window.MathJax.Hub.Config({SVG: {font: \"STIX-Web\"}});}\n",
       "        if (typeof require !== 'undefined') {\n",
       "        require.undef(\"plotly\");\n",
       "        requirejs.config({\n",
       "            paths: {\n",
       "                'plotly': ['https://cdn.plot.ly/plotly-2.12.1.min']\n",
       "            }\n",
       "        });\n",
       "        require(['plotly'], function(Plotly) {\n",
       "            window._Plotly = Plotly;\n",
       "        });\n",
       "        }\n",
       "        </script>\n",
       "        "
      ]
     },
     "metadata": {},
     "output_type": "display_data"
    }
   ],
   "source": [
    "# Connect Javascript to Notebook\n",
    "# Connects Pandas and Python to Interactive Library\n",
    "init_notebook_mode(connected=True)"
   ]
  },
  {
   "cell_type": "code",
   "execution_count": 4,
   "metadata": {},
   "outputs": [
    {
     "data": {
      "text/html": [
       "        <script type=\"text/javascript\">\n",
       "        window.PlotlyConfig = {MathJaxConfig: 'local'};\n",
       "        if (window.MathJax && window.MathJax.Hub && window.MathJax.Hub.Config) {window.MathJax.Hub.Config({SVG: {font: \"STIX-Web\"}});}\n",
       "        if (typeof require !== 'undefined') {\n",
       "        require.undef(\"plotly\");\n",
       "        requirejs.config({\n",
       "            paths: {\n",
       "                'plotly': ['https://cdn.plot.ly/plotly-2.12.1.min']\n",
       "            }\n",
       "        });\n",
       "        require(['plotly'], function(Plotly) {\n",
       "            window._Plotly = Plotly;\n",
       "        });\n",
       "        }\n",
       "        </script>\n",
       "        "
      ]
     },
     "metadata": {},
     "output_type": "display_data"
    }
   ],
   "source": [
    "cf.go_offline()"
   ]
  },
  {
   "cell_type": "code",
   "execution_count": 5,
   "metadata": {},
   "outputs": [],
   "source": [
    "# Data\n",
    "df=pd.DataFrame(np.random.randn(100,4),columns='A B C D'.split())"
   ]
  },
  {
   "cell_type": "code",
   "execution_count": 6,
   "metadata": {},
   "outputs": [
    {
     "data": {
      "text/html": [
       "<div>\n",
       "<style scoped>\n",
       "    .dataframe tbody tr th:only-of-type {\n",
       "        vertical-align: middle;\n",
       "    }\n",
       "\n",
       "    .dataframe tbody tr th {\n",
       "        vertical-align: top;\n",
       "    }\n",
       "\n",
       "    .dataframe thead th {\n",
       "        text-align: right;\n",
       "    }\n",
       "</style>\n",
       "<table border=\"1\" class=\"dataframe\">\n",
       "  <thead>\n",
       "    <tr style=\"text-align: right;\">\n",
       "      <th></th>\n",
       "      <th>A</th>\n",
       "      <th>B</th>\n",
       "      <th>C</th>\n",
       "      <th>D</th>\n",
       "    </tr>\n",
       "  </thead>\n",
       "  <tbody>\n",
       "    <tr>\n",
       "      <th>0</th>\n",
       "      <td>-1.102498</td>\n",
       "      <td>-0.871320</td>\n",
       "      <td>-0.231915</td>\n",
       "      <td>1.742001</td>\n",
       "    </tr>\n",
       "    <tr>\n",
       "      <th>1</th>\n",
       "      <td>0.455327</td>\n",
       "      <td>-1.767211</td>\n",
       "      <td>0.229962</td>\n",
       "      <td>-0.214078</td>\n",
       "    </tr>\n",
       "    <tr>\n",
       "      <th>2</th>\n",
       "      <td>0.403910</td>\n",
       "      <td>-1.035091</td>\n",
       "      <td>0.372356</td>\n",
       "      <td>-0.834700</td>\n",
       "    </tr>\n",
       "    <tr>\n",
       "      <th>3</th>\n",
       "      <td>-0.280997</td>\n",
       "      <td>-0.080728</td>\n",
       "      <td>-0.183179</td>\n",
       "      <td>0.357214</td>\n",
       "    </tr>\n",
       "    <tr>\n",
       "      <th>4</th>\n",
       "      <td>0.798999</td>\n",
       "      <td>-1.195114</td>\n",
       "      <td>0.030270</td>\n",
       "      <td>-0.448614</td>\n",
       "    </tr>\n",
       "  </tbody>\n",
       "</table>\n",
       "</div>"
      ],
      "text/plain": [
       "          A         B         C         D\n",
       "0 -1.102498 -0.871320 -0.231915  1.742001\n",
       "1  0.455327 -1.767211  0.229962 -0.214078\n",
       "2  0.403910 -1.035091  0.372356 -0.834700\n",
       "3 -0.280997 -0.080728 -0.183179  0.357214\n",
       "4  0.798999 -1.195114  0.030270 -0.448614"
      ]
     },
     "execution_count": 6,
     "metadata": {},
     "output_type": "execute_result"
    }
   ],
   "source": [
    "df.head()"
   ]
  },
  {
   "cell_type": "code",
   "execution_count": 7,
   "metadata": {},
   "outputs": [],
   "source": [
    "df2=pd.DataFrame({\"Categories\":['A','B','C'],\n",
    "                  'Values':[32,43,50]})"
   ]
  },
  {
   "cell_type": "code",
   "execution_count": 8,
   "metadata": {},
   "outputs": [
    {
     "data": {
      "text/html": [
       "<div>\n",
       "<style scoped>\n",
       "    .dataframe tbody tr th:only-of-type {\n",
       "        vertical-align: middle;\n",
       "    }\n",
       "\n",
       "    .dataframe tbody tr th {\n",
       "        vertical-align: top;\n",
       "    }\n",
       "\n",
       "    .dataframe thead th {\n",
       "        text-align: right;\n",
       "    }\n",
       "</style>\n",
       "<table border=\"1\" class=\"dataframe\">\n",
       "  <thead>\n",
       "    <tr style=\"text-align: right;\">\n",
       "      <th></th>\n",
       "      <th>Categories</th>\n",
       "      <th>Values</th>\n",
       "    </tr>\n",
       "  </thead>\n",
       "  <tbody>\n",
       "    <tr>\n",
       "      <th>0</th>\n",
       "      <td>A</td>\n",
       "      <td>32</td>\n",
       "    </tr>\n",
       "    <tr>\n",
       "      <th>1</th>\n",
       "      <td>B</td>\n",
       "      <td>43</td>\n",
       "    </tr>\n",
       "    <tr>\n",
       "      <th>2</th>\n",
       "      <td>C</td>\n",
       "      <td>50</td>\n",
       "    </tr>\n",
       "  </tbody>\n",
       "</table>\n",
       "</div>"
      ],
      "text/plain": [
       "  Categories  Values\n",
       "0          A      32\n",
       "1          B      43\n",
       "2          C      50"
      ]
     },
     "execution_count": 8,
     "metadata": {},
     "output_type": "execute_result"
    }
   ],
   "source": [
    "df2"
   ]
  },
  {
   "cell_type": "code",
   "execution_count": 9,
   "metadata": {},
   "outputs": [
    {
     "data": {
      "text/html": [
       "<div>\n",
       "<style scoped>\n",
       "    .dataframe tbody tr th:only-of-type {\n",
       "        vertical-align: middle;\n",
       "    }\n",
       "\n",
       "    .dataframe tbody tr th {\n",
       "        vertical-align: top;\n",
       "    }\n",
       "\n",
       "    .dataframe thead th {\n",
       "        text-align: right;\n",
       "    }\n",
       "</style>\n",
       "<table border=\"1\" class=\"dataframe\">\n",
       "  <thead>\n",
       "    <tr style=\"text-align: right;\">\n",
       "      <th></th>\n",
       "      <th>A</th>\n",
       "      <th>B</th>\n",
       "      <th>C</th>\n",
       "      <th>D</th>\n",
       "    </tr>\n",
       "  </thead>\n",
       "  <tbody>\n",
       "    <tr>\n",
       "      <th>0</th>\n",
       "      <td>-1.102498</td>\n",
       "      <td>-0.871320</td>\n",
       "      <td>-0.231915</td>\n",
       "      <td>1.742001</td>\n",
       "    </tr>\n",
       "    <tr>\n",
       "      <th>1</th>\n",
       "      <td>0.455327</td>\n",
       "      <td>-1.767211</td>\n",
       "      <td>0.229962</td>\n",
       "      <td>-0.214078</td>\n",
       "    </tr>\n",
       "    <tr>\n",
       "      <th>2</th>\n",
       "      <td>0.403910</td>\n",
       "      <td>-1.035091</td>\n",
       "      <td>0.372356</td>\n",
       "      <td>-0.834700</td>\n",
       "    </tr>\n",
       "    <tr>\n",
       "      <th>3</th>\n",
       "      <td>-0.280997</td>\n",
       "      <td>-0.080728</td>\n",
       "      <td>-0.183179</td>\n",
       "      <td>0.357214</td>\n",
       "    </tr>\n",
       "    <tr>\n",
       "      <th>4</th>\n",
       "      <td>0.798999</td>\n",
       "      <td>-1.195114</td>\n",
       "      <td>0.030270</td>\n",
       "      <td>-0.448614</td>\n",
       "    </tr>\n",
       "    <tr>\n",
       "      <th>...</th>\n",
       "      <td>...</td>\n",
       "      <td>...</td>\n",
       "      <td>...</td>\n",
       "      <td>...</td>\n",
       "    </tr>\n",
       "    <tr>\n",
       "      <th>95</th>\n",
       "      <td>-1.188575</td>\n",
       "      <td>0.415177</td>\n",
       "      <td>0.385833</td>\n",
       "      <td>-0.502494</td>\n",
       "    </tr>\n",
       "    <tr>\n",
       "      <th>96</th>\n",
       "      <td>0.289880</td>\n",
       "      <td>2.041461</td>\n",
       "      <td>-0.318315</td>\n",
       "      <td>-0.095740</td>\n",
       "    </tr>\n",
       "    <tr>\n",
       "      <th>97</th>\n",
       "      <td>0.815160</td>\n",
       "      <td>0.398203</td>\n",
       "      <td>0.929868</td>\n",
       "      <td>1.876488</td>\n",
       "    </tr>\n",
       "    <tr>\n",
       "      <th>98</th>\n",
       "      <td>-0.994187</td>\n",
       "      <td>-1.299581</td>\n",
       "      <td>0.085125</td>\n",
       "      <td>-1.431541</td>\n",
       "    </tr>\n",
       "    <tr>\n",
       "      <th>99</th>\n",
       "      <td>1.536851</td>\n",
       "      <td>0.982890</td>\n",
       "      <td>0.594438</td>\n",
       "      <td>-0.142439</td>\n",
       "    </tr>\n",
       "  </tbody>\n",
       "</table>\n",
       "<p>100 rows × 4 columns</p>\n",
       "</div>"
      ],
      "text/plain": [
       "           A         B         C         D\n",
       "0  -1.102498 -0.871320 -0.231915  1.742001\n",
       "1   0.455327 -1.767211  0.229962 -0.214078\n",
       "2   0.403910 -1.035091  0.372356 -0.834700\n",
       "3  -0.280997 -0.080728 -0.183179  0.357214\n",
       "4   0.798999 -1.195114  0.030270 -0.448614\n",
       "..       ...       ...       ...       ...\n",
       "95 -1.188575  0.415177  0.385833 -0.502494\n",
       "96  0.289880  2.041461 -0.318315 -0.095740\n",
       "97  0.815160  0.398203  0.929868  1.876488\n",
       "98 -0.994187 -1.299581  0.085125 -1.431541\n",
       "99  1.536851  0.982890  0.594438 -0.142439\n",
       "\n",
       "[100 rows x 4 columns]"
      ]
     },
     "execution_count": 9,
     "metadata": {},
     "output_type": "execute_result"
    }
   ],
   "source": [
    "df"
   ]
  },
  {
   "cell_type": "code",
   "execution_count": 10,
   "metadata": {},
   "outputs": [
    {
     "data": {
      "text/plain": [
       "<Axes: >"
      ]
     },
     "execution_count": 10,
     "metadata": {},
     "output_type": "execute_result"
    },
    {
     "data": {
      "image/png": "[encoded data removed]",
      "text/plain": [
       "<Figure size 640x480 with 1 Axes>"
      ]
     },
     "metadata": {},
     "output_type": "display_data"
    }
   ],
   "source": [
    "df.plot()\n"
   ]
  },
  {
   "cell_type": "code",
   "execution_count": 11,
   "metadata": {},
   "outputs": [
    {
     "data": {
      "application/vnd.plotly.v1+json": {
       "config": {
        "linkText": "Export to plot.ly",
        "plotlyServerURL": "https://plot.ly",
        "showLink": true
       },
       "data": [
        {
         "line": {
          "color": "rgba(255, 153, 51, 1.0)",
          "dash": "solid",
          "shape": "linear",
          "width": 1.3
         },
         "mode": "lines",
         "name": "A",
         "text": "",
         "type": "scatter",
         "x": [
          0,
          1,
          2,
          3,
          4,
          5,
          6,
          7,
          8,
          9,
          10,
          11,
          12,
          13,
          14,
          15,
          16,
          17,
          18,
          19,
          20,
          21,
          22,
          23,
          24,
          25,
          26,
          27,
          28,
          29,
          30,
          31,
          32,
          33,
          34,
          35,
          36,
          37,
          38,
          39,
          40,
          41,
          42,
          43,
          44,
          45,
          46,
          47,
          48,
          49,
          50,
          51,
          52,
          53,
          54,
          55,
          56,
          57,
          58,
          59,
          60,
          61,
          62,
          63,
          64,
          65,
          66,
          67,
          68,
          69,
          70,
          71,
          72,
          73,
          74,
          75,
          76,
          77,
          78,
          79,
          80,
          81,
          82,
          83,
          84,
          85,
          86,
          87,
          88,
          89,
          90,
          91,
          92,
          93,
          94,
          95,
          96,
          97,
          98,
          99
         ],
         "y": [
          -1.1024981471016053,
          0.45532653178486426,
          0.40391046008714476,
          -0.2809970042901508,
          0.7989989325364689,
          1.0832583953209949,
          -1.234209784210434,
          0.3224994409690922,
          -0.3242087708237595,
          -0.1284653156020744,
          -0.7552748291440724,
          0.8184288968726566,
          0.5422845891231438,
          0.10789901010090519,
          -0.32139817008019994,
          -0.7963759333281335,
          -0.39037680946255826,
          -2.2655403217214696,
          0.5167189806038817,
          1.0311119027127906,
          -0.7280729939339882,
          2.2399138984961033,
          -1.2752392088928555,
          -0.5378918136584961,
          2.0295510309720433,
          0.23191793912741354,
          -0.7489274861749667,
          0.1804315695573513,
          -1.076899175942572,
          0.1480646205053287,
          -2.067689597756462,
          -0.6242648055288316,
          1.9205984896737025,
          -0.6626634145557857,
          0.43755162941932596,
          -0.08301825934472241,
          1.6979277445032026,
          1.3214093229538189,
          -0.5063299960070593,
          -0.0634250885800641,
          1.5099246615970119,
          -0.06181082497718354,
          -0.3409827236091026,
          -0.33324862190788684,
          1.500014889723033,
          -1.5918283819078909,
          0.1436883889894132,
          1.5756106661076734,
          -0.32506572639260684,
          0.37798144298626746,
          0.46348546666861756,
          -2.051188827144377,
          -1.0172458205234336,
          -0.5070704946445844,
          -0.8478731955080303,
          -0.2334924377631749,
          0.19262355458803307,
          -1.3003949447844079,
          -0.9149035966488548,
          0.8229650720355511,
          1.3006243742931636,
          -0.4126201075864305,
          -0.6711296866905244,
          -0.4405250418337267,
          -0.5651290513169568,
          1.0196385357067541,
          0.5877685488555959,
          -0.3945490445285969,
          0.8054155111464418,
          -1.0217863363909698,
          0.46049889877191597,
          0.57181539365208,
          -0.8625271604108457,
          -0.46000004554287016,
          0.02716586732277476,
          0.6816588980785862,
          -0.4668112307509774,
          0.25228987992077717,
          0.8669165806315857,
          0.847033573383717,
          -1.3863133841285744,
          -0.01553686633329219,
          -0.2740973426119702,
          0.043616214784867754,
          -2.1647128799946276,
          -0.05182135785862414,
          -1.384645553366656,
          0.4027841869433865,
          0.11479059202803563,
          0.3819374624127815,
          0.22205933188988886,
          0.9355340173488559,
          -0.2765941836604982,
          0.954866972229284,
          1.073857686349574,
          -1.1885752619110412,
          0.28988033179079464,
          0.8151597284421718,
          -0.9941872219563699,
          1.5368506591655258
         ]
        },
        {
         "line": {
          "color": "rgba(55, 128, 191, 1.0)",
          "dash": "solid",
          "shape": "linear",
          "width": 1.3
         },
         "mode": "lines",
         "name": "B",
         "text": "",
         "type": "scatter",
         "x": [
          0,
          1,
          2,
          3,
          4,
          5,
          6,
          7,
          8,
          9,
          10,
          11,
          12,
          13,
          14,
          15,
          16,
          17,
          18,
          19,
          20,
          21,
          22,
          23,
          24,
          25,
          26,
          27,
          28,
          29,
          30,
          31,
          32,
          33,
          34,
          35,
          36,
          37,
          38,
          39,
          40,
          41,
          42,
          43,
          44,
          45,
          46,
          47,
          48,
          49,
          50,
          51,
          52,
          53,
          54,
          55,
          56,
          57,
          58,
          59,
          60,
          61,
          62,
          63,
          64,
          65,
          66,
          67,
          68,
          69,
          70,
          71,
          72,
          73,
          74,
          75,
          76,
          77,
          78,
          79,
          80,
          81,
          82,
          83,
          84,
          85,
          86,
          87,
          88,
          89,
          90,
          91,
          92,
          93,
          94,
          95,
          96,
          97,
          98,
          99
         ],
         "y": [
          -0.8713196634022675,
          -1.767211174819314,
          -1.0350908487091959,
          -0.08072812492485895,
          -1.1951142174006553,
          -1.8471571622199414,
          1.8801067041568933,
          -1.1058767571189025,
          0.40937518520839133,
          0.5074882970638703,
          -0.9099081392282109,
          -0.23390168778098436,
          1.3793033998833388,
          -0.03876003474237771,
          1.38539784508653,
          0.8040467182086181,
          -1.9859688198263412,
          1.4318814602300922,
          0.2856696833736994,
          -0.02734422820736344,
          2.2604852635308466,
          0.3437984522726635,
          -1.6199777026322286,
          -1.6252434641567413,
          0.819414661012346,
          0.8718682984632122,
          -0.9577172169711519,
          0.26839737955878556,
          1.3259952049003743,
          -0.5112436727714154,
          1.5282438868112913,
          0.46111855997757906,
          0.5103298218556396,
          -1.6594959487403262,
          0.5897407100948779,
          -0.0702770913251112,
          2.145076222618863,
          -0.3302738874863218,
          1.7954077585596733,
          -0.32578556653973817,
          0.8364388798723189,
          0.22696433098098545,
          -0.8327353257833802,
          -1.015031002671774,
          0.37786457003176177,
          -0.8097117301574803,
          -0.9985378053285431,
          0.5203569062543102,
          0.4818184236235761,
          -0.8441091152069875,
          1.2708165965970095,
          -0.70334138878969,
          1.0694277546339286,
          0.6254820710794478,
          -0.009766599509518017,
          0.10566623768884706,
          -0.38865979307592985,
          -0.4287810605985193,
          -0.3739451959228925,
          -0.9145143264683828,
          2.625130148137943,
          0.2778968503855602,
          0.9934389776868553,
          -0.9072450113031999,
          0.5210933674015816,
          0.0830080569450399,
          0.14620986056202875,
          -0.4516254448680814,
          1.1997048520705935,
          -0.45206800531489205,
          1.0943552757896906,
          0.9640478674870745,
          -1.6536100269234513,
          0.101149502791871,
          -0.4152232250614539,
          0.6152742885080315,
          0.2106406522997461,
          0.0019031646346197241,
          0.602635626247644,
          -1.715601158322781,
          0.5628710900741206,
          -0.1294924891033397,
          -0.6355075840796094,
          1.2649381157969501,
          0.02498520572713563,
          0.5104545781590395,
          -0.5702951302023916,
          1.7309202655032256,
          1.2879164184864185,
          -0.36438719814264675,
          0.2745117757241402,
          -0.07135501369983091,
          -0.10594911360867416,
          0.2004243601221823,
          0.5662466524036643,
          0.4151771166224692,
          2.0414607940726452,
          0.3982025407248406,
          -1.2995806760810338,
          0.982890176174143
         ]
        },
        {
         "line": {
          "color": "rgba(50, 171, 96, 1.0)",
          "dash": "solid",
          "shape": "linear",
          "width": 1.3
         },
         "mode": "lines",
         "name": "C",
         "text": "",
         "type": "scatter",
         "x": [
          0,
          1,
          2,
          3,
          4,
          5,
          6,
          7,
          8,
          9,
          10,
          11,
          12,
          13,
          14,
          15,
          16,
          17,
          18,
          19,
          20,
          21,
          22,
          23,
          24,
          25,
          26,
          27,
          28,
          29,
          30,
          31,
          32,
          33,
          34,
          35,
          36,
          37,
          38,
          39,
          40,
          41,
          42,
          43,
          44,
          45,
          46,
          47,
          48,
          49,
          50,
          51,
          52,
          53,
          54,
          55,
          56,
          57,
          58,
          59,
          60,
          61,
          62,
          63,
          64,
          65,
          66,
          67,
          68,
          69,
          70,
          71,
          72,
          73,
          74,
          75,
          76,
          77,
          78,
          79,
          80,
          81,
          82,
          83,
          84,
          85,
          86,
          87,
          88,
          89,
          90,
          91,
          92,
          93,
          94,
          95,
          96,
          97,
          98,
          99
         ],
         "y": [
          -0.23191483467728796,
          0.22996169982911116,
          0.37235644215290814,
          -0.18317934630443627,
          0.030269596121248386,
          0.2377912009439052,
          -0.4635781052161619,
          -1.113826422851541,
          -0.4640499369179566,
          0.0862418242527444,
          -0.17526457764388662,
          -1.2394707131388767,
          1.1378268189836096,
          1.1227212390740267,
          0.8469162696258059,
          -0.2352349772821939,
          0.1966858786059231,
          -0.2933140386799466,
          -0.30688059116922967,
          -0.4821681732345493,
          -0.27745071051604725,
          -1.1243501531182385,
          0.057655680779404216,
          0.45004825152232597,
          -0.6431969695826352,
          1.8043144586142832,
          0.5335382114718625,
          -0.558890544540614,
          -1.0720048033208915,
          -0.941563266309427,
          0.348237899267876,
          1.1705473551597216,
          -0.8353913555607797,
          -0.857665180470015,
          -0.34313815056146535,
          -0.6405363663505411,
          -0.005708929644882179,
          -1.0129631575850104,
          0.5779718783951365,
          -1.0519358973969024,
          0.5136347490696667,
          -1.2979934398788073,
          0.5349053270524682,
          2.357078440371061,
          0.7469704623104282,
          -0.7512300212264496,
          -0.0676600767370751,
          1.1717868904695523,
          0.056014652083291414,
          1.9067085542207205,
          0.22696914256599662,
          -1.0227464786175227,
          -0.3662894960812538,
          -1.069064556566524,
          0.5477192163632087,
          0.38967752312019927,
          -0.30929610039500577,
          1.3586255897880464,
          1.5695745260088578,
          -0.440786731303405,
          -1.0467786473869678,
          -0.6406050565135507,
          1.2910836005523305,
          -0.11894889194832031,
          -1.0179449928368667,
          1.3447998121960456,
          0.14512180959110263,
          -1.227725683384825,
          1.4371215964566564,
          -0.0031341668208622908,
          -0.5576920364414308,
          -0.38328672961847204,
          0.026830990387689723,
          -0.8382448805596847,
          0.8827979098248043,
          1.5898469507164932,
          2.604205368168547,
          0.8892144723017181,
          -0.07378398071441221,
          0.4267291792279438,
          0.8950635767904128,
          0.3922940160616898,
          -0.0851112683431683,
          -0.6736568562098894,
          -0.43538967839927634,
          -0.6678661489181582,
          0.4674966404566777,
          1.3041628300440022,
          -1.9223632355127063,
          -0.6824825992913708,
          -0.7251925773027719,
          0.8406610583174904,
          0.6198675777100461,
          1.2865116834532744,
          -1.6841263181861676,
          0.3858325516026786,
          -0.31831457953920045,
          0.9298675048241788,
          0.08512501033433308,
          0.5944382814004443
         ]
        },
        {
         "line": {
          "color": "rgba(128, 0, 128, 1.0)",
          "dash": "solid",
          "shape": "linear",
          "width": 1.3
         },
         "mode": "lines",
         "name": "D",
         "text": "",
         "type": "scatter",
         "x": [
          0,
          1,
          2,
          3,
          4,
          5,
          6,
          7,
          8,
          9,
          10,
          11,
          12,
          13,
          14,
          15,
          16,
          17,
          18,
          19,
          20,
          21,
          22,
          23,
          24,
          25,
          26,
          27,
          28,
          29,
          30,
          31,
          32,
          33,
          34,
          35,
          36,
          37,
          38,
          39,
          40,
          41,
          42,
          43,
          44,
          45,
          46,
          47,
          48,
          49,
          50,
          51,
          52,
          53,
          54,
          55,
          56,
          57,
          58,
          59,
          60,
          61,
          62,
          63,
          64,
          65,
          66,
          67,
          68,
          69,
          70,
          71,
          72,
          73,
          74,
          75,
          76,
          77,
          78,
          79,
          80,
          81,
          82,
          83,
          84,
          85,
          86,
          87,
          88,
          89,
          90,
          91,
          92,
          93,
          94,
          95,
          96,
          97,
          98,
          99
         ],
         "y": [
          1.7420011505283355,
          -0.21407790210814454,
          -0.8346995928206267,
          0.3572143263372206,
          -0.44861423493977404,
          -1.6081212330874752,
          0.801690734912549,
          -0.6109376576801621,
          2.1373076535109092,
          -0.3895897715840815,
          0.49813442940114483,
          0.9759970066716024,
          -0.7932651994978115,
          0.6835870707382509,
          -0.3274394480942042,
          1.8709656860865775,
          0.3111020957103798,
          -0.7509733514305589,
          0.70735198442484,
          -2.0380165731831723,
          -0.2268007663096546,
          -0.1570710863874976,
          -0.043925259267604065,
          1.2132826148806004,
          -0.35116309161963677,
          -0.22222779417501082,
          -0.4744366412490772,
          0.9675082903553129,
          0.117057975512573,
          1.3648150969859354,
          -0.44309217680230667,
          -0.2426589005323525,
          0.6386264583219761,
          -0.8332164875365083,
          -0.44728663182657197,
          -0.02280652878873671,
          2.225828052114822,
          -0.14800113052807606,
          0.6406805425970652,
          -1.1344693137474502,
          -1.0701856529498481,
          -1.0291026082395422,
          1.439390319110055,
          0.7584810547627114,
          0.5888102171302606,
          0.2724300812740993,
          0.43539688823221795,
          0.47801130939445824,
          0.7306479076541726,
          0.7096123064838874,
          0.38797045860083834,
          0.6450237570733347,
          -1.6733767642736335,
          -0.18122074197359497,
          -0.10116934075473873,
          0.903652841960548,
          -1.1081023040397295,
          0.6399902629524633,
          0.7793730919102405,
          0.875387486712953,
          1.044674558695237,
          -0.4871528085047099,
          -0.6143593693157811,
          0.21228328709304328,
          -1.4146000066232995,
          -1.7253060336527681,
          0.7433283324848287,
          0.0627648959382127,
          -1.0410361166019233,
          -1.0179539366545063,
          -0.12346745371218192,
          -0.19861250276447442,
          -1.2928778298316919,
          -0.39586307865963055,
          -0.7406276396929118,
          0.639801665969883,
          1.5466490194149656,
          -2.25710586595814,
          0.025727214192610162,
          -1.3997758024249467,
          0.6293336997602994,
          0.5524935217565039,
          2.3874015597003724,
          -0.39471117140079154,
          -1.3953941132202565,
          0.40979403089478883,
          -0.23403208703945236,
          -1.5492736810458847,
          -2.80725233529573,
          -0.4855463561126437,
          1.9368340138661833,
          0.007857349331967686,
          -0.8882755436060508,
          -1.6353969003568276,
          -1.3308136151465673,
          -0.5024940855850913,
          -0.09574033787558964,
          1.876487667138215,
          -1.4315406749059392,
          -0.14243853343481255
         ]
        }
       ],
       "layout": {
        "legend": {
         "bgcolor": "#F5F6F9",
         "font": {
          "color": "#4D5663"
         }
        },
        "paper_bgcolor": "#F5F6F9",
        "plot_bgcolor": "#F5F6F9",
        "template": {
         "data": {
          "bar": [
           {
            "error_x": {
             "color": "#2a3f5f"
            },
            "error_y": {
             "color": "#2a3f5f"
            },
            "marker": {
             "line": {
              "color": "#E5ECF6",
              "width": 0.5
             },
             "pattern": {
              "fillmode": "overlay",
              "size": 10,
              "solidity": 0.2
             }
            },
            "type": "bar"
           }
          ],
          "barpolar": [
           {
            "marker": {
             "line": {
              "color": "#E5ECF6",
              "width": 0.5
             },
             "pattern": {
              "fillmode": "overlay",
              "size": 10,
              "solidity": 0.2
             }
            },
            "type": "barpolar"
           }
          ],
          "carpet": [
           {
            "aaxis": {
             "endlinecolor": "#2a3f5f",
             "gridcolor": "white",
             "linecolor": "white",
             "minorgridcolor": "white",
             "startlinecolor": "#2a3f5f"
            },
            "baxis": {
             "endlinecolor": "#2a3f5f",
             "gridcolor": "white",
             "linecolor": "white",
             "minorgridcolor": "white",
             "startlinecolor": "#2a3f5f"
            },
            "type": "carpet"
           }
          ],
          "choropleth": [
           {
            "colorbar": {
             "outlinewidth": 0,
             "ticks": ""
            },
            "type": "choropleth"
           }
          ],
          "contour": [
           {
            "colorbar": {
             "outlinewidth": 0,
             "ticks": ""
            },
            "colorscale": [
             [
              0,
              "#0d0887"
             ],
             [
              0.1111111111111111,
              "#46039f"
             ],
             [
              0.2222222222222222,
              "#7201a8"
             ],
             [
              0.3333333333333333,
              "#9c179e"
             ],
             [
              0.4444444444444444,
              "#bd3786"
             ],
             [
              0.5555555555555556,
              "#d8576b"
             ],
             [
              0.6666666666666666,
              "#ed7953"
             ],
             [
              0.7777777777777778,
              "#fb9f3a"
             ],
             [
              0.8888888888888888,
              "#fdca26"
             ],
             [
              1,
              "#f0f921"
             ]
            ],
            "type": "contour"
           }
          ],
          "contourcarpet": [
           {
            "colorbar": {
             "outlinewidth": 0,
             "ticks": ""
            },
            "type": "contourcarpet"
           }
          ],
          "heatmap": [
           {
            "colorbar": {
             "outlinewidth": 0,
             "ticks": ""
            },
            "colorscale": [
             [
              0,
              "#0d0887"
             ],
             [
              0.1111111111111111,
              "#46039f"
             ],
             [
              0.2222222222222222,
              "#7201a8"
             ],
             [
              0.3333333333333333,
              "#9c179e"
             ],
             [
              0.4444444444444444,
              "#bd3786"
             ],
             [
              0.5555555555555556,
              "#d8576b"
             ],
             [
              0.6666666666666666,
              "#ed7953"
             ],
             [
              0.7777777777777778,
              "#fb9f3a"
             ],
             [
              0.8888888888888888,
              "#fdca26"
             ],
             [
              1,
              "#f0f921"
             ]
            ],
            "type": "heatmap"
           }
          ],
          "heatmapgl": [
           {
            "colorbar": {
             "outlinewidth": 0,
             "ticks": ""
            },
            "colorscale": [
             [
              0,
              "#0d0887"
             ],
             [
              0.1111111111111111,
              "#46039f"
             ],
             [
              0.2222222222222222,
              "#7201a8"
             ],
             [
              0.3333333333333333,
              "#9c179e"
             ],
             [
              0.4444444444444444,
              "#bd3786"
             ],
             [
              0.5555555555555556,
              "#d8576b"
             ],
             [
              0.6666666666666666,
              "#ed7953"
             ],
             [
              0.7777777777777778,
              "#fb9f3a"
             ],
             [
              0.8888888888888888,
              "#fdca26"
             ],
             [
              1,
              "#f0f921"
             ]
            ],
            "type": "heatmapgl"
           }
          ],
          "histogram": [
           {
            "marker": {
             "pattern": {
              "fillmode": "overlay",
              "size": 10,
              "solidity": 0.2
             }
            },
            "type": "histogram"
           }
          ],
          "histogram2d": [
           {
            "colorbar": {
             "outlinewidth": 0,
             "ticks": ""
            },
            "colorscale": [
             [
              0,
              "#0d0887"
             ],
             [
              0.1111111111111111,
              "#46039f"
             ],
             [
              0.2222222222222222,
              "#7201a8"
             ],
             [
              0.3333333333333333,
              "#9c179e"
             ],
             [
              0.4444444444444444,
              "#bd3786"
             ],
             [
              0.5555555555555556,
              "#d8576b"
             ],
             [
              0.6666666666666666,
              "#ed7953"
             ],
             [
              0.7777777777777778,
              "#fb9f3a"
             ],
             [
              0.8888888888888888,
              "#fdca26"
             ],
             [
              1,
              "#f0f921"
             ]
            ],
            "type": "histogram2d"
           }
          ],
          "histogram2dcontour": [
           {
            "colorbar": {
             "outlinewidth": 0,
             "ticks": ""
            },
            "colorscale": [
             [
              0,
              "#0d0887"
             ],
             [
              0.1111111111111111,
              "#46039f"
             ],
             [
              0.2222222222222222,
              "#7201a8"
             ],
             [
              0.3333333333333333,
              "#9c179e"
             ],
             [
              0.4444444444444444,
              "#bd3786"
             ],
             [
              0.5555555555555556,
              "#d8576b"
             ],
             [
              0.6666666666666666,
              "#ed7953"
             ],
             [
              0.7777777777777778,
              "#fb9f3a"
             ],
             [
              0.8888888888888888,
              "#fdca26"
             ],
             [
              1,
              "#f0f921"
             ]
            ],
            "type": "histogram2dcontour"
           }
          ],
          "mesh3d": [
           {
            "colorbar": {
             "outlinewidth": 0,
             "ticks": ""
            },
            "type": "mesh3d"
           }
          ],
          "parcoords": [
           {
            "line": {
             "colorbar": {
              "outlinewidth": 0,
              "ticks": ""
             }
            },
            "type": "parcoords"
           }
          ],
          "pie": [
           {
            "automargin": true,
            "type": "pie"
           }
          ],
          "scatter": [
           {
            "fillpattern": {
             "fillmode": "overlay",
             "size": 10,
             "solidity": 0.2
            },
            "type": "scatter"
           }
          ],
          "scatter3d": [
           {
            "line": {
             "colorbar": {
              "outlinewidth": 0,
              "ticks": ""
             }
            },
            "marker": {
             "colorbar": {
              "outlinewidth": 0,
              "ticks": ""
             }
            },
            "type": "scatter3d"
           }
          ],
          "scattercarpet": [
           {
            "marker": {
             "colorbar": {
              "outlinewidth": 0,
              "ticks": ""
             }
            },
            "type": "scattercarpet"
           }
          ],
          "scattergeo": [
           {
            "marker": {
             "colorbar": {
              "outlinewidth": 0,
              "ticks": ""
             }
            },
            "type": "scattergeo"
           }
          ],
          "scattergl": [
           {
            "marker": {
             "colorbar": {
              "outlinewidth": 0,
              "ticks": ""
             }
            },
            "type": "scattergl"
           }
          ],
          "scattermapbox": [
           {
            "marker": {
             "colorbar": {
              "outlinewidth": 0,
              "ticks": ""
             }
            },
            "type": "scattermapbox"
           }
          ],
          "scatterpolar": [
           {
            "marker": {
             "colorbar": {
              "outlinewidth": 0,
              "ticks": ""
             }
            },
            "type": "scatterpolar"
           }
          ],
          "scatterpolargl": [
           {
            "marker": {
             "colorbar": {
              "outlinewidth": 0,
              "ticks": ""
             }
            },
            "type": "scatterpolargl"
           }
          ],
          "scatterternary": [
           {
            "marker": {
             "colorbar": {
              "outlinewidth": 0,
              "ticks": ""
             }
            },
            "type": "scatterternary"
           }
          ],
          "surface": [
           {
            "colorbar": {
             "outlinewidth": 0,
             "ticks": ""
            },
            "colorscale": [
             [
              0,
              "#0d0887"
             ],
             [
              0.1111111111111111,
              "#46039f"
             ],
             [
              0.2222222222222222,
              "#7201a8"
             ],
             [
              0.3333333333333333,
              "#9c179e"
             ],
             [
              0.4444444444444444,
              "#bd3786"
             ],
             [
              0.5555555555555556,
              "#d8576b"
             ],
             [
              0.6666666666666666,
              "#ed7953"
             ],
             [
              0.7777777777777778,
              "#fb9f3a"
             ],
             [
              0.8888888888888888,
              "#fdca26"
             ],
             [
              1,
              "#f0f921"
             ]
            ],
            "type": "surface"
           }
          ],
          "table": [
           {
            "cells": {
             "fill": {
              "color": "#EBF0F8"
             },
             "line": {
              "color": "white"
             }
            },
            "header": {
             "fill": {
              "color": "#C8D4E3"
             },
             "line": {
              "color": "white"
             }
            },
            "type": "table"
           }
          ]
         },
         "layout": {
          "annotationdefaults": {
           "arrowcolor": "#2a3f5f",
           "arrowhead": 0,
           "arrowwidth": 1
          },
          "autotypenumbers": "strict",
          "coloraxis": {
           "colorbar": {
            "outlinewidth": 0,
            "ticks": ""
           }
          },
          "colorscale": {
           "diverging": [
            [
             0,
             "#8e0152"
            ],
            [
             0.1,
             "#c51b7d"
            ],
            [
             0.2,
             "#de77ae"
            ],
            [
             0.3,
             "#f1b6da"
            ],
            [
             0.4,
             "#fde0ef"
            ],
            [
             0.5,
             "#f7f7f7"
            ],
            [
             0.6,
             "#e6f5d0"
            ],
            [
             0.7,
             "#b8e186"
            ],
            [
             0.8,
             "#7fbc41"
            ],
            [
             0.9,
             "#4d9221"
            ],
            [
             1,
             "#276419"
            ]
           ],
           "sequential": [
            [
             0,
             "#0d0887"
            ],
            [
             0.1111111111111111,
             "#46039f"
            ],
            [
             0.2222222222222222,
             "#7201a8"
            ],
            [
             0.3333333333333333,
             "#9c179e"
            ],
            [
             0.4444444444444444,
             "#bd3786"
            ],
            [
             0.5555555555555556,
             "#d8576b"
            ],
            [
             0.6666666666666666,
             "#ed7953"
            ],
            [
             0.7777777777777778,
             "#fb9f3a"
            ],
            [
             0.8888888888888888,
             "#fdca26"
            ],
            [
             1,
             "#f0f921"
            ]
           ],
           "sequentialminus": [
            [
             0,
             "#0d0887"
            ],
            [
             0.1111111111111111,
             "#46039f"
            ],
            [
             0.2222222222222222,
             "#7201a8"
            ],
            [
             0.3333333333333333,
             "#9c179e"
            ],
            [
             0.4444444444444444,
             "#bd3786"
            ],
            [
             0.5555555555555556,
             "#d8576b"
            ],
            [
             0.6666666666666666,
             "#ed7953"
            ],
            [
             0.7777777777777778,
             "#fb9f3a"
            ],
            [
             0.8888888888888888,
             "#fdca26"
            ],
            [
             1,
             "#f0f921"
            ]
           ]
          },
          "colorway": [
           "#636efa",
           "#EF553B",
           "#00cc96",
           "#ab63fa",
           "#FFA15A",
           "#19d3f3",
           "#FF6692",
           "#B6E880",
           "#FF97FF",
           "#FECB52"
          ],
          "font": {
           "color": "#2a3f5f"
          },
          "geo": {
           "bgcolor": "white",
           "lakecolor": "white",
           "landcolor": "#E5ECF6",
           "showlakes": true,
           "showland": true,
           "subunitcolor": "white"
          },
          "hoverlabel": {
           "align": "left"
          },
          "hovermode": "closest",
          "mapbox": {
           "style": "light"
          },
          "paper_bgcolor": "white",
          "plot_bgcolor": "#E5ECF6",
          "polar": {
           "angularaxis": {
            "gridcolor": "white",
            "linecolor": "white",
            "ticks": ""
           },
           "bgcolor": "#E5ECF6",
           "radialaxis": {
            "gridcolor": "white",
            "linecolor": "white",
            "ticks": ""
           }
          },
          "scene": {
           "xaxis": {
            "backgroundcolor": "#E5ECF6",
            "gridcolor": "white",
            "gridwidth": 2,
            "linecolor": "white",
            "showbackground": true,
            "ticks": "",
            "zerolinecolor": "white"
           },
           "yaxis": {
            "backgroundcolor": "#E5ECF6",
            "gridcolor": "white",
            "gridwidth": 2,
            "linecolor": "white",
            "showbackground": true,
            "ticks": "",
            "zerolinecolor": "white"
           },
           "zaxis": {
            "backgroundcolor": "#E5ECF6",
            "gridcolor": "white",
            "gridwidth": 2,
            "linecolor": "white",
            "showbackground": true,
            "ticks": "",
            "zerolinecolor": "white"
           }
          },
          "shapedefaults": {
           "line": {
            "color": "#2a3f5f"
           }
          },
          "ternary": {
           "aaxis": {
            "gridcolor": "white",
            "linecolor": "white",
            "ticks": ""
           },
           "baxis": {
            "gridcolor": "white",
            "linecolor": "white",
            "ticks": ""
           },
           "bgcolor": "#E5ECF6",
           "caxis": {
            "gridcolor": "white",
            "linecolor": "white",
            "ticks": ""
           }
          },
          "title": {
           "x": 0.05
          },
          "xaxis": {
           "automargin": true,
           "gridcolor": "white",
           "linecolor": "white",
           "ticks": "",
           "title": {
            "standoff": 15
           },
           "zerolinecolor": "white",
           "zerolinewidth": 2
          },
          "yaxis": {
           "automargin": true,
           "gridcolor": "white",
           "linecolor": "white",
           "ticks": "",
           "title": {
            "standoff": 15
           },
           "zerolinecolor": "white",
           "zerolinewidth": 2
          }
         }
        },
        "title": {
         "font": {
          "color": "#4D5663"
         }
        },
        "xaxis": {
         "gridcolor": "#E1E5ED",
         "showgrid": true,
         "tickfont": {
          "color": "#4D5663"
         },
         "title": {
          "font": {
           "color": "#4D5663"
          },
          "text": ""
         },
         "zerolinecolor": "#E1E5ED"
        },
        "yaxis": {
         "gridcolor": "#E1E5ED",
         "showgrid": true,
         "tickfont": {
          "color": "#4D5663"
         },
         "title": {
          "font": {
           "color": "#4D5663"
          },
          "text": ""
         },
         "zerolinecolor": "#E1E5ED"
        }
       }
      },
      "text/html": [
       "<div>                            <div id=\"6cc57777-7281-4926-a872-9f2806942036\" class=\"plotly-graph-div\" style=\"height:525px; width:100%;\"></div>            <script type=\"text/javascript\">                require([\"plotly\"], function(Plotly) {                    window.PLOTLYENV=window.PLOTLYENV || {};\n",
       "                    window.PLOTLYENV.BASE_URL='https://plot.ly';                                    if (document.getElementById(\"6cc57777-7281-4926-a872-9f2806942036\")) {                    Plotly.newPlot(                        \"6cc57777-7281-4926-a872-9f2806942036\",                        [{\"line\":{\"color\":\"rgba(255, 153, 51, 1.0)\",\"dash\":\"solid\",\"shape\":\"linear\",\"width\":1.3},\"mode\":\"lines\",\"name\":\"A\",\"text\":\"\",\"x\":[0,1,2,3,4,5,6,7,8,9,10,11,12,13,14,15,16,17,18,19,20,21,22,23,24,25,26,27,28,29,30,31,32,33,34,35,36,37,38,39,40,41,42,43,44,45,46,47,48,49,50,51,52,53,54,55,56,57,58,59,60,61,62,63,64,65,66,67,68,69,70,71,72,73,74,75,76,77,78,79,80,81,82,83,84,85,86,87,88,89,90,91,92,93,94,95,96,97,98,99],\"y\":[-1.1024981471016053,0.45532653178486426,0.40391046008714476,-0.2809970042901508,0.7989989325364689,1.0832583953209949,-1.234209784210434,0.3224994409690922,-0.3242087708237595,-0.1284653156020744,-0.7552748291440724,0.8184288968726566,0.5422845891231438,0.10789901010090519,-0.32139817008019994,-0.7963759333281335,-0.39037680946255826,-2.2655403217214696,0.5167189806038817,1.0311119027127906,-0.7280729939339882,2.2399138984961033,-1.2752392088928555,-0.5378918136584961,2.0295510309720433,0.23191793912741354,-0.7489274861749667,0.1804315695573513,-1.076899175942572,0.1480646205053287,-2.067689597756462,-0.6242648055288316,1.9205984896737025,-0.6626634145557857,0.43755162941932596,-0.08301825934472241,1.6979277445032026,1.3214093229538189,-0.5063299960070593,-0.0634250885800641,1.5099246615970119,-0.06181082497718354,-0.3409827236091026,-0.33324862190788684,1.500014889723033,-1.5918283819078909,0.1436883889894132,1.5756106661076734,-0.32506572639260684,0.37798144298626746,0.46348546666861756,-2.051188827144377,-1.0172458205234336,-0.5070704946445844,-0.8478731955080303,-0.2334924377631749,0.19262355458803307,-1.3003949447844079,-0.9149035966488548,0.8229650720355511,1.3006243742931636,-0.4126201075864305,-0.6711296866905244,-0.4405250418337267,-0.5651290513169568,1.0196385357067541,0.5877685488555959,-0.3945490445285969,0.8054155111464418,-1.0217863363909698,0.46049889877191597,0.57181539365208,-0.8625271604108457,-0.46000004554287016,0.02716586732277476,0.6816588980785862,-0.4668112307509774,0.25228987992077717,0.8669165806315857,0.847033573383717,-1.3863133841285744,-0.01553686633329219,-0.2740973426119702,0.043616214784867754,-2.1647128799946276,-0.05182135785862414,-1.384645553366656,0.4027841869433865,0.11479059202803563,0.3819374624127815,0.22205933188988886,0.9355340173488559,-0.2765941836604982,0.954866972229284,1.073857686349574,-1.1885752619110412,0.28988033179079464,0.8151597284421718,-0.9941872219563699,1.5368506591655258],\"type\":\"scatter\"},{\"line\":{\"color\":\"rgba(55, 128, 191, 1.0)\",\"dash\":\"solid\",\"shape\":\"linear\",\"width\":1.3},\"mode\":\"lines\",\"name\":\"B\",\"text\":\"\",\"x\":[0,1,2,3,4,5,6,7,8,9,10,11,12,13,14,15,16,17,18,19,20,21,22,23,24,25,26,27,28,29,30,31,32,33,34,35,36,37,38,39,40,41,42,43,44,45,46,47,48,49,50,51,52,53,54,55,56,57,58,59,60,61,62,63,64,65,66,67,68,69,70,71,72,73,74,75,76,77,78,79,80,81,82,83,84,85,86,87,88,89,90,91,92,93,94,95,96,97,98,99],\"y\":[-0.8713196634022675,-1.767211174819314,-1.0350908487091959,-0.08072812492485895,-1.1951142174006553,-1.8471571622199414,1.8801067041568933,-1.1058767571189025,0.40937518520839133,0.5074882970638703,-0.9099081392282109,-0.23390168778098436,1.3793033998833388,-0.03876003474237771,1.38539784508653,0.8040467182086181,-1.9859688198263412,1.4318814602300922,0.2856696833736994,-0.02734422820736344,2.2604852635308466,0.3437984522726635,-1.6199777026322286,-1.6252434641567413,0.819414661012346,0.8718682984632122,-0.9577172169711519,0.26839737955878556,1.3259952049003743,-0.5112436727714154,1.5282438868112913,0.46111855997757906,0.5103298218556396,-1.6594959487403262,0.5897407100948779,-0.0702770913251112,2.145076222618863,-0.3302738874863218,1.7954077585596733,-0.32578556653973817,0.8364388798723189,0.22696433098098545,-0.8327353257833802,-1.015031002671774,0.37786457003176177,-0.8097117301574803,-0.9985378053285431,0.5203569062543102,0.4818184236235761,-0.8441091152069875,1.2708165965970095,-0.70334138878969,1.0694277546339286,0.6254820710794478,-0.009766599509518017,0.10566623768884706,-0.38865979307592985,-0.4287810605985193,-0.3739451959228925,-0.9145143264683828,2.625130148137943,0.2778968503855602,0.9934389776868553,-0.9072450113031999,0.5210933674015816,0.0830080569450399,0.14620986056202875,-0.4516254448680814,1.1997048520705935,-0.45206800531489205,1.0943552757896906,0.9640478674870745,-1.6536100269234513,0.101149502791871,-0.4152232250614539,0.6152742885080315,0.2106406522997461,0.0019031646346197241,0.602635626247644,-1.715601158322781,0.5628710900741206,-0.1294924891033397,-0.6355075840796094,1.2649381157969501,0.02498520572713563,0.5104545781590395,-0.5702951302023916,1.7309202655032256,1.2879164184864185,-0.36438719814264675,0.2745117757241402,-0.07135501369983091,-0.10594911360867416,0.2004243601221823,0.5662466524036643,0.4151771166224692,2.0414607940726452,0.3982025407248406,-1.2995806760810338,0.982890176174143],\"type\":\"scatter\"},{\"line\":{\"color\":\"rgba(50, 171, 96, 1.0)\",\"dash\":\"solid\",\"shape\":\"linear\",\"width\":1.3},\"mode\":\"lines\",\"name\":\"C\",\"text\":\"\",\"x\":[0,1,2,3,4,5,6,7,8,9,10,11,12,13,14,15,16,17,18,19,20,21,22,23,24,25,26,27,28,29,30,31,32,33,34,35,36,37,38,39,40,41,42,43,44,45,46,47,48,49,50,51,52,53,54,55,56,57,58,59,60,61,62,63,64,65,66,67,68,69,70,71,72,73,74,75,76,77,78,79,80,81,82,83,84,85,86,87,88,89,90,91,92,93,94,95,96,97,98,99],\"y\":[-0.23191483467728796,0.22996169982911116,0.37235644215290814,-0.18317934630443627,0.030269596121248386,0.2377912009439052,-0.4635781052161619,-1.113826422851541,-0.4640499369179566,0.0862418242527444,-0.17526457764388662,-1.2394707131388767,1.1378268189836096,1.1227212390740267,0.8469162696258059,-0.2352349772821939,0.1966858786059231,-0.2933140386799466,-0.30688059116922967,-0.4821681732345493,-0.27745071051604725,-1.1243501531182385,0.057655680779404216,0.45004825152232597,-0.6431969695826352,1.8043144586142832,0.5335382114718625,-0.558890544540614,-1.0720048033208915,-0.941563266309427,0.348237899267876,1.1705473551597216,-0.8353913555607797,-0.857665180470015,-0.34313815056146535,-0.6405363663505411,-0.005708929644882179,-1.0129631575850104,0.5779718783951365,-1.0519358973969024,0.5136347490696667,-1.2979934398788073,0.5349053270524682,2.357078440371061,0.7469704623104282,-0.7512300212264496,-0.0676600767370751,1.1717868904695523,0.056014652083291414,1.9067085542207205,0.22696914256599662,-1.0227464786175227,-0.3662894960812538,-1.069064556566524,0.5477192163632087,0.38967752312019927,-0.30929610039500577,1.3586255897880464,1.5695745260088578,-0.440786731303405,-1.0467786473869678,-0.6406050565135507,1.2910836005523305,-0.11894889194832031,-1.0179449928368667,1.3447998121960456,0.14512180959110263,-1.227725683384825,1.4371215964566564,-0.0031341668208622908,-0.5576920364414308,-0.38328672961847204,0.026830990387689723,-0.8382448805596847,0.8827979098248043,1.5898469507164932,2.604205368168547,0.8892144723017181,-0.07378398071441221,0.4267291792279438,0.8950635767904128,0.3922940160616898,-0.0851112683431683,-0.6736568562098894,-0.43538967839927634,-0.6678661489181582,0.4674966404566777,1.3041628300440022,-1.9223632355127063,-0.6824825992913708,-0.7251925773027719,0.8406610583174904,0.6198675777100461,1.2865116834532744,-1.6841263181861676,0.3858325516026786,-0.31831457953920045,0.9298675048241788,0.08512501033433308,0.5944382814004443],\"type\":\"scatter\"},{\"line\":{\"color\":\"rgba(128, 0, 128, 1.0)\",\"dash\":\"solid\",\"shape\":\"linear\",\"width\":1.3},\"mode\":\"lines\",\"name\":\"D\",\"text\":\"\",\"x\":[0,1,2,3,4,5,6,7,8,9,10,11,12,13,14,15,16,17,18,19,20,21,22,23,24,25,26,27,28,29,30,31,32,33,34,35,36,37,38,39,40,41,42,43,44,45,46,47,48,49,50,51,52,53,54,55,56,57,58,59,60,61,62,63,64,65,66,67,68,69,70,71,72,73,74,75,76,77,78,79,80,81,82,83,84,85,86,87,88,89,90,91,92,93,94,95,96,97,98,99],\"y\":[1.7420011505283355,-0.21407790210814454,-0.8346995928206267,0.3572143263372206,-0.44861423493977404,-1.6081212330874752,0.801690734912549,-0.6109376576801621,2.1373076535109092,-0.3895897715840815,0.49813442940114483,0.9759970066716024,-0.7932651994978115,0.6835870707382509,-0.3274394480942042,1.8709656860865775,0.3111020957103798,-0.7509733514305589,0.70735198442484,-2.0380165731831723,-0.2268007663096546,-0.1570710863874976,-0.043925259267604065,1.2132826148806004,-0.35116309161963677,-0.22222779417501082,-0.4744366412490772,0.9675082903553129,0.117057975512573,1.3648150969859354,-0.44309217680230667,-0.2426589005323525,0.6386264583219761,-0.8332164875365083,-0.44728663182657197,-0.02280652878873671,2.225828052114822,-0.14800113052807606,0.6406805425970652,-1.1344693137474502,-1.0701856529498481,-1.0291026082395422,1.439390319110055,0.7584810547627114,0.5888102171302606,0.2724300812740993,0.43539688823221795,0.47801130939445824,0.7306479076541726,0.7096123064838874,0.38797045860083834,0.6450237570733347,-1.6733767642736335,-0.18122074197359497,-0.10116934075473873,0.903652841960548,-1.1081023040397295,0.6399902629524633,0.7793730919102405,0.875387486712953,1.044674558695237,-0.4871528085047099,-0.6143593693157811,0.21228328709304328,-1.4146000066232995,-1.7253060336527681,0.7433283324848287,0.0627648959382127,-1.0410361166019233,-1.0179539366545063,-0.12346745371218192,-0.19861250276447442,-1.2928778298316919,-0.39586307865963055,-0.7406276396929118,0.639801665969883,1.5466490194149656,-2.25710586595814,0.025727214192610162,-1.3997758024249467,0.6293336997602994,0.5524935217565039,2.3874015597003724,-0.39471117140079154,-1.3953941132202565,0.40979403089478883,-0.23403208703945236,-1.5492736810458847,-2.80725233529573,-0.4855463561126437,1.9368340138661833,0.007857349331967686,-0.8882755436060508,-1.6353969003568276,-1.3308136151465673,-0.5024940855850913,-0.09574033787558964,1.876487667138215,-1.4315406749059392,-0.14243853343481255],\"type\":\"scatter\"}],                        {\"legend\":{\"bgcolor\":\"#F5F6F9\",\"font\":{\"color\":\"#4D5663\"}},\"paper_bgcolor\":\"#F5F6F9\",\"plot_bgcolor\":\"#F5F6F9\",\"template\":{\"data\":{\"barpolar\":[{\"marker\":{\"line\":{\"color\":\"#E5ECF6\",\"width\":0.5},\"pattern\":{\"fillmode\":\"overlay\",\"size\":10,\"solidity\":0.2}},\"type\":\"barpolar\"}],\"bar\":[{\"error_x\":{\"color\":\"#2a3f5f\"},\"error_y\":{\"color\":\"#2a3f5f\"},\"marker\":{\"line\":{\"color\":\"#E5ECF6\",\"width\":0.5},\"pattern\":{\"fillmode\":\"overlay\",\"size\":10,\"solidity\":0.2}},\"type\":\"bar\"}],\"carpet\":[{\"aaxis\":{\"endlinecolor\":\"#2a3f5f\",\"gridcolor\":\"white\",\"linecolor\":\"white\",\"minorgridcolor\":\"white\",\"startlinecolor\":\"#2a3f5f\"},\"baxis\":{\"endlinecolor\":\"#2a3f5f\",\"gridcolor\":\"white\",\"linecolor\":\"white\",\"minorgridcolor\":\"white\",\"startlinecolor\":\"#2a3f5f\"},\"type\":\"carpet\"}],\"choropleth\":[{\"colorbar\":{\"outlinewidth\":0,\"ticks\":\"\"},\"type\":\"choropleth\"}],\"contourcarpet\":[{\"colorbar\":{\"outlinewidth\":0,\"ticks\":\"\"},\"type\":\"contourcarpet\"}],\"contour\":[{\"colorbar\":{\"outlinewidth\":0,\"ticks\":\"\"},\"colorscale\":[[0.0,\"#0d0887\"],[0.1111111111111111,\"#46039f\"],[0.2222222222222222,\"#7201a8\"],[0.3333333333333333,\"#9c179e\"],[0.4444444444444444,\"#bd3786\"],[0.5555555555555556,\"#d8576b\"],[0.6666666666666666,\"#ed7953\"],[0.7777777777777778,\"#fb9f3a\"],[0.8888888888888888,\"#fdca26\"],[1.0,\"#f0f921\"]],\"type\":\"contour\"}],\"heatmapgl\":[{\"colorbar\":{\"outlinewidth\":0,\"ticks\":\"\"},\"colorscale\":[[0.0,\"#0d0887\"],[0.1111111111111111,\"#46039f\"],[0.2222222222222222,\"#7201a8\"],[0.3333333333333333,\"#9c179e\"],[0.4444444444444444,\"#bd3786\"],[0.5555555555555556,\"#d8576b\"],[0.6666666666666666,\"#ed7953\"],[0.7777777777777778,\"#fb9f3a\"],[0.8888888888888888,\"#fdca26\"],[1.0,\"#f0f921\"]],\"type\":\"heatmapgl\"}],\"heatmap\":[{\"colorbar\":{\"outlinewidth\":0,\"ticks\":\"\"},\"colorscale\":[[0.0,\"#0d0887\"],[0.1111111111111111,\"#46039f\"],[0.2222222222222222,\"#7201a8\"],[0.3333333333333333,\"#9c179e\"],[0.4444444444444444,\"#bd3786\"],[0.5555555555555556,\"#d8576b\"],[0.6666666666666666,\"#ed7953\"],[0.7777777777777778,\"#fb9f3a\"],[0.8888888888888888,\"#fdca26\"],[1.0,\"#f0f921\"]],\"type\":\"heatmap\"}],\"histogram2dcontour\":[{\"colorbar\":{\"outlinewidth\":0,\"ticks\":\"\"},\"colorscale\":[[0.0,\"#0d0887\"],[0.1111111111111111,\"#46039f\"],[0.2222222222222222,\"#7201a8\"],[0.3333333333333333,\"#9c179e\"],[0.4444444444444444,\"#bd3786\"],[0.5555555555555556,\"#d8576b\"],[0.6666666666666666,\"#ed7953\"],[0.7777777777777778,\"#fb9f3a\"],[0.8888888888888888,\"#fdca26\"],[1.0,\"#f0f921\"]],\"type\":\"histogram2dcontour\"}],\"histogram2d\":[{\"colorbar\":{\"outlinewidth\":0,\"ticks\":\"\"},\"colorscale\":[[0.0,\"#0d0887\"],[0.1111111111111111,\"#46039f\"],[0.2222222222222222,\"#7201a8\"],[0.3333333333333333,\"#9c179e\"],[0.4444444444444444,\"#bd3786\"],[0.5555555555555556,\"#d8576b\"],[0.6666666666666666,\"#ed7953\"],[0.7777777777777778,\"#fb9f3a\"],[0.8888888888888888,\"#fdca26\"],[1.0,\"#f0f921\"]],\"type\":\"histogram2d\"}],\"histogram\":[{\"marker\":{\"pattern\":{\"fillmode\":\"overlay\",\"size\":10,\"solidity\":0.2}},\"type\":\"histogram\"}],\"mesh3d\":[{\"colorbar\":{\"outlinewidth\":0,\"ticks\":\"\"},\"type\":\"mesh3d\"}],\"parcoords\":[{\"line\":{\"colorbar\":{\"outlinewidth\":0,\"ticks\":\"\"}},\"type\":\"parcoords\"}],\"pie\":[{\"automargin\":true,\"type\":\"pie\"}],\"scatter3d\":[{\"line\":{\"colorbar\":{\"outlinewidth\":0,\"ticks\":\"\"}},\"marker\":{\"colorbar\":{\"outlinewidth\":0,\"ticks\":\"\"}},\"type\":\"scatter3d\"}],\"scattercarpet\":[{\"marker\":{\"colorbar\":{\"outlinewidth\":0,\"ticks\":\"\"}},\"type\":\"scattercarpet\"}],\"scattergeo\":[{\"marker\":{\"colorbar\":{\"outlinewidth\":0,\"ticks\":\"\"}},\"type\":\"scattergeo\"}],\"scattergl\":[{\"marker\":{\"colorbar\":{\"outlinewidth\":0,\"ticks\":\"\"}},\"type\":\"scattergl\"}],\"scattermapbox\":[{\"marker\":{\"colorbar\":{\"outlinewidth\":0,\"ticks\":\"\"}},\"type\":\"scattermapbox\"}],\"scatterpolargl\":[{\"marker\":{\"colorbar\":{\"outlinewidth\":0,\"ticks\":\"\"}},\"type\":\"scatterpolargl\"}],\"scatterpolar\":[{\"marker\":{\"colorbar\":{\"outlinewidth\":0,\"ticks\":\"\"}},\"type\":\"scatterpolar\"}],\"scatter\":[{\"fillpattern\":{\"fillmode\":\"overlay\",\"size\":10,\"solidity\":0.2},\"type\":\"scatter\"}],\"scatterternary\":[{\"marker\":{\"colorbar\":{\"outlinewidth\":0,\"ticks\":\"\"}},\"type\":\"scatterternary\"}],\"surface\":[{\"colorbar\":{\"outlinewidth\":0,\"ticks\":\"\"},\"colorscale\":[[0.0,\"#0d0887\"],[0.1111111111111111,\"#46039f\"],[0.2222222222222222,\"#7201a8\"],[0.3333333333333333,\"#9c179e\"],[0.4444444444444444,\"#bd3786\"],[0.5555555555555556,\"#d8576b\"],[0.6666666666666666,\"#ed7953\"],[0.7777777777777778,\"#fb9f3a\"],[0.8888888888888888,\"#fdca26\"],[1.0,\"#f0f921\"]],\"type\":\"surface\"}],\"table\":[{\"cells\":{\"fill\":{\"color\":\"#EBF0F8\"},\"line\":{\"color\":\"white\"}},\"header\":{\"fill\":{\"color\":\"#C8D4E3\"},\"line\":{\"color\":\"white\"}},\"type\":\"table\"}]},\"layout\":{\"annotationdefaults\":{\"arrowcolor\":\"#2a3f5f\",\"arrowhead\":0,\"arrowwidth\":1},\"autotypenumbers\":\"strict\",\"coloraxis\":{\"colorbar\":{\"outlinewidth\":0,\"ticks\":\"\"}},\"colorscale\":{\"diverging\":[[0,\"#8e0152\"],[0.1,\"#c51b7d\"],[0.2,\"#de77ae\"],[0.3,\"#f1b6da\"],[0.4,\"#fde0ef\"],[0.5,\"#f7f7f7\"],[0.6,\"#e6f5d0\"],[0.7,\"#b8e186\"],[0.8,\"#7fbc41\"],[0.9,\"#4d9221\"],[1,\"#276419\"]],\"sequential\":[[0.0,\"#0d0887\"],[0.1111111111111111,\"#46039f\"],[0.2222222222222222,\"#7201a8\"],[0.3333333333333333,\"#9c179e\"],[0.4444444444444444,\"#bd3786\"],[0.5555555555555556,\"#d8576b\"],[0.6666666666666666,\"#ed7953\"],[0.7777777777777778,\"#fb9f3a\"],[0.8888888888888888,\"#fdca26\"],[1.0,\"#f0f921\"]],\"sequentialminus\":[[0.0,\"#0d0887\"],[0.1111111111111111,\"#46039f\"],[0.2222222222222222,\"#7201a8\"],[0.3333333333333333,\"#9c179e\"],[0.4444444444444444,\"#bd3786\"],[0.5555555555555556,\"#d8576b\"],[0.6666666666666666,\"#ed7953\"],[0.7777777777777778,\"#fb9f3a\"],[0.8888888888888888,\"#fdca26\"],[1.0,\"#f0f921\"]]},\"colorway\":[\"#636efa\",\"#EF553B\",\"#00cc96\",\"#ab63fa\",\"#FFA15A\",\"#19d3f3\",\"#FF6692\",\"#B6E880\",\"#FF97FF\",\"#FECB52\"],\"font\":{\"color\":\"#2a3f5f\"},\"geo\":{\"bgcolor\":\"white\",\"lakecolor\":\"white\",\"landcolor\":\"#E5ECF6\",\"showlakes\":true,\"showland\":true,\"subunitcolor\":\"white\"},\"hoverlabel\":{\"align\":\"left\"},\"hovermode\":\"closest\",\"mapbox\":{\"style\":\"light\"},\"paper_bgcolor\":\"white\",\"plot_bgcolor\":\"#E5ECF6\",\"polar\":{\"angularaxis\":{\"gridcolor\":\"white\",\"linecolor\":\"white\",\"ticks\":\"\"},\"bgcolor\":\"#E5ECF6\",\"radialaxis\":{\"gridcolor\":\"white\",\"linecolor\":\"white\",\"ticks\":\"\"}},\"scene\":{\"xaxis\":{\"backgroundcolor\":\"#E5ECF6\",\"gridcolor\":\"white\",\"gridwidth\":2,\"linecolor\":\"white\",\"showbackground\":true,\"ticks\":\"\",\"zerolinecolor\":\"white\"},\"yaxis\":{\"backgroundcolor\":\"#E5ECF6\",\"gridcolor\":\"white\",\"gridwidth\":2,\"linecolor\":\"white\",\"showbackground\":true,\"ticks\":\"\",\"zerolinecolor\":\"white\"},\"zaxis\":{\"backgroundcolor\":\"#E5ECF6\",\"gridcolor\":\"white\",\"gridwidth\":2,\"linecolor\":\"white\",\"showbackground\":true,\"ticks\":\"\",\"zerolinecolor\":\"white\"}},\"shapedefaults\":{\"line\":{\"color\":\"#2a3f5f\"}},\"ternary\":{\"aaxis\":{\"gridcolor\":\"white\",\"linecolor\":\"white\",\"ticks\":\"\"},\"baxis\":{\"gridcolor\":\"white\",\"linecolor\":\"white\",\"ticks\":\"\"},\"bgcolor\":\"#E5ECF6\",\"caxis\":{\"gridcolor\":\"white\",\"linecolor\":\"white\",\"ticks\":\"\"}},\"title\":{\"x\":0.05},\"xaxis\":{\"automargin\":true,\"gridcolor\":\"white\",\"linecolor\":\"white\",\"ticks\":\"\",\"title\":{\"standoff\":15},\"zerolinecolor\":\"white\",\"zerolinewidth\":2},\"yaxis\":{\"automargin\":true,\"gridcolor\":\"white\",\"linecolor\":\"white\",\"ticks\":\"\",\"title\":{\"standoff\":15},\"zerolinecolor\":\"white\",\"zerolinewidth\":2}}},\"title\":{\"font\":{\"color\":\"#4D5663\"}},\"xaxis\":{\"gridcolor\":\"#E1E5ED\",\"showgrid\":true,\"tickfont\":{\"color\":\"#4D5663\"},\"title\":{\"font\":{\"color\":\"#4D5663\"},\"text\":\"\"},\"zerolinecolor\":\"#E1E5ED\"},\"yaxis\":{\"gridcolor\":\"#E1E5ED\",\"showgrid\":true,\"tickfont\":{\"color\":\"#4D5663\"},\"title\":{\"font\":{\"color\":\"#4D5663\"},\"text\":\"\"},\"zerolinecolor\":\"#E1E5ED\"}},                        {\"showLink\": true, \"linkText\": \"Export to plot.ly\", \"plotlyServerURL\": \"https://plot.ly\", \"responsive\": true}                    ).then(function(){\n",
       "                            \n",
       "var gd = document.getElementById('6cc57777-7281-4926-a872-9f2806942036');\n",
       "var x = new MutationObserver(function (mutations, observer) {{\n",
       "        var display = window.getComputedStyle(gd).display;\n",
       "        if (!display || display === 'none') {{\n",
       "            console.log([gd, 'removed!']);\n",
       "            Plotly.purge(gd);\n",
       "            observer.disconnect();\n",
       "        }}\n",
       "}});\n",
       "\n",
       "// Listen for the removal of the full notebook cells\n",
       "var notebookContainer = gd.closest('#notebook-container');\n",
       "if (notebookContainer) {{\n",
       "    x.observe(notebookContainer, {childList: true});\n",
       "}}\n",
       "\n",
       "// Listen for the clearing of the current output cell\n",
       "var outputEl = gd.closest('.output');\n",
       "if (outputEl) {{\n",
       "    x.observe(outputEl, {childList: true});\n",
       "}}\n",
       "\n",
       "                        })                };                });            </script>        </div>"
      ]
     },
     "metadata": {},
     "output_type": "display_data"
    }
   ],
   "source": [
    "df.iplot()"
   ]
  },
  {
   "cell_type": "code",
   "execution_count": 12,
   "metadata": {},
   "outputs": [
    {
     "data": {
      "application/vnd.plotly.v1+json": {
       "config": {
        "linkText": "Export to plot.ly",
        "plotlyServerURL": "https://plot.ly",
        "showLink": true
       },
       "data": [
        {
         "line": {
          "color": "rgba(255, 153, 51, 1.0)",
          "dash": "solid",
          "shape": "linear",
          "width": 1.3
         },
         "marker": {
          "size": 10,
          "symbol": "circle"
         },
         "mode": "markers",
         "name": "B",
         "text": "",
         "type": "scatter",
         "x": [
          -1.1024981471016053,
          0.45532653178486426,
          0.40391046008714476,
          -0.2809970042901508,
          0.7989989325364689,
          1.0832583953209949,
          -1.234209784210434,
          0.3224994409690922,
          -0.3242087708237595,
          -0.1284653156020744,
          -0.7552748291440724,
          0.8184288968726566,
          0.5422845891231438,
          0.10789901010090519,
          -0.32139817008019994,
          -0.7963759333281335,
          -0.39037680946255826,
          -2.2655403217214696,
          0.5167189806038817,
          1.0311119027127906,
          -0.7280729939339882,
          2.2399138984961033,
          -1.2752392088928555,
          -0.5378918136584961,
          2.0295510309720433,
          0.23191793912741354,
          -0.7489274861749667,
          0.1804315695573513,
          -1.076899175942572,
          0.1480646205053287,
          -2.067689597756462,
          -0.6242648055288316,
          1.9205984896737025,
          -0.6626634145557857,
          0.43755162941932596,
          -0.08301825934472241,
          1.6979277445032026,
          1.3214093229538189,
          -0.5063299960070593,
          -0.0634250885800641,
          1.5099246615970119,
          -0.06181082497718354,
          -0.3409827236091026,
          -0.33324862190788684,
          1.500014889723033,
          -1.5918283819078909,
          0.1436883889894132,
          1.5756106661076734,
          -0.32506572639260684,
          0.37798144298626746,
          0.46348546666861756,
          -2.051188827144377,
          -1.0172458205234336,
          -0.5070704946445844,
          -0.8478731955080303,
          -0.2334924377631749,
          0.19262355458803307,
          -1.3003949447844079,
          -0.9149035966488548,
          0.8229650720355511,
          1.3006243742931636,
          -0.4126201075864305,
          -0.6711296866905244,
          -0.4405250418337267,
          -0.5651290513169568,
          1.0196385357067541,
          0.5877685488555959,
          -0.3945490445285969,
          0.8054155111464418,
          -1.0217863363909698,
          0.46049889877191597,
          0.57181539365208,
          -0.8625271604108457,
          -0.46000004554287016,
          0.02716586732277476,
          0.6816588980785862,
          -0.4668112307509774,
          0.25228987992077717,
          0.8669165806315857,
          0.847033573383717,
          -1.3863133841285744,
          -0.01553686633329219,
          -0.2740973426119702,
          0.043616214784867754,
          -2.1647128799946276,
          -0.05182135785862414,
          -1.384645553366656,
          0.4027841869433865,
          0.11479059202803563,
          0.3819374624127815,
          0.22205933188988886,
          0.9355340173488559,
          -0.2765941836604982,
          0.954866972229284,
          1.073857686349574,
          -1.1885752619110412,
          0.28988033179079464,
          0.8151597284421718,
          -0.9941872219563699,
          1.5368506591655258
         ],
         "y": [
          -0.8713196634022675,
          -1.767211174819314,
          -1.0350908487091959,
          -0.08072812492485895,
          -1.1951142174006553,
          -1.8471571622199414,
          1.8801067041568933,
          -1.1058767571189025,
          0.40937518520839133,
          0.5074882970638703,
          -0.9099081392282109,
          -0.23390168778098436,
          1.3793033998833388,
          -0.03876003474237771,
          1.38539784508653,
          0.8040467182086181,
          -1.9859688198263412,
          1.4318814602300922,
          0.2856696833736994,
          -0.02734422820736344,
          2.2604852635308466,
          0.3437984522726635,
          -1.6199777026322286,
          -1.6252434641567413,
          0.819414661012346,
          0.8718682984632122,
          -0.9577172169711519,
          0.26839737955878556,
          1.3259952049003743,
          -0.5112436727714154,
          1.5282438868112913,
          0.46111855997757906,
          0.5103298218556396,
          -1.6594959487403262,
          0.5897407100948779,
          -0.0702770913251112,
          2.145076222618863,
          -0.3302738874863218,
          1.7954077585596733,
          -0.32578556653973817,
          0.8364388798723189,
          0.22696433098098545,
          -0.8327353257833802,
          -1.015031002671774,
          0.37786457003176177,
          -0.8097117301574803,
          -0.9985378053285431,
          0.5203569062543102,
          0.4818184236235761,
          -0.8441091152069875,
          1.2708165965970095,
          -0.70334138878969,
          1.0694277546339286,
          0.6254820710794478,
          -0.009766599509518017,
          0.10566623768884706,
          -0.38865979307592985,
          -0.4287810605985193,
          -0.3739451959228925,
          -0.9145143264683828,
          2.625130148137943,
          0.2778968503855602,
          0.9934389776868553,
          -0.9072450113031999,
          0.5210933674015816,
          0.0830080569450399,
          0.14620986056202875,
          -0.4516254448680814,
          1.1997048520705935,
          -0.45206800531489205,
          1.0943552757896906,
          0.9640478674870745,
          -1.6536100269234513,
          0.101149502791871,
          -0.4152232250614539,
          0.6152742885080315,
          0.2106406522997461,
          0.0019031646346197241,
          0.602635626247644,
          -1.715601158322781,
          0.5628710900741206,
          -0.1294924891033397,
          -0.6355075840796094,
          1.2649381157969501,
          0.02498520572713563,
          0.5104545781590395,
          -0.5702951302023916,
          1.7309202655032256,
          1.2879164184864185,
          -0.36438719814264675,
          0.2745117757241402,
          -0.07135501369983091,
          -0.10594911360867416,
          0.2004243601221823,
          0.5662466524036643,
          0.4151771166224692,
          2.0414607940726452,
          0.3982025407248406,
          -1.2995806760810338,
          0.982890176174143
         ]
        }
       ],
       "layout": {
        "legend": {
         "bgcolor": "#F5F6F9",
         "font": {
          "color": "#4D5663"
         }
        },
        "paper_bgcolor": "#F5F6F9",
        "plot_bgcolor": "#F5F6F9",
        "template": {
         "data": {
          "bar": [
           {
            "error_x": {
             "color": "#2a3f5f"
            },
            "error_y": {
             "color": "#2a3f5f"
            },
            "marker": {
             "line": {
              "color": "#E5ECF6",
              "width": 0.5
             },
             "pattern": {
              "fillmode": "overlay",
              "size": 10,
              "solidity": 0.2
             }
            },
            "type": "bar"
           }
          ],
          "barpolar": [
           {
            "marker": {
             "line": {
              "color": "#E5ECF6",
              "width": 0.5
             },
             "pattern": {
              "fillmode": "overlay",
              "size": 10,
              "solidity": 0.2
             }
            },
            "type": "barpolar"
           }
          ],
          "carpet": [
           {
            "aaxis": {
             "endlinecolor": "#2a3f5f",
             "gridcolor": "white",
             "linecolor": "white",
             "minorgridcolor": "white",
             "startlinecolor": "#2a3f5f"
            },
            "baxis": {
             "endlinecolor": "#2a3f5f",
             "gridcolor": "white",
             "linecolor": "white",
             "minorgridcolor": "white",
             "startlinecolor": "#2a3f5f"
            },
            "type": "carpet"
           }
          ],
          "choropleth": [
           {
            "colorbar": {
             "outlinewidth": 0,
             "ticks": ""
            },
            "type": "choropleth"
           }
          ],
          "contour": [
           {
            "colorbar": {
             "outlinewidth": 0,
             "ticks": ""
            },
            "colorscale": [
             [
              0,
              "#0d0887"
             ],
             [
              0.1111111111111111,
              "#46039f"
             ],
             [
              0.2222222222222222,
              "#7201a8"
             ],
             [
              0.3333333333333333,
              "#9c179e"
             ],
             [
              0.4444444444444444,
              "#bd3786"
             ],
             [
              0.5555555555555556,
              "#d8576b"
             ],
             [
              0.6666666666666666,
              "#ed7953"
             ],
             [
              0.7777777777777778,
              "#fb9f3a"
             ],
             [
              0.8888888888888888,
              "#fdca26"
             ],
             [
              1,
              "#f0f921"
             ]
            ],
            "type": "contour"
           }
          ],
          "contourcarpet": [
           {
            "colorbar": {
             "outlinewidth": 0,
             "ticks": ""
            },
            "type": "contourcarpet"
           }
          ],
          "heatmap": [
           {
            "colorbar": {
             "outlinewidth": 0,
             "ticks": ""
            },
            "colorscale": [
             [
              0,
              "#0d0887"
             ],
             [
              0.1111111111111111,
              "#46039f"
             ],
             [
              0.2222222222222222,
              "#7201a8"
             ],
             [
              0.3333333333333333,
              "#9c179e"
             ],
             [
              0.4444444444444444,
              "#bd3786"
             ],
             [
              0.5555555555555556,
              "#d8576b"
             ],
             [
              0.6666666666666666,
              "#ed7953"
             ],
             [
              0.7777777777777778,
              "#fb9f3a"
             ],
             [
              0.8888888888888888,
              "#fdca26"
             ],
             [
              1,
              "#f0f921"
             ]
            ],
            "type": "heatmap"
           }
          ],
          "heatmapgl": [
           {
            "colorbar": {
             "outlinewidth": 0,
             "ticks": ""
            },
            "colorscale": [
             [
              0,
              "#0d0887"
             ],
             [
              0.1111111111111111,
              "#46039f"
             ],
             [
              0.2222222222222222,
              "#7201a8"
             ],
             [
              0.3333333333333333,
              "#9c179e"
             ],
             [
              0.4444444444444444,
              "#bd3786"
             ],
             [
              0.5555555555555556,
              "#d8576b"
             ],
             [
              0.6666666666666666,
              "#ed7953"
             ],
             [
              0.7777777777777778,
              "#fb9f3a"
             ],
             [
              0.8888888888888888,
              "#fdca26"
             ],
             [
              1,
              "#f0f921"
             ]
            ],
            "type": "heatmapgl"
           }
          ],
          "histogram": [
           {
            "marker": {
             "pattern": {
              "fillmode": "overlay",
              "size": 10,
              "solidity": 0.2
             }
            },
            "type": "histogram"
           }
          ],
          "histogram2d": [
           {
            "colorbar": {
             "outlinewidth": 0,
             "ticks": ""
            },
            "colorscale": [
             [
              0,
              "#0d0887"
             ],
             [
              0.1111111111111111,
              "#46039f"
             ],
             [
              0.2222222222222222,
              "#7201a8"
             ],
             [
              0.3333333333333333,
              "#9c179e"
             ],
             [
              0.4444444444444444,
              "#bd3786"
             ],
             [
              0.5555555555555556,
              "#d8576b"
             ],
             [
              0.6666666666666666,
              "#ed7953"
             ],
             [
              0.7777777777777778,
              "#fb9f3a"
             ],
             [
              0.8888888888888888,
              "#fdca26"
             ],
             [
              1,
              "#f0f921"
             ]
            ],
            "type": "histogram2d"
           }
          ],
          "histogram2dcontour": [
           {
            "colorbar": {
             "outlinewidth": 0,
             "ticks": ""
            },
            "colorscale": [
             [
              0,
              "#0d0887"
             ],
             [
              0.1111111111111111,
              "#46039f"
             ],
             [
              0.2222222222222222,
              "#7201a8"
             ],
             [
              0.3333333333333333,
              "#9c179e"
             ],
             [
              0.4444444444444444,
              "#bd3786"
             ],
             [
              0.5555555555555556,
              "#d8576b"
             ],
             [
              0.6666666666666666,
              "#ed7953"
             ],
             [
              0.7777777777777778,
              "#fb9f3a"
             ],
             [
              0.8888888888888888,
              "#fdca26"
             ],
             [
              1,
              "#f0f921"
             ]
            ],
            "type": "histogram2dcontour"
           }
          ],
          "mesh3d": [
           {
            "colorbar": {
             "outlinewidth": 0,
             "ticks": ""
            },
            "type": "mesh3d"
           }
          ],
          "parcoords": [
           {
            "line": {
             "colorbar": {
              "outlinewidth": 0,
              "ticks": ""
             }
            },
            "type": "parcoords"
           }
          ],
          "pie": [
           {
            "automargin": true,
            "type": "pie"
           }
          ],
          "scatter": [
           {
            "fillpattern": {
             "fillmode": "overlay",
             "size": 10,
             "solidity": 0.2
            },
            "type": "scatter"
           }
          ],
          "scatter3d": [
           {
            "line": {
             "colorbar": {
              "outlinewidth": 0,
              "ticks": ""
             }
            },
            "marker": {
             "colorbar": {
              "outlinewidth": 0,
              "ticks": ""
             }
            },
            "type": "scatter3d"
           }
          ],
          "scattercarpet": [
           {
            "marker": {
             "colorbar": {
              "outlinewidth": 0,
              "ticks": ""
             }
            },
            "type": "scattercarpet"
           }
          ],
          "scattergeo": [
           {
            "marker": {
             "colorbar": {
              "outlinewidth": 0,
              "ticks": ""
             }
            },
            "type": "scattergeo"
           }
          ],
          "scattergl": [
           {
            "marker": {
             "colorbar": {
              "outlinewidth": 0,
              "ticks": ""
             }
            },
            "type": "scattergl"
           }
          ],
          "scattermapbox": [
           {
            "marker": {
             "colorbar": {
              "outlinewidth": 0,
              "ticks": ""
             }
            },
            "type": "scattermapbox"
           }
          ],
          "scatterpolar": [
           {
            "marker": {
             "colorbar": {
              "outlinewidth": 0,
              "ticks": ""
             }
            },
            "type": "scatterpolar"
           }
          ],
          "scatterpolargl": [
           {
            "marker": {
             "colorbar": {
              "outlinewidth": 0,
              "ticks": ""
             }
            },
            "type": "scatterpolargl"
           }
          ],
          "scatterternary": [
           {
            "marker": {
             "colorbar": {
              "outlinewidth": 0,
              "ticks": ""
             }
            },
            "type": "scatterternary"
           }
          ],
          "surface": [
           {
            "colorbar": {
             "outlinewidth": 0,
             "ticks": ""
            },
            "colorscale": [
             [
              0,
              "#0d0887"
             ],
             [
              0.1111111111111111,
              "#46039f"
             ],
             [
              0.2222222222222222,
              "#7201a8"
             ],
             [
              0.3333333333333333,
              "#9c179e"
             ],
             [
              0.4444444444444444,
              "#bd3786"
             ],
             [
              0.5555555555555556,
              "#d8576b"
             ],
             [
              0.6666666666666666,
              "#ed7953"
             ],
             [
              0.7777777777777778,
              "#fb9f3a"
             ],
             [
              0.8888888888888888,
              "#fdca26"
             ],
             [
              1,
              "#f0f921"
             ]
            ],
            "type": "surface"
           }
          ],
          "table": [
           {
            "cells": {
             "fill": {
              "color": "#EBF0F8"
             },
             "line": {
              "color": "white"
             }
            },
            "header": {
             "fill": {
              "color": "#C8D4E3"
             },
             "line": {
              "color": "white"
             }
            },
            "type": "table"
           }
          ]
         },
         "layout": {
          "annotationdefaults": {
           "arrowcolor": "#2a3f5f",
           "arrowhead": 0,
           "arrowwidth": 1
          },
          "autotypenumbers": "strict",
          "coloraxis": {
           "colorbar": {
            "outlinewidth": 0,
            "ticks": ""
           }
          },
          "colorscale": {
           "diverging": [
            [
             0,
             "#8e0152"
            ],
            [
             0.1,
             "#c51b7d"
            ],
            [
             0.2,
             "#de77ae"
            ],
            [
             0.3,
             "#f1b6da"
            ],
            [
             0.4,
             "#fde0ef"
            ],
            [
             0.5,
             "#f7f7f7"
            ],
            [
             0.6,
             "#e6f5d0"
            ],
            [
             0.7,
             "#b8e186"
            ],
            [
             0.8,
             "#7fbc41"
            ],
            [
             0.9,
             "#4d9221"
            ],
            [
             1,
             "#276419"
            ]
           ],
           "sequential": [
            [
             0,
             "#0d0887"
            ],
            [
             0.1111111111111111,
             "#46039f"
            ],
            [
             0.2222222222222222,
             "#7201a8"
            ],
            [
             0.3333333333333333,
             "#9c179e"
            ],
            [
             0.4444444444444444,
             "#bd3786"
            ],
            [
             0.5555555555555556,
             "#d8576b"
            ],
            [
             0.6666666666666666,
             "#ed7953"
            ],
            [
             0.7777777777777778,
             "#fb9f3a"
            ],
            [
             0.8888888888888888,
             "#fdca26"
            ],
            [
             1,
             "#f0f921"
            ]
           ],
           "sequentialminus": [
            [
             0,
             "#0d0887"
            ],
            [
             0.1111111111111111,
             "#46039f"
            ],
            [
             0.2222222222222222,
             "#7201a8"
            ],
            [
             0.3333333333333333,
             "#9c179e"
            ],
            [
             0.4444444444444444,
             "#bd3786"
            ],
            [
             0.5555555555555556,
             "#d8576b"
            ],
            [
             0.6666666666666666,
             "#ed7953"
            ],
            [
             0.7777777777777778,
             "#fb9f3a"
            ],
            [
             0.8888888888888888,
             "#fdca26"
            ],
            [
             1,
             "#f0f921"
            ]
           ]
          },
          "colorway": [
           "#636efa",
           "#EF553B",
           "#00cc96",
           "#ab63fa",
           "#FFA15A",
           "#19d3f3",
           "#FF6692",
           "#B6E880",
           "#FF97FF",
           "#FECB52"
          ],
          "font": {
           "color": "#2a3f5f"
          },
          "geo": {
           "bgcolor": "white",
           "lakecolor": "white",
           "landcolor": "#E5ECF6",
           "showlakes": true,
           "showland": true,
           "subunitcolor": "white"
          },
          "hoverlabel": {
           "align": "left"
          },
          "hovermode": "closest",
          "mapbox": {
           "style": "light"
          },
          "paper_bgcolor": "white",
          "plot_bgcolor": "#E5ECF6",
          "polar": {
           "angularaxis": {
            "gridcolor": "white",
            "linecolor": "white",
            "ticks": ""
           },
           "bgcolor": "#E5ECF6",
           "radialaxis": {
            "gridcolor": "white",
            "linecolor": "white",
            "ticks": ""
           }
          },
          "scene": {
           "xaxis": {
            "backgroundcolor": "#E5ECF6",
            "gridcolor": "white",
            "gridwidth": 2,
            "linecolor": "white",
            "showbackground": true,
            "ticks": "",
            "zerolinecolor": "white"
           },
           "yaxis": {
            "backgroundcolor": "#E5ECF6",
            "gridcolor": "white",
            "gridwidth": 2,
            "linecolor": "white",
            "showbackground": true,
            "ticks": "",
            "zerolinecolor": "white"
           },
           "zaxis": {
            "backgroundcolor": "#E5ECF6",
            "gridcolor": "white",
            "gridwidth": 2,
            "linecolor": "white",
            "showbackground": true,
            "ticks": "",
            "zerolinecolor": "white"
           }
          },
          "shapedefaults": {
           "line": {
            "color": "#2a3f5f"
           }
          },
          "ternary": {
           "aaxis": {
            "gridcolor": "white",
            "linecolor": "white",
            "ticks": ""
           },
           "baxis": {
            "gridcolor": "white",
            "linecolor": "white",
            "ticks": ""
           },
           "bgcolor": "#E5ECF6",
           "caxis": {
            "gridcolor": "white",
            "linecolor": "white",
            "ticks": ""
           }
          },
          "title": {
           "x": 0.05
          },
          "xaxis": {
           "automargin": true,
           "gridcolor": "white",
           "linecolor": "white",
           "ticks": "",
           "title": {
            "standoff": 15
           },
           "zerolinecolor": "white",
           "zerolinewidth": 2
          },
          "yaxis": {
           "automargin": true,
           "gridcolor": "white",
           "linecolor": "white",
           "ticks": "",
           "title": {
            "standoff": 15
           },
           "zerolinecolor": "white",
           "zerolinewidth": 2
          }
         }
        },
        "title": {
         "font": {
          "color": "#4D5663"
         }
        },
        "xaxis": {
         "gridcolor": "#E1E5ED",
         "showgrid": true,
         "tickfont": {
          "color": "#4D5663"
         },
         "title": {
          "font": {
           "color": "#4D5663"
          },
          "text": ""
         },
         "zerolinecolor": "#E1E5ED"
        },
        "yaxis": {
         "gridcolor": "#E1E5ED",
         "showgrid": true,
         "tickfont": {
          "color": "#4D5663"
         },
         "title": {
          "font": {
           "color": "#4D5663"
          },
          "text": ""
         },
         "zerolinecolor": "#E1E5ED"
        }
       }
      },
      "text/html": [
       "<div>                            <div id=\"d3cd6d97-e1e6-48cd-8a24-c8256d58306b\" class=\"plotly-graph-div\" style=\"height:525px; width:100%;\"></div>            <script type=\"text/javascript\">                require([\"plotly\"], function(Plotly) {                    window.PLOTLYENV=window.PLOTLYENV || {};\n",
       "                    window.PLOTLYENV.BASE_URL='https://plot.ly';                                    if (document.getElementById(\"d3cd6d97-e1e6-48cd-8a24-c8256d58306b\")) {                    Plotly.newPlot(                        \"d3cd6d97-e1e6-48cd-8a24-c8256d58306b\",                        [{\"line\":{\"color\":\"rgba(255, 153, 51, 1.0)\",\"dash\":\"solid\",\"shape\":\"linear\",\"width\":1.3},\"marker\":{\"size\":10,\"symbol\":\"circle\"},\"mode\":\"markers\",\"name\":\"B\",\"text\":\"\",\"x\":[-1.1024981471016053,0.45532653178486426,0.40391046008714476,-0.2809970042901508,0.7989989325364689,1.0832583953209949,-1.234209784210434,0.3224994409690922,-0.3242087708237595,-0.1284653156020744,-0.7552748291440724,0.8184288968726566,0.5422845891231438,0.10789901010090519,-0.32139817008019994,-0.7963759333281335,-0.39037680946255826,-2.2655403217214696,0.5167189806038817,1.0311119027127906,-0.7280729939339882,2.2399138984961033,-1.2752392088928555,-0.5378918136584961,2.0295510309720433,0.23191793912741354,-0.7489274861749667,0.1804315695573513,-1.076899175942572,0.1480646205053287,-2.067689597756462,-0.6242648055288316,1.9205984896737025,-0.6626634145557857,0.43755162941932596,-0.08301825934472241,1.6979277445032026,1.3214093229538189,-0.5063299960070593,-0.0634250885800641,1.5099246615970119,-0.06181082497718354,-0.3409827236091026,-0.33324862190788684,1.500014889723033,-1.5918283819078909,0.1436883889894132,1.5756106661076734,-0.32506572639260684,0.37798144298626746,0.46348546666861756,-2.051188827144377,-1.0172458205234336,-0.5070704946445844,-0.8478731955080303,-0.2334924377631749,0.19262355458803307,-1.3003949447844079,-0.9149035966488548,0.8229650720355511,1.3006243742931636,-0.4126201075864305,-0.6711296866905244,-0.4405250418337267,-0.5651290513169568,1.0196385357067541,0.5877685488555959,-0.3945490445285969,0.8054155111464418,-1.0217863363909698,0.46049889877191597,0.57181539365208,-0.8625271604108457,-0.46000004554287016,0.02716586732277476,0.6816588980785862,-0.4668112307509774,0.25228987992077717,0.8669165806315857,0.847033573383717,-1.3863133841285744,-0.01553686633329219,-0.2740973426119702,0.043616214784867754,-2.1647128799946276,-0.05182135785862414,-1.384645553366656,0.4027841869433865,0.11479059202803563,0.3819374624127815,0.22205933188988886,0.9355340173488559,-0.2765941836604982,0.954866972229284,1.073857686349574,-1.1885752619110412,0.28988033179079464,0.8151597284421718,-0.9941872219563699,1.5368506591655258],\"y\":[-0.8713196634022675,-1.767211174819314,-1.0350908487091959,-0.08072812492485895,-1.1951142174006553,-1.8471571622199414,1.8801067041568933,-1.1058767571189025,0.40937518520839133,0.5074882970638703,-0.9099081392282109,-0.23390168778098436,1.3793033998833388,-0.03876003474237771,1.38539784508653,0.8040467182086181,-1.9859688198263412,1.4318814602300922,0.2856696833736994,-0.02734422820736344,2.2604852635308466,0.3437984522726635,-1.6199777026322286,-1.6252434641567413,0.819414661012346,0.8718682984632122,-0.9577172169711519,0.26839737955878556,1.3259952049003743,-0.5112436727714154,1.5282438868112913,0.46111855997757906,0.5103298218556396,-1.6594959487403262,0.5897407100948779,-0.0702770913251112,2.145076222618863,-0.3302738874863218,1.7954077585596733,-0.32578556653973817,0.8364388798723189,0.22696433098098545,-0.8327353257833802,-1.015031002671774,0.37786457003176177,-0.8097117301574803,-0.9985378053285431,0.5203569062543102,0.4818184236235761,-0.8441091152069875,1.2708165965970095,-0.70334138878969,1.0694277546339286,0.6254820710794478,-0.009766599509518017,0.10566623768884706,-0.38865979307592985,-0.4287810605985193,-0.3739451959228925,-0.9145143264683828,2.625130148137943,0.2778968503855602,0.9934389776868553,-0.9072450113031999,0.5210933674015816,0.0830080569450399,0.14620986056202875,-0.4516254448680814,1.1997048520705935,-0.45206800531489205,1.0943552757896906,0.9640478674870745,-1.6536100269234513,0.101149502791871,-0.4152232250614539,0.6152742885080315,0.2106406522997461,0.0019031646346197241,0.602635626247644,-1.715601158322781,0.5628710900741206,-0.1294924891033397,-0.6355075840796094,1.2649381157969501,0.02498520572713563,0.5104545781590395,-0.5702951302023916,1.7309202655032256,1.2879164184864185,-0.36438719814264675,0.2745117757241402,-0.07135501369983091,-0.10594911360867416,0.2004243601221823,0.5662466524036643,0.4151771166224692,2.0414607940726452,0.3982025407248406,-1.2995806760810338,0.982890176174143],\"type\":\"scatter\"}],                        {\"legend\":{\"bgcolor\":\"#F5F6F9\",\"font\":{\"color\":\"#4D5663\"}},\"paper_bgcolor\":\"#F5F6F9\",\"plot_bgcolor\":\"#F5F6F9\",\"template\":{\"data\":{\"barpolar\":[{\"marker\":{\"line\":{\"color\":\"#E5ECF6\",\"width\":0.5},\"pattern\":{\"fillmode\":\"overlay\",\"size\":10,\"solidity\":0.2}},\"type\":\"barpolar\"}],\"bar\":[{\"error_x\":{\"color\":\"#2a3f5f\"},\"error_y\":{\"color\":\"#2a3f5f\"},\"marker\":{\"line\":{\"color\":\"#E5ECF6\",\"width\":0.5},\"pattern\":{\"fillmode\":\"overlay\",\"size\":10,\"solidity\":0.2}},\"type\":\"bar\"}],\"carpet\":[{\"aaxis\":{\"endlinecolor\":\"#2a3f5f\",\"gridcolor\":\"white\",\"linecolor\":\"white\",\"minorgridcolor\":\"white\",\"startlinecolor\":\"#2a3f5f\"},\"baxis\":{\"endlinecolor\":\"#2a3f5f\",\"gridcolor\":\"white\",\"linecolor\":\"white\",\"minorgridcolor\":\"white\",\"startlinecolor\":\"#2a3f5f\"},\"type\":\"carpet\"}],\"choropleth\":[{\"colorbar\":{\"outlinewidth\":0,\"ticks\":\"\"},\"type\":\"choropleth\"}],\"contourcarpet\":[{\"colorbar\":{\"outlinewidth\":0,\"ticks\":\"\"},\"type\":\"contourcarpet\"}],\"contour\":[{\"colorbar\":{\"outlinewidth\":0,\"ticks\":\"\"},\"colorscale\":[[0.0,\"#0d0887\"],[0.1111111111111111,\"#46039f\"],[0.2222222222222222,\"#7201a8\"],[0.3333333333333333,\"#9c179e\"],[0.4444444444444444,\"#bd3786\"],[0.5555555555555556,\"#d8576b\"],[0.6666666666666666,\"#ed7953\"],[0.7777777777777778,\"#fb9f3a\"],[0.8888888888888888,\"#fdca26\"],[1.0,\"#f0f921\"]],\"type\":\"contour\"}],\"heatmapgl\":[{\"colorbar\":{\"outlinewidth\":0,\"ticks\":\"\"},\"colorscale\":[[0.0,\"#0d0887\"],[0.1111111111111111,\"#46039f\"],[0.2222222222222222,\"#7201a8\"],[0.3333333333333333,\"#9c179e\"],[0.4444444444444444,\"#bd3786\"],[0.5555555555555556,\"#d8576b\"],[0.6666666666666666,\"#ed7953\"],[0.7777777777777778,\"#fb9f3a\"],[0.8888888888888888,\"#fdca26\"],[1.0,\"#f0f921\"]],\"type\":\"heatmapgl\"}],\"heatmap\":[{\"colorbar\":{\"outlinewidth\":0,\"ticks\":\"\"},\"colorscale\":[[0.0,\"#0d0887\"],[0.1111111111111111,\"#46039f\"],[0.2222222222222222,\"#7201a8\"],[0.3333333333333333,\"#9c179e\"],[0.4444444444444444,\"#bd3786\"],[0.5555555555555556,\"#d8576b\"],[0.6666666666666666,\"#ed7953\"],[0.7777777777777778,\"#fb9f3a\"],[0.8888888888888888,\"#fdca26\"],[1.0,\"#f0f921\"]],\"type\":\"heatmap\"}],\"histogram2dcontour\":[{\"colorbar\":{\"outlinewidth\":0,\"ticks\":\"\"},\"colorscale\":[[0.0,\"#0d0887\"],[0.1111111111111111,\"#46039f\"],[0.2222222222222222,\"#7201a8\"],[0.3333333333333333,\"#9c179e\"],[0.4444444444444444,\"#bd3786\"],[0.5555555555555556,\"#d8576b\"],[0.6666666666666666,\"#ed7953\"],[0.7777777777777778,\"#fb9f3a\"],[0.8888888888888888,\"#fdca26\"],[1.0,\"#f0f921\"]],\"type\":\"histogram2dcontour\"}],\"histogram2d\":[{\"colorbar\":{\"outlinewidth\":0,\"ticks\":\"\"},\"colorscale\":[[0.0,\"#0d0887\"],[0.1111111111111111,\"#46039f\"],[0.2222222222222222,\"#7201a8\"],[0.3333333333333333,\"#9c179e\"],[0.4444444444444444,\"#bd3786\"],[0.5555555555555556,\"#d8576b\"],[0.6666666666666666,\"#ed7953\"],[0.7777777777777778,\"#fb9f3a\"],[0.8888888888888888,\"#fdca26\"],[1.0,\"#f0f921\"]],\"type\":\"histogram2d\"}],\"histogram\":[{\"marker\":{\"pattern\":{\"fillmode\":\"overlay\",\"size\":10,\"solidity\":0.2}},\"type\":\"histogram\"}],\"mesh3d\":[{\"colorbar\":{\"outlinewidth\":0,\"ticks\":\"\"},\"type\":\"mesh3d\"}],\"parcoords\":[{\"line\":{\"colorbar\":{\"outlinewidth\":0,\"ticks\":\"\"}},\"type\":\"parcoords\"}],\"pie\":[{\"automargin\":true,\"type\":\"pie\"}],\"scatter3d\":[{\"line\":{\"colorbar\":{\"outlinewidth\":0,\"ticks\":\"\"}},\"marker\":{\"colorbar\":{\"outlinewidth\":0,\"ticks\":\"\"}},\"type\":\"scatter3d\"}],\"scattercarpet\":[{\"marker\":{\"colorbar\":{\"outlinewidth\":0,\"ticks\":\"\"}},\"type\":\"scattercarpet\"}],\"scattergeo\":[{\"marker\":{\"colorbar\":{\"outlinewidth\":0,\"ticks\":\"\"}},\"type\":\"scattergeo\"}],\"scattergl\":[{\"marker\":{\"colorbar\":{\"outlinewidth\":0,\"ticks\":\"\"}},\"type\":\"scattergl\"}],\"scattermapbox\":[{\"marker\":{\"colorbar\":{\"outlinewidth\":0,\"ticks\":\"\"}},\"type\":\"scattermapbox\"}],\"scatterpolargl\":[{\"marker\":{\"colorbar\":{\"outlinewidth\":0,\"ticks\":\"\"}},\"type\":\"scatterpolargl\"}],\"scatterpolar\":[{\"marker\":{\"colorbar\":{\"outlinewidth\":0,\"ticks\":\"\"}},\"type\":\"scatterpolar\"}],\"scatter\":[{\"fillpattern\":{\"fillmode\":\"overlay\",\"size\":10,\"solidity\":0.2},\"type\":\"scatter\"}],\"scatterternary\":[{\"marker\":{\"colorbar\":{\"outlinewidth\":0,\"ticks\":\"\"}},\"type\":\"scatterternary\"}],\"surface\":[{\"colorbar\":{\"outlinewidth\":0,\"ticks\":\"\"},\"colorscale\":[[0.0,\"#0d0887\"],[0.1111111111111111,\"#46039f\"],[0.2222222222222222,\"#7201a8\"],[0.3333333333333333,\"#9c179e\"],[0.4444444444444444,\"#bd3786\"],[0.5555555555555556,\"#d8576b\"],[0.6666666666666666,\"#ed7953\"],[0.7777777777777778,\"#fb9f3a\"],[0.8888888888888888,\"#fdca26\"],[1.0,\"#f0f921\"]],\"type\":\"surface\"}],\"table\":[{\"cells\":{\"fill\":{\"color\":\"#EBF0F8\"},\"line\":{\"color\":\"white\"}},\"header\":{\"fill\":{\"color\":\"#C8D4E3\"},\"line\":{\"color\":\"white\"}},\"type\":\"table\"}]},\"layout\":{\"annotationdefaults\":{\"arrowcolor\":\"#2a3f5f\",\"arrowhead\":0,\"arrowwidth\":1},\"autotypenumbers\":\"strict\",\"coloraxis\":{\"colorbar\":{\"outlinewidth\":0,\"ticks\":\"\"}},\"colorscale\":{\"diverging\":[[0,\"#8e0152\"],[0.1,\"#c51b7d\"],[0.2,\"#de77ae\"],[0.3,\"#f1b6da\"],[0.4,\"#fde0ef\"],[0.5,\"#f7f7f7\"],[0.6,\"#e6f5d0\"],[0.7,\"#b8e186\"],[0.8,\"#7fbc41\"],[0.9,\"#4d9221\"],[1,\"#276419\"]],\"sequential\":[[0.0,\"#0d0887\"],[0.1111111111111111,\"#46039f\"],[0.2222222222222222,\"#7201a8\"],[0.3333333333333333,\"#9c179e\"],[0.4444444444444444,\"#bd3786\"],[0.5555555555555556,\"#d8576b\"],[0.6666666666666666,\"#ed7953\"],[0.7777777777777778,\"#fb9f3a\"],[0.8888888888888888,\"#fdca26\"],[1.0,\"#f0f921\"]],\"sequentialminus\":[[0.0,\"#0d0887\"],[0.1111111111111111,\"#46039f\"],[0.2222222222222222,\"#7201a8\"],[0.3333333333333333,\"#9c179e\"],[0.4444444444444444,\"#bd3786\"],[0.5555555555555556,\"#d8576b\"],[0.6666666666666666,\"#ed7953\"],[0.7777777777777778,\"#fb9f3a\"],[0.8888888888888888,\"#fdca26\"],[1.0,\"#f0f921\"]]},\"colorway\":[\"#636efa\",\"#EF553B\",\"#00cc96\",\"#ab63fa\",\"#FFA15A\",\"#19d3f3\",\"#FF6692\",\"#B6E880\",\"#FF97FF\",\"#FECB52\"],\"font\":{\"color\":\"#2a3f5f\"},\"geo\":{\"bgcolor\":\"white\",\"lakecolor\":\"white\",\"landcolor\":\"#E5ECF6\",\"showlakes\":true,\"showland\":true,\"subunitcolor\":\"white\"},\"hoverlabel\":{\"align\":\"left\"},\"hovermode\":\"closest\",\"mapbox\":{\"style\":\"light\"},\"paper_bgcolor\":\"white\",\"plot_bgcolor\":\"#E5ECF6\",\"polar\":{\"angularaxis\":{\"gridcolor\":\"white\",\"linecolor\":\"white\",\"ticks\":\"\"},\"bgcolor\":\"#E5ECF6\",\"radialaxis\":{\"gridcolor\":\"white\",\"linecolor\":\"white\",\"ticks\":\"\"}},\"scene\":{\"xaxis\":{\"backgroundcolor\":\"#E5ECF6\",\"gridcolor\":\"white\",\"gridwidth\":2,\"linecolor\":\"white\",\"showbackground\":true,\"ticks\":\"\",\"zerolinecolor\":\"white\"},\"yaxis\":{\"backgroundcolor\":\"#E5ECF6\",\"gridcolor\":\"white\",\"gridwidth\":2,\"linecolor\":\"white\",\"showbackground\":true,\"ticks\":\"\",\"zerolinecolor\":\"white\"},\"zaxis\":{\"backgroundcolor\":\"#E5ECF6\",\"gridcolor\":\"white\",\"gridwidth\":2,\"linecolor\":\"white\",\"showbackground\":true,\"ticks\":\"\",\"zerolinecolor\":\"white\"}},\"shapedefaults\":{\"line\":{\"color\":\"#2a3f5f\"}},\"ternary\":{\"aaxis\":{\"gridcolor\":\"white\",\"linecolor\":\"white\",\"ticks\":\"\"},\"baxis\":{\"gridcolor\":\"white\",\"linecolor\":\"white\",\"ticks\":\"\"},\"bgcolor\":\"#E5ECF6\",\"caxis\":{\"gridcolor\":\"white\",\"linecolor\":\"white\",\"ticks\":\"\"}},\"title\":{\"x\":0.05},\"xaxis\":{\"automargin\":true,\"gridcolor\":\"white\",\"linecolor\":\"white\",\"ticks\":\"\",\"title\":{\"standoff\":15},\"zerolinecolor\":\"white\",\"zerolinewidth\":2},\"yaxis\":{\"automargin\":true,\"gridcolor\":\"white\",\"linecolor\":\"white\",\"ticks\":\"\",\"title\":{\"standoff\":15},\"zerolinecolor\":\"white\",\"zerolinewidth\":2}}},\"title\":{\"font\":{\"color\":\"#4D5663\"}},\"xaxis\":{\"gridcolor\":\"#E1E5ED\",\"showgrid\":true,\"tickfont\":{\"color\":\"#4D5663\"},\"title\":{\"font\":{\"color\":\"#4D5663\"},\"text\":\"\"},\"zerolinecolor\":\"#E1E5ED\"},\"yaxis\":{\"gridcolor\":\"#E1E5ED\",\"showgrid\":true,\"tickfont\":{\"color\":\"#4D5663\"},\"title\":{\"font\":{\"color\":\"#4D5663\"},\"text\":\"\"},\"zerolinecolor\":\"#E1E5ED\"}},                        {\"showLink\": true, \"linkText\": \"Export to plot.ly\", \"plotlyServerURL\": \"https://plot.ly\", \"responsive\": true}                    ).then(function(){\n",
       "                            \n",
       "var gd = document.getElementById('d3cd6d97-e1e6-48cd-8a24-c8256d58306b');\n",
       "var x = new MutationObserver(function (mutations, observer) {{\n",
       "        var display = window.getComputedStyle(gd).display;\n",
       "        if (!display || display === 'none') {{\n",
       "            console.log([gd, 'removed!']);\n",
       "            Plotly.purge(gd);\n",
       "            observer.disconnect();\n",
       "        }}\n",
       "}});\n",
       "\n",
       "// Listen for the removal of the full notebook cells\n",
       "var notebookContainer = gd.closest('#notebook-container');\n",
       "if (notebookContainer) {{\n",
       "    x.observe(notebookContainer, {childList: true});\n",
       "}}\n",
       "\n",
       "// Listen for the clearing of the current output cell\n",
       "var outputEl = gd.closest('.output');\n",
       "if (outputEl) {{\n",
       "    x.observe(outputEl, {childList: true});\n",
       "}}\n",
       "\n",
       "                        })                };                });            </script>        </div>"
      ]
     },
     "metadata": {},
     "output_type": "display_data"
    }
   ],
   "source": [
    "# Draw a Scatter Plot\n",
    "df.iplot(kind='scatter',x='A',y='B',mode='markers',size=10)"
   ]
  },
  {
   "cell_type": "code",
   "execution_count": 13,
   "metadata": {},
   "outputs": [
    {
     "data": {
      "text/html": [
       "<div>\n",
       "<style scoped>\n",
       "    .dataframe tbody tr th:only-of-type {\n",
       "        vertical-align: middle;\n",
       "    }\n",
       "\n",
       "    .dataframe tbody tr th {\n",
       "        vertical-align: top;\n",
       "    }\n",
       "\n",
       "    .dataframe thead th {\n",
       "        text-align: right;\n",
       "    }\n",
       "</style>\n",
       "<table border=\"1\" class=\"dataframe\">\n",
       "  <thead>\n",
       "    <tr style=\"text-align: right;\">\n",
       "      <th></th>\n",
       "      <th>A</th>\n",
       "      <th>B</th>\n",
       "      <th>C</th>\n",
       "      <th>D</th>\n",
       "    </tr>\n",
       "  </thead>\n",
       "  <tbody>\n",
       "    <tr>\n",
       "      <th>0</th>\n",
       "      <td>-1.102498</td>\n",
       "      <td>-0.871320</td>\n",
       "      <td>-0.231915</td>\n",
       "      <td>1.742001</td>\n",
       "    </tr>\n",
       "    <tr>\n",
       "      <th>1</th>\n",
       "      <td>0.455327</td>\n",
       "      <td>-1.767211</td>\n",
       "      <td>0.229962</td>\n",
       "      <td>-0.214078</td>\n",
       "    </tr>\n",
       "    <tr>\n",
       "      <th>2</th>\n",
       "      <td>0.403910</td>\n",
       "      <td>-1.035091</td>\n",
       "      <td>0.372356</td>\n",
       "      <td>-0.834700</td>\n",
       "    </tr>\n",
       "    <tr>\n",
       "      <th>3</th>\n",
       "      <td>-0.280997</td>\n",
       "      <td>-0.080728</td>\n",
       "      <td>-0.183179</td>\n",
       "      <td>0.357214</td>\n",
       "    </tr>\n",
       "    <tr>\n",
       "      <th>4</th>\n",
       "      <td>0.798999</td>\n",
       "      <td>-1.195114</td>\n",
       "      <td>0.030270</td>\n",
       "      <td>-0.448614</td>\n",
       "    </tr>\n",
       "    <tr>\n",
       "      <th>...</th>\n",
       "      <td>...</td>\n",
       "      <td>...</td>\n",
       "      <td>...</td>\n",
       "      <td>...</td>\n",
       "    </tr>\n",
       "    <tr>\n",
       "      <th>95</th>\n",
       "      <td>-1.188575</td>\n",
       "      <td>0.415177</td>\n",
       "      <td>0.385833</td>\n",
       "      <td>-0.502494</td>\n",
       "    </tr>\n",
       "    <tr>\n",
       "      <th>96</th>\n",
       "      <td>0.289880</td>\n",
       "      <td>2.041461</td>\n",
       "      <td>-0.318315</td>\n",
       "      <td>-0.095740</td>\n",
       "    </tr>\n",
       "    <tr>\n",
       "      <th>97</th>\n",
       "      <td>0.815160</td>\n",
       "      <td>0.398203</td>\n",
       "      <td>0.929868</td>\n",
       "      <td>1.876488</td>\n",
       "    </tr>\n",
       "    <tr>\n",
       "      <th>98</th>\n",
       "      <td>-0.994187</td>\n",
       "      <td>-1.299581</td>\n",
       "      <td>0.085125</td>\n",
       "      <td>-1.431541</td>\n",
       "    </tr>\n",
       "    <tr>\n",
       "      <th>99</th>\n",
       "      <td>1.536851</td>\n",
       "      <td>0.982890</td>\n",
       "      <td>0.594438</td>\n",
       "      <td>-0.142439</td>\n",
       "    </tr>\n",
       "  </tbody>\n",
       "</table>\n",
       "<p>100 rows × 4 columns</p>\n",
       "</div>"
      ],
      "text/plain": [
       "           A         B         C         D\n",
       "0  -1.102498 -0.871320 -0.231915  1.742001\n",
       "1   0.455327 -1.767211  0.229962 -0.214078\n",
       "2   0.403910 -1.035091  0.372356 -0.834700\n",
       "3  -0.280997 -0.080728 -0.183179  0.357214\n",
       "4   0.798999 -1.195114  0.030270 -0.448614\n",
       "..       ...       ...       ...       ...\n",
       "95 -1.188575  0.415177  0.385833 -0.502494\n",
       "96  0.289880  2.041461 -0.318315 -0.095740\n",
       "97  0.815160  0.398203  0.929868  1.876488\n",
       "98 -0.994187 -1.299581  0.085125 -1.431541\n",
       "99  1.536851  0.982890  0.594438 -0.142439\n",
       "\n",
       "[100 rows x 4 columns]"
      ]
     },
     "execution_count": 13,
     "metadata": {},
     "output_type": "execute_result"
    }
   ],
   "source": [
    "df"
   ]
  },
  {
   "cell_type": "code",
   "execution_count": 14,
   "metadata": {},
   "outputs": [
    {
     "data": {
      "text/html": [
       "<div>\n",
       "<style scoped>\n",
       "    .dataframe tbody tr th:only-of-type {\n",
       "        vertical-align: middle;\n",
       "    }\n",
       "\n",
       "    .dataframe tbody tr th {\n",
       "        vertical-align: top;\n",
       "    }\n",
       "\n",
       "    .dataframe thead th {\n",
       "        text-align: right;\n",
       "    }\n",
       "</style>\n",
       "<table border=\"1\" class=\"dataframe\">\n",
       "  <thead>\n",
       "    <tr style=\"text-align: right;\">\n",
       "      <th></th>\n",
       "      <th>Categories</th>\n",
       "      <th>Values</th>\n",
       "    </tr>\n",
       "  </thead>\n",
       "  <tbody>\n",
       "    <tr>\n",
       "      <th>0</th>\n",
       "      <td>A</td>\n",
       "      <td>32</td>\n",
       "    </tr>\n",
       "    <tr>\n",
       "      <th>1</th>\n",
       "      <td>B</td>\n",
       "      <td>43</td>\n",
       "    </tr>\n",
       "    <tr>\n",
       "      <th>2</th>\n",
       "      <td>C</td>\n",
       "      <td>50</td>\n",
       "    </tr>\n",
       "  </tbody>\n",
       "</table>\n",
       "</div>"
      ],
      "text/plain": [
       "  Categories  Values\n",
       "0          A      32\n",
       "1          B      43\n",
       "2          C      50"
      ]
     },
     "execution_count": 14,
     "metadata": {},
     "output_type": "execute_result"
    }
   ],
   "source": [
    "df2"
   ]
  },
  {
   "cell_type": "code",
   "execution_count": 15,
   "metadata": {},
   "outputs": [
    {
     "data": {
      "application/vnd.plotly.v1+json": {
       "config": {
        "linkText": "Export to plot.ly",
        "plotlyServerURL": "https://plot.ly",
        "showLink": true
       },
       "data": [
        {
         "marker": {
          "color": "rgba(255, 153, 51, 0.6)",
          "line": {
           "color": "rgba(255, 153, 51, 1.0)",
           "width": 1
          }
         },
         "name": "Values",
         "orientation": "v",
         "text": "",
         "type": "bar",
         "x": [
          "A",
          "B",
          "C"
         ],
         "y": [
          32,
          43,
          50
         ]
        }
       ],
       "layout": {
        "legend": {
         "bgcolor": "#F5F6F9",
         "font": {
          "color": "#4D5663"
         }
        },
        "paper_bgcolor": "#F5F6F9",
        "plot_bgcolor": "#F5F6F9",
        "template": {
         "data": {
          "bar": [
           {
            "error_x": {
             "color": "#2a3f5f"
            },
            "error_y": {
             "color": "#2a3f5f"
            },
            "marker": {
             "line": {
              "color": "#E5ECF6",
              "width": 0.5
             },
             "pattern": {
              "fillmode": "overlay",
              "size": 10,
              "solidity": 0.2
             }
            },
            "type": "bar"
           }
          ],
          "barpolar": [
           {
            "marker": {
             "line": {
              "color": "#E5ECF6",
              "width": 0.5
             },
             "pattern": {
              "fillmode": "overlay",
              "size": 10,
              "solidity": 0.2
             }
            },
            "type": "barpolar"
           }
          ],
          "carpet": [
           {
            "aaxis": {
             "endlinecolor": "#2a3f5f",
             "gridcolor": "white",
             "linecolor": "white",
             "minorgridcolor": "white",
             "startlinecolor": "#2a3f5f"
            },
            "baxis": {
             "endlinecolor": "#2a3f5f",
             "gridcolor": "white",
             "linecolor": "white",
             "minorgridcolor": "white",
             "startlinecolor": "#2a3f5f"
            },
            "type": "carpet"
           }
          ],
          "choropleth": [
           {
            "colorbar": {
             "outlinewidth": 0,
             "ticks": ""
            },
            "type": "choropleth"
           }
          ],
          "contour": [
           {
            "colorbar": {
             "outlinewidth": 0,
             "ticks": ""
            },
            "colorscale": [
             [
              0,
              "#0d0887"
             ],
             [
              0.1111111111111111,
              "#46039f"
             ],
             [
              0.2222222222222222,
              "#7201a8"
             ],
             [
              0.3333333333333333,
              "#9c179e"
             ],
             [
              0.4444444444444444,
              "#bd3786"
             ],
             [
              0.5555555555555556,
              "#d8576b"
             ],
             [
              0.6666666666666666,
              "#ed7953"
             ],
             [
              0.7777777777777778,
              "#fb9f3a"
             ],
             [
              0.8888888888888888,
              "#fdca26"
             ],
             [
              1,
              "#f0f921"
             ]
            ],
            "type": "contour"
           }
          ],
          "contourcarpet": [
           {
            "colorbar": {
             "outlinewidth": 0,
             "ticks": ""
            },
            "type": "contourcarpet"
           }
          ],
          "heatmap": [
           {
            "colorbar": {
             "outlinewidth": 0,
             "ticks": ""
            },
            "colorscale": [
             [
              0,
              "#0d0887"
             ],
             [
              0.1111111111111111,
              "#46039f"
             ],
             [
              0.2222222222222222,
              "#7201a8"
             ],
             [
              0.3333333333333333,
              "#9c179e"
             ],
             [
              0.4444444444444444,
              "#bd3786"
             ],
             [
              0.5555555555555556,
              "#d8576b"
             ],
             [
              0.6666666666666666,
              "#ed7953"
             ],
             [
              0.7777777777777778,
              "#fb9f3a"
             ],
             [
              0.8888888888888888,
              "#fdca26"
             ],
             [
              1,
              "#f0f921"
             ]
            ],
            "type": "heatmap"
           }
          ],
          "heatmapgl": [
           {
            "colorbar": {
             "outlinewidth": 0,
             "ticks": ""
            },
            "colorscale": [
             [
              0,
              "#0d0887"
             ],
             [
              0.1111111111111111,
              "#46039f"
             ],
             [
              0.2222222222222222,
              "#7201a8"
             ],
             [
              0.3333333333333333,
              "#9c179e"
             ],
             [
              0.4444444444444444,
              "#bd3786"
             ],
             [
              0.5555555555555556,
              "#d8576b"
             ],
             [
              0.6666666666666666,
              "#ed7953"
             ],
             [
              0.7777777777777778,
              "#fb9f3a"
             ],
             [
              0.8888888888888888,
              "#fdca26"
             ],
             [
              1,
              "#f0f921"
             ]
            ],
            "type": "heatmapgl"
           }
          ],
          "histogram": [
           {
            "marker": {
             "pattern": {
              "fillmode": "overlay",
              "size": 10,
              "solidity": 0.2
             }
            },
            "type": "histogram"
           }
          ],
          "histogram2d": [
           {
            "colorbar": {
             "outlinewidth": 0,
             "ticks": ""
            },
            "colorscale": [
             [
              0,
              "#0d0887"
             ],
             [
              0.1111111111111111,
              "#46039f"
             ],
             [
              0.2222222222222222,
              "#7201a8"
             ],
             [
              0.3333333333333333,
              "#9c179e"
             ],
             [
              0.4444444444444444,
              "#bd3786"
             ],
             [
              0.5555555555555556,
              "#d8576b"
             ],
             [
              0.6666666666666666,
              "#ed7953"
             ],
             [
              0.7777777777777778,
              "#fb9f3a"
             ],
             [
              0.8888888888888888,
              "#fdca26"
             ],
             [
              1,
              "#f0f921"
             ]
            ],
            "type": "histogram2d"
           }
          ],
          "histogram2dcontour": [
           {
            "colorbar": {
             "outlinewidth": 0,
             "ticks": ""
            },
            "colorscale": [
             [
              0,
              "#0d0887"
             ],
             [
              0.1111111111111111,
              "#46039f"
             ],
             [
              0.2222222222222222,
              "#7201a8"
             ],
             [
              0.3333333333333333,
              "#9c179e"
             ],
             [
              0.4444444444444444,
              "#bd3786"
             ],
             [
              0.5555555555555556,
              "#d8576b"
             ],
             [
              0.6666666666666666,
              "#ed7953"
             ],
             [
              0.7777777777777778,
              "#fb9f3a"
             ],
             [
              0.8888888888888888,
              "#fdca26"
             ],
             [
              1,
              "#f0f921"
             ]
            ],
            "type": "histogram2dcontour"
           }
          ],
          "mesh3d": [
           {
            "colorbar": {
             "outlinewidth": 0,
             "ticks": ""
            },
            "type": "mesh3d"
           }
          ],
          "parcoords": [
           {
            "line": {
             "colorbar": {
              "outlinewidth": 0,
              "ticks": ""
             }
            },
            "type": "parcoords"
           }
          ],
          "pie": [
           {
            "automargin": true,
            "type": "pie"
           }
          ],
          "scatter": [
           {
            "fillpattern": {
             "fillmode": "overlay",
             "size": 10,
             "solidity": 0.2
            },
            "type": "scatter"
           }
          ],
          "scatter3d": [
           {
            "line": {
             "colorbar": {
              "outlinewidth": 0,
              "ticks": ""
             }
            },
            "marker": {
             "colorbar": {
              "outlinewidth": 0,
              "ticks": ""
             }
            },
            "type": "scatter3d"
           }
          ],
          "scattercarpet": [
           {
            "marker": {
             "colorbar": {
              "outlinewidth": 0,
              "ticks": ""
             }
            },
            "type": "scattercarpet"
           }
          ],
          "scattergeo": [
           {
            "marker": {
             "colorbar": {
              "outlinewidth": 0,
              "ticks": ""
             }
            },
            "type": "scattergeo"
           }
          ],
          "scattergl": [
           {
            "marker": {
             "colorbar": {
              "outlinewidth": 0,
              "ticks": ""
             }
            },
            "type": "scattergl"
           }
          ],
          "scattermapbox": [
           {
            "marker": {
             "colorbar": {
              "outlinewidth": 0,
              "ticks": ""
             }
            },
            "type": "scattermapbox"
           }
          ],
          "scatterpolar": [
           {
            "marker": {
             "colorbar": {
              "outlinewidth": 0,
              "ticks": ""
             }
            },
            "type": "scatterpolar"
           }
          ],
          "scatterpolargl": [
           {
            "marker": {
             "colorbar": {
              "outlinewidth": 0,
              "ticks": ""
             }
            },
            "type": "scatterpolargl"
           }
          ],
          "scatterternary": [
           {
            "marker": {
             "colorbar": {
              "outlinewidth": 0,
              "ticks": ""
             }
            },
            "type": "scatterternary"
           }
          ],
          "surface": [
           {
            "colorbar": {
             "outlinewidth": 0,
             "ticks": ""
            },
            "colorscale": [
             [
              0,
              "#0d0887"
             ],
             [
              0.1111111111111111,
              "#46039f"
             ],
             [
              0.2222222222222222,
              "#7201a8"
             ],
             [
              0.3333333333333333,
              "#9c179e"
             ],
             [
              0.4444444444444444,
              "#bd3786"
             ],
             [
              0.5555555555555556,
              "#d8576b"
             ],
             [
              0.6666666666666666,
              "#ed7953"
             ],
             [
              0.7777777777777778,
              "#fb9f3a"
             ],
             [
              0.8888888888888888,
              "#fdca26"
             ],
             [
              1,
              "#f0f921"
             ]
            ],
            "type": "surface"
           }
          ],
          "table": [
           {
            "cells": {
             "fill": {
              "color": "#EBF0F8"
             },
             "line": {
              "color": "white"
             }
            },
            "header": {
             "fill": {
              "color": "#C8D4E3"
             },
             "line": {
              "color": "white"
             }
            },
            "type": "table"
           }
          ]
         },
         "layout": {
          "annotationdefaults": {
           "arrowcolor": "#2a3f5f",
           "arrowhead": 0,
           "arrowwidth": 1
          },
          "autotypenumbers": "strict",
          "coloraxis": {
           "colorbar": {
            "outlinewidth": 0,
            "ticks": ""
           }
          },
          "colorscale": {
           "diverging": [
            [
             0,
             "#8e0152"
            ],
            [
             0.1,
             "#c51b7d"
            ],
            [
             0.2,
             "#de77ae"
            ],
            [
             0.3,
             "#f1b6da"
            ],
            [
             0.4,
             "#fde0ef"
            ],
            [
             0.5,
             "#f7f7f7"
            ],
            [
             0.6,
             "#e6f5d0"
            ],
            [
             0.7,
             "#b8e186"
            ],
            [
             0.8,
             "#7fbc41"
            ],
            [
             0.9,
             "#4d9221"
            ],
            [
             1,
             "#276419"
            ]
           ],
           "sequential": [
            [
             0,
             "#0d0887"
            ],
            [
             0.1111111111111111,
             "#46039f"
            ],
            [
             0.2222222222222222,
             "#7201a8"
            ],
            [
             0.3333333333333333,
             "#9c179e"
            ],
            [
             0.4444444444444444,
             "#bd3786"
            ],
            [
             0.5555555555555556,
             "#d8576b"
            ],
            [
             0.6666666666666666,
             "#ed7953"
            ],
            [
             0.7777777777777778,
             "#fb9f3a"
            ],
            [
             0.8888888888888888,
             "#fdca26"
            ],
            [
             1,
             "#f0f921"
            ]
           ],
           "sequentialminus": [
            [
             0,
             "#0d0887"
            ],
            [
             0.1111111111111111,
             "#46039f"
            ],
            [
             0.2222222222222222,
             "#7201a8"
            ],
            [
             0.3333333333333333,
             "#9c179e"
            ],
            [
             0.4444444444444444,
             "#bd3786"
            ],
            [
             0.5555555555555556,
             "#d8576b"
            ],
            [
             0.6666666666666666,
             "#ed7953"
            ],
            [
             0.7777777777777778,
             "#fb9f3a"
            ],
            [
             0.8888888888888888,
             "#fdca26"
            ],
            [
             1,
             "#f0f921"
            ]
           ]
          },
          "colorway": [
           "#636efa",
           "#EF553B",
           "#00cc96",
           "#ab63fa",
           "#FFA15A",
           "#19d3f3",
           "#FF6692",
           "#B6E880",
           "#FF97FF",
           "#FECB52"
          ],
          "font": {
           "color": "#2a3f5f"
          },
          "geo": {
           "bgcolor": "white",
           "lakecolor": "white",
           "landcolor": "#E5ECF6",
           "showlakes": true,
           "showland": true,
           "subunitcolor": "white"
          },
          "hoverlabel": {
           "align": "left"
          },
          "hovermode": "closest",
          "mapbox": {
           "style": "light"
          },
          "paper_bgcolor": "white",
          "plot_bgcolor": "#E5ECF6",
          "polar": {
           "angularaxis": {
            "gridcolor": "white",
            "linecolor": "white",
            "ticks": ""
           },
           "bgcolor": "#E5ECF6",
           "radialaxis": {
            "gridcolor": "white",
            "linecolor": "white",
            "ticks": ""
           }
          },
          "scene": {
           "xaxis": {
            "backgroundcolor": "#E5ECF6",
            "gridcolor": "white",
            "gridwidth": 2,
            "linecolor": "white",
            "showbackground": true,
            "ticks": "",
            "zerolinecolor": "white"
           },
           "yaxis": {
            "backgroundcolor": "#E5ECF6",
            "gridcolor": "white",
            "gridwidth": 2,
            "linecolor": "white",
            "showbackground": true,
            "ticks": "",
            "zerolinecolor": "white"
           },
           "zaxis": {
            "backgroundcolor": "#E5ECF6",
            "gridcolor": "white",
            "gridwidth": 2,
            "linecolor": "white",
            "showbackground": true,
            "ticks": "",
            "zerolinecolor": "white"
           }
          },
          "shapedefaults": {
           "line": {
            "color": "#2a3f5f"
           }
          },
          "ternary": {
           "aaxis": {
            "gridcolor": "white",
            "linecolor": "white",
            "ticks": ""
           },
           "baxis": {
            "gridcolor": "white",
            "linecolor": "white",
            "ticks": ""
           },
           "bgcolor": "#E5ECF6",
           "caxis": {
            "gridcolor": "white",
            "linecolor": "white",
            "ticks": ""
           }
          },
          "title": {
           "x": 0.05
          },
          "xaxis": {
           "automargin": true,
           "gridcolor": "white",
           "linecolor": "white",
           "ticks": "",
           "title": {
            "standoff": 15
           },
           "zerolinecolor": "white",
           "zerolinewidth": 2
          },
          "yaxis": {
           "automargin": true,
           "gridcolor": "white",
           "linecolor": "white",
           "ticks": "",
           "title": {
            "standoff": 15
           },
           "zerolinecolor": "white",
           "zerolinewidth": 2
          }
         }
        },
        "title": {
         "font": {
          "color": "#4D5663"
         }
        },
        "xaxis": {
         "gridcolor": "#E1E5ED",
         "showgrid": true,
         "tickfont": {
          "color": "#4D5663"
         },
         "title": {
          "font": {
           "color": "#4D5663"
          },
          "text": ""
         },
         "zerolinecolor": "#E1E5ED"
        },
        "yaxis": {
         "gridcolor": "#E1E5ED",
         "showgrid": true,
         "tickfont": {
          "color": "#4D5663"
         },
         "title": {
          "font": {
           "color": "#4D5663"
          },
          "text": ""
         },
         "zerolinecolor": "#E1E5ED"
        }
       }
      },
      "text/html": [
       "<div>                            <div id=\"4919b746-95bf-4190-ae34-b5672c03bc0f\" class=\"plotly-graph-div\" style=\"height:525px; width:100%;\"></div>            <script type=\"text/javascript\">                require([\"plotly\"], function(Plotly) {                    window.PLOTLYENV=window.PLOTLYENV || {};\n",
       "                    window.PLOTLYENV.BASE_URL='https://plot.ly';                                    if (document.getElementById(\"4919b746-95bf-4190-ae34-b5672c03bc0f\")) {                    Plotly.newPlot(                        \"4919b746-95bf-4190-ae34-b5672c03bc0f\",                        [{\"marker\":{\"color\":\"rgba(255, 153, 51, 0.6)\",\"line\":{\"color\":\"rgba(255, 153, 51, 1.0)\",\"width\":1}},\"name\":\"Values\",\"orientation\":\"v\",\"text\":\"\",\"x\":[\"A\",\"B\",\"C\"],\"y\":[32,43,50],\"type\":\"bar\"}],                        {\"legend\":{\"bgcolor\":\"#F5F6F9\",\"font\":{\"color\":\"#4D5663\"}},\"paper_bgcolor\":\"#F5F6F9\",\"plot_bgcolor\":\"#F5F6F9\",\"template\":{\"data\":{\"barpolar\":[{\"marker\":{\"line\":{\"color\":\"#E5ECF6\",\"width\":0.5},\"pattern\":{\"fillmode\":\"overlay\",\"size\":10,\"solidity\":0.2}},\"type\":\"barpolar\"}],\"bar\":[{\"error_x\":{\"color\":\"#2a3f5f\"},\"error_y\":{\"color\":\"#2a3f5f\"},\"marker\":{\"line\":{\"color\":\"#E5ECF6\",\"width\":0.5},\"pattern\":{\"fillmode\":\"overlay\",\"size\":10,\"solidity\":0.2}},\"type\":\"bar\"}],\"carpet\":[{\"aaxis\":{\"endlinecolor\":\"#2a3f5f\",\"gridcolor\":\"white\",\"linecolor\":\"white\",\"minorgridcolor\":\"white\",\"startlinecolor\":\"#2a3f5f\"},\"baxis\":{\"endlinecolor\":\"#2a3f5f\",\"gridcolor\":\"white\",\"linecolor\":\"white\",\"minorgridcolor\":\"white\",\"startlinecolor\":\"#2a3f5f\"},\"type\":\"carpet\"}],\"choropleth\":[{\"colorbar\":{\"outlinewidth\":0,\"ticks\":\"\"},\"type\":\"choropleth\"}],\"contourcarpet\":[{\"colorbar\":{\"outlinewidth\":0,\"ticks\":\"\"},\"type\":\"contourcarpet\"}],\"contour\":[{\"colorbar\":{\"outlinewidth\":0,\"ticks\":\"\"},\"colorscale\":[[0.0,\"#0d0887\"],[0.1111111111111111,\"#46039f\"],[0.2222222222222222,\"#7201a8\"],[0.3333333333333333,\"#9c179e\"],[0.4444444444444444,\"#bd3786\"],[0.5555555555555556,\"#d8576b\"],[0.6666666666666666,\"#ed7953\"],[0.7777777777777778,\"#fb9f3a\"],[0.8888888888888888,\"#fdca26\"],[1.0,\"#f0f921\"]],\"type\":\"contour\"}],\"heatmapgl\":[{\"colorbar\":{\"outlinewidth\":0,\"ticks\":\"\"},\"colorscale\":[[0.0,\"#0d0887\"],[0.1111111111111111,\"#46039f\"],[0.2222222222222222,\"#7201a8\"],[0.3333333333333333,\"#9c179e\"],[0.4444444444444444,\"#bd3786\"],[0.5555555555555556,\"#d8576b\"],[0.6666666666666666,\"#ed7953\"],[0.7777777777777778,\"#fb9f3a\"],[0.8888888888888888,\"#fdca26\"],[1.0,\"#f0f921\"]],\"type\":\"heatmapgl\"}],\"heatmap\":[{\"colorbar\":{\"outlinewidth\":0,\"ticks\":\"\"},\"colorscale\":[[0.0,\"#0d0887\"],[0.1111111111111111,\"#46039f\"],[0.2222222222222222,\"#7201a8\"],[0.3333333333333333,\"#9c179e\"],[0.4444444444444444,\"#bd3786\"],[0.5555555555555556,\"#d8576b\"],[0.6666666666666666,\"#ed7953\"],[0.7777777777777778,\"#fb9f3a\"],[0.8888888888888888,\"#fdca26\"],[1.0,\"#f0f921\"]],\"type\":\"heatmap\"}],\"histogram2dcontour\":[{\"colorbar\":{\"outlinewidth\":0,\"ticks\":\"\"},\"colorscale\":[[0.0,\"#0d0887\"],[0.1111111111111111,\"#46039f\"],[0.2222222222222222,\"#7201a8\"],[0.3333333333333333,\"#9c179e\"],[0.4444444444444444,\"#bd3786\"],[0.5555555555555556,\"#d8576b\"],[0.6666666666666666,\"#ed7953\"],[0.7777777777777778,\"#fb9f3a\"],[0.8888888888888888,\"#fdca26\"],[1.0,\"#f0f921\"]],\"type\":\"histogram2dcontour\"}],\"histogram2d\":[{\"colorbar\":{\"outlinewidth\":0,\"ticks\":\"\"},\"colorscale\":[[0.0,\"#0d0887\"],[0.1111111111111111,\"#46039f\"],[0.2222222222222222,\"#7201a8\"],[0.3333333333333333,\"#9c179e\"],[0.4444444444444444,\"#bd3786\"],[0.5555555555555556,\"#d8576b\"],[0.6666666666666666,\"#ed7953\"],[0.7777777777777778,\"#fb9f3a\"],[0.8888888888888888,\"#fdca26\"],[1.0,\"#f0f921\"]],\"type\":\"histogram2d\"}],\"histogram\":[{\"marker\":{\"pattern\":{\"fillmode\":\"overlay\",\"size\":10,\"solidity\":0.2}},\"type\":\"histogram\"}],\"mesh3d\":[{\"colorbar\":{\"outlinewidth\":0,\"ticks\":\"\"},\"type\":\"mesh3d\"}],\"parcoords\":[{\"line\":{\"colorbar\":{\"outlinewidth\":0,\"ticks\":\"\"}},\"type\":\"parcoords\"}],\"pie\":[{\"automargin\":true,\"type\":\"pie\"}],\"scatter3d\":[{\"line\":{\"colorbar\":{\"outlinewidth\":0,\"ticks\":\"\"}},\"marker\":{\"colorbar\":{\"outlinewidth\":0,\"ticks\":\"\"}},\"type\":\"scatter3d\"}],\"scattercarpet\":[{\"marker\":{\"colorbar\":{\"outlinewidth\":0,\"ticks\":\"\"}},\"type\":\"scattercarpet\"}],\"scattergeo\":[{\"marker\":{\"colorbar\":{\"outlinewidth\":0,\"ticks\":\"\"}},\"type\":\"scattergeo\"}],\"scattergl\":[{\"marker\":{\"colorbar\":{\"outlinewidth\":0,\"ticks\":\"\"}},\"type\":\"scattergl\"}],\"scattermapbox\":[{\"marker\":{\"colorbar\":{\"outlinewidth\":0,\"ticks\":\"\"}},\"type\":\"scattermapbox\"}],\"scatterpolargl\":[{\"marker\":{\"colorbar\":{\"outlinewidth\":0,\"ticks\":\"\"}},\"type\":\"scatterpolargl\"}],\"scatterpolar\":[{\"marker\":{\"colorbar\":{\"outlinewidth\":0,\"ticks\":\"\"}},\"type\":\"scatterpolar\"}],\"scatter\":[{\"fillpattern\":{\"fillmode\":\"overlay\",\"size\":10,\"solidity\":0.2},\"type\":\"scatter\"}],\"scatterternary\":[{\"marker\":{\"colorbar\":{\"outlinewidth\":0,\"ticks\":\"\"}},\"type\":\"scatterternary\"}],\"surface\":[{\"colorbar\":{\"outlinewidth\":0,\"ticks\":\"\"},\"colorscale\":[[0.0,\"#0d0887\"],[0.1111111111111111,\"#46039f\"],[0.2222222222222222,\"#7201a8\"],[0.3333333333333333,\"#9c179e\"],[0.4444444444444444,\"#bd3786\"],[0.5555555555555556,\"#d8576b\"],[0.6666666666666666,\"#ed7953\"],[0.7777777777777778,\"#fb9f3a\"],[0.8888888888888888,\"#fdca26\"],[1.0,\"#f0f921\"]],\"type\":\"surface\"}],\"table\":[{\"cells\":{\"fill\":{\"color\":\"#EBF0F8\"},\"line\":{\"color\":\"white\"}},\"header\":{\"fill\":{\"color\":\"#C8D4E3\"},\"line\":{\"color\":\"white\"}},\"type\":\"table\"}]},\"layout\":{\"annotationdefaults\":{\"arrowcolor\":\"#2a3f5f\",\"arrowhead\":0,\"arrowwidth\":1},\"autotypenumbers\":\"strict\",\"coloraxis\":{\"colorbar\":{\"outlinewidth\":0,\"ticks\":\"\"}},\"colorscale\":{\"diverging\":[[0,\"#8e0152\"],[0.1,\"#c51b7d\"],[0.2,\"#de77ae\"],[0.3,\"#f1b6da\"],[0.4,\"#fde0ef\"],[0.5,\"#f7f7f7\"],[0.6,\"#e6f5d0\"],[0.7,\"#b8e186\"],[0.8,\"#7fbc41\"],[0.9,\"#4d9221\"],[1,\"#276419\"]],\"sequential\":[[0.0,\"#0d0887\"],[0.1111111111111111,\"#46039f\"],[0.2222222222222222,\"#7201a8\"],[0.3333333333333333,\"#9c179e\"],[0.4444444444444444,\"#bd3786\"],[0.5555555555555556,\"#d8576b\"],[0.6666666666666666,\"#ed7953\"],[0.7777777777777778,\"#fb9f3a\"],[0.8888888888888888,\"#fdca26\"],[1.0,\"#f0f921\"]],\"sequentialminus\":[[0.0,\"#0d0887\"],[0.1111111111111111,\"#46039f\"],[0.2222222222222222,\"#7201a8\"],[0.3333333333333333,\"#9c179e\"],[0.4444444444444444,\"#bd3786\"],[0.5555555555555556,\"#d8576b\"],[0.6666666666666666,\"#ed7953\"],[0.7777777777777778,\"#fb9f3a\"],[0.8888888888888888,\"#fdca26\"],[1.0,\"#f0f921\"]]},\"colorway\":[\"#636efa\",\"#EF553B\",\"#00cc96\",\"#ab63fa\",\"#FFA15A\",\"#19d3f3\",\"#FF6692\",\"#B6E880\",\"#FF97FF\",\"#FECB52\"],\"font\":{\"color\":\"#2a3f5f\"},\"geo\":{\"bgcolor\":\"white\",\"lakecolor\":\"white\",\"landcolor\":\"#E5ECF6\",\"showlakes\":true,\"showland\":true,\"subunitcolor\":\"white\"},\"hoverlabel\":{\"align\":\"left\"},\"hovermode\":\"closest\",\"mapbox\":{\"style\":\"light\"},\"paper_bgcolor\":\"white\",\"plot_bgcolor\":\"#E5ECF6\",\"polar\":{\"angularaxis\":{\"gridcolor\":\"white\",\"linecolor\":\"white\",\"ticks\":\"\"},\"bgcolor\":\"#E5ECF6\",\"radialaxis\":{\"gridcolor\":\"white\",\"linecolor\":\"white\",\"ticks\":\"\"}},\"scene\":{\"xaxis\":{\"backgroundcolor\":\"#E5ECF6\",\"gridcolor\":\"white\",\"gridwidth\":2,\"linecolor\":\"white\",\"showbackground\":true,\"ticks\":\"\",\"zerolinecolor\":\"white\"},\"yaxis\":{\"backgroundcolor\":\"#E5ECF6\",\"gridcolor\":\"white\",\"gridwidth\":2,\"linecolor\":\"white\",\"showbackground\":true,\"ticks\":\"\",\"zerolinecolor\":\"white\"},\"zaxis\":{\"backgroundcolor\":\"#E5ECF6\",\"gridcolor\":\"white\",\"gridwidth\":2,\"linecolor\":\"white\",\"showbackground\":true,\"ticks\":\"\",\"zerolinecolor\":\"white\"}},\"shapedefaults\":{\"line\":{\"color\":\"#2a3f5f\"}},\"ternary\":{\"aaxis\":{\"gridcolor\":\"white\",\"linecolor\":\"white\",\"ticks\":\"\"},\"baxis\":{\"gridcolor\":\"white\",\"linecolor\":\"white\",\"ticks\":\"\"},\"bgcolor\":\"#E5ECF6\",\"caxis\":{\"gridcolor\":\"white\",\"linecolor\":\"white\",\"ticks\":\"\"}},\"title\":{\"x\":0.05},\"xaxis\":{\"automargin\":true,\"gridcolor\":\"white\",\"linecolor\":\"white\",\"ticks\":\"\",\"title\":{\"standoff\":15},\"zerolinecolor\":\"white\",\"zerolinewidth\":2},\"yaxis\":{\"automargin\":true,\"gridcolor\":\"white\",\"linecolor\":\"white\",\"ticks\":\"\",\"title\":{\"standoff\":15},\"zerolinecolor\":\"white\",\"zerolinewidth\":2}}},\"title\":{\"font\":{\"color\":\"#4D5663\"}},\"xaxis\":{\"gridcolor\":\"#E1E5ED\",\"showgrid\":true,\"tickfont\":{\"color\":\"#4D5663\"},\"title\":{\"font\":{\"color\":\"#4D5663\"},\"text\":\"\"},\"zerolinecolor\":\"#E1E5ED\"},\"yaxis\":{\"gridcolor\":\"#E1E5ED\",\"showgrid\":true,\"tickfont\":{\"color\":\"#4D5663\"},\"title\":{\"font\":{\"color\":\"#4D5663\"},\"text\":\"\"},\"zerolinecolor\":\"#E1E5ED\"}},                        {\"showLink\": true, \"linkText\": \"Export to plot.ly\", \"plotlyServerURL\": \"https://plot.ly\", \"responsive\": true}                    ).then(function(){\n",
       "                            \n",
       "var gd = document.getElementById('4919b746-95bf-4190-ae34-b5672c03bc0f');\n",
       "var x = new MutationObserver(function (mutations, observer) {{\n",
       "        var display = window.getComputedStyle(gd).display;\n",
       "        if (!display || display === 'none') {{\n",
       "            console.log([gd, 'removed!']);\n",
       "            Plotly.purge(gd);\n",
       "            observer.disconnect();\n",
       "        }}\n",
       "}});\n",
       "\n",
       "// Listen for the removal of the full notebook cells\n",
       "var notebookContainer = gd.closest('#notebook-container');\n",
       "if (notebookContainer) {{\n",
       "    x.observe(notebookContainer, {childList: true});\n",
       "}}\n",
       "\n",
       "// Listen for the clearing of the current output cell\n",
       "var outputEl = gd.closest('.output');\n",
       "if (outputEl) {{\n",
       "    x.observe(outputEl, {childList: true});\n",
       "}}\n",
       "\n",
       "                        })                };                });            </script>        </div>"
      ]
     },
     "metadata": {},
     "output_type": "display_data"
    }
   ],
   "source": [
    "df2.iplot(kind='bar',x='Categories',y='Values')"
   ]
  },
  {
   "cell_type": "code",
   "execution_count": 16,
   "metadata": {},
   "outputs": [
    {
     "data": {
      "application/vnd.plotly.v1+json": {
       "config": {
        "linkText": "Export to plot.ly",
        "plotlyServerURL": "https://plot.ly",
        "showLink": true
       },
       "data": [
        {
         "marker": {
          "color": "rgba(255, 153, 51, 0.6)",
          "line": {
           "color": "rgba(255, 153, 51, 1.0)",
           "width": 1
          }
         },
         "name": "A",
         "orientation": "v",
         "text": "",
         "type": "bar",
         "x": [
          0,
          1,
          2,
          3,
          4,
          5,
          6,
          7,
          8,
          9,
          10,
          11,
          12,
          13,
          14,
          15,
          16,
          17,
          18,
          19,
          20,
          21,
          22,
          23,
          24,
          25,
          26,
          27,
          28,
          29,
          30,
          31,
          32,
          33,
          34,
          35,
          36,
          37,
          38,
          39,
          40,
          41,
          42,
          43,
          44,
          45,
          46,
          47,
          48,
          49,
          50,
          51,
          52,
          53,
          54,
          55,
          56,
          57,
          58,
          59,
          60,
          61,
          62,
          63,
          64,
          65,
          66,
          67,
          68,
          69,
          70,
          71,
          72,
          73,
          74,
          75,
          76,
          77,
          78,
          79,
          80,
          81,
          82,
          83,
          84,
          85,
          86,
          87,
          88,
          89,
          90,
          91,
          92,
          93,
          94,
          95,
          96,
          97,
          98,
          99
         ],
         "y": [
          -1.1024981471016053,
          0.45532653178486426,
          0.40391046008714476,
          -0.2809970042901508,
          0.7989989325364689,
          1.0832583953209949,
          -1.234209784210434,
          0.3224994409690922,
          -0.3242087708237595,
          -0.1284653156020744,
          -0.7552748291440724,
          0.8184288968726566,
          0.5422845891231438,
          0.10789901010090519,
          -0.32139817008019994,
          -0.7963759333281335,
          -0.39037680946255826,
          -2.2655403217214696,
          0.5167189806038817,
          1.0311119027127906,
          -0.7280729939339882,
          2.2399138984961033,
          -1.2752392088928555,
          -0.5378918136584961,
          2.0295510309720433,
          0.23191793912741354,
          -0.7489274861749667,
          0.1804315695573513,
          -1.076899175942572,
          0.1480646205053287,
          -2.067689597756462,
          -0.6242648055288316,
          1.9205984896737025,
          -0.6626634145557857,
          0.43755162941932596,
          -0.08301825934472241,
          1.6979277445032026,
          1.3214093229538189,
          -0.5063299960070593,
          -0.0634250885800641,
          1.5099246615970119,
          -0.06181082497718354,
          -0.3409827236091026,
          -0.33324862190788684,
          1.500014889723033,
          -1.5918283819078909,
          0.1436883889894132,
          1.5756106661076734,
          -0.32506572639260684,
          0.37798144298626746,
          0.46348546666861756,
          -2.051188827144377,
          -1.0172458205234336,
          -0.5070704946445844,
          -0.8478731955080303,
          -0.2334924377631749,
          0.19262355458803307,
          -1.3003949447844079,
          -0.9149035966488548,
          0.8229650720355511,
          1.3006243742931636,
          -0.4126201075864305,
          -0.6711296866905244,
          -0.4405250418337267,
          -0.5651290513169568,
          1.0196385357067541,
          0.5877685488555959,
          -0.3945490445285969,
          0.8054155111464418,
          -1.0217863363909698,
          0.46049889877191597,
          0.57181539365208,
          -0.8625271604108457,
          -0.46000004554287016,
          0.02716586732277476,
          0.6816588980785862,
          -0.4668112307509774,
          0.25228987992077717,
          0.8669165806315857,
          0.847033573383717,
          -1.3863133841285744,
          -0.01553686633329219,
          -0.2740973426119702,
          0.043616214784867754,
          -2.1647128799946276,
          -0.05182135785862414,
          -1.384645553366656,
          0.4027841869433865,
          0.11479059202803563,
          0.3819374624127815,
          0.22205933188988886,
          0.9355340173488559,
          -0.2765941836604982,
          0.954866972229284,
          1.073857686349574,
          -1.1885752619110412,
          0.28988033179079464,
          0.8151597284421718,
          -0.9941872219563699,
          1.5368506591655258
         ]
        },
        {
         "marker": {
          "color": "rgba(55, 128, 191, 0.6)",
          "line": {
           "color": "rgba(55, 128, 191, 1.0)",
           "width": 1
          }
         },
         "name": "B",
         "orientation": "v",
         "text": "",
         "type": "bar",
         "x": [
          0,
          1,
          2,
          3,
          4,
          5,
          6,
          7,
          8,
          9,
          10,
          11,
          12,
          13,
          14,
          15,
          16,
          17,
          18,
          19,
          20,
          21,
          22,
          23,
          24,
          25,
          26,
          27,
          28,
          29,
          30,
          31,
          32,
          33,
          34,
          35,
          36,
          37,
          38,
          39,
          40,
          41,
          42,
          43,
          44,
          45,
          46,
          47,
          48,
          49,
          50,
          51,
          52,
          53,
          54,
          55,
          56,
          57,
          58,
          59,
          60,
          61,
          62,
          63,
          64,
          65,
          66,
          67,
          68,
          69,
          70,
          71,
          72,
          73,
          74,
          75,
          76,
          77,
          78,
          79,
          80,
          81,
          82,
          83,
          84,
          85,
          86,
          87,
          88,
          89,
          90,
          91,
          92,
          93,
          94,
          95,
          96,
          97,
          98,
          99
         ],
         "y": [
          -0.8713196634022675,
          -1.767211174819314,
          -1.0350908487091959,
          -0.08072812492485895,
          -1.1951142174006553,
          -1.8471571622199414,
          1.8801067041568933,
          -1.1058767571189025,
          0.40937518520839133,
          0.5074882970638703,
          -0.9099081392282109,
          -0.23390168778098436,
          1.3793033998833388,
          -0.03876003474237771,
          1.38539784508653,
          0.8040467182086181,
          -1.9859688198263412,
          1.4318814602300922,
          0.2856696833736994,
          -0.02734422820736344,
          2.2604852635308466,
          0.3437984522726635,
          -1.6199777026322286,
          -1.6252434641567413,
          0.819414661012346,
          0.8718682984632122,
          -0.9577172169711519,
          0.26839737955878556,
          1.3259952049003743,
          -0.5112436727714154,
          1.5282438868112913,
          0.46111855997757906,
          0.5103298218556396,
          -1.6594959487403262,
          0.5897407100948779,
          -0.0702770913251112,
          2.145076222618863,
          -0.3302738874863218,
          1.7954077585596733,
          -0.32578556653973817,
          0.8364388798723189,
          0.22696433098098545,
          -0.8327353257833802,
          -1.015031002671774,
          0.37786457003176177,
          -0.8097117301574803,
          -0.9985378053285431,
          0.5203569062543102,
          0.4818184236235761,
          -0.8441091152069875,
          1.2708165965970095,
          -0.70334138878969,
          1.0694277546339286,
          0.6254820710794478,
          -0.009766599509518017,
          0.10566623768884706,
          -0.38865979307592985,
          -0.4287810605985193,
          -0.3739451959228925,
          -0.9145143264683828,
          2.625130148137943,
          0.2778968503855602,
          0.9934389776868553,
          -0.9072450113031999,
          0.5210933674015816,
          0.0830080569450399,
          0.14620986056202875,
          -0.4516254448680814,
          1.1997048520705935,
          -0.45206800531489205,
          1.0943552757896906,
          0.9640478674870745,
          -1.6536100269234513,
          0.101149502791871,
          -0.4152232250614539,
          0.6152742885080315,
          0.2106406522997461,
          0.0019031646346197241,
          0.602635626247644,
          -1.715601158322781,
          0.5628710900741206,
          -0.1294924891033397,
          -0.6355075840796094,
          1.2649381157969501,
          0.02498520572713563,
          0.5104545781590395,
          -0.5702951302023916,
          1.7309202655032256,
          1.2879164184864185,
          -0.36438719814264675,
          0.2745117757241402,
          -0.07135501369983091,
          -0.10594911360867416,
          0.2004243601221823,
          0.5662466524036643,
          0.4151771166224692,
          2.0414607940726452,
          0.3982025407248406,
          -1.2995806760810338,
          0.982890176174143
         ]
        },
        {
         "marker": {
          "color": "rgba(50, 171, 96, 0.6)",
          "line": {
           "color": "rgba(50, 171, 96, 1.0)",
           "width": 1
          }
         },
         "name": "C",
         "orientation": "v",
         "text": "",
         "type": "bar",
         "x": [
          0,
          1,
          2,
          3,
          4,
          5,
          6,
          7,
          8,
          9,
          10,
          11,
          12,
          13,
          14,
          15,
          16,
          17,
          18,
          19,
          20,
          21,
          22,
          23,
          24,
          25,
          26,
          27,
          28,
          29,
          30,
          31,
          32,
          33,
          34,
          35,
          36,
          37,
          38,
          39,
          40,
          41,
          42,
          43,
          44,
          45,
          46,
          47,
          48,
          49,
          50,
          51,
          52,
          53,
          54,
          55,
          56,
          57,
          58,
          59,
          60,
          61,
          62,
          63,
          64,
          65,
          66,
          67,
          68,
          69,
          70,
          71,
          72,
          73,
          74,
          75,
          76,
          77,
          78,
          79,
          80,
          81,
          82,
          83,
          84,
          85,
          86,
          87,
          88,
          89,
          90,
          91,
          92,
          93,
          94,
          95,
          96,
          97,
          98,
          99
         ],
         "y": [
          -0.23191483467728796,
          0.22996169982911116,
          0.37235644215290814,
          -0.18317934630443627,
          0.030269596121248386,
          0.2377912009439052,
          -0.4635781052161619,
          -1.113826422851541,
          -0.4640499369179566,
          0.0862418242527444,
          -0.17526457764388662,
          -1.2394707131388767,
          1.1378268189836096,
          1.1227212390740267,
          0.8469162696258059,
          -0.2352349772821939,
          0.1966858786059231,
          -0.2933140386799466,
          -0.30688059116922967,
          -0.4821681732345493,
          -0.27745071051604725,
          -1.1243501531182385,
          0.057655680779404216,
          0.45004825152232597,
          -0.6431969695826352,
          1.8043144586142832,
          0.5335382114718625,
          -0.558890544540614,
          -1.0720048033208915,
          -0.941563266309427,
          0.348237899267876,
          1.1705473551597216,
          -0.8353913555607797,
          -0.857665180470015,
          -0.34313815056146535,
          -0.6405363663505411,
          -0.005708929644882179,
          -1.0129631575850104,
          0.5779718783951365,
          -1.0519358973969024,
          0.5136347490696667,
          -1.2979934398788073,
          0.5349053270524682,
          2.357078440371061,
          0.7469704623104282,
          -0.7512300212264496,
          -0.0676600767370751,
          1.1717868904695523,
          0.056014652083291414,
          1.9067085542207205,
          0.22696914256599662,
          -1.0227464786175227,
          -0.3662894960812538,
          -1.069064556566524,
          0.5477192163632087,
          0.38967752312019927,
          -0.30929610039500577,
          1.3586255897880464,
          1.5695745260088578,
          -0.440786731303405,
          -1.0467786473869678,
          -0.6406050565135507,
          1.2910836005523305,
          -0.11894889194832031,
          -1.0179449928368667,
          1.3447998121960456,
          0.14512180959110263,
          -1.227725683384825,
          1.4371215964566564,
          -0.0031341668208622908,
          -0.5576920364414308,
          -0.38328672961847204,
          0.026830990387689723,
          -0.8382448805596847,
          0.8827979098248043,
          1.5898469507164932,
          2.604205368168547,
          0.8892144723017181,
          -0.07378398071441221,
          0.4267291792279438,
          0.8950635767904128,
          0.3922940160616898,
          -0.0851112683431683,
          -0.6736568562098894,
          -0.43538967839927634,
          -0.6678661489181582,
          0.4674966404566777,
          1.3041628300440022,
          -1.9223632355127063,
          -0.6824825992913708,
          -0.7251925773027719,
          0.8406610583174904,
          0.6198675777100461,
          1.2865116834532744,
          -1.6841263181861676,
          0.3858325516026786,
          -0.31831457953920045,
          0.9298675048241788,
          0.08512501033433308,
          0.5944382814004443
         ]
        },
        {
         "marker": {
          "color": "rgba(128, 0, 128, 0.6)",
          "line": {
           "color": "rgba(128, 0, 128, 1.0)",
           "width": 1
          }
         },
         "name": "D",
         "orientation": "v",
         "text": "",
         "type": "bar",
         "x": [
          0,
          1,
          2,
          3,
          4,
          5,
          6,
          7,
          8,
          9,
          10,
          11,
          12,
          13,
          14,
          15,
          16,
          17,
          18,
          19,
          20,
          21,
          22,
          23,
          24,
          25,
          26,
          27,
          28,
          29,
          30,
          31,
          32,
          33,
          34,
          35,
          36,
          37,
          38,
          39,
          40,
          41,
          42,
          43,
          44,
          45,
          46,
          47,
          48,
          49,
          50,
          51,
          52,
          53,
          54,
          55,
          56,
          57,
          58,
          59,
          60,
          61,
          62,
          63,
          64,
          65,
          66,
          67,
          68,
          69,
          70,
          71,
          72,
          73,
          74,
          75,
          76,
          77,
          78,
          79,
          80,
          81,
          82,
          83,
          84,
          85,
          86,
          87,
          88,
          89,
          90,
          91,
          92,
          93,
          94,
          95,
          96,
          97,
          98,
          99
         ],
         "y": [
          1.7420011505283355,
          -0.21407790210814454,
          -0.8346995928206267,
          0.3572143263372206,
          -0.44861423493977404,
          -1.6081212330874752,
          0.801690734912549,
          -0.6109376576801621,
          2.1373076535109092,
          -0.3895897715840815,
          0.49813442940114483,
          0.9759970066716024,
          -0.7932651994978115,
          0.6835870707382509,
          -0.3274394480942042,
          1.8709656860865775,
          0.3111020957103798,
          -0.7509733514305589,
          0.70735198442484,
          -2.0380165731831723,
          -0.2268007663096546,
          -0.1570710863874976,
          -0.043925259267604065,
          1.2132826148806004,
          -0.35116309161963677,
          -0.22222779417501082,
          -0.4744366412490772,
          0.9675082903553129,
          0.117057975512573,
          1.3648150969859354,
          -0.44309217680230667,
          -0.2426589005323525,
          0.6386264583219761,
          -0.8332164875365083,
          -0.44728663182657197,
          -0.02280652878873671,
          2.225828052114822,
          -0.14800113052807606,
          0.6406805425970652,
          -1.1344693137474502,
          -1.0701856529498481,
          -1.0291026082395422,
          1.439390319110055,
          0.7584810547627114,
          0.5888102171302606,
          0.2724300812740993,
          0.43539688823221795,
          0.47801130939445824,
          0.7306479076541726,
          0.7096123064838874,
          0.38797045860083834,
          0.6450237570733347,
          -1.6733767642736335,
          -0.18122074197359497,
          -0.10116934075473873,
          0.903652841960548,
          -1.1081023040397295,
          0.6399902629524633,
          0.7793730919102405,
          0.875387486712953,
          1.044674558695237,
          -0.4871528085047099,
          -0.6143593693157811,
          0.21228328709304328,
          -1.4146000066232995,
          -1.7253060336527681,
          0.7433283324848287,
          0.0627648959382127,
          -1.0410361166019233,
          -1.0179539366545063,
          -0.12346745371218192,
          -0.19861250276447442,
          -1.2928778298316919,
          -0.39586307865963055,
          -0.7406276396929118,
          0.639801665969883,
          1.5466490194149656,
          -2.25710586595814,
          0.025727214192610162,
          -1.3997758024249467,
          0.6293336997602994,
          0.5524935217565039,
          2.3874015597003724,
          -0.39471117140079154,
          -1.3953941132202565,
          0.40979403089478883,
          -0.23403208703945236,
          -1.5492736810458847,
          -2.80725233529573,
          -0.4855463561126437,
          1.9368340138661833,
          0.007857349331967686,
          -0.8882755436060508,
          -1.6353969003568276,
          -1.3308136151465673,
          -0.5024940855850913,
          -0.09574033787558964,
          1.876487667138215,
          -1.4315406749059392,
          -0.14243853343481255
         ]
        }
       ],
       "layout": {
        "legend": {
         "bgcolor": "#F5F6F9",
         "font": {
          "color": "#4D5663"
         }
        },
        "paper_bgcolor": "#F5F6F9",
        "plot_bgcolor": "#F5F6F9",
        "template": {
         "data": {
          "bar": [
           {
            "error_x": {
             "color": "#2a3f5f"
            },
            "error_y": {
             "color": "#2a3f5f"
            },
            "marker": {
             "line": {
              "color": "#E5ECF6",
              "width": 0.5
             },
             "pattern": {
              "fillmode": "overlay",
              "size": 10,
              "solidity": 0.2
             }
            },
            "type": "bar"
           }
          ],
          "barpolar": [
           {
            "marker": {
             "line": {
              "color": "#E5ECF6",
              "width": 0.5
             },
             "pattern": {
              "fillmode": "overlay",
              "size": 10,
              "solidity": 0.2
             }
            },
            "type": "barpolar"
           }
          ],
          "carpet": [
           {
            "aaxis": {
             "endlinecolor": "#2a3f5f",
             "gridcolor": "white",
             "linecolor": "white",
             "minorgridcolor": "white",
             "startlinecolor": "#2a3f5f"
            },
            "baxis": {
             "endlinecolor": "#2a3f5f",
             "gridcolor": "white",
             "linecolor": "white",
             "minorgridcolor": "white",
             "startlinecolor": "#2a3f5f"
            },
            "type": "carpet"
           }
          ],
          "choropleth": [
           {
            "colorbar": {
             "outlinewidth": 0,
             "ticks": ""
            },
            "type": "choropleth"
           }
          ],
          "contour": [
           {
            "colorbar": {
             "outlinewidth": 0,
             "ticks": ""
            },
            "colorscale": [
             [
              0,
              "#0d0887"
             ],
             [
              0.1111111111111111,
              "#46039f"
             ],
             [
              0.2222222222222222,
              "#7201a8"
             ],
             [
              0.3333333333333333,
              "#9c179e"
             ],
             [
              0.4444444444444444,
              "#bd3786"
             ],
             [
              0.5555555555555556,
              "#d8576b"
             ],
             [
              0.6666666666666666,
              "#ed7953"
             ],
             [
              0.7777777777777778,
              "#fb9f3a"
             ],
             [
              0.8888888888888888,
              "#fdca26"
             ],
             [
              1,
              "#f0f921"
             ]
            ],
            "type": "contour"
           }
          ],
          "contourcarpet": [
           {
            "colorbar": {
             "outlinewidth": 0,
             "ticks": ""
            },
            "type": "contourcarpet"
           }
          ],
          "heatmap": [
           {
            "colorbar": {
             "outlinewidth": 0,
             "ticks": ""
            },
            "colorscale": [
             [
              0,
              "#0d0887"
             ],
             [
              0.1111111111111111,
              "#46039f"
             ],
             [
              0.2222222222222222,
              "#7201a8"
             ],
             [
              0.3333333333333333,
              "#9c179e"
             ],
             [
              0.4444444444444444,
              "#bd3786"
             ],
             [
              0.5555555555555556,
              "#d8576b"
             ],
             [
              0.6666666666666666,
              "#ed7953"
             ],
             [
              0.7777777777777778,
              "#fb9f3a"
             ],
             [
              0.8888888888888888,
              "#fdca26"
             ],
             [
              1,
              "#f0f921"
             ]
            ],
            "type": "heatmap"
           }
          ],
          "heatmapgl": [
           {
            "colorbar": {
             "outlinewidth": 0,
             "ticks": ""
            },
            "colorscale": [
             [
              0,
              "#0d0887"
             ],
             [
              0.1111111111111111,
              "#46039f"
             ],
             [
              0.2222222222222222,
              "#7201a8"
             ],
             [
              0.3333333333333333,
              "#9c179e"
             ],
             [
              0.4444444444444444,
              "#bd3786"
             ],
             [
              0.5555555555555556,
              "#d8576b"
             ],
             [
              0.6666666666666666,
              "#ed7953"
             ],
             [
              0.7777777777777778,
              "#fb9f3a"
             ],
             [
              0.8888888888888888,
              "#fdca26"
             ],
             [
              1,
              "#f0f921"
             ]
            ],
            "type": "heatmapgl"
           }
          ],
          "histogram": [
           {
            "marker": {
             "pattern": {
              "fillmode": "overlay",
              "size": 10,
              "solidity": 0.2
             }
            },
            "type": "histogram"
           }
          ],
          "histogram2d": [
           {
            "colorbar": {
             "outlinewidth": 0,
             "ticks": ""
            },
            "colorscale": [
             [
              0,
              "#0d0887"
             ],
             [
              0.1111111111111111,
              "#46039f"
             ],
             [
              0.2222222222222222,
              "#7201a8"
             ],
             [
              0.3333333333333333,
              "#9c179e"
             ],
             [
              0.4444444444444444,
              "#bd3786"
             ],
             [
              0.5555555555555556,
              "#d8576b"
             ],
             [
              0.6666666666666666,
              "#ed7953"
             ],
             [
              0.7777777777777778,
              "#fb9f3a"
             ],
             [
              0.8888888888888888,
              "#fdca26"
             ],
             [
              1,
              "#f0f921"
             ]
            ],
            "type": "histogram2d"
           }
          ],
          "histogram2dcontour": [
           {
            "colorbar": {
             "outlinewidth": 0,
             "ticks": ""
            },
            "colorscale": [
             [
              0,
              "#0d0887"
             ],
             [
              0.1111111111111111,
              "#46039f"
             ],
             [
              0.2222222222222222,
              "#7201a8"
             ],
             [
              0.3333333333333333,
              "#9c179e"
             ],
             [
              0.4444444444444444,
              "#bd3786"
             ],
             [
              0.5555555555555556,
              "#d8576b"
             ],
             [
              0.6666666666666666,
              "#ed7953"
             ],
             [
              0.7777777777777778,
              "#fb9f3a"
             ],
             [
              0.8888888888888888,
              "#fdca26"
             ],
             [
              1,
              "#f0f921"
             ]
            ],
            "type": "histogram2dcontour"
           }
          ],
          "mesh3d": [
           {
            "colorbar": {
             "outlinewidth": 0,
             "ticks": ""
            },
            "type": "mesh3d"
           }
          ],
          "parcoords": [
           {
            "line": {
             "colorbar": {
              "outlinewidth": 0,
              "ticks": ""
             }
            },
            "type": "parcoords"
           }
          ],
          "pie": [
           {
            "automargin": true,
            "type": "pie"
           }
          ],
          "scatter": [
           {
            "fillpattern": {
             "fillmode": "overlay",
             "size": 10,
             "solidity": 0.2
            },
            "type": "scatter"
           }
          ],
          "scatter3d": [
           {
            "line": {
             "colorbar": {
              "outlinewidth": 0,
              "ticks": ""
             }
            },
            "marker": {
             "colorbar": {
              "outlinewidth": 0,
              "ticks": ""
             }
            },
            "type": "scatter3d"
           }
          ],
          "scattercarpet": [
           {
            "marker": {
             "colorbar": {
              "outlinewidth": 0,
              "ticks": ""
             }
            },
            "type": "scattercarpet"
           }
          ],
          "scattergeo": [
           {
            "marker": {
             "colorbar": {
              "outlinewidth": 0,
              "ticks": ""
             }
            },
            "type": "scattergeo"
           }
          ],
          "scattergl": [
           {
            "marker": {
             "colorbar": {
              "outlinewidth": 0,
              "ticks": ""
             }
            },
            "type": "scattergl"
           }
          ],
          "scattermapbox": [
           {
            "marker": {
             "colorbar": {
              "outlinewidth": 0,
              "ticks": ""
             }
            },
            "type": "scattermapbox"
           }
          ],
          "scatterpolar": [
           {
            "marker": {
             "colorbar": {
              "outlinewidth": 0,
              "ticks": ""
             }
            },
            "type": "scatterpolar"
           }
          ],
          "scatterpolargl": [
           {
            "marker": {
             "colorbar": {
              "outlinewidth": 0,
              "ticks": ""
             }
            },
            "type": "scatterpolargl"
           }
          ],
          "scatterternary": [
           {
            "marker": {
             "colorbar": {
              "outlinewidth": 0,
              "ticks": ""
             }
            },
            "type": "scatterternary"
           }
          ],
          "surface": [
           {
            "colorbar": {
             "outlinewidth": 0,
             "ticks": ""
            },
            "colorscale": [
             [
              0,
              "#0d0887"
             ],
             [
              0.1111111111111111,
              "#46039f"
             ],
             [
              0.2222222222222222,
              "#7201a8"
             ],
             [
              0.3333333333333333,
              "#9c179e"
             ],
             [
              0.4444444444444444,
              "#bd3786"
             ],
             [
              0.5555555555555556,
              "#d8576b"
             ],
             [
              0.6666666666666666,
              "#ed7953"
             ],
             [
              0.7777777777777778,
              "#fb9f3a"
             ],
             [
              0.8888888888888888,
              "#fdca26"
             ],
             [
              1,
              "#f0f921"
             ]
            ],
            "type": "surface"
           }
          ],
          "table": [
           {
            "cells": {
             "fill": {
              "color": "#EBF0F8"
             },
             "line": {
              "color": "white"
             }
            },
            "header": {
             "fill": {
              "color": "#C8D4E3"
             },
             "line": {
              "color": "white"
             }
            },
            "type": "table"
           }
          ]
         },
         "layout": {
          "annotationdefaults": {
           "arrowcolor": "#2a3f5f",
           "arrowhead": 0,
           "arrowwidth": 1
          },
          "autotypenumbers": "strict",
          "coloraxis": {
           "colorbar": {
            "outlinewidth": 0,
            "ticks": ""
           }
          },
          "colorscale": {
           "diverging": [
            [
             0,
             "#8e0152"
            ],
            [
             0.1,
             "#c51b7d"
            ],
            [
             0.2,
             "#de77ae"
            ],
            [
             0.3,
             "#f1b6da"
            ],
            [
             0.4,
             "#fde0ef"
            ],
            [
             0.5,
             "#f7f7f7"
            ],
            [
             0.6,
             "#e6f5d0"
            ],
            [
             0.7,
             "#b8e186"
            ],
            [
             0.8,
             "#7fbc41"
            ],
            [
             0.9,
             "#4d9221"
            ],
            [
             1,
             "#276419"
            ]
           ],
           "sequential": [
            [
             0,
             "#0d0887"
            ],
            [
             0.1111111111111111,
             "#46039f"
            ],
            [
             0.2222222222222222,
             "#7201a8"
            ],
            [
             0.3333333333333333,
             "#9c179e"
            ],
            [
             0.4444444444444444,
             "#bd3786"
            ],
            [
             0.5555555555555556,
             "#d8576b"
            ],
            [
             0.6666666666666666,
             "#ed7953"
            ],
            [
             0.7777777777777778,
             "#fb9f3a"
            ],
            [
             0.8888888888888888,
             "#fdca26"
            ],
            [
             1,
             "#f0f921"
            ]
           ],
           "sequentialminus": [
            [
             0,
             "#0d0887"
            ],
            [
             0.1111111111111111,
             "#46039f"
            ],
            [
             0.2222222222222222,
             "#7201a8"
            ],
            [
             0.3333333333333333,
             "#9c179e"
            ],
            [
             0.4444444444444444,
             "#bd3786"
            ],
            [
             0.5555555555555556,
             "#d8576b"
            ],
            [
             0.6666666666666666,
             "#ed7953"
            ],
            [
             0.7777777777777778,
             "#fb9f3a"
            ],
            [
             0.8888888888888888,
             "#fdca26"
            ],
            [
             1,
             "#f0f921"
            ]
           ]
          },
          "colorway": [
           "#636efa",
           "#EF553B",
           "#00cc96",
           "#ab63fa",
           "#FFA15A",
           "#19d3f3",
           "#FF6692",
           "#B6E880",
           "#FF97FF",
           "#FECB52"
          ],
          "font": {
           "color": "#2a3f5f"
          },
          "geo": {
           "bgcolor": "white",
           "lakecolor": "white",
           "landcolor": "#E5ECF6",
           "showlakes": true,
           "showland": true,
           "subunitcolor": "white"
          },
          "hoverlabel": {
           "align": "left"
          },
          "hovermode": "closest",
          "mapbox": {
           "style": "light"
          },
          "paper_bgcolor": "white",
          "plot_bgcolor": "#E5ECF6",
          "polar": {
           "angularaxis": {
            "gridcolor": "white",
            "linecolor": "white",
            "ticks": ""
           },
           "bgcolor": "#E5ECF6",
           "radialaxis": {
            "gridcolor": "white",
            "linecolor": "white",
            "ticks": ""
           }
          },
          "scene": {
           "xaxis": {
            "backgroundcolor": "#E5ECF6",
            "gridcolor": "white",
            "gridwidth": 2,
            "linecolor": "white",
            "showbackground": true,
            "ticks": "",
            "zerolinecolor": "white"
           },
           "yaxis": {
            "backgroundcolor": "#E5ECF6",
            "gridcolor": "white",
            "gridwidth": 2,
            "linecolor": "white",
            "showbackground": true,
            "ticks": "",
            "zerolinecolor": "white"
           },
           "zaxis": {
            "backgroundcolor": "#E5ECF6",
            "gridcolor": "white",
            "gridwidth": 2,
            "linecolor": "white",
            "showbackground": true,
            "ticks": "",
            "zerolinecolor": "white"
           }
          },
          "shapedefaults": {
           "line": {
            "color": "#2a3f5f"
           }
          },
          "ternary": {
           "aaxis": {
            "gridcolor": "white",
            "linecolor": "white",
            "ticks": ""
           },
           "baxis": {
            "gridcolor": "white",
            "linecolor": "white",
            "ticks": ""
           },
           "bgcolor": "#E5ECF6",
           "caxis": {
            "gridcolor": "white",
            "linecolor": "white",
            "ticks": ""
           }
          },
          "title": {
           "x": 0.05
          },
          "xaxis": {
           "automargin": true,
           "gridcolor": "white",
           "linecolor": "white",
           "ticks": "",
           "title": {
            "standoff": 15
           },
           "zerolinecolor": "white",
           "zerolinewidth": 2
          },
          "yaxis": {
           "automargin": true,
           "gridcolor": "white",
           "linecolor": "white",
           "ticks": "",
           "title": {
            "standoff": 15
           },
           "zerolinecolor": "white",
           "zerolinewidth": 2
          }
         }
        },
        "title": {
         "font": {
          "color": "#4D5663"
         }
        },
        "xaxis": {
         "gridcolor": "#E1E5ED",
         "showgrid": true,
         "tickfont": {
          "color": "#4D5663"
         },
         "title": {
          "font": {
           "color": "#4D5663"
          },
          "text": ""
         },
         "zerolinecolor": "#E1E5ED"
        },
        "yaxis": {
         "gridcolor": "#E1E5ED",
         "showgrid": true,
         "tickfont": {
          "color": "#4D5663"
         },
         "title": {
          "font": {
           "color": "#4D5663"
          },
          "text": ""
         },
         "zerolinecolor": "#E1E5ED"
        }
       }
      },
      "text/html": [
       "<div>                            <div id=\"7b255b19-f653-4ed3-9e4a-dbca4841b92d\" class=\"plotly-graph-div\" style=\"height:525px; width:100%;\"></div>            <script type=\"text/javascript\">                require([\"plotly\"], function(Plotly) {                    window.PLOTLYENV=window.PLOTLYENV || {};\n",
       "                    window.PLOTLYENV.BASE_URL='https://plot.ly';                                    if (document.getElementById(\"7b255b19-f653-4ed3-9e4a-dbca4841b92d\")) {                    Plotly.newPlot(                        \"7b255b19-f653-4ed3-9e4a-dbca4841b92d\",                        [{\"marker\":{\"color\":\"rgba(255, 153, 51, 0.6)\",\"line\":{\"color\":\"rgba(255, 153, 51, 1.0)\",\"width\":1}},\"name\":\"A\",\"orientation\":\"v\",\"text\":\"\",\"x\":[0,1,2,3,4,5,6,7,8,9,10,11,12,13,14,15,16,17,18,19,20,21,22,23,24,25,26,27,28,29,30,31,32,33,34,35,36,37,38,39,40,41,42,43,44,45,46,47,48,49,50,51,52,53,54,55,56,57,58,59,60,61,62,63,64,65,66,67,68,69,70,71,72,73,74,75,76,77,78,79,80,81,82,83,84,85,86,87,88,89,90,91,92,93,94,95,96,97,98,99],\"y\":[-1.1024981471016053,0.45532653178486426,0.40391046008714476,-0.2809970042901508,0.7989989325364689,1.0832583953209949,-1.234209784210434,0.3224994409690922,-0.3242087708237595,-0.1284653156020744,-0.7552748291440724,0.8184288968726566,0.5422845891231438,0.10789901010090519,-0.32139817008019994,-0.7963759333281335,-0.39037680946255826,-2.2655403217214696,0.5167189806038817,1.0311119027127906,-0.7280729939339882,2.2399138984961033,-1.2752392088928555,-0.5378918136584961,2.0295510309720433,0.23191793912741354,-0.7489274861749667,0.1804315695573513,-1.076899175942572,0.1480646205053287,-2.067689597756462,-0.6242648055288316,1.9205984896737025,-0.6626634145557857,0.43755162941932596,-0.08301825934472241,1.6979277445032026,1.3214093229538189,-0.5063299960070593,-0.0634250885800641,1.5099246615970119,-0.06181082497718354,-0.3409827236091026,-0.33324862190788684,1.500014889723033,-1.5918283819078909,0.1436883889894132,1.5756106661076734,-0.32506572639260684,0.37798144298626746,0.46348546666861756,-2.051188827144377,-1.0172458205234336,-0.5070704946445844,-0.8478731955080303,-0.2334924377631749,0.19262355458803307,-1.3003949447844079,-0.9149035966488548,0.8229650720355511,1.3006243742931636,-0.4126201075864305,-0.6711296866905244,-0.4405250418337267,-0.5651290513169568,1.0196385357067541,0.5877685488555959,-0.3945490445285969,0.8054155111464418,-1.0217863363909698,0.46049889877191597,0.57181539365208,-0.8625271604108457,-0.46000004554287016,0.02716586732277476,0.6816588980785862,-0.4668112307509774,0.25228987992077717,0.8669165806315857,0.847033573383717,-1.3863133841285744,-0.01553686633329219,-0.2740973426119702,0.043616214784867754,-2.1647128799946276,-0.05182135785862414,-1.384645553366656,0.4027841869433865,0.11479059202803563,0.3819374624127815,0.22205933188988886,0.9355340173488559,-0.2765941836604982,0.954866972229284,1.073857686349574,-1.1885752619110412,0.28988033179079464,0.8151597284421718,-0.9941872219563699,1.5368506591655258],\"type\":\"bar\"},{\"marker\":{\"color\":\"rgba(55, 128, 191, 0.6)\",\"line\":{\"color\":\"rgba(55, 128, 191, 1.0)\",\"width\":1}},\"name\":\"B\",\"orientation\":\"v\",\"text\":\"\",\"x\":[0,1,2,3,4,5,6,7,8,9,10,11,12,13,14,15,16,17,18,19,20,21,22,23,24,25,26,27,28,29,30,31,32,33,34,35,36,37,38,39,40,41,42,43,44,45,46,47,48,49,50,51,52,53,54,55,56,57,58,59,60,61,62,63,64,65,66,67,68,69,70,71,72,73,74,75,76,77,78,79,80,81,82,83,84,85,86,87,88,89,90,91,92,93,94,95,96,97,98,99],\"y\":[-0.8713196634022675,-1.767211174819314,-1.0350908487091959,-0.08072812492485895,-1.1951142174006553,-1.8471571622199414,1.8801067041568933,-1.1058767571189025,0.40937518520839133,0.5074882970638703,-0.9099081392282109,-0.23390168778098436,1.3793033998833388,-0.03876003474237771,1.38539784508653,0.8040467182086181,-1.9859688198263412,1.4318814602300922,0.2856696833736994,-0.02734422820736344,2.2604852635308466,0.3437984522726635,-1.6199777026322286,-1.6252434641567413,0.819414661012346,0.8718682984632122,-0.9577172169711519,0.26839737955878556,1.3259952049003743,-0.5112436727714154,1.5282438868112913,0.46111855997757906,0.5103298218556396,-1.6594959487403262,0.5897407100948779,-0.0702770913251112,2.145076222618863,-0.3302738874863218,1.7954077585596733,-0.32578556653973817,0.8364388798723189,0.22696433098098545,-0.8327353257833802,-1.015031002671774,0.37786457003176177,-0.8097117301574803,-0.9985378053285431,0.5203569062543102,0.4818184236235761,-0.8441091152069875,1.2708165965970095,-0.70334138878969,1.0694277546339286,0.6254820710794478,-0.009766599509518017,0.10566623768884706,-0.38865979307592985,-0.4287810605985193,-0.3739451959228925,-0.9145143264683828,2.625130148137943,0.2778968503855602,0.9934389776868553,-0.9072450113031999,0.5210933674015816,0.0830080569450399,0.14620986056202875,-0.4516254448680814,1.1997048520705935,-0.45206800531489205,1.0943552757896906,0.9640478674870745,-1.6536100269234513,0.101149502791871,-0.4152232250614539,0.6152742885080315,0.2106406522997461,0.0019031646346197241,0.602635626247644,-1.715601158322781,0.5628710900741206,-0.1294924891033397,-0.6355075840796094,1.2649381157969501,0.02498520572713563,0.5104545781590395,-0.5702951302023916,1.7309202655032256,1.2879164184864185,-0.36438719814264675,0.2745117757241402,-0.07135501369983091,-0.10594911360867416,0.2004243601221823,0.5662466524036643,0.4151771166224692,2.0414607940726452,0.3982025407248406,-1.2995806760810338,0.982890176174143],\"type\":\"bar\"},{\"marker\":{\"color\":\"rgba(50, 171, 96, 0.6)\",\"line\":{\"color\":\"rgba(50, 171, 96, 1.0)\",\"width\":1}},\"name\":\"C\",\"orientation\":\"v\",\"text\":\"\",\"x\":[0,1,2,3,4,5,6,7,8,9,10,11,12,13,14,15,16,17,18,19,20,21,22,23,24,25,26,27,28,29,30,31,32,33,34,35,36,37,38,39,40,41,42,43,44,45,46,47,48,49,50,51,52,53,54,55,56,57,58,59,60,61,62,63,64,65,66,67,68,69,70,71,72,73,74,75,76,77,78,79,80,81,82,83,84,85,86,87,88,89,90,91,92,93,94,95,96,97,98,99],\"y\":[-0.23191483467728796,0.22996169982911116,0.37235644215290814,-0.18317934630443627,0.030269596121248386,0.2377912009439052,-0.4635781052161619,-1.113826422851541,-0.4640499369179566,0.0862418242527444,-0.17526457764388662,-1.2394707131388767,1.1378268189836096,1.1227212390740267,0.8469162696258059,-0.2352349772821939,0.1966858786059231,-0.2933140386799466,-0.30688059116922967,-0.4821681732345493,-0.27745071051604725,-1.1243501531182385,0.057655680779404216,0.45004825152232597,-0.6431969695826352,1.8043144586142832,0.5335382114718625,-0.558890544540614,-1.0720048033208915,-0.941563266309427,0.348237899267876,1.1705473551597216,-0.8353913555607797,-0.857665180470015,-0.34313815056146535,-0.6405363663505411,-0.005708929644882179,-1.0129631575850104,0.5779718783951365,-1.0519358973969024,0.5136347490696667,-1.2979934398788073,0.5349053270524682,2.357078440371061,0.7469704623104282,-0.7512300212264496,-0.0676600767370751,1.1717868904695523,0.056014652083291414,1.9067085542207205,0.22696914256599662,-1.0227464786175227,-0.3662894960812538,-1.069064556566524,0.5477192163632087,0.38967752312019927,-0.30929610039500577,1.3586255897880464,1.5695745260088578,-0.440786731303405,-1.0467786473869678,-0.6406050565135507,1.2910836005523305,-0.11894889194832031,-1.0179449928368667,1.3447998121960456,0.14512180959110263,-1.227725683384825,1.4371215964566564,-0.0031341668208622908,-0.5576920364414308,-0.38328672961847204,0.026830990387689723,-0.8382448805596847,0.8827979098248043,1.5898469507164932,2.604205368168547,0.8892144723017181,-0.07378398071441221,0.4267291792279438,0.8950635767904128,0.3922940160616898,-0.0851112683431683,-0.6736568562098894,-0.43538967839927634,-0.6678661489181582,0.4674966404566777,1.3041628300440022,-1.9223632355127063,-0.6824825992913708,-0.7251925773027719,0.8406610583174904,0.6198675777100461,1.2865116834532744,-1.6841263181861676,0.3858325516026786,-0.31831457953920045,0.9298675048241788,0.08512501033433308,0.5944382814004443],\"type\":\"bar\"},{\"marker\":{\"color\":\"rgba(128, 0, 128, 0.6)\",\"line\":{\"color\":\"rgba(128, 0, 128, 1.0)\",\"width\":1}},\"name\":\"D\",\"orientation\":\"v\",\"text\":\"\",\"x\":[0,1,2,3,4,5,6,7,8,9,10,11,12,13,14,15,16,17,18,19,20,21,22,23,24,25,26,27,28,29,30,31,32,33,34,35,36,37,38,39,40,41,42,43,44,45,46,47,48,49,50,51,52,53,54,55,56,57,58,59,60,61,62,63,64,65,66,67,68,69,70,71,72,73,74,75,76,77,78,79,80,81,82,83,84,85,86,87,88,89,90,91,92,93,94,95,96,97,98,99],\"y\":[1.7420011505283355,-0.21407790210814454,-0.8346995928206267,0.3572143263372206,-0.44861423493977404,-1.6081212330874752,0.801690734912549,-0.6109376576801621,2.1373076535109092,-0.3895897715840815,0.49813442940114483,0.9759970066716024,-0.7932651994978115,0.6835870707382509,-0.3274394480942042,1.8709656860865775,0.3111020957103798,-0.7509733514305589,0.70735198442484,-2.0380165731831723,-0.2268007663096546,-0.1570710863874976,-0.043925259267604065,1.2132826148806004,-0.35116309161963677,-0.22222779417501082,-0.4744366412490772,0.9675082903553129,0.117057975512573,1.3648150969859354,-0.44309217680230667,-0.2426589005323525,0.6386264583219761,-0.8332164875365083,-0.44728663182657197,-0.02280652878873671,2.225828052114822,-0.14800113052807606,0.6406805425970652,-1.1344693137474502,-1.0701856529498481,-1.0291026082395422,1.439390319110055,0.7584810547627114,0.5888102171302606,0.2724300812740993,0.43539688823221795,0.47801130939445824,0.7306479076541726,0.7096123064838874,0.38797045860083834,0.6450237570733347,-1.6733767642736335,-0.18122074197359497,-0.10116934075473873,0.903652841960548,-1.1081023040397295,0.6399902629524633,0.7793730919102405,0.875387486712953,1.044674558695237,-0.4871528085047099,-0.6143593693157811,0.21228328709304328,-1.4146000066232995,-1.7253060336527681,0.7433283324848287,0.0627648959382127,-1.0410361166019233,-1.0179539366545063,-0.12346745371218192,-0.19861250276447442,-1.2928778298316919,-0.39586307865963055,-0.7406276396929118,0.639801665969883,1.5466490194149656,-2.25710586595814,0.025727214192610162,-1.3997758024249467,0.6293336997602994,0.5524935217565039,2.3874015597003724,-0.39471117140079154,-1.3953941132202565,0.40979403089478883,-0.23403208703945236,-1.5492736810458847,-2.80725233529573,-0.4855463561126437,1.9368340138661833,0.007857349331967686,-0.8882755436060508,-1.6353969003568276,-1.3308136151465673,-0.5024940855850913,-0.09574033787558964,1.876487667138215,-1.4315406749059392,-0.14243853343481255],\"type\":\"bar\"}],                        {\"legend\":{\"bgcolor\":\"#F5F6F9\",\"font\":{\"color\":\"#4D5663\"}},\"paper_bgcolor\":\"#F5F6F9\",\"plot_bgcolor\":\"#F5F6F9\",\"template\":{\"data\":{\"barpolar\":[{\"marker\":{\"line\":{\"color\":\"#E5ECF6\",\"width\":0.5},\"pattern\":{\"fillmode\":\"overlay\",\"size\":10,\"solidity\":0.2}},\"type\":\"barpolar\"}],\"bar\":[{\"error_x\":{\"color\":\"#2a3f5f\"},\"error_y\":{\"color\":\"#2a3f5f\"},\"marker\":{\"line\":{\"color\":\"#E5ECF6\",\"width\":0.5},\"pattern\":{\"fillmode\":\"overlay\",\"size\":10,\"solidity\":0.2}},\"type\":\"bar\"}],\"carpet\":[{\"aaxis\":{\"endlinecolor\":\"#2a3f5f\",\"gridcolor\":\"white\",\"linecolor\":\"white\",\"minorgridcolor\":\"white\",\"startlinecolor\":\"#2a3f5f\"},\"baxis\":{\"endlinecolor\":\"#2a3f5f\",\"gridcolor\":\"white\",\"linecolor\":\"white\",\"minorgridcolor\":\"white\",\"startlinecolor\":\"#2a3f5f\"},\"type\":\"carpet\"}],\"choropleth\":[{\"colorbar\":{\"outlinewidth\":0,\"ticks\":\"\"},\"type\":\"choropleth\"}],\"contourcarpet\":[{\"colorbar\":{\"outlinewidth\":0,\"ticks\":\"\"},\"type\":\"contourcarpet\"}],\"contour\":[{\"colorbar\":{\"outlinewidth\":0,\"ticks\":\"\"},\"colorscale\":[[0.0,\"#0d0887\"],[0.1111111111111111,\"#46039f\"],[0.2222222222222222,\"#7201a8\"],[0.3333333333333333,\"#9c179e\"],[0.4444444444444444,\"#bd3786\"],[0.5555555555555556,\"#d8576b\"],[0.6666666666666666,\"#ed7953\"],[0.7777777777777778,\"#fb9f3a\"],[0.8888888888888888,\"#fdca26\"],[1.0,\"#f0f921\"]],\"type\":\"contour\"}],\"heatmapgl\":[{\"colorbar\":{\"outlinewidth\":0,\"ticks\":\"\"},\"colorscale\":[[0.0,\"#0d0887\"],[0.1111111111111111,\"#46039f\"],[0.2222222222222222,\"#7201a8\"],[0.3333333333333333,\"#9c179e\"],[0.4444444444444444,\"#bd3786\"],[0.5555555555555556,\"#d8576b\"],[0.6666666666666666,\"#ed7953\"],[0.7777777777777778,\"#fb9f3a\"],[0.8888888888888888,\"#fdca26\"],[1.0,\"#f0f921\"]],\"type\":\"heatmapgl\"}],\"heatmap\":[{\"colorbar\":{\"outlinewidth\":0,\"ticks\":\"\"},\"colorscale\":[[0.0,\"#0d0887\"],[0.1111111111111111,\"#46039f\"],[0.2222222222222222,\"#7201a8\"],[0.3333333333333333,\"#9c179e\"],[0.4444444444444444,\"#bd3786\"],[0.5555555555555556,\"#d8576b\"],[0.6666666666666666,\"#ed7953\"],[0.7777777777777778,\"#fb9f3a\"],[0.8888888888888888,\"#fdca26\"],[1.0,\"#f0f921\"]],\"type\":\"heatmap\"}],\"histogram2dcontour\":[{\"colorbar\":{\"outlinewidth\":0,\"ticks\":\"\"},\"colorscale\":[[0.0,\"#0d0887\"],[0.1111111111111111,\"#46039f\"],[0.2222222222222222,\"#7201a8\"],[0.3333333333333333,\"#9c179e\"],[0.4444444444444444,\"#bd3786\"],[0.5555555555555556,\"#d8576b\"],[0.6666666666666666,\"#ed7953\"],[0.7777777777777778,\"#fb9f3a\"],[0.8888888888888888,\"#fdca26\"],[1.0,\"#f0f921\"]],\"type\":\"histogram2dcontour\"}],\"histogram2d\":[{\"colorbar\":{\"outlinewidth\":0,\"ticks\":\"\"},\"colorscale\":[[0.0,\"#0d0887\"],[0.1111111111111111,\"#46039f\"],[0.2222222222222222,\"#7201a8\"],[0.3333333333333333,\"#9c179e\"],[0.4444444444444444,\"#bd3786\"],[0.5555555555555556,\"#d8576b\"],[0.6666666666666666,\"#ed7953\"],[0.7777777777777778,\"#fb9f3a\"],[0.8888888888888888,\"#fdca26\"],[1.0,\"#f0f921\"]],\"type\":\"histogram2d\"}],\"histogram\":[{\"marker\":{\"pattern\":{\"fillmode\":\"overlay\",\"size\":10,\"solidity\":0.2}},\"type\":\"histogram\"}],\"mesh3d\":[{\"colorbar\":{\"outlinewidth\":0,\"ticks\":\"\"},\"type\":\"mesh3d\"}],\"parcoords\":[{\"line\":{\"colorbar\":{\"outlinewidth\":0,\"ticks\":\"\"}},\"type\":\"parcoords\"}],\"pie\":[{\"automargin\":true,\"type\":\"pie\"}],\"scatter3d\":[{\"line\":{\"colorbar\":{\"outlinewidth\":0,\"ticks\":\"\"}},\"marker\":{\"colorbar\":{\"outlinewidth\":0,\"ticks\":\"\"}},\"type\":\"scatter3d\"}],\"scattercarpet\":[{\"marker\":{\"colorbar\":{\"outlinewidth\":0,\"ticks\":\"\"}},\"type\":\"scattercarpet\"}],\"scattergeo\":[{\"marker\":{\"colorbar\":{\"outlinewidth\":0,\"ticks\":\"\"}},\"type\":\"scattergeo\"}],\"scattergl\":[{\"marker\":{\"colorbar\":{\"outlinewidth\":0,\"ticks\":\"\"}},\"type\":\"scattergl\"}],\"scattermapbox\":[{\"marker\":{\"colorbar\":{\"outlinewidth\":0,\"ticks\":\"\"}},\"type\":\"scattermapbox\"}],\"scatterpolargl\":[{\"marker\":{\"colorbar\":{\"outlinewidth\":0,\"ticks\":\"\"}},\"type\":\"scatterpolargl\"}],\"scatterpolar\":[{\"marker\":{\"colorbar\":{\"outlinewidth\":0,\"ticks\":\"\"}},\"type\":\"scatterpolar\"}],\"scatter\":[{\"fillpattern\":{\"fillmode\":\"overlay\",\"size\":10,\"solidity\":0.2},\"type\":\"scatter\"}],\"scatterternary\":[{\"marker\":{\"colorbar\":{\"outlinewidth\":0,\"ticks\":\"\"}},\"type\":\"scatterternary\"}],\"surface\":[{\"colorbar\":{\"outlinewidth\":0,\"ticks\":\"\"},\"colorscale\":[[0.0,\"#0d0887\"],[0.1111111111111111,\"#46039f\"],[0.2222222222222222,\"#7201a8\"],[0.3333333333333333,\"#9c179e\"],[0.4444444444444444,\"#bd3786\"],[0.5555555555555556,\"#d8576b\"],[0.6666666666666666,\"#ed7953\"],[0.7777777777777778,\"#fb9f3a\"],[0.8888888888888888,\"#fdca26\"],[1.0,\"#f0f921\"]],\"type\":\"surface\"}],\"table\":[{\"cells\":{\"fill\":{\"color\":\"#EBF0F8\"},\"line\":{\"color\":\"white\"}},\"header\":{\"fill\":{\"color\":\"#C8D4E3\"},\"line\":{\"color\":\"white\"}},\"type\":\"table\"}]},\"layout\":{\"annotationdefaults\":{\"arrowcolor\":\"#2a3f5f\",\"arrowhead\":0,\"arrowwidth\":1},\"autotypenumbers\":\"strict\",\"coloraxis\":{\"colorbar\":{\"outlinewidth\":0,\"ticks\":\"\"}},\"colorscale\":{\"diverging\":[[0,\"#8e0152\"],[0.1,\"#c51b7d\"],[0.2,\"#de77ae\"],[0.3,\"#f1b6da\"],[0.4,\"#fde0ef\"],[0.5,\"#f7f7f7\"],[0.6,\"#e6f5d0\"],[0.7,\"#b8e186\"],[0.8,\"#7fbc41\"],[0.9,\"#4d9221\"],[1,\"#276419\"]],\"sequential\":[[0.0,\"#0d0887\"],[0.1111111111111111,\"#46039f\"],[0.2222222222222222,\"#7201a8\"],[0.3333333333333333,\"#9c179e\"],[0.4444444444444444,\"#bd3786\"],[0.5555555555555556,\"#d8576b\"],[0.6666666666666666,\"#ed7953\"],[0.7777777777777778,\"#fb9f3a\"],[0.8888888888888888,\"#fdca26\"],[1.0,\"#f0f921\"]],\"sequentialminus\":[[0.0,\"#0d0887\"],[0.1111111111111111,\"#46039f\"],[0.2222222222222222,\"#7201a8\"],[0.3333333333333333,\"#9c179e\"],[0.4444444444444444,\"#bd3786\"],[0.5555555555555556,\"#d8576b\"],[0.6666666666666666,\"#ed7953\"],[0.7777777777777778,\"#fb9f3a\"],[0.8888888888888888,\"#fdca26\"],[1.0,\"#f0f921\"]]},\"colorway\":[\"#636efa\",\"#EF553B\",\"#00cc96\",\"#ab63fa\",\"#FFA15A\",\"#19d3f3\",\"#FF6692\",\"#B6E880\",\"#FF97FF\",\"#FECB52\"],\"font\":{\"color\":\"#2a3f5f\"},\"geo\":{\"bgcolor\":\"white\",\"lakecolor\":\"white\",\"landcolor\":\"#E5ECF6\",\"showlakes\":true,\"showland\":true,\"subunitcolor\":\"white\"},\"hoverlabel\":{\"align\":\"left\"},\"hovermode\":\"closest\",\"mapbox\":{\"style\":\"light\"},\"paper_bgcolor\":\"white\",\"plot_bgcolor\":\"#E5ECF6\",\"polar\":{\"angularaxis\":{\"gridcolor\":\"white\",\"linecolor\":\"white\",\"ticks\":\"\"},\"bgcolor\":\"#E5ECF6\",\"radialaxis\":{\"gridcolor\":\"white\",\"linecolor\":\"white\",\"ticks\":\"\"}},\"scene\":{\"xaxis\":{\"backgroundcolor\":\"#E5ECF6\",\"gridcolor\":\"white\",\"gridwidth\":2,\"linecolor\":\"white\",\"showbackground\":true,\"ticks\":\"\",\"zerolinecolor\":\"white\"},\"yaxis\":{\"backgroundcolor\":\"#E5ECF6\",\"gridcolor\":\"white\",\"gridwidth\":2,\"linecolor\":\"white\",\"showbackground\":true,\"ticks\":\"\",\"zerolinecolor\":\"white\"},\"zaxis\":{\"backgroundcolor\":\"#E5ECF6\",\"gridcolor\":\"white\",\"gridwidth\":2,\"linecolor\":\"white\",\"showbackground\":true,\"ticks\":\"\",\"zerolinecolor\":\"white\"}},\"shapedefaults\":{\"line\":{\"color\":\"#2a3f5f\"}},\"ternary\":{\"aaxis\":{\"gridcolor\":\"white\",\"linecolor\":\"white\",\"ticks\":\"\"},\"baxis\":{\"gridcolor\":\"white\",\"linecolor\":\"white\",\"ticks\":\"\"},\"bgcolor\":\"#E5ECF6\",\"caxis\":{\"gridcolor\":\"white\",\"linecolor\":\"white\",\"ticks\":\"\"}},\"title\":{\"x\":0.05},\"xaxis\":{\"automargin\":true,\"gridcolor\":\"white\",\"linecolor\":\"white\",\"ticks\":\"\",\"title\":{\"standoff\":15},\"zerolinecolor\":\"white\",\"zerolinewidth\":2},\"yaxis\":{\"automargin\":true,\"gridcolor\":\"white\",\"linecolor\":\"white\",\"ticks\":\"\",\"title\":{\"standoff\":15},\"zerolinecolor\":\"white\",\"zerolinewidth\":2}}},\"title\":{\"font\":{\"color\":\"#4D5663\"}},\"xaxis\":{\"gridcolor\":\"#E1E5ED\",\"showgrid\":true,\"tickfont\":{\"color\":\"#4D5663\"},\"title\":{\"font\":{\"color\":\"#4D5663\"},\"text\":\"\"},\"zerolinecolor\":\"#E1E5ED\"},\"yaxis\":{\"gridcolor\":\"#E1E5ED\",\"showgrid\":true,\"tickfont\":{\"color\":\"#4D5663\"},\"title\":{\"font\":{\"color\":\"#4D5663\"},\"text\":\"\"},\"zerolinecolor\":\"#E1E5ED\"}},                        {\"showLink\": true, \"linkText\": \"Export to plot.ly\", \"plotlyServerURL\": \"https://plot.ly\", \"responsive\": true}                    ).then(function(){\n",
       "                            \n",
       "var gd = document.getElementById('7b255b19-f653-4ed3-9e4a-dbca4841b92d');\n",
       "var x = new MutationObserver(function (mutations, observer) {{\n",
       "        var display = window.getComputedStyle(gd).display;\n",
       "        if (!display || display === 'none') {{\n",
       "            console.log([gd, 'removed!']);\n",
       "            Plotly.purge(gd);\n",
       "            observer.disconnect();\n",
       "        }}\n",
       "}});\n",
       "\n",
       "// Listen for the removal of the full notebook cells\n",
       "var notebookContainer = gd.closest('#notebook-container');\n",
       "if (notebookContainer) {{\n",
       "    x.observe(notebookContainer, {childList: true});\n",
       "}}\n",
       "\n",
       "// Listen for the clearing of the current output cell\n",
       "var outputEl = gd.closest('.output');\n",
       "if (outputEl) {{\n",
       "    x.observe(outputEl, {childList: true});\n",
       "}}\n",
       "\n",
       "                        })                };                });            </script>        </div>"
      ]
     },
     "metadata": {},
     "output_type": "display_data"
    }
   ],
   "source": [
    "# Data May not be always found in Category what we can do is we can use Groupby to categorize Data ;)\n",
    "df.iplot(kind='bar')"
   ]
  },
  {
   "cell_type": "code",
   "execution_count": 17,
   "metadata": {},
   "outputs": [
    {
     "data": {
      "application/vnd.plotly.v1+json": {
       "config": {
        "linkText": "Export to plot.ly",
        "plotlyServerURL": "https://plot.ly",
        "showLink": true
       },
       "data": [
        {
         "marker": {
          "color": "rgba(255, 153, 51, 0.6)",
          "line": {
           "color": "rgba(255, 153, 51, 1.0)",
           "width": 1
          }
         },
         "name": "None",
         "orientation": "v",
         "text": "",
         "type": "bar",
         "x": [
          "A",
          "B",
          "C",
          "D"
         ],
         "y": [
          100,
          100,
          100,
          100
         ]
        }
       ],
       "layout": {
        "legend": {
         "bgcolor": "#F5F6F9",
         "font": {
          "color": "#4D5663"
         }
        },
        "paper_bgcolor": "#F5F6F9",
        "plot_bgcolor": "#F5F6F9",
        "template": {
         "data": {
          "bar": [
           {
            "error_x": {
             "color": "#2a3f5f"
            },
            "error_y": {
             "color": "#2a3f5f"
            },
            "marker": {
             "line": {
              "color": "#E5ECF6",
              "width": 0.5
             },
             "pattern": {
              "fillmode": "overlay",
              "size": 10,
              "solidity": 0.2
             }
            },
            "type": "bar"
           }
          ],
          "barpolar": [
           {
            "marker": {
             "line": {
              "color": "#E5ECF6",
              "width": 0.5
             },
             "pattern": {
              "fillmode": "overlay",
              "size": 10,
              "solidity": 0.2
             }
            },
            "type": "barpolar"
           }
          ],
          "carpet": [
           {
            "aaxis": {
             "endlinecolor": "#2a3f5f",
             "gridcolor": "white",
             "linecolor": "white",
             "minorgridcolor": "white",
             "startlinecolor": "#2a3f5f"
            },
            "baxis": {
             "endlinecolor": "#2a3f5f",
             "gridcolor": "white",
             "linecolor": "white",
             "minorgridcolor": "white",
             "startlinecolor": "#2a3f5f"
            },
            "type": "carpet"
           }
          ],
          "choropleth": [
           {
            "colorbar": {
             "outlinewidth": 0,
             "ticks": ""
            },
            "type": "choropleth"
           }
          ],
          "contour": [
           {
            "colorbar": {
             "outlinewidth": 0,
             "ticks": ""
            },
            "colorscale": [
             [
              0,
              "#0d0887"
             ],
             [
              0.1111111111111111,
              "#46039f"
             ],
             [
              0.2222222222222222,
              "#7201a8"
             ],
             [
              0.3333333333333333,
              "#9c179e"
             ],
             [
              0.4444444444444444,
              "#bd3786"
             ],
             [
              0.5555555555555556,
              "#d8576b"
             ],
             [
              0.6666666666666666,
              "#ed7953"
             ],
             [
              0.7777777777777778,
              "#fb9f3a"
             ],
             [
              0.8888888888888888,
              "#fdca26"
             ],
             [
              1,
              "#f0f921"
             ]
            ],
            "type": "contour"
           }
          ],
          "contourcarpet": [
           {
            "colorbar": {
             "outlinewidth": 0,
             "ticks": ""
            },
            "type": "contourcarpet"
           }
          ],
          "heatmap": [
           {
            "colorbar": {
             "outlinewidth": 0,
             "ticks": ""
            },
            "colorscale": [
             [
              0,
              "#0d0887"
             ],
             [
              0.1111111111111111,
              "#46039f"
             ],
             [
              0.2222222222222222,
              "#7201a8"
             ],
             [
              0.3333333333333333,
              "#9c179e"
             ],
             [
              0.4444444444444444,
              "#bd3786"
             ],
             [
              0.5555555555555556,
              "#d8576b"
             ],
             [
              0.6666666666666666,
              "#ed7953"
             ],
             [
              0.7777777777777778,
              "#fb9f3a"
             ],
             [
              0.8888888888888888,
              "#fdca26"
             ],
             [
              1,
              "#f0f921"
             ]
            ],
            "type": "heatmap"
           }
          ],
          "heatmapgl": [
           {
            "colorbar": {
             "outlinewidth": 0,
             "ticks": ""
            },
            "colorscale": [
             [
              0,
              "#0d0887"
             ],
             [
              0.1111111111111111,
              "#46039f"
             ],
             [
              0.2222222222222222,
              "#7201a8"
             ],
             [
              0.3333333333333333,
              "#9c179e"
             ],
             [
              0.4444444444444444,
              "#bd3786"
             ],
             [
              0.5555555555555556,
              "#d8576b"
             ],
             [
              0.6666666666666666,
              "#ed7953"
             ],
             [
              0.7777777777777778,
              "#fb9f3a"
             ],
             [
              0.8888888888888888,
              "#fdca26"
             ],
             [
              1,
              "#f0f921"
             ]
            ],
            "type": "heatmapgl"
           }
          ],
          "histogram": [
           {
            "marker": {
             "pattern": {
              "fillmode": "overlay",
              "size": 10,
              "solidity": 0.2
             }
            },
            "type": "histogram"
           }
          ],
          "histogram2d": [
           {
            "colorbar": {
             "outlinewidth": 0,
             "ticks": ""
            },
            "colorscale": [
             [
              0,
              "#0d0887"
             ],
             [
              0.1111111111111111,
              "#46039f"
             ],
             [
              0.2222222222222222,
              "#7201a8"
             ],
             [
              0.3333333333333333,
              "#9c179e"
             ],
             [
              0.4444444444444444,
              "#bd3786"
             ],
             [
              0.5555555555555556,
              "#d8576b"
             ],
             [
              0.6666666666666666,
              "#ed7953"
             ],
             [
              0.7777777777777778,
              "#fb9f3a"
             ],
             [
              0.8888888888888888,
              "#fdca26"
             ],
             [
              1,
              "#f0f921"
             ]
            ],
            "type": "histogram2d"
           }
          ],
          "histogram2dcontour": [
           {
            "colorbar": {
             "outlinewidth": 0,
             "ticks": ""
            },
            "colorscale": [
             [
              0,
              "#0d0887"
             ],
             [
              0.1111111111111111,
              "#46039f"
             ],
             [
              0.2222222222222222,
              "#7201a8"
             ],
             [
              0.3333333333333333,
              "#9c179e"
             ],
             [
              0.4444444444444444,
              "#bd3786"
             ],
             [
              0.5555555555555556,
              "#d8576b"
             ],
             [
              0.6666666666666666,
              "#ed7953"
             ],
             [
              0.7777777777777778,
              "#fb9f3a"
             ],
             [
              0.8888888888888888,
              "#fdca26"
             ],
             [
              1,
              "#f0f921"
             ]
            ],
            "type": "histogram2dcontour"
           }
          ],
          "mesh3d": [
           {
            "colorbar": {
             "outlinewidth": 0,
             "ticks": ""
            },
            "type": "mesh3d"
           }
          ],
          "parcoords": [
           {
            "line": {
             "colorbar": {
              "outlinewidth": 0,
              "ticks": ""
             }
            },
            "type": "parcoords"
           }
          ],
          "pie": [
           {
            "automargin": true,
            "type": "pie"
           }
          ],
          "scatter": [
           {
            "fillpattern": {
             "fillmode": "overlay",
             "size": 10,
             "solidity": 0.2
            },
            "type": "scatter"
           }
          ],
          "scatter3d": [
           {
            "line": {
             "colorbar": {
              "outlinewidth": 0,
              "ticks": ""
             }
            },
            "marker": {
             "colorbar": {
              "outlinewidth": 0,
              "ticks": ""
             }
            },
            "type": "scatter3d"
           }
          ],
          "scattercarpet": [
           {
            "marker": {
             "colorbar": {
              "outlinewidth": 0,
              "ticks": ""
             }
            },
            "type": "scattercarpet"
           }
          ],
          "scattergeo": [
           {
            "marker": {
             "colorbar": {
              "outlinewidth": 0,
              "ticks": ""
             }
            },
            "type": "scattergeo"
           }
          ],
          "scattergl": [
           {
            "marker": {
             "colorbar": {
              "outlinewidth": 0,
              "ticks": ""
             }
            },
            "type": "scattergl"
           }
          ],
          "scattermapbox": [
           {
            "marker": {
             "colorbar": {
              "outlinewidth": 0,
              "ticks": ""
             }
            },
            "type": "scattermapbox"
           }
          ],
          "scatterpolar": [
           {
            "marker": {
             "colorbar": {
              "outlinewidth": 0,
              "ticks": ""
             }
            },
            "type": "scatterpolar"
           }
          ],
          "scatterpolargl": [
           {
            "marker": {
             "colorbar": {
              "outlinewidth": 0,
              "ticks": ""
             }
            },
            "type": "scatterpolargl"
           }
          ],
          "scatterternary": [
           {
            "marker": {
             "colorbar": {
              "outlinewidth": 0,
              "ticks": ""
             }
            },
            "type": "scatterternary"
           }
          ],
          "surface": [
           {
            "colorbar": {
             "outlinewidth": 0,
             "ticks": ""
            },
            "colorscale": [
             [
              0,
              "#0d0887"
             ],
             [
              0.1111111111111111,
              "#46039f"
             ],
             [
              0.2222222222222222,
              "#7201a8"
             ],
             [
              0.3333333333333333,
              "#9c179e"
             ],
             [
              0.4444444444444444,
              "#bd3786"
             ],
             [
              0.5555555555555556,
              "#d8576b"
             ],
             [
              0.6666666666666666,
              "#ed7953"
             ],
             [
              0.7777777777777778,
              "#fb9f3a"
             ],
             [
              0.8888888888888888,
              "#fdca26"
             ],
             [
              1,
              "#f0f921"
             ]
            ],
            "type": "surface"
           }
          ],
          "table": [
           {
            "cells": {
             "fill": {
              "color": "#EBF0F8"
             },
             "line": {
              "color": "white"
             }
            },
            "header": {
             "fill": {
              "color": "#C8D4E3"
             },
             "line": {
              "color": "white"
             }
            },
            "type": "table"
           }
          ]
         },
         "layout": {
          "annotationdefaults": {
           "arrowcolor": "#2a3f5f",
           "arrowhead": 0,
           "arrowwidth": 1
          },
          "autotypenumbers": "strict",
          "coloraxis": {
           "colorbar": {
            "outlinewidth": 0,
            "ticks": ""
           }
          },
          "colorscale": {
           "diverging": [
            [
             0,
             "#8e0152"
            ],
            [
             0.1,
             "#c51b7d"
            ],
            [
             0.2,
             "#de77ae"
            ],
            [
             0.3,
             "#f1b6da"
            ],
            [
             0.4,
             "#fde0ef"
            ],
            [
             0.5,
             "#f7f7f7"
            ],
            [
             0.6,
             "#e6f5d0"
            ],
            [
             0.7,
             "#b8e186"
            ],
            [
             0.8,
             "#7fbc41"
            ],
            [
             0.9,
             "#4d9221"
            ],
            [
             1,
             "#276419"
            ]
           ],
           "sequential": [
            [
             0,
             "#0d0887"
            ],
            [
             0.1111111111111111,
             "#46039f"
            ],
            [
             0.2222222222222222,
             "#7201a8"
            ],
            [
             0.3333333333333333,
             "#9c179e"
            ],
            [
             0.4444444444444444,
             "#bd3786"
            ],
            [
             0.5555555555555556,
             "#d8576b"
            ],
            [
             0.6666666666666666,
             "#ed7953"
            ],
            [
             0.7777777777777778,
             "#fb9f3a"
            ],
            [
             0.8888888888888888,
             "#fdca26"
            ],
            [
             1,
             "#f0f921"
            ]
           ],
           "sequentialminus": [
            [
             0,
             "#0d0887"
            ],
            [
             0.1111111111111111,
             "#46039f"
            ],
            [
             0.2222222222222222,
             "#7201a8"
            ],
            [
             0.3333333333333333,
             "#9c179e"
            ],
            [
             0.4444444444444444,
             "#bd3786"
            ],
            [
             0.5555555555555556,
             "#d8576b"
            ],
            [
             0.6666666666666666,
             "#ed7953"
            ],
            [
             0.7777777777777778,
             "#fb9f3a"
            ],
            [
             0.8888888888888888,
             "#fdca26"
            ],
            [
             1,
             "#f0f921"
            ]
           ]
          },
          "colorway": [
           "#636efa",
           "#EF553B",
           "#00cc96",
           "#ab63fa",
           "#FFA15A",
           "#19d3f3",
           "#FF6692",
           "#B6E880",
           "#FF97FF",
           "#FECB52"
          ],
          "font": {
           "color": "#2a3f5f"
          },
          "geo": {
           "bgcolor": "white",
           "lakecolor": "white",
           "landcolor": "#E5ECF6",
           "showlakes": true,
           "showland": true,
           "subunitcolor": "white"
          },
          "hoverlabel": {
           "align": "left"
          },
          "hovermode": "closest",
          "mapbox": {
           "style": "light"
          },
          "paper_bgcolor": "white",
          "plot_bgcolor": "#E5ECF6",
          "polar": {
           "angularaxis": {
            "gridcolor": "white",
            "linecolor": "white",
            "ticks": ""
           },
           "bgcolor": "#E5ECF6",
           "radialaxis": {
            "gridcolor": "white",
            "linecolor": "white",
            "ticks": ""
           }
          },
          "scene": {
           "xaxis": {
            "backgroundcolor": "#E5ECF6",
            "gridcolor": "white",
            "gridwidth": 2,
            "linecolor": "white",
            "showbackground": true,
            "ticks": "",
            "zerolinecolor": "white"
           },
           "yaxis": {
            "backgroundcolor": "#E5ECF6",
            "gridcolor": "white",
            "gridwidth": 2,
            "linecolor": "white",
            "showbackground": true,
            "ticks": "",
            "zerolinecolor": "white"
           },
           "zaxis": {
            "backgroundcolor": "#E5ECF6",
            "gridcolor": "white",
            "gridwidth": 2,
            "linecolor": "white",
            "showbackground": true,
            "ticks": "",
            "zerolinecolor": "white"
           }
          },
          "shapedefaults": {
           "line": {
            "color": "#2a3f5f"
           }
          },
          "ternary": {
           "aaxis": {
            "gridcolor": "white",
            "linecolor": "white",
            "ticks": ""
           },
           "baxis": {
            "gridcolor": "white",
            "linecolor": "white",
            "ticks": ""
           },
           "bgcolor": "#E5ECF6",
           "caxis": {
            "gridcolor": "white",
            "linecolor": "white",
            "ticks": ""
           }
          },
          "title": {
           "x": 0.05
          },
          "xaxis": {
           "automargin": true,
           "gridcolor": "white",
           "linecolor": "white",
           "ticks": "",
           "title": {
            "standoff": 15
           },
           "zerolinecolor": "white",
           "zerolinewidth": 2
          },
          "yaxis": {
           "automargin": true,
           "gridcolor": "white",
           "linecolor": "white",
           "ticks": "",
           "title": {
            "standoff": 15
           },
           "zerolinecolor": "white",
           "zerolinewidth": 2
          }
         }
        },
        "title": {
         "font": {
          "color": "#4D5663"
         }
        },
        "xaxis": {
         "gridcolor": "#E1E5ED",
         "showgrid": true,
         "tickfont": {
          "color": "#4D5663"
         },
         "title": {
          "font": {
           "color": "#4D5663"
          },
          "text": ""
         },
         "zerolinecolor": "#E1E5ED"
        },
        "yaxis": {
         "gridcolor": "#E1E5ED",
         "showgrid": true,
         "tickfont": {
          "color": "#4D5663"
         },
         "title": {
          "font": {
           "color": "#4D5663"
          },
          "text": ""
         },
         "zerolinecolor": "#E1E5ED"
        }
       }
      },
      "text/html": [
       "<div>                            <div id=\"de474bf3-dc05-4343-84a9-0b6a506b942e\" class=\"plotly-graph-div\" style=\"height:525px; width:100%;\"></div>            <script type=\"text/javascript\">                require([\"plotly\"], function(Plotly) {                    window.PLOTLYENV=window.PLOTLYENV || {};\n",
       "                    window.PLOTLYENV.BASE_URL='https://plot.ly';                                    if (document.getElementById(\"de474bf3-dc05-4343-84a9-0b6a506b942e\")) {                    Plotly.newPlot(                        \"de474bf3-dc05-4343-84a9-0b6a506b942e\",                        [{\"marker\":{\"color\":\"rgba(255, 153, 51, 0.6)\",\"line\":{\"color\":\"rgba(255, 153, 51, 1.0)\",\"width\":1}},\"name\":\"None\",\"orientation\":\"v\",\"text\":\"\",\"x\":[\"A\",\"B\",\"C\",\"D\"],\"y\":[100,100,100,100],\"type\":\"bar\"}],                        {\"legend\":{\"bgcolor\":\"#F5F6F9\",\"font\":{\"color\":\"#4D5663\"}},\"paper_bgcolor\":\"#F5F6F9\",\"plot_bgcolor\":\"#F5F6F9\",\"template\":{\"data\":{\"barpolar\":[{\"marker\":{\"line\":{\"color\":\"#E5ECF6\",\"width\":0.5},\"pattern\":{\"fillmode\":\"overlay\",\"size\":10,\"solidity\":0.2}},\"type\":\"barpolar\"}],\"bar\":[{\"error_x\":{\"color\":\"#2a3f5f\"},\"error_y\":{\"color\":\"#2a3f5f\"},\"marker\":{\"line\":{\"color\":\"#E5ECF6\",\"width\":0.5},\"pattern\":{\"fillmode\":\"overlay\",\"size\":10,\"solidity\":0.2}},\"type\":\"bar\"}],\"carpet\":[{\"aaxis\":{\"endlinecolor\":\"#2a3f5f\",\"gridcolor\":\"white\",\"linecolor\":\"white\",\"minorgridcolor\":\"white\",\"startlinecolor\":\"#2a3f5f\"},\"baxis\":{\"endlinecolor\":\"#2a3f5f\",\"gridcolor\":\"white\",\"linecolor\":\"white\",\"minorgridcolor\":\"white\",\"startlinecolor\":\"#2a3f5f\"},\"type\":\"carpet\"}],\"choropleth\":[{\"colorbar\":{\"outlinewidth\":0,\"ticks\":\"\"},\"type\":\"choropleth\"}],\"contourcarpet\":[{\"colorbar\":{\"outlinewidth\":0,\"ticks\":\"\"},\"type\":\"contourcarpet\"}],\"contour\":[{\"colorbar\":{\"outlinewidth\":0,\"ticks\":\"\"},\"colorscale\":[[0.0,\"#0d0887\"],[0.1111111111111111,\"#46039f\"],[0.2222222222222222,\"#7201a8\"],[0.3333333333333333,\"#9c179e\"],[0.4444444444444444,\"#bd3786\"],[0.5555555555555556,\"#d8576b\"],[0.6666666666666666,\"#ed7953\"],[0.7777777777777778,\"#fb9f3a\"],[0.8888888888888888,\"#fdca26\"],[1.0,\"#f0f921\"]],\"type\":\"contour\"}],\"heatmapgl\":[{\"colorbar\":{\"outlinewidth\":0,\"ticks\":\"\"},\"colorscale\":[[0.0,\"#0d0887\"],[0.1111111111111111,\"#46039f\"],[0.2222222222222222,\"#7201a8\"],[0.3333333333333333,\"#9c179e\"],[0.4444444444444444,\"#bd3786\"],[0.5555555555555556,\"#d8576b\"],[0.6666666666666666,\"#ed7953\"],[0.7777777777777778,\"#fb9f3a\"],[0.8888888888888888,\"#fdca26\"],[1.0,\"#f0f921\"]],\"type\":\"heatmapgl\"}],\"heatmap\":[{\"colorbar\":{\"outlinewidth\":0,\"ticks\":\"\"},\"colorscale\":[[0.0,\"#0d0887\"],[0.1111111111111111,\"#46039f\"],[0.2222222222222222,\"#7201a8\"],[0.3333333333333333,\"#9c179e\"],[0.4444444444444444,\"#bd3786\"],[0.5555555555555556,\"#d8576b\"],[0.6666666666666666,\"#ed7953\"],[0.7777777777777778,\"#fb9f3a\"],[0.8888888888888888,\"#fdca26\"],[1.0,\"#f0f921\"]],\"type\":\"heatmap\"}],\"histogram2dcontour\":[{\"colorbar\":{\"outlinewidth\":0,\"ticks\":\"\"},\"colorscale\":[[0.0,\"#0d0887\"],[0.1111111111111111,\"#46039f\"],[0.2222222222222222,\"#7201a8\"],[0.3333333333333333,\"#9c179e\"],[0.4444444444444444,\"#bd3786\"],[0.5555555555555556,\"#d8576b\"],[0.6666666666666666,\"#ed7953\"],[0.7777777777777778,\"#fb9f3a\"],[0.8888888888888888,\"#fdca26\"],[1.0,\"#f0f921\"]],\"type\":\"histogram2dcontour\"}],\"histogram2d\":[{\"colorbar\":{\"outlinewidth\":0,\"ticks\":\"\"},\"colorscale\":[[0.0,\"#0d0887\"],[0.1111111111111111,\"#46039f\"],[0.2222222222222222,\"#7201a8\"],[0.3333333333333333,\"#9c179e\"],[0.4444444444444444,\"#bd3786\"],[0.5555555555555556,\"#d8576b\"],[0.6666666666666666,\"#ed7953\"],[0.7777777777777778,\"#fb9f3a\"],[0.8888888888888888,\"#fdca26\"],[1.0,\"#f0f921\"]],\"type\":\"histogram2d\"}],\"histogram\":[{\"marker\":{\"pattern\":{\"fillmode\":\"overlay\",\"size\":10,\"solidity\":0.2}},\"type\":\"histogram\"}],\"mesh3d\":[{\"colorbar\":{\"outlinewidth\":0,\"ticks\":\"\"},\"type\":\"mesh3d\"}],\"parcoords\":[{\"line\":{\"colorbar\":{\"outlinewidth\":0,\"ticks\":\"\"}},\"type\":\"parcoords\"}],\"pie\":[{\"automargin\":true,\"type\":\"pie\"}],\"scatter3d\":[{\"line\":{\"colorbar\":{\"outlinewidth\":0,\"ticks\":\"\"}},\"marker\":{\"colorbar\":{\"outlinewidth\":0,\"ticks\":\"\"}},\"type\":\"scatter3d\"}],\"scattercarpet\":[{\"marker\":{\"colorbar\":{\"outlinewidth\":0,\"ticks\":\"\"}},\"type\":\"scattercarpet\"}],\"scattergeo\":[{\"marker\":{\"colorbar\":{\"outlinewidth\":0,\"ticks\":\"\"}},\"type\":\"scattergeo\"}],\"scattergl\":[{\"marker\":{\"colorbar\":{\"outlinewidth\":0,\"ticks\":\"\"}},\"type\":\"scattergl\"}],\"scattermapbox\":[{\"marker\":{\"colorbar\":{\"outlinewidth\":0,\"ticks\":\"\"}},\"type\":\"scattermapbox\"}],\"scatterpolargl\":[{\"marker\":{\"colorbar\":{\"outlinewidth\":0,\"ticks\":\"\"}},\"type\":\"scatterpolargl\"}],\"scatterpolar\":[{\"marker\":{\"colorbar\":{\"outlinewidth\":0,\"ticks\":\"\"}},\"type\":\"scatterpolar\"}],\"scatter\":[{\"fillpattern\":{\"fillmode\":\"overlay\",\"size\":10,\"solidity\":0.2},\"type\":\"scatter\"}],\"scatterternary\":[{\"marker\":{\"colorbar\":{\"outlinewidth\":0,\"ticks\":\"\"}},\"type\":\"scatterternary\"}],\"surface\":[{\"colorbar\":{\"outlinewidth\":0,\"ticks\":\"\"},\"colorscale\":[[0.0,\"#0d0887\"],[0.1111111111111111,\"#46039f\"],[0.2222222222222222,\"#7201a8\"],[0.3333333333333333,\"#9c179e\"],[0.4444444444444444,\"#bd3786\"],[0.5555555555555556,\"#d8576b\"],[0.6666666666666666,\"#ed7953\"],[0.7777777777777778,\"#fb9f3a\"],[0.8888888888888888,\"#fdca26\"],[1.0,\"#f0f921\"]],\"type\":\"surface\"}],\"table\":[{\"cells\":{\"fill\":{\"color\":\"#EBF0F8\"},\"line\":{\"color\":\"white\"}},\"header\":{\"fill\":{\"color\":\"#C8D4E3\"},\"line\":{\"color\":\"white\"}},\"type\":\"table\"}]},\"layout\":{\"annotationdefaults\":{\"arrowcolor\":\"#2a3f5f\",\"arrowhead\":0,\"arrowwidth\":1},\"autotypenumbers\":\"strict\",\"coloraxis\":{\"colorbar\":{\"outlinewidth\":0,\"ticks\":\"\"}},\"colorscale\":{\"diverging\":[[0,\"#8e0152\"],[0.1,\"#c51b7d\"],[0.2,\"#de77ae\"],[0.3,\"#f1b6da\"],[0.4,\"#fde0ef\"],[0.5,\"#f7f7f7\"],[0.6,\"#e6f5d0\"],[0.7,\"#b8e186\"],[0.8,\"#7fbc41\"],[0.9,\"#4d9221\"],[1,\"#276419\"]],\"sequential\":[[0.0,\"#0d0887\"],[0.1111111111111111,\"#46039f\"],[0.2222222222222222,\"#7201a8\"],[0.3333333333333333,\"#9c179e\"],[0.4444444444444444,\"#bd3786\"],[0.5555555555555556,\"#d8576b\"],[0.6666666666666666,\"#ed7953\"],[0.7777777777777778,\"#fb9f3a\"],[0.8888888888888888,\"#fdca26\"],[1.0,\"#f0f921\"]],\"sequentialminus\":[[0.0,\"#0d0887\"],[0.1111111111111111,\"#46039f\"],[0.2222222222222222,\"#7201a8\"],[0.3333333333333333,\"#9c179e\"],[0.4444444444444444,\"#bd3786\"],[0.5555555555555556,\"#d8576b\"],[0.6666666666666666,\"#ed7953\"],[0.7777777777777778,\"#fb9f3a\"],[0.8888888888888888,\"#fdca26\"],[1.0,\"#f0f921\"]]},\"colorway\":[\"#636efa\",\"#EF553B\",\"#00cc96\",\"#ab63fa\",\"#FFA15A\",\"#19d3f3\",\"#FF6692\",\"#B6E880\",\"#FF97FF\",\"#FECB52\"],\"font\":{\"color\":\"#2a3f5f\"},\"geo\":{\"bgcolor\":\"white\",\"lakecolor\":\"white\",\"landcolor\":\"#E5ECF6\",\"showlakes\":true,\"showland\":true,\"subunitcolor\":\"white\"},\"hoverlabel\":{\"align\":\"left\"},\"hovermode\":\"closest\",\"mapbox\":{\"style\":\"light\"},\"paper_bgcolor\":\"white\",\"plot_bgcolor\":\"#E5ECF6\",\"polar\":{\"angularaxis\":{\"gridcolor\":\"white\",\"linecolor\":\"white\",\"ticks\":\"\"},\"bgcolor\":\"#E5ECF6\",\"radialaxis\":{\"gridcolor\":\"white\",\"linecolor\":\"white\",\"ticks\":\"\"}},\"scene\":{\"xaxis\":{\"backgroundcolor\":\"#E5ECF6\",\"gridcolor\":\"white\",\"gridwidth\":2,\"linecolor\":\"white\",\"showbackground\":true,\"ticks\":\"\",\"zerolinecolor\":\"white\"},\"yaxis\":{\"backgroundcolor\":\"#E5ECF6\",\"gridcolor\":\"white\",\"gridwidth\":2,\"linecolor\":\"white\",\"showbackground\":true,\"ticks\":\"\",\"zerolinecolor\":\"white\"},\"zaxis\":{\"backgroundcolor\":\"#E5ECF6\",\"gridcolor\":\"white\",\"gridwidth\":2,\"linecolor\":\"white\",\"showbackground\":true,\"ticks\":\"\",\"zerolinecolor\":\"white\"}},\"shapedefaults\":{\"line\":{\"color\":\"#2a3f5f\"}},\"ternary\":{\"aaxis\":{\"gridcolor\":\"white\",\"linecolor\":\"white\",\"ticks\":\"\"},\"baxis\":{\"gridcolor\":\"white\",\"linecolor\":\"white\",\"ticks\":\"\"},\"bgcolor\":\"#E5ECF6\",\"caxis\":{\"gridcolor\":\"white\",\"linecolor\":\"white\",\"ticks\":\"\"}},\"title\":{\"x\":0.05},\"xaxis\":{\"automargin\":true,\"gridcolor\":\"white\",\"linecolor\":\"white\",\"ticks\":\"\",\"title\":{\"standoff\":15},\"zerolinecolor\":\"white\",\"zerolinewidth\":2},\"yaxis\":{\"automargin\":true,\"gridcolor\":\"white\",\"linecolor\":\"white\",\"ticks\":\"\",\"title\":{\"standoff\":15},\"zerolinecolor\":\"white\",\"zerolinewidth\":2}}},\"title\":{\"font\":{\"color\":\"#4D5663\"}},\"xaxis\":{\"gridcolor\":\"#E1E5ED\",\"showgrid\":true,\"tickfont\":{\"color\":\"#4D5663\"},\"title\":{\"font\":{\"color\":\"#4D5663\"},\"text\":\"\"},\"zerolinecolor\":\"#E1E5ED\"},\"yaxis\":{\"gridcolor\":\"#E1E5ED\",\"showgrid\":true,\"tickfont\":{\"color\":\"#4D5663\"},\"title\":{\"font\":{\"color\":\"#4D5663\"},\"text\":\"\"},\"zerolinecolor\":\"#E1E5ED\"}},                        {\"showLink\": true, \"linkText\": \"Export to plot.ly\", \"plotlyServerURL\": \"https://plot.ly\", \"responsive\": true}                    ).then(function(){\n",
       "                            \n",
       "var gd = document.getElementById('de474bf3-dc05-4343-84a9-0b6a506b942e');\n",
       "var x = new MutationObserver(function (mutations, observer) {{\n",
       "        var display = window.getComputedStyle(gd).display;\n",
       "        if (!display || display === 'none') {{\n",
       "            console.log([gd, 'removed!']);\n",
       "            Plotly.purge(gd);\n",
       "            observer.disconnect();\n",
       "        }}\n",
       "}});\n",
       "\n",
       "// Listen for the removal of the full notebook cells\n",
       "var notebookContainer = gd.closest('#notebook-container');\n",
       "if (notebookContainer) {{\n",
       "    x.observe(notebookContainer, {childList: true});\n",
       "}}\n",
       "\n",
       "// Listen for the clearing of the current output cell\n",
       "var outputEl = gd.closest('.output');\n",
       "if (outputEl) {{\n",
       "    x.observe(outputEl, {childList: true});\n",
       "}}\n",
       "\n",
       "                        })                };                });            </script>        </div>"
      ]
     },
     "metadata": {},
     "output_type": "display_data"
    }
   ],
   "source": [
    "df.count().iplot(kind='bar')"
   ]
  },
  {
   "cell_type": "code",
   "execution_count": 18,
   "metadata": {},
   "outputs": [
    {
     "data": {
      "application/vnd.plotly.v1+json": {
       "config": {
        "linkText": "Export to plot.ly",
        "plotlyServerURL": "https://plot.ly",
        "showLink": true
       },
       "data": [
        {
         "marker": {
          "color": "rgba(255, 153, 51, 0.6)",
          "line": {
           "color": "rgba(255, 153, 51, 1.0)",
           "width": 1
          }
         },
         "name": "None",
         "orientation": "v",
         "text": "",
         "type": "bar",
         "x": [
          "A",
          "B",
          "C",
          "D"
         ],
         "y": [
          -1.4641735056609553,
          11.926000034941097,
          6.04042976783429,
          -4.554936096270744
         ]
        }
       ],
       "layout": {
        "legend": {
         "bgcolor": "#F5F6F9",
         "font": {
          "color": "#4D5663"
         }
        },
        "paper_bgcolor": "#F5F6F9",
        "plot_bgcolor": "#F5F6F9",
        "template": {
         "data": {
          "bar": [
           {
            "error_x": {
             "color": "#2a3f5f"
            },
            "error_y": {
             "color": "#2a3f5f"
            },
            "marker": {
             "line": {
              "color": "#E5ECF6",
              "width": 0.5
             },
             "pattern": {
              "fillmode": "overlay",
              "size": 10,
              "solidity": 0.2
             }
            },
            "type": "bar"
           }
          ],
          "barpolar": [
           {
            "marker": {
             "line": {
              "color": "#E5ECF6",
              "width": 0.5
             },
             "pattern": {
              "fillmode": "overlay",
              "size": 10,
              "solidity": 0.2
             }
            },
            "type": "barpolar"
           }
          ],
          "carpet": [
           {
            "aaxis": {
             "endlinecolor": "#2a3f5f",
             "gridcolor": "white",
             "linecolor": "white",
             "minorgridcolor": "white",
             "startlinecolor": "#2a3f5f"
            },
            "baxis": {
             "endlinecolor": "#2a3f5f",
             "gridcolor": "white",
             "linecolor": "white",
             "minorgridcolor": "white",
             "startlinecolor": "#2a3f5f"
            },
            "type": "carpet"
           }
          ],
          "choropleth": [
           {
            "colorbar": {
             "outlinewidth": 0,
             "ticks": ""
            },
            "type": "choropleth"
           }
          ],
          "contour": [
           {
            "colorbar": {
             "outlinewidth": 0,
             "ticks": ""
            },
            "colorscale": [
             [
              0,
              "#0d0887"
             ],
             [
              0.1111111111111111,
              "#46039f"
             ],
             [
              0.2222222222222222,
              "#7201a8"
             ],
             [
              0.3333333333333333,
              "#9c179e"
             ],
             [
              0.4444444444444444,
              "#bd3786"
             ],
             [
              0.5555555555555556,
              "#d8576b"
             ],
             [
              0.6666666666666666,
              "#ed7953"
             ],
             [
              0.7777777777777778,
              "#fb9f3a"
             ],
             [
              0.8888888888888888,
              "#fdca26"
             ],
             [
              1,
              "#f0f921"
             ]
            ],
            "type": "contour"
           }
          ],
          "contourcarpet": [
           {
            "colorbar": {
             "outlinewidth": 0,
             "ticks": ""
            },
            "type": "contourcarpet"
           }
          ],
          "heatmap": [
           {
            "colorbar": {
             "outlinewidth": 0,
             "ticks": ""
            },
            "colorscale": [
             [
              0,
              "#0d0887"
             ],
             [
              0.1111111111111111,
              "#46039f"
             ],
             [
              0.2222222222222222,
              "#7201a8"
             ],
             [
              0.3333333333333333,
              "#9c179e"
             ],
             [
              0.4444444444444444,
              "#bd3786"
             ],
             [
              0.5555555555555556,
              "#d8576b"
             ],
             [
              0.6666666666666666,
              "#ed7953"
             ],
             [
              0.7777777777777778,
              "#fb9f3a"
             ],
             [
              0.8888888888888888,
              "#fdca26"
             ],
             [
              1,
              "#f0f921"
             ]
            ],
            "type": "heatmap"
           }
          ],
          "heatmapgl": [
           {
            "colorbar": {
             "outlinewidth": 0,
             "ticks": ""
            },
            "colorscale": [
             [
              0,
              "#0d0887"
             ],
             [
              0.1111111111111111,
              "#46039f"
             ],
             [
              0.2222222222222222,
              "#7201a8"
             ],
             [
              0.3333333333333333,
              "#9c179e"
             ],
             [
              0.4444444444444444,
              "#bd3786"
             ],
             [
              0.5555555555555556,
              "#d8576b"
             ],
             [
              0.6666666666666666,
              "#ed7953"
             ],
             [
              0.7777777777777778,
              "#fb9f3a"
             ],
             [
              0.8888888888888888,
              "#fdca26"
             ],
             [
              1,
              "#f0f921"
             ]
            ],
            "type": "heatmapgl"
           }
          ],
          "histogram": [
           {
            "marker": {
             "pattern": {
              "fillmode": "overlay",
              "size": 10,
              "solidity": 0.2
             }
            },
            "type": "histogram"
           }
          ],
          "histogram2d": [
           {
            "colorbar": {
             "outlinewidth": 0,
             "ticks": ""
            },
            "colorscale": [
             [
              0,
              "#0d0887"
             ],
             [
              0.1111111111111111,
              "#46039f"
             ],
             [
              0.2222222222222222,
              "#7201a8"
             ],
             [
              0.3333333333333333,
              "#9c179e"
             ],
             [
              0.4444444444444444,
              "#bd3786"
             ],
             [
              0.5555555555555556,
              "#d8576b"
             ],
             [
              0.6666666666666666,
              "#ed7953"
             ],
             [
              0.7777777777777778,
              "#fb9f3a"
             ],
             [
              0.8888888888888888,
              "#fdca26"
             ],
             [
              1,
              "#f0f921"
             ]
            ],
            "type": "histogram2d"
           }
          ],
          "histogram2dcontour": [
           {
            "colorbar": {
             "outlinewidth": 0,
             "ticks": ""
            },
            "colorscale": [
             [
              0,
              "#0d0887"
             ],
             [
              0.1111111111111111,
              "#46039f"
             ],
             [
              0.2222222222222222,
              "#7201a8"
             ],
             [
              0.3333333333333333,
              "#9c179e"
             ],
             [
              0.4444444444444444,
              "#bd3786"
             ],
             [
              0.5555555555555556,
              "#d8576b"
             ],
             [
              0.6666666666666666,
              "#ed7953"
             ],
             [
              0.7777777777777778,
              "#fb9f3a"
             ],
             [
              0.8888888888888888,
              "#fdca26"
             ],
             [
              1,
              "#f0f921"
             ]
            ],
            "type": "histogram2dcontour"
           }
          ],
          "mesh3d": [
           {
            "colorbar": {
             "outlinewidth": 0,
             "ticks": ""
            },
            "type": "mesh3d"
           }
          ],
          "parcoords": [
           {
            "line": {
             "colorbar": {
              "outlinewidth": 0,
              "ticks": ""
             }
            },
            "type": "parcoords"
           }
          ],
          "pie": [
           {
            "automargin": true,
            "type": "pie"
           }
          ],
          "scatter": [
           {
            "fillpattern": {
             "fillmode": "overlay",
             "size": 10,
             "solidity": 0.2
            },
            "type": "scatter"
           }
          ],
          "scatter3d": [
           {
            "line": {
             "colorbar": {
              "outlinewidth": 0,
              "ticks": ""
             }
            },
            "marker": {
             "colorbar": {
              "outlinewidth": 0,
              "ticks": ""
             }
            },
            "type": "scatter3d"
           }
          ],
          "scattercarpet": [
           {
            "marker": {
             "colorbar": {
              "outlinewidth": 0,
              "ticks": ""
             }
            },
            "type": "scattercarpet"
           }
          ],
          "scattergeo": [
           {
            "marker": {
             "colorbar": {
              "outlinewidth": 0,
              "ticks": ""
             }
            },
            "type": "scattergeo"
           }
          ],
          "scattergl": [
           {
            "marker": {
             "colorbar": {
              "outlinewidth": 0,
              "ticks": ""
             }
            },
            "type": "scattergl"
           }
          ],
          "scattermapbox": [
           {
            "marker": {
             "colorbar": {
              "outlinewidth": 0,
              "ticks": ""
             }
            },
            "type": "scattermapbox"
           }
          ],
          "scatterpolar": [
           {
            "marker": {
             "colorbar": {
              "outlinewidth": 0,
              "ticks": ""
             }
            },
            "type": "scatterpolar"
           }
          ],
          "scatterpolargl": [
           {
            "marker": {
             "colorbar": {
              "outlinewidth": 0,
              "ticks": ""
             }
            },
            "type": "scatterpolargl"
           }
          ],
          "scatterternary": [
           {
            "marker": {
             "colorbar": {
              "outlinewidth": 0,
              "ticks": ""
             }
            },
            "type": "scatterternary"
           }
          ],
          "surface": [
           {
            "colorbar": {
             "outlinewidth": 0,
             "ticks": ""
            },
            "colorscale": [
             [
              0,
              "#0d0887"
             ],
             [
              0.1111111111111111,
              "#46039f"
             ],
             [
              0.2222222222222222,
              "#7201a8"
             ],
             [
              0.3333333333333333,
              "#9c179e"
             ],
             [
              0.4444444444444444,
              "#bd3786"
             ],
             [
              0.5555555555555556,
              "#d8576b"
             ],
             [
              0.6666666666666666,
              "#ed7953"
             ],
             [
              0.7777777777777778,
              "#fb9f3a"
             ],
             [
              0.8888888888888888,
              "#fdca26"
             ],
             [
              1,
              "#f0f921"
             ]
            ],
            "type": "surface"
           }
          ],
          "table": [
           {
            "cells": {
             "fill": {
              "color": "#EBF0F8"
             },
             "line": {
              "color": "white"
             }
            },
            "header": {
             "fill": {
              "color": "#C8D4E3"
             },
             "line": {
              "color": "white"
             }
            },
            "type": "table"
           }
          ]
         },
         "layout": {
          "annotationdefaults": {
           "arrowcolor": "#2a3f5f",
           "arrowhead": 0,
           "arrowwidth": 1
          },
          "autotypenumbers": "strict",
          "coloraxis": {
           "colorbar": {
            "outlinewidth": 0,
            "ticks": ""
           }
          },
          "colorscale": {
           "diverging": [
            [
             0,
             "#8e0152"
            ],
            [
             0.1,
             "#c51b7d"
            ],
            [
             0.2,
             "#de77ae"
            ],
            [
             0.3,
             "#f1b6da"
            ],
            [
             0.4,
             "#fde0ef"
            ],
            [
             0.5,
             "#f7f7f7"
            ],
            [
             0.6,
             "#e6f5d0"
            ],
            [
             0.7,
             "#b8e186"
            ],
            [
             0.8,
             "#7fbc41"
            ],
            [
             0.9,
             "#4d9221"
            ],
            [
             1,
             "#276419"
            ]
           ],
           "sequential": [
            [
             0,
             "#0d0887"
            ],
            [
             0.1111111111111111,
             "#46039f"
            ],
            [
             0.2222222222222222,
             "#7201a8"
            ],
            [
             0.3333333333333333,
             "#9c179e"
            ],
            [
             0.4444444444444444,
             "#bd3786"
            ],
            [
             0.5555555555555556,
             "#d8576b"
            ],
            [
             0.6666666666666666,
             "#ed7953"
            ],
            [
             0.7777777777777778,
             "#fb9f3a"
            ],
            [
             0.8888888888888888,
             "#fdca26"
            ],
            [
             1,
             "#f0f921"
            ]
           ],
           "sequentialminus": [
            [
             0,
             "#0d0887"
            ],
            [
             0.1111111111111111,
             "#46039f"
            ],
            [
             0.2222222222222222,
             "#7201a8"
            ],
            [
             0.3333333333333333,
             "#9c179e"
            ],
            [
             0.4444444444444444,
             "#bd3786"
            ],
            [
             0.5555555555555556,
             "#d8576b"
            ],
            [
             0.6666666666666666,
             "#ed7953"
            ],
            [
             0.7777777777777778,
             "#fb9f3a"
            ],
            [
             0.8888888888888888,
             "#fdca26"
            ],
            [
             1,
             "#f0f921"
            ]
           ]
          },
          "colorway": [
           "#636efa",
           "#EF553B",
           "#00cc96",
           "#ab63fa",
           "#FFA15A",
           "#19d3f3",
           "#FF6692",
           "#B6E880",
           "#FF97FF",
           "#FECB52"
          ],
          "font": {
           "color": "#2a3f5f"
          },
          "geo": {
           "bgcolor": "white",
           "lakecolor": "white",
           "landcolor": "#E5ECF6",
           "showlakes": true,
           "showland": true,
           "subunitcolor": "white"
          },
          "hoverlabel": {
           "align": "left"
          },
          "hovermode": "closest",
          "mapbox": {
           "style": "light"
          },
          "paper_bgcolor": "white",
          "plot_bgcolor": "#E5ECF6",
          "polar": {
           "angularaxis": {
            "gridcolor": "white",
            "linecolor": "white",
            "ticks": ""
           },
           "bgcolor": "#E5ECF6",
           "radialaxis": {
            "gridcolor": "white",
            "linecolor": "white",
            "ticks": ""
           }
          },
          "scene": {
           "xaxis": {
            "backgroundcolor": "#E5ECF6",
            "gridcolor": "white",
            "gridwidth": 2,
            "linecolor": "white",
            "showbackground": true,
            "ticks": "",
            "zerolinecolor": "white"
           },
           "yaxis": {
            "backgroundcolor": "#E5ECF6",
            "gridcolor": "white",
            "gridwidth": 2,
            "linecolor": "white",
            "showbackground": true,
            "ticks": "",
            "zerolinecolor": "white"
           },
           "zaxis": {
            "backgroundcolor": "#E5ECF6",
            "gridcolor": "white",
            "gridwidth": 2,
            "linecolor": "white",
            "showbackground": true,
            "ticks": "",
            "zerolinecolor": "white"
           }
          },
          "shapedefaults": {
           "line": {
            "color": "#2a3f5f"
           }
          },
          "ternary": {
           "aaxis": {
            "gridcolor": "white",
            "linecolor": "white",
            "ticks": ""
           },
           "baxis": {
            "gridcolor": "white",
            "linecolor": "white",
            "ticks": ""
           },
           "bgcolor": "#E5ECF6",
           "caxis": {
            "gridcolor": "white",
            "linecolor": "white",
            "ticks": ""
           }
          },
          "title": {
           "x": 0.05
          },
          "xaxis": {
           "automargin": true,
           "gridcolor": "white",
           "linecolor": "white",
           "ticks": "",
           "title": {
            "standoff": 15
           },
           "zerolinecolor": "white",
           "zerolinewidth": 2
          },
          "yaxis": {
           "automargin": true,
           "gridcolor": "white",
           "linecolor": "white",
           "ticks": "",
           "title": {
            "standoff": 15
           },
           "zerolinecolor": "white",
           "zerolinewidth": 2
          }
         }
        },
        "title": {
         "font": {
          "color": "#4D5663"
         }
        },
        "xaxis": {
         "gridcolor": "#E1E5ED",
         "showgrid": true,
         "tickfont": {
          "color": "#4D5663"
         },
         "title": {
          "font": {
           "color": "#4D5663"
          },
          "text": ""
         },
         "zerolinecolor": "#E1E5ED"
        },
        "yaxis": {
         "gridcolor": "#E1E5ED",
         "showgrid": true,
         "tickfont": {
          "color": "#4D5663"
         },
         "title": {
          "font": {
           "color": "#4D5663"
          },
          "text": ""
         },
         "zerolinecolor": "#E1E5ED"
        }
       }
      },
      "text/html": [
       "<div>                            <div id=\"58248b46-93a8-4153-8d3a-62bfcc6bf28c\" class=\"plotly-graph-div\" style=\"height:525px; width:100%;\"></div>            <script type=\"text/javascript\">                require([\"plotly\"], function(Plotly) {                    window.PLOTLYENV=window.PLOTLYENV || {};\n",
       "                    window.PLOTLYENV.BASE_URL='https://plot.ly';                                    if (document.getElementById(\"58248b46-93a8-4153-8d3a-62bfcc6bf28c\")) {                    Plotly.newPlot(                        \"58248b46-93a8-4153-8d3a-62bfcc6bf28c\",                        [{\"marker\":{\"color\":\"rgba(255, 153, 51, 0.6)\",\"line\":{\"color\":\"rgba(255, 153, 51, 1.0)\",\"width\":1}},\"name\":\"None\",\"orientation\":\"v\",\"text\":\"\",\"x\":[\"A\",\"B\",\"C\",\"D\"],\"y\":[-1.4641735056609553,11.926000034941097,6.04042976783429,-4.554936096270744],\"type\":\"bar\"}],                        {\"legend\":{\"bgcolor\":\"#F5F6F9\",\"font\":{\"color\":\"#4D5663\"}},\"paper_bgcolor\":\"#F5F6F9\",\"plot_bgcolor\":\"#F5F6F9\",\"template\":{\"data\":{\"barpolar\":[{\"marker\":{\"line\":{\"color\":\"#E5ECF6\",\"width\":0.5},\"pattern\":{\"fillmode\":\"overlay\",\"size\":10,\"solidity\":0.2}},\"type\":\"barpolar\"}],\"bar\":[{\"error_x\":{\"color\":\"#2a3f5f\"},\"error_y\":{\"color\":\"#2a3f5f\"},\"marker\":{\"line\":{\"color\":\"#E5ECF6\",\"width\":0.5},\"pattern\":{\"fillmode\":\"overlay\",\"size\":10,\"solidity\":0.2}},\"type\":\"bar\"}],\"carpet\":[{\"aaxis\":{\"endlinecolor\":\"#2a3f5f\",\"gridcolor\":\"white\",\"linecolor\":\"white\",\"minorgridcolor\":\"white\",\"startlinecolor\":\"#2a3f5f\"},\"baxis\":{\"endlinecolor\":\"#2a3f5f\",\"gridcolor\":\"white\",\"linecolor\":\"white\",\"minorgridcolor\":\"white\",\"startlinecolor\":\"#2a3f5f\"},\"type\":\"carpet\"}],\"choropleth\":[{\"colorbar\":{\"outlinewidth\":0,\"ticks\":\"\"},\"type\":\"choropleth\"}],\"contourcarpet\":[{\"colorbar\":{\"outlinewidth\":0,\"ticks\":\"\"},\"type\":\"contourcarpet\"}],\"contour\":[{\"colorbar\":{\"outlinewidth\":0,\"ticks\":\"\"},\"colorscale\":[[0.0,\"#0d0887\"],[0.1111111111111111,\"#46039f\"],[0.2222222222222222,\"#7201a8\"],[0.3333333333333333,\"#9c179e\"],[0.4444444444444444,\"#bd3786\"],[0.5555555555555556,\"#d8576b\"],[0.6666666666666666,\"#ed7953\"],[0.7777777777777778,\"#fb9f3a\"],[0.8888888888888888,\"#fdca26\"],[1.0,\"#f0f921\"]],\"type\":\"contour\"}],\"heatmapgl\":[{\"colorbar\":{\"outlinewidth\":0,\"ticks\":\"\"},\"colorscale\":[[0.0,\"#0d0887\"],[0.1111111111111111,\"#46039f\"],[0.2222222222222222,\"#7201a8\"],[0.3333333333333333,\"#9c179e\"],[0.4444444444444444,\"#bd3786\"],[0.5555555555555556,\"#d8576b\"],[0.6666666666666666,\"#ed7953\"],[0.7777777777777778,\"#fb9f3a\"],[0.8888888888888888,\"#fdca26\"],[1.0,\"#f0f921\"]],\"type\":\"heatmapgl\"}],\"heatmap\":[{\"colorbar\":{\"outlinewidth\":0,\"ticks\":\"\"},\"colorscale\":[[0.0,\"#0d0887\"],[0.1111111111111111,\"#46039f\"],[0.2222222222222222,\"#7201a8\"],[0.3333333333333333,\"#9c179e\"],[0.4444444444444444,\"#bd3786\"],[0.5555555555555556,\"#d8576b\"],[0.6666666666666666,\"#ed7953\"],[0.7777777777777778,\"#fb9f3a\"],[0.8888888888888888,\"#fdca26\"],[1.0,\"#f0f921\"]],\"type\":\"heatmap\"}],\"histogram2dcontour\":[{\"colorbar\":{\"outlinewidth\":0,\"ticks\":\"\"},\"colorscale\":[[0.0,\"#0d0887\"],[0.1111111111111111,\"#46039f\"],[0.2222222222222222,\"#7201a8\"],[0.3333333333333333,\"#9c179e\"],[0.4444444444444444,\"#bd3786\"],[0.5555555555555556,\"#d8576b\"],[0.6666666666666666,\"#ed7953\"],[0.7777777777777778,\"#fb9f3a\"],[0.8888888888888888,\"#fdca26\"],[1.0,\"#f0f921\"]],\"type\":\"histogram2dcontour\"}],\"histogram2d\":[{\"colorbar\":{\"outlinewidth\":0,\"ticks\":\"\"},\"colorscale\":[[0.0,\"#0d0887\"],[0.1111111111111111,\"#46039f\"],[0.2222222222222222,\"#7201a8\"],[0.3333333333333333,\"#9c179e\"],[0.4444444444444444,\"#bd3786\"],[0.5555555555555556,\"#d8576b\"],[0.6666666666666666,\"#ed7953\"],[0.7777777777777778,\"#fb9f3a\"],[0.8888888888888888,\"#fdca26\"],[1.0,\"#f0f921\"]],\"type\":\"histogram2d\"}],\"histogram\":[{\"marker\":{\"pattern\":{\"fillmode\":\"overlay\",\"size\":10,\"solidity\":0.2}},\"type\":\"histogram\"}],\"mesh3d\":[{\"colorbar\":{\"outlinewidth\":0,\"ticks\":\"\"},\"type\":\"mesh3d\"}],\"parcoords\":[{\"line\":{\"colorbar\":{\"outlinewidth\":0,\"ticks\":\"\"}},\"type\":\"parcoords\"}],\"pie\":[{\"automargin\":true,\"type\":\"pie\"}],\"scatter3d\":[{\"line\":{\"colorbar\":{\"outlinewidth\":0,\"ticks\":\"\"}},\"marker\":{\"colorbar\":{\"outlinewidth\":0,\"ticks\":\"\"}},\"type\":\"scatter3d\"}],\"scattercarpet\":[{\"marker\":{\"colorbar\":{\"outlinewidth\":0,\"ticks\":\"\"}},\"type\":\"scattercarpet\"}],\"scattergeo\":[{\"marker\":{\"colorbar\":{\"outlinewidth\":0,\"ticks\":\"\"}},\"type\":\"scattergeo\"}],\"scattergl\":[{\"marker\":{\"colorbar\":{\"outlinewidth\":0,\"ticks\":\"\"}},\"type\":\"scattergl\"}],\"scattermapbox\":[{\"marker\":{\"colorbar\":{\"outlinewidth\":0,\"ticks\":\"\"}},\"type\":\"scattermapbox\"}],\"scatterpolargl\":[{\"marker\":{\"colorbar\":{\"outlinewidth\":0,\"ticks\":\"\"}},\"type\":\"scatterpolargl\"}],\"scatterpolar\":[{\"marker\":{\"colorbar\":{\"outlinewidth\":0,\"ticks\":\"\"}},\"type\":\"scatterpolar\"}],\"scatter\":[{\"fillpattern\":{\"fillmode\":\"overlay\",\"size\":10,\"solidity\":0.2},\"type\":\"scatter\"}],\"scatterternary\":[{\"marker\":{\"colorbar\":{\"outlinewidth\":0,\"ticks\":\"\"}},\"type\":\"scatterternary\"}],\"surface\":[{\"colorbar\":{\"outlinewidth\":0,\"ticks\":\"\"},\"colorscale\":[[0.0,\"#0d0887\"],[0.1111111111111111,\"#46039f\"],[0.2222222222222222,\"#7201a8\"],[0.3333333333333333,\"#9c179e\"],[0.4444444444444444,\"#bd3786\"],[0.5555555555555556,\"#d8576b\"],[0.6666666666666666,\"#ed7953\"],[0.7777777777777778,\"#fb9f3a\"],[0.8888888888888888,\"#fdca26\"],[1.0,\"#f0f921\"]],\"type\":\"surface\"}],\"table\":[{\"cells\":{\"fill\":{\"color\":\"#EBF0F8\"},\"line\":{\"color\":\"white\"}},\"header\":{\"fill\":{\"color\":\"#C8D4E3\"},\"line\":{\"color\":\"white\"}},\"type\":\"table\"}]},\"layout\":{\"annotationdefaults\":{\"arrowcolor\":\"#2a3f5f\",\"arrowhead\":0,\"arrowwidth\":1},\"autotypenumbers\":\"strict\",\"coloraxis\":{\"colorbar\":{\"outlinewidth\":0,\"ticks\":\"\"}},\"colorscale\":{\"diverging\":[[0,\"#8e0152\"],[0.1,\"#c51b7d\"],[0.2,\"#de77ae\"],[0.3,\"#f1b6da\"],[0.4,\"#fde0ef\"],[0.5,\"#f7f7f7\"],[0.6,\"#e6f5d0\"],[0.7,\"#b8e186\"],[0.8,\"#7fbc41\"],[0.9,\"#4d9221\"],[1,\"#276419\"]],\"sequential\":[[0.0,\"#0d0887\"],[0.1111111111111111,\"#46039f\"],[0.2222222222222222,\"#7201a8\"],[0.3333333333333333,\"#9c179e\"],[0.4444444444444444,\"#bd3786\"],[0.5555555555555556,\"#d8576b\"],[0.6666666666666666,\"#ed7953\"],[0.7777777777777778,\"#fb9f3a\"],[0.8888888888888888,\"#fdca26\"],[1.0,\"#f0f921\"]],\"sequentialminus\":[[0.0,\"#0d0887\"],[0.1111111111111111,\"#46039f\"],[0.2222222222222222,\"#7201a8\"],[0.3333333333333333,\"#9c179e\"],[0.4444444444444444,\"#bd3786\"],[0.5555555555555556,\"#d8576b\"],[0.6666666666666666,\"#ed7953\"],[0.7777777777777778,\"#fb9f3a\"],[0.8888888888888888,\"#fdca26\"],[1.0,\"#f0f921\"]]},\"colorway\":[\"#636efa\",\"#EF553B\",\"#00cc96\",\"#ab63fa\",\"#FFA15A\",\"#19d3f3\",\"#FF6692\",\"#B6E880\",\"#FF97FF\",\"#FECB52\"],\"font\":{\"color\":\"#2a3f5f\"},\"geo\":{\"bgcolor\":\"white\",\"lakecolor\":\"white\",\"landcolor\":\"#E5ECF6\",\"showlakes\":true,\"showland\":true,\"subunitcolor\":\"white\"},\"hoverlabel\":{\"align\":\"left\"},\"hovermode\":\"closest\",\"mapbox\":{\"style\":\"light\"},\"paper_bgcolor\":\"white\",\"plot_bgcolor\":\"#E5ECF6\",\"polar\":{\"angularaxis\":{\"gridcolor\":\"white\",\"linecolor\":\"white\",\"ticks\":\"\"},\"bgcolor\":\"#E5ECF6\",\"radialaxis\":{\"gridcolor\":\"white\",\"linecolor\":\"white\",\"ticks\":\"\"}},\"scene\":{\"xaxis\":{\"backgroundcolor\":\"#E5ECF6\",\"gridcolor\":\"white\",\"gridwidth\":2,\"linecolor\":\"white\",\"showbackground\":true,\"ticks\":\"\",\"zerolinecolor\":\"white\"},\"yaxis\":{\"backgroundcolor\":\"#E5ECF6\",\"gridcolor\":\"white\",\"gridwidth\":2,\"linecolor\":\"white\",\"showbackground\":true,\"ticks\":\"\",\"zerolinecolor\":\"white\"},\"zaxis\":{\"backgroundcolor\":\"#E5ECF6\",\"gridcolor\":\"white\",\"gridwidth\":2,\"linecolor\":\"white\",\"showbackground\":true,\"ticks\":\"\",\"zerolinecolor\":\"white\"}},\"shapedefaults\":{\"line\":{\"color\":\"#2a3f5f\"}},\"ternary\":{\"aaxis\":{\"gridcolor\":\"white\",\"linecolor\":\"white\",\"ticks\":\"\"},\"baxis\":{\"gridcolor\":\"white\",\"linecolor\":\"white\",\"ticks\":\"\"},\"bgcolor\":\"#E5ECF6\",\"caxis\":{\"gridcolor\":\"white\",\"linecolor\":\"white\",\"ticks\":\"\"}},\"title\":{\"x\":0.05},\"xaxis\":{\"automargin\":true,\"gridcolor\":\"white\",\"linecolor\":\"white\",\"ticks\":\"\",\"title\":{\"standoff\":15},\"zerolinecolor\":\"white\",\"zerolinewidth\":2},\"yaxis\":{\"automargin\":true,\"gridcolor\":\"white\",\"linecolor\":\"white\",\"ticks\":\"\",\"title\":{\"standoff\":15},\"zerolinecolor\":\"white\",\"zerolinewidth\":2}}},\"title\":{\"font\":{\"color\":\"#4D5663\"}},\"xaxis\":{\"gridcolor\":\"#E1E5ED\",\"showgrid\":true,\"tickfont\":{\"color\":\"#4D5663\"},\"title\":{\"font\":{\"color\":\"#4D5663\"},\"text\":\"\"},\"zerolinecolor\":\"#E1E5ED\"},\"yaxis\":{\"gridcolor\":\"#E1E5ED\",\"showgrid\":true,\"tickfont\":{\"color\":\"#4D5663\"},\"title\":{\"font\":{\"color\":\"#4D5663\"},\"text\":\"\"},\"zerolinecolor\":\"#E1E5ED\"}},                        {\"showLink\": true, \"linkText\": \"Export to plot.ly\", \"plotlyServerURL\": \"https://plot.ly\", \"responsive\": true}                    ).then(function(){\n",
       "                            \n",
       "var gd = document.getElementById('58248b46-93a8-4153-8d3a-62bfcc6bf28c');\n",
       "var x = new MutationObserver(function (mutations, observer) {{\n",
       "        var display = window.getComputedStyle(gd).display;\n",
       "        if (!display || display === 'none') {{\n",
       "            console.log([gd, 'removed!']);\n",
       "            Plotly.purge(gd);\n",
       "            observer.disconnect();\n",
       "        }}\n",
       "}});\n",
       "\n",
       "// Listen for the removal of the full notebook cells\n",
       "var notebookContainer = gd.closest('#notebook-container');\n",
       "if (notebookContainer) {{\n",
       "    x.observe(notebookContainer, {childList: true});\n",
       "}}\n",
       "\n",
       "// Listen for the clearing of the current output cell\n",
       "var outputEl = gd.closest('.output');\n",
       "if (outputEl) {{\n",
       "    x.observe(outputEl, {childList: true});\n",
       "}}\n",
       "\n",
       "                        })                };                });            </script>        </div>"
      ]
     },
     "metadata": {},
     "output_type": "display_data"
    }
   ],
   "source": [
    "df.sum().iplot(kind='bar')"
   ]
  },
  {
   "cell_type": "code",
   "execution_count": 19,
   "metadata": {},
   "outputs": [
    {
     "data": {
      "application/vnd.plotly.v1+json": {
       "config": {
        "linkText": "Export to plot.ly",
        "plotlyServerURL": "https://plot.ly",
        "showLink": true
       },
       "data": [
        {
         "boxpoints": false,
         "line": {
          "width": 1.3
         },
         "marker": {
          "color": "rgba(255, 153, 51, 1.0)"
         },
         "name": "A",
         "orientation": "v",
         "type": "box",
         "y": [
          -1.1024981471016053,
          0.45532653178486426,
          0.40391046008714476,
          -0.2809970042901508,
          0.7989989325364689,
          1.0832583953209949,
          -1.234209784210434,
          0.3224994409690922,
          -0.3242087708237595,
          -0.1284653156020744,
          -0.7552748291440724,
          0.8184288968726566,
          0.5422845891231438,
          0.10789901010090519,
          -0.32139817008019994,
          -0.7963759333281335,
          -0.39037680946255826,
          -2.2655403217214696,
          0.5167189806038817,
          1.0311119027127906,
          -0.7280729939339882,
          2.2399138984961033,
          -1.2752392088928555,
          -0.5378918136584961,
          2.0295510309720433,
          0.23191793912741354,
          -0.7489274861749667,
          0.1804315695573513,
          -1.076899175942572,
          0.1480646205053287,
          -2.067689597756462,
          -0.6242648055288316,
          1.9205984896737025,
          -0.6626634145557857,
          0.43755162941932596,
          -0.08301825934472241,
          1.6979277445032026,
          1.3214093229538189,
          -0.5063299960070593,
          -0.0634250885800641,
          1.5099246615970119,
          -0.06181082497718354,
          -0.3409827236091026,
          -0.33324862190788684,
          1.500014889723033,
          -1.5918283819078909,
          0.1436883889894132,
          1.5756106661076734,
          -0.32506572639260684,
          0.37798144298626746,
          0.46348546666861756,
          -2.051188827144377,
          -1.0172458205234336,
          -0.5070704946445844,
          -0.8478731955080303,
          -0.2334924377631749,
          0.19262355458803307,
          -1.3003949447844079,
          -0.9149035966488548,
          0.8229650720355511,
          1.3006243742931636,
          -0.4126201075864305,
          -0.6711296866905244,
          -0.4405250418337267,
          -0.5651290513169568,
          1.0196385357067541,
          0.5877685488555959,
          -0.3945490445285969,
          0.8054155111464418,
          -1.0217863363909698,
          0.46049889877191597,
          0.57181539365208,
          -0.8625271604108457,
          -0.46000004554287016,
          0.02716586732277476,
          0.6816588980785862,
          -0.4668112307509774,
          0.25228987992077717,
          0.8669165806315857,
          0.847033573383717,
          -1.3863133841285744,
          -0.01553686633329219,
          -0.2740973426119702,
          0.043616214784867754,
          -2.1647128799946276,
          -0.05182135785862414,
          -1.384645553366656,
          0.4027841869433865,
          0.11479059202803563,
          0.3819374624127815,
          0.22205933188988886,
          0.9355340173488559,
          -0.2765941836604982,
          0.954866972229284,
          1.073857686349574,
          -1.1885752619110412,
          0.28988033179079464,
          0.8151597284421718,
          -0.9941872219563699,
          1.5368506591655258
         ]
        },
        {
         "boxpoints": false,
         "line": {
          "width": 1.3
         },
         "marker": {
          "color": "rgba(55, 128, 191, 1.0)"
         },
         "name": "B",
         "orientation": "v",
         "type": "box",
         "y": [
          -0.8713196634022675,
          -1.767211174819314,
          -1.0350908487091959,
          -0.08072812492485895,
          -1.1951142174006553,
          -1.8471571622199414,
          1.8801067041568933,
          -1.1058767571189025,
          0.40937518520839133,
          0.5074882970638703,
          -0.9099081392282109,
          -0.23390168778098436,
          1.3793033998833388,
          -0.03876003474237771,
          1.38539784508653,
          0.8040467182086181,
          -1.9859688198263412,
          1.4318814602300922,
          0.2856696833736994,
          -0.02734422820736344,
          2.2604852635308466,
          0.3437984522726635,
          -1.6199777026322286,
          -1.6252434641567413,
          0.819414661012346,
          0.8718682984632122,
          -0.9577172169711519,
          0.26839737955878556,
          1.3259952049003743,
          -0.5112436727714154,
          1.5282438868112913,
          0.46111855997757906,
          0.5103298218556396,
          -1.6594959487403262,
          0.5897407100948779,
          -0.0702770913251112,
          2.145076222618863,
          -0.3302738874863218,
          1.7954077585596733,
          -0.32578556653973817,
          0.8364388798723189,
          0.22696433098098545,
          -0.8327353257833802,
          -1.015031002671774,
          0.37786457003176177,
          -0.8097117301574803,
          -0.9985378053285431,
          0.5203569062543102,
          0.4818184236235761,
          -0.8441091152069875,
          1.2708165965970095,
          -0.70334138878969,
          1.0694277546339286,
          0.6254820710794478,
          -0.009766599509518017,
          0.10566623768884706,
          -0.38865979307592985,
          -0.4287810605985193,
          -0.3739451959228925,
          -0.9145143264683828,
          2.625130148137943,
          0.2778968503855602,
          0.9934389776868553,
          -0.9072450113031999,
          0.5210933674015816,
          0.0830080569450399,
          0.14620986056202875,
          -0.4516254448680814,
          1.1997048520705935,
          -0.45206800531489205,
          1.0943552757896906,
          0.9640478674870745,
          -1.6536100269234513,
          0.101149502791871,
          -0.4152232250614539,
          0.6152742885080315,
          0.2106406522997461,
          0.0019031646346197241,
          0.602635626247644,
          -1.715601158322781,
          0.5628710900741206,
          -0.1294924891033397,
          -0.6355075840796094,
          1.2649381157969501,
          0.02498520572713563,
          0.5104545781590395,
          -0.5702951302023916,
          1.7309202655032256,
          1.2879164184864185,
          -0.36438719814264675,
          0.2745117757241402,
          -0.07135501369983091,
          -0.10594911360867416,
          0.2004243601221823,
          0.5662466524036643,
          0.4151771166224692,
          2.0414607940726452,
          0.3982025407248406,
          -1.2995806760810338,
          0.982890176174143
         ]
        },
        {
         "boxpoints": false,
         "line": {
          "width": 1.3
         },
         "marker": {
          "color": "rgba(50, 171, 96, 1.0)"
         },
         "name": "C",
         "orientation": "v",
         "type": "box",
         "y": [
          -0.23191483467728796,
          0.22996169982911116,
          0.37235644215290814,
          -0.18317934630443627,
          0.030269596121248386,
          0.2377912009439052,
          -0.4635781052161619,
          -1.113826422851541,
          -0.4640499369179566,
          0.0862418242527444,
          -0.17526457764388662,
          -1.2394707131388767,
          1.1378268189836096,
          1.1227212390740267,
          0.8469162696258059,
          -0.2352349772821939,
          0.1966858786059231,
          -0.2933140386799466,
          -0.30688059116922967,
          -0.4821681732345493,
          -0.27745071051604725,
          -1.1243501531182385,
          0.057655680779404216,
          0.45004825152232597,
          -0.6431969695826352,
          1.8043144586142832,
          0.5335382114718625,
          -0.558890544540614,
          -1.0720048033208915,
          -0.941563266309427,
          0.348237899267876,
          1.1705473551597216,
          -0.8353913555607797,
          -0.857665180470015,
          -0.34313815056146535,
          -0.6405363663505411,
          -0.005708929644882179,
          -1.0129631575850104,
          0.5779718783951365,
          -1.0519358973969024,
          0.5136347490696667,
          -1.2979934398788073,
          0.5349053270524682,
          2.357078440371061,
          0.7469704623104282,
          -0.7512300212264496,
          -0.0676600767370751,
          1.1717868904695523,
          0.056014652083291414,
          1.9067085542207205,
          0.22696914256599662,
          -1.0227464786175227,
          -0.3662894960812538,
          -1.069064556566524,
          0.5477192163632087,
          0.38967752312019927,
          -0.30929610039500577,
          1.3586255897880464,
          1.5695745260088578,
          -0.440786731303405,
          -1.0467786473869678,
          -0.6406050565135507,
          1.2910836005523305,
          -0.11894889194832031,
          -1.0179449928368667,
          1.3447998121960456,
          0.14512180959110263,
          -1.227725683384825,
          1.4371215964566564,
          -0.0031341668208622908,
          -0.5576920364414308,
          -0.38328672961847204,
          0.026830990387689723,
          -0.8382448805596847,
          0.8827979098248043,
          1.5898469507164932,
          2.604205368168547,
          0.8892144723017181,
          -0.07378398071441221,
          0.4267291792279438,
          0.8950635767904128,
          0.3922940160616898,
          -0.0851112683431683,
          -0.6736568562098894,
          -0.43538967839927634,
          -0.6678661489181582,
          0.4674966404566777,
          1.3041628300440022,
          -1.9223632355127063,
          -0.6824825992913708,
          -0.7251925773027719,
          0.8406610583174904,
          0.6198675777100461,
          1.2865116834532744,
          -1.6841263181861676,
          0.3858325516026786,
          -0.31831457953920045,
          0.9298675048241788,
          0.08512501033433308,
          0.5944382814004443
         ]
        },
        {
         "boxpoints": false,
         "line": {
          "width": 1.3
         },
         "marker": {
          "color": "rgba(128, 0, 128, 1.0)"
         },
         "name": "D",
         "orientation": "v",
         "type": "box",
         "y": [
          1.7420011505283355,
          -0.21407790210814454,
          -0.8346995928206267,
          0.3572143263372206,
          -0.44861423493977404,
          -1.6081212330874752,
          0.801690734912549,
          -0.6109376576801621,
          2.1373076535109092,
          -0.3895897715840815,
          0.49813442940114483,
          0.9759970066716024,
          -0.7932651994978115,
          0.6835870707382509,
          -0.3274394480942042,
          1.8709656860865775,
          0.3111020957103798,
          -0.7509733514305589,
          0.70735198442484,
          -2.0380165731831723,
          -0.2268007663096546,
          -0.1570710863874976,
          -0.043925259267604065,
          1.2132826148806004,
          -0.35116309161963677,
          -0.22222779417501082,
          -0.4744366412490772,
          0.9675082903553129,
          0.117057975512573,
          1.3648150969859354,
          -0.44309217680230667,
          -0.2426589005323525,
          0.6386264583219761,
          -0.8332164875365083,
          -0.44728663182657197,
          -0.02280652878873671,
          2.225828052114822,
          -0.14800113052807606,
          0.6406805425970652,
          -1.1344693137474502,
          -1.0701856529498481,
          -1.0291026082395422,
          1.439390319110055,
          0.7584810547627114,
          0.5888102171302606,
          0.2724300812740993,
          0.43539688823221795,
          0.47801130939445824,
          0.7306479076541726,
          0.7096123064838874,
          0.38797045860083834,
          0.6450237570733347,
          -1.6733767642736335,
          -0.18122074197359497,
          -0.10116934075473873,
          0.903652841960548,
          -1.1081023040397295,
          0.6399902629524633,
          0.7793730919102405,
          0.875387486712953,
          1.044674558695237,
          -0.4871528085047099,
          -0.6143593693157811,
          0.21228328709304328,
          -1.4146000066232995,
          -1.7253060336527681,
          0.7433283324848287,
          0.0627648959382127,
          -1.0410361166019233,
          -1.0179539366545063,
          -0.12346745371218192,
          -0.19861250276447442,
          -1.2928778298316919,
          -0.39586307865963055,
          -0.7406276396929118,
          0.639801665969883,
          1.5466490194149656,
          -2.25710586595814,
          0.025727214192610162,
          -1.3997758024249467,
          0.6293336997602994,
          0.5524935217565039,
          2.3874015597003724,
          -0.39471117140079154,
          -1.3953941132202565,
          0.40979403089478883,
          -0.23403208703945236,
          -1.5492736810458847,
          -2.80725233529573,
          -0.4855463561126437,
          1.9368340138661833,
          0.007857349331967686,
          -0.8882755436060508,
          -1.6353969003568276,
          -1.3308136151465673,
          -0.5024940855850913,
          -0.09574033787558964,
          1.876487667138215,
          -1.4315406749059392,
          -0.14243853343481255
         ]
        }
       ],
       "layout": {
        "legend": {
         "bgcolor": "#F5F6F9",
         "font": {
          "color": "#4D5663"
         }
        },
        "paper_bgcolor": "#F5F6F9",
        "plot_bgcolor": "#F5F6F9",
        "template": {
         "data": {
          "bar": [
           {
            "error_x": {
             "color": "#2a3f5f"
            },
            "error_y": {
             "color": "#2a3f5f"
            },
            "marker": {
             "line": {
              "color": "#E5ECF6",
              "width": 0.5
             },
             "pattern": {
              "fillmode": "overlay",
              "size": 10,
              "solidity": 0.2
             }
            },
            "type": "bar"
           }
          ],
          "barpolar": [
           {
            "marker": {
             "line": {
              "color": "#E5ECF6",
              "width": 0.5
             },
             "pattern": {
              "fillmode": "overlay",
              "size": 10,
              "solidity": 0.2
             }
            },
            "type": "barpolar"
           }
          ],
          "carpet": [
           {
            "aaxis": {
             "endlinecolor": "#2a3f5f",
             "gridcolor": "white",
             "linecolor": "white",
             "minorgridcolor": "white",
             "startlinecolor": "#2a3f5f"
            },
            "baxis": {
             "endlinecolor": "#2a3f5f",
             "gridcolor": "white",
             "linecolor": "white",
             "minorgridcolor": "white",
             "startlinecolor": "#2a3f5f"
            },
            "type": "carpet"
           }
          ],
          "choropleth": [
           {
            "colorbar": {
             "outlinewidth": 0,
             "ticks": ""
            },
            "type": "choropleth"
           }
          ],
          "contour": [
           {
            "colorbar": {
             "outlinewidth": 0,
             "ticks": ""
            },
            "colorscale": [
             [
              0,
              "#0d0887"
             ],
             [
              0.1111111111111111,
              "#46039f"
             ],
             [
              0.2222222222222222,
              "#7201a8"
             ],
             [
              0.3333333333333333,
              "#9c179e"
             ],
             [
              0.4444444444444444,
              "#bd3786"
             ],
             [
              0.5555555555555556,
              "#d8576b"
             ],
             [
              0.6666666666666666,
              "#ed7953"
             ],
             [
              0.7777777777777778,
              "#fb9f3a"
             ],
             [
              0.8888888888888888,
              "#fdca26"
             ],
             [
              1,
              "#f0f921"
             ]
            ],
            "type": "contour"
           }
          ],
          "contourcarpet": [
           {
            "colorbar": {
             "outlinewidth": 0,
             "ticks": ""
            },
            "type": "contourcarpet"
           }
          ],
          "heatmap": [
           {
            "colorbar": {
             "outlinewidth": 0,
             "ticks": ""
            },
            "colorscale": [
             [
              0,
              "#0d0887"
             ],
             [
              0.1111111111111111,
              "#46039f"
             ],
             [
              0.2222222222222222,
              "#7201a8"
             ],
             [
              0.3333333333333333,
              "#9c179e"
             ],
             [
              0.4444444444444444,
              "#bd3786"
             ],
             [
              0.5555555555555556,
              "#d8576b"
             ],
             [
              0.6666666666666666,
              "#ed7953"
             ],
             [
              0.7777777777777778,
              "#fb9f3a"
             ],
             [
              0.8888888888888888,
              "#fdca26"
             ],
             [
              1,
              "#f0f921"
             ]
            ],
            "type": "heatmap"
           }
          ],
          "heatmapgl": [
           {
            "colorbar": {
             "outlinewidth": 0,
             "ticks": ""
            },
            "colorscale": [
             [
              0,
              "#0d0887"
             ],
             [
              0.1111111111111111,
              "#46039f"
             ],
             [
              0.2222222222222222,
              "#7201a8"
             ],
             [
              0.3333333333333333,
              "#9c179e"
             ],
             [
              0.4444444444444444,
              "#bd3786"
             ],
             [
              0.5555555555555556,
              "#d8576b"
             ],
             [
              0.6666666666666666,
              "#ed7953"
             ],
             [
              0.7777777777777778,
              "#fb9f3a"
             ],
             [
              0.8888888888888888,
              "#fdca26"
             ],
             [
              1,
              "#f0f921"
             ]
            ],
            "type": "heatmapgl"
           }
          ],
          "histogram": [
           {
            "marker": {
             "pattern": {
              "fillmode": "overlay",
              "size": 10,
              "solidity": 0.2
             }
            },
            "type": "histogram"
           }
          ],
          "histogram2d": [
           {
            "colorbar": {
             "outlinewidth": 0,
             "ticks": ""
            },
            "colorscale": [
             [
              0,
              "#0d0887"
             ],
             [
              0.1111111111111111,
              "#46039f"
             ],
             [
              0.2222222222222222,
              "#7201a8"
             ],
             [
              0.3333333333333333,
              "#9c179e"
             ],
             [
              0.4444444444444444,
              "#bd3786"
             ],
             [
              0.5555555555555556,
              "#d8576b"
             ],
             [
              0.6666666666666666,
              "#ed7953"
             ],
             [
              0.7777777777777778,
              "#fb9f3a"
             ],
             [
              0.8888888888888888,
              "#fdca26"
             ],
             [
              1,
              "#f0f921"
             ]
            ],
            "type": "histogram2d"
           }
          ],
          "histogram2dcontour": [
           {
            "colorbar": {
             "outlinewidth": 0,
             "ticks": ""
            },
            "colorscale": [
             [
              0,
              "#0d0887"
             ],
             [
              0.1111111111111111,
              "#46039f"
             ],
             [
              0.2222222222222222,
              "#7201a8"
             ],
             [
              0.3333333333333333,
              "#9c179e"
             ],
             [
              0.4444444444444444,
              "#bd3786"
             ],
             [
              0.5555555555555556,
              "#d8576b"
             ],
             [
              0.6666666666666666,
              "#ed7953"
             ],
             [
              0.7777777777777778,
              "#fb9f3a"
             ],
             [
              0.8888888888888888,
              "#fdca26"
             ],
             [
              1,
              "#f0f921"
             ]
            ],
            "type": "histogram2dcontour"
           }
          ],
          "mesh3d": [
           {
            "colorbar": {
             "outlinewidth": 0,
             "ticks": ""
            },
            "type": "mesh3d"
           }
          ],
          "parcoords": [
           {
            "line": {
             "colorbar": {
              "outlinewidth": 0,
              "ticks": ""
             }
            },
            "type": "parcoords"
           }
          ],
          "pie": [
           {
            "automargin": true,
            "type": "pie"
           }
          ],
          "scatter": [
           {
            "fillpattern": {
             "fillmode": "overlay",
             "size": 10,
             "solidity": 0.2
            },
            "type": "scatter"
           }
          ],
          "scatter3d": [
           {
            "line": {
             "colorbar": {
              "outlinewidth": 0,
              "ticks": ""
             }
            },
            "marker": {
             "colorbar": {
              "outlinewidth": 0,
              "ticks": ""
             }
            },
            "type": "scatter3d"
           }
          ],
          "scattercarpet": [
           {
            "marker": {
             "colorbar": {
              "outlinewidth": 0,
              "ticks": ""
             }
            },
            "type": "scattercarpet"
           }
          ],
          "scattergeo": [
           {
            "marker": {
             "colorbar": {
              "outlinewidth": 0,
              "ticks": ""
             }
            },
            "type": "scattergeo"
           }
          ],
          "scattergl": [
           {
            "marker": {
             "colorbar": {
              "outlinewidth": 0,
              "ticks": ""
             }
            },
            "type": "scattergl"
           }
          ],
          "scattermapbox": [
           {
            "marker": {
             "colorbar": {
              "outlinewidth": 0,
              "ticks": ""
             }
            },
            "type": "scattermapbox"
           }
          ],
          "scatterpolar": [
           {
            "marker": {
             "colorbar": {
              "outlinewidth": 0,
              "ticks": ""
             }
            },
            "type": "scatterpolar"
           }
          ],
          "scatterpolargl": [
           {
            "marker": {
             "colorbar": {
              "outlinewidth": 0,
              "ticks": ""
             }
            },
            "type": "scatterpolargl"
           }
          ],
          "scatterternary": [
           {
            "marker": {
             "colorbar": {
              "outlinewidth": 0,
              "ticks": ""
             }
            },
            "type": "scatterternary"
           }
          ],
          "surface": [
           {
            "colorbar": {
             "outlinewidth": 0,
             "ticks": ""
            },
            "colorscale": [
             [
              0,
              "#0d0887"
             ],
             [
              0.1111111111111111,
              "#46039f"
             ],
             [
              0.2222222222222222,
              "#7201a8"
             ],
             [
              0.3333333333333333,
              "#9c179e"
             ],
             [
              0.4444444444444444,
              "#bd3786"
             ],
             [
              0.5555555555555556,
              "#d8576b"
             ],
             [
              0.6666666666666666,
              "#ed7953"
             ],
             [
              0.7777777777777778,
              "#fb9f3a"
             ],
             [
              0.8888888888888888,
              "#fdca26"
             ],
             [
              1,
              "#f0f921"
             ]
            ],
            "type": "surface"
           }
          ],
          "table": [
           {
            "cells": {
             "fill": {
              "color": "#EBF0F8"
             },
             "line": {
              "color": "white"
             }
            },
            "header": {
             "fill": {
              "color": "#C8D4E3"
             },
             "line": {
              "color": "white"
             }
            },
            "type": "table"
           }
          ]
         },
         "layout": {
          "annotationdefaults": {
           "arrowcolor": "#2a3f5f",
           "arrowhead": 0,
           "arrowwidth": 1
          },
          "autotypenumbers": "strict",
          "coloraxis": {
           "colorbar": {
            "outlinewidth": 0,
            "ticks": ""
           }
          },
          "colorscale": {
           "diverging": [
            [
             0,
             "#8e0152"
            ],
            [
             0.1,
             "#c51b7d"
            ],
            [
             0.2,
             "#de77ae"
            ],
            [
             0.3,
             "#f1b6da"
            ],
            [
             0.4,
             "#fde0ef"
            ],
            [
             0.5,
             "#f7f7f7"
            ],
            [
             0.6,
             "#e6f5d0"
            ],
            [
             0.7,
             "#b8e186"
            ],
            [
             0.8,
             "#7fbc41"
            ],
            [
             0.9,
             "#4d9221"
            ],
            [
             1,
             "#276419"
            ]
           ],
           "sequential": [
            [
             0,
             "#0d0887"
            ],
            [
             0.1111111111111111,
             "#46039f"
            ],
            [
             0.2222222222222222,
             "#7201a8"
            ],
            [
             0.3333333333333333,
             "#9c179e"
            ],
            [
             0.4444444444444444,
             "#bd3786"
            ],
            [
             0.5555555555555556,
             "#d8576b"
            ],
            [
             0.6666666666666666,
             "#ed7953"
            ],
            [
             0.7777777777777778,
             "#fb9f3a"
            ],
            [
             0.8888888888888888,
             "#fdca26"
            ],
            [
             1,
             "#f0f921"
            ]
           ],
           "sequentialminus": [
            [
             0,
             "#0d0887"
            ],
            [
             0.1111111111111111,
             "#46039f"
            ],
            [
             0.2222222222222222,
             "#7201a8"
            ],
            [
             0.3333333333333333,
             "#9c179e"
            ],
            [
             0.4444444444444444,
             "#bd3786"
            ],
            [
             0.5555555555555556,
             "#d8576b"
            ],
            [
             0.6666666666666666,
             "#ed7953"
            ],
            [
             0.7777777777777778,
             "#fb9f3a"
            ],
            [
             0.8888888888888888,
             "#fdca26"
            ],
            [
             1,
             "#f0f921"
            ]
           ]
          },
          "colorway": [
           "#636efa",
           "#EF553B",
           "#00cc96",
           "#ab63fa",
           "#FFA15A",
           "#19d3f3",
           "#FF6692",
           "#B6E880",
           "#FF97FF",
           "#FECB52"
          ],
          "font": {
           "color": "#2a3f5f"
          },
          "geo": {
           "bgcolor": "white",
           "lakecolor": "white",
           "landcolor": "#E5ECF6",
           "showlakes": true,
           "showland": true,
           "subunitcolor": "white"
          },
          "hoverlabel": {
           "align": "left"
          },
          "hovermode": "closest",
          "mapbox": {
           "style": "light"
          },
          "paper_bgcolor": "white",
          "plot_bgcolor": "#E5ECF6",
          "polar": {
           "angularaxis": {
            "gridcolor": "white",
            "linecolor": "white",
            "ticks": ""
           },
           "bgcolor": "#E5ECF6",
           "radialaxis": {
            "gridcolor": "white",
            "linecolor": "white",
            "ticks": ""
           }
          },
          "scene": {
           "xaxis": {
            "backgroundcolor": "#E5ECF6",
            "gridcolor": "white",
            "gridwidth": 2,
            "linecolor": "white",
            "showbackground": true,
            "ticks": "",
            "zerolinecolor": "white"
           },
           "yaxis": {
            "backgroundcolor": "#E5ECF6",
            "gridcolor": "white",
            "gridwidth": 2,
            "linecolor": "white",
            "showbackground": true,
            "ticks": "",
            "zerolinecolor": "white"
           },
           "zaxis": {
            "backgroundcolor": "#E5ECF6",
            "gridcolor": "white",
            "gridwidth": 2,
            "linecolor": "white",
            "showbackground": true,
            "ticks": "",
            "zerolinecolor": "white"
           }
          },
          "shapedefaults": {
           "line": {
            "color": "#2a3f5f"
           }
          },
          "ternary": {
           "aaxis": {
            "gridcolor": "white",
            "linecolor": "white",
            "ticks": ""
           },
           "baxis": {
            "gridcolor": "white",
            "linecolor": "white",
            "ticks": ""
           },
           "bgcolor": "#E5ECF6",
           "caxis": {
            "gridcolor": "white",
            "linecolor": "white",
            "ticks": ""
           }
          },
          "title": {
           "x": 0.05
          },
          "xaxis": {
           "automargin": true,
           "gridcolor": "white",
           "linecolor": "white",
           "ticks": "",
           "title": {
            "standoff": 15
           },
           "zerolinecolor": "white",
           "zerolinewidth": 2
          },
          "yaxis": {
           "automargin": true,
           "gridcolor": "white",
           "linecolor": "white",
           "ticks": "",
           "title": {
            "standoff": 15
           },
           "zerolinecolor": "white",
           "zerolinewidth": 2
          }
         }
        },
        "title": {
         "font": {
          "color": "#4D5663"
         }
        },
        "xaxis": {
         "gridcolor": "#E1E5ED",
         "showgrid": true,
         "tickfont": {
          "color": "#4D5663"
         },
         "title": {
          "font": {
           "color": "#4D5663"
          },
          "text": ""
         },
         "zerolinecolor": "#E1E5ED"
        },
        "yaxis": {
         "gridcolor": "#E1E5ED",
         "showgrid": true,
         "tickfont": {
          "color": "#4D5663"
         },
         "title": {
          "font": {
           "color": "#4D5663"
          },
          "text": ""
         },
         "zerolinecolor": "#E1E5ED"
        }
       }
      },
      "text/html": [
       "<div>                            <div id=\"c4d4adef-1ec3-4ea9-a28d-9965617722d8\" class=\"plotly-graph-div\" style=\"height:525px; width:100%;\"></div>            <script type=\"text/javascript\">                require([\"plotly\"], function(Plotly) {                    window.PLOTLYENV=window.PLOTLYENV || {};\n",
       "                    window.PLOTLYENV.BASE_URL='https://plot.ly';                                    if (document.getElementById(\"c4d4adef-1ec3-4ea9-a28d-9965617722d8\")) {                    Plotly.newPlot(                        \"c4d4adef-1ec3-4ea9-a28d-9965617722d8\",                        [{\"boxpoints\":false,\"line\":{\"width\":1.3},\"marker\":{\"color\":\"rgba(255, 153, 51, 1.0)\"},\"name\":\"A\",\"orientation\":\"v\",\"y\":[-1.1024981471016053,0.45532653178486426,0.40391046008714476,-0.2809970042901508,0.7989989325364689,1.0832583953209949,-1.234209784210434,0.3224994409690922,-0.3242087708237595,-0.1284653156020744,-0.7552748291440724,0.8184288968726566,0.5422845891231438,0.10789901010090519,-0.32139817008019994,-0.7963759333281335,-0.39037680946255826,-2.2655403217214696,0.5167189806038817,1.0311119027127906,-0.7280729939339882,2.2399138984961033,-1.2752392088928555,-0.5378918136584961,2.0295510309720433,0.23191793912741354,-0.7489274861749667,0.1804315695573513,-1.076899175942572,0.1480646205053287,-2.067689597756462,-0.6242648055288316,1.9205984896737025,-0.6626634145557857,0.43755162941932596,-0.08301825934472241,1.6979277445032026,1.3214093229538189,-0.5063299960070593,-0.0634250885800641,1.5099246615970119,-0.06181082497718354,-0.3409827236091026,-0.33324862190788684,1.500014889723033,-1.5918283819078909,0.1436883889894132,1.5756106661076734,-0.32506572639260684,0.37798144298626746,0.46348546666861756,-2.051188827144377,-1.0172458205234336,-0.5070704946445844,-0.8478731955080303,-0.2334924377631749,0.19262355458803307,-1.3003949447844079,-0.9149035966488548,0.8229650720355511,1.3006243742931636,-0.4126201075864305,-0.6711296866905244,-0.4405250418337267,-0.5651290513169568,1.0196385357067541,0.5877685488555959,-0.3945490445285969,0.8054155111464418,-1.0217863363909698,0.46049889877191597,0.57181539365208,-0.8625271604108457,-0.46000004554287016,0.02716586732277476,0.6816588980785862,-0.4668112307509774,0.25228987992077717,0.8669165806315857,0.847033573383717,-1.3863133841285744,-0.01553686633329219,-0.2740973426119702,0.043616214784867754,-2.1647128799946276,-0.05182135785862414,-1.384645553366656,0.4027841869433865,0.11479059202803563,0.3819374624127815,0.22205933188988886,0.9355340173488559,-0.2765941836604982,0.954866972229284,1.073857686349574,-1.1885752619110412,0.28988033179079464,0.8151597284421718,-0.9941872219563699,1.5368506591655258],\"type\":\"box\"},{\"boxpoints\":false,\"line\":{\"width\":1.3},\"marker\":{\"color\":\"rgba(55, 128, 191, 1.0)\"},\"name\":\"B\",\"orientation\":\"v\",\"y\":[-0.8713196634022675,-1.767211174819314,-1.0350908487091959,-0.08072812492485895,-1.1951142174006553,-1.8471571622199414,1.8801067041568933,-1.1058767571189025,0.40937518520839133,0.5074882970638703,-0.9099081392282109,-0.23390168778098436,1.3793033998833388,-0.03876003474237771,1.38539784508653,0.8040467182086181,-1.9859688198263412,1.4318814602300922,0.2856696833736994,-0.02734422820736344,2.2604852635308466,0.3437984522726635,-1.6199777026322286,-1.6252434641567413,0.819414661012346,0.8718682984632122,-0.9577172169711519,0.26839737955878556,1.3259952049003743,-0.5112436727714154,1.5282438868112913,0.46111855997757906,0.5103298218556396,-1.6594959487403262,0.5897407100948779,-0.0702770913251112,2.145076222618863,-0.3302738874863218,1.7954077585596733,-0.32578556653973817,0.8364388798723189,0.22696433098098545,-0.8327353257833802,-1.015031002671774,0.37786457003176177,-0.8097117301574803,-0.9985378053285431,0.5203569062543102,0.4818184236235761,-0.8441091152069875,1.2708165965970095,-0.70334138878969,1.0694277546339286,0.6254820710794478,-0.009766599509518017,0.10566623768884706,-0.38865979307592985,-0.4287810605985193,-0.3739451959228925,-0.9145143264683828,2.625130148137943,0.2778968503855602,0.9934389776868553,-0.9072450113031999,0.5210933674015816,0.0830080569450399,0.14620986056202875,-0.4516254448680814,1.1997048520705935,-0.45206800531489205,1.0943552757896906,0.9640478674870745,-1.6536100269234513,0.101149502791871,-0.4152232250614539,0.6152742885080315,0.2106406522997461,0.0019031646346197241,0.602635626247644,-1.715601158322781,0.5628710900741206,-0.1294924891033397,-0.6355075840796094,1.2649381157969501,0.02498520572713563,0.5104545781590395,-0.5702951302023916,1.7309202655032256,1.2879164184864185,-0.36438719814264675,0.2745117757241402,-0.07135501369983091,-0.10594911360867416,0.2004243601221823,0.5662466524036643,0.4151771166224692,2.0414607940726452,0.3982025407248406,-1.2995806760810338,0.982890176174143],\"type\":\"box\"},{\"boxpoints\":false,\"line\":{\"width\":1.3},\"marker\":{\"color\":\"rgba(50, 171, 96, 1.0)\"},\"name\":\"C\",\"orientation\":\"v\",\"y\":[-0.23191483467728796,0.22996169982911116,0.37235644215290814,-0.18317934630443627,0.030269596121248386,0.2377912009439052,-0.4635781052161619,-1.113826422851541,-0.4640499369179566,0.0862418242527444,-0.17526457764388662,-1.2394707131388767,1.1378268189836096,1.1227212390740267,0.8469162696258059,-0.2352349772821939,0.1966858786059231,-0.2933140386799466,-0.30688059116922967,-0.4821681732345493,-0.27745071051604725,-1.1243501531182385,0.057655680779404216,0.45004825152232597,-0.6431969695826352,1.8043144586142832,0.5335382114718625,-0.558890544540614,-1.0720048033208915,-0.941563266309427,0.348237899267876,1.1705473551597216,-0.8353913555607797,-0.857665180470015,-0.34313815056146535,-0.6405363663505411,-0.005708929644882179,-1.0129631575850104,0.5779718783951365,-1.0519358973969024,0.5136347490696667,-1.2979934398788073,0.5349053270524682,2.357078440371061,0.7469704623104282,-0.7512300212264496,-0.0676600767370751,1.1717868904695523,0.056014652083291414,1.9067085542207205,0.22696914256599662,-1.0227464786175227,-0.3662894960812538,-1.069064556566524,0.5477192163632087,0.38967752312019927,-0.30929610039500577,1.3586255897880464,1.5695745260088578,-0.440786731303405,-1.0467786473869678,-0.6406050565135507,1.2910836005523305,-0.11894889194832031,-1.0179449928368667,1.3447998121960456,0.14512180959110263,-1.227725683384825,1.4371215964566564,-0.0031341668208622908,-0.5576920364414308,-0.38328672961847204,0.026830990387689723,-0.8382448805596847,0.8827979098248043,1.5898469507164932,2.604205368168547,0.8892144723017181,-0.07378398071441221,0.4267291792279438,0.8950635767904128,0.3922940160616898,-0.0851112683431683,-0.6736568562098894,-0.43538967839927634,-0.6678661489181582,0.4674966404566777,1.3041628300440022,-1.9223632355127063,-0.6824825992913708,-0.7251925773027719,0.8406610583174904,0.6198675777100461,1.2865116834532744,-1.6841263181861676,0.3858325516026786,-0.31831457953920045,0.9298675048241788,0.08512501033433308,0.5944382814004443],\"type\":\"box\"},{\"boxpoints\":false,\"line\":{\"width\":1.3},\"marker\":{\"color\":\"rgba(128, 0, 128, 1.0)\"},\"name\":\"D\",\"orientation\":\"v\",\"y\":[1.7420011505283355,-0.21407790210814454,-0.8346995928206267,0.3572143263372206,-0.44861423493977404,-1.6081212330874752,0.801690734912549,-0.6109376576801621,2.1373076535109092,-0.3895897715840815,0.49813442940114483,0.9759970066716024,-0.7932651994978115,0.6835870707382509,-0.3274394480942042,1.8709656860865775,0.3111020957103798,-0.7509733514305589,0.70735198442484,-2.0380165731831723,-0.2268007663096546,-0.1570710863874976,-0.043925259267604065,1.2132826148806004,-0.35116309161963677,-0.22222779417501082,-0.4744366412490772,0.9675082903553129,0.117057975512573,1.3648150969859354,-0.44309217680230667,-0.2426589005323525,0.6386264583219761,-0.8332164875365083,-0.44728663182657197,-0.02280652878873671,2.225828052114822,-0.14800113052807606,0.6406805425970652,-1.1344693137474502,-1.0701856529498481,-1.0291026082395422,1.439390319110055,0.7584810547627114,0.5888102171302606,0.2724300812740993,0.43539688823221795,0.47801130939445824,0.7306479076541726,0.7096123064838874,0.38797045860083834,0.6450237570733347,-1.6733767642736335,-0.18122074197359497,-0.10116934075473873,0.903652841960548,-1.1081023040397295,0.6399902629524633,0.7793730919102405,0.875387486712953,1.044674558695237,-0.4871528085047099,-0.6143593693157811,0.21228328709304328,-1.4146000066232995,-1.7253060336527681,0.7433283324848287,0.0627648959382127,-1.0410361166019233,-1.0179539366545063,-0.12346745371218192,-0.19861250276447442,-1.2928778298316919,-0.39586307865963055,-0.7406276396929118,0.639801665969883,1.5466490194149656,-2.25710586595814,0.025727214192610162,-1.3997758024249467,0.6293336997602994,0.5524935217565039,2.3874015597003724,-0.39471117140079154,-1.3953941132202565,0.40979403089478883,-0.23403208703945236,-1.5492736810458847,-2.80725233529573,-0.4855463561126437,1.9368340138661833,0.007857349331967686,-0.8882755436060508,-1.6353969003568276,-1.3308136151465673,-0.5024940855850913,-0.09574033787558964,1.876487667138215,-1.4315406749059392,-0.14243853343481255],\"type\":\"box\"}],                        {\"legend\":{\"bgcolor\":\"#F5F6F9\",\"font\":{\"color\":\"#4D5663\"}},\"paper_bgcolor\":\"#F5F6F9\",\"plot_bgcolor\":\"#F5F6F9\",\"template\":{\"data\":{\"barpolar\":[{\"marker\":{\"line\":{\"color\":\"#E5ECF6\",\"width\":0.5},\"pattern\":{\"fillmode\":\"overlay\",\"size\":10,\"solidity\":0.2}},\"type\":\"barpolar\"}],\"bar\":[{\"error_x\":{\"color\":\"#2a3f5f\"},\"error_y\":{\"color\":\"#2a3f5f\"},\"marker\":{\"line\":{\"color\":\"#E5ECF6\",\"width\":0.5},\"pattern\":{\"fillmode\":\"overlay\",\"size\":10,\"solidity\":0.2}},\"type\":\"bar\"}],\"carpet\":[{\"aaxis\":{\"endlinecolor\":\"#2a3f5f\",\"gridcolor\":\"white\",\"linecolor\":\"white\",\"minorgridcolor\":\"white\",\"startlinecolor\":\"#2a3f5f\"},\"baxis\":{\"endlinecolor\":\"#2a3f5f\",\"gridcolor\":\"white\",\"linecolor\":\"white\",\"minorgridcolor\":\"white\",\"startlinecolor\":\"#2a3f5f\"},\"type\":\"carpet\"}],\"choropleth\":[{\"colorbar\":{\"outlinewidth\":0,\"ticks\":\"\"},\"type\":\"choropleth\"}],\"contourcarpet\":[{\"colorbar\":{\"outlinewidth\":0,\"ticks\":\"\"},\"type\":\"contourcarpet\"}],\"contour\":[{\"colorbar\":{\"outlinewidth\":0,\"ticks\":\"\"},\"colorscale\":[[0.0,\"#0d0887\"],[0.1111111111111111,\"#46039f\"],[0.2222222222222222,\"#7201a8\"],[0.3333333333333333,\"#9c179e\"],[0.4444444444444444,\"#bd3786\"],[0.5555555555555556,\"#d8576b\"],[0.6666666666666666,\"#ed7953\"],[0.7777777777777778,\"#fb9f3a\"],[0.8888888888888888,\"#fdca26\"],[1.0,\"#f0f921\"]],\"type\":\"contour\"}],\"heatmapgl\":[{\"colorbar\":{\"outlinewidth\":0,\"ticks\":\"\"},\"colorscale\":[[0.0,\"#0d0887\"],[0.1111111111111111,\"#46039f\"],[0.2222222222222222,\"#7201a8\"],[0.3333333333333333,\"#9c179e\"],[0.4444444444444444,\"#bd3786\"],[0.5555555555555556,\"#d8576b\"],[0.6666666666666666,\"#ed7953\"],[0.7777777777777778,\"#fb9f3a\"],[0.8888888888888888,\"#fdca26\"],[1.0,\"#f0f921\"]],\"type\":\"heatmapgl\"}],\"heatmap\":[{\"colorbar\":{\"outlinewidth\":0,\"ticks\":\"\"},\"colorscale\":[[0.0,\"#0d0887\"],[0.1111111111111111,\"#46039f\"],[0.2222222222222222,\"#7201a8\"],[0.3333333333333333,\"#9c179e\"],[0.4444444444444444,\"#bd3786\"],[0.5555555555555556,\"#d8576b\"],[0.6666666666666666,\"#ed7953\"],[0.7777777777777778,\"#fb9f3a\"],[0.8888888888888888,\"#fdca26\"],[1.0,\"#f0f921\"]],\"type\":\"heatmap\"}],\"histogram2dcontour\":[{\"colorbar\":{\"outlinewidth\":0,\"ticks\":\"\"},\"colorscale\":[[0.0,\"#0d0887\"],[0.1111111111111111,\"#46039f\"],[0.2222222222222222,\"#7201a8\"],[0.3333333333333333,\"#9c179e\"],[0.4444444444444444,\"#bd3786\"],[0.5555555555555556,\"#d8576b\"],[0.6666666666666666,\"#ed7953\"],[0.7777777777777778,\"#fb9f3a\"],[0.8888888888888888,\"#fdca26\"],[1.0,\"#f0f921\"]],\"type\":\"histogram2dcontour\"}],\"histogram2d\":[{\"colorbar\":{\"outlinewidth\":0,\"ticks\":\"\"},\"colorscale\":[[0.0,\"#0d0887\"],[0.1111111111111111,\"#46039f\"],[0.2222222222222222,\"#7201a8\"],[0.3333333333333333,\"#9c179e\"],[0.4444444444444444,\"#bd3786\"],[0.5555555555555556,\"#d8576b\"],[0.6666666666666666,\"#ed7953\"],[0.7777777777777778,\"#fb9f3a\"],[0.8888888888888888,\"#fdca26\"],[1.0,\"#f0f921\"]],\"type\":\"histogram2d\"}],\"histogram\":[{\"marker\":{\"pattern\":{\"fillmode\":\"overlay\",\"size\":10,\"solidity\":0.2}},\"type\":\"histogram\"}],\"mesh3d\":[{\"colorbar\":{\"outlinewidth\":0,\"ticks\":\"\"},\"type\":\"mesh3d\"}],\"parcoords\":[{\"line\":{\"colorbar\":{\"outlinewidth\":0,\"ticks\":\"\"}},\"type\":\"parcoords\"}],\"pie\":[{\"automargin\":true,\"type\":\"pie\"}],\"scatter3d\":[{\"line\":{\"colorbar\":{\"outlinewidth\":0,\"ticks\":\"\"}},\"marker\":{\"colorbar\":{\"outlinewidth\":0,\"ticks\":\"\"}},\"type\":\"scatter3d\"}],\"scattercarpet\":[{\"marker\":{\"colorbar\":{\"outlinewidth\":0,\"ticks\":\"\"}},\"type\":\"scattercarpet\"}],\"scattergeo\":[{\"marker\":{\"colorbar\":{\"outlinewidth\":0,\"ticks\":\"\"}},\"type\":\"scattergeo\"}],\"scattergl\":[{\"marker\":{\"colorbar\":{\"outlinewidth\":0,\"ticks\":\"\"}},\"type\":\"scattergl\"}],\"scattermapbox\":[{\"marker\":{\"colorbar\":{\"outlinewidth\":0,\"ticks\":\"\"}},\"type\":\"scattermapbox\"}],\"scatterpolargl\":[{\"marker\":{\"colorbar\":{\"outlinewidth\":0,\"ticks\":\"\"}},\"type\":\"scatterpolargl\"}],\"scatterpolar\":[{\"marker\":{\"colorbar\":{\"outlinewidth\":0,\"ticks\":\"\"}},\"type\":\"scatterpolar\"}],\"scatter\":[{\"fillpattern\":{\"fillmode\":\"overlay\",\"size\":10,\"solidity\":0.2},\"type\":\"scatter\"}],\"scatterternary\":[{\"marker\":{\"colorbar\":{\"outlinewidth\":0,\"ticks\":\"\"}},\"type\":\"scatterternary\"}],\"surface\":[{\"colorbar\":{\"outlinewidth\":0,\"ticks\":\"\"},\"colorscale\":[[0.0,\"#0d0887\"],[0.1111111111111111,\"#46039f\"],[0.2222222222222222,\"#7201a8\"],[0.3333333333333333,\"#9c179e\"],[0.4444444444444444,\"#bd3786\"],[0.5555555555555556,\"#d8576b\"],[0.6666666666666666,\"#ed7953\"],[0.7777777777777778,\"#fb9f3a\"],[0.8888888888888888,\"#fdca26\"],[1.0,\"#f0f921\"]],\"type\":\"surface\"}],\"table\":[{\"cells\":{\"fill\":{\"color\":\"#EBF0F8\"},\"line\":{\"color\":\"white\"}},\"header\":{\"fill\":{\"color\":\"#C8D4E3\"},\"line\":{\"color\":\"white\"}},\"type\":\"table\"}]},\"layout\":{\"annotationdefaults\":{\"arrowcolor\":\"#2a3f5f\",\"arrowhead\":0,\"arrowwidth\":1},\"autotypenumbers\":\"strict\",\"coloraxis\":{\"colorbar\":{\"outlinewidth\":0,\"ticks\":\"\"}},\"colorscale\":{\"diverging\":[[0,\"#8e0152\"],[0.1,\"#c51b7d\"],[0.2,\"#de77ae\"],[0.3,\"#f1b6da\"],[0.4,\"#fde0ef\"],[0.5,\"#f7f7f7\"],[0.6,\"#e6f5d0\"],[0.7,\"#b8e186\"],[0.8,\"#7fbc41\"],[0.9,\"#4d9221\"],[1,\"#276419\"]],\"sequential\":[[0.0,\"#0d0887\"],[0.1111111111111111,\"#46039f\"],[0.2222222222222222,\"#7201a8\"],[0.3333333333333333,\"#9c179e\"],[0.4444444444444444,\"#bd3786\"],[0.5555555555555556,\"#d8576b\"],[0.6666666666666666,\"#ed7953\"],[0.7777777777777778,\"#fb9f3a\"],[0.8888888888888888,\"#fdca26\"],[1.0,\"#f0f921\"]],\"sequentialminus\":[[0.0,\"#0d0887\"],[0.1111111111111111,\"#46039f\"],[0.2222222222222222,\"#7201a8\"],[0.3333333333333333,\"#9c179e\"],[0.4444444444444444,\"#bd3786\"],[0.5555555555555556,\"#d8576b\"],[0.6666666666666666,\"#ed7953\"],[0.7777777777777778,\"#fb9f3a\"],[0.8888888888888888,\"#fdca26\"],[1.0,\"#f0f921\"]]},\"colorway\":[\"#636efa\",\"#EF553B\",\"#00cc96\",\"#ab63fa\",\"#FFA15A\",\"#19d3f3\",\"#FF6692\",\"#B6E880\",\"#FF97FF\",\"#FECB52\"],\"font\":{\"color\":\"#2a3f5f\"},\"geo\":{\"bgcolor\":\"white\",\"lakecolor\":\"white\",\"landcolor\":\"#E5ECF6\",\"showlakes\":true,\"showland\":true,\"subunitcolor\":\"white\"},\"hoverlabel\":{\"align\":\"left\"},\"hovermode\":\"closest\",\"mapbox\":{\"style\":\"light\"},\"paper_bgcolor\":\"white\",\"plot_bgcolor\":\"#E5ECF6\",\"polar\":{\"angularaxis\":{\"gridcolor\":\"white\",\"linecolor\":\"white\",\"ticks\":\"\"},\"bgcolor\":\"#E5ECF6\",\"radialaxis\":{\"gridcolor\":\"white\",\"linecolor\":\"white\",\"ticks\":\"\"}},\"scene\":{\"xaxis\":{\"backgroundcolor\":\"#E5ECF6\",\"gridcolor\":\"white\",\"gridwidth\":2,\"linecolor\":\"white\",\"showbackground\":true,\"ticks\":\"\",\"zerolinecolor\":\"white\"},\"yaxis\":{\"backgroundcolor\":\"#E5ECF6\",\"gridcolor\":\"white\",\"gridwidth\":2,\"linecolor\":\"white\",\"showbackground\":true,\"ticks\":\"\",\"zerolinecolor\":\"white\"},\"zaxis\":{\"backgroundcolor\":\"#E5ECF6\",\"gridcolor\":\"white\",\"gridwidth\":2,\"linecolor\":\"white\",\"showbackground\":true,\"ticks\":\"\",\"zerolinecolor\":\"white\"}},\"shapedefaults\":{\"line\":{\"color\":\"#2a3f5f\"}},\"ternary\":{\"aaxis\":{\"gridcolor\":\"white\",\"linecolor\":\"white\",\"ticks\":\"\"},\"baxis\":{\"gridcolor\":\"white\",\"linecolor\":\"white\",\"ticks\":\"\"},\"bgcolor\":\"#E5ECF6\",\"caxis\":{\"gridcolor\":\"white\",\"linecolor\":\"white\",\"ticks\":\"\"}},\"title\":{\"x\":0.05},\"xaxis\":{\"automargin\":true,\"gridcolor\":\"white\",\"linecolor\":\"white\",\"ticks\":\"\",\"title\":{\"standoff\":15},\"zerolinecolor\":\"white\",\"zerolinewidth\":2},\"yaxis\":{\"automargin\":true,\"gridcolor\":\"white\",\"linecolor\":\"white\",\"ticks\":\"\",\"title\":{\"standoff\":15},\"zerolinecolor\":\"white\",\"zerolinewidth\":2}}},\"title\":{\"font\":{\"color\":\"#4D5663\"}},\"xaxis\":{\"gridcolor\":\"#E1E5ED\",\"showgrid\":true,\"tickfont\":{\"color\":\"#4D5663\"},\"title\":{\"font\":{\"color\":\"#4D5663\"},\"text\":\"\"},\"zerolinecolor\":\"#E1E5ED\"},\"yaxis\":{\"gridcolor\":\"#E1E5ED\",\"showgrid\":true,\"tickfont\":{\"color\":\"#4D5663\"},\"title\":{\"font\":{\"color\":\"#4D5663\"},\"text\":\"\"},\"zerolinecolor\":\"#E1E5ED\"}},                        {\"showLink\": true, \"linkText\": \"Export to plot.ly\", \"plotlyServerURL\": \"https://plot.ly\", \"responsive\": true}                    ).then(function(){\n",
       "                            \n",
       "var gd = document.getElementById('c4d4adef-1ec3-4ea9-a28d-9965617722d8');\n",
       "var x = new MutationObserver(function (mutations, observer) {{\n",
       "        var display = window.getComputedStyle(gd).display;\n",
       "        if (!display || display === 'none') {{\n",
       "            console.log([gd, 'removed!']);\n",
       "            Plotly.purge(gd);\n",
       "            observer.disconnect();\n",
       "        }}\n",
       "}});\n",
       "\n",
       "// Listen for the removal of the full notebook cells\n",
       "var notebookContainer = gd.closest('#notebook-container');\n",
       "if (notebookContainer) {{\n",
       "    x.observe(notebookContainer, {childList: true});\n",
       "}}\n",
       "\n",
       "// Listen for the clearing of the current output cell\n",
       "var outputEl = gd.closest('.output');\n",
       "if (outputEl) {{\n",
       "    x.observe(outputEl, {childList: true});\n",
       "}}\n",
       "\n",
       "                        })                };                });            </script>        </div>"
      ]
     },
     "metadata": {},
     "output_type": "display_data"
    }
   ],
   "source": [
    "# Box Plots\n",
    "df.iplot(kind='box')"
   ]
  },
  {
   "cell_type": "code",
   "execution_count": 20,
   "metadata": {},
   "outputs": [],
   "source": [
    "# 3D Surface Plot\n",
    "df3=pd.DataFrame({'x':[1,2,3,4,5],'y':[10,20,30,20,10],'z':[5,4,3,2,1]})"
   ]
  },
  {
   "cell_type": "code",
   "execution_count": 21,
   "metadata": {},
   "outputs": [
    {
     "data": {
      "application/vnd.plotly.v1+json": {
       "config": {
        "linkText": "Export to plot.ly",
        "plotlyServerURL": "https://plot.ly",
        "showLink": true
       },
       "data": [
        {
         "colorscale": [
          [
           0,
           "rgb(255, 153, 51)"
          ],
          [
           0.1111111111111111,
           "rgb(55, 128, 191)"
          ],
          [
           0.2222222222222222,
           "rgb(50, 171, 96)"
          ],
          [
           0.3333333333333333,
           "rgb(128, 0, 128)"
          ],
          [
           0.4444444444444444,
           "rgb(219, 64, 82)"
          ],
          [
           0.5555555555555556,
           "rgb(0, 128, 128)"
          ],
          [
           0.6666666666666666,
           "rgb(255, 255, 51)"
          ],
          [
           0.7777777777777778,
           "rgb(128, 128, 0)"
          ],
          [
           0.8888888888888888,
           "rgb(251, 128, 114)"
          ],
          [
           1,
           "rgb(128, 177, 211)"
          ]
         ],
         "type": "surface",
         "x": [
          0,
          1,
          2,
          3,
          4
         ],
         "y": [
          "x",
          "y",
          "z"
         ],
         "z": [
          [
           1,
           2,
           3,
           4,
           5
          ],
          [
           10,
           20,
           30,
           20,
           10
          ],
          [
           5,
           4,
           3,
           2,
           1
          ]
         ]
        }
       ],
       "layout": {
        "legend": {
         "bgcolor": "#F5F6F9",
         "font": {
          "color": "#4D5663"
         }
        },
        "paper_bgcolor": "#F5F6F9",
        "plot_bgcolor": "#F5F6F9",
        "template": {
         "data": {
          "bar": [
           {
            "error_x": {
             "color": "#2a3f5f"
            },
            "error_y": {
             "color": "#2a3f5f"
            },
            "marker": {
             "line": {
              "color": "#E5ECF6",
              "width": 0.5
             },
             "pattern": {
              "fillmode": "overlay",
              "size": 10,
              "solidity": 0.2
             }
            },
            "type": "bar"
           }
          ],
          "barpolar": [
           {
            "marker": {
             "line": {
              "color": "#E5ECF6",
              "width": 0.5
             },
             "pattern": {
              "fillmode": "overlay",
              "size": 10,
              "solidity": 0.2
             }
            },
            "type": "barpolar"
           }
          ],
          "carpet": [
           {
            "aaxis": {
             "endlinecolor": "#2a3f5f",
             "gridcolor": "white",
             "linecolor": "white",
             "minorgridcolor": "white",
             "startlinecolor": "#2a3f5f"
            },
            "baxis": {
             "endlinecolor": "#2a3f5f",
             "gridcolor": "white",
             "linecolor": "white",
             "minorgridcolor": "white",
             "startlinecolor": "#2a3f5f"
            },
            "type": "carpet"
           }
          ],
          "choropleth": [
           {
            "colorbar": {
             "outlinewidth": 0,
             "ticks": ""
            },
            "type": "choropleth"
           }
          ],
          "contour": [
           {
            "colorbar": {
             "outlinewidth": 0,
             "ticks": ""
            },
            "colorscale": [
             [
              0,
              "#0d0887"
             ],
             [
              0.1111111111111111,
              "#46039f"
             ],
             [
              0.2222222222222222,
              "#7201a8"
             ],
             [
              0.3333333333333333,
              "#9c179e"
             ],
             [
              0.4444444444444444,
              "#bd3786"
             ],
             [
              0.5555555555555556,
              "#d8576b"
             ],
             [
              0.6666666666666666,
              "#ed7953"
             ],
             [
              0.7777777777777778,
              "#fb9f3a"
             ],
             [
              0.8888888888888888,
              "#fdca26"
             ],
             [
              1,
              "#f0f921"
             ]
            ],
            "type": "contour"
           }
          ],
          "contourcarpet": [
           {
            "colorbar": {
             "outlinewidth": 0,
             "ticks": ""
            },
            "type": "contourcarpet"
           }
          ],
          "heatmap": [
           {
            "colorbar": {
             "outlinewidth": 0,
             "ticks": ""
            },
            "colorscale": [
             [
              0,
              "#0d0887"
             ],
             [
              0.1111111111111111,
              "#46039f"
             ],
             [
              0.2222222222222222,
              "#7201a8"
             ],
             [
              0.3333333333333333,
              "#9c179e"
             ],
             [
              0.4444444444444444,
              "#bd3786"
             ],
             [
              0.5555555555555556,
              "#d8576b"
             ],
             [
              0.6666666666666666,
              "#ed7953"
             ],
             [
              0.7777777777777778,
              "#fb9f3a"
             ],
             [
              0.8888888888888888,
              "#fdca26"
             ],
             [
              1,
              "#f0f921"
             ]
            ],
            "type": "heatmap"
           }
          ],
          "heatmapgl": [
           {
            "colorbar": {
             "outlinewidth": 0,
             "ticks": ""
            },
            "colorscale": [
             [
              0,
              "#0d0887"
             ],
             [
              0.1111111111111111,
              "#46039f"
             ],
             [
              0.2222222222222222,
              "#7201a8"
             ],
             [
              0.3333333333333333,
              "#9c179e"
             ],
             [
              0.4444444444444444,
              "#bd3786"
             ],
             [
              0.5555555555555556,
              "#d8576b"
             ],
             [
              0.6666666666666666,
              "#ed7953"
             ],
             [
              0.7777777777777778,
              "#fb9f3a"
             ],
             [
              0.8888888888888888,
              "#fdca26"
             ],
             [
              1,
              "#f0f921"
             ]
            ],
            "type": "heatmapgl"
           }
          ],
          "histogram": [
           {
            "marker": {
             "pattern": {
              "fillmode": "overlay",
              "size": 10,
              "solidity": 0.2
             }
            },
            "type": "histogram"
           }
          ],
          "histogram2d": [
           {
            "colorbar": {
             "outlinewidth": 0,
             "ticks": ""
            },
            "colorscale": [
             [
              0,
              "#0d0887"
             ],
             [
              0.1111111111111111,
              "#46039f"
             ],
             [
              0.2222222222222222,
              "#7201a8"
             ],
             [
              0.3333333333333333,
              "#9c179e"
             ],
             [
              0.4444444444444444,
              "#bd3786"
             ],
             [
              0.5555555555555556,
              "#d8576b"
             ],
             [
              0.6666666666666666,
              "#ed7953"
             ],
             [
              0.7777777777777778,
              "#fb9f3a"
             ],
             [
              0.8888888888888888,
              "#fdca26"
             ],
             [
              1,
              "#f0f921"
             ]
            ],
            "type": "histogram2d"
           }
          ],
          "histogram2dcontour": [
           {
            "colorbar": {
             "outlinewidth": 0,
             "ticks": ""
            },
            "colorscale": [
             [
              0,
              "#0d0887"
             ],
             [
              0.1111111111111111,
              "#46039f"
             ],
             [
              0.2222222222222222,
              "#7201a8"
             ],
             [
              0.3333333333333333,
              "#9c179e"
             ],
             [
              0.4444444444444444,
              "#bd3786"
             ],
             [
              0.5555555555555556,
              "#d8576b"
             ],
             [
              0.6666666666666666,
              "#ed7953"
             ],
             [
              0.7777777777777778,
              "#fb9f3a"
             ],
             [
              0.8888888888888888,
              "#fdca26"
             ],
             [
              1,
              "#f0f921"
             ]
            ],
            "type": "histogram2dcontour"
           }
          ],
          "mesh3d": [
           {
            "colorbar": {
             "outlinewidth": 0,
             "ticks": ""
            },
            "type": "mesh3d"
           }
          ],
          "parcoords": [
           {
            "line": {
             "colorbar": {
              "outlinewidth": 0,
              "ticks": ""
             }
            },
            "type": "parcoords"
           }
          ],
          "pie": [
           {
            "automargin": true,
            "type": "pie"
           }
          ],
          "scatter": [
           {
            "fillpattern": {
             "fillmode": "overlay",
             "size": 10,
             "solidity": 0.2
            },
            "type": "scatter"
           }
          ],
          "scatter3d": [
           {
            "line": {
             "colorbar": {
              "outlinewidth": 0,
              "ticks": ""
             }
            },
            "marker": {
             "colorbar": {
              "outlinewidth": 0,
              "ticks": ""
             }
            },
            "type": "scatter3d"
           }
          ],
          "scattercarpet": [
           {
            "marker": {
             "colorbar": {
              "outlinewidth": 0,
              "ticks": ""
             }
            },
            "type": "scattercarpet"
           }
          ],
          "scattergeo": [
           {
            "marker": {
             "colorbar": {
              "outlinewidth": 0,
              "ticks": ""
             }
            },
            "type": "scattergeo"
           }
          ],
          "scattergl": [
           {
            "marker": {
             "colorbar": {
              "outlinewidth": 0,
              "ticks": ""
             }
            },
            "type": "scattergl"
           }
          ],
          "scattermapbox": [
           {
            "marker": {
             "colorbar": {
              "outlinewidth": 0,
              "ticks": ""
             }
            },
            "type": "scattermapbox"
           }
          ],
          "scatterpolar": [
           {
            "marker": {
             "colorbar": {
              "outlinewidth": 0,
              "ticks": ""
             }
            },
            "type": "scatterpolar"
           }
          ],
          "scatterpolargl": [
           {
            "marker": {
             "colorbar": {
              "outlinewidth": 0,
              "ticks": ""
             }
            },
            "type": "scatterpolargl"
           }
          ],
          "scatterternary": [
           {
            "marker": {
             "colorbar": {
              "outlinewidth": 0,
              "ticks": ""
             }
            },
            "type": "scatterternary"
           }
          ],
          "surface": [
           {
            "colorbar": {
             "outlinewidth": 0,
             "ticks": ""
            },
            "colorscale": [
             [
              0,
              "#0d0887"
             ],
             [
              0.1111111111111111,
              "#46039f"
             ],
             [
              0.2222222222222222,
              "#7201a8"
             ],
             [
              0.3333333333333333,
              "#9c179e"
             ],
             [
              0.4444444444444444,
              "#bd3786"
             ],
             [
              0.5555555555555556,
              "#d8576b"
             ],
             [
              0.6666666666666666,
              "#ed7953"
             ],
             [
              0.7777777777777778,
              "#fb9f3a"
             ],
             [
              0.8888888888888888,
              "#fdca26"
             ],
             [
              1,
              "#f0f921"
             ]
            ],
            "type": "surface"
           }
          ],
          "table": [
           {
            "cells": {
             "fill": {
              "color": "#EBF0F8"
             },
             "line": {
              "color": "white"
             }
            },
            "header": {
             "fill": {
              "color": "#C8D4E3"
             },
             "line": {
              "color": "white"
             }
            },
            "type": "table"
           }
          ]
         },
         "layout": {
          "annotationdefaults": {
           "arrowcolor": "#2a3f5f",
           "arrowhead": 0,
           "arrowwidth": 1
          },
          "autotypenumbers": "strict",
          "coloraxis": {
           "colorbar": {
            "outlinewidth": 0,
            "ticks": ""
           }
          },
          "colorscale": {
           "diverging": [
            [
             0,
             "#8e0152"
            ],
            [
             0.1,
             "#c51b7d"
            ],
            [
             0.2,
             "#de77ae"
            ],
            [
             0.3,
             "#f1b6da"
            ],
            [
             0.4,
             "#fde0ef"
            ],
            [
             0.5,
             "#f7f7f7"
            ],
            [
             0.6,
             "#e6f5d0"
            ],
            [
             0.7,
             "#b8e186"
            ],
            [
             0.8,
             "#7fbc41"
            ],
            [
             0.9,
             "#4d9221"
            ],
            [
             1,
             "#276419"
            ]
           ],
           "sequential": [
            [
             0,
             "#0d0887"
            ],
            [
             0.1111111111111111,
             "#46039f"
            ],
            [
             0.2222222222222222,
             "#7201a8"
            ],
            [
             0.3333333333333333,
             "#9c179e"
            ],
            [
             0.4444444444444444,
             "#bd3786"
            ],
            [
             0.5555555555555556,
             "#d8576b"
            ],
            [
             0.6666666666666666,
             "#ed7953"
            ],
            [
             0.7777777777777778,
             "#fb9f3a"
            ],
            [
             0.8888888888888888,
             "#fdca26"
            ],
            [
             1,
             "#f0f921"
            ]
           ],
           "sequentialminus": [
            [
             0,
             "#0d0887"
            ],
            [
             0.1111111111111111,
             "#46039f"
            ],
            [
             0.2222222222222222,
             "#7201a8"
            ],
            [
             0.3333333333333333,
             "#9c179e"
            ],
            [
             0.4444444444444444,
             "#bd3786"
            ],
            [
             0.5555555555555556,
             "#d8576b"
            ],
            [
             0.6666666666666666,
             "#ed7953"
            ],
            [
             0.7777777777777778,
             "#fb9f3a"
            ],
            [
             0.8888888888888888,
             "#fdca26"
            ],
            [
             1,
             "#f0f921"
            ]
           ]
          },
          "colorway": [
           "#636efa",
           "#EF553B",
           "#00cc96",
           "#ab63fa",
           "#FFA15A",
           "#19d3f3",
           "#FF6692",
           "#B6E880",
           "#FF97FF",
           "#FECB52"
          ],
          "font": {
           "color": "#2a3f5f"
          },
          "geo": {
           "bgcolor": "white",
           "lakecolor": "white",
           "landcolor": "#E5ECF6",
           "showlakes": true,
           "showland": true,
           "subunitcolor": "white"
          },
          "hoverlabel": {
           "align": "left"
          },
          "hovermode": "closest",
          "mapbox": {
           "style": "light"
          },
          "paper_bgcolor": "white",
          "plot_bgcolor": "#E5ECF6",
          "polar": {
           "angularaxis": {
            "gridcolor": "white",
            "linecolor": "white",
            "ticks": ""
           },
           "bgcolor": "#E5ECF6",
           "radialaxis": {
            "gridcolor": "white",
            "linecolor": "white",
            "ticks": ""
           }
          },
          "scene": {
           "xaxis": {
            "backgroundcolor": "#E5ECF6",
            "gridcolor": "white",
            "gridwidth": 2,
            "linecolor": "white",
            "showbackground": true,
            "ticks": "",
            "zerolinecolor": "white"
           },
           "yaxis": {
            "backgroundcolor": "#E5ECF6",
            "gridcolor": "white",
            "gridwidth": 2,
            "linecolor": "white",
            "showbackground": true,
            "ticks": "",
            "zerolinecolor": "white"
           },
           "zaxis": {
            "backgroundcolor": "#E5ECF6",
            "gridcolor": "white",
            "gridwidth": 2,
            "linecolor": "white",
            "showbackground": true,
            "ticks": "",
            "zerolinecolor": "white"
           }
          },
          "shapedefaults": {
           "line": {
            "color": "#2a3f5f"
           }
          },
          "ternary": {
           "aaxis": {
            "gridcolor": "white",
            "linecolor": "white",
            "ticks": ""
           },
           "baxis": {
            "gridcolor": "white",
            "linecolor": "white",
            "ticks": ""
           },
           "bgcolor": "#E5ECF6",
           "caxis": {
            "gridcolor": "white",
            "linecolor": "white",
            "ticks": ""
           }
          },
          "title": {
           "x": 0.05
          },
          "xaxis": {
           "automargin": true,
           "gridcolor": "white",
           "linecolor": "white",
           "ticks": "",
           "title": {
            "standoff": 15
           },
           "zerolinecolor": "white",
           "zerolinewidth": 2
          },
          "yaxis": {
           "automargin": true,
           "gridcolor": "white",
           "linecolor": "white",
           "ticks": "",
           "title": {
            "standoff": 15
           },
           "zerolinecolor": "white",
           "zerolinewidth": 2
          }
         }
        },
        "title": {
         "font": {
          "color": "#4D5663"
         }
        },
        "xaxis": {
         "gridcolor": "#E1E5ED",
         "showgrid": true,
         "tickfont": {
          "color": "#4D5663"
         },
         "title": {
          "font": {
           "color": "#4D5663"
          },
          "text": ""
         },
         "zerolinecolor": "#E1E5ED"
        },
        "yaxis": {
         "gridcolor": "#E1E5ED",
         "showgrid": true,
         "tickfont": {
          "color": "#4D5663"
         },
         "title": {
          "font": {
           "color": "#4D5663"
          },
          "text": ""
         },
         "zerolinecolor": "#E1E5ED"
        }
       }
      },
      "text/html": [
       "<div>                            <div id=\"214b4eed-8b2a-4bfb-8421-29eaaaf2c473\" class=\"plotly-graph-div\" style=\"height:525px; width:100%;\"></div>            <script type=\"text/javascript\">                require([\"plotly\"], function(Plotly) {                    window.PLOTLYENV=window.PLOTLYENV || {};\n",
       "                    window.PLOTLYENV.BASE_URL='https://plot.ly';                                    if (document.getElementById(\"214b4eed-8b2a-4bfb-8421-29eaaaf2c473\")) {                    Plotly.newPlot(                        \"214b4eed-8b2a-4bfb-8421-29eaaaf2c473\",                        [{\"colorscale\":[[0.0,\"rgb(255, 153, 51)\"],[0.1111111111111111,\"rgb(55, 128, 191)\"],[0.2222222222222222,\"rgb(50, 171, 96)\"],[0.3333333333333333,\"rgb(128, 0, 128)\"],[0.4444444444444444,\"rgb(219, 64, 82)\"],[0.5555555555555556,\"rgb(0, 128, 128)\"],[0.6666666666666666,\"rgb(255, 255, 51)\"],[0.7777777777777778,\"rgb(128, 128, 0)\"],[0.8888888888888888,\"rgb(251, 128, 114)\"],[1.0,\"rgb(128, 177, 211)\"]],\"x\":[0,1,2,3,4],\"y\":[\"x\",\"y\",\"z\"],\"z\":[[1,2,3,4,5],[10,20,30,20,10],[5,4,3,2,1]],\"type\":\"surface\"}],                        {\"legend\":{\"bgcolor\":\"#F5F6F9\",\"font\":{\"color\":\"#4D5663\"}},\"paper_bgcolor\":\"#F5F6F9\",\"plot_bgcolor\":\"#F5F6F9\",\"template\":{\"data\":{\"barpolar\":[{\"marker\":{\"line\":{\"color\":\"#E5ECF6\",\"width\":0.5},\"pattern\":{\"fillmode\":\"overlay\",\"size\":10,\"solidity\":0.2}},\"type\":\"barpolar\"}],\"bar\":[{\"error_x\":{\"color\":\"#2a3f5f\"},\"error_y\":{\"color\":\"#2a3f5f\"},\"marker\":{\"line\":{\"color\":\"#E5ECF6\",\"width\":0.5},\"pattern\":{\"fillmode\":\"overlay\",\"size\":10,\"solidity\":0.2}},\"type\":\"bar\"}],\"carpet\":[{\"aaxis\":{\"endlinecolor\":\"#2a3f5f\",\"gridcolor\":\"white\",\"linecolor\":\"white\",\"minorgridcolor\":\"white\",\"startlinecolor\":\"#2a3f5f\"},\"baxis\":{\"endlinecolor\":\"#2a3f5f\",\"gridcolor\":\"white\",\"linecolor\":\"white\",\"minorgridcolor\":\"white\",\"startlinecolor\":\"#2a3f5f\"},\"type\":\"carpet\"}],\"choropleth\":[{\"colorbar\":{\"outlinewidth\":0,\"ticks\":\"\"},\"type\":\"choropleth\"}],\"contourcarpet\":[{\"colorbar\":{\"outlinewidth\":0,\"ticks\":\"\"},\"type\":\"contourcarpet\"}],\"contour\":[{\"colorbar\":{\"outlinewidth\":0,\"ticks\":\"\"},\"colorscale\":[[0.0,\"#0d0887\"],[0.1111111111111111,\"#46039f\"],[0.2222222222222222,\"#7201a8\"],[0.3333333333333333,\"#9c179e\"],[0.4444444444444444,\"#bd3786\"],[0.5555555555555556,\"#d8576b\"],[0.6666666666666666,\"#ed7953\"],[0.7777777777777778,\"#fb9f3a\"],[0.8888888888888888,\"#fdca26\"],[1.0,\"#f0f921\"]],\"type\":\"contour\"}],\"heatmapgl\":[{\"colorbar\":{\"outlinewidth\":0,\"ticks\":\"\"},\"colorscale\":[[0.0,\"#0d0887\"],[0.1111111111111111,\"#46039f\"],[0.2222222222222222,\"#7201a8\"],[0.3333333333333333,\"#9c179e\"],[0.4444444444444444,\"#bd3786\"],[0.5555555555555556,\"#d8576b\"],[0.6666666666666666,\"#ed7953\"],[0.7777777777777778,\"#fb9f3a\"],[0.8888888888888888,\"#fdca26\"],[1.0,\"#f0f921\"]],\"type\":\"heatmapgl\"}],\"heatmap\":[{\"colorbar\":{\"outlinewidth\":0,\"ticks\":\"\"},\"colorscale\":[[0.0,\"#0d0887\"],[0.1111111111111111,\"#46039f\"],[0.2222222222222222,\"#7201a8\"],[0.3333333333333333,\"#9c179e\"],[0.4444444444444444,\"#bd3786\"],[0.5555555555555556,\"#d8576b\"],[0.6666666666666666,\"#ed7953\"],[0.7777777777777778,\"#fb9f3a\"],[0.8888888888888888,\"#fdca26\"],[1.0,\"#f0f921\"]],\"type\":\"heatmap\"}],\"histogram2dcontour\":[{\"colorbar\":{\"outlinewidth\":0,\"ticks\":\"\"},\"colorscale\":[[0.0,\"#0d0887\"],[0.1111111111111111,\"#46039f\"],[0.2222222222222222,\"#7201a8\"],[0.3333333333333333,\"#9c179e\"],[0.4444444444444444,\"#bd3786\"],[0.5555555555555556,\"#d8576b\"],[0.6666666666666666,\"#ed7953\"],[0.7777777777777778,\"#fb9f3a\"],[0.8888888888888888,\"#fdca26\"],[1.0,\"#f0f921\"]],\"type\":\"histogram2dcontour\"}],\"histogram2d\":[{\"colorbar\":{\"outlinewidth\":0,\"ticks\":\"\"},\"colorscale\":[[0.0,\"#0d0887\"],[0.1111111111111111,\"#46039f\"],[0.2222222222222222,\"#7201a8\"],[0.3333333333333333,\"#9c179e\"],[0.4444444444444444,\"#bd3786\"],[0.5555555555555556,\"#d8576b\"],[0.6666666666666666,\"#ed7953\"],[0.7777777777777778,\"#fb9f3a\"],[0.8888888888888888,\"#fdca26\"],[1.0,\"#f0f921\"]],\"type\":\"histogram2d\"}],\"histogram\":[{\"marker\":{\"pattern\":{\"fillmode\":\"overlay\",\"size\":10,\"solidity\":0.2}},\"type\":\"histogram\"}],\"mesh3d\":[{\"colorbar\":{\"outlinewidth\":0,\"ticks\":\"\"},\"type\":\"mesh3d\"}],\"parcoords\":[{\"line\":{\"colorbar\":{\"outlinewidth\":0,\"ticks\":\"\"}},\"type\":\"parcoords\"}],\"pie\":[{\"automargin\":true,\"type\":\"pie\"}],\"scatter3d\":[{\"line\":{\"colorbar\":{\"outlinewidth\":0,\"ticks\":\"\"}},\"marker\":{\"colorbar\":{\"outlinewidth\":0,\"ticks\":\"\"}},\"type\":\"scatter3d\"}],\"scattercarpet\":[{\"marker\":{\"colorbar\":{\"outlinewidth\":0,\"ticks\":\"\"}},\"type\":\"scattercarpet\"}],\"scattergeo\":[{\"marker\":{\"colorbar\":{\"outlinewidth\":0,\"ticks\":\"\"}},\"type\":\"scattergeo\"}],\"scattergl\":[{\"marker\":{\"colorbar\":{\"outlinewidth\":0,\"ticks\":\"\"}},\"type\":\"scattergl\"}],\"scattermapbox\":[{\"marker\":{\"colorbar\":{\"outlinewidth\":0,\"ticks\":\"\"}},\"type\":\"scattermapbox\"}],\"scatterpolargl\":[{\"marker\":{\"colorbar\":{\"outlinewidth\":0,\"ticks\":\"\"}},\"type\":\"scatterpolargl\"}],\"scatterpolar\":[{\"marker\":{\"colorbar\":{\"outlinewidth\":0,\"ticks\":\"\"}},\"type\":\"scatterpolar\"}],\"scatter\":[{\"fillpattern\":{\"fillmode\":\"overlay\",\"size\":10,\"solidity\":0.2},\"type\":\"scatter\"}],\"scatterternary\":[{\"marker\":{\"colorbar\":{\"outlinewidth\":0,\"ticks\":\"\"}},\"type\":\"scatterternary\"}],\"surface\":[{\"colorbar\":{\"outlinewidth\":0,\"ticks\":\"\"},\"colorscale\":[[0.0,\"#0d0887\"],[0.1111111111111111,\"#46039f\"],[0.2222222222222222,\"#7201a8\"],[0.3333333333333333,\"#9c179e\"],[0.4444444444444444,\"#bd3786\"],[0.5555555555555556,\"#d8576b\"],[0.6666666666666666,\"#ed7953\"],[0.7777777777777778,\"#fb9f3a\"],[0.8888888888888888,\"#fdca26\"],[1.0,\"#f0f921\"]],\"type\":\"surface\"}],\"table\":[{\"cells\":{\"fill\":{\"color\":\"#EBF0F8\"},\"line\":{\"color\":\"white\"}},\"header\":{\"fill\":{\"color\":\"#C8D4E3\"},\"line\":{\"color\":\"white\"}},\"type\":\"table\"}]},\"layout\":{\"annotationdefaults\":{\"arrowcolor\":\"#2a3f5f\",\"arrowhead\":0,\"arrowwidth\":1},\"autotypenumbers\":\"strict\",\"coloraxis\":{\"colorbar\":{\"outlinewidth\":0,\"ticks\":\"\"}},\"colorscale\":{\"diverging\":[[0,\"#8e0152\"],[0.1,\"#c51b7d\"],[0.2,\"#de77ae\"],[0.3,\"#f1b6da\"],[0.4,\"#fde0ef\"],[0.5,\"#f7f7f7\"],[0.6,\"#e6f5d0\"],[0.7,\"#b8e186\"],[0.8,\"#7fbc41\"],[0.9,\"#4d9221\"],[1,\"#276419\"]],\"sequential\":[[0.0,\"#0d0887\"],[0.1111111111111111,\"#46039f\"],[0.2222222222222222,\"#7201a8\"],[0.3333333333333333,\"#9c179e\"],[0.4444444444444444,\"#bd3786\"],[0.5555555555555556,\"#d8576b\"],[0.6666666666666666,\"#ed7953\"],[0.7777777777777778,\"#fb9f3a\"],[0.8888888888888888,\"#fdca26\"],[1.0,\"#f0f921\"]],\"sequentialminus\":[[0.0,\"#0d0887\"],[0.1111111111111111,\"#46039f\"],[0.2222222222222222,\"#7201a8\"],[0.3333333333333333,\"#9c179e\"],[0.4444444444444444,\"#bd3786\"],[0.5555555555555556,\"#d8576b\"],[0.6666666666666666,\"#ed7953\"],[0.7777777777777778,\"#fb9f3a\"],[0.8888888888888888,\"#fdca26\"],[1.0,\"#f0f921\"]]},\"colorway\":[\"#636efa\",\"#EF553B\",\"#00cc96\",\"#ab63fa\",\"#FFA15A\",\"#19d3f3\",\"#FF6692\",\"#B6E880\",\"#FF97FF\",\"#FECB52\"],\"font\":{\"color\":\"#2a3f5f\"},\"geo\":{\"bgcolor\":\"white\",\"lakecolor\":\"white\",\"landcolor\":\"#E5ECF6\",\"showlakes\":true,\"showland\":true,\"subunitcolor\":\"white\"},\"hoverlabel\":{\"align\":\"left\"},\"hovermode\":\"closest\",\"mapbox\":{\"style\":\"light\"},\"paper_bgcolor\":\"white\",\"plot_bgcolor\":\"#E5ECF6\",\"polar\":{\"angularaxis\":{\"gridcolor\":\"white\",\"linecolor\":\"white\",\"ticks\":\"\"},\"bgcolor\":\"#E5ECF6\",\"radialaxis\":{\"gridcolor\":\"white\",\"linecolor\":\"white\",\"ticks\":\"\"}},\"scene\":{\"xaxis\":{\"backgroundcolor\":\"#E5ECF6\",\"gridcolor\":\"white\",\"gridwidth\":2,\"linecolor\":\"white\",\"showbackground\":true,\"ticks\":\"\",\"zerolinecolor\":\"white\"},\"yaxis\":{\"backgroundcolor\":\"#E5ECF6\",\"gridcolor\":\"white\",\"gridwidth\":2,\"linecolor\":\"white\",\"showbackground\":true,\"ticks\":\"\",\"zerolinecolor\":\"white\"},\"zaxis\":{\"backgroundcolor\":\"#E5ECF6\",\"gridcolor\":\"white\",\"gridwidth\":2,\"linecolor\":\"white\",\"showbackground\":true,\"ticks\":\"\",\"zerolinecolor\":\"white\"}},\"shapedefaults\":{\"line\":{\"color\":\"#2a3f5f\"}},\"ternary\":{\"aaxis\":{\"gridcolor\":\"white\",\"linecolor\":\"white\",\"ticks\":\"\"},\"baxis\":{\"gridcolor\":\"white\",\"linecolor\":\"white\",\"ticks\":\"\"},\"bgcolor\":\"#E5ECF6\",\"caxis\":{\"gridcolor\":\"white\",\"linecolor\":\"white\",\"ticks\":\"\"}},\"title\":{\"x\":0.05},\"xaxis\":{\"automargin\":true,\"gridcolor\":\"white\",\"linecolor\":\"white\",\"ticks\":\"\",\"title\":{\"standoff\":15},\"zerolinecolor\":\"white\",\"zerolinewidth\":2},\"yaxis\":{\"automargin\":true,\"gridcolor\":\"white\",\"linecolor\":\"white\",\"ticks\":\"\",\"title\":{\"standoff\":15},\"zerolinecolor\":\"white\",\"zerolinewidth\":2}}},\"title\":{\"font\":{\"color\":\"#4D5663\"}},\"xaxis\":{\"gridcolor\":\"#E1E5ED\",\"showgrid\":true,\"tickfont\":{\"color\":\"#4D5663\"},\"title\":{\"font\":{\"color\":\"#4D5663\"},\"text\":\"\"},\"zerolinecolor\":\"#E1E5ED\"},\"yaxis\":{\"gridcolor\":\"#E1E5ED\",\"showgrid\":true,\"tickfont\":{\"color\":\"#4D5663\"},\"title\":{\"font\":{\"color\":\"#4D5663\"},\"text\":\"\"},\"zerolinecolor\":\"#E1E5ED\"}},                        {\"showLink\": true, \"linkText\": \"Export to plot.ly\", \"plotlyServerURL\": \"https://plot.ly\", \"responsive\": true}                    ).then(function(){\n",
       "                            \n",
       "var gd = document.getElementById('214b4eed-8b2a-4bfb-8421-29eaaaf2c473');\n",
       "var x = new MutationObserver(function (mutations, observer) {{\n",
       "        var display = window.getComputedStyle(gd).display;\n",
       "        if (!display || display === 'none') {{\n",
       "            console.log([gd, 'removed!']);\n",
       "            Plotly.purge(gd);\n",
       "            observer.disconnect();\n",
       "        }}\n",
       "}});\n",
       "\n",
       "// Listen for the removal of the full notebook cells\n",
       "var notebookContainer = gd.closest('#notebook-container');\n",
       "if (notebookContainer) {{\n",
       "    x.observe(notebookContainer, {childList: true});\n",
       "}}\n",
       "\n",
       "// Listen for the clearing of the current output cell\n",
       "var outputEl = gd.closest('.output');\n",
       "if (outputEl) {{\n",
       "    x.observe(outputEl, {childList: true});\n",
       "}}\n",
       "\n",
       "                        })                };                });            </script>        </div>"
      ]
     },
     "metadata": {},
     "output_type": "display_data"
    }
   ],
   "source": [
    "df3.iplot(kind='surface',colors='rdylbu')"
   ]
  },
  {
   "cell_type": "code",
   "execution_count": 22,
   "metadata": {},
   "outputs": [
    {
     "data": {
      "application/vnd.plotly.v1+json": {
       "config": {
        "linkText": "Export to plot.ly",
        "plotlyServerURL": "https://plot.ly",
        "showLink": true
       },
       "data": [
        {
         "histfunc": "count",
         "histnorm": "",
         "marker": {
          "color": "rgba(255, 153, 51, 1.0)",
          "line": {
           "color": "#4D5663",
           "width": 1.3
          }
         },
         "name": "A",
         "nbinsx": 50,
         "opacity": 0.8,
         "orientation": "v",
         "type": "histogram",
         "x": [
          -1.1024981471016053,
          0.45532653178486426,
          0.40391046008714476,
          -0.2809970042901508,
          0.7989989325364689,
          1.0832583953209949,
          -1.234209784210434,
          0.3224994409690922,
          -0.3242087708237595,
          -0.1284653156020744,
          -0.7552748291440724,
          0.8184288968726566,
          0.5422845891231438,
          0.10789901010090519,
          -0.32139817008019994,
          -0.7963759333281335,
          -0.39037680946255826,
          -2.2655403217214696,
          0.5167189806038817,
          1.0311119027127906,
          -0.7280729939339882,
          2.2399138984961033,
          -1.2752392088928555,
          -0.5378918136584961,
          2.0295510309720433,
          0.23191793912741354,
          -0.7489274861749667,
          0.1804315695573513,
          -1.076899175942572,
          0.1480646205053287,
          -2.067689597756462,
          -0.6242648055288316,
          1.9205984896737025,
          -0.6626634145557857,
          0.43755162941932596,
          -0.08301825934472241,
          1.6979277445032026,
          1.3214093229538189,
          -0.5063299960070593,
          -0.0634250885800641,
          1.5099246615970119,
          -0.06181082497718354,
          -0.3409827236091026,
          -0.33324862190788684,
          1.500014889723033,
          -1.5918283819078909,
          0.1436883889894132,
          1.5756106661076734,
          -0.32506572639260684,
          0.37798144298626746,
          0.46348546666861756,
          -2.051188827144377,
          -1.0172458205234336,
          -0.5070704946445844,
          -0.8478731955080303,
          -0.2334924377631749,
          0.19262355458803307,
          -1.3003949447844079,
          -0.9149035966488548,
          0.8229650720355511,
          1.3006243742931636,
          -0.4126201075864305,
          -0.6711296866905244,
          -0.4405250418337267,
          -0.5651290513169568,
          1.0196385357067541,
          0.5877685488555959,
          -0.3945490445285969,
          0.8054155111464418,
          -1.0217863363909698,
          0.46049889877191597,
          0.57181539365208,
          -0.8625271604108457,
          -0.46000004554287016,
          0.02716586732277476,
          0.6816588980785862,
          -0.4668112307509774,
          0.25228987992077717,
          0.8669165806315857,
          0.847033573383717,
          -1.3863133841285744,
          -0.01553686633329219,
          -0.2740973426119702,
          0.043616214784867754,
          -2.1647128799946276,
          -0.05182135785862414,
          -1.384645553366656,
          0.4027841869433865,
          0.11479059202803563,
          0.3819374624127815,
          0.22205933188988886,
          0.9355340173488559,
          -0.2765941836604982,
          0.954866972229284,
          1.073857686349574,
          -1.1885752619110412,
          0.28988033179079464,
          0.8151597284421718,
          -0.9941872219563699,
          1.5368506591655258
         ]
        },
        {
         "histfunc": "count",
         "histnorm": "",
         "marker": {
          "color": "rgba(55, 128, 191, 1.0)",
          "line": {
           "color": "#4D5663",
           "width": 1.3
          }
         },
         "name": "B",
         "nbinsx": 50,
         "opacity": 0.8,
         "orientation": "v",
         "type": "histogram",
         "x": [
          -0.8713196634022675,
          -1.767211174819314,
          -1.0350908487091959,
          -0.08072812492485895,
          -1.1951142174006553,
          -1.8471571622199414,
          1.8801067041568933,
          -1.1058767571189025,
          0.40937518520839133,
          0.5074882970638703,
          -0.9099081392282109,
          -0.23390168778098436,
          1.3793033998833388,
          -0.03876003474237771,
          1.38539784508653,
          0.8040467182086181,
          -1.9859688198263412,
          1.4318814602300922,
          0.2856696833736994,
          -0.02734422820736344,
          2.2604852635308466,
          0.3437984522726635,
          -1.6199777026322286,
          -1.6252434641567413,
          0.819414661012346,
          0.8718682984632122,
          -0.9577172169711519,
          0.26839737955878556,
          1.3259952049003743,
          -0.5112436727714154,
          1.5282438868112913,
          0.46111855997757906,
          0.5103298218556396,
          -1.6594959487403262,
          0.5897407100948779,
          -0.0702770913251112,
          2.145076222618863,
          -0.3302738874863218,
          1.7954077585596733,
          -0.32578556653973817,
          0.8364388798723189,
          0.22696433098098545,
          -0.8327353257833802,
          -1.015031002671774,
          0.37786457003176177,
          -0.8097117301574803,
          -0.9985378053285431,
          0.5203569062543102,
          0.4818184236235761,
          -0.8441091152069875,
          1.2708165965970095,
          -0.70334138878969,
          1.0694277546339286,
          0.6254820710794478,
          -0.009766599509518017,
          0.10566623768884706,
          -0.38865979307592985,
          -0.4287810605985193,
          -0.3739451959228925,
          -0.9145143264683828,
          2.625130148137943,
          0.2778968503855602,
          0.9934389776868553,
          -0.9072450113031999,
          0.5210933674015816,
          0.0830080569450399,
          0.14620986056202875,
          -0.4516254448680814,
          1.1997048520705935,
          -0.45206800531489205,
          1.0943552757896906,
          0.9640478674870745,
          -1.6536100269234513,
          0.101149502791871,
          -0.4152232250614539,
          0.6152742885080315,
          0.2106406522997461,
          0.0019031646346197241,
          0.602635626247644,
          -1.715601158322781,
          0.5628710900741206,
          -0.1294924891033397,
          -0.6355075840796094,
          1.2649381157969501,
          0.02498520572713563,
          0.5104545781590395,
          -0.5702951302023916,
          1.7309202655032256,
          1.2879164184864185,
          -0.36438719814264675,
          0.2745117757241402,
          -0.07135501369983091,
          -0.10594911360867416,
          0.2004243601221823,
          0.5662466524036643,
          0.4151771166224692,
          2.0414607940726452,
          0.3982025407248406,
          -1.2995806760810338,
          0.982890176174143
         ]
        },
        {
         "histfunc": "count",
         "histnorm": "",
         "marker": {
          "color": "rgba(50, 171, 96, 1.0)",
          "line": {
           "color": "#4D5663",
           "width": 1.3
          }
         },
         "name": "C",
         "nbinsx": 50,
         "opacity": 0.8,
         "orientation": "v",
         "type": "histogram",
         "x": [
          -0.23191483467728796,
          0.22996169982911116,
          0.37235644215290814,
          -0.18317934630443627,
          0.030269596121248386,
          0.2377912009439052,
          -0.4635781052161619,
          -1.113826422851541,
          -0.4640499369179566,
          0.0862418242527444,
          -0.17526457764388662,
          -1.2394707131388767,
          1.1378268189836096,
          1.1227212390740267,
          0.8469162696258059,
          -0.2352349772821939,
          0.1966858786059231,
          -0.2933140386799466,
          -0.30688059116922967,
          -0.4821681732345493,
          -0.27745071051604725,
          -1.1243501531182385,
          0.057655680779404216,
          0.45004825152232597,
          -0.6431969695826352,
          1.8043144586142832,
          0.5335382114718625,
          -0.558890544540614,
          -1.0720048033208915,
          -0.941563266309427,
          0.348237899267876,
          1.1705473551597216,
          -0.8353913555607797,
          -0.857665180470015,
          -0.34313815056146535,
          -0.6405363663505411,
          -0.005708929644882179,
          -1.0129631575850104,
          0.5779718783951365,
          -1.0519358973969024,
          0.5136347490696667,
          -1.2979934398788073,
          0.5349053270524682,
          2.357078440371061,
          0.7469704623104282,
          -0.7512300212264496,
          -0.0676600767370751,
          1.1717868904695523,
          0.056014652083291414,
          1.9067085542207205,
          0.22696914256599662,
          -1.0227464786175227,
          -0.3662894960812538,
          -1.069064556566524,
          0.5477192163632087,
          0.38967752312019927,
          -0.30929610039500577,
          1.3586255897880464,
          1.5695745260088578,
          -0.440786731303405,
          -1.0467786473869678,
          -0.6406050565135507,
          1.2910836005523305,
          -0.11894889194832031,
          -1.0179449928368667,
          1.3447998121960456,
          0.14512180959110263,
          -1.227725683384825,
          1.4371215964566564,
          -0.0031341668208622908,
          -0.5576920364414308,
          -0.38328672961847204,
          0.026830990387689723,
          -0.8382448805596847,
          0.8827979098248043,
          1.5898469507164932,
          2.604205368168547,
          0.8892144723017181,
          -0.07378398071441221,
          0.4267291792279438,
          0.8950635767904128,
          0.3922940160616898,
          -0.0851112683431683,
          -0.6736568562098894,
          -0.43538967839927634,
          -0.6678661489181582,
          0.4674966404566777,
          1.3041628300440022,
          -1.9223632355127063,
          -0.6824825992913708,
          -0.7251925773027719,
          0.8406610583174904,
          0.6198675777100461,
          1.2865116834532744,
          -1.6841263181861676,
          0.3858325516026786,
          -0.31831457953920045,
          0.9298675048241788,
          0.08512501033433308,
          0.5944382814004443
         ]
        },
        {
         "histfunc": "count",
         "histnorm": "",
         "marker": {
          "color": "rgba(128, 0, 128, 1.0)",
          "line": {
           "color": "#4D5663",
           "width": 1.3
          }
         },
         "name": "D",
         "nbinsx": 50,
         "opacity": 0.8,
         "orientation": "v",
         "type": "histogram",
         "x": [
          1.7420011505283355,
          -0.21407790210814454,
          -0.8346995928206267,
          0.3572143263372206,
          -0.44861423493977404,
          -1.6081212330874752,
          0.801690734912549,
          -0.6109376576801621,
          2.1373076535109092,
          -0.3895897715840815,
          0.49813442940114483,
          0.9759970066716024,
          -0.7932651994978115,
          0.6835870707382509,
          -0.3274394480942042,
          1.8709656860865775,
          0.3111020957103798,
          -0.7509733514305589,
          0.70735198442484,
          -2.0380165731831723,
          -0.2268007663096546,
          -0.1570710863874976,
          -0.043925259267604065,
          1.2132826148806004,
          -0.35116309161963677,
          -0.22222779417501082,
          -0.4744366412490772,
          0.9675082903553129,
          0.117057975512573,
          1.3648150969859354,
          -0.44309217680230667,
          -0.2426589005323525,
          0.6386264583219761,
          -0.8332164875365083,
          -0.44728663182657197,
          -0.02280652878873671,
          2.225828052114822,
          -0.14800113052807606,
          0.6406805425970652,
          -1.1344693137474502,
          -1.0701856529498481,
          -1.0291026082395422,
          1.439390319110055,
          0.7584810547627114,
          0.5888102171302606,
          0.2724300812740993,
          0.43539688823221795,
          0.47801130939445824,
          0.7306479076541726,
          0.7096123064838874,
          0.38797045860083834,
          0.6450237570733347,
          -1.6733767642736335,
          -0.18122074197359497,
          -0.10116934075473873,
          0.903652841960548,
          -1.1081023040397295,
          0.6399902629524633,
          0.7793730919102405,
          0.875387486712953,
          1.044674558695237,
          -0.4871528085047099,
          -0.6143593693157811,
          0.21228328709304328,
          -1.4146000066232995,
          -1.7253060336527681,
          0.7433283324848287,
          0.0627648959382127,
          -1.0410361166019233,
          -1.0179539366545063,
          -0.12346745371218192,
          -0.19861250276447442,
          -1.2928778298316919,
          -0.39586307865963055,
          -0.7406276396929118,
          0.639801665969883,
          1.5466490194149656,
          -2.25710586595814,
          0.025727214192610162,
          -1.3997758024249467,
          0.6293336997602994,
          0.5524935217565039,
          2.3874015597003724,
          -0.39471117140079154,
          -1.3953941132202565,
          0.40979403089478883,
          -0.23403208703945236,
          -1.5492736810458847,
          -2.80725233529573,
          -0.4855463561126437,
          1.9368340138661833,
          0.007857349331967686,
          -0.8882755436060508,
          -1.6353969003568276,
          -1.3308136151465673,
          -0.5024940855850913,
          -0.09574033787558964,
          1.876487667138215,
          -1.4315406749059392,
          -0.14243853343481255
         ]
        }
       ],
       "layout": {
        "barmode": "overlay",
        "legend": {
         "bgcolor": "#F5F6F9",
         "font": {
          "color": "#4D5663"
         }
        },
        "paper_bgcolor": "#F5F6F9",
        "plot_bgcolor": "#F5F6F9",
        "template": {
         "data": {
          "bar": [
           {
            "error_x": {
             "color": "#2a3f5f"
            },
            "error_y": {
             "color": "#2a3f5f"
            },
            "marker": {
             "line": {
              "color": "#E5ECF6",
              "width": 0.5
             },
             "pattern": {
              "fillmode": "overlay",
              "size": 10,
              "solidity": 0.2
             }
            },
            "type": "bar"
           }
          ],
          "barpolar": [
           {
            "marker": {
             "line": {
              "color": "#E5ECF6",
              "width": 0.5
             },
             "pattern": {
              "fillmode": "overlay",
              "size": 10,
              "solidity": 0.2
             }
            },
            "type": "barpolar"
           }
          ],
          "carpet": [
           {
            "aaxis": {
             "endlinecolor": "#2a3f5f",
             "gridcolor": "white",
             "linecolor": "white",
             "minorgridcolor": "white",
             "startlinecolor": "#2a3f5f"
            },
            "baxis": {
             "endlinecolor": "#2a3f5f",
             "gridcolor": "white",
             "linecolor": "white",
             "minorgridcolor": "white",
             "startlinecolor": "#2a3f5f"
            },
            "type": "carpet"
           }
          ],
          "choropleth": [
           {
            "colorbar": {
             "outlinewidth": 0,
             "ticks": ""
            },
            "type": "choropleth"
           }
          ],
          "contour": [
           {
            "colorbar": {
             "outlinewidth": 0,
             "ticks": ""
            },
            "colorscale": [
             [
              0,
              "#0d0887"
             ],
             [
              0.1111111111111111,
              "#46039f"
             ],
             [
              0.2222222222222222,
              "#7201a8"
             ],
             [
              0.3333333333333333,
              "#9c179e"
             ],
             [
              0.4444444444444444,
              "#bd3786"
             ],
             [
              0.5555555555555556,
              "#d8576b"
             ],
             [
              0.6666666666666666,
              "#ed7953"
             ],
             [
              0.7777777777777778,
              "#fb9f3a"
             ],
             [
              0.8888888888888888,
              "#fdca26"
             ],
             [
              1,
              "#f0f921"
             ]
            ],
            "type": "contour"
           }
          ],
          "contourcarpet": [
           {
            "colorbar": {
             "outlinewidth": 0,
             "ticks": ""
            },
            "type": "contourcarpet"
           }
          ],
          "heatmap": [
           {
            "colorbar": {
             "outlinewidth": 0,
             "ticks": ""
            },
            "colorscale": [
             [
              0,
              "#0d0887"
             ],
             [
              0.1111111111111111,
              "#46039f"
             ],
             [
              0.2222222222222222,
              "#7201a8"
             ],
             [
              0.3333333333333333,
              "#9c179e"
             ],
             [
              0.4444444444444444,
              "#bd3786"
             ],
             [
              0.5555555555555556,
              "#d8576b"
             ],
             [
              0.6666666666666666,
              "#ed7953"
             ],
             [
              0.7777777777777778,
              "#fb9f3a"
             ],
             [
              0.8888888888888888,
              "#fdca26"
             ],
             [
              1,
              "#f0f921"
             ]
            ],
            "type": "heatmap"
           }
          ],
          "heatmapgl": [
           {
            "colorbar": {
             "outlinewidth": 0,
             "ticks": ""
            },
            "colorscale": [
             [
              0,
              "#0d0887"
             ],
             [
              0.1111111111111111,
              "#46039f"
             ],
             [
              0.2222222222222222,
              "#7201a8"
             ],
             [
              0.3333333333333333,
              "#9c179e"
             ],
             [
              0.4444444444444444,
              "#bd3786"
             ],
             [
              0.5555555555555556,
              "#d8576b"
             ],
             [
              0.6666666666666666,
              "#ed7953"
             ],
             [
              0.7777777777777778,
              "#fb9f3a"
             ],
             [
              0.8888888888888888,
              "#fdca26"
             ],
             [
              1,
              "#f0f921"
             ]
            ],
            "type": "heatmapgl"
           }
          ],
          "histogram": [
           {
            "marker": {
             "pattern": {
              "fillmode": "overlay",
              "size": 10,
              "solidity": 0.2
             }
            },
            "type": "histogram"
           }
          ],
          "histogram2d": [
           {
            "colorbar": {
             "outlinewidth": 0,
             "ticks": ""
            },
            "colorscale": [
             [
              0,
              "#0d0887"
             ],
             [
              0.1111111111111111,
              "#46039f"
             ],
             [
              0.2222222222222222,
              "#7201a8"
             ],
             [
              0.3333333333333333,
              "#9c179e"
             ],
             [
              0.4444444444444444,
              "#bd3786"
             ],
             [
              0.5555555555555556,
              "#d8576b"
             ],
             [
              0.6666666666666666,
              "#ed7953"
             ],
             [
              0.7777777777777778,
              "#fb9f3a"
             ],
             [
              0.8888888888888888,
              "#fdca26"
             ],
             [
              1,
              "#f0f921"
             ]
            ],
            "type": "histogram2d"
           }
          ],
          "histogram2dcontour": [
           {
            "colorbar": {
             "outlinewidth": 0,
             "ticks": ""
            },
            "colorscale": [
             [
              0,
              "#0d0887"
             ],
             [
              0.1111111111111111,
              "#46039f"
             ],
             [
              0.2222222222222222,
              "#7201a8"
             ],
             [
              0.3333333333333333,
              "#9c179e"
             ],
             [
              0.4444444444444444,
              "#bd3786"
             ],
             [
              0.5555555555555556,
              "#d8576b"
             ],
             [
              0.6666666666666666,
              "#ed7953"
             ],
             [
              0.7777777777777778,
              "#fb9f3a"
             ],
             [
              0.8888888888888888,
              "#fdca26"
             ],
             [
              1,
              "#f0f921"
             ]
            ],
            "type": "histogram2dcontour"
           }
          ],
          "mesh3d": [
           {
            "colorbar": {
             "outlinewidth": 0,
             "ticks": ""
            },
            "type": "mesh3d"
           }
          ],
          "parcoords": [
           {
            "line": {
             "colorbar": {
              "outlinewidth": 0,
              "ticks": ""
             }
            },
            "type": "parcoords"
           }
          ],
          "pie": [
           {
            "automargin": true,
            "type": "pie"
           }
          ],
          "scatter": [
           {
            "fillpattern": {
             "fillmode": "overlay",
             "size": 10,
             "solidity": 0.2
            },
            "type": "scatter"
           }
          ],
          "scatter3d": [
           {
            "line": {
             "colorbar": {
              "outlinewidth": 0,
              "ticks": ""
             }
            },
            "marker": {
             "colorbar": {
              "outlinewidth": 0,
              "ticks": ""
             }
            },
            "type": "scatter3d"
           }
          ],
          "scattercarpet": [
           {
            "marker": {
             "colorbar": {
              "outlinewidth": 0,
              "ticks": ""
             }
            },
            "type": "scattercarpet"
           }
          ],
          "scattergeo": [
           {
            "marker": {
             "colorbar": {
              "outlinewidth": 0,
              "ticks": ""
             }
            },
            "type": "scattergeo"
           }
          ],
          "scattergl": [
           {
            "marker": {
             "colorbar": {
              "outlinewidth": 0,
              "ticks": ""
             }
            },
            "type": "scattergl"
           }
          ],
          "scattermapbox": [
           {
            "marker": {
             "colorbar": {
              "outlinewidth": 0,
              "ticks": ""
             }
            },
            "type": "scattermapbox"
           }
          ],
          "scatterpolar": [
           {
            "marker": {
             "colorbar": {
              "outlinewidth": 0,
              "ticks": ""
             }
            },
            "type": "scatterpolar"
           }
          ],
          "scatterpolargl": [
           {
            "marker": {
             "colorbar": {
              "outlinewidth": 0,
              "ticks": ""
             }
            },
            "type": "scatterpolargl"
           }
          ],
          "scatterternary": [
           {
            "marker": {
             "colorbar": {
              "outlinewidth": 0,
              "ticks": ""
             }
            },
            "type": "scatterternary"
           }
          ],
          "surface": [
           {
            "colorbar": {
             "outlinewidth": 0,
             "ticks": ""
            },
            "colorscale": [
             [
              0,
              "#0d0887"
             ],
             [
              0.1111111111111111,
              "#46039f"
             ],
             [
              0.2222222222222222,
              "#7201a8"
             ],
             [
              0.3333333333333333,
              "#9c179e"
             ],
             [
              0.4444444444444444,
              "#bd3786"
             ],
             [
              0.5555555555555556,
              "#d8576b"
             ],
             [
              0.6666666666666666,
              "#ed7953"
             ],
             [
              0.7777777777777778,
              "#fb9f3a"
             ],
             [
              0.8888888888888888,
              "#fdca26"
             ],
             [
              1,
              "#f0f921"
             ]
            ],
            "type": "surface"
           }
          ],
          "table": [
           {
            "cells": {
             "fill": {
              "color": "#EBF0F8"
             },
             "line": {
              "color": "white"
             }
            },
            "header": {
             "fill": {
              "color": "#C8D4E3"
             },
             "line": {
              "color": "white"
             }
            },
            "type": "table"
           }
          ]
         },
         "layout": {
          "annotationdefaults": {
           "arrowcolor": "#2a3f5f",
           "arrowhead": 0,
           "arrowwidth": 1
          },
          "autotypenumbers": "strict",
          "coloraxis": {
           "colorbar": {
            "outlinewidth": 0,
            "ticks": ""
           }
          },
          "colorscale": {
           "diverging": [
            [
             0,
             "#8e0152"
            ],
            [
             0.1,
             "#c51b7d"
            ],
            [
             0.2,
             "#de77ae"
            ],
            [
             0.3,
             "#f1b6da"
            ],
            [
             0.4,
             "#fde0ef"
            ],
            [
             0.5,
             "#f7f7f7"
            ],
            [
             0.6,
             "#e6f5d0"
            ],
            [
             0.7,
             "#b8e186"
            ],
            [
             0.8,
             "#7fbc41"
            ],
            [
             0.9,
             "#4d9221"
            ],
            [
             1,
             "#276419"
            ]
           ],
           "sequential": [
            [
             0,
             "#0d0887"
            ],
            [
             0.1111111111111111,
             "#46039f"
            ],
            [
             0.2222222222222222,
             "#7201a8"
            ],
            [
             0.3333333333333333,
             "#9c179e"
            ],
            [
             0.4444444444444444,
             "#bd3786"
            ],
            [
             0.5555555555555556,
             "#d8576b"
            ],
            [
             0.6666666666666666,
             "#ed7953"
            ],
            [
             0.7777777777777778,
             "#fb9f3a"
            ],
            [
             0.8888888888888888,
             "#fdca26"
            ],
            [
             1,
             "#f0f921"
            ]
           ],
           "sequentialminus": [
            [
             0,
             "#0d0887"
            ],
            [
             0.1111111111111111,
             "#46039f"
            ],
            [
             0.2222222222222222,
             "#7201a8"
            ],
            [
             0.3333333333333333,
             "#9c179e"
            ],
            [
             0.4444444444444444,
             "#bd3786"
            ],
            [
             0.5555555555555556,
             "#d8576b"
            ],
            [
             0.6666666666666666,
             "#ed7953"
            ],
            [
             0.7777777777777778,
             "#fb9f3a"
            ],
            [
             0.8888888888888888,
             "#fdca26"
            ],
            [
             1,
             "#f0f921"
            ]
           ]
          },
          "colorway": [
           "#636efa",
           "#EF553B",
           "#00cc96",
           "#ab63fa",
           "#FFA15A",
           "#19d3f3",
           "#FF6692",
           "#B6E880",
           "#FF97FF",
           "#FECB52"
          ],
          "font": {
           "color": "#2a3f5f"
          },
          "geo": {
           "bgcolor": "white",
           "lakecolor": "white",
           "landcolor": "#E5ECF6",
           "showlakes": true,
           "showland": true,
           "subunitcolor": "white"
          },
          "hoverlabel": {
           "align": "left"
          },
          "hovermode": "closest",
          "mapbox": {
           "style": "light"
          },
          "paper_bgcolor": "white",
          "plot_bgcolor": "#E5ECF6",
          "polar": {
           "angularaxis": {
            "gridcolor": "white",
            "linecolor": "white",
            "ticks": ""
           },
           "bgcolor": "#E5ECF6",
           "radialaxis": {
            "gridcolor": "white",
            "linecolor": "white",
            "ticks": ""
           }
          },
          "scene": {
           "xaxis": {
            "backgroundcolor": "#E5ECF6",
            "gridcolor": "white",
            "gridwidth": 2,
            "linecolor": "white",
            "showbackground": true,
            "ticks": "",
            "zerolinecolor": "white"
           },
           "yaxis": {
            "backgroundcolor": "#E5ECF6",
            "gridcolor": "white",
            "gridwidth": 2,
            "linecolor": "white",
            "showbackground": true,
            "ticks": "",
            "zerolinecolor": "white"
           },
           "zaxis": {
            "backgroundcolor": "#E5ECF6",
            "gridcolor": "white",
            "gridwidth": 2,
            "linecolor": "white",
            "showbackground": true,
            "ticks": "",
            "zerolinecolor": "white"
           }
          },
          "shapedefaults": {
           "line": {
            "color": "#2a3f5f"
           }
          },
          "ternary": {
           "aaxis": {
            "gridcolor": "white",
            "linecolor": "white",
            "ticks": ""
           },
           "baxis": {
            "gridcolor": "white",
            "linecolor": "white",
            "ticks": ""
           },
           "bgcolor": "#E5ECF6",
           "caxis": {
            "gridcolor": "white",
            "linecolor": "white",
            "ticks": ""
           }
          },
          "title": {
           "x": 0.05
          },
          "xaxis": {
           "automargin": true,
           "gridcolor": "white",
           "linecolor": "white",
           "ticks": "",
           "title": {
            "standoff": 15
           },
           "zerolinecolor": "white",
           "zerolinewidth": 2
          },
          "yaxis": {
           "automargin": true,
           "gridcolor": "white",
           "linecolor": "white",
           "ticks": "",
           "title": {
            "standoff": 15
           },
           "zerolinecolor": "white",
           "zerolinewidth": 2
          }
         }
        },
        "title": {
         "font": {
          "color": "#4D5663"
         }
        },
        "xaxis": {
         "gridcolor": "#E1E5ED",
         "showgrid": true,
         "tickfont": {
          "color": "#4D5663"
         },
         "title": {
          "font": {
           "color": "#4D5663"
          },
          "text": ""
         },
         "zerolinecolor": "#E1E5ED"
        },
        "yaxis": {
         "gridcolor": "#E1E5ED",
         "showgrid": true,
         "tickfont": {
          "color": "#4D5663"
         },
         "title": {
          "font": {
           "color": "#4D5663"
          },
          "text": ""
         },
         "zerolinecolor": "#E1E5ED"
        }
       }
      },
      "text/html": [
       "<div>                            <div id=\"a9fdaa49-5682-4716-b2b5-4c3097f90351\" class=\"plotly-graph-div\" style=\"height:525px; width:100%;\"></div>            <script type=\"text/javascript\">                require([\"plotly\"], function(Plotly) {                    window.PLOTLYENV=window.PLOTLYENV || {};\n",
       "                    window.PLOTLYENV.BASE_URL='https://plot.ly';                                    if (document.getElementById(\"a9fdaa49-5682-4716-b2b5-4c3097f90351\")) {                    Plotly.newPlot(                        \"a9fdaa49-5682-4716-b2b5-4c3097f90351\",                        [{\"histfunc\":\"count\",\"histnorm\":\"\",\"marker\":{\"color\":\"rgba(255, 153, 51, 1.0)\",\"line\":{\"color\":\"#4D5663\",\"width\":1.3}},\"name\":\"A\",\"nbinsx\":50,\"opacity\":0.8,\"orientation\":\"v\",\"x\":[-1.1024981471016053,0.45532653178486426,0.40391046008714476,-0.2809970042901508,0.7989989325364689,1.0832583953209949,-1.234209784210434,0.3224994409690922,-0.3242087708237595,-0.1284653156020744,-0.7552748291440724,0.8184288968726566,0.5422845891231438,0.10789901010090519,-0.32139817008019994,-0.7963759333281335,-0.39037680946255826,-2.2655403217214696,0.5167189806038817,1.0311119027127906,-0.7280729939339882,2.2399138984961033,-1.2752392088928555,-0.5378918136584961,2.0295510309720433,0.23191793912741354,-0.7489274861749667,0.1804315695573513,-1.076899175942572,0.1480646205053287,-2.067689597756462,-0.6242648055288316,1.9205984896737025,-0.6626634145557857,0.43755162941932596,-0.08301825934472241,1.6979277445032026,1.3214093229538189,-0.5063299960070593,-0.0634250885800641,1.5099246615970119,-0.06181082497718354,-0.3409827236091026,-0.33324862190788684,1.500014889723033,-1.5918283819078909,0.1436883889894132,1.5756106661076734,-0.32506572639260684,0.37798144298626746,0.46348546666861756,-2.051188827144377,-1.0172458205234336,-0.5070704946445844,-0.8478731955080303,-0.2334924377631749,0.19262355458803307,-1.3003949447844079,-0.9149035966488548,0.8229650720355511,1.3006243742931636,-0.4126201075864305,-0.6711296866905244,-0.4405250418337267,-0.5651290513169568,1.0196385357067541,0.5877685488555959,-0.3945490445285969,0.8054155111464418,-1.0217863363909698,0.46049889877191597,0.57181539365208,-0.8625271604108457,-0.46000004554287016,0.02716586732277476,0.6816588980785862,-0.4668112307509774,0.25228987992077717,0.8669165806315857,0.847033573383717,-1.3863133841285744,-0.01553686633329219,-0.2740973426119702,0.043616214784867754,-2.1647128799946276,-0.05182135785862414,-1.384645553366656,0.4027841869433865,0.11479059202803563,0.3819374624127815,0.22205933188988886,0.9355340173488559,-0.2765941836604982,0.954866972229284,1.073857686349574,-1.1885752619110412,0.28988033179079464,0.8151597284421718,-0.9941872219563699,1.5368506591655258],\"type\":\"histogram\"},{\"histfunc\":\"count\",\"histnorm\":\"\",\"marker\":{\"color\":\"rgba(55, 128, 191, 1.0)\",\"line\":{\"color\":\"#4D5663\",\"width\":1.3}},\"name\":\"B\",\"nbinsx\":50,\"opacity\":0.8,\"orientation\":\"v\",\"x\":[-0.8713196634022675,-1.767211174819314,-1.0350908487091959,-0.08072812492485895,-1.1951142174006553,-1.8471571622199414,1.8801067041568933,-1.1058767571189025,0.40937518520839133,0.5074882970638703,-0.9099081392282109,-0.23390168778098436,1.3793033998833388,-0.03876003474237771,1.38539784508653,0.8040467182086181,-1.9859688198263412,1.4318814602300922,0.2856696833736994,-0.02734422820736344,2.2604852635308466,0.3437984522726635,-1.6199777026322286,-1.6252434641567413,0.819414661012346,0.8718682984632122,-0.9577172169711519,0.26839737955878556,1.3259952049003743,-0.5112436727714154,1.5282438868112913,0.46111855997757906,0.5103298218556396,-1.6594959487403262,0.5897407100948779,-0.0702770913251112,2.145076222618863,-0.3302738874863218,1.7954077585596733,-0.32578556653973817,0.8364388798723189,0.22696433098098545,-0.8327353257833802,-1.015031002671774,0.37786457003176177,-0.8097117301574803,-0.9985378053285431,0.5203569062543102,0.4818184236235761,-0.8441091152069875,1.2708165965970095,-0.70334138878969,1.0694277546339286,0.6254820710794478,-0.009766599509518017,0.10566623768884706,-0.38865979307592985,-0.4287810605985193,-0.3739451959228925,-0.9145143264683828,2.625130148137943,0.2778968503855602,0.9934389776868553,-0.9072450113031999,0.5210933674015816,0.0830080569450399,0.14620986056202875,-0.4516254448680814,1.1997048520705935,-0.45206800531489205,1.0943552757896906,0.9640478674870745,-1.6536100269234513,0.101149502791871,-0.4152232250614539,0.6152742885080315,0.2106406522997461,0.0019031646346197241,0.602635626247644,-1.715601158322781,0.5628710900741206,-0.1294924891033397,-0.6355075840796094,1.2649381157969501,0.02498520572713563,0.5104545781590395,-0.5702951302023916,1.7309202655032256,1.2879164184864185,-0.36438719814264675,0.2745117757241402,-0.07135501369983091,-0.10594911360867416,0.2004243601221823,0.5662466524036643,0.4151771166224692,2.0414607940726452,0.3982025407248406,-1.2995806760810338,0.982890176174143],\"type\":\"histogram\"},{\"histfunc\":\"count\",\"histnorm\":\"\",\"marker\":{\"color\":\"rgba(50, 171, 96, 1.0)\",\"line\":{\"color\":\"#4D5663\",\"width\":1.3}},\"name\":\"C\",\"nbinsx\":50,\"opacity\":0.8,\"orientation\":\"v\",\"x\":[-0.23191483467728796,0.22996169982911116,0.37235644215290814,-0.18317934630443627,0.030269596121248386,0.2377912009439052,-0.4635781052161619,-1.113826422851541,-0.4640499369179566,0.0862418242527444,-0.17526457764388662,-1.2394707131388767,1.1378268189836096,1.1227212390740267,0.8469162696258059,-0.2352349772821939,0.1966858786059231,-0.2933140386799466,-0.30688059116922967,-0.4821681732345493,-0.27745071051604725,-1.1243501531182385,0.057655680779404216,0.45004825152232597,-0.6431969695826352,1.8043144586142832,0.5335382114718625,-0.558890544540614,-1.0720048033208915,-0.941563266309427,0.348237899267876,1.1705473551597216,-0.8353913555607797,-0.857665180470015,-0.34313815056146535,-0.6405363663505411,-0.005708929644882179,-1.0129631575850104,0.5779718783951365,-1.0519358973969024,0.5136347490696667,-1.2979934398788073,0.5349053270524682,2.357078440371061,0.7469704623104282,-0.7512300212264496,-0.0676600767370751,1.1717868904695523,0.056014652083291414,1.9067085542207205,0.22696914256599662,-1.0227464786175227,-0.3662894960812538,-1.069064556566524,0.5477192163632087,0.38967752312019927,-0.30929610039500577,1.3586255897880464,1.5695745260088578,-0.440786731303405,-1.0467786473869678,-0.6406050565135507,1.2910836005523305,-0.11894889194832031,-1.0179449928368667,1.3447998121960456,0.14512180959110263,-1.227725683384825,1.4371215964566564,-0.0031341668208622908,-0.5576920364414308,-0.38328672961847204,0.026830990387689723,-0.8382448805596847,0.8827979098248043,1.5898469507164932,2.604205368168547,0.8892144723017181,-0.07378398071441221,0.4267291792279438,0.8950635767904128,0.3922940160616898,-0.0851112683431683,-0.6736568562098894,-0.43538967839927634,-0.6678661489181582,0.4674966404566777,1.3041628300440022,-1.9223632355127063,-0.6824825992913708,-0.7251925773027719,0.8406610583174904,0.6198675777100461,1.2865116834532744,-1.6841263181861676,0.3858325516026786,-0.31831457953920045,0.9298675048241788,0.08512501033433308,0.5944382814004443],\"type\":\"histogram\"},{\"histfunc\":\"count\",\"histnorm\":\"\",\"marker\":{\"color\":\"rgba(128, 0, 128, 1.0)\",\"line\":{\"color\":\"#4D5663\",\"width\":1.3}},\"name\":\"D\",\"nbinsx\":50,\"opacity\":0.8,\"orientation\":\"v\",\"x\":[1.7420011505283355,-0.21407790210814454,-0.8346995928206267,0.3572143263372206,-0.44861423493977404,-1.6081212330874752,0.801690734912549,-0.6109376576801621,2.1373076535109092,-0.3895897715840815,0.49813442940114483,0.9759970066716024,-0.7932651994978115,0.6835870707382509,-0.3274394480942042,1.8709656860865775,0.3111020957103798,-0.7509733514305589,0.70735198442484,-2.0380165731831723,-0.2268007663096546,-0.1570710863874976,-0.043925259267604065,1.2132826148806004,-0.35116309161963677,-0.22222779417501082,-0.4744366412490772,0.9675082903553129,0.117057975512573,1.3648150969859354,-0.44309217680230667,-0.2426589005323525,0.6386264583219761,-0.8332164875365083,-0.44728663182657197,-0.02280652878873671,2.225828052114822,-0.14800113052807606,0.6406805425970652,-1.1344693137474502,-1.0701856529498481,-1.0291026082395422,1.439390319110055,0.7584810547627114,0.5888102171302606,0.2724300812740993,0.43539688823221795,0.47801130939445824,0.7306479076541726,0.7096123064838874,0.38797045860083834,0.6450237570733347,-1.6733767642736335,-0.18122074197359497,-0.10116934075473873,0.903652841960548,-1.1081023040397295,0.6399902629524633,0.7793730919102405,0.875387486712953,1.044674558695237,-0.4871528085047099,-0.6143593693157811,0.21228328709304328,-1.4146000066232995,-1.7253060336527681,0.7433283324848287,0.0627648959382127,-1.0410361166019233,-1.0179539366545063,-0.12346745371218192,-0.19861250276447442,-1.2928778298316919,-0.39586307865963055,-0.7406276396929118,0.639801665969883,1.5466490194149656,-2.25710586595814,0.025727214192610162,-1.3997758024249467,0.6293336997602994,0.5524935217565039,2.3874015597003724,-0.39471117140079154,-1.3953941132202565,0.40979403089478883,-0.23403208703945236,-1.5492736810458847,-2.80725233529573,-0.4855463561126437,1.9368340138661833,0.007857349331967686,-0.8882755436060508,-1.6353969003568276,-1.3308136151465673,-0.5024940855850913,-0.09574033787558964,1.876487667138215,-1.4315406749059392,-0.14243853343481255],\"type\":\"histogram\"}],                        {\"barmode\":\"overlay\",\"legend\":{\"bgcolor\":\"#F5F6F9\",\"font\":{\"color\":\"#4D5663\"}},\"paper_bgcolor\":\"#F5F6F9\",\"plot_bgcolor\":\"#F5F6F9\",\"template\":{\"data\":{\"barpolar\":[{\"marker\":{\"line\":{\"color\":\"#E5ECF6\",\"width\":0.5},\"pattern\":{\"fillmode\":\"overlay\",\"size\":10,\"solidity\":0.2}},\"type\":\"barpolar\"}],\"bar\":[{\"error_x\":{\"color\":\"#2a3f5f\"},\"error_y\":{\"color\":\"#2a3f5f\"},\"marker\":{\"line\":{\"color\":\"#E5ECF6\",\"width\":0.5},\"pattern\":{\"fillmode\":\"overlay\",\"size\":10,\"solidity\":0.2}},\"type\":\"bar\"}],\"carpet\":[{\"aaxis\":{\"endlinecolor\":\"#2a3f5f\",\"gridcolor\":\"white\",\"linecolor\":\"white\",\"minorgridcolor\":\"white\",\"startlinecolor\":\"#2a3f5f\"},\"baxis\":{\"endlinecolor\":\"#2a3f5f\",\"gridcolor\":\"white\",\"linecolor\":\"white\",\"minorgridcolor\":\"white\",\"startlinecolor\":\"#2a3f5f\"},\"type\":\"carpet\"}],\"choropleth\":[{\"colorbar\":{\"outlinewidth\":0,\"ticks\":\"\"},\"type\":\"choropleth\"}],\"contourcarpet\":[{\"colorbar\":{\"outlinewidth\":0,\"ticks\":\"\"},\"type\":\"contourcarpet\"}],\"contour\":[{\"colorbar\":{\"outlinewidth\":0,\"ticks\":\"\"},\"colorscale\":[[0.0,\"#0d0887\"],[0.1111111111111111,\"#46039f\"],[0.2222222222222222,\"#7201a8\"],[0.3333333333333333,\"#9c179e\"],[0.4444444444444444,\"#bd3786\"],[0.5555555555555556,\"#d8576b\"],[0.6666666666666666,\"#ed7953\"],[0.7777777777777778,\"#fb9f3a\"],[0.8888888888888888,\"#fdca26\"],[1.0,\"#f0f921\"]],\"type\":\"contour\"}],\"heatmapgl\":[{\"colorbar\":{\"outlinewidth\":0,\"ticks\":\"\"},\"colorscale\":[[0.0,\"#0d0887\"],[0.1111111111111111,\"#46039f\"],[0.2222222222222222,\"#7201a8\"],[0.3333333333333333,\"#9c179e\"],[0.4444444444444444,\"#bd3786\"],[0.5555555555555556,\"#d8576b\"],[0.6666666666666666,\"#ed7953\"],[0.7777777777777778,\"#fb9f3a\"],[0.8888888888888888,\"#fdca26\"],[1.0,\"#f0f921\"]],\"type\":\"heatmapgl\"}],\"heatmap\":[{\"colorbar\":{\"outlinewidth\":0,\"ticks\":\"\"},\"colorscale\":[[0.0,\"#0d0887\"],[0.1111111111111111,\"#46039f\"],[0.2222222222222222,\"#7201a8\"],[0.3333333333333333,\"#9c179e\"],[0.4444444444444444,\"#bd3786\"],[0.5555555555555556,\"#d8576b\"],[0.6666666666666666,\"#ed7953\"],[0.7777777777777778,\"#fb9f3a\"],[0.8888888888888888,\"#fdca26\"],[1.0,\"#f0f921\"]],\"type\":\"heatmap\"}],\"histogram2dcontour\":[{\"colorbar\":{\"outlinewidth\":0,\"ticks\":\"\"},\"colorscale\":[[0.0,\"#0d0887\"],[0.1111111111111111,\"#46039f\"],[0.2222222222222222,\"#7201a8\"],[0.3333333333333333,\"#9c179e\"],[0.4444444444444444,\"#bd3786\"],[0.5555555555555556,\"#d8576b\"],[0.6666666666666666,\"#ed7953\"],[0.7777777777777778,\"#fb9f3a\"],[0.8888888888888888,\"#fdca26\"],[1.0,\"#f0f921\"]],\"type\":\"histogram2dcontour\"}],\"histogram2d\":[{\"colorbar\":{\"outlinewidth\":0,\"ticks\":\"\"},\"colorscale\":[[0.0,\"#0d0887\"],[0.1111111111111111,\"#46039f\"],[0.2222222222222222,\"#7201a8\"],[0.3333333333333333,\"#9c179e\"],[0.4444444444444444,\"#bd3786\"],[0.5555555555555556,\"#d8576b\"],[0.6666666666666666,\"#ed7953\"],[0.7777777777777778,\"#fb9f3a\"],[0.8888888888888888,\"#fdca26\"],[1.0,\"#f0f921\"]],\"type\":\"histogram2d\"}],\"histogram\":[{\"marker\":{\"pattern\":{\"fillmode\":\"overlay\",\"size\":10,\"solidity\":0.2}},\"type\":\"histogram\"}],\"mesh3d\":[{\"colorbar\":{\"outlinewidth\":0,\"ticks\":\"\"},\"type\":\"mesh3d\"}],\"parcoords\":[{\"line\":{\"colorbar\":{\"outlinewidth\":0,\"ticks\":\"\"}},\"type\":\"parcoords\"}],\"pie\":[{\"automargin\":true,\"type\":\"pie\"}],\"scatter3d\":[{\"line\":{\"colorbar\":{\"outlinewidth\":0,\"ticks\":\"\"}},\"marker\":{\"colorbar\":{\"outlinewidth\":0,\"ticks\":\"\"}},\"type\":\"scatter3d\"}],\"scattercarpet\":[{\"marker\":{\"colorbar\":{\"outlinewidth\":0,\"ticks\":\"\"}},\"type\":\"scattercarpet\"}],\"scattergeo\":[{\"marker\":{\"colorbar\":{\"outlinewidth\":0,\"ticks\":\"\"}},\"type\":\"scattergeo\"}],\"scattergl\":[{\"marker\":{\"colorbar\":{\"outlinewidth\":0,\"ticks\":\"\"}},\"type\":\"scattergl\"}],\"scattermapbox\":[{\"marker\":{\"colorbar\":{\"outlinewidth\":0,\"ticks\":\"\"}},\"type\":\"scattermapbox\"}],\"scatterpolargl\":[{\"marker\":{\"colorbar\":{\"outlinewidth\":0,\"ticks\":\"\"}},\"type\":\"scatterpolargl\"}],\"scatterpolar\":[{\"marker\":{\"colorbar\":{\"outlinewidth\":0,\"ticks\":\"\"}},\"type\":\"scatterpolar\"}],\"scatter\":[{\"fillpattern\":{\"fillmode\":\"overlay\",\"size\":10,\"solidity\":0.2},\"type\":\"scatter\"}],\"scatterternary\":[{\"marker\":{\"colorbar\":{\"outlinewidth\":0,\"ticks\":\"\"}},\"type\":\"scatterternary\"}],\"surface\":[{\"colorbar\":{\"outlinewidth\":0,\"ticks\":\"\"},\"colorscale\":[[0.0,\"#0d0887\"],[0.1111111111111111,\"#46039f\"],[0.2222222222222222,\"#7201a8\"],[0.3333333333333333,\"#9c179e\"],[0.4444444444444444,\"#bd3786\"],[0.5555555555555556,\"#d8576b\"],[0.6666666666666666,\"#ed7953\"],[0.7777777777777778,\"#fb9f3a\"],[0.8888888888888888,\"#fdca26\"],[1.0,\"#f0f921\"]],\"type\":\"surface\"}],\"table\":[{\"cells\":{\"fill\":{\"color\":\"#EBF0F8\"},\"line\":{\"color\":\"white\"}},\"header\":{\"fill\":{\"color\":\"#C8D4E3\"},\"line\":{\"color\":\"white\"}},\"type\":\"table\"}]},\"layout\":{\"annotationdefaults\":{\"arrowcolor\":\"#2a3f5f\",\"arrowhead\":0,\"arrowwidth\":1},\"autotypenumbers\":\"strict\",\"coloraxis\":{\"colorbar\":{\"outlinewidth\":0,\"ticks\":\"\"}},\"colorscale\":{\"diverging\":[[0,\"#8e0152\"],[0.1,\"#c51b7d\"],[0.2,\"#de77ae\"],[0.3,\"#f1b6da\"],[0.4,\"#fde0ef\"],[0.5,\"#f7f7f7\"],[0.6,\"#e6f5d0\"],[0.7,\"#b8e186\"],[0.8,\"#7fbc41\"],[0.9,\"#4d9221\"],[1,\"#276419\"]],\"sequential\":[[0.0,\"#0d0887\"],[0.1111111111111111,\"#46039f\"],[0.2222222222222222,\"#7201a8\"],[0.3333333333333333,\"#9c179e\"],[0.4444444444444444,\"#bd3786\"],[0.5555555555555556,\"#d8576b\"],[0.6666666666666666,\"#ed7953\"],[0.7777777777777778,\"#fb9f3a\"],[0.8888888888888888,\"#fdca26\"],[1.0,\"#f0f921\"]],\"sequentialminus\":[[0.0,\"#0d0887\"],[0.1111111111111111,\"#46039f\"],[0.2222222222222222,\"#7201a8\"],[0.3333333333333333,\"#9c179e\"],[0.4444444444444444,\"#bd3786\"],[0.5555555555555556,\"#d8576b\"],[0.6666666666666666,\"#ed7953\"],[0.7777777777777778,\"#fb9f3a\"],[0.8888888888888888,\"#fdca26\"],[1.0,\"#f0f921\"]]},\"colorway\":[\"#636efa\",\"#EF553B\",\"#00cc96\",\"#ab63fa\",\"#FFA15A\",\"#19d3f3\",\"#FF6692\",\"#B6E880\",\"#FF97FF\",\"#FECB52\"],\"font\":{\"color\":\"#2a3f5f\"},\"geo\":{\"bgcolor\":\"white\",\"lakecolor\":\"white\",\"landcolor\":\"#E5ECF6\",\"showlakes\":true,\"showland\":true,\"subunitcolor\":\"white\"},\"hoverlabel\":{\"align\":\"left\"},\"hovermode\":\"closest\",\"mapbox\":{\"style\":\"light\"},\"paper_bgcolor\":\"white\",\"plot_bgcolor\":\"#E5ECF6\",\"polar\":{\"angularaxis\":{\"gridcolor\":\"white\",\"linecolor\":\"white\",\"ticks\":\"\"},\"bgcolor\":\"#E5ECF6\",\"radialaxis\":{\"gridcolor\":\"white\",\"linecolor\":\"white\",\"ticks\":\"\"}},\"scene\":{\"xaxis\":{\"backgroundcolor\":\"#E5ECF6\",\"gridcolor\":\"white\",\"gridwidth\":2,\"linecolor\":\"white\",\"showbackground\":true,\"ticks\":\"\",\"zerolinecolor\":\"white\"},\"yaxis\":{\"backgroundcolor\":\"#E5ECF6\",\"gridcolor\":\"white\",\"gridwidth\":2,\"linecolor\":\"white\",\"showbackground\":true,\"ticks\":\"\",\"zerolinecolor\":\"white\"},\"zaxis\":{\"backgroundcolor\":\"#E5ECF6\",\"gridcolor\":\"white\",\"gridwidth\":2,\"linecolor\":\"white\",\"showbackground\":true,\"ticks\":\"\",\"zerolinecolor\":\"white\"}},\"shapedefaults\":{\"line\":{\"color\":\"#2a3f5f\"}},\"ternary\":{\"aaxis\":{\"gridcolor\":\"white\",\"linecolor\":\"white\",\"ticks\":\"\"},\"baxis\":{\"gridcolor\":\"white\",\"linecolor\":\"white\",\"ticks\":\"\"},\"bgcolor\":\"#E5ECF6\",\"caxis\":{\"gridcolor\":\"white\",\"linecolor\":\"white\",\"ticks\":\"\"}},\"title\":{\"x\":0.05},\"xaxis\":{\"automargin\":true,\"gridcolor\":\"white\",\"linecolor\":\"white\",\"ticks\":\"\",\"title\":{\"standoff\":15},\"zerolinecolor\":\"white\",\"zerolinewidth\":2},\"yaxis\":{\"automargin\":true,\"gridcolor\":\"white\",\"linecolor\":\"white\",\"ticks\":\"\",\"title\":{\"standoff\":15},\"zerolinecolor\":\"white\",\"zerolinewidth\":2}}},\"title\":{\"font\":{\"color\":\"#4D5663\"}},\"xaxis\":{\"gridcolor\":\"#E1E5ED\",\"showgrid\":true,\"tickfont\":{\"color\":\"#4D5663\"},\"title\":{\"font\":{\"color\":\"#4D5663\"},\"text\":\"\"},\"zerolinecolor\":\"#E1E5ED\"},\"yaxis\":{\"gridcolor\":\"#E1E5ED\",\"showgrid\":true,\"tickfont\":{\"color\":\"#4D5663\"},\"title\":{\"font\":{\"color\":\"#4D5663\"},\"text\":\"\"},\"zerolinecolor\":\"#E1E5ED\"}},                        {\"showLink\": true, \"linkText\": \"Export to plot.ly\", \"plotlyServerURL\": \"https://plot.ly\", \"responsive\": true}                    ).then(function(){\n",
       "                            \n",
       "var gd = document.getElementById('a9fdaa49-5682-4716-b2b5-4c3097f90351');\n",
       "var x = new MutationObserver(function (mutations, observer) {{\n",
       "        var display = window.getComputedStyle(gd).display;\n",
       "        if (!display || display === 'none') {{\n",
       "            console.log([gd, 'removed!']);\n",
       "            Plotly.purge(gd);\n",
       "            observer.disconnect();\n",
       "        }}\n",
       "}});\n",
       "\n",
       "// Listen for the removal of the full notebook cells\n",
       "var notebookContainer = gd.closest('#notebook-container');\n",
       "if (notebookContainer) {{\n",
       "    x.observe(notebookContainer, {childList: true});\n",
       "}}\n",
       "\n",
       "// Listen for the clearing of the current output cell\n",
       "var outputEl = gd.closest('.output');\n",
       "if (outputEl) {{\n",
       "    x.observe(outputEl, {childList: true});\n",
       "}}\n",
       "\n",
       "                        })                };                });            </script>        </div>"
      ]
     },
     "metadata": {},
     "output_type": "display_data"
    }
   ],
   "source": [
    "df.iplot(kind='hist',bins=50)"
   ]
  },
  {
   "cell_type": "code",
   "execution_count": 24,
   "metadata": {},
   "outputs": [
    {
     "data": {
      "application/vnd.plotly.v1+json": {
       "config": {
        "linkText": "Export to plot.ly",
        "plotlyServerURL": "https://plot.ly",
        "showLink": true
       },
       "data": [
        {
         "line": {
          "color": "rgba(255, 153, 51, 1.0)",
          "dash": "solid",
          "shape": "linear",
          "width": 1.3
         },
         "mode": "lines",
         "name": "A",
         "text": "",
         "type": "scatter",
         "x": [
          0,
          1,
          2,
          3,
          4,
          5,
          6,
          7,
          8,
          9,
          10,
          11,
          12,
          13,
          14,
          15,
          16,
          17,
          18,
          19,
          20,
          21,
          22,
          23,
          24,
          25,
          26,
          27,
          28,
          29,
          30,
          31,
          32,
          33,
          34,
          35,
          36,
          37,
          38,
          39,
          40,
          41,
          42,
          43,
          44,
          45,
          46,
          47,
          48,
          49,
          50,
          51,
          52,
          53,
          54,
          55,
          56,
          57,
          58,
          59,
          60,
          61,
          62,
          63,
          64,
          65,
          66,
          67,
          68,
          69,
          70,
          71,
          72,
          73,
          74,
          75,
          76,
          77,
          78,
          79,
          80,
          81,
          82,
          83,
          84,
          85,
          86,
          87,
          88,
          89,
          90,
          91,
          92,
          93,
          94,
          95,
          96,
          97,
          98,
          99
         ],
         "y": [
          -1.1024981471016053,
          0.45532653178486426,
          0.40391046008714476,
          -0.2809970042901508,
          0.7989989325364689,
          1.0832583953209949,
          -1.234209784210434,
          0.3224994409690922,
          -0.3242087708237595,
          -0.1284653156020744,
          -0.7552748291440724,
          0.8184288968726566,
          0.5422845891231438,
          0.10789901010090519,
          -0.32139817008019994,
          -0.7963759333281335,
          -0.39037680946255826,
          -2.2655403217214696,
          0.5167189806038817,
          1.0311119027127906,
          -0.7280729939339882,
          2.2399138984961033,
          -1.2752392088928555,
          -0.5378918136584961,
          2.0295510309720433,
          0.23191793912741354,
          -0.7489274861749667,
          0.1804315695573513,
          -1.076899175942572,
          0.1480646205053287,
          -2.067689597756462,
          -0.6242648055288316,
          1.9205984896737025,
          -0.6626634145557857,
          0.43755162941932596,
          -0.08301825934472241,
          1.6979277445032026,
          1.3214093229538189,
          -0.5063299960070593,
          -0.0634250885800641,
          1.5099246615970119,
          -0.06181082497718354,
          -0.3409827236091026,
          -0.33324862190788684,
          1.500014889723033,
          -1.5918283819078909,
          0.1436883889894132,
          1.5756106661076734,
          -0.32506572639260684,
          0.37798144298626746,
          0.46348546666861756,
          -2.051188827144377,
          -1.0172458205234336,
          -0.5070704946445844,
          -0.8478731955080303,
          -0.2334924377631749,
          0.19262355458803307,
          -1.3003949447844079,
          -0.9149035966488548,
          0.8229650720355511,
          1.3006243742931636,
          -0.4126201075864305,
          -0.6711296866905244,
          -0.4405250418337267,
          -0.5651290513169568,
          1.0196385357067541,
          0.5877685488555959,
          -0.3945490445285969,
          0.8054155111464418,
          -1.0217863363909698,
          0.46049889877191597,
          0.57181539365208,
          -0.8625271604108457,
          -0.46000004554287016,
          0.02716586732277476,
          0.6816588980785862,
          -0.4668112307509774,
          0.25228987992077717,
          0.8669165806315857,
          0.847033573383717,
          -1.3863133841285744,
          -0.01553686633329219,
          -0.2740973426119702,
          0.043616214784867754,
          -2.1647128799946276,
          -0.05182135785862414,
          -1.384645553366656,
          0.4027841869433865,
          0.11479059202803563,
          0.3819374624127815,
          0.22205933188988886,
          0.9355340173488559,
          -0.2765941836604982,
          0.954866972229284,
          1.073857686349574,
          -1.1885752619110412,
          0.28988033179079464,
          0.8151597284421718,
          -0.9941872219563699,
          1.5368506591655258
         ]
        },
        {
         "line": {
          "color": "rgba(55, 128, 191, 1.0)",
          "dash": "solid",
          "shape": "linear",
          "width": 1.3
         },
         "mode": "lines",
         "name": "B",
         "text": "",
         "type": "scatter",
         "x": [
          0,
          1,
          2,
          3,
          4,
          5,
          6,
          7,
          8,
          9,
          10,
          11,
          12,
          13,
          14,
          15,
          16,
          17,
          18,
          19,
          20,
          21,
          22,
          23,
          24,
          25,
          26,
          27,
          28,
          29,
          30,
          31,
          32,
          33,
          34,
          35,
          36,
          37,
          38,
          39,
          40,
          41,
          42,
          43,
          44,
          45,
          46,
          47,
          48,
          49,
          50,
          51,
          52,
          53,
          54,
          55,
          56,
          57,
          58,
          59,
          60,
          61,
          62,
          63,
          64,
          65,
          66,
          67,
          68,
          69,
          70,
          71,
          72,
          73,
          74,
          75,
          76,
          77,
          78,
          79,
          80,
          81,
          82,
          83,
          84,
          85,
          86,
          87,
          88,
          89,
          90,
          91,
          92,
          93,
          94,
          95,
          96,
          97,
          98,
          99
         ],
         "y": [
          -0.8713196634022675,
          -1.767211174819314,
          -1.0350908487091959,
          -0.08072812492485895,
          -1.1951142174006553,
          -1.8471571622199414,
          1.8801067041568933,
          -1.1058767571189025,
          0.40937518520839133,
          0.5074882970638703,
          -0.9099081392282109,
          -0.23390168778098436,
          1.3793033998833388,
          -0.03876003474237771,
          1.38539784508653,
          0.8040467182086181,
          -1.9859688198263412,
          1.4318814602300922,
          0.2856696833736994,
          -0.02734422820736344,
          2.2604852635308466,
          0.3437984522726635,
          -1.6199777026322286,
          -1.6252434641567413,
          0.819414661012346,
          0.8718682984632122,
          -0.9577172169711519,
          0.26839737955878556,
          1.3259952049003743,
          -0.5112436727714154,
          1.5282438868112913,
          0.46111855997757906,
          0.5103298218556396,
          -1.6594959487403262,
          0.5897407100948779,
          -0.0702770913251112,
          2.145076222618863,
          -0.3302738874863218,
          1.7954077585596733,
          -0.32578556653973817,
          0.8364388798723189,
          0.22696433098098545,
          -0.8327353257833802,
          -1.015031002671774,
          0.37786457003176177,
          -0.8097117301574803,
          -0.9985378053285431,
          0.5203569062543102,
          0.4818184236235761,
          -0.8441091152069875,
          1.2708165965970095,
          -0.70334138878969,
          1.0694277546339286,
          0.6254820710794478,
          -0.009766599509518017,
          0.10566623768884706,
          -0.38865979307592985,
          -0.4287810605985193,
          -0.3739451959228925,
          -0.9145143264683828,
          2.625130148137943,
          0.2778968503855602,
          0.9934389776868553,
          -0.9072450113031999,
          0.5210933674015816,
          0.0830080569450399,
          0.14620986056202875,
          -0.4516254448680814,
          1.1997048520705935,
          -0.45206800531489205,
          1.0943552757896906,
          0.9640478674870745,
          -1.6536100269234513,
          0.101149502791871,
          -0.4152232250614539,
          0.6152742885080315,
          0.2106406522997461,
          0.0019031646346197241,
          0.602635626247644,
          -1.715601158322781,
          0.5628710900741206,
          -0.1294924891033397,
          -0.6355075840796094,
          1.2649381157969501,
          0.02498520572713563,
          0.5104545781590395,
          -0.5702951302023916,
          1.7309202655032256,
          1.2879164184864185,
          -0.36438719814264675,
          0.2745117757241402,
          -0.07135501369983091,
          -0.10594911360867416,
          0.2004243601221823,
          0.5662466524036643,
          0.4151771166224692,
          2.0414607940726452,
          0.3982025407248406,
          -1.2995806760810338,
          0.982890176174143
         ]
        },
        {
         "connectgaps": false,
         "fill": "tozeroy",
         "line": {
          "color": "green",
          "dash": "solid",
          "shape": "linear",
          "width": 0.5
         },
         "mode": "lines",
         "name": "Spread",
         "showlegend": false,
         "type": "scatter",
         "x": [
          0,
          1,
          2,
          3,
          4,
          5,
          6,
          7,
          8,
          9,
          10,
          11,
          12,
          13,
          14,
          15,
          16,
          17,
          18,
          19,
          20,
          21,
          22,
          23,
          24,
          25,
          26,
          27,
          28,
          29,
          30,
          31,
          32,
          33,
          34,
          35,
          36,
          37,
          38,
          39,
          40,
          41,
          42,
          43,
          44,
          45,
          46,
          47,
          48,
          49,
          50,
          51,
          52,
          53,
          54,
          55,
          56,
          57,
          58,
          59,
          60,
          61,
          62,
          63,
          64,
          65,
          66,
          67,
          68,
          69,
          70,
          71,
          72,
          73,
          74,
          75,
          76,
          77,
          78,
          79,
          80,
          81,
          82,
          83,
          84,
          85,
          86,
          87,
          88,
          89,
          90,
          91,
          92,
          93,
          94,
          95,
          96,
          97,
          98,
          99
         ],
         "xaxis": "x2",
         "y": [
          "",
          2.2225377066041783,
          1.4390013087963407,
          "",
          1.994113149937124,
          2.930415557540936,
          "",
          1.4283761980879948,
          "",
          "",
          0.1546333100841385,
          1.052330584653641,
          "",
          0.1466590448432829,
          "",
          "",
          1.595592010363783,
          "",
          0.23104929723018225,
          1.0584561309201541,
          "",
          1.89611544622344,
          0.34473849373937315,
          1.087351650498245,
          1.2101363699596974,
          "",
          0.20878973079618512,
          "",
          "",
          0.659308293276744,
          "",
          "",
          1.410268667818063,
          0.9968325341845405,
          "",
          "",
          "",
          1.6516832104401407,
          "",
          0.2623604779596741,
          0.673485781724693,
          "",
          0.4917526021742776,
          0.6817823807638871,
          1.1221503196912712,
          "",
          1.1422261943179564,
          1.0552537598533633,
          "",
          1.2220905581932549,
          "",
          "",
          "",
          "",
          "",
          "",
          0.581283347663963,
          "",
          "",
          1.7374793985039338,
          "",
          "",
          "",
          0.4667199694694732,
          "",
          0.9366304787617142,
          0.44155868829356715,
          0.05707640033948452,
          "",
          "",
          "",
          "",
          0.7910828665126056,
          "",
          0.4423890923842287,
          0.0663846095705547,
          "",
          0.25038671528615747,
          0.2642809543839417,
          2.562634731706498,
          "",
          0.11395562277004749,
          0.36141024146763917,
          "",
          "",
          "",
          "",
          "",
          "",
          0.7463246605554282,
          "",
          1.0068890310486869,
          "",
          0.7544426121071017,
          0.5076110339459096,
          "",
          "",
          0.41695718771733115,
          0.3053934541246639,
          0.5539604829913828
         ],
         "yaxis": "y2"
        },
        {
         "connectgaps": false,
         "fill": "tozeroy",
         "line": {
          "color": "red",
          "dash": "solid",
          "shape": "linear",
          "width": 0.5
         },
         "mode": "lines",
         "name": "Spread",
         "showlegend": false,
         "type": "scatter",
         "x": [
          0,
          1,
          2,
          3,
          4,
          5,
          6,
          7,
          8,
          9,
          10,
          11,
          12,
          13,
          14,
          15,
          16,
          17,
          18,
          19,
          20,
          21,
          22,
          23,
          24,
          25,
          26,
          27,
          28,
          29,
          30,
          31,
          32,
          33,
          34,
          35,
          36,
          37,
          38,
          39,
          40,
          41,
          42,
          43,
          44,
          45,
          46,
          47,
          48,
          49,
          50,
          51,
          52,
          53,
          54,
          55,
          56,
          57,
          58,
          59,
          60,
          61,
          62,
          63,
          64,
          65,
          66,
          67,
          68,
          69,
          70,
          71,
          72,
          73,
          74,
          75,
          76,
          77,
          78,
          79,
          80,
          81,
          82,
          83,
          84,
          85,
          86,
          87,
          88,
          89,
          90,
          91,
          92,
          93,
          94,
          95,
          96,
          97,
          98,
          99
         ],
         "xaxis": "x2",
         "y": [
          -0.2311784836993378,
          "",
          "",
          -0.20026887936529184,
          "",
          "",
          -3.1143164883673276,
          "",
          -0.7335839560321509,
          -0.6359536126659447,
          "",
          "",
          -0.837018810760195,
          "",
          -1.70679601516673,
          -1.6004226515367517,
          "",
          -3.6974217819515616,
          "",
          "",
          -2.9885582574648346,
          "",
          "",
          "",
          "",
          -0.6399503593357987,
          "",
          -0.08796581000143427,
          -2.4028943808429464,
          "",
          -3.5959334845677535,
          -1.0853833655064107,
          "",
          "",
          -0.15218908067555198,
          -0.012741168019611213,
          -0.4471484781156603,
          "",
          -2.301737754566733,
          "",
          "",
          -0.288775155958169,
          "",
          "",
          "",
          -0.7821166517504106,
          "",
          "",
          -0.806884150016183,
          "",
          -0.807331129928392,
          -1.3478474383546868,
          -2.086673575157362,
          -1.132552565724032,
          -0.8381065959985123,
          -0.33915867545202194,
          "",
          -0.8716138841858886,
          -0.5409584007259622,
          "",
          -1.3245057738447796,
          -0.6905169579719908,
          -1.6645686643773798,
          "",
          -1.0862224187185383,
          "",
          "",
          "",
          -0.3942893409241517,
          -0.5697183310760778,
          -0.6338563770177746,
          -0.3922324738349945,
          "",
          -0.5611495483347412,
          "",
          "",
          -0.6774518830507235,
          "",
          "",
          "",
          -1.9491844742026951,
          "",
          "",
          -1.2213219010120824,
          -2.1896980857217634,
          -0.5622759360176637,
          -0.8143504231642643,
          -1.328136078559839,
          -1.1731258264583828,
          "",
          -0.05245244383425135,
          "",
          -0.17064507005182405,
          "",
          "",
          -1.6037523785335104,
          -1.7515804622818507,
          "",
          "",
          ""
         ],
         "yaxis": "y2"
        }
       ],
       "layout": {
        "hovermode": "x",
        "legend": {
         "bgcolor": "#F5F6F9",
         "font": {
          "color": "#4D5663"
         }
        },
        "paper_bgcolor": "#F5F6F9",
        "plot_bgcolor": "#F5F6F9",
        "template": {
         "data": {
          "bar": [
           {
            "error_x": {
             "color": "#2a3f5f"
            },
            "error_y": {
             "color": "#2a3f5f"
            },
            "marker": {
             "line": {
              "color": "#E5ECF6",
              "width": 0.5
             },
             "pattern": {
              "fillmode": "overlay",
              "size": 10,
              "solidity": 0.2
             }
            },
            "type": "bar"
           }
          ],
          "barpolar": [
           {
            "marker": {
             "line": {
              "color": "#E5ECF6",
              "width": 0.5
             },
             "pattern": {
              "fillmode": "overlay",
              "size": 10,
              "solidity": 0.2
             }
            },
            "type": "barpolar"
           }
          ],
          "carpet": [
           {
            "aaxis": {
             "endlinecolor": "#2a3f5f",
             "gridcolor": "white",
             "linecolor": "white",
             "minorgridcolor": "white",
             "startlinecolor": "#2a3f5f"
            },
            "baxis": {
             "endlinecolor": "#2a3f5f",
             "gridcolor": "white",
             "linecolor": "white",
             "minorgridcolor": "white",
             "startlinecolor": "#2a3f5f"
            },
            "type": "carpet"
           }
          ],
          "choropleth": [
           {
            "colorbar": {
             "outlinewidth": 0,
             "ticks": ""
            },
            "type": "choropleth"
           }
          ],
          "contour": [
           {
            "colorbar": {
             "outlinewidth": 0,
             "ticks": ""
            },
            "colorscale": [
             [
              0,
              "#0d0887"
             ],
             [
              0.1111111111111111,
              "#46039f"
             ],
             [
              0.2222222222222222,
              "#7201a8"
             ],
             [
              0.3333333333333333,
              "#9c179e"
             ],
             [
              0.4444444444444444,
              "#bd3786"
             ],
             [
              0.5555555555555556,
              "#d8576b"
             ],
             [
              0.6666666666666666,
              "#ed7953"
             ],
             [
              0.7777777777777778,
              "#fb9f3a"
             ],
             [
              0.8888888888888888,
              "#fdca26"
             ],
             [
              1,
              "#f0f921"
             ]
            ],
            "type": "contour"
           }
          ],
          "contourcarpet": [
           {
            "colorbar": {
             "outlinewidth": 0,
             "ticks": ""
            },
            "type": "contourcarpet"
           }
          ],
          "heatmap": [
           {
            "colorbar": {
             "outlinewidth": 0,
             "ticks": ""
            },
            "colorscale": [
             [
              0,
              "#0d0887"
             ],
             [
              0.1111111111111111,
              "#46039f"
             ],
             [
              0.2222222222222222,
              "#7201a8"
             ],
             [
              0.3333333333333333,
              "#9c179e"
             ],
             [
              0.4444444444444444,
              "#bd3786"
             ],
             [
              0.5555555555555556,
              "#d8576b"
             ],
             [
              0.6666666666666666,
              "#ed7953"
             ],
             [
              0.7777777777777778,
              "#fb9f3a"
             ],
             [
              0.8888888888888888,
              "#fdca26"
             ],
             [
              1,
              "#f0f921"
             ]
            ],
            "type": "heatmap"
           }
          ],
          "heatmapgl": [
           {
            "colorbar": {
             "outlinewidth": 0,
             "ticks": ""
            },
            "colorscale": [
             [
              0,
              "#0d0887"
             ],
             [
              0.1111111111111111,
              "#46039f"
             ],
             [
              0.2222222222222222,
              "#7201a8"
             ],
             [
              0.3333333333333333,
              "#9c179e"
             ],
             [
              0.4444444444444444,
              "#bd3786"
             ],
             [
              0.5555555555555556,
              "#d8576b"
             ],
             [
              0.6666666666666666,
              "#ed7953"
             ],
             [
              0.7777777777777778,
              "#fb9f3a"
             ],
             [
              0.8888888888888888,
              "#fdca26"
             ],
             [
              1,
              "#f0f921"
             ]
            ],
            "type": "heatmapgl"
           }
          ],
          "histogram": [
           {
            "marker": {
             "pattern": {
              "fillmode": "overlay",
              "size": 10,
              "solidity": 0.2
             }
            },
            "type": "histogram"
           }
          ],
          "histogram2d": [
           {
            "colorbar": {
             "outlinewidth": 0,
             "ticks": ""
            },
            "colorscale": [
             [
              0,
              "#0d0887"
             ],
             [
              0.1111111111111111,
              "#46039f"
             ],
             [
              0.2222222222222222,
              "#7201a8"
             ],
             [
              0.3333333333333333,
              "#9c179e"
             ],
             [
              0.4444444444444444,
              "#bd3786"
             ],
             [
              0.5555555555555556,
              "#d8576b"
             ],
             [
              0.6666666666666666,
              "#ed7953"
             ],
             [
              0.7777777777777778,
              "#fb9f3a"
             ],
             [
              0.8888888888888888,
              "#fdca26"
             ],
             [
              1,
              "#f0f921"
             ]
            ],
            "type": "histogram2d"
           }
          ],
          "histogram2dcontour": [
           {
            "colorbar": {
             "outlinewidth": 0,
             "ticks": ""
            },
            "colorscale": [
             [
              0,
              "#0d0887"
             ],
             [
              0.1111111111111111,
              "#46039f"
             ],
             [
              0.2222222222222222,
              "#7201a8"
             ],
             [
              0.3333333333333333,
              "#9c179e"
             ],
             [
              0.4444444444444444,
              "#bd3786"
             ],
             [
              0.5555555555555556,
              "#d8576b"
             ],
             [
              0.6666666666666666,
              "#ed7953"
             ],
             [
              0.7777777777777778,
              "#fb9f3a"
             ],
             [
              0.8888888888888888,
              "#fdca26"
             ],
             [
              1,
              "#f0f921"
             ]
            ],
            "type": "histogram2dcontour"
           }
          ],
          "mesh3d": [
           {
            "colorbar": {
             "outlinewidth": 0,
             "ticks": ""
            },
            "type": "mesh3d"
           }
          ],
          "parcoords": [
           {
            "line": {
             "colorbar": {
              "outlinewidth": 0,
              "ticks": ""
             }
            },
            "type": "parcoords"
           }
          ],
          "pie": [
           {
            "automargin": true,
            "type": "pie"
           }
          ],
          "scatter": [
           {
            "fillpattern": {
             "fillmode": "overlay",
             "size": 10,
             "solidity": 0.2
            },
            "type": "scatter"
           }
          ],
          "scatter3d": [
           {
            "line": {
             "colorbar": {
              "outlinewidth": 0,
              "ticks": ""
             }
            },
            "marker": {
             "colorbar": {
              "outlinewidth": 0,
              "ticks": ""
             }
            },
            "type": "scatter3d"
           }
          ],
          "scattercarpet": [
           {
            "marker": {
             "colorbar": {
              "outlinewidth": 0,
              "ticks": ""
             }
            },
            "type": "scattercarpet"
           }
          ],
          "scattergeo": [
           {
            "marker": {
             "colorbar": {
              "outlinewidth": 0,
              "ticks": ""
             }
            },
            "type": "scattergeo"
           }
          ],
          "scattergl": [
           {
            "marker": {
             "colorbar": {
              "outlinewidth": 0,
              "ticks": ""
             }
            },
            "type": "scattergl"
           }
          ],
          "scattermapbox": [
           {
            "marker": {
             "colorbar": {
              "outlinewidth": 0,
              "ticks": ""
             }
            },
            "type": "scattermapbox"
           }
          ],
          "scatterpolar": [
           {
            "marker": {
             "colorbar": {
              "outlinewidth": 0,
              "ticks": ""
             }
            },
            "type": "scatterpolar"
           }
          ],
          "scatterpolargl": [
           {
            "marker": {
             "colorbar": {
              "outlinewidth": 0,
              "ticks": ""
             }
            },
            "type": "scatterpolargl"
           }
          ],
          "scatterternary": [
           {
            "marker": {
             "colorbar": {
              "outlinewidth": 0,
              "ticks": ""
             }
            },
            "type": "scatterternary"
           }
          ],
          "surface": [
           {
            "colorbar": {
             "outlinewidth": 0,
             "ticks": ""
            },
            "colorscale": [
             [
              0,
              "#0d0887"
             ],
             [
              0.1111111111111111,
              "#46039f"
             ],
             [
              0.2222222222222222,
              "#7201a8"
             ],
             [
              0.3333333333333333,
              "#9c179e"
             ],
             [
              0.4444444444444444,
              "#bd3786"
             ],
             [
              0.5555555555555556,
              "#d8576b"
             ],
             [
              0.6666666666666666,
              "#ed7953"
             ],
             [
              0.7777777777777778,
              "#fb9f3a"
             ],
             [
              0.8888888888888888,
              "#fdca26"
             ],
             [
              1,
              "#f0f921"
             ]
            ],
            "type": "surface"
           }
          ],
          "table": [
           {
            "cells": {
             "fill": {
              "color": "#EBF0F8"
             },
             "line": {
              "color": "white"
             }
            },
            "header": {
             "fill": {
              "color": "#C8D4E3"
             },
             "line": {
              "color": "white"
             }
            },
            "type": "table"
           }
          ]
         },
         "layout": {
          "annotationdefaults": {
           "arrowcolor": "#2a3f5f",
           "arrowhead": 0,
           "arrowwidth": 1
          },
          "autotypenumbers": "strict",
          "coloraxis": {
           "colorbar": {
            "outlinewidth": 0,
            "ticks": ""
           }
          },
          "colorscale": {
           "diverging": [
            [
             0,
             "#8e0152"
            ],
            [
             0.1,
             "#c51b7d"
            ],
            [
             0.2,
             "#de77ae"
            ],
            [
             0.3,
             "#f1b6da"
            ],
            [
             0.4,
             "#fde0ef"
            ],
            [
             0.5,
             "#f7f7f7"
            ],
            [
             0.6,
             "#e6f5d0"
            ],
            [
             0.7,
             "#b8e186"
            ],
            [
             0.8,
             "#7fbc41"
            ],
            [
             0.9,
             "#4d9221"
            ],
            [
             1,
             "#276419"
            ]
           ],
           "sequential": [
            [
             0,
             "#0d0887"
            ],
            [
             0.1111111111111111,
             "#46039f"
            ],
            [
             0.2222222222222222,
             "#7201a8"
            ],
            [
             0.3333333333333333,
             "#9c179e"
            ],
            [
             0.4444444444444444,
             "#bd3786"
            ],
            [
             0.5555555555555556,
             "#d8576b"
            ],
            [
             0.6666666666666666,
             "#ed7953"
            ],
            [
             0.7777777777777778,
             "#fb9f3a"
            ],
            [
             0.8888888888888888,
             "#fdca26"
            ],
            [
             1,
             "#f0f921"
            ]
           ],
           "sequentialminus": [
            [
             0,
             "#0d0887"
            ],
            [
             0.1111111111111111,
             "#46039f"
            ],
            [
             0.2222222222222222,
             "#7201a8"
            ],
            [
             0.3333333333333333,
             "#9c179e"
            ],
            [
             0.4444444444444444,
             "#bd3786"
            ],
            [
             0.5555555555555556,
             "#d8576b"
            ],
            [
             0.6666666666666666,
             "#ed7953"
            ],
            [
             0.7777777777777778,
             "#fb9f3a"
            ],
            [
             0.8888888888888888,
             "#fdca26"
            ],
            [
             1,
             "#f0f921"
            ]
           ]
          },
          "colorway": [
           "#636efa",
           "#EF553B",
           "#00cc96",
           "#ab63fa",
           "#FFA15A",
           "#19d3f3",
           "#FF6692",
           "#B6E880",
           "#FF97FF",
           "#FECB52"
          ],
          "font": {
           "color": "#2a3f5f"
          },
          "geo": {
           "bgcolor": "white",
           "lakecolor": "white",
           "landcolor": "#E5ECF6",
           "showlakes": true,
           "showland": true,
           "subunitcolor": "white"
          },
          "hoverlabel": {
           "align": "left"
          },
          "hovermode": "closest",
          "mapbox": {
           "style": "light"
          },
          "paper_bgcolor": "white",
          "plot_bgcolor": "#E5ECF6",
          "polar": {
           "angularaxis": {
            "gridcolor": "white",
            "linecolor": "white",
            "ticks": ""
           },
           "bgcolor": "#E5ECF6",
           "radialaxis": {
            "gridcolor": "white",
            "linecolor": "white",
            "ticks": ""
           }
          },
          "scene": {
           "xaxis": {
            "backgroundcolor": "#E5ECF6",
            "gridcolor": "white",
            "gridwidth": 2,
            "linecolor": "white",
            "showbackground": true,
            "ticks": "",
            "zerolinecolor": "white"
           },
           "yaxis": {
            "backgroundcolor": "#E5ECF6",
            "gridcolor": "white",
            "gridwidth": 2,
            "linecolor": "white",
            "showbackground": true,
            "ticks": "",
            "zerolinecolor": "white"
           },
           "zaxis": {
            "backgroundcolor": "#E5ECF6",
            "gridcolor": "white",
            "gridwidth": 2,
            "linecolor": "white",
            "showbackground": true,
            "ticks": "",
            "zerolinecolor": "white"
           }
          },
          "shapedefaults": {
           "line": {
            "color": "#2a3f5f"
           }
          },
          "ternary": {
           "aaxis": {
            "gridcolor": "white",
            "linecolor": "white",
            "ticks": ""
           },
           "baxis": {
            "gridcolor": "white",
            "linecolor": "white",
            "ticks": ""
           },
           "bgcolor": "#E5ECF6",
           "caxis": {
            "gridcolor": "white",
            "linecolor": "white",
            "ticks": ""
           }
          },
          "title": {
           "x": 0.05
          },
          "xaxis": {
           "automargin": true,
           "gridcolor": "white",
           "linecolor": "white",
           "ticks": "",
           "title": {
            "standoff": 15
           },
           "zerolinecolor": "white",
           "zerolinewidth": 2
          },
          "yaxis": {
           "automargin": true,
           "gridcolor": "white",
           "linecolor": "white",
           "ticks": "",
           "title": {
            "standoff": 15
           },
           "zerolinecolor": "white",
           "zerolinewidth": 2
          }
         }
        },
        "title": {
         "font": {
          "color": "#4D5663"
         }
        },
        "xaxis": {
         "gridcolor": "#E1E5ED",
         "showgrid": true,
         "tickfont": {
          "color": "#4D5663"
         },
         "title": {
          "font": {
           "color": "#4D5663"
          },
          "text": ""
         },
         "zerolinecolor": "#E1E5ED"
        },
        "xaxis2": {
         "anchor": "y2",
         "gridcolor": "#E1E5ED",
         "showgrid": true,
         "showticklabels": false,
         "tickfont": {
          "color": "#4D5663"
         },
         "title": {
          "font": {
           "color": "#4D5663"
          },
          "text": ""
         },
         "zerolinecolor": "#E1E5ED"
        },
        "yaxis": {
         "domain": [
          0.3,
          1
         ],
         "gridcolor": "#E1E5ED",
         "showgrid": true,
         "tickfont": {
          "color": "#4D5663"
         },
         "title": {
          "font": {
           "color": "#4D5663"
          },
          "text": ""
         },
         "zerolinecolor": "#E1E5ED"
        },
        "yaxis2": {
         "domain": [
          0,
          0.25
         ],
         "gridcolor": "#E1E5ED",
         "showgrid": true,
         "tickfont": {
          "color": "#4D5663"
         },
         "title": {
          "font": {
           "color": "#4D5663"
          },
          "text": "Spread"
         },
         "zerolinecolor": "#E1E5ED"
        }
       }
      },
      "text/html": [
       "<div>                            <div id=\"e0a78655-a181-405b-9708-9ccace41e20f\" class=\"plotly-graph-div\" style=\"height:525px; width:100%;\"></div>            <script type=\"text/javascript\">                require([\"plotly\"], function(Plotly) {                    window.PLOTLYENV=window.PLOTLYENV || {};\n",
       "                    window.PLOTLYENV.BASE_URL='https://plot.ly';                                    if (document.getElementById(\"e0a78655-a181-405b-9708-9ccace41e20f\")) {                    Plotly.newPlot(                        \"e0a78655-a181-405b-9708-9ccace41e20f\",                        [{\"line\":{\"color\":\"rgba(255, 153, 51, 1.0)\",\"dash\":\"solid\",\"shape\":\"linear\",\"width\":1.3},\"mode\":\"lines\",\"name\":\"A\",\"text\":\"\",\"x\":[0,1,2,3,4,5,6,7,8,9,10,11,12,13,14,15,16,17,18,19,20,21,22,23,24,25,26,27,28,29,30,31,32,33,34,35,36,37,38,39,40,41,42,43,44,45,46,47,48,49,50,51,52,53,54,55,56,57,58,59,60,61,62,63,64,65,66,67,68,69,70,71,72,73,74,75,76,77,78,79,80,81,82,83,84,85,86,87,88,89,90,91,92,93,94,95,96,97,98,99],\"y\":[-1.1024981471016053,0.45532653178486426,0.40391046008714476,-0.2809970042901508,0.7989989325364689,1.0832583953209949,-1.234209784210434,0.3224994409690922,-0.3242087708237595,-0.1284653156020744,-0.7552748291440724,0.8184288968726566,0.5422845891231438,0.10789901010090519,-0.32139817008019994,-0.7963759333281335,-0.39037680946255826,-2.2655403217214696,0.5167189806038817,1.0311119027127906,-0.7280729939339882,2.2399138984961033,-1.2752392088928555,-0.5378918136584961,2.0295510309720433,0.23191793912741354,-0.7489274861749667,0.1804315695573513,-1.076899175942572,0.1480646205053287,-2.067689597756462,-0.6242648055288316,1.9205984896737025,-0.6626634145557857,0.43755162941932596,-0.08301825934472241,1.6979277445032026,1.3214093229538189,-0.5063299960070593,-0.0634250885800641,1.5099246615970119,-0.06181082497718354,-0.3409827236091026,-0.33324862190788684,1.500014889723033,-1.5918283819078909,0.1436883889894132,1.5756106661076734,-0.32506572639260684,0.37798144298626746,0.46348546666861756,-2.051188827144377,-1.0172458205234336,-0.5070704946445844,-0.8478731955080303,-0.2334924377631749,0.19262355458803307,-1.3003949447844079,-0.9149035966488548,0.8229650720355511,1.3006243742931636,-0.4126201075864305,-0.6711296866905244,-0.4405250418337267,-0.5651290513169568,1.0196385357067541,0.5877685488555959,-0.3945490445285969,0.8054155111464418,-1.0217863363909698,0.46049889877191597,0.57181539365208,-0.8625271604108457,-0.46000004554287016,0.02716586732277476,0.6816588980785862,-0.4668112307509774,0.25228987992077717,0.8669165806315857,0.847033573383717,-1.3863133841285744,-0.01553686633329219,-0.2740973426119702,0.043616214784867754,-2.1647128799946276,-0.05182135785862414,-1.384645553366656,0.4027841869433865,0.11479059202803563,0.3819374624127815,0.22205933188988886,0.9355340173488559,-0.2765941836604982,0.954866972229284,1.073857686349574,-1.1885752619110412,0.28988033179079464,0.8151597284421718,-0.9941872219563699,1.5368506591655258],\"type\":\"scatter\"},{\"line\":{\"color\":\"rgba(55, 128, 191, 1.0)\",\"dash\":\"solid\",\"shape\":\"linear\",\"width\":1.3},\"mode\":\"lines\",\"name\":\"B\",\"text\":\"\",\"x\":[0,1,2,3,4,5,6,7,8,9,10,11,12,13,14,15,16,17,18,19,20,21,22,23,24,25,26,27,28,29,30,31,32,33,34,35,36,37,38,39,40,41,42,43,44,45,46,47,48,49,50,51,52,53,54,55,56,57,58,59,60,61,62,63,64,65,66,67,68,69,70,71,72,73,74,75,76,77,78,79,80,81,82,83,84,85,86,87,88,89,90,91,92,93,94,95,96,97,98,99],\"y\":[-0.8713196634022675,-1.767211174819314,-1.0350908487091959,-0.08072812492485895,-1.1951142174006553,-1.8471571622199414,1.8801067041568933,-1.1058767571189025,0.40937518520839133,0.5074882970638703,-0.9099081392282109,-0.23390168778098436,1.3793033998833388,-0.03876003474237771,1.38539784508653,0.8040467182086181,-1.9859688198263412,1.4318814602300922,0.2856696833736994,-0.02734422820736344,2.2604852635308466,0.3437984522726635,-1.6199777026322286,-1.6252434641567413,0.819414661012346,0.8718682984632122,-0.9577172169711519,0.26839737955878556,1.3259952049003743,-0.5112436727714154,1.5282438868112913,0.46111855997757906,0.5103298218556396,-1.6594959487403262,0.5897407100948779,-0.0702770913251112,2.145076222618863,-0.3302738874863218,1.7954077585596733,-0.32578556653973817,0.8364388798723189,0.22696433098098545,-0.8327353257833802,-1.015031002671774,0.37786457003176177,-0.8097117301574803,-0.9985378053285431,0.5203569062543102,0.4818184236235761,-0.8441091152069875,1.2708165965970095,-0.70334138878969,1.0694277546339286,0.6254820710794478,-0.009766599509518017,0.10566623768884706,-0.38865979307592985,-0.4287810605985193,-0.3739451959228925,-0.9145143264683828,2.625130148137943,0.2778968503855602,0.9934389776868553,-0.9072450113031999,0.5210933674015816,0.0830080569450399,0.14620986056202875,-0.4516254448680814,1.1997048520705935,-0.45206800531489205,1.0943552757896906,0.9640478674870745,-1.6536100269234513,0.101149502791871,-0.4152232250614539,0.6152742885080315,0.2106406522997461,0.0019031646346197241,0.602635626247644,-1.715601158322781,0.5628710900741206,-0.1294924891033397,-0.6355075840796094,1.2649381157969501,0.02498520572713563,0.5104545781590395,-0.5702951302023916,1.7309202655032256,1.2879164184864185,-0.36438719814264675,0.2745117757241402,-0.07135501369983091,-0.10594911360867416,0.2004243601221823,0.5662466524036643,0.4151771166224692,2.0414607940726452,0.3982025407248406,-1.2995806760810338,0.982890176174143],\"type\":\"scatter\"},{\"connectgaps\":false,\"fill\":\"tozeroy\",\"line\":{\"color\":\"green\",\"dash\":\"solid\",\"shape\":\"linear\",\"width\":0.5},\"mode\":\"lines\",\"name\":\"Spread\",\"showlegend\":false,\"x\":[0,1,2,3,4,5,6,7,8,9,10,11,12,13,14,15,16,17,18,19,20,21,22,23,24,25,26,27,28,29,30,31,32,33,34,35,36,37,38,39,40,41,42,43,44,45,46,47,48,49,50,51,52,53,54,55,56,57,58,59,60,61,62,63,64,65,66,67,68,69,70,71,72,73,74,75,76,77,78,79,80,81,82,83,84,85,86,87,88,89,90,91,92,93,94,95,96,97,98,99],\"xaxis\":\"x2\",\"y\":[\"\",2.2225377066041783,1.4390013087963407,\"\",1.994113149937124,2.930415557540936,\"\",1.4283761980879948,\"\",\"\",0.1546333100841385,1.052330584653641,\"\",0.1466590448432829,\"\",\"\",1.595592010363783,\"\",0.23104929723018225,1.0584561309201541,\"\",1.89611544622344,0.34473849373937315,1.087351650498245,1.2101363699596974,\"\",0.20878973079618512,\"\",\"\",0.659308293276744,\"\",\"\",1.410268667818063,0.9968325341845405,\"\",\"\",\"\",1.6516832104401407,\"\",0.2623604779596741,0.673485781724693,\"\",0.4917526021742776,0.6817823807638871,1.1221503196912712,\"\",1.1422261943179564,1.0552537598533633,\"\",1.2220905581932549,\"\",\"\",\"\",\"\",\"\",\"\",0.581283347663963,\"\",\"\",1.7374793985039338,\"\",\"\",\"\",0.4667199694694732,\"\",0.9366304787617142,0.44155868829356715,0.05707640033948452,\"\",\"\",\"\",\"\",0.7910828665126056,\"\",0.4423890923842287,0.0663846095705547,\"\",0.25038671528615747,0.2642809543839417,2.562634731706498,\"\",0.11395562277004749,0.36141024146763917,\"\",\"\",\"\",\"\",\"\",\"\",0.7463246605554282,\"\",1.0068890310486869,\"\",0.7544426121071017,0.5076110339459096,\"\",\"\",0.41695718771733115,0.3053934541246639,0.5539604829913828],\"yaxis\":\"y2\",\"type\":\"scatter\"},{\"connectgaps\":false,\"fill\":\"tozeroy\",\"line\":{\"color\":\"red\",\"dash\":\"solid\",\"shape\":\"linear\",\"width\":0.5},\"mode\":\"lines\",\"name\":\"Spread\",\"showlegend\":false,\"x\":[0,1,2,3,4,5,6,7,8,9,10,11,12,13,14,15,16,17,18,19,20,21,22,23,24,25,26,27,28,29,30,31,32,33,34,35,36,37,38,39,40,41,42,43,44,45,46,47,48,49,50,51,52,53,54,55,56,57,58,59,60,61,62,63,64,65,66,67,68,69,70,71,72,73,74,75,76,77,78,79,80,81,82,83,84,85,86,87,88,89,90,91,92,93,94,95,96,97,98,99],\"xaxis\":\"x2\",\"y\":[-0.2311784836993378,\"\",\"\",-0.20026887936529184,\"\",\"\",-3.1143164883673276,\"\",-0.7335839560321509,-0.6359536126659447,\"\",\"\",-0.837018810760195,\"\",-1.70679601516673,-1.6004226515367517,\"\",-3.6974217819515616,\"\",\"\",-2.9885582574648346,\"\",\"\",\"\",\"\",-0.6399503593357987,\"\",-0.08796581000143427,-2.4028943808429464,\"\",-3.5959334845677535,-1.0853833655064107,\"\",\"\",-0.15218908067555198,-0.012741168019611213,-0.4471484781156603,\"\",-2.301737754566733,\"\",\"\",-0.288775155958169,\"\",\"\",\"\",-0.7821166517504106,\"\",\"\",-0.806884150016183,\"\",-0.807331129928392,-1.3478474383546868,-2.086673575157362,-1.132552565724032,-0.8381065959985123,-0.33915867545202194,\"\",-0.8716138841858886,-0.5409584007259622,\"\",-1.3245057738447796,-0.6905169579719908,-1.6645686643773798,\"\",-1.0862224187185383,\"\",\"\",\"\",-0.3942893409241517,-0.5697183310760778,-0.6338563770177746,-0.3922324738349945,\"\",-0.5611495483347412,\"\",\"\",-0.6774518830507235,\"\",\"\",\"\",-1.9491844742026951,\"\",\"\",-1.2213219010120824,-2.1896980857217634,-0.5622759360176637,-0.8143504231642643,-1.328136078559839,-1.1731258264583828,\"\",-0.05245244383425135,\"\",-0.17064507005182405,\"\",\"\",-1.6037523785335104,-1.7515804622818507,\"\",\"\",\"\"],\"yaxis\":\"y2\",\"type\":\"scatter\"}],                        {\"hovermode\":\"x\",\"legend\":{\"bgcolor\":\"#F5F6F9\",\"font\":{\"color\":\"#4D5663\"}},\"paper_bgcolor\":\"#F5F6F9\",\"plot_bgcolor\":\"#F5F6F9\",\"template\":{\"data\":{\"barpolar\":[{\"marker\":{\"line\":{\"color\":\"#E5ECF6\",\"width\":0.5},\"pattern\":{\"fillmode\":\"overlay\",\"size\":10,\"solidity\":0.2}},\"type\":\"barpolar\"}],\"bar\":[{\"error_x\":{\"color\":\"#2a3f5f\"},\"error_y\":{\"color\":\"#2a3f5f\"},\"marker\":{\"line\":{\"color\":\"#E5ECF6\",\"width\":0.5},\"pattern\":{\"fillmode\":\"overlay\",\"size\":10,\"solidity\":0.2}},\"type\":\"bar\"}],\"carpet\":[{\"aaxis\":{\"endlinecolor\":\"#2a3f5f\",\"gridcolor\":\"white\",\"linecolor\":\"white\",\"minorgridcolor\":\"white\",\"startlinecolor\":\"#2a3f5f\"},\"baxis\":{\"endlinecolor\":\"#2a3f5f\",\"gridcolor\":\"white\",\"linecolor\":\"white\",\"minorgridcolor\":\"white\",\"startlinecolor\":\"#2a3f5f\"},\"type\":\"carpet\"}],\"choropleth\":[{\"colorbar\":{\"outlinewidth\":0,\"ticks\":\"\"},\"type\":\"choropleth\"}],\"contourcarpet\":[{\"colorbar\":{\"outlinewidth\":0,\"ticks\":\"\"},\"type\":\"contourcarpet\"}],\"contour\":[{\"colorbar\":{\"outlinewidth\":0,\"ticks\":\"\"},\"colorscale\":[[0.0,\"#0d0887\"],[0.1111111111111111,\"#46039f\"],[0.2222222222222222,\"#7201a8\"],[0.3333333333333333,\"#9c179e\"],[0.4444444444444444,\"#bd3786\"],[0.5555555555555556,\"#d8576b\"],[0.6666666666666666,\"#ed7953\"],[0.7777777777777778,\"#fb9f3a\"],[0.8888888888888888,\"#fdca26\"],[1.0,\"#f0f921\"]],\"type\":\"contour\"}],\"heatmapgl\":[{\"colorbar\":{\"outlinewidth\":0,\"ticks\":\"\"},\"colorscale\":[[0.0,\"#0d0887\"],[0.1111111111111111,\"#46039f\"],[0.2222222222222222,\"#7201a8\"],[0.3333333333333333,\"#9c179e\"],[0.4444444444444444,\"#bd3786\"],[0.5555555555555556,\"#d8576b\"],[0.6666666666666666,\"#ed7953\"],[0.7777777777777778,\"#fb9f3a\"],[0.8888888888888888,\"#fdca26\"],[1.0,\"#f0f921\"]],\"type\":\"heatmapgl\"}],\"heatmap\":[{\"colorbar\":{\"outlinewidth\":0,\"ticks\":\"\"},\"colorscale\":[[0.0,\"#0d0887\"],[0.1111111111111111,\"#46039f\"],[0.2222222222222222,\"#7201a8\"],[0.3333333333333333,\"#9c179e\"],[0.4444444444444444,\"#bd3786\"],[0.5555555555555556,\"#d8576b\"],[0.6666666666666666,\"#ed7953\"],[0.7777777777777778,\"#fb9f3a\"],[0.8888888888888888,\"#fdca26\"],[1.0,\"#f0f921\"]],\"type\":\"heatmap\"}],\"histogram2dcontour\":[{\"colorbar\":{\"outlinewidth\":0,\"ticks\":\"\"},\"colorscale\":[[0.0,\"#0d0887\"],[0.1111111111111111,\"#46039f\"],[0.2222222222222222,\"#7201a8\"],[0.3333333333333333,\"#9c179e\"],[0.4444444444444444,\"#bd3786\"],[0.5555555555555556,\"#d8576b\"],[0.6666666666666666,\"#ed7953\"],[0.7777777777777778,\"#fb9f3a\"],[0.8888888888888888,\"#fdca26\"],[1.0,\"#f0f921\"]],\"type\":\"histogram2dcontour\"}],\"histogram2d\":[{\"colorbar\":{\"outlinewidth\":0,\"ticks\":\"\"},\"colorscale\":[[0.0,\"#0d0887\"],[0.1111111111111111,\"#46039f\"],[0.2222222222222222,\"#7201a8\"],[0.3333333333333333,\"#9c179e\"],[0.4444444444444444,\"#bd3786\"],[0.5555555555555556,\"#d8576b\"],[0.6666666666666666,\"#ed7953\"],[0.7777777777777778,\"#fb9f3a\"],[0.8888888888888888,\"#fdca26\"],[1.0,\"#f0f921\"]],\"type\":\"histogram2d\"}],\"histogram\":[{\"marker\":{\"pattern\":{\"fillmode\":\"overlay\",\"size\":10,\"solidity\":0.2}},\"type\":\"histogram\"}],\"mesh3d\":[{\"colorbar\":{\"outlinewidth\":0,\"ticks\":\"\"},\"type\":\"mesh3d\"}],\"parcoords\":[{\"line\":{\"colorbar\":{\"outlinewidth\":0,\"ticks\":\"\"}},\"type\":\"parcoords\"}],\"pie\":[{\"automargin\":true,\"type\":\"pie\"}],\"scatter3d\":[{\"line\":{\"colorbar\":{\"outlinewidth\":0,\"ticks\":\"\"}},\"marker\":{\"colorbar\":{\"outlinewidth\":0,\"ticks\":\"\"}},\"type\":\"scatter3d\"}],\"scattercarpet\":[{\"marker\":{\"colorbar\":{\"outlinewidth\":0,\"ticks\":\"\"}},\"type\":\"scattercarpet\"}],\"scattergeo\":[{\"marker\":{\"colorbar\":{\"outlinewidth\":0,\"ticks\":\"\"}},\"type\":\"scattergeo\"}],\"scattergl\":[{\"marker\":{\"colorbar\":{\"outlinewidth\":0,\"ticks\":\"\"}},\"type\":\"scattergl\"}],\"scattermapbox\":[{\"marker\":{\"colorbar\":{\"outlinewidth\":0,\"ticks\":\"\"}},\"type\":\"scattermapbox\"}],\"scatterpolargl\":[{\"marker\":{\"colorbar\":{\"outlinewidth\":0,\"ticks\":\"\"}},\"type\":\"scatterpolargl\"}],\"scatterpolar\":[{\"marker\":{\"colorbar\":{\"outlinewidth\":0,\"ticks\":\"\"}},\"type\":\"scatterpolar\"}],\"scatter\":[{\"fillpattern\":{\"fillmode\":\"overlay\",\"size\":10,\"solidity\":0.2},\"type\":\"scatter\"}],\"scatterternary\":[{\"marker\":{\"colorbar\":{\"outlinewidth\":0,\"ticks\":\"\"}},\"type\":\"scatterternary\"}],\"surface\":[{\"colorbar\":{\"outlinewidth\":0,\"ticks\":\"\"},\"colorscale\":[[0.0,\"#0d0887\"],[0.1111111111111111,\"#46039f\"],[0.2222222222222222,\"#7201a8\"],[0.3333333333333333,\"#9c179e\"],[0.4444444444444444,\"#bd3786\"],[0.5555555555555556,\"#d8576b\"],[0.6666666666666666,\"#ed7953\"],[0.7777777777777778,\"#fb9f3a\"],[0.8888888888888888,\"#fdca26\"],[1.0,\"#f0f921\"]],\"type\":\"surface\"}],\"table\":[{\"cells\":{\"fill\":{\"color\":\"#EBF0F8\"},\"line\":{\"color\":\"white\"}},\"header\":{\"fill\":{\"color\":\"#C8D4E3\"},\"line\":{\"color\":\"white\"}},\"type\":\"table\"}]},\"layout\":{\"annotationdefaults\":{\"arrowcolor\":\"#2a3f5f\",\"arrowhead\":0,\"arrowwidth\":1},\"autotypenumbers\":\"strict\",\"coloraxis\":{\"colorbar\":{\"outlinewidth\":0,\"ticks\":\"\"}},\"colorscale\":{\"diverging\":[[0,\"#8e0152\"],[0.1,\"#c51b7d\"],[0.2,\"#de77ae\"],[0.3,\"#f1b6da\"],[0.4,\"#fde0ef\"],[0.5,\"#f7f7f7\"],[0.6,\"#e6f5d0\"],[0.7,\"#b8e186\"],[0.8,\"#7fbc41\"],[0.9,\"#4d9221\"],[1,\"#276419\"]],\"sequential\":[[0.0,\"#0d0887\"],[0.1111111111111111,\"#46039f\"],[0.2222222222222222,\"#7201a8\"],[0.3333333333333333,\"#9c179e\"],[0.4444444444444444,\"#bd3786\"],[0.5555555555555556,\"#d8576b\"],[0.6666666666666666,\"#ed7953\"],[0.7777777777777778,\"#fb9f3a\"],[0.8888888888888888,\"#fdca26\"],[1.0,\"#f0f921\"]],\"sequentialminus\":[[0.0,\"#0d0887\"],[0.1111111111111111,\"#46039f\"],[0.2222222222222222,\"#7201a8\"],[0.3333333333333333,\"#9c179e\"],[0.4444444444444444,\"#bd3786\"],[0.5555555555555556,\"#d8576b\"],[0.6666666666666666,\"#ed7953\"],[0.7777777777777778,\"#fb9f3a\"],[0.8888888888888888,\"#fdca26\"],[1.0,\"#f0f921\"]]},\"colorway\":[\"#636efa\",\"#EF553B\",\"#00cc96\",\"#ab63fa\",\"#FFA15A\",\"#19d3f3\",\"#FF6692\",\"#B6E880\",\"#FF97FF\",\"#FECB52\"],\"font\":{\"color\":\"#2a3f5f\"},\"geo\":{\"bgcolor\":\"white\",\"lakecolor\":\"white\",\"landcolor\":\"#E5ECF6\",\"showlakes\":true,\"showland\":true,\"subunitcolor\":\"white\"},\"hoverlabel\":{\"align\":\"left\"},\"hovermode\":\"closest\",\"mapbox\":{\"style\":\"light\"},\"paper_bgcolor\":\"white\",\"plot_bgcolor\":\"#E5ECF6\",\"polar\":{\"angularaxis\":{\"gridcolor\":\"white\",\"linecolor\":\"white\",\"ticks\":\"\"},\"bgcolor\":\"#E5ECF6\",\"radialaxis\":{\"gridcolor\":\"white\",\"linecolor\":\"white\",\"ticks\":\"\"}},\"scene\":{\"xaxis\":{\"backgroundcolor\":\"#E5ECF6\",\"gridcolor\":\"white\",\"gridwidth\":2,\"linecolor\":\"white\",\"showbackground\":true,\"ticks\":\"\",\"zerolinecolor\":\"white\"},\"yaxis\":{\"backgroundcolor\":\"#E5ECF6\",\"gridcolor\":\"white\",\"gridwidth\":2,\"linecolor\":\"white\",\"showbackground\":true,\"ticks\":\"\",\"zerolinecolor\":\"white\"},\"zaxis\":{\"backgroundcolor\":\"#E5ECF6\",\"gridcolor\":\"white\",\"gridwidth\":2,\"linecolor\":\"white\",\"showbackground\":true,\"ticks\":\"\",\"zerolinecolor\":\"white\"}},\"shapedefaults\":{\"line\":{\"color\":\"#2a3f5f\"}},\"ternary\":{\"aaxis\":{\"gridcolor\":\"white\",\"linecolor\":\"white\",\"ticks\":\"\"},\"baxis\":{\"gridcolor\":\"white\",\"linecolor\":\"white\",\"ticks\":\"\"},\"bgcolor\":\"#E5ECF6\",\"caxis\":{\"gridcolor\":\"white\",\"linecolor\":\"white\",\"ticks\":\"\"}},\"title\":{\"x\":0.05},\"xaxis\":{\"automargin\":true,\"gridcolor\":\"white\",\"linecolor\":\"white\",\"ticks\":\"\",\"title\":{\"standoff\":15},\"zerolinecolor\":\"white\",\"zerolinewidth\":2},\"yaxis\":{\"automargin\":true,\"gridcolor\":\"white\",\"linecolor\":\"white\",\"ticks\":\"\",\"title\":{\"standoff\":15},\"zerolinecolor\":\"white\",\"zerolinewidth\":2}}},\"title\":{\"font\":{\"color\":\"#4D5663\"}},\"xaxis\":{\"gridcolor\":\"#E1E5ED\",\"showgrid\":true,\"tickfont\":{\"color\":\"#4D5663\"},\"title\":{\"font\":{\"color\":\"#4D5663\"},\"text\":\"\"},\"zerolinecolor\":\"#E1E5ED\"},\"yaxis\":{\"domain\":[0.3,1],\"gridcolor\":\"#E1E5ED\",\"showgrid\":true,\"tickfont\":{\"color\":\"#4D5663\"},\"title\":{\"font\":{\"color\":\"#4D5663\"},\"text\":\"\"},\"zerolinecolor\":\"#E1E5ED\"},\"yaxis2\":{\"domain\":[0,0.25],\"gridcolor\":\"#E1E5ED\",\"showgrid\":true,\"tickfont\":{\"color\":\"#4D5663\"},\"title\":{\"font\":{\"color\":\"#4D5663\"},\"text\":\"Spread\"},\"zerolinecolor\":\"#E1E5ED\"},\"xaxis2\":{\"anchor\":\"y2\",\"gridcolor\":\"#E1E5ED\",\"showgrid\":true,\"showticklabels\":false,\"tickfont\":{\"color\":\"#4D5663\"},\"title\":{\"font\":{\"color\":\"#4D5663\"},\"text\":\"\"},\"zerolinecolor\":\"#E1E5ED\"}},                        {\"showLink\": true, \"linkText\": \"Export to plot.ly\", \"plotlyServerURL\": \"https://plot.ly\", \"responsive\": true}                    ).then(function(){\n",
       "                            \n",
       "var gd = document.getElementById('e0a78655-a181-405b-9708-9ccace41e20f');\n",
       "var x = new MutationObserver(function (mutations, observer) {{\n",
       "        var display = window.getComputedStyle(gd).display;\n",
       "        if (!display || display === 'none') {{\n",
       "            console.log([gd, 'removed!']);\n",
       "            Plotly.purge(gd);\n",
       "            observer.disconnect();\n",
       "        }}\n",
       "}});\n",
       "\n",
       "// Listen for the removal of the full notebook cells\n",
       "var notebookContainer = gd.closest('#notebook-container');\n",
       "if (notebookContainer) {{\n",
       "    x.observe(notebookContainer, {childList: true});\n",
       "}}\n",
       "\n",
       "// Listen for the clearing of the current output cell\n",
       "var outputEl = gd.closest('.output');\n",
       "if (outputEl) {{\n",
       "    x.observe(outputEl, {childList: true});\n",
       "}}\n",
       "\n",
       "                        })                };                });            </script>        </div>"
      ]
     },
     "metadata": {},
     "output_type": "display_data"
    }
   ],
   "source": [
    "# Next Visulization -> Speard\n",
    "df[['A','B']].iplot(kind='spread')\n"
   ]
  },
  {
   "cell_type": "code",
   "execution_count": 26,
   "metadata": {},
   "outputs": [
    {
     "data": {
      "application/vnd.plotly.v1+json": {
       "config": {
        "linkText": "Export to plot.ly",
        "plotlyServerURL": "https://plot.ly",
        "showLink": true
       },
       "data": [
        {
         "marker": {
          "color": [
           "rgb(255, 153, 51)",
           "rgb(55, 128, 191)",
           "rgb(50, 171, 96)",
           "rgb(128, 0, 128)",
           "rgb(219, 64, 82)",
           "rgb(0, 128, 128)",
           "rgb(255, 255, 51)",
           "rgb(128, 128, 0)",
           "rgb(251, 128, 114)",
           "rgb(128, 177, 211)"
          ],
          "line": {
           "width": 1.3
          },
          "size": [
           49,
           59,
           62,
           50,
           55,
           59,
           44,
           29,
           44,
           56,
           50,
           27,
           79,
           79,
           73,
           49,
           58,
           47,
           47,
           43,
           48,
           29,
           55,
           64,
           40,
           94,
           66,
           42,
           30,
           33,
           62,
           80,
           36,
           35,
           46,
           40,
           54,
           32,
           67,
           31,
           65,
           25,
           66,
           106,
           70,
           37,
           52,
           80,
           55,
           96,
           59,
           31,
           46,
           30,
           66,
           63,
           47,
           84,
           89,
           44,
           31,
           40,
           82,
           51,
           31,
           84,
           57,
           27,
           86,
           54,
           42,
           46,
           55,
           35,
           73,
           89,
           112,
           74,
           52,
           63,
           74,
           63,
           52,
           39,
           44,
           39,
           64,
           83,
           12,
           39,
           38,
           73,
           68,
           82,
           17,
           62,
           47,
           75,
           56,
           67
          ],
          "symbol": "circle"
         },
         "mode": "markers",
         "text": "",
         "type": "scatter",
         "x": [
          -1.1024981471016053,
          0.45532653178486426,
          0.40391046008714476,
          -0.2809970042901508,
          0.7989989325364689,
          1.0832583953209949,
          -1.234209784210434,
          0.3224994409690922,
          -0.3242087708237595,
          -0.1284653156020744,
          -0.7552748291440724,
          0.8184288968726566,
          0.5422845891231438,
          0.10789901010090519,
          -0.32139817008019994,
          -0.7963759333281335,
          -0.39037680946255826,
          -2.2655403217214696,
          0.5167189806038817,
          1.0311119027127906,
          -0.7280729939339882,
          2.2399138984961033,
          -1.2752392088928555,
          -0.5378918136584961,
          2.0295510309720433,
          0.23191793912741354,
          -0.7489274861749667,
          0.1804315695573513,
          -1.076899175942572,
          0.1480646205053287,
          -2.067689597756462,
          -0.6242648055288316,
          1.9205984896737025,
          -0.6626634145557857,
          0.43755162941932596,
          -0.08301825934472241,
          1.6979277445032026,
          1.3214093229538189,
          -0.5063299960070593,
          -0.0634250885800641,
          1.5099246615970119,
          -0.06181082497718354,
          -0.3409827236091026,
          -0.33324862190788684,
          1.500014889723033,
          -1.5918283819078909,
          0.1436883889894132,
          1.5756106661076734,
          -0.32506572639260684,
          0.37798144298626746,
          0.46348546666861756,
          -2.051188827144377,
          -1.0172458205234336,
          -0.5070704946445844,
          -0.8478731955080303,
          -0.2334924377631749,
          0.19262355458803307,
          -1.3003949447844079,
          -0.9149035966488548,
          0.8229650720355511,
          1.3006243742931636,
          -0.4126201075864305,
          -0.6711296866905244,
          -0.4405250418337267,
          -0.5651290513169568,
          1.0196385357067541,
          0.5877685488555959,
          -0.3945490445285969,
          0.8054155111464418,
          -1.0217863363909698,
          0.46049889877191597,
          0.57181539365208,
          -0.8625271604108457,
          -0.46000004554287016,
          0.02716586732277476,
          0.6816588980785862,
          -0.4668112307509774,
          0.25228987992077717,
          0.8669165806315857,
          0.847033573383717,
          -1.3863133841285744,
          -0.01553686633329219,
          -0.2740973426119702,
          0.043616214784867754,
          -2.1647128799946276,
          -0.05182135785862414,
          -1.384645553366656,
          0.4027841869433865,
          0.11479059202803563,
          0.3819374624127815,
          0.22205933188988886,
          0.9355340173488559,
          -0.2765941836604982,
          0.954866972229284,
          1.073857686349574,
          -1.1885752619110412,
          0.28988033179079464,
          0.8151597284421718,
          -0.9941872219563699,
          1.5368506591655258
         ],
         "y": [
          -0.8713196634022675,
          -1.767211174819314,
          -1.0350908487091959,
          -0.08072812492485895,
          -1.1951142174006553,
          -1.8471571622199414,
          1.8801067041568933,
          -1.1058767571189025,
          0.40937518520839133,
          0.5074882970638703,
          -0.9099081392282109,
          -0.23390168778098436,
          1.3793033998833388,
          -0.03876003474237771,
          1.38539784508653,
          0.8040467182086181,
          -1.9859688198263412,
          1.4318814602300922,
          0.2856696833736994,
          -0.02734422820736344,
          2.2604852635308466,
          0.3437984522726635,
          -1.6199777026322286,
          -1.6252434641567413,
          0.819414661012346,
          0.8718682984632122,
          -0.9577172169711519,
          0.26839737955878556,
          1.3259952049003743,
          -0.5112436727714154,
          1.5282438868112913,
          0.46111855997757906,
          0.5103298218556396,
          -1.6594959487403262,
          0.5897407100948779,
          -0.0702770913251112,
          2.145076222618863,
          -0.3302738874863218,
          1.7954077585596733,
          -0.32578556653973817,
          0.8364388798723189,
          0.22696433098098545,
          -0.8327353257833802,
          -1.015031002671774,
          0.37786457003176177,
          -0.8097117301574803,
          -0.9985378053285431,
          0.5203569062543102,
          0.4818184236235761,
          -0.8441091152069875,
          1.2708165965970095,
          -0.70334138878969,
          1.0694277546339286,
          0.6254820710794478,
          -0.009766599509518017,
          0.10566623768884706,
          -0.38865979307592985,
          -0.4287810605985193,
          -0.3739451959228925,
          -0.9145143264683828,
          2.625130148137943,
          0.2778968503855602,
          0.9934389776868553,
          -0.9072450113031999,
          0.5210933674015816,
          0.0830080569450399,
          0.14620986056202875,
          -0.4516254448680814,
          1.1997048520705935,
          -0.45206800531489205,
          1.0943552757896906,
          0.9640478674870745,
          -1.6536100269234513,
          0.101149502791871,
          -0.4152232250614539,
          0.6152742885080315,
          0.2106406522997461,
          0.0019031646346197241,
          0.602635626247644,
          -1.715601158322781,
          0.5628710900741206,
          -0.1294924891033397,
          -0.6355075840796094,
          1.2649381157969501,
          0.02498520572713563,
          0.5104545781590395,
          -0.5702951302023916,
          1.7309202655032256,
          1.2879164184864185,
          -0.36438719814264675,
          0.2745117757241402,
          -0.07135501369983091,
          -0.10594911360867416,
          0.2004243601221823,
          0.5662466524036643,
          0.4151771166224692,
          2.0414607940726452,
          0.3982025407248406,
          -1.2995806760810338,
          0.982890176174143
         ]
        }
       ],
       "layout": {
        "legend": {
         "bgcolor": "#F5F6F9",
         "font": {
          "color": "#4D5663"
         }
        },
        "paper_bgcolor": "#F5F6F9",
        "plot_bgcolor": "#F5F6F9",
        "template": {
         "data": {
          "bar": [
           {
            "error_x": {
             "color": "#2a3f5f"
            },
            "error_y": {
             "color": "#2a3f5f"
            },
            "marker": {
             "line": {
              "color": "#E5ECF6",
              "width": 0.5
             },
             "pattern": {
              "fillmode": "overlay",
              "size": 10,
              "solidity": 0.2
             }
            },
            "type": "bar"
           }
          ],
          "barpolar": [
           {
            "marker": {
             "line": {
              "color": "#E5ECF6",
              "width": 0.5
             },
             "pattern": {
              "fillmode": "overlay",
              "size": 10,
              "solidity": 0.2
             }
            },
            "type": "barpolar"
           }
          ],
          "carpet": [
           {
            "aaxis": {
             "endlinecolor": "#2a3f5f",
             "gridcolor": "white",
             "linecolor": "white",
             "minorgridcolor": "white",
             "startlinecolor": "#2a3f5f"
            },
            "baxis": {
             "endlinecolor": "#2a3f5f",
             "gridcolor": "white",
             "linecolor": "white",
             "minorgridcolor": "white",
             "startlinecolor": "#2a3f5f"
            },
            "type": "carpet"
           }
          ],
          "choropleth": [
           {
            "colorbar": {
             "outlinewidth": 0,
             "ticks": ""
            },
            "type": "choropleth"
           }
          ],
          "contour": [
           {
            "colorbar": {
             "outlinewidth": 0,
             "ticks": ""
            },
            "colorscale": [
             [
              0,
              "#0d0887"
             ],
             [
              0.1111111111111111,
              "#46039f"
             ],
             [
              0.2222222222222222,
              "#7201a8"
             ],
             [
              0.3333333333333333,
              "#9c179e"
             ],
             [
              0.4444444444444444,
              "#bd3786"
             ],
             [
              0.5555555555555556,
              "#d8576b"
             ],
             [
              0.6666666666666666,
              "#ed7953"
             ],
             [
              0.7777777777777778,
              "#fb9f3a"
             ],
             [
              0.8888888888888888,
              "#fdca26"
             ],
             [
              1,
              "#f0f921"
             ]
            ],
            "type": "contour"
           }
          ],
          "contourcarpet": [
           {
            "colorbar": {
             "outlinewidth": 0,
             "ticks": ""
            },
            "type": "contourcarpet"
           }
          ],
          "heatmap": [
           {
            "colorbar": {
             "outlinewidth": 0,
             "ticks": ""
            },
            "colorscale": [
             [
              0,
              "#0d0887"
             ],
             [
              0.1111111111111111,
              "#46039f"
             ],
             [
              0.2222222222222222,
              "#7201a8"
             ],
             [
              0.3333333333333333,
              "#9c179e"
             ],
             [
              0.4444444444444444,
              "#bd3786"
             ],
             [
              0.5555555555555556,
              "#d8576b"
             ],
             [
              0.6666666666666666,
              "#ed7953"
             ],
             [
              0.7777777777777778,
              "#fb9f3a"
             ],
             [
              0.8888888888888888,
              "#fdca26"
             ],
             [
              1,
              "#f0f921"
             ]
            ],
            "type": "heatmap"
           }
          ],
          "heatmapgl": [
           {
            "colorbar": {
             "outlinewidth": 0,
             "ticks": ""
            },
            "colorscale": [
             [
              0,
              "#0d0887"
             ],
             [
              0.1111111111111111,
              "#46039f"
             ],
             [
              0.2222222222222222,
              "#7201a8"
             ],
             [
              0.3333333333333333,
              "#9c179e"
             ],
             [
              0.4444444444444444,
              "#bd3786"
             ],
             [
              0.5555555555555556,
              "#d8576b"
             ],
             [
              0.6666666666666666,
              "#ed7953"
             ],
             [
              0.7777777777777778,
              "#fb9f3a"
             ],
             [
              0.8888888888888888,
              "#fdca26"
             ],
             [
              1,
              "#f0f921"
             ]
            ],
            "type": "heatmapgl"
           }
          ],
          "histogram": [
           {
            "marker": {
             "pattern": {
              "fillmode": "overlay",
              "size": 10,
              "solidity": 0.2
             }
            },
            "type": "histogram"
           }
          ],
          "histogram2d": [
           {
            "colorbar": {
             "outlinewidth": 0,
             "ticks": ""
            },
            "colorscale": [
             [
              0,
              "#0d0887"
             ],
             [
              0.1111111111111111,
              "#46039f"
             ],
             [
              0.2222222222222222,
              "#7201a8"
             ],
             [
              0.3333333333333333,
              "#9c179e"
             ],
             [
              0.4444444444444444,
              "#bd3786"
             ],
             [
              0.5555555555555556,
              "#d8576b"
             ],
             [
              0.6666666666666666,
              "#ed7953"
             ],
             [
              0.7777777777777778,
              "#fb9f3a"
             ],
             [
              0.8888888888888888,
              "#fdca26"
             ],
             [
              1,
              "#f0f921"
             ]
            ],
            "type": "histogram2d"
           }
          ],
          "histogram2dcontour": [
           {
            "colorbar": {
             "outlinewidth": 0,
             "ticks": ""
            },
            "colorscale": [
             [
              0,
              "#0d0887"
             ],
             [
              0.1111111111111111,
              "#46039f"
             ],
             [
              0.2222222222222222,
              "#7201a8"
             ],
             [
              0.3333333333333333,
              "#9c179e"
             ],
             [
              0.4444444444444444,
              "#bd3786"
             ],
             [
              0.5555555555555556,
              "#d8576b"
             ],
             [
              0.6666666666666666,
              "#ed7953"
             ],
             [
              0.7777777777777778,
              "#fb9f3a"
             ],
             [
              0.8888888888888888,
              "#fdca26"
             ],
             [
              1,
              "#f0f921"
             ]
            ],
            "type": "histogram2dcontour"
           }
          ],
          "mesh3d": [
           {
            "colorbar": {
             "outlinewidth": 0,
             "ticks": ""
            },
            "type": "mesh3d"
           }
          ],
          "parcoords": [
           {
            "line": {
             "colorbar": {
              "outlinewidth": 0,
              "ticks": ""
             }
            },
            "type": "parcoords"
           }
          ],
          "pie": [
           {
            "automargin": true,
            "type": "pie"
           }
          ],
          "scatter": [
           {
            "fillpattern": {
             "fillmode": "overlay",
             "size": 10,
             "solidity": 0.2
            },
            "type": "scatter"
           }
          ],
          "scatter3d": [
           {
            "line": {
             "colorbar": {
              "outlinewidth": 0,
              "ticks": ""
             }
            },
            "marker": {
             "colorbar": {
              "outlinewidth": 0,
              "ticks": ""
             }
            },
            "type": "scatter3d"
           }
          ],
          "scattercarpet": [
           {
            "marker": {
             "colorbar": {
              "outlinewidth": 0,
              "ticks": ""
             }
            },
            "type": "scattercarpet"
           }
          ],
          "scattergeo": [
           {
            "marker": {
             "colorbar": {
              "outlinewidth": 0,
              "ticks": ""
             }
            },
            "type": "scattergeo"
           }
          ],
          "scattergl": [
           {
            "marker": {
             "colorbar": {
              "outlinewidth": 0,
              "ticks": ""
             }
            },
            "type": "scattergl"
           }
          ],
          "scattermapbox": [
           {
            "marker": {
             "colorbar": {
              "outlinewidth": 0,
              "ticks": ""
             }
            },
            "type": "scattermapbox"
           }
          ],
          "scatterpolar": [
           {
            "marker": {
             "colorbar": {
              "outlinewidth": 0,
              "ticks": ""
             }
            },
            "type": "scatterpolar"
           }
          ],
          "scatterpolargl": [
           {
            "marker": {
             "colorbar": {
              "outlinewidth": 0,
              "ticks": ""
             }
            },
            "type": "scatterpolargl"
           }
          ],
          "scatterternary": [
           {
            "marker": {
             "colorbar": {
              "outlinewidth": 0,
              "ticks": ""
             }
            },
            "type": "scatterternary"
           }
          ],
          "surface": [
           {
            "colorbar": {
             "outlinewidth": 0,
             "ticks": ""
            },
            "colorscale": [
             [
              0,
              "#0d0887"
             ],
             [
              0.1111111111111111,
              "#46039f"
             ],
             [
              0.2222222222222222,
              "#7201a8"
             ],
             [
              0.3333333333333333,
              "#9c179e"
             ],
             [
              0.4444444444444444,
              "#bd3786"
             ],
             [
              0.5555555555555556,
              "#d8576b"
             ],
             [
              0.6666666666666666,
              "#ed7953"
             ],
             [
              0.7777777777777778,
              "#fb9f3a"
             ],
             [
              0.8888888888888888,
              "#fdca26"
             ],
             [
              1,
              "#f0f921"
             ]
            ],
            "type": "surface"
           }
          ],
          "table": [
           {
            "cells": {
             "fill": {
              "color": "#EBF0F8"
             },
             "line": {
              "color": "white"
             }
            },
            "header": {
             "fill": {
              "color": "#C8D4E3"
             },
             "line": {
              "color": "white"
             }
            },
            "type": "table"
           }
          ]
         },
         "layout": {
          "annotationdefaults": {
           "arrowcolor": "#2a3f5f",
           "arrowhead": 0,
           "arrowwidth": 1
          },
          "autotypenumbers": "strict",
          "coloraxis": {
           "colorbar": {
            "outlinewidth": 0,
            "ticks": ""
           }
          },
          "colorscale": {
           "diverging": [
            [
             0,
             "#8e0152"
            ],
            [
             0.1,
             "#c51b7d"
            ],
            [
             0.2,
             "#de77ae"
            ],
            [
             0.3,
             "#f1b6da"
            ],
            [
             0.4,
             "#fde0ef"
            ],
            [
             0.5,
             "#f7f7f7"
            ],
            [
             0.6,
             "#e6f5d0"
            ],
            [
             0.7,
             "#b8e186"
            ],
            [
             0.8,
             "#7fbc41"
            ],
            [
             0.9,
             "#4d9221"
            ],
            [
             1,
             "#276419"
            ]
           ],
           "sequential": [
            [
             0,
             "#0d0887"
            ],
            [
             0.1111111111111111,
             "#46039f"
            ],
            [
             0.2222222222222222,
             "#7201a8"
            ],
            [
             0.3333333333333333,
             "#9c179e"
            ],
            [
             0.4444444444444444,
             "#bd3786"
            ],
            [
             0.5555555555555556,
             "#d8576b"
            ],
            [
             0.6666666666666666,
             "#ed7953"
            ],
            [
             0.7777777777777778,
             "#fb9f3a"
            ],
            [
             0.8888888888888888,
             "#fdca26"
            ],
            [
             1,
             "#f0f921"
            ]
           ],
           "sequentialminus": [
            [
             0,
             "#0d0887"
            ],
            [
             0.1111111111111111,
             "#46039f"
            ],
            [
             0.2222222222222222,
             "#7201a8"
            ],
            [
             0.3333333333333333,
             "#9c179e"
            ],
            [
             0.4444444444444444,
             "#bd3786"
            ],
            [
             0.5555555555555556,
             "#d8576b"
            ],
            [
             0.6666666666666666,
             "#ed7953"
            ],
            [
             0.7777777777777778,
             "#fb9f3a"
            ],
            [
             0.8888888888888888,
             "#fdca26"
            ],
            [
             1,
             "#f0f921"
            ]
           ]
          },
          "colorway": [
           "#636efa",
           "#EF553B",
           "#00cc96",
           "#ab63fa",
           "#FFA15A",
           "#19d3f3",
           "#FF6692",
           "#B6E880",
           "#FF97FF",
           "#FECB52"
          ],
          "font": {
           "color": "#2a3f5f"
          },
          "geo": {
           "bgcolor": "white",
           "lakecolor": "white",
           "landcolor": "#E5ECF6",
           "showlakes": true,
           "showland": true,
           "subunitcolor": "white"
          },
          "hoverlabel": {
           "align": "left"
          },
          "hovermode": "closest",
          "mapbox": {
           "style": "light"
          },
          "paper_bgcolor": "white",
          "plot_bgcolor": "#E5ECF6",
          "polar": {
           "angularaxis": {
            "gridcolor": "white",
            "linecolor": "white",
            "ticks": ""
           },
           "bgcolor": "#E5ECF6",
           "radialaxis": {
            "gridcolor": "white",
            "linecolor": "white",
            "ticks": ""
           }
          },
          "scene": {
           "xaxis": {
            "backgroundcolor": "#E5ECF6",
            "gridcolor": "white",
            "gridwidth": 2,
            "linecolor": "white",
            "showbackground": true,
            "ticks": "",
            "zerolinecolor": "white"
           },
           "yaxis": {
            "backgroundcolor": "#E5ECF6",
            "gridcolor": "white",
            "gridwidth": 2,
            "linecolor": "white",
            "showbackground": true,
            "ticks": "",
            "zerolinecolor": "white"
           },
           "zaxis": {
            "backgroundcolor": "#E5ECF6",
            "gridcolor": "white",
            "gridwidth": 2,
            "linecolor": "white",
            "showbackground": true,
            "ticks": "",
            "zerolinecolor": "white"
           }
          },
          "shapedefaults": {
           "line": {
            "color": "#2a3f5f"
           }
          },
          "ternary": {
           "aaxis": {
            "gridcolor": "white",
            "linecolor": "white",
            "ticks": ""
           },
           "baxis": {
            "gridcolor": "white",
            "linecolor": "white",
            "ticks": ""
           },
           "bgcolor": "#E5ECF6",
           "caxis": {
            "gridcolor": "white",
            "linecolor": "white",
            "ticks": ""
           }
          },
          "title": {
           "x": 0.05
          },
          "xaxis": {
           "automargin": true,
           "gridcolor": "white",
           "linecolor": "white",
           "ticks": "",
           "title": {
            "standoff": 15
           },
           "zerolinecolor": "white",
           "zerolinewidth": 2
          },
          "yaxis": {
           "automargin": true,
           "gridcolor": "white",
           "linecolor": "white",
           "ticks": "",
           "title": {
            "standoff": 15
           },
           "zerolinecolor": "white",
           "zerolinewidth": 2
          }
         }
        },
        "title": {
         "font": {
          "color": "#4D5663"
         }
        },
        "xaxis": {
         "gridcolor": "#E1E5ED",
         "showgrid": true,
         "tickfont": {
          "color": "#4D5663"
         },
         "title": {
          "font": {
           "color": "#4D5663"
          },
          "text": ""
         },
         "zerolinecolor": "#E1E5ED"
        },
        "yaxis": {
         "gridcolor": "#E1E5ED",
         "showgrid": true,
         "tickfont": {
          "color": "#4D5663"
         },
         "title": {
          "font": {
           "color": "#4D5663"
          },
          "text": ""
         },
         "zerolinecolor": "#E1E5ED"
        }
       }
      },
      "text/html": [
       "<div>                            <div id=\"a746f82a-7d96-4944-aebd-276c0ca7ad32\" class=\"plotly-graph-div\" style=\"height:525px; width:100%;\"></div>            <script type=\"text/javascript\">                require([\"plotly\"], function(Plotly) {                    window.PLOTLYENV=window.PLOTLYENV || {};\n",
       "                    window.PLOTLYENV.BASE_URL='https://plot.ly';                                    if (document.getElementById(\"a746f82a-7d96-4944-aebd-276c0ca7ad32\")) {                    Plotly.newPlot(                        \"a746f82a-7d96-4944-aebd-276c0ca7ad32\",                        [{\"marker\":{\"color\":[\"rgb(255, 153, 51)\",\"rgb(55, 128, 191)\",\"rgb(50, 171, 96)\",\"rgb(128, 0, 128)\",\"rgb(219, 64, 82)\",\"rgb(0, 128, 128)\",\"rgb(255, 255, 51)\",\"rgb(128, 128, 0)\",\"rgb(251, 128, 114)\",\"rgb(128, 177, 211)\"],\"line\":{\"width\":1.3},\"size\":[49,59,62,50,55,59,44,29,44,56,50,27,79,79,73,49,58,47,47,43,48,29,55,64,40,94,66,42,30,33,62,80,36,35,46,40,54,32,67,31,65,25,66,106,70,37,52,80,55,96,59,31,46,30,66,63,47,84,89,44,31,40,82,51,31,84,57,27,86,54,42,46,55,35,73,89,112,74,52,63,74,63,52,39,44,39,64,83,12,39,38,73,68,82,17,62,47,75,56,67],\"symbol\":\"circle\"},\"mode\":\"markers\",\"text\":\"\",\"x\":[-1.1024981471016053,0.45532653178486426,0.40391046008714476,-0.2809970042901508,0.7989989325364689,1.0832583953209949,-1.234209784210434,0.3224994409690922,-0.3242087708237595,-0.1284653156020744,-0.7552748291440724,0.8184288968726566,0.5422845891231438,0.10789901010090519,-0.32139817008019994,-0.7963759333281335,-0.39037680946255826,-2.2655403217214696,0.5167189806038817,1.0311119027127906,-0.7280729939339882,2.2399138984961033,-1.2752392088928555,-0.5378918136584961,2.0295510309720433,0.23191793912741354,-0.7489274861749667,0.1804315695573513,-1.076899175942572,0.1480646205053287,-2.067689597756462,-0.6242648055288316,1.9205984896737025,-0.6626634145557857,0.43755162941932596,-0.08301825934472241,1.6979277445032026,1.3214093229538189,-0.5063299960070593,-0.0634250885800641,1.5099246615970119,-0.06181082497718354,-0.3409827236091026,-0.33324862190788684,1.500014889723033,-1.5918283819078909,0.1436883889894132,1.5756106661076734,-0.32506572639260684,0.37798144298626746,0.46348546666861756,-2.051188827144377,-1.0172458205234336,-0.5070704946445844,-0.8478731955080303,-0.2334924377631749,0.19262355458803307,-1.3003949447844079,-0.9149035966488548,0.8229650720355511,1.3006243742931636,-0.4126201075864305,-0.6711296866905244,-0.4405250418337267,-0.5651290513169568,1.0196385357067541,0.5877685488555959,-0.3945490445285969,0.8054155111464418,-1.0217863363909698,0.46049889877191597,0.57181539365208,-0.8625271604108457,-0.46000004554287016,0.02716586732277476,0.6816588980785862,-0.4668112307509774,0.25228987992077717,0.8669165806315857,0.847033573383717,-1.3863133841285744,-0.01553686633329219,-0.2740973426119702,0.043616214784867754,-2.1647128799946276,-0.05182135785862414,-1.384645553366656,0.4027841869433865,0.11479059202803563,0.3819374624127815,0.22205933188988886,0.9355340173488559,-0.2765941836604982,0.954866972229284,1.073857686349574,-1.1885752619110412,0.28988033179079464,0.8151597284421718,-0.9941872219563699,1.5368506591655258],\"y\":[-0.8713196634022675,-1.767211174819314,-1.0350908487091959,-0.08072812492485895,-1.1951142174006553,-1.8471571622199414,1.8801067041568933,-1.1058767571189025,0.40937518520839133,0.5074882970638703,-0.9099081392282109,-0.23390168778098436,1.3793033998833388,-0.03876003474237771,1.38539784508653,0.8040467182086181,-1.9859688198263412,1.4318814602300922,0.2856696833736994,-0.02734422820736344,2.2604852635308466,0.3437984522726635,-1.6199777026322286,-1.6252434641567413,0.819414661012346,0.8718682984632122,-0.9577172169711519,0.26839737955878556,1.3259952049003743,-0.5112436727714154,1.5282438868112913,0.46111855997757906,0.5103298218556396,-1.6594959487403262,0.5897407100948779,-0.0702770913251112,2.145076222618863,-0.3302738874863218,1.7954077585596733,-0.32578556653973817,0.8364388798723189,0.22696433098098545,-0.8327353257833802,-1.015031002671774,0.37786457003176177,-0.8097117301574803,-0.9985378053285431,0.5203569062543102,0.4818184236235761,-0.8441091152069875,1.2708165965970095,-0.70334138878969,1.0694277546339286,0.6254820710794478,-0.009766599509518017,0.10566623768884706,-0.38865979307592985,-0.4287810605985193,-0.3739451959228925,-0.9145143264683828,2.625130148137943,0.2778968503855602,0.9934389776868553,-0.9072450113031999,0.5210933674015816,0.0830080569450399,0.14620986056202875,-0.4516254448680814,1.1997048520705935,-0.45206800531489205,1.0943552757896906,0.9640478674870745,-1.6536100269234513,0.101149502791871,-0.4152232250614539,0.6152742885080315,0.2106406522997461,0.0019031646346197241,0.602635626247644,-1.715601158322781,0.5628710900741206,-0.1294924891033397,-0.6355075840796094,1.2649381157969501,0.02498520572713563,0.5104545781590395,-0.5702951302023916,1.7309202655032256,1.2879164184864185,-0.36438719814264675,0.2745117757241402,-0.07135501369983091,-0.10594911360867416,0.2004243601221823,0.5662466524036643,0.4151771166224692,2.0414607940726452,0.3982025407248406,-1.2995806760810338,0.982890176174143],\"type\":\"scatter\"}],                        {\"legend\":{\"bgcolor\":\"#F5F6F9\",\"font\":{\"color\":\"#4D5663\"}},\"paper_bgcolor\":\"#F5F6F9\",\"plot_bgcolor\":\"#F5F6F9\",\"template\":{\"data\":{\"barpolar\":[{\"marker\":{\"line\":{\"color\":\"#E5ECF6\",\"width\":0.5},\"pattern\":{\"fillmode\":\"overlay\",\"size\":10,\"solidity\":0.2}},\"type\":\"barpolar\"}],\"bar\":[{\"error_x\":{\"color\":\"#2a3f5f\"},\"error_y\":{\"color\":\"#2a3f5f\"},\"marker\":{\"line\":{\"color\":\"#E5ECF6\",\"width\":0.5},\"pattern\":{\"fillmode\":\"overlay\",\"size\":10,\"solidity\":0.2}},\"type\":\"bar\"}],\"carpet\":[{\"aaxis\":{\"endlinecolor\":\"#2a3f5f\",\"gridcolor\":\"white\",\"linecolor\":\"white\",\"minorgridcolor\":\"white\",\"startlinecolor\":\"#2a3f5f\"},\"baxis\":{\"endlinecolor\":\"#2a3f5f\",\"gridcolor\":\"white\",\"linecolor\":\"white\",\"minorgridcolor\":\"white\",\"startlinecolor\":\"#2a3f5f\"},\"type\":\"carpet\"}],\"choropleth\":[{\"colorbar\":{\"outlinewidth\":0,\"ticks\":\"\"},\"type\":\"choropleth\"}],\"contourcarpet\":[{\"colorbar\":{\"outlinewidth\":0,\"ticks\":\"\"},\"type\":\"contourcarpet\"}],\"contour\":[{\"colorbar\":{\"outlinewidth\":0,\"ticks\":\"\"},\"colorscale\":[[0.0,\"#0d0887\"],[0.1111111111111111,\"#46039f\"],[0.2222222222222222,\"#7201a8\"],[0.3333333333333333,\"#9c179e\"],[0.4444444444444444,\"#bd3786\"],[0.5555555555555556,\"#d8576b\"],[0.6666666666666666,\"#ed7953\"],[0.7777777777777778,\"#fb9f3a\"],[0.8888888888888888,\"#fdca26\"],[1.0,\"#f0f921\"]],\"type\":\"contour\"}],\"heatmapgl\":[{\"colorbar\":{\"outlinewidth\":0,\"ticks\":\"\"},\"colorscale\":[[0.0,\"#0d0887\"],[0.1111111111111111,\"#46039f\"],[0.2222222222222222,\"#7201a8\"],[0.3333333333333333,\"#9c179e\"],[0.4444444444444444,\"#bd3786\"],[0.5555555555555556,\"#d8576b\"],[0.6666666666666666,\"#ed7953\"],[0.7777777777777778,\"#fb9f3a\"],[0.8888888888888888,\"#fdca26\"],[1.0,\"#f0f921\"]],\"type\":\"heatmapgl\"}],\"heatmap\":[{\"colorbar\":{\"outlinewidth\":0,\"ticks\":\"\"},\"colorscale\":[[0.0,\"#0d0887\"],[0.1111111111111111,\"#46039f\"],[0.2222222222222222,\"#7201a8\"],[0.3333333333333333,\"#9c179e\"],[0.4444444444444444,\"#bd3786\"],[0.5555555555555556,\"#d8576b\"],[0.6666666666666666,\"#ed7953\"],[0.7777777777777778,\"#fb9f3a\"],[0.8888888888888888,\"#fdca26\"],[1.0,\"#f0f921\"]],\"type\":\"heatmap\"}],\"histogram2dcontour\":[{\"colorbar\":{\"outlinewidth\":0,\"ticks\":\"\"},\"colorscale\":[[0.0,\"#0d0887\"],[0.1111111111111111,\"#46039f\"],[0.2222222222222222,\"#7201a8\"],[0.3333333333333333,\"#9c179e\"],[0.4444444444444444,\"#bd3786\"],[0.5555555555555556,\"#d8576b\"],[0.6666666666666666,\"#ed7953\"],[0.7777777777777778,\"#fb9f3a\"],[0.8888888888888888,\"#fdca26\"],[1.0,\"#f0f921\"]],\"type\":\"histogram2dcontour\"}],\"histogram2d\":[{\"colorbar\":{\"outlinewidth\":0,\"ticks\":\"\"},\"colorscale\":[[0.0,\"#0d0887\"],[0.1111111111111111,\"#46039f\"],[0.2222222222222222,\"#7201a8\"],[0.3333333333333333,\"#9c179e\"],[0.4444444444444444,\"#bd3786\"],[0.5555555555555556,\"#d8576b\"],[0.6666666666666666,\"#ed7953\"],[0.7777777777777778,\"#fb9f3a\"],[0.8888888888888888,\"#fdca26\"],[1.0,\"#f0f921\"]],\"type\":\"histogram2d\"}],\"histogram\":[{\"marker\":{\"pattern\":{\"fillmode\":\"overlay\",\"size\":10,\"solidity\":0.2}},\"type\":\"histogram\"}],\"mesh3d\":[{\"colorbar\":{\"outlinewidth\":0,\"ticks\":\"\"},\"type\":\"mesh3d\"}],\"parcoords\":[{\"line\":{\"colorbar\":{\"outlinewidth\":0,\"ticks\":\"\"}},\"type\":\"parcoords\"}],\"pie\":[{\"automargin\":true,\"type\":\"pie\"}],\"scatter3d\":[{\"line\":{\"colorbar\":{\"outlinewidth\":0,\"ticks\":\"\"}},\"marker\":{\"colorbar\":{\"outlinewidth\":0,\"ticks\":\"\"}},\"type\":\"scatter3d\"}],\"scattercarpet\":[{\"marker\":{\"colorbar\":{\"outlinewidth\":0,\"ticks\":\"\"}},\"type\":\"scattercarpet\"}],\"scattergeo\":[{\"marker\":{\"colorbar\":{\"outlinewidth\":0,\"ticks\":\"\"}},\"type\":\"scattergeo\"}],\"scattergl\":[{\"marker\":{\"colorbar\":{\"outlinewidth\":0,\"ticks\":\"\"}},\"type\":\"scattergl\"}],\"scattermapbox\":[{\"marker\":{\"colorbar\":{\"outlinewidth\":0,\"ticks\":\"\"}},\"type\":\"scattermapbox\"}],\"scatterpolargl\":[{\"marker\":{\"colorbar\":{\"outlinewidth\":0,\"ticks\":\"\"}},\"type\":\"scatterpolargl\"}],\"scatterpolar\":[{\"marker\":{\"colorbar\":{\"outlinewidth\":0,\"ticks\":\"\"}},\"type\":\"scatterpolar\"}],\"scatter\":[{\"fillpattern\":{\"fillmode\":\"overlay\",\"size\":10,\"solidity\":0.2},\"type\":\"scatter\"}],\"scatterternary\":[{\"marker\":{\"colorbar\":{\"outlinewidth\":0,\"ticks\":\"\"}},\"type\":\"scatterternary\"}],\"surface\":[{\"colorbar\":{\"outlinewidth\":0,\"ticks\":\"\"},\"colorscale\":[[0.0,\"#0d0887\"],[0.1111111111111111,\"#46039f\"],[0.2222222222222222,\"#7201a8\"],[0.3333333333333333,\"#9c179e\"],[0.4444444444444444,\"#bd3786\"],[0.5555555555555556,\"#d8576b\"],[0.6666666666666666,\"#ed7953\"],[0.7777777777777778,\"#fb9f3a\"],[0.8888888888888888,\"#fdca26\"],[1.0,\"#f0f921\"]],\"type\":\"surface\"}],\"table\":[{\"cells\":{\"fill\":{\"color\":\"#EBF0F8\"},\"line\":{\"color\":\"white\"}},\"header\":{\"fill\":{\"color\":\"#C8D4E3\"},\"line\":{\"color\":\"white\"}},\"type\":\"table\"}]},\"layout\":{\"annotationdefaults\":{\"arrowcolor\":\"#2a3f5f\",\"arrowhead\":0,\"arrowwidth\":1},\"autotypenumbers\":\"strict\",\"coloraxis\":{\"colorbar\":{\"outlinewidth\":0,\"ticks\":\"\"}},\"colorscale\":{\"diverging\":[[0,\"#8e0152\"],[0.1,\"#c51b7d\"],[0.2,\"#de77ae\"],[0.3,\"#f1b6da\"],[0.4,\"#fde0ef\"],[0.5,\"#f7f7f7\"],[0.6,\"#e6f5d0\"],[0.7,\"#b8e186\"],[0.8,\"#7fbc41\"],[0.9,\"#4d9221\"],[1,\"#276419\"]],\"sequential\":[[0.0,\"#0d0887\"],[0.1111111111111111,\"#46039f\"],[0.2222222222222222,\"#7201a8\"],[0.3333333333333333,\"#9c179e\"],[0.4444444444444444,\"#bd3786\"],[0.5555555555555556,\"#d8576b\"],[0.6666666666666666,\"#ed7953\"],[0.7777777777777778,\"#fb9f3a\"],[0.8888888888888888,\"#fdca26\"],[1.0,\"#f0f921\"]],\"sequentialminus\":[[0.0,\"#0d0887\"],[0.1111111111111111,\"#46039f\"],[0.2222222222222222,\"#7201a8\"],[0.3333333333333333,\"#9c179e\"],[0.4444444444444444,\"#bd3786\"],[0.5555555555555556,\"#d8576b\"],[0.6666666666666666,\"#ed7953\"],[0.7777777777777778,\"#fb9f3a\"],[0.8888888888888888,\"#fdca26\"],[1.0,\"#f0f921\"]]},\"colorway\":[\"#636efa\",\"#EF553B\",\"#00cc96\",\"#ab63fa\",\"#FFA15A\",\"#19d3f3\",\"#FF6692\",\"#B6E880\",\"#FF97FF\",\"#FECB52\"],\"font\":{\"color\":\"#2a3f5f\"},\"geo\":{\"bgcolor\":\"white\",\"lakecolor\":\"white\",\"landcolor\":\"#E5ECF6\",\"showlakes\":true,\"showland\":true,\"subunitcolor\":\"white\"},\"hoverlabel\":{\"align\":\"left\"},\"hovermode\":\"closest\",\"mapbox\":{\"style\":\"light\"},\"paper_bgcolor\":\"white\",\"plot_bgcolor\":\"#E5ECF6\",\"polar\":{\"angularaxis\":{\"gridcolor\":\"white\",\"linecolor\":\"white\",\"ticks\":\"\"},\"bgcolor\":\"#E5ECF6\",\"radialaxis\":{\"gridcolor\":\"white\",\"linecolor\":\"white\",\"ticks\":\"\"}},\"scene\":{\"xaxis\":{\"backgroundcolor\":\"#E5ECF6\",\"gridcolor\":\"white\",\"gridwidth\":2,\"linecolor\":\"white\",\"showbackground\":true,\"ticks\":\"\",\"zerolinecolor\":\"white\"},\"yaxis\":{\"backgroundcolor\":\"#E5ECF6\",\"gridcolor\":\"white\",\"gridwidth\":2,\"linecolor\":\"white\",\"showbackground\":true,\"ticks\":\"\",\"zerolinecolor\":\"white\"},\"zaxis\":{\"backgroundcolor\":\"#E5ECF6\",\"gridcolor\":\"white\",\"gridwidth\":2,\"linecolor\":\"white\",\"showbackground\":true,\"ticks\":\"\",\"zerolinecolor\":\"white\"}},\"shapedefaults\":{\"line\":{\"color\":\"#2a3f5f\"}},\"ternary\":{\"aaxis\":{\"gridcolor\":\"white\",\"linecolor\":\"white\",\"ticks\":\"\"},\"baxis\":{\"gridcolor\":\"white\",\"linecolor\":\"white\",\"ticks\":\"\"},\"bgcolor\":\"#E5ECF6\",\"caxis\":{\"gridcolor\":\"white\",\"linecolor\":\"white\",\"ticks\":\"\"}},\"title\":{\"x\":0.05},\"xaxis\":{\"automargin\":true,\"gridcolor\":\"white\",\"linecolor\":\"white\",\"ticks\":\"\",\"title\":{\"standoff\":15},\"zerolinecolor\":\"white\",\"zerolinewidth\":2},\"yaxis\":{\"automargin\":true,\"gridcolor\":\"white\",\"linecolor\":\"white\",\"ticks\":\"\",\"title\":{\"standoff\":15},\"zerolinecolor\":\"white\",\"zerolinewidth\":2}}},\"title\":{\"font\":{\"color\":\"#4D5663\"}},\"xaxis\":{\"gridcolor\":\"#E1E5ED\",\"showgrid\":true,\"tickfont\":{\"color\":\"#4D5663\"},\"title\":{\"font\":{\"color\":\"#4D5663\"},\"text\":\"\"},\"zerolinecolor\":\"#E1E5ED\"},\"yaxis\":{\"gridcolor\":\"#E1E5ED\",\"showgrid\":true,\"tickfont\":{\"color\":\"#4D5663\"},\"title\":{\"font\":{\"color\":\"#4D5663\"},\"text\":\"\"},\"zerolinecolor\":\"#E1E5ED\"}},                        {\"showLink\": true, \"linkText\": \"Export to plot.ly\", \"plotlyServerURL\": \"https://plot.ly\", \"responsive\": true}                    ).then(function(){\n",
       "                            \n",
       "var gd = document.getElementById('a746f82a-7d96-4944-aebd-276c0ca7ad32');\n",
       "var x = new MutationObserver(function (mutations, observer) {{\n",
       "        var display = window.getComputedStyle(gd).display;\n",
       "        if (!display || display === 'none') {{\n",
       "            console.log([gd, 'removed!']);\n",
       "            Plotly.purge(gd);\n",
       "            observer.disconnect();\n",
       "        }}\n",
       "}});\n",
       "\n",
       "// Listen for the removal of the full notebook cells\n",
       "var notebookContainer = gd.closest('#notebook-container');\n",
       "if (notebookContainer) {{\n",
       "    x.observe(notebookContainer, {childList: true});\n",
       "}}\n",
       "\n",
       "// Listen for the clearing of the current output cell\n",
       "var outputEl = gd.closest('.output');\n",
       "if (outputEl) {{\n",
       "    x.observe(outputEl, {childList: true});\n",
       "}}\n",
       "\n",
       "                        })                };                });            </script>        </div>"
      ]
     },
     "metadata": {},
     "output_type": "display_data"
    }
   ],
   "source": [
    "# Bubble Plot Similar to Scatter Plot -> Used for Population, Hapiness Factor\n",
    "df.iplot(kind='bubble',x='A',y='B',size='C')"
   ]
  },
  {
   "cell_type": "code",
   "execution_count": 27,
   "metadata": {},
   "outputs": [
    {
     "data": {
      "application/vnd.plotly.v1+json": {
       "config": {
        "linkText": "Export to plot.ly",
        "plotlyServerURL": "https://plot.ly",
        "showLink": true
       },
       "data": [
        {
         "histfunc": "count",
         "histnorm": "",
         "marker": {
          "color": "rgba(255, 153, 51, 1.0)",
          "line": {
           "color": "#4D5663",
           "width": 1.3
          }
         },
         "name": "A",
         "nbinsx": 10,
         "opacity": 0.8,
         "orientation": "v",
         "type": "histogram",
         "x": [
          -1.1024981471016053,
          0.45532653178486426,
          0.40391046008714476,
          -0.2809970042901508,
          0.7989989325364689,
          1.0832583953209949,
          -1.234209784210434,
          0.3224994409690922,
          -0.3242087708237595,
          -0.1284653156020744,
          -0.7552748291440724,
          0.8184288968726566,
          0.5422845891231438,
          0.10789901010090519,
          -0.32139817008019994,
          -0.7963759333281335,
          -0.39037680946255826,
          -2.2655403217214696,
          0.5167189806038817,
          1.0311119027127906,
          -0.7280729939339882,
          2.2399138984961033,
          -1.2752392088928555,
          -0.5378918136584961,
          2.0295510309720433,
          0.23191793912741354,
          -0.7489274861749667,
          0.1804315695573513,
          -1.076899175942572,
          0.1480646205053287,
          -2.067689597756462,
          -0.6242648055288316,
          1.9205984896737025,
          -0.6626634145557857,
          0.43755162941932596,
          -0.08301825934472241,
          1.6979277445032026,
          1.3214093229538189,
          -0.5063299960070593,
          -0.0634250885800641,
          1.5099246615970119,
          -0.06181082497718354,
          -0.3409827236091026,
          -0.33324862190788684,
          1.500014889723033,
          -1.5918283819078909,
          0.1436883889894132,
          1.5756106661076734,
          -0.32506572639260684,
          0.37798144298626746,
          0.46348546666861756,
          -2.051188827144377,
          -1.0172458205234336,
          -0.5070704946445844,
          -0.8478731955080303,
          -0.2334924377631749,
          0.19262355458803307,
          -1.3003949447844079,
          -0.9149035966488548,
          0.8229650720355511,
          1.3006243742931636,
          -0.4126201075864305,
          -0.6711296866905244,
          -0.4405250418337267,
          -0.5651290513169568,
          1.0196385357067541,
          0.5877685488555959,
          -0.3945490445285969,
          0.8054155111464418,
          -1.0217863363909698,
          0.46049889877191597,
          0.57181539365208,
          -0.8625271604108457,
          -0.46000004554287016,
          0.02716586732277476,
          0.6816588980785862,
          -0.4668112307509774,
          0.25228987992077717,
          0.8669165806315857,
          0.847033573383717,
          -1.3863133841285744,
          -0.01553686633329219,
          -0.2740973426119702,
          0.043616214784867754,
          -2.1647128799946276,
          -0.05182135785862414,
          -1.384645553366656,
          0.4027841869433865,
          0.11479059202803563,
          0.3819374624127815,
          0.22205933188988886,
          0.9355340173488559,
          -0.2765941836604982,
          0.954866972229284,
          1.073857686349574,
          -1.1885752619110412,
          0.28988033179079464,
          0.8151597284421718,
          -0.9941872219563699,
          1.5368506591655258
         ],
         "xaxis": "x",
         "yaxis": "y"
        },
        {
         "line": {
          "color": "rgba(128, 128, 128, 1.0)",
          "dash": "solid",
          "shape": "linear",
          "width": 1.3
         },
         "marker": {
          "size": 2,
          "symbol": "circle"
         },
         "mode": "markers",
         "name": "A",
         "text": "",
         "type": "scatter",
         "x": [
          -0.8713196634022675,
          -1.767211174819314,
          -1.0350908487091959,
          -0.08072812492485895,
          -1.1951142174006553,
          -1.8471571622199414,
          1.8801067041568933,
          -1.1058767571189025,
          0.40937518520839133,
          0.5074882970638703,
          -0.9099081392282109,
          -0.23390168778098436,
          1.3793033998833388,
          -0.03876003474237771,
          1.38539784508653,
          0.8040467182086181,
          -1.9859688198263412,
          1.4318814602300922,
          0.2856696833736994,
          -0.02734422820736344,
          2.2604852635308466,
          0.3437984522726635,
          -1.6199777026322286,
          -1.6252434641567413,
          0.819414661012346,
          0.8718682984632122,
          -0.9577172169711519,
          0.26839737955878556,
          1.3259952049003743,
          -0.5112436727714154,
          1.5282438868112913,
          0.46111855997757906,
          0.5103298218556396,
          -1.6594959487403262,
          0.5897407100948779,
          -0.0702770913251112,
          2.145076222618863,
          -0.3302738874863218,
          1.7954077585596733,
          -0.32578556653973817,
          0.8364388798723189,
          0.22696433098098545,
          -0.8327353257833802,
          -1.015031002671774,
          0.37786457003176177,
          -0.8097117301574803,
          -0.9985378053285431,
          0.5203569062543102,
          0.4818184236235761,
          -0.8441091152069875,
          1.2708165965970095,
          -0.70334138878969,
          1.0694277546339286,
          0.6254820710794478,
          -0.009766599509518017,
          0.10566623768884706,
          -0.38865979307592985,
          -0.4287810605985193,
          -0.3739451959228925,
          -0.9145143264683828,
          2.625130148137943,
          0.2778968503855602,
          0.9934389776868553,
          -0.9072450113031999,
          0.5210933674015816,
          0.0830080569450399,
          0.14620986056202875,
          -0.4516254448680814,
          1.1997048520705935,
          -0.45206800531489205,
          1.0943552757896906,
          0.9640478674870745,
          -1.6536100269234513,
          0.101149502791871,
          -0.4152232250614539,
          0.6152742885080315,
          0.2106406522997461,
          0.0019031646346197241,
          0.602635626247644,
          -1.715601158322781,
          0.5628710900741206,
          -0.1294924891033397,
          -0.6355075840796094,
          1.2649381157969501,
          0.02498520572713563,
          0.5104545781590395,
          -0.5702951302023916,
          1.7309202655032256,
          1.2879164184864185,
          -0.36438719814264675,
          0.2745117757241402,
          -0.07135501369983091,
          -0.10594911360867416,
          0.2004243601221823,
          0.5662466524036643,
          0.4151771166224692,
          2.0414607940726452,
          0.3982025407248406,
          -1.2995806760810338,
          0.982890176174143
         ],
         "xaxis": "x2",
         "y": [
          -1.1024981471016053,
          0.45532653178486426,
          0.40391046008714476,
          -0.2809970042901508,
          0.7989989325364689,
          1.0832583953209949,
          -1.234209784210434,
          0.3224994409690922,
          -0.3242087708237595,
          -0.1284653156020744,
          -0.7552748291440724,
          0.8184288968726566,
          0.5422845891231438,
          0.10789901010090519,
          -0.32139817008019994,
          -0.7963759333281335,
          -0.39037680946255826,
          -2.2655403217214696,
          0.5167189806038817,
          1.0311119027127906,
          -0.7280729939339882,
          2.2399138984961033,
          -1.2752392088928555,
          -0.5378918136584961,
          2.0295510309720433,
          0.23191793912741354,
          -0.7489274861749667,
          0.1804315695573513,
          -1.076899175942572,
          0.1480646205053287,
          -2.067689597756462,
          -0.6242648055288316,
          1.9205984896737025,
          -0.6626634145557857,
          0.43755162941932596,
          -0.08301825934472241,
          1.6979277445032026,
          1.3214093229538189,
          -0.5063299960070593,
          -0.0634250885800641,
          1.5099246615970119,
          -0.06181082497718354,
          -0.3409827236091026,
          -0.33324862190788684,
          1.500014889723033,
          -1.5918283819078909,
          0.1436883889894132,
          1.5756106661076734,
          -0.32506572639260684,
          0.37798144298626746,
          0.46348546666861756,
          -2.051188827144377,
          -1.0172458205234336,
          -0.5070704946445844,
          -0.8478731955080303,
          -0.2334924377631749,
          0.19262355458803307,
          -1.3003949447844079,
          -0.9149035966488548,
          0.8229650720355511,
          1.3006243742931636,
          -0.4126201075864305,
          -0.6711296866905244,
          -0.4405250418337267,
          -0.5651290513169568,
          1.0196385357067541,
          0.5877685488555959,
          -0.3945490445285969,
          0.8054155111464418,
          -1.0217863363909698,
          0.46049889877191597,
          0.57181539365208,
          -0.8625271604108457,
          -0.46000004554287016,
          0.02716586732277476,
          0.6816588980785862,
          -0.4668112307509774,
          0.25228987992077717,
          0.8669165806315857,
          0.847033573383717,
          -1.3863133841285744,
          -0.01553686633329219,
          -0.2740973426119702,
          0.043616214784867754,
          -2.1647128799946276,
          -0.05182135785862414,
          -1.384645553366656,
          0.4027841869433865,
          0.11479059202803563,
          0.3819374624127815,
          0.22205933188988886,
          0.9355340173488559,
          -0.2765941836604982,
          0.954866972229284,
          1.073857686349574,
          -1.1885752619110412,
          0.28988033179079464,
          0.8151597284421718,
          -0.9941872219563699,
          1.5368506591655258
         ],
         "yaxis": "y2"
        },
        {
         "line": {
          "color": "rgba(128, 128, 128, 1.0)",
          "dash": "solid",
          "shape": "linear",
          "width": 1.3
         },
         "marker": {
          "size": 2,
          "symbol": "circle"
         },
         "mode": "markers",
         "name": "A",
         "text": "",
         "type": "scatter",
         "x": [
          -0.23191483467728796,
          0.22996169982911116,
          0.37235644215290814,
          -0.18317934630443627,
          0.030269596121248386,
          0.2377912009439052,
          -0.4635781052161619,
          -1.113826422851541,
          -0.4640499369179566,
          0.0862418242527444,
          -0.17526457764388662,
          -1.2394707131388767,
          1.1378268189836096,
          1.1227212390740267,
          0.8469162696258059,
          -0.2352349772821939,
          0.1966858786059231,
          -0.2933140386799466,
          -0.30688059116922967,
          -0.4821681732345493,
          -0.27745071051604725,
          -1.1243501531182385,
          0.057655680779404216,
          0.45004825152232597,
          -0.6431969695826352,
          1.8043144586142832,
          0.5335382114718625,
          -0.558890544540614,
          -1.0720048033208915,
          -0.941563266309427,
          0.348237899267876,
          1.1705473551597216,
          -0.8353913555607797,
          -0.857665180470015,
          -0.34313815056146535,
          -0.6405363663505411,
          -0.005708929644882179,
          -1.0129631575850104,
          0.5779718783951365,
          -1.0519358973969024,
          0.5136347490696667,
          -1.2979934398788073,
          0.5349053270524682,
          2.357078440371061,
          0.7469704623104282,
          -0.7512300212264496,
          -0.0676600767370751,
          1.1717868904695523,
          0.056014652083291414,
          1.9067085542207205,
          0.22696914256599662,
          -1.0227464786175227,
          -0.3662894960812538,
          -1.069064556566524,
          0.5477192163632087,
          0.38967752312019927,
          -0.30929610039500577,
          1.3586255897880464,
          1.5695745260088578,
          -0.440786731303405,
          -1.0467786473869678,
          -0.6406050565135507,
          1.2910836005523305,
          -0.11894889194832031,
          -1.0179449928368667,
          1.3447998121960456,
          0.14512180959110263,
          -1.227725683384825,
          1.4371215964566564,
          -0.0031341668208622908,
          -0.5576920364414308,
          -0.38328672961847204,
          0.026830990387689723,
          -0.8382448805596847,
          0.8827979098248043,
          1.5898469507164932,
          2.604205368168547,
          0.8892144723017181,
          -0.07378398071441221,
          0.4267291792279438,
          0.8950635767904128,
          0.3922940160616898,
          -0.0851112683431683,
          -0.6736568562098894,
          -0.43538967839927634,
          -0.6678661489181582,
          0.4674966404566777,
          1.3041628300440022,
          -1.9223632355127063,
          -0.6824825992913708,
          -0.7251925773027719,
          0.8406610583174904,
          0.6198675777100461,
          1.2865116834532744,
          -1.6841263181861676,
          0.3858325516026786,
          -0.31831457953920045,
          0.9298675048241788,
          0.08512501033433308,
          0.5944382814004443
         ],
         "xaxis": "x3",
         "y": [
          -1.1024981471016053,
          0.45532653178486426,
          0.40391046008714476,
          -0.2809970042901508,
          0.7989989325364689,
          1.0832583953209949,
          -1.234209784210434,
          0.3224994409690922,
          -0.3242087708237595,
          -0.1284653156020744,
          -0.7552748291440724,
          0.8184288968726566,
          0.5422845891231438,
          0.10789901010090519,
          -0.32139817008019994,
          -0.7963759333281335,
          -0.39037680946255826,
          -2.2655403217214696,
          0.5167189806038817,
          1.0311119027127906,
          -0.7280729939339882,
          2.2399138984961033,
          -1.2752392088928555,
          -0.5378918136584961,
          2.0295510309720433,
          0.23191793912741354,
          -0.7489274861749667,
          0.1804315695573513,
          -1.076899175942572,
          0.1480646205053287,
          -2.067689597756462,
          -0.6242648055288316,
          1.9205984896737025,
          -0.6626634145557857,
          0.43755162941932596,
          -0.08301825934472241,
          1.6979277445032026,
          1.3214093229538189,
          -0.5063299960070593,
          -0.0634250885800641,
          1.5099246615970119,
          -0.06181082497718354,
          -0.3409827236091026,
          -0.33324862190788684,
          1.500014889723033,
          -1.5918283819078909,
          0.1436883889894132,
          1.5756106661076734,
          -0.32506572639260684,
          0.37798144298626746,
          0.46348546666861756,
          -2.051188827144377,
          -1.0172458205234336,
          -0.5070704946445844,
          -0.8478731955080303,
          -0.2334924377631749,
          0.19262355458803307,
          -1.3003949447844079,
          -0.9149035966488548,
          0.8229650720355511,
          1.3006243742931636,
          -0.4126201075864305,
          -0.6711296866905244,
          -0.4405250418337267,
          -0.5651290513169568,
          1.0196385357067541,
          0.5877685488555959,
          -0.3945490445285969,
          0.8054155111464418,
          -1.0217863363909698,
          0.46049889877191597,
          0.57181539365208,
          -0.8625271604108457,
          -0.46000004554287016,
          0.02716586732277476,
          0.6816588980785862,
          -0.4668112307509774,
          0.25228987992077717,
          0.8669165806315857,
          0.847033573383717,
          -1.3863133841285744,
          -0.01553686633329219,
          -0.2740973426119702,
          0.043616214784867754,
          -2.1647128799946276,
          -0.05182135785862414,
          -1.384645553366656,
          0.4027841869433865,
          0.11479059202803563,
          0.3819374624127815,
          0.22205933188988886,
          0.9355340173488559,
          -0.2765941836604982,
          0.954866972229284,
          1.073857686349574,
          -1.1885752619110412,
          0.28988033179079464,
          0.8151597284421718,
          -0.9941872219563699,
          1.5368506591655258
         ],
         "yaxis": "y3"
        },
        {
         "line": {
          "color": "rgba(128, 128, 128, 1.0)",
          "dash": "solid",
          "shape": "linear",
          "width": 1.3
         },
         "marker": {
          "size": 2,
          "symbol": "circle"
         },
         "mode": "markers",
         "name": "A",
         "text": "",
         "type": "scatter",
         "x": [
          1.7420011505283355,
          -0.21407790210814454,
          -0.8346995928206267,
          0.3572143263372206,
          -0.44861423493977404,
          -1.6081212330874752,
          0.801690734912549,
          -0.6109376576801621,
          2.1373076535109092,
          -0.3895897715840815,
          0.49813442940114483,
          0.9759970066716024,
          -0.7932651994978115,
          0.6835870707382509,
          -0.3274394480942042,
          1.8709656860865775,
          0.3111020957103798,
          -0.7509733514305589,
          0.70735198442484,
          -2.0380165731831723,
          -0.2268007663096546,
          -0.1570710863874976,
          -0.043925259267604065,
          1.2132826148806004,
          -0.35116309161963677,
          -0.22222779417501082,
          -0.4744366412490772,
          0.9675082903553129,
          0.117057975512573,
          1.3648150969859354,
          -0.44309217680230667,
          -0.2426589005323525,
          0.6386264583219761,
          -0.8332164875365083,
          -0.44728663182657197,
          -0.02280652878873671,
          2.225828052114822,
          -0.14800113052807606,
          0.6406805425970652,
          -1.1344693137474502,
          -1.0701856529498481,
          -1.0291026082395422,
          1.439390319110055,
          0.7584810547627114,
          0.5888102171302606,
          0.2724300812740993,
          0.43539688823221795,
          0.47801130939445824,
          0.7306479076541726,
          0.7096123064838874,
          0.38797045860083834,
          0.6450237570733347,
          -1.6733767642736335,
          -0.18122074197359497,
          -0.10116934075473873,
          0.903652841960548,
          -1.1081023040397295,
          0.6399902629524633,
          0.7793730919102405,
          0.875387486712953,
          1.044674558695237,
          -0.4871528085047099,
          -0.6143593693157811,
          0.21228328709304328,
          -1.4146000066232995,
          -1.7253060336527681,
          0.7433283324848287,
          0.0627648959382127,
          -1.0410361166019233,
          -1.0179539366545063,
          -0.12346745371218192,
          -0.19861250276447442,
          -1.2928778298316919,
          -0.39586307865963055,
          -0.7406276396929118,
          0.639801665969883,
          1.5466490194149656,
          -2.25710586595814,
          0.025727214192610162,
          -1.3997758024249467,
          0.6293336997602994,
          0.5524935217565039,
          2.3874015597003724,
          -0.39471117140079154,
          -1.3953941132202565,
          0.40979403089478883,
          -0.23403208703945236,
          -1.5492736810458847,
          -2.80725233529573,
          -0.4855463561126437,
          1.9368340138661833,
          0.007857349331967686,
          -0.8882755436060508,
          -1.6353969003568276,
          -1.3308136151465673,
          -0.5024940855850913,
          -0.09574033787558964,
          1.876487667138215,
          -1.4315406749059392,
          -0.14243853343481255
         ],
         "xaxis": "x4",
         "y": [
          -1.1024981471016053,
          0.45532653178486426,
          0.40391046008714476,
          -0.2809970042901508,
          0.7989989325364689,
          1.0832583953209949,
          -1.234209784210434,
          0.3224994409690922,
          -0.3242087708237595,
          -0.1284653156020744,
          -0.7552748291440724,
          0.8184288968726566,
          0.5422845891231438,
          0.10789901010090519,
          -0.32139817008019994,
          -0.7963759333281335,
          -0.39037680946255826,
          -2.2655403217214696,
          0.5167189806038817,
          1.0311119027127906,
          -0.7280729939339882,
          2.2399138984961033,
          -1.2752392088928555,
          -0.5378918136584961,
          2.0295510309720433,
          0.23191793912741354,
          -0.7489274861749667,
          0.1804315695573513,
          -1.076899175942572,
          0.1480646205053287,
          -2.067689597756462,
          -0.6242648055288316,
          1.9205984896737025,
          -0.6626634145557857,
          0.43755162941932596,
          -0.08301825934472241,
          1.6979277445032026,
          1.3214093229538189,
          -0.5063299960070593,
          -0.0634250885800641,
          1.5099246615970119,
          -0.06181082497718354,
          -0.3409827236091026,
          -0.33324862190788684,
          1.500014889723033,
          -1.5918283819078909,
          0.1436883889894132,
          1.5756106661076734,
          -0.32506572639260684,
          0.37798144298626746,
          0.46348546666861756,
          -2.051188827144377,
          -1.0172458205234336,
          -0.5070704946445844,
          -0.8478731955080303,
          -0.2334924377631749,
          0.19262355458803307,
          -1.3003949447844079,
          -0.9149035966488548,
          0.8229650720355511,
          1.3006243742931636,
          -0.4126201075864305,
          -0.6711296866905244,
          -0.4405250418337267,
          -0.5651290513169568,
          1.0196385357067541,
          0.5877685488555959,
          -0.3945490445285969,
          0.8054155111464418,
          -1.0217863363909698,
          0.46049889877191597,
          0.57181539365208,
          -0.8625271604108457,
          -0.46000004554287016,
          0.02716586732277476,
          0.6816588980785862,
          -0.4668112307509774,
          0.25228987992077717,
          0.8669165806315857,
          0.847033573383717,
          -1.3863133841285744,
          -0.01553686633329219,
          -0.2740973426119702,
          0.043616214784867754,
          -2.1647128799946276,
          -0.05182135785862414,
          -1.384645553366656,
          0.4027841869433865,
          0.11479059202803563,
          0.3819374624127815,
          0.22205933188988886,
          0.9355340173488559,
          -0.2765941836604982,
          0.954866972229284,
          1.073857686349574,
          -1.1885752619110412,
          0.28988033179079464,
          0.8151597284421718,
          -0.9941872219563699,
          1.5368506591655258
         ],
         "yaxis": "y4"
        },
        {
         "line": {
          "color": "rgba(128, 128, 128, 1.0)",
          "dash": "solid",
          "shape": "linear",
          "width": 1.3
         },
         "marker": {
          "size": 2,
          "symbol": "circle"
         },
         "mode": "markers",
         "name": "B",
         "text": "",
         "type": "scatter",
         "x": [
          -1.1024981471016053,
          0.45532653178486426,
          0.40391046008714476,
          -0.2809970042901508,
          0.7989989325364689,
          1.0832583953209949,
          -1.234209784210434,
          0.3224994409690922,
          -0.3242087708237595,
          -0.1284653156020744,
          -0.7552748291440724,
          0.8184288968726566,
          0.5422845891231438,
          0.10789901010090519,
          -0.32139817008019994,
          -0.7963759333281335,
          -0.39037680946255826,
          -2.2655403217214696,
          0.5167189806038817,
          1.0311119027127906,
          -0.7280729939339882,
          2.2399138984961033,
          -1.2752392088928555,
          -0.5378918136584961,
          2.0295510309720433,
          0.23191793912741354,
          -0.7489274861749667,
          0.1804315695573513,
          -1.076899175942572,
          0.1480646205053287,
          -2.067689597756462,
          -0.6242648055288316,
          1.9205984896737025,
          -0.6626634145557857,
          0.43755162941932596,
          -0.08301825934472241,
          1.6979277445032026,
          1.3214093229538189,
          -0.5063299960070593,
          -0.0634250885800641,
          1.5099246615970119,
          -0.06181082497718354,
          -0.3409827236091026,
          -0.33324862190788684,
          1.500014889723033,
          -1.5918283819078909,
          0.1436883889894132,
          1.5756106661076734,
          -0.32506572639260684,
          0.37798144298626746,
          0.46348546666861756,
          -2.051188827144377,
          -1.0172458205234336,
          -0.5070704946445844,
          -0.8478731955080303,
          -0.2334924377631749,
          0.19262355458803307,
          -1.3003949447844079,
          -0.9149035966488548,
          0.8229650720355511,
          1.3006243742931636,
          -0.4126201075864305,
          -0.6711296866905244,
          -0.4405250418337267,
          -0.5651290513169568,
          1.0196385357067541,
          0.5877685488555959,
          -0.3945490445285969,
          0.8054155111464418,
          -1.0217863363909698,
          0.46049889877191597,
          0.57181539365208,
          -0.8625271604108457,
          -0.46000004554287016,
          0.02716586732277476,
          0.6816588980785862,
          -0.4668112307509774,
          0.25228987992077717,
          0.8669165806315857,
          0.847033573383717,
          -1.3863133841285744,
          -0.01553686633329219,
          -0.2740973426119702,
          0.043616214784867754,
          -2.1647128799946276,
          -0.05182135785862414,
          -1.384645553366656,
          0.4027841869433865,
          0.11479059202803563,
          0.3819374624127815,
          0.22205933188988886,
          0.9355340173488559,
          -0.2765941836604982,
          0.954866972229284,
          1.073857686349574,
          -1.1885752619110412,
          0.28988033179079464,
          0.8151597284421718,
          -0.9941872219563699,
          1.5368506591655258
         ],
         "xaxis": "x5",
         "y": [
          -0.8713196634022675,
          -1.767211174819314,
          -1.0350908487091959,
          -0.08072812492485895,
          -1.1951142174006553,
          -1.8471571622199414,
          1.8801067041568933,
          -1.1058767571189025,
          0.40937518520839133,
          0.5074882970638703,
          -0.9099081392282109,
          -0.23390168778098436,
          1.3793033998833388,
          -0.03876003474237771,
          1.38539784508653,
          0.8040467182086181,
          -1.9859688198263412,
          1.4318814602300922,
          0.2856696833736994,
          -0.02734422820736344,
          2.2604852635308466,
          0.3437984522726635,
          -1.6199777026322286,
          -1.6252434641567413,
          0.819414661012346,
          0.8718682984632122,
          -0.9577172169711519,
          0.26839737955878556,
          1.3259952049003743,
          -0.5112436727714154,
          1.5282438868112913,
          0.46111855997757906,
          0.5103298218556396,
          -1.6594959487403262,
          0.5897407100948779,
          -0.0702770913251112,
          2.145076222618863,
          -0.3302738874863218,
          1.7954077585596733,
          -0.32578556653973817,
          0.8364388798723189,
          0.22696433098098545,
          -0.8327353257833802,
          -1.015031002671774,
          0.37786457003176177,
          -0.8097117301574803,
          -0.9985378053285431,
          0.5203569062543102,
          0.4818184236235761,
          -0.8441091152069875,
          1.2708165965970095,
          -0.70334138878969,
          1.0694277546339286,
          0.6254820710794478,
          -0.009766599509518017,
          0.10566623768884706,
          -0.38865979307592985,
          -0.4287810605985193,
          -0.3739451959228925,
          -0.9145143264683828,
          2.625130148137943,
          0.2778968503855602,
          0.9934389776868553,
          -0.9072450113031999,
          0.5210933674015816,
          0.0830080569450399,
          0.14620986056202875,
          -0.4516254448680814,
          1.1997048520705935,
          -0.45206800531489205,
          1.0943552757896906,
          0.9640478674870745,
          -1.6536100269234513,
          0.101149502791871,
          -0.4152232250614539,
          0.6152742885080315,
          0.2106406522997461,
          0.0019031646346197241,
          0.602635626247644,
          -1.715601158322781,
          0.5628710900741206,
          -0.1294924891033397,
          -0.6355075840796094,
          1.2649381157969501,
          0.02498520572713563,
          0.5104545781590395,
          -0.5702951302023916,
          1.7309202655032256,
          1.2879164184864185,
          -0.36438719814264675,
          0.2745117757241402,
          -0.07135501369983091,
          -0.10594911360867416,
          0.2004243601221823,
          0.5662466524036643,
          0.4151771166224692,
          2.0414607940726452,
          0.3982025407248406,
          -1.2995806760810338,
          0.982890176174143
         ],
         "yaxis": "y5"
        },
        {
         "histfunc": "count",
         "histnorm": "",
         "marker": {
          "color": "rgba(55, 128, 191, 1.0)",
          "line": {
           "color": "#4D5663",
           "width": 1.3
          }
         },
         "name": "B",
         "nbinsx": 10,
         "opacity": 0.8,
         "orientation": "v",
         "type": "histogram",
         "x": [
          -0.8713196634022675,
          -1.767211174819314,
          -1.0350908487091959,
          -0.08072812492485895,
          -1.1951142174006553,
          -1.8471571622199414,
          1.8801067041568933,
          -1.1058767571189025,
          0.40937518520839133,
          0.5074882970638703,
          -0.9099081392282109,
          -0.23390168778098436,
          1.3793033998833388,
          -0.03876003474237771,
          1.38539784508653,
          0.8040467182086181,
          -1.9859688198263412,
          1.4318814602300922,
          0.2856696833736994,
          -0.02734422820736344,
          2.2604852635308466,
          0.3437984522726635,
          -1.6199777026322286,
          -1.6252434641567413,
          0.819414661012346,
          0.8718682984632122,
          -0.9577172169711519,
          0.26839737955878556,
          1.3259952049003743,
          -0.5112436727714154,
          1.5282438868112913,
          0.46111855997757906,
          0.5103298218556396,
          -1.6594959487403262,
          0.5897407100948779,
          -0.0702770913251112,
          2.145076222618863,
          -0.3302738874863218,
          1.7954077585596733,
          -0.32578556653973817,
          0.8364388798723189,
          0.22696433098098545,
          -0.8327353257833802,
          -1.015031002671774,
          0.37786457003176177,
          -0.8097117301574803,
          -0.9985378053285431,
          0.5203569062543102,
          0.4818184236235761,
          -0.8441091152069875,
          1.2708165965970095,
          -0.70334138878969,
          1.0694277546339286,
          0.6254820710794478,
          -0.009766599509518017,
          0.10566623768884706,
          -0.38865979307592985,
          -0.4287810605985193,
          -0.3739451959228925,
          -0.9145143264683828,
          2.625130148137943,
          0.2778968503855602,
          0.9934389776868553,
          -0.9072450113031999,
          0.5210933674015816,
          0.0830080569450399,
          0.14620986056202875,
          -0.4516254448680814,
          1.1997048520705935,
          -0.45206800531489205,
          1.0943552757896906,
          0.9640478674870745,
          -1.6536100269234513,
          0.101149502791871,
          -0.4152232250614539,
          0.6152742885080315,
          0.2106406522997461,
          0.0019031646346197241,
          0.602635626247644,
          -1.715601158322781,
          0.5628710900741206,
          -0.1294924891033397,
          -0.6355075840796094,
          1.2649381157969501,
          0.02498520572713563,
          0.5104545781590395,
          -0.5702951302023916,
          1.7309202655032256,
          1.2879164184864185,
          -0.36438719814264675,
          0.2745117757241402,
          -0.07135501369983091,
          -0.10594911360867416,
          0.2004243601221823,
          0.5662466524036643,
          0.4151771166224692,
          2.0414607940726452,
          0.3982025407248406,
          -1.2995806760810338,
          0.982890176174143
         ],
         "xaxis": "x6",
         "yaxis": "y6"
        },
        {
         "line": {
          "color": "rgba(128, 128, 128, 1.0)",
          "dash": "solid",
          "shape": "linear",
          "width": 1.3
         },
         "marker": {
          "size": 2,
          "symbol": "circle"
         },
         "mode": "markers",
         "name": "B",
         "text": "",
         "type": "scatter",
         "x": [
          -0.23191483467728796,
          0.22996169982911116,
          0.37235644215290814,
          -0.18317934630443627,
          0.030269596121248386,
          0.2377912009439052,
          -0.4635781052161619,
          -1.113826422851541,
          -0.4640499369179566,
          0.0862418242527444,
          -0.17526457764388662,
          -1.2394707131388767,
          1.1378268189836096,
          1.1227212390740267,
          0.8469162696258059,
          -0.2352349772821939,
          0.1966858786059231,
          -0.2933140386799466,
          -0.30688059116922967,
          -0.4821681732345493,
          -0.27745071051604725,
          -1.1243501531182385,
          0.057655680779404216,
          0.45004825152232597,
          -0.6431969695826352,
          1.8043144586142832,
          0.5335382114718625,
          -0.558890544540614,
          -1.0720048033208915,
          -0.941563266309427,
          0.348237899267876,
          1.1705473551597216,
          -0.8353913555607797,
          -0.857665180470015,
          -0.34313815056146535,
          -0.6405363663505411,
          -0.005708929644882179,
          -1.0129631575850104,
          0.5779718783951365,
          -1.0519358973969024,
          0.5136347490696667,
          -1.2979934398788073,
          0.5349053270524682,
          2.357078440371061,
          0.7469704623104282,
          -0.7512300212264496,
          -0.0676600767370751,
          1.1717868904695523,
          0.056014652083291414,
          1.9067085542207205,
          0.22696914256599662,
          -1.0227464786175227,
          -0.3662894960812538,
          -1.069064556566524,
          0.5477192163632087,
          0.38967752312019927,
          -0.30929610039500577,
          1.3586255897880464,
          1.5695745260088578,
          -0.440786731303405,
          -1.0467786473869678,
          -0.6406050565135507,
          1.2910836005523305,
          -0.11894889194832031,
          -1.0179449928368667,
          1.3447998121960456,
          0.14512180959110263,
          -1.227725683384825,
          1.4371215964566564,
          -0.0031341668208622908,
          -0.5576920364414308,
          -0.38328672961847204,
          0.026830990387689723,
          -0.8382448805596847,
          0.8827979098248043,
          1.5898469507164932,
          2.604205368168547,
          0.8892144723017181,
          -0.07378398071441221,
          0.4267291792279438,
          0.8950635767904128,
          0.3922940160616898,
          -0.0851112683431683,
          -0.6736568562098894,
          -0.43538967839927634,
          -0.6678661489181582,
          0.4674966404566777,
          1.3041628300440022,
          -1.9223632355127063,
          -0.6824825992913708,
          -0.7251925773027719,
          0.8406610583174904,
          0.6198675777100461,
          1.2865116834532744,
          -1.6841263181861676,
          0.3858325516026786,
          -0.31831457953920045,
          0.9298675048241788,
          0.08512501033433308,
          0.5944382814004443
         ],
         "xaxis": "x7",
         "y": [
          -0.8713196634022675,
          -1.767211174819314,
          -1.0350908487091959,
          -0.08072812492485895,
          -1.1951142174006553,
          -1.8471571622199414,
          1.8801067041568933,
          -1.1058767571189025,
          0.40937518520839133,
          0.5074882970638703,
          -0.9099081392282109,
          -0.23390168778098436,
          1.3793033998833388,
          -0.03876003474237771,
          1.38539784508653,
          0.8040467182086181,
          -1.9859688198263412,
          1.4318814602300922,
          0.2856696833736994,
          -0.02734422820736344,
          2.2604852635308466,
          0.3437984522726635,
          -1.6199777026322286,
          -1.6252434641567413,
          0.819414661012346,
          0.8718682984632122,
          -0.9577172169711519,
          0.26839737955878556,
          1.3259952049003743,
          -0.5112436727714154,
          1.5282438868112913,
          0.46111855997757906,
          0.5103298218556396,
          -1.6594959487403262,
          0.5897407100948779,
          -0.0702770913251112,
          2.145076222618863,
          -0.3302738874863218,
          1.7954077585596733,
          -0.32578556653973817,
          0.8364388798723189,
          0.22696433098098545,
          -0.8327353257833802,
          -1.015031002671774,
          0.37786457003176177,
          -0.8097117301574803,
          -0.9985378053285431,
          0.5203569062543102,
          0.4818184236235761,
          -0.8441091152069875,
          1.2708165965970095,
          -0.70334138878969,
          1.0694277546339286,
          0.6254820710794478,
          -0.009766599509518017,
          0.10566623768884706,
          -0.38865979307592985,
          -0.4287810605985193,
          -0.3739451959228925,
          -0.9145143264683828,
          2.625130148137943,
          0.2778968503855602,
          0.9934389776868553,
          -0.9072450113031999,
          0.5210933674015816,
          0.0830080569450399,
          0.14620986056202875,
          -0.4516254448680814,
          1.1997048520705935,
          -0.45206800531489205,
          1.0943552757896906,
          0.9640478674870745,
          -1.6536100269234513,
          0.101149502791871,
          -0.4152232250614539,
          0.6152742885080315,
          0.2106406522997461,
          0.0019031646346197241,
          0.602635626247644,
          -1.715601158322781,
          0.5628710900741206,
          -0.1294924891033397,
          -0.6355075840796094,
          1.2649381157969501,
          0.02498520572713563,
          0.5104545781590395,
          -0.5702951302023916,
          1.7309202655032256,
          1.2879164184864185,
          -0.36438719814264675,
          0.2745117757241402,
          -0.07135501369983091,
          -0.10594911360867416,
          0.2004243601221823,
          0.5662466524036643,
          0.4151771166224692,
          2.0414607940726452,
          0.3982025407248406,
          -1.2995806760810338,
          0.982890176174143
         ],
         "yaxis": "y7"
        },
        {
         "line": {
          "color": "rgba(128, 128, 128, 1.0)",
          "dash": "solid",
          "shape": "linear",
          "width": 1.3
         },
         "marker": {
          "size": 2,
          "symbol": "circle"
         },
         "mode": "markers",
         "name": "B",
         "text": "",
         "type": "scatter",
         "x": [
          1.7420011505283355,
          -0.21407790210814454,
          -0.8346995928206267,
          0.3572143263372206,
          -0.44861423493977404,
          -1.6081212330874752,
          0.801690734912549,
          -0.6109376576801621,
          2.1373076535109092,
          -0.3895897715840815,
          0.49813442940114483,
          0.9759970066716024,
          -0.7932651994978115,
          0.6835870707382509,
          -0.3274394480942042,
          1.8709656860865775,
          0.3111020957103798,
          -0.7509733514305589,
          0.70735198442484,
          -2.0380165731831723,
          -0.2268007663096546,
          -0.1570710863874976,
          -0.043925259267604065,
          1.2132826148806004,
          -0.35116309161963677,
          -0.22222779417501082,
          -0.4744366412490772,
          0.9675082903553129,
          0.117057975512573,
          1.3648150969859354,
          -0.44309217680230667,
          -0.2426589005323525,
          0.6386264583219761,
          -0.8332164875365083,
          -0.44728663182657197,
          -0.02280652878873671,
          2.225828052114822,
          -0.14800113052807606,
          0.6406805425970652,
          -1.1344693137474502,
          -1.0701856529498481,
          -1.0291026082395422,
          1.439390319110055,
          0.7584810547627114,
          0.5888102171302606,
          0.2724300812740993,
          0.43539688823221795,
          0.47801130939445824,
          0.7306479076541726,
          0.7096123064838874,
          0.38797045860083834,
          0.6450237570733347,
          -1.6733767642736335,
          -0.18122074197359497,
          -0.10116934075473873,
          0.903652841960548,
          -1.1081023040397295,
          0.6399902629524633,
          0.7793730919102405,
          0.875387486712953,
          1.044674558695237,
          -0.4871528085047099,
          -0.6143593693157811,
          0.21228328709304328,
          -1.4146000066232995,
          -1.7253060336527681,
          0.7433283324848287,
          0.0627648959382127,
          -1.0410361166019233,
          -1.0179539366545063,
          -0.12346745371218192,
          -0.19861250276447442,
          -1.2928778298316919,
          -0.39586307865963055,
          -0.7406276396929118,
          0.639801665969883,
          1.5466490194149656,
          -2.25710586595814,
          0.025727214192610162,
          -1.3997758024249467,
          0.6293336997602994,
          0.5524935217565039,
          2.3874015597003724,
          -0.39471117140079154,
          -1.3953941132202565,
          0.40979403089478883,
          -0.23403208703945236,
          -1.5492736810458847,
          -2.80725233529573,
          -0.4855463561126437,
          1.9368340138661833,
          0.007857349331967686,
          -0.8882755436060508,
          -1.6353969003568276,
          -1.3308136151465673,
          -0.5024940855850913,
          -0.09574033787558964,
          1.876487667138215,
          -1.4315406749059392,
          -0.14243853343481255
         ],
         "xaxis": "x8",
         "y": [
          -0.8713196634022675,
          -1.767211174819314,
          -1.0350908487091959,
          -0.08072812492485895,
          -1.1951142174006553,
          -1.8471571622199414,
          1.8801067041568933,
          -1.1058767571189025,
          0.40937518520839133,
          0.5074882970638703,
          -0.9099081392282109,
          -0.23390168778098436,
          1.3793033998833388,
          -0.03876003474237771,
          1.38539784508653,
          0.8040467182086181,
          -1.9859688198263412,
          1.4318814602300922,
          0.2856696833736994,
          -0.02734422820736344,
          2.2604852635308466,
          0.3437984522726635,
          -1.6199777026322286,
          -1.6252434641567413,
          0.819414661012346,
          0.8718682984632122,
          -0.9577172169711519,
          0.26839737955878556,
          1.3259952049003743,
          -0.5112436727714154,
          1.5282438868112913,
          0.46111855997757906,
          0.5103298218556396,
          -1.6594959487403262,
          0.5897407100948779,
          -0.0702770913251112,
          2.145076222618863,
          -0.3302738874863218,
          1.7954077585596733,
          -0.32578556653973817,
          0.8364388798723189,
          0.22696433098098545,
          -0.8327353257833802,
          -1.015031002671774,
          0.37786457003176177,
          -0.8097117301574803,
          -0.9985378053285431,
          0.5203569062543102,
          0.4818184236235761,
          -0.8441091152069875,
          1.2708165965970095,
          -0.70334138878969,
          1.0694277546339286,
          0.6254820710794478,
          -0.009766599509518017,
          0.10566623768884706,
          -0.38865979307592985,
          -0.4287810605985193,
          -0.3739451959228925,
          -0.9145143264683828,
          2.625130148137943,
          0.2778968503855602,
          0.9934389776868553,
          -0.9072450113031999,
          0.5210933674015816,
          0.0830080569450399,
          0.14620986056202875,
          -0.4516254448680814,
          1.1997048520705935,
          -0.45206800531489205,
          1.0943552757896906,
          0.9640478674870745,
          -1.6536100269234513,
          0.101149502791871,
          -0.4152232250614539,
          0.6152742885080315,
          0.2106406522997461,
          0.0019031646346197241,
          0.602635626247644,
          -1.715601158322781,
          0.5628710900741206,
          -0.1294924891033397,
          -0.6355075840796094,
          1.2649381157969501,
          0.02498520572713563,
          0.5104545781590395,
          -0.5702951302023916,
          1.7309202655032256,
          1.2879164184864185,
          -0.36438719814264675,
          0.2745117757241402,
          -0.07135501369983091,
          -0.10594911360867416,
          0.2004243601221823,
          0.5662466524036643,
          0.4151771166224692,
          2.0414607940726452,
          0.3982025407248406,
          -1.2995806760810338,
          0.982890176174143
         ],
         "yaxis": "y8"
        },
        {
         "line": {
          "color": "rgba(128, 128, 128, 1.0)",
          "dash": "solid",
          "shape": "linear",
          "width": 1.3
         },
         "marker": {
          "size": 2,
          "symbol": "circle"
         },
         "mode": "markers",
         "name": "C",
         "text": "",
         "type": "scatter",
         "x": [
          -1.1024981471016053,
          0.45532653178486426,
          0.40391046008714476,
          -0.2809970042901508,
          0.7989989325364689,
          1.0832583953209949,
          -1.234209784210434,
          0.3224994409690922,
          -0.3242087708237595,
          -0.1284653156020744,
          -0.7552748291440724,
          0.8184288968726566,
          0.5422845891231438,
          0.10789901010090519,
          -0.32139817008019994,
          -0.7963759333281335,
          -0.39037680946255826,
          -2.2655403217214696,
          0.5167189806038817,
          1.0311119027127906,
          -0.7280729939339882,
          2.2399138984961033,
          -1.2752392088928555,
          -0.5378918136584961,
          2.0295510309720433,
          0.23191793912741354,
          -0.7489274861749667,
          0.1804315695573513,
          -1.076899175942572,
          0.1480646205053287,
          -2.067689597756462,
          -0.6242648055288316,
          1.9205984896737025,
          -0.6626634145557857,
          0.43755162941932596,
          -0.08301825934472241,
          1.6979277445032026,
          1.3214093229538189,
          -0.5063299960070593,
          -0.0634250885800641,
          1.5099246615970119,
          -0.06181082497718354,
          -0.3409827236091026,
          -0.33324862190788684,
          1.500014889723033,
          -1.5918283819078909,
          0.1436883889894132,
          1.5756106661076734,
          -0.32506572639260684,
          0.37798144298626746,
          0.46348546666861756,
          -2.051188827144377,
          -1.0172458205234336,
          -0.5070704946445844,
          -0.8478731955080303,
          -0.2334924377631749,
          0.19262355458803307,
          -1.3003949447844079,
          -0.9149035966488548,
          0.8229650720355511,
          1.3006243742931636,
          -0.4126201075864305,
          -0.6711296866905244,
          -0.4405250418337267,
          -0.5651290513169568,
          1.0196385357067541,
          0.5877685488555959,
          -0.3945490445285969,
          0.8054155111464418,
          -1.0217863363909698,
          0.46049889877191597,
          0.57181539365208,
          -0.8625271604108457,
          -0.46000004554287016,
          0.02716586732277476,
          0.6816588980785862,
          -0.4668112307509774,
          0.25228987992077717,
          0.8669165806315857,
          0.847033573383717,
          -1.3863133841285744,
          -0.01553686633329219,
          -0.2740973426119702,
          0.043616214784867754,
          -2.1647128799946276,
          -0.05182135785862414,
          -1.384645553366656,
          0.4027841869433865,
          0.11479059202803563,
          0.3819374624127815,
          0.22205933188988886,
          0.9355340173488559,
          -0.2765941836604982,
          0.954866972229284,
          1.073857686349574,
          -1.1885752619110412,
          0.28988033179079464,
          0.8151597284421718,
          -0.9941872219563699,
          1.5368506591655258
         ],
         "xaxis": "x9",
         "y": [
          -0.23191483467728796,
          0.22996169982911116,
          0.37235644215290814,
          -0.18317934630443627,
          0.030269596121248386,
          0.2377912009439052,
          -0.4635781052161619,
          -1.113826422851541,
          -0.4640499369179566,
          0.0862418242527444,
          -0.17526457764388662,
          -1.2394707131388767,
          1.1378268189836096,
          1.1227212390740267,
          0.8469162696258059,
          -0.2352349772821939,
          0.1966858786059231,
          -0.2933140386799466,
          -0.30688059116922967,
          -0.4821681732345493,
          -0.27745071051604725,
          -1.1243501531182385,
          0.057655680779404216,
          0.45004825152232597,
          -0.6431969695826352,
          1.8043144586142832,
          0.5335382114718625,
          -0.558890544540614,
          -1.0720048033208915,
          -0.941563266309427,
          0.348237899267876,
          1.1705473551597216,
          -0.8353913555607797,
          -0.857665180470015,
          -0.34313815056146535,
          -0.6405363663505411,
          -0.005708929644882179,
          -1.0129631575850104,
          0.5779718783951365,
          -1.0519358973969024,
          0.5136347490696667,
          -1.2979934398788073,
          0.5349053270524682,
          2.357078440371061,
          0.7469704623104282,
          -0.7512300212264496,
          -0.0676600767370751,
          1.1717868904695523,
          0.056014652083291414,
          1.9067085542207205,
          0.22696914256599662,
          -1.0227464786175227,
          -0.3662894960812538,
          -1.069064556566524,
          0.5477192163632087,
          0.38967752312019927,
          -0.30929610039500577,
          1.3586255897880464,
          1.5695745260088578,
          -0.440786731303405,
          -1.0467786473869678,
          -0.6406050565135507,
          1.2910836005523305,
          -0.11894889194832031,
          -1.0179449928368667,
          1.3447998121960456,
          0.14512180959110263,
          -1.227725683384825,
          1.4371215964566564,
          -0.0031341668208622908,
          -0.5576920364414308,
          -0.38328672961847204,
          0.026830990387689723,
          -0.8382448805596847,
          0.8827979098248043,
          1.5898469507164932,
          2.604205368168547,
          0.8892144723017181,
          -0.07378398071441221,
          0.4267291792279438,
          0.8950635767904128,
          0.3922940160616898,
          -0.0851112683431683,
          -0.6736568562098894,
          -0.43538967839927634,
          -0.6678661489181582,
          0.4674966404566777,
          1.3041628300440022,
          -1.9223632355127063,
          -0.6824825992913708,
          -0.7251925773027719,
          0.8406610583174904,
          0.6198675777100461,
          1.2865116834532744,
          -1.6841263181861676,
          0.3858325516026786,
          -0.31831457953920045,
          0.9298675048241788,
          0.08512501033433308,
          0.5944382814004443
         ],
         "yaxis": "y9"
        },
        {
         "line": {
          "color": "rgba(128, 128, 128, 1.0)",
          "dash": "solid",
          "shape": "linear",
          "width": 1.3
         },
         "marker": {
          "size": 2,
          "symbol": "circle"
         },
         "mode": "markers",
         "name": "C",
         "text": "",
         "type": "scatter",
         "x": [
          -0.8713196634022675,
          -1.767211174819314,
          -1.0350908487091959,
          -0.08072812492485895,
          -1.1951142174006553,
          -1.8471571622199414,
          1.8801067041568933,
          -1.1058767571189025,
          0.40937518520839133,
          0.5074882970638703,
          -0.9099081392282109,
          -0.23390168778098436,
          1.3793033998833388,
          -0.03876003474237771,
          1.38539784508653,
          0.8040467182086181,
          -1.9859688198263412,
          1.4318814602300922,
          0.2856696833736994,
          -0.02734422820736344,
          2.2604852635308466,
          0.3437984522726635,
          -1.6199777026322286,
          -1.6252434641567413,
          0.819414661012346,
          0.8718682984632122,
          -0.9577172169711519,
          0.26839737955878556,
          1.3259952049003743,
          -0.5112436727714154,
          1.5282438868112913,
          0.46111855997757906,
          0.5103298218556396,
          -1.6594959487403262,
          0.5897407100948779,
          -0.0702770913251112,
          2.145076222618863,
          -0.3302738874863218,
          1.7954077585596733,
          -0.32578556653973817,
          0.8364388798723189,
          0.22696433098098545,
          -0.8327353257833802,
          -1.015031002671774,
          0.37786457003176177,
          -0.8097117301574803,
          -0.9985378053285431,
          0.5203569062543102,
          0.4818184236235761,
          -0.8441091152069875,
          1.2708165965970095,
          -0.70334138878969,
          1.0694277546339286,
          0.6254820710794478,
          -0.009766599509518017,
          0.10566623768884706,
          -0.38865979307592985,
          -0.4287810605985193,
          -0.3739451959228925,
          -0.9145143264683828,
          2.625130148137943,
          0.2778968503855602,
          0.9934389776868553,
          -0.9072450113031999,
          0.5210933674015816,
          0.0830080569450399,
          0.14620986056202875,
          -0.4516254448680814,
          1.1997048520705935,
          -0.45206800531489205,
          1.0943552757896906,
          0.9640478674870745,
          -1.6536100269234513,
          0.101149502791871,
          -0.4152232250614539,
          0.6152742885080315,
          0.2106406522997461,
          0.0019031646346197241,
          0.602635626247644,
          -1.715601158322781,
          0.5628710900741206,
          -0.1294924891033397,
          -0.6355075840796094,
          1.2649381157969501,
          0.02498520572713563,
          0.5104545781590395,
          -0.5702951302023916,
          1.7309202655032256,
          1.2879164184864185,
          -0.36438719814264675,
          0.2745117757241402,
          -0.07135501369983091,
          -0.10594911360867416,
          0.2004243601221823,
          0.5662466524036643,
          0.4151771166224692,
          2.0414607940726452,
          0.3982025407248406,
          -1.2995806760810338,
          0.982890176174143
         ],
         "xaxis": "x10",
         "y": [
          -0.23191483467728796,
          0.22996169982911116,
          0.37235644215290814,
          -0.18317934630443627,
          0.030269596121248386,
          0.2377912009439052,
          -0.4635781052161619,
          -1.113826422851541,
          -0.4640499369179566,
          0.0862418242527444,
          -0.17526457764388662,
          -1.2394707131388767,
          1.1378268189836096,
          1.1227212390740267,
          0.8469162696258059,
          -0.2352349772821939,
          0.1966858786059231,
          -0.2933140386799466,
          -0.30688059116922967,
          -0.4821681732345493,
          -0.27745071051604725,
          -1.1243501531182385,
          0.057655680779404216,
          0.45004825152232597,
          -0.6431969695826352,
          1.8043144586142832,
          0.5335382114718625,
          -0.558890544540614,
          -1.0720048033208915,
          -0.941563266309427,
          0.348237899267876,
          1.1705473551597216,
          -0.8353913555607797,
          -0.857665180470015,
          -0.34313815056146535,
          -0.6405363663505411,
          -0.005708929644882179,
          -1.0129631575850104,
          0.5779718783951365,
          -1.0519358973969024,
          0.5136347490696667,
          -1.2979934398788073,
          0.5349053270524682,
          2.357078440371061,
          0.7469704623104282,
          -0.7512300212264496,
          -0.0676600767370751,
          1.1717868904695523,
          0.056014652083291414,
          1.9067085542207205,
          0.22696914256599662,
          -1.0227464786175227,
          -0.3662894960812538,
          -1.069064556566524,
          0.5477192163632087,
          0.38967752312019927,
          -0.30929610039500577,
          1.3586255897880464,
          1.5695745260088578,
          -0.440786731303405,
          -1.0467786473869678,
          -0.6406050565135507,
          1.2910836005523305,
          -0.11894889194832031,
          -1.0179449928368667,
          1.3447998121960456,
          0.14512180959110263,
          -1.227725683384825,
          1.4371215964566564,
          -0.0031341668208622908,
          -0.5576920364414308,
          -0.38328672961847204,
          0.026830990387689723,
          -0.8382448805596847,
          0.8827979098248043,
          1.5898469507164932,
          2.604205368168547,
          0.8892144723017181,
          -0.07378398071441221,
          0.4267291792279438,
          0.8950635767904128,
          0.3922940160616898,
          -0.0851112683431683,
          -0.6736568562098894,
          -0.43538967839927634,
          -0.6678661489181582,
          0.4674966404566777,
          1.3041628300440022,
          -1.9223632355127063,
          -0.6824825992913708,
          -0.7251925773027719,
          0.8406610583174904,
          0.6198675777100461,
          1.2865116834532744,
          -1.6841263181861676,
          0.3858325516026786,
          -0.31831457953920045,
          0.9298675048241788,
          0.08512501033433308,
          0.5944382814004443
         ],
         "yaxis": "y10"
        },
        {
         "histfunc": "count",
         "histnorm": "",
         "marker": {
          "color": "rgba(50, 171, 96, 1.0)",
          "line": {
           "color": "#4D5663",
           "width": 1.3
          }
         },
         "name": "C",
         "nbinsx": 10,
         "opacity": 0.8,
         "orientation": "v",
         "type": "histogram",
         "x": [
          -0.23191483467728796,
          0.22996169982911116,
          0.37235644215290814,
          -0.18317934630443627,
          0.030269596121248386,
          0.2377912009439052,
          -0.4635781052161619,
          -1.113826422851541,
          -0.4640499369179566,
          0.0862418242527444,
          -0.17526457764388662,
          -1.2394707131388767,
          1.1378268189836096,
          1.1227212390740267,
          0.8469162696258059,
          -0.2352349772821939,
          0.1966858786059231,
          -0.2933140386799466,
          -0.30688059116922967,
          -0.4821681732345493,
          -0.27745071051604725,
          -1.1243501531182385,
          0.057655680779404216,
          0.45004825152232597,
          -0.6431969695826352,
          1.8043144586142832,
          0.5335382114718625,
          -0.558890544540614,
          -1.0720048033208915,
          -0.941563266309427,
          0.348237899267876,
          1.1705473551597216,
          -0.8353913555607797,
          -0.857665180470015,
          -0.34313815056146535,
          -0.6405363663505411,
          -0.005708929644882179,
          -1.0129631575850104,
          0.5779718783951365,
          -1.0519358973969024,
          0.5136347490696667,
          -1.2979934398788073,
          0.5349053270524682,
          2.357078440371061,
          0.7469704623104282,
          -0.7512300212264496,
          -0.0676600767370751,
          1.1717868904695523,
          0.056014652083291414,
          1.9067085542207205,
          0.22696914256599662,
          -1.0227464786175227,
          -0.3662894960812538,
          -1.069064556566524,
          0.5477192163632087,
          0.38967752312019927,
          -0.30929610039500577,
          1.3586255897880464,
          1.5695745260088578,
          -0.440786731303405,
          -1.0467786473869678,
          -0.6406050565135507,
          1.2910836005523305,
          -0.11894889194832031,
          -1.0179449928368667,
          1.3447998121960456,
          0.14512180959110263,
          -1.227725683384825,
          1.4371215964566564,
          -0.0031341668208622908,
          -0.5576920364414308,
          -0.38328672961847204,
          0.026830990387689723,
          -0.8382448805596847,
          0.8827979098248043,
          1.5898469507164932,
          2.604205368168547,
          0.8892144723017181,
          -0.07378398071441221,
          0.4267291792279438,
          0.8950635767904128,
          0.3922940160616898,
          -0.0851112683431683,
          -0.6736568562098894,
          -0.43538967839927634,
          -0.6678661489181582,
          0.4674966404566777,
          1.3041628300440022,
          -1.9223632355127063,
          -0.6824825992913708,
          -0.7251925773027719,
          0.8406610583174904,
          0.6198675777100461,
          1.2865116834532744,
          -1.6841263181861676,
          0.3858325516026786,
          -0.31831457953920045,
          0.9298675048241788,
          0.08512501033433308,
          0.5944382814004443
         ],
         "xaxis": "x11",
         "yaxis": "y11"
        },
        {
         "line": {
          "color": "rgba(128, 128, 128, 1.0)",
          "dash": "solid",
          "shape": "linear",
          "width": 1.3
         },
         "marker": {
          "size": 2,
          "symbol": "circle"
         },
         "mode": "markers",
         "name": "C",
         "text": "",
         "type": "scatter",
         "x": [
          1.7420011505283355,
          -0.21407790210814454,
          -0.8346995928206267,
          0.3572143263372206,
          -0.44861423493977404,
          -1.6081212330874752,
          0.801690734912549,
          -0.6109376576801621,
          2.1373076535109092,
          -0.3895897715840815,
          0.49813442940114483,
          0.9759970066716024,
          -0.7932651994978115,
          0.6835870707382509,
          -0.3274394480942042,
          1.8709656860865775,
          0.3111020957103798,
          -0.7509733514305589,
          0.70735198442484,
          -2.0380165731831723,
          -0.2268007663096546,
          -0.1570710863874976,
          -0.043925259267604065,
          1.2132826148806004,
          -0.35116309161963677,
          -0.22222779417501082,
          -0.4744366412490772,
          0.9675082903553129,
          0.117057975512573,
          1.3648150969859354,
          -0.44309217680230667,
          -0.2426589005323525,
          0.6386264583219761,
          -0.8332164875365083,
          -0.44728663182657197,
          -0.02280652878873671,
          2.225828052114822,
          -0.14800113052807606,
          0.6406805425970652,
          -1.1344693137474502,
          -1.0701856529498481,
          -1.0291026082395422,
          1.439390319110055,
          0.7584810547627114,
          0.5888102171302606,
          0.2724300812740993,
          0.43539688823221795,
          0.47801130939445824,
          0.7306479076541726,
          0.7096123064838874,
          0.38797045860083834,
          0.6450237570733347,
          -1.6733767642736335,
          -0.18122074197359497,
          -0.10116934075473873,
          0.903652841960548,
          -1.1081023040397295,
          0.6399902629524633,
          0.7793730919102405,
          0.875387486712953,
          1.044674558695237,
          -0.4871528085047099,
          -0.6143593693157811,
          0.21228328709304328,
          -1.4146000066232995,
          -1.7253060336527681,
          0.7433283324848287,
          0.0627648959382127,
          -1.0410361166019233,
          -1.0179539366545063,
          -0.12346745371218192,
          -0.19861250276447442,
          -1.2928778298316919,
          -0.39586307865963055,
          -0.7406276396929118,
          0.639801665969883,
          1.5466490194149656,
          -2.25710586595814,
          0.025727214192610162,
          -1.3997758024249467,
          0.6293336997602994,
          0.5524935217565039,
          2.3874015597003724,
          -0.39471117140079154,
          -1.3953941132202565,
          0.40979403089478883,
          -0.23403208703945236,
          -1.5492736810458847,
          -2.80725233529573,
          -0.4855463561126437,
          1.9368340138661833,
          0.007857349331967686,
          -0.8882755436060508,
          -1.6353969003568276,
          -1.3308136151465673,
          -0.5024940855850913,
          -0.09574033787558964,
          1.876487667138215,
          -1.4315406749059392,
          -0.14243853343481255
         ],
         "xaxis": "x12",
         "y": [
          -0.23191483467728796,
          0.22996169982911116,
          0.37235644215290814,
          -0.18317934630443627,
          0.030269596121248386,
          0.2377912009439052,
          -0.4635781052161619,
          -1.113826422851541,
          -0.4640499369179566,
          0.0862418242527444,
          -0.17526457764388662,
          -1.2394707131388767,
          1.1378268189836096,
          1.1227212390740267,
          0.8469162696258059,
          -0.2352349772821939,
          0.1966858786059231,
          -0.2933140386799466,
          -0.30688059116922967,
          -0.4821681732345493,
          -0.27745071051604725,
          -1.1243501531182385,
          0.057655680779404216,
          0.45004825152232597,
          -0.6431969695826352,
          1.8043144586142832,
          0.5335382114718625,
          -0.558890544540614,
          -1.0720048033208915,
          -0.941563266309427,
          0.348237899267876,
          1.1705473551597216,
          -0.8353913555607797,
          -0.857665180470015,
          -0.34313815056146535,
          -0.6405363663505411,
          -0.005708929644882179,
          -1.0129631575850104,
          0.5779718783951365,
          -1.0519358973969024,
          0.5136347490696667,
          -1.2979934398788073,
          0.5349053270524682,
          2.357078440371061,
          0.7469704623104282,
          -0.7512300212264496,
          -0.0676600767370751,
          1.1717868904695523,
          0.056014652083291414,
          1.9067085542207205,
          0.22696914256599662,
          -1.0227464786175227,
          -0.3662894960812538,
          -1.069064556566524,
          0.5477192163632087,
          0.38967752312019927,
          -0.30929610039500577,
          1.3586255897880464,
          1.5695745260088578,
          -0.440786731303405,
          -1.0467786473869678,
          -0.6406050565135507,
          1.2910836005523305,
          -0.11894889194832031,
          -1.0179449928368667,
          1.3447998121960456,
          0.14512180959110263,
          -1.227725683384825,
          1.4371215964566564,
          -0.0031341668208622908,
          -0.5576920364414308,
          -0.38328672961847204,
          0.026830990387689723,
          -0.8382448805596847,
          0.8827979098248043,
          1.5898469507164932,
          2.604205368168547,
          0.8892144723017181,
          -0.07378398071441221,
          0.4267291792279438,
          0.8950635767904128,
          0.3922940160616898,
          -0.0851112683431683,
          -0.6736568562098894,
          -0.43538967839927634,
          -0.6678661489181582,
          0.4674966404566777,
          1.3041628300440022,
          -1.9223632355127063,
          -0.6824825992913708,
          -0.7251925773027719,
          0.8406610583174904,
          0.6198675777100461,
          1.2865116834532744,
          -1.6841263181861676,
          0.3858325516026786,
          -0.31831457953920045,
          0.9298675048241788,
          0.08512501033433308,
          0.5944382814004443
         ],
         "yaxis": "y12"
        },
        {
         "line": {
          "color": "rgba(128, 128, 128, 1.0)",
          "dash": "solid",
          "shape": "linear",
          "width": 1.3
         },
         "marker": {
          "size": 2,
          "symbol": "circle"
         },
         "mode": "markers",
         "name": "D",
         "text": "",
         "type": "scatter",
         "x": [
          -1.1024981471016053,
          0.45532653178486426,
          0.40391046008714476,
          -0.2809970042901508,
          0.7989989325364689,
          1.0832583953209949,
          -1.234209784210434,
          0.3224994409690922,
          -0.3242087708237595,
          -0.1284653156020744,
          -0.7552748291440724,
          0.8184288968726566,
          0.5422845891231438,
          0.10789901010090519,
          -0.32139817008019994,
          -0.7963759333281335,
          -0.39037680946255826,
          -2.2655403217214696,
          0.5167189806038817,
          1.0311119027127906,
          -0.7280729939339882,
          2.2399138984961033,
          -1.2752392088928555,
          -0.5378918136584961,
          2.0295510309720433,
          0.23191793912741354,
          -0.7489274861749667,
          0.1804315695573513,
          -1.076899175942572,
          0.1480646205053287,
          -2.067689597756462,
          -0.6242648055288316,
          1.9205984896737025,
          -0.6626634145557857,
          0.43755162941932596,
          -0.08301825934472241,
          1.6979277445032026,
          1.3214093229538189,
          -0.5063299960070593,
          -0.0634250885800641,
          1.5099246615970119,
          -0.06181082497718354,
          -0.3409827236091026,
          -0.33324862190788684,
          1.500014889723033,
          -1.5918283819078909,
          0.1436883889894132,
          1.5756106661076734,
          -0.32506572639260684,
          0.37798144298626746,
          0.46348546666861756,
          -2.051188827144377,
          -1.0172458205234336,
          -0.5070704946445844,
          -0.8478731955080303,
          -0.2334924377631749,
          0.19262355458803307,
          -1.3003949447844079,
          -0.9149035966488548,
          0.8229650720355511,
          1.3006243742931636,
          -0.4126201075864305,
          -0.6711296866905244,
          -0.4405250418337267,
          -0.5651290513169568,
          1.0196385357067541,
          0.5877685488555959,
          -0.3945490445285969,
          0.8054155111464418,
          -1.0217863363909698,
          0.46049889877191597,
          0.57181539365208,
          -0.8625271604108457,
          -0.46000004554287016,
          0.02716586732277476,
          0.6816588980785862,
          -0.4668112307509774,
          0.25228987992077717,
          0.8669165806315857,
          0.847033573383717,
          -1.3863133841285744,
          -0.01553686633329219,
          -0.2740973426119702,
          0.043616214784867754,
          -2.1647128799946276,
          -0.05182135785862414,
          -1.384645553366656,
          0.4027841869433865,
          0.11479059202803563,
          0.3819374624127815,
          0.22205933188988886,
          0.9355340173488559,
          -0.2765941836604982,
          0.954866972229284,
          1.073857686349574,
          -1.1885752619110412,
          0.28988033179079464,
          0.8151597284421718,
          -0.9941872219563699,
          1.5368506591655258
         ],
         "xaxis": "x13",
         "y": [
          1.7420011505283355,
          -0.21407790210814454,
          -0.8346995928206267,
          0.3572143263372206,
          -0.44861423493977404,
          -1.6081212330874752,
          0.801690734912549,
          -0.6109376576801621,
          2.1373076535109092,
          -0.3895897715840815,
          0.49813442940114483,
          0.9759970066716024,
          -0.7932651994978115,
          0.6835870707382509,
          -0.3274394480942042,
          1.8709656860865775,
          0.3111020957103798,
          -0.7509733514305589,
          0.70735198442484,
          -2.0380165731831723,
          -0.2268007663096546,
          -0.1570710863874976,
          -0.043925259267604065,
          1.2132826148806004,
          -0.35116309161963677,
          -0.22222779417501082,
          -0.4744366412490772,
          0.9675082903553129,
          0.117057975512573,
          1.3648150969859354,
          -0.44309217680230667,
          -0.2426589005323525,
          0.6386264583219761,
          -0.8332164875365083,
          -0.44728663182657197,
          -0.02280652878873671,
          2.225828052114822,
          -0.14800113052807606,
          0.6406805425970652,
          -1.1344693137474502,
          -1.0701856529498481,
          -1.0291026082395422,
          1.439390319110055,
          0.7584810547627114,
          0.5888102171302606,
          0.2724300812740993,
          0.43539688823221795,
          0.47801130939445824,
          0.7306479076541726,
          0.7096123064838874,
          0.38797045860083834,
          0.6450237570733347,
          -1.6733767642736335,
          -0.18122074197359497,
          -0.10116934075473873,
          0.903652841960548,
          -1.1081023040397295,
          0.6399902629524633,
          0.7793730919102405,
          0.875387486712953,
          1.044674558695237,
          -0.4871528085047099,
          -0.6143593693157811,
          0.21228328709304328,
          -1.4146000066232995,
          -1.7253060336527681,
          0.7433283324848287,
          0.0627648959382127,
          -1.0410361166019233,
          -1.0179539366545063,
          -0.12346745371218192,
          -0.19861250276447442,
          -1.2928778298316919,
          -0.39586307865963055,
          -0.7406276396929118,
          0.639801665969883,
          1.5466490194149656,
          -2.25710586595814,
          0.025727214192610162,
          -1.3997758024249467,
          0.6293336997602994,
          0.5524935217565039,
          2.3874015597003724,
          -0.39471117140079154,
          -1.3953941132202565,
          0.40979403089478883,
          -0.23403208703945236,
          -1.5492736810458847,
          -2.80725233529573,
          -0.4855463561126437,
          1.9368340138661833,
          0.007857349331967686,
          -0.8882755436060508,
          -1.6353969003568276,
          -1.3308136151465673,
          -0.5024940855850913,
          -0.09574033787558964,
          1.876487667138215,
          -1.4315406749059392,
          -0.14243853343481255
         ],
         "yaxis": "y13"
        },
        {
         "line": {
          "color": "rgba(128, 128, 128, 1.0)",
          "dash": "solid",
          "shape": "linear",
          "width": 1.3
         },
         "marker": {
          "size": 2,
          "symbol": "circle"
         },
         "mode": "markers",
         "name": "D",
         "text": "",
         "type": "scatter",
         "x": [
          -0.8713196634022675,
          -1.767211174819314,
          -1.0350908487091959,
          -0.08072812492485895,
          -1.1951142174006553,
          -1.8471571622199414,
          1.8801067041568933,
          -1.1058767571189025,
          0.40937518520839133,
          0.5074882970638703,
          -0.9099081392282109,
          -0.23390168778098436,
          1.3793033998833388,
          -0.03876003474237771,
          1.38539784508653,
          0.8040467182086181,
          -1.9859688198263412,
          1.4318814602300922,
          0.2856696833736994,
          -0.02734422820736344,
          2.2604852635308466,
          0.3437984522726635,
          -1.6199777026322286,
          -1.6252434641567413,
          0.819414661012346,
          0.8718682984632122,
          -0.9577172169711519,
          0.26839737955878556,
          1.3259952049003743,
          -0.5112436727714154,
          1.5282438868112913,
          0.46111855997757906,
          0.5103298218556396,
          -1.6594959487403262,
          0.5897407100948779,
          -0.0702770913251112,
          2.145076222618863,
          -0.3302738874863218,
          1.7954077585596733,
          -0.32578556653973817,
          0.8364388798723189,
          0.22696433098098545,
          -0.8327353257833802,
          -1.015031002671774,
          0.37786457003176177,
          -0.8097117301574803,
          -0.9985378053285431,
          0.5203569062543102,
          0.4818184236235761,
          -0.8441091152069875,
          1.2708165965970095,
          -0.70334138878969,
          1.0694277546339286,
          0.6254820710794478,
          -0.009766599509518017,
          0.10566623768884706,
          -0.38865979307592985,
          -0.4287810605985193,
          -0.3739451959228925,
          -0.9145143264683828,
          2.625130148137943,
          0.2778968503855602,
          0.9934389776868553,
          -0.9072450113031999,
          0.5210933674015816,
          0.0830080569450399,
          0.14620986056202875,
          -0.4516254448680814,
          1.1997048520705935,
          -0.45206800531489205,
          1.0943552757896906,
          0.9640478674870745,
          -1.6536100269234513,
          0.101149502791871,
          -0.4152232250614539,
          0.6152742885080315,
          0.2106406522997461,
          0.0019031646346197241,
          0.602635626247644,
          -1.715601158322781,
          0.5628710900741206,
          -0.1294924891033397,
          -0.6355075840796094,
          1.2649381157969501,
          0.02498520572713563,
          0.5104545781590395,
          -0.5702951302023916,
          1.7309202655032256,
          1.2879164184864185,
          -0.36438719814264675,
          0.2745117757241402,
          -0.07135501369983091,
          -0.10594911360867416,
          0.2004243601221823,
          0.5662466524036643,
          0.4151771166224692,
          2.0414607940726452,
          0.3982025407248406,
          -1.2995806760810338,
          0.982890176174143
         ],
         "xaxis": "x14",
         "y": [
          1.7420011505283355,
          -0.21407790210814454,
          -0.8346995928206267,
          0.3572143263372206,
          -0.44861423493977404,
          -1.6081212330874752,
          0.801690734912549,
          -0.6109376576801621,
          2.1373076535109092,
          -0.3895897715840815,
          0.49813442940114483,
          0.9759970066716024,
          -0.7932651994978115,
          0.6835870707382509,
          -0.3274394480942042,
          1.8709656860865775,
          0.3111020957103798,
          -0.7509733514305589,
          0.70735198442484,
          -2.0380165731831723,
          -0.2268007663096546,
          -0.1570710863874976,
          -0.043925259267604065,
          1.2132826148806004,
          -0.35116309161963677,
          -0.22222779417501082,
          -0.4744366412490772,
          0.9675082903553129,
          0.117057975512573,
          1.3648150969859354,
          -0.44309217680230667,
          -0.2426589005323525,
          0.6386264583219761,
          -0.8332164875365083,
          -0.44728663182657197,
          -0.02280652878873671,
          2.225828052114822,
          -0.14800113052807606,
          0.6406805425970652,
          -1.1344693137474502,
          -1.0701856529498481,
          -1.0291026082395422,
          1.439390319110055,
          0.7584810547627114,
          0.5888102171302606,
          0.2724300812740993,
          0.43539688823221795,
          0.47801130939445824,
          0.7306479076541726,
          0.7096123064838874,
          0.38797045860083834,
          0.6450237570733347,
          -1.6733767642736335,
          -0.18122074197359497,
          -0.10116934075473873,
          0.903652841960548,
          -1.1081023040397295,
          0.6399902629524633,
          0.7793730919102405,
          0.875387486712953,
          1.044674558695237,
          -0.4871528085047099,
          -0.6143593693157811,
          0.21228328709304328,
          -1.4146000066232995,
          -1.7253060336527681,
          0.7433283324848287,
          0.0627648959382127,
          -1.0410361166019233,
          -1.0179539366545063,
          -0.12346745371218192,
          -0.19861250276447442,
          -1.2928778298316919,
          -0.39586307865963055,
          -0.7406276396929118,
          0.639801665969883,
          1.5466490194149656,
          -2.25710586595814,
          0.025727214192610162,
          -1.3997758024249467,
          0.6293336997602994,
          0.5524935217565039,
          2.3874015597003724,
          -0.39471117140079154,
          -1.3953941132202565,
          0.40979403089478883,
          -0.23403208703945236,
          -1.5492736810458847,
          -2.80725233529573,
          -0.4855463561126437,
          1.9368340138661833,
          0.007857349331967686,
          -0.8882755436060508,
          -1.6353969003568276,
          -1.3308136151465673,
          -0.5024940855850913,
          -0.09574033787558964,
          1.876487667138215,
          -1.4315406749059392,
          -0.14243853343481255
         ],
         "yaxis": "y14"
        },
        {
         "line": {
          "color": "rgba(128, 128, 128, 1.0)",
          "dash": "solid",
          "shape": "linear",
          "width": 1.3
         },
         "marker": {
          "size": 2,
          "symbol": "circle"
         },
         "mode": "markers",
         "name": "D",
         "text": "",
         "type": "scatter",
         "x": [
          -0.23191483467728796,
          0.22996169982911116,
          0.37235644215290814,
          -0.18317934630443627,
          0.030269596121248386,
          0.2377912009439052,
          -0.4635781052161619,
          -1.113826422851541,
          -0.4640499369179566,
          0.0862418242527444,
          -0.17526457764388662,
          -1.2394707131388767,
          1.1378268189836096,
          1.1227212390740267,
          0.8469162696258059,
          -0.2352349772821939,
          0.1966858786059231,
          -0.2933140386799466,
          -0.30688059116922967,
          -0.4821681732345493,
          -0.27745071051604725,
          -1.1243501531182385,
          0.057655680779404216,
          0.45004825152232597,
          -0.6431969695826352,
          1.8043144586142832,
          0.5335382114718625,
          -0.558890544540614,
          -1.0720048033208915,
          -0.941563266309427,
          0.348237899267876,
          1.1705473551597216,
          -0.8353913555607797,
          -0.857665180470015,
          -0.34313815056146535,
          -0.6405363663505411,
          -0.005708929644882179,
          -1.0129631575850104,
          0.5779718783951365,
          -1.0519358973969024,
          0.5136347490696667,
          -1.2979934398788073,
          0.5349053270524682,
          2.357078440371061,
          0.7469704623104282,
          -0.7512300212264496,
          -0.0676600767370751,
          1.1717868904695523,
          0.056014652083291414,
          1.9067085542207205,
          0.22696914256599662,
          -1.0227464786175227,
          -0.3662894960812538,
          -1.069064556566524,
          0.5477192163632087,
          0.38967752312019927,
          -0.30929610039500577,
          1.3586255897880464,
          1.5695745260088578,
          -0.440786731303405,
          -1.0467786473869678,
          -0.6406050565135507,
          1.2910836005523305,
          -0.11894889194832031,
          -1.0179449928368667,
          1.3447998121960456,
          0.14512180959110263,
          -1.227725683384825,
          1.4371215964566564,
          -0.0031341668208622908,
          -0.5576920364414308,
          -0.38328672961847204,
          0.026830990387689723,
          -0.8382448805596847,
          0.8827979098248043,
          1.5898469507164932,
          2.604205368168547,
          0.8892144723017181,
          -0.07378398071441221,
          0.4267291792279438,
          0.8950635767904128,
          0.3922940160616898,
          -0.0851112683431683,
          -0.6736568562098894,
          -0.43538967839927634,
          -0.6678661489181582,
          0.4674966404566777,
          1.3041628300440022,
          -1.9223632355127063,
          -0.6824825992913708,
          -0.7251925773027719,
          0.8406610583174904,
          0.6198675777100461,
          1.2865116834532744,
          -1.6841263181861676,
          0.3858325516026786,
          -0.31831457953920045,
          0.9298675048241788,
          0.08512501033433308,
          0.5944382814004443
         ],
         "xaxis": "x15",
         "y": [
          1.7420011505283355,
          -0.21407790210814454,
          -0.8346995928206267,
          0.3572143263372206,
          -0.44861423493977404,
          -1.6081212330874752,
          0.801690734912549,
          -0.6109376576801621,
          2.1373076535109092,
          -0.3895897715840815,
          0.49813442940114483,
          0.9759970066716024,
          -0.7932651994978115,
          0.6835870707382509,
          -0.3274394480942042,
          1.8709656860865775,
          0.3111020957103798,
          -0.7509733514305589,
          0.70735198442484,
          -2.0380165731831723,
          -0.2268007663096546,
          -0.1570710863874976,
          -0.043925259267604065,
          1.2132826148806004,
          -0.35116309161963677,
          -0.22222779417501082,
          -0.4744366412490772,
          0.9675082903553129,
          0.117057975512573,
          1.3648150969859354,
          -0.44309217680230667,
          -0.2426589005323525,
          0.6386264583219761,
          -0.8332164875365083,
          -0.44728663182657197,
          -0.02280652878873671,
          2.225828052114822,
          -0.14800113052807606,
          0.6406805425970652,
          -1.1344693137474502,
          -1.0701856529498481,
          -1.0291026082395422,
          1.439390319110055,
          0.7584810547627114,
          0.5888102171302606,
          0.2724300812740993,
          0.43539688823221795,
          0.47801130939445824,
          0.7306479076541726,
          0.7096123064838874,
          0.38797045860083834,
          0.6450237570733347,
          -1.6733767642736335,
          -0.18122074197359497,
          -0.10116934075473873,
          0.903652841960548,
          -1.1081023040397295,
          0.6399902629524633,
          0.7793730919102405,
          0.875387486712953,
          1.044674558695237,
          -0.4871528085047099,
          -0.6143593693157811,
          0.21228328709304328,
          -1.4146000066232995,
          -1.7253060336527681,
          0.7433283324848287,
          0.0627648959382127,
          -1.0410361166019233,
          -1.0179539366545063,
          -0.12346745371218192,
          -0.19861250276447442,
          -1.2928778298316919,
          -0.39586307865963055,
          -0.7406276396929118,
          0.639801665969883,
          1.5466490194149656,
          -2.25710586595814,
          0.025727214192610162,
          -1.3997758024249467,
          0.6293336997602994,
          0.5524935217565039,
          2.3874015597003724,
          -0.39471117140079154,
          -1.3953941132202565,
          0.40979403089478883,
          -0.23403208703945236,
          -1.5492736810458847,
          -2.80725233529573,
          -0.4855463561126437,
          1.9368340138661833,
          0.007857349331967686,
          -0.8882755436060508,
          -1.6353969003568276,
          -1.3308136151465673,
          -0.5024940855850913,
          -0.09574033787558964,
          1.876487667138215,
          -1.4315406749059392,
          -0.14243853343481255
         ],
         "yaxis": "y15"
        },
        {
         "histfunc": "count",
         "histnorm": "",
         "marker": {
          "color": "rgba(128, 0, 128, 1.0)",
          "line": {
           "color": "#4D5663",
           "width": 1.3
          }
         },
         "name": "D",
         "nbinsx": 10,
         "opacity": 0.8,
         "orientation": "v",
         "type": "histogram",
         "x": [
          1.7420011505283355,
          -0.21407790210814454,
          -0.8346995928206267,
          0.3572143263372206,
          -0.44861423493977404,
          -1.6081212330874752,
          0.801690734912549,
          -0.6109376576801621,
          2.1373076535109092,
          -0.3895897715840815,
          0.49813442940114483,
          0.9759970066716024,
          -0.7932651994978115,
          0.6835870707382509,
          -0.3274394480942042,
          1.8709656860865775,
          0.3111020957103798,
          -0.7509733514305589,
          0.70735198442484,
          -2.0380165731831723,
          -0.2268007663096546,
          -0.1570710863874976,
          -0.043925259267604065,
          1.2132826148806004,
          -0.35116309161963677,
          -0.22222779417501082,
          -0.4744366412490772,
          0.9675082903553129,
          0.117057975512573,
          1.3648150969859354,
          -0.44309217680230667,
          -0.2426589005323525,
          0.6386264583219761,
          -0.8332164875365083,
          -0.44728663182657197,
          -0.02280652878873671,
          2.225828052114822,
          -0.14800113052807606,
          0.6406805425970652,
          -1.1344693137474502,
          -1.0701856529498481,
          -1.0291026082395422,
          1.439390319110055,
          0.7584810547627114,
          0.5888102171302606,
          0.2724300812740993,
          0.43539688823221795,
          0.47801130939445824,
          0.7306479076541726,
          0.7096123064838874,
          0.38797045860083834,
          0.6450237570733347,
          -1.6733767642736335,
          -0.18122074197359497,
          -0.10116934075473873,
          0.903652841960548,
          -1.1081023040397295,
          0.6399902629524633,
          0.7793730919102405,
          0.875387486712953,
          1.044674558695237,
          -0.4871528085047099,
          -0.6143593693157811,
          0.21228328709304328,
          -1.4146000066232995,
          -1.7253060336527681,
          0.7433283324848287,
          0.0627648959382127,
          -1.0410361166019233,
          -1.0179539366545063,
          -0.12346745371218192,
          -0.19861250276447442,
          -1.2928778298316919,
          -0.39586307865963055,
          -0.7406276396929118,
          0.639801665969883,
          1.5466490194149656,
          -2.25710586595814,
          0.025727214192610162,
          -1.3997758024249467,
          0.6293336997602994,
          0.5524935217565039,
          2.3874015597003724,
          -0.39471117140079154,
          -1.3953941132202565,
          0.40979403089478883,
          -0.23403208703945236,
          -1.5492736810458847,
          -2.80725233529573,
          -0.4855463561126437,
          1.9368340138661833,
          0.007857349331967686,
          -0.8882755436060508,
          -1.6353969003568276,
          -1.3308136151465673,
          -0.5024940855850913,
          -0.09574033787558964,
          1.876487667138215,
          -1.4315406749059392,
          -0.14243853343481255
         ],
         "xaxis": "x16",
         "yaxis": "y16"
        }
       ],
       "layout": {
        "bargap": 0.02,
        "legend": {
         "bgcolor": "#F5F6F9",
         "font": {
          "color": "#4D5663"
         }
        },
        "paper_bgcolor": "#F5F6F9",
        "plot_bgcolor": "#F5F6F9",
        "showlegend": false,
        "template": {
         "data": {
          "bar": [
           {
            "error_x": {
             "color": "#2a3f5f"
            },
            "error_y": {
             "color": "#2a3f5f"
            },
            "marker": {
             "line": {
              "color": "#E5ECF6",
              "width": 0.5
             },
             "pattern": {
              "fillmode": "overlay",
              "size": 10,
              "solidity": 0.2
             }
            },
            "type": "bar"
           }
          ],
          "barpolar": [
           {
            "marker": {
             "line": {
              "color": "#E5ECF6",
              "width": 0.5
             },
             "pattern": {
              "fillmode": "overlay",
              "size": 10,
              "solidity": 0.2
             }
            },
            "type": "barpolar"
           }
          ],
          "carpet": [
           {
            "aaxis": {
             "endlinecolor": "#2a3f5f",
             "gridcolor": "white",
             "linecolor": "white",
             "minorgridcolor": "white",
             "startlinecolor": "#2a3f5f"
            },
            "baxis": {
             "endlinecolor": "#2a3f5f",
             "gridcolor": "white",
             "linecolor": "white",
             "minorgridcolor": "white",
             "startlinecolor": "#2a3f5f"
            },
            "type": "carpet"
           }
          ],
          "choropleth": [
           {
            "colorbar": {
             "outlinewidth": 0,
             "ticks": ""
            },
            "type": "choropleth"
           }
          ],
          "contour": [
           {
            "colorbar": {
             "outlinewidth": 0,
             "ticks": ""
            },
            "colorscale": [
             [
              0,
              "#0d0887"
             ],
             [
              0.1111111111111111,
              "#46039f"
             ],
             [
              0.2222222222222222,
              "#7201a8"
             ],
             [
              0.3333333333333333,
              "#9c179e"
             ],
             [
              0.4444444444444444,
              "#bd3786"
             ],
             [
              0.5555555555555556,
              "#d8576b"
             ],
             [
              0.6666666666666666,
              "#ed7953"
             ],
             [
              0.7777777777777778,
              "#fb9f3a"
             ],
             [
              0.8888888888888888,
              "#fdca26"
             ],
             [
              1,
              "#f0f921"
             ]
            ],
            "type": "contour"
           }
          ],
          "contourcarpet": [
           {
            "colorbar": {
             "outlinewidth": 0,
             "ticks": ""
            },
            "type": "contourcarpet"
           }
          ],
          "heatmap": [
           {
            "colorbar": {
             "outlinewidth": 0,
             "ticks": ""
            },
            "colorscale": [
             [
              0,
              "#0d0887"
             ],
             [
              0.1111111111111111,
              "#46039f"
             ],
             [
              0.2222222222222222,
              "#7201a8"
             ],
             [
              0.3333333333333333,
              "#9c179e"
             ],
             [
              0.4444444444444444,
              "#bd3786"
             ],
             [
              0.5555555555555556,
              "#d8576b"
             ],
             [
              0.6666666666666666,
              "#ed7953"
             ],
             [
              0.7777777777777778,
              "#fb9f3a"
             ],
             [
              0.8888888888888888,
              "#fdca26"
             ],
             [
              1,
              "#f0f921"
             ]
            ],
            "type": "heatmap"
           }
          ],
          "heatmapgl": [
           {
            "colorbar": {
             "outlinewidth": 0,
             "ticks": ""
            },
            "colorscale": [
             [
              0,
              "#0d0887"
             ],
             [
              0.1111111111111111,
              "#46039f"
             ],
             [
              0.2222222222222222,
              "#7201a8"
             ],
             [
              0.3333333333333333,
              "#9c179e"
             ],
             [
              0.4444444444444444,
              "#bd3786"
             ],
             [
              0.5555555555555556,
              "#d8576b"
             ],
             [
              0.6666666666666666,
              "#ed7953"
             ],
             [
              0.7777777777777778,
              "#fb9f3a"
             ],
             [
              0.8888888888888888,
              "#fdca26"
             ],
             [
              1,
              "#f0f921"
             ]
            ],
            "type": "heatmapgl"
           }
          ],
          "histogram": [
           {
            "marker": {
             "pattern": {
              "fillmode": "overlay",
              "size": 10,
              "solidity": 0.2
             }
            },
            "type": "histogram"
           }
          ],
          "histogram2d": [
           {
            "colorbar": {
             "outlinewidth": 0,
             "ticks": ""
            },
            "colorscale": [
             [
              0,
              "#0d0887"
             ],
             [
              0.1111111111111111,
              "#46039f"
             ],
             [
              0.2222222222222222,
              "#7201a8"
             ],
             [
              0.3333333333333333,
              "#9c179e"
             ],
             [
              0.4444444444444444,
              "#bd3786"
             ],
             [
              0.5555555555555556,
              "#d8576b"
             ],
             [
              0.6666666666666666,
              "#ed7953"
             ],
             [
              0.7777777777777778,
              "#fb9f3a"
             ],
             [
              0.8888888888888888,
              "#fdca26"
             ],
             [
              1,
              "#f0f921"
             ]
            ],
            "type": "histogram2d"
           }
          ],
          "histogram2dcontour": [
           {
            "colorbar": {
             "outlinewidth": 0,
             "ticks": ""
            },
            "colorscale": [
             [
              0,
              "#0d0887"
             ],
             [
              0.1111111111111111,
              "#46039f"
             ],
             [
              0.2222222222222222,
              "#7201a8"
             ],
             [
              0.3333333333333333,
              "#9c179e"
             ],
             [
              0.4444444444444444,
              "#bd3786"
             ],
             [
              0.5555555555555556,
              "#d8576b"
             ],
             [
              0.6666666666666666,
              "#ed7953"
             ],
             [
              0.7777777777777778,
              "#fb9f3a"
             ],
             [
              0.8888888888888888,
              "#fdca26"
             ],
             [
              1,
              "#f0f921"
             ]
            ],
            "type": "histogram2dcontour"
           }
          ],
          "mesh3d": [
           {
            "colorbar": {
             "outlinewidth": 0,
             "ticks": ""
            },
            "type": "mesh3d"
           }
          ],
          "parcoords": [
           {
            "line": {
             "colorbar": {
              "outlinewidth": 0,
              "ticks": ""
             }
            },
            "type": "parcoords"
           }
          ],
          "pie": [
           {
            "automargin": true,
            "type": "pie"
           }
          ],
          "scatter": [
           {
            "fillpattern": {
             "fillmode": "overlay",
             "size": 10,
             "solidity": 0.2
            },
            "type": "scatter"
           }
          ],
          "scatter3d": [
           {
            "line": {
             "colorbar": {
              "outlinewidth": 0,
              "ticks": ""
             }
            },
            "marker": {
             "colorbar": {
              "outlinewidth": 0,
              "ticks": ""
             }
            },
            "type": "scatter3d"
           }
          ],
          "scattercarpet": [
           {
            "marker": {
             "colorbar": {
              "outlinewidth": 0,
              "ticks": ""
             }
            },
            "type": "scattercarpet"
           }
          ],
          "scattergeo": [
           {
            "marker": {
             "colorbar": {
              "outlinewidth": 0,
              "ticks": ""
             }
            },
            "type": "scattergeo"
           }
          ],
          "scattergl": [
           {
            "marker": {
             "colorbar": {
              "outlinewidth": 0,
              "ticks": ""
             }
            },
            "type": "scattergl"
           }
          ],
          "scattermapbox": [
           {
            "marker": {
             "colorbar": {
              "outlinewidth": 0,
              "ticks": ""
             }
            },
            "type": "scattermapbox"
           }
          ],
          "scatterpolar": [
           {
            "marker": {
             "colorbar": {
              "outlinewidth": 0,
              "ticks": ""
             }
            },
            "type": "scatterpolar"
           }
          ],
          "scatterpolargl": [
           {
            "marker": {
             "colorbar": {
              "outlinewidth": 0,
              "ticks": ""
             }
            },
            "type": "scatterpolargl"
           }
          ],
          "scatterternary": [
           {
            "marker": {
             "colorbar": {
              "outlinewidth": 0,
              "ticks": ""
             }
            },
            "type": "scatterternary"
           }
          ],
          "surface": [
           {
            "colorbar": {
             "outlinewidth": 0,
             "ticks": ""
            },
            "colorscale": [
             [
              0,
              "#0d0887"
             ],
             [
              0.1111111111111111,
              "#46039f"
             ],
             [
              0.2222222222222222,
              "#7201a8"
             ],
             [
              0.3333333333333333,
              "#9c179e"
             ],
             [
              0.4444444444444444,
              "#bd3786"
             ],
             [
              0.5555555555555556,
              "#d8576b"
             ],
             [
              0.6666666666666666,
              "#ed7953"
             ],
             [
              0.7777777777777778,
              "#fb9f3a"
             ],
             [
              0.8888888888888888,
              "#fdca26"
             ],
             [
              1,
              "#f0f921"
             ]
            ],
            "type": "surface"
           }
          ],
          "table": [
           {
            "cells": {
             "fill": {
              "color": "#EBF0F8"
             },
             "line": {
              "color": "white"
             }
            },
            "header": {
             "fill": {
              "color": "#C8D4E3"
             },
             "line": {
              "color": "white"
             }
            },
            "type": "table"
           }
          ]
         },
         "layout": {
          "annotationdefaults": {
           "arrowcolor": "#2a3f5f",
           "arrowhead": 0,
           "arrowwidth": 1
          },
          "autotypenumbers": "strict",
          "coloraxis": {
           "colorbar": {
            "outlinewidth": 0,
            "ticks": ""
           }
          },
          "colorscale": {
           "diverging": [
            [
             0,
             "#8e0152"
            ],
            [
             0.1,
             "#c51b7d"
            ],
            [
             0.2,
             "#de77ae"
            ],
            [
             0.3,
             "#f1b6da"
            ],
            [
             0.4,
             "#fde0ef"
            ],
            [
             0.5,
             "#f7f7f7"
            ],
            [
             0.6,
             "#e6f5d0"
            ],
            [
             0.7,
             "#b8e186"
            ],
            [
             0.8,
             "#7fbc41"
            ],
            [
             0.9,
             "#4d9221"
            ],
            [
             1,
             "#276419"
            ]
           ],
           "sequential": [
            [
             0,
             "#0d0887"
            ],
            [
             0.1111111111111111,
             "#46039f"
            ],
            [
             0.2222222222222222,
             "#7201a8"
            ],
            [
             0.3333333333333333,
             "#9c179e"
            ],
            [
             0.4444444444444444,
             "#bd3786"
            ],
            [
             0.5555555555555556,
             "#d8576b"
            ],
            [
             0.6666666666666666,
             "#ed7953"
            ],
            [
             0.7777777777777778,
             "#fb9f3a"
            ],
            [
             0.8888888888888888,
             "#fdca26"
            ],
            [
             1,
             "#f0f921"
            ]
           ],
           "sequentialminus": [
            [
             0,
             "#0d0887"
            ],
            [
             0.1111111111111111,
             "#46039f"
            ],
            [
             0.2222222222222222,
             "#7201a8"
            ],
            [
             0.3333333333333333,
             "#9c179e"
            ],
            [
             0.4444444444444444,
             "#bd3786"
            ],
            [
             0.5555555555555556,
             "#d8576b"
            ],
            [
             0.6666666666666666,
             "#ed7953"
            ],
            [
             0.7777777777777778,
             "#fb9f3a"
            ],
            [
             0.8888888888888888,
             "#fdca26"
            ],
            [
             1,
             "#f0f921"
            ]
           ]
          },
          "colorway": [
           "#636efa",
           "#EF553B",
           "#00cc96",
           "#ab63fa",
           "#FFA15A",
           "#19d3f3",
           "#FF6692",
           "#B6E880",
           "#FF97FF",
           "#FECB52"
          ],
          "font": {
           "color": "#2a3f5f"
          },
          "geo": {
           "bgcolor": "white",
           "lakecolor": "white",
           "landcolor": "#E5ECF6",
           "showlakes": true,
           "showland": true,
           "subunitcolor": "white"
          },
          "hoverlabel": {
           "align": "left"
          },
          "hovermode": "closest",
          "mapbox": {
           "style": "light"
          },
          "paper_bgcolor": "white",
          "plot_bgcolor": "#E5ECF6",
          "polar": {
           "angularaxis": {
            "gridcolor": "white",
            "linecolor": "white",
            "ticks": ""
           },
           "bgcolor": "#E5ECF6",
           "radialaxis": {
            "gridcolor": "white",
            "linecolor": "white",
            "ticks": ""
           }
          },
          "scene": {
           "xaxis": {
            "backgroundcolor": "#E5ECF6",
            "gridcolor": "white",
            "gridwidth": 2,
            "linecolor": "white",
            "showbackground": true,
            "ticks": "",
            "zerolinecolor": "white"
           },
           "yaxis": {
            "backgroundcolor": "#E5ECF6",
            "gridcolor": "white",
            "gridwidth": 2,
            "linecolor": "white",
            "showbackground": true,
            "ticks": "",
            "zerolinecolor": "white"
           },
           "zaxis": {
            "backgroundcolor": "#E5ECF6",
            "gridcolor": "white",
            "gridwidth": 2,
            "linecolor": "white",
            "showbackground": true,
            "ticks": "",
            "zerolinecolor": "white"
           }
          },
          "shapedefaults": {
           "line": {
            "color": "#2a3f5f"
           }
          },
          "ternary": {
           "aaxis": {
            "gridcolor": "white",
            "linecolor": "white",
            "ticks": ""
           },
           "baxis": {
            "gridcolor": "white",
            "linecolor": "white",
            "ticks": ""
           },
           "bgcolor": "#E5ECF6",
           "caxis": {
            "gridcolor": "white",
            "linecolor": "white",
            "ticks": ""
           }
          },
          "title": {
           "x": 0.05
          },
          "xaxis": {
           "automargin": true,
           "gridcolor": "white",
           "linecolor": "white",
           "ticks": "",
           "title": {
            "standoff": 15
           },
           "zerolinecolor": "white",
           "zerolinewidth": 2
          },
          "yaxis": {
           "automargin": true,
           "gridcolor": "white",
           "linecolor": "white",
           "ticks": "",
           "title": {
            "standoff": 15
           },
           "zerolinecolor": "white",
           "zerolinewidth": 2
          }
         }
        },
        "title": {
         "font": {
          "color": "#4D5663"
         }
        },
        "xaxis": {
         "anchor": "y",
         "domain": [
          0,
          0.2125
         ],
         "gridcolor": "#E1E5ED",
         "showgrid": false,
         "tickfont": {
          "color": "#4D5663"
         },
         "title": {
          "font": {
           "color": "#4D5663"
          },
          "text": ""
         },
         "zerolinecolor": "#E1E5ED"
        },
        "xaxis10": {
         "anchor": "y10",
         "domain": [
          0.2625,
          0.475
         ],
         "gridcolor": "#E1E5ED",
         "showgrid": false,
         "tickfont": {
          "color": "#4D5663"
         },
         "title": {
          "font": {
           "color": "#4D5663"
          },
          "text": ""
         },
         "zerolinecolor": "#E1E5ED"
        },
        "xaxis11": {
         "anchor": "y11",
         "domain": [
          0.525,
          0.7375
         ],
         "gridcolor": "#E1E5ED",
         "showgrid": false,
         "tickfont": {
          "color": "#4D5663"
         },
         "title": {
          "font": {
           "color": "#4D5663"
          },
          "text": ""
         },
         "zerolinecolor": "#E1E5ED"
        },
        "xaxis12": {
         "anchor": "y12",
         "domain": [
          0.7875,
          1
         ],
         "gridcolor": "#E1E5ED",
         "showgrid": false,
         "tickfont": {
          "color": "#4D5663"
         },
         "title": {
          "font": {
           "color": "#4D5663"
          },
          "text": ""
         },
         "zerolinecolor": "#E1E5ED"
        },
        "xaxis13": {
         "anchor": "y13",
         "domain": [
          0,
          0.2125
         ],
         "gridcolor": "#E1E5ED",
         "showgrid": false,
         "tickfont": {
          "color": "#4D5663"
         },
         "title": {
          "font": {
           "color": "#4D5663"
          },
          "text": ""
         },
         "zerolinecolor": "#E1E5ED"
        },
        "xaxis14": {
         "anchor": "y14",
         "domain": [
          0.2625,
          0.475
         ],
         "gridcolor": "#E1E5ED",
         "showgrid": false,
         "tickfont": {
          "color": "#4D5663"
         },
         "title": {
          "font": {
           "color": "#4D5663"
          },
          "text": ""
         },
         "zerolinecolor": "#E1E5ED"
        },
        "xaxis15": {
         "anchor": "y15",
         "domain": [
          0.525,
          0.7375
         ],
         "gridcolor": "#E1E5ED",
         "showgrid": false,
         "tickfont": {
          "color": "#4D5663"
         },
         "title": {
          "font": {
           "color": "#4D5663"
          },
          "text": ""
         },
         "zerolinecolor": "#E1E5ED"
        },
        "xaxis16": {
         "anchor": "y16",
         "domain": [
          0.7875,
          1
         ],
         "gridcolor": "#E1E5ED",
         "showgrid": false,
         "tickfont": {
          "color": "#4D5663"
         },
         "title": {
          "font": {
           "color": "#4D5663"
          },
          "text": ""
         },
         "zerolinecolor": "#E1E5ED"
        },
        "xaxis2": {
         "anchor": "y2",
         "domain": [
          0.2625,
          0.475
         ],
         "gridcolor": "#E1E5ED",
         "showgrid": false,
         "tickfont": {
          "color": "#4D5663"
         },
         "title": {
          "font": {
           "color": "#4D5663"
          },
          "text": ""
         },
         "zerolinecolor": "#E1E5ED"
        },
        "xaxis3": {
         "anchor": "y3",
         "domain": [
          0.525,
          0.7375
         ],
         "gridcolor": "#E1E5ED",
         "showgrid": false,
         "tickfont": {
          "color": "#4D5663"
         },
         "title": {
          "font": {
           "color": "#4D5663"
          },
          "text": ""
         },
         "zerolinecolor": "#E1E5ED"
        },
        "xaxis4": {
         "anchor": "y4",
         "domain": [
          0.7875,
          1
         ],
         "gridcolor": "#E1E5ED",
         "showgrid": false,
         "tickfont": {
          "color": "#4D5663"
         },
         "title": {
          "font": {
           "color": "#4D5663"
          },
          "text": ""
         },
         "zerolinecolor": "#E1E5ED"
        },
        "xaxis5": {
         "anchor": "y5",
         "domain": [
          0,
          0.2125
         ],
         "gridcolor": "#E1E5ED",
         "showgrid": false,
         "tickfont": {
          "color": "#4D5663"
         },
         "title": {
          "font": {
           "color": "#4D5663"
          },
          "text": ""
         },
         "zerolinecolor": "#E1E5ED"
        },
        "xaxis6": {
         "anchor": "y6",
         "domain": [
          0.2625,
          0.475
         ],
         "gridcolor": "#E1E5ED",
         "showgrid": false,
         "tickfont": {
          "color": "#4D5663"
         },
         "title": {
          "font": {
           "color": "#4D5663"
          },
          "text": ""
         },
         "zerolinecolor": "#E1E5ED"
        },
        "xaxis7": {
         "anchor": "y7",
         "domain": [
          0.525,
          0.7375
         ],
         "gridcolor": "#E1E5ED",
         "showgrid": false,
         "tickfont": {
          "color": "#4D5663"
         },
         "title": {
          "font": {
           "color": "#4D5663"
          },
          "text": ""
         },
         "zerolinecolor": "#E1E5ED"
        },
        "xaxis8": {
         "anchor": "y8",
         "domain": [
          0.7875,
          1
         ],
         "gridcolor": "#E1E5ED",
         "showgrid": false,
         "tickfont": {
          "color": "#4D5663"
         },
         "title": {
          "font": {
           "color": "#4D5663"
          },
          "text": ""
         },
         "zerolinecolor": "#E1E5ED"
        },
        "xaxis9": {
         "anchor": "y9",
         "domain": [
          0,
          0.2125
         ],
         "gridcolor": "#E1E5ED",
         "showgrid": false,
         "tickfont": {
          "color": "#4D5663"
         },
         "title": {
          "font": {
           "color": "#4D5663"
          },
          "text": ""
         },
         "zerolinecolor": "#E1E5ED"
        },
        "yaxis": {
         "anchor": "x",
         "domain": [
          0.8025,
          1
         ],
         "gridcolor": "#E1E5ED",
         "showgrid": false,
         "tickfont": {
          "color": "#4D5663"
         },
         "title": {
          "font": {
           "color": "#4D5663"
          },
          "text": ""
         },
         "zerolinecolor": "#E1E5ED"
        },
        "yaxis10": {
         "anchor": "x10",
         "domain": [
          0.2675,
          0.465
         ],
         "gridcolor": "#E1E5ED",
         "showgrid": false,
         "tickfont": {
          "color": "#4D5663"
         },
         "title": {
          "font": {
           "color": "#4D5663"
          },
          "text": ""
         },
         "zerolinecolor": "#E1E5ED"
        },
        "yaxis11": {
         "anchor": "x11",
         "domain": [
          0.2675,
          0.465
         ],
         "gridcolor": "#E1E5ED",
         "showgrid": false,
         "tickfont": {
          "color": "#4D5663"
         },
         "title": {
          "font": {
           "color": "#4D5663"
          },
          "text": ""
         },
         "zerolinecolor": "#E1E5ED"
        },
        "yaxis12": {
         "anchor": "x12",
         "domain": [
          0.2675,
          0.465
         ],
         "gridcolor": "#E1E5ED",
         "showgrid": false,
         "tickfont": {
          "color": "#4D5663"
         },
         "title": {
          "font": {
           "color": "#4D5663"
          },
          "text": ""
         },
         "zerolinecolor": "#E1E5ED"
        },
        "yaxis13": {
         "anchor": "x13",
         "domain": [
          0,
          0.1975
         ],
         "gridcolor": "#E1E5ED",
         "showgrid": false,
         "tickfont": {
          "color": "#4D5663"
         },
         "title": {
          "font": {
           "color": "#4D5663"
          },
          "text": ""
         },
         "zerolinecolor": "#E1E5ED"
        },
        "yaxis14": {
         "anchor": "x14",
         "domain": [
          0,
          0.1975
         ],
         "gridcolor": "#E1E5ED",
         "showgrid": false,
         "tickfont": {
          "color": "#4D5663"
         },
         "title": {
          "font": {
           "color": "#4D5663"
          },
          "text": ""
         },
         "zerolinecolor": "#E1E5ED"
        },
        "yaxis15": {
         "anchor": "x15",
         "domain": [
          0,
          0.1975
         ],
         "gridcolor": "#E1E5ED",
         "showgrid": false,
         "tickfont": {
          "color": "#4D5663"
         },
         "title": {
          "font": {
           "color": "#4D5663"
          },
          "text": ""
         },
         "zerolinecolor": "#E1E5ED"
        },
        "yaxis16": {
         "anchor": "x16",
         "domain": [
          0,
          0.1975
         ],
         "gridcolor": "#E1E5ED",
         "showgrid": false,
         "tickfont": {
          "color": "#4D5663"
         },
         "title": {
          "font": {
           "color": "#4D5663"
          },
          "text": ""
         },
         "zerolinecolor": "#E1E5ED"
        },
        "yaxis2": {
         "anchor": "x2",
         "domain": [
          0.8025,
          1
         ],
         "gridcolor": "#E1E5ED",
         "showgrid": false,
         "tickfont": {
          "color": "#4D5663"
         },
         "title": {
          "font": {
           "color": "#4D5663"
          },
          "text": ""
         },
         "zerolinecolor": "#E1E5ED"
        },
        "yaxis3": {
         "anchor": "x3",
         "domain": [
          0.8025,
          1
         ],
         "gridcolor": "#E1E5ED",
         "showgrid": false,
         "tickfont": {
          "color": "#4D5663"
         },
         "title": {
          "font": {
           "color": "#4D5663"
          },
          "text": ""
         },
         "zerolinecolor": "#E1E5ED"
        },
        "yaxis4": {
         "anchor": "x4",
         "domain": [
          0.8025,
          1
         ],
         "gridcolor": "#E1E5ED",
         "showgrid": false,
         "tickfont": {
          "color": "#4D5663"
         },
         "title": {
          "font": {
           "color": "#4D5663"
          },
          "text": ""
         },
         "zerolinecolor": "#E1E5ED"
        },
        "yaxis5": {
         "anchor": "x5",
         "domain": [
          0.535,
          0.7325
         ],
         "gridcolor": "#E1E5ED",
         "showgrid": false,
         "tickfont": {
          "color": "#4D5663"
         },
         "title": {
          "font": {
           "color": "#4D5663"
          },
          "text": ""
         },
         "zerolinecolor": "#E1E5ED"
        },
        "yaxis6": {
         "anchor": "x6",
         "domain": [
          0.535,
          0.7325
         ],
         "gridcolor": "#E1E5ED",
         "showgrid": false,
         "tickfont": {
          "color": "#4D5663"
         },
         "title": {
          "font": {
           "color": "#4D5663"
          },
          "text": ""
         },
         "zerolinecolor": "#E1E5ED"
        },
        "yaxis7": {
         "anchor": "x7",
         "domain": [
          0.535,
          0.7325
         ],
         "gridcolor": "#E1E5ED",
         "showgrid": false,
         "tickfont": {
          "color": "#4D5663"
         },
         "title": {
          "font": {
           "color": "#4D5663"
          },
          "text": ""
         },
         "zerolinecolor": "#E1E5ED"
        },
        "yaxis8": {
         "anchor": "x8",
         "domain": [
          0.535,
          0.7325
         ],
         "gridcolor": "#E1E5ED",
         "showgrid": false,
         "tickfont": {
          "color": "#4D5663"
         },
         "title": {
          "font": {
           "color": "#4D5663"
          },
          "text": ""
         },
         "zerolinecolor": "#E1E5ED"
        },
        "yaxis9": {
         "anchor": "x9",
         "domain": [
          0.2675,
          0.465
         ],
         "gridcolor": "#E1E5ED",
         "showgrid": false,
         "tickfont": {
          "color": "#4D5663"
         },
         "title": {
          "font": {
           "color": "#4D5663"
          },
          "text": ""
         },
         "zerolinecolor": "#E1E5ED"
        }
       }
      },
      "text/html": [
       "<div>                            <div id=\"b1ad4d9b-ca68-4212-a643-a0730087af07\" class=\"plotly-graph-div\" style=\"height:525px; width:100%;\"></div>            <script type=\"text/javascript\">                require([\"plotly\"], function(Plotly) {                    window.PLOTLYENV=window.PLOTLYENV || {};\n",
       "                    window.PLOTLYENV.BASE_URL='https://plot.ly';                                    if (document.getElementById(\"b1ad4d9b-ca68-4212-a643-a0730087af07\")) {                    Plotly.newPlot(                        \"b1ad4d9b-ca68-4212-a643-a0730087af07\",                        [{\"histfunc\":\"count\",\"histnorm\":\"\",\"marker\":{\"color\":\"rgba(255, 153, 51, 1.0)\",\"line\":{\"color\":\"#4D5663\",\"width\":1.3}},\"name\":\"A\",\"nbinsx\":10,\"opacity\":0.8,\"orientation\":\"v\",\"x\":[-1.1024981471016053,0.45532653178486426,0.40391046008714476,-0.2809970042901508,0.7989989325364689,1.0832583953209949,-1.234209784210434,0.3224994409690922,-0.3242087708237595,-0.1284653156020744,-0.7552748291440724,0.8184288968726566,0.5422845891231438,0.10789901010090519,-0.32139817008019994,-0.7963759333281335,-0.39037680946255826,-2.2655403217214696,0.5167189806038817,1.0311119027127906,-0.7280729939339882,2.2399138984961033,-1.2752392088928555,-0.5378918136584961,2.0295510309720433,0.23191793912741354,-0.7489274861749667,0.1804315695573513,-1.076899175942572,0.1480646205053287,-2.067689597756462,-0.6242648055288316,1.9205984896737025,-0.6626634145557857,0.43755162941932596,-0.08301825934472241,1.6979277445032026,1.3214093229538189,-0.5063299960070593,-0.0634250885800641,1.5099246615970119,-0.06181082497718354,-0.3409827236091026,-0.33324862190788684,1.500014889723033,-1.5918283819078909,0.1436883889894132,1.5756106661076734,-0.32506572639260684,0.37798144298626746,0.46348546666861756,-2.051188827144377,-1.0172458205234336,-0.5070704946445844,-0.8478731955080303,-0.2334924377631749,0.19262355458803307,-1.3003949447844079,-0.9149035966488548,0.8229650720355511,1.3006243742931636,-0.4126201075864305,-0.6711296866905244,-0.4405250418337267,-0.5651290513169568,1.0196385357067541,0.5877685488555959,-0.3945490445285969,0.8054155111464418,-1.0217863363909698,0.46049889877191597,0.57181539365208,-0.8625271604108457,-0.46000004554287016,0.02716586732277476,0.6816588980785862,-0.4668112307509774,0.25228987992077717,0.8669165806315857,0.847033573383717,-1.3863133841285744,-0.01553686633329219,-0.2740973426119702,0.043616214784867754,-2.1647128799946276,-0.05182135785862414,-1.384645553366656,0.4027841869433865,0.11479059202803563,0.3819374624127815,0.22205933188988886,0.9355340173488559,-0.2765941836604982,0.954866972229284,1.073857686349574,-1.1885752619110412,0.28988033179079464,0.8151597284421718,-0.9941872219563699,1.5368506591655258],\"xaxis\":\"x\",\"yaxis\":\"y\",\"type\":\"histogram\"},{\"line\":{\"color\":\"rgba(128, 128, 128, 1.0)\",\"dash\":\"solid\",\"shape\":\"linear\",\"width\":1.3},\"marker\":{\"size\":2,\"symbol\":\"circle\"},\"mode\":\"markers\",\"name\":\"A\",\"text\":\"\",\"x\":[-0.8713196634022675,-1.767211174819314,-1.0350908487091959,-0.08072812492485895,-1.1951142174006553,-1.8471571622199414,1.8801067041568933,-1.1058767571189025,0.40937518520839133,0.5074882970638703,-0.9099081392282109,-0.23390168778098436,1.3793033998833388,-0.03876003474237771,1.38539784508653,0.8040467182086181,-1.9859688198263412,1.4318814602300922,0.2856696833736994,-0.02734422820736344,2.2604852635308466,0.3437984522726635,-1.6199777026322286,-1.6252434641567413,0.819414661012346,0.8718682984632122,-0.9577172169711519,0.26839737955878556,1.3259952049003743,-0.5112436727714154,1.5282438868112913,0.46111855997757906,0.5103298218556396,-1.6594959487403262,0.5897407100948779,-0.0702770913251112,2.145076222618863,-0.3302738874863218,1.7954077585596733,-0.32578556653973817,0.8364388798723189,0.22696433098098545,-0.8327353257833802,-1.015031002671774,0.37786457003176177,-0.8097117301574803,-0.9985378053285431,0.5203569062543102,0.4818184236235761,-0.8441091152069875,1.2708165965970095,-0.70334138878969,1.0694277546339286,0.6254820710794478,-0.009766599509518017,0.10566623768884706,-0.38865979307592985,-0.4287810605985193,-0.3739451959228925,-0.9145143264683828,2.625130148137943,0.2778968503855602,0.9934389776868553,-0.9072450113031999,0.5210933674015816,0.0830080569450399,0.14620986056202875,-0.4516254448680814,1.1997048520705935,-0.45206800531489205,1.0943552757896906,0.9640478674870745,-1.6536100269234513,0.101149502791871,-0.4152232250614539,0.6152742885080315,0.2106406522997461,0.0019031646346197241,0.602635626247644,-1.715601158322781,0.5628710900741206,-0.1294924891033397,-0.6355075840796094,1.2649381157969501,0.02498520572713563,0.5104545781590395,-0.5702951302023916,1.7309202655032256,1.2879164184864185,-0.36438719814264675,0.2745117757241402,-0.07135501369983091,-0.10594911360867416,0.2004243601221823,0.5662466524036643,0.4151771166224692,2.0414607940726452,0.3982025407248406,-1.2995806760810338,0.982890176174143],\"xaxis\":\"x2\",\"y\":[-1.1024981471016053,0.45532653178486426,0.40391046008714476,-0.2809970042901508,0.7989989325364689,1.0832583953209949,-1.234209784210434,0.3224994409690922,-0.3242087708237595,-0.1284653156020744,-0.7552748291440724,0.8184288968726566,0.5422845891231438,0.10789901010090519,-0.32139817008019994,-0.7963759333281335,-0.39037680946255826,-2.2655403217214696,0.5167189806038817,1.0311119027127906,-0.7280729939339882,2.2399138984961033,-1.2752392088928555,-0.5378918136584961,2.0295510309720433,0.23191793912741354,-0.7489274861749667,0.1804315695573513,-1.076899175942572,0.1480646205053287,-2.067689597756462,-0.6242648055288316,1.9205984896737025,-0.6626634145557857,0.43755162941932596,-0.08301825934472241,1.6979277445032026,1.3214093229538189,-0.5063299960070593,-0.0634250885800641,1.5099246615970119,-0.06181082497718354,-0.3409827236091026,-0.33324862190788684,1.500014889723033,-1.5918283819078909,0.1436883889894132,1.5756106661076734,-0.32506572639260684,0.37798144298626746,0.46348546666861756,-2.051188827144377,-1.0172458205234336,-0.5070704946445844,-0.8478731955080303,-0.2334924377631749,0.19262355458803307,-1.3003949447844079,-0.9149035966488548,0.8229650720355511,1.3006243742931636,-0.4126201075864305,-0.6711296866905244,-0.4405250418337267,-0.5651290513169568,1.0196385357067541,0.5877685488555959,-0.3945490445285969,0.8054155111464418,-1.0217863363909698,0.46049889877191597,0.57181539365208,-0.8625271604108457,-0.46000004554287016,0.02716586732277476,0.6816588980785862,-0.4668112307509774,0.25228987992077717,0.8669165806315857,0.847033573383717,-1.3863133841285744,-0.01553686633329219,-0.2740973426119702,0.043616214784867754,-2.1647128799946276,-0.05182135785862414,-1.384645553366656,0.4027841869433865,0.11479059202803563,0.3819374624127815,0.22205933188988886,0.9355340173488559,-0.2765941836604982,0.954866972229284,1.073857686349574,-1.1885752619110412,0.28988033179079464,0.8151597284421718,-0.9941872219563699,1.5368506591655258],\"yaxis\":\"y2\",\"type\":\"scatter\"},{\"line\":{\"color\":\"rgba(128, 128, 128, 1.0)\",\"dash\":\"solid\",\"shape\":\"linear\",\"width\":1.3},\"marker\":{\"size\":2,\"symbol\":\"circle\"},\"mode\":\"markers\",\"name\":\"A\",\"text\":\"\",\"x\":[-0.23191483467728796,0.22996169982911116,0.37235644215290814,-0.18317934630443627,0.030269596121248386,0.2377912009439052,-0.4635781052161619,-1.113826422851541,-0.4640499369179566,0.0862418242527444,-0.17526457764388662,-1.2394707131388767,1.1378268189836096,1.1227212390740267,0.8469162696258059,-0.2352349772821939,0.1966858786059231,-0.2933140386799466,-0.30688059116922967,-0.4821681732345493,-0.27745071051604725,-1.1243501531182385,0.057655680779404216,0.45004825152232597,-0.6431969695826352,1.8043144586142832,0.5335382114718625,-0.558890544540614,-1.0720048033208915,-0.941563266309427,0.348237899267876,1.1705473551597216,-0.8353913555607797,-0.857665180470015,-0.34313815056146535,-0.6405363663505411,-0.005708929644882179,-1.0129631575850104,0.5779718783951365,-1.0519358973969024,0.5136347490696667,-1.2979934398788073,0.5349053270524682,2.357078440371061,0.7469704623104282,-0.7512300212264496,-0.0676600767370751,1.1717868904695523,0.056014652083291414,1.9067085542207205,0.22696914256599662,-1.0227464786175227,-0.3662894960812538,-1.069064556566524,0.5477192163632087,0.38967752312019927,-0.30929610039500577,1.3586255897880464,1.5695745260088578,-0.440786731303405,-1.0467786473869678,-0.6406050565135507,1.2910836005523305,-0.11894889194832031,-1.0179449928368667,1.3447998121960456,0.14512180959110263,-1.227725683384825,1.4371215964566564,-0.0031341668208622908,-0.5576920364414308,-0.38328672961847204,0.026830990387689723,-0.8382448805596847,0.8827979098248043,1.5898469507164932,2.604205368168547,0.8892144723017181,-0.07378398071441221,0.4267291792279438,0.8950635767904128,0.3922940160616898,-0.0851112683431683,-0.6736568562098894,-0.43538967839927634,-0.6678661489181582,0.4674966404566777,1.3041628300440022,-1.9223632355127063,-0.6824825992913708,-0.7251925773027719,0.8406610583174904,0.6198675777100461,1.2865116834532744,-1.6841263181861676,0.3858325516026786,-0.31831457953920045,0.9298675048241788,0.08512501033433308,0.5944382814004443],\"xaxis\":\"x3\",\"y\":[-1.1024981471016053,0.45532653178486426,0.40391046008714476,-0.2809970042901508,0.7989989325364689,1.0832583953209949,-1.234209784210434,0.3224994409690922,-0.3242087708237595,-0.1284653156020744,-0.7552748291440724,0.8184288968726566,0.5422845891231438,0.10789901010090519,-0.32139817008019994,-0.7963759333281335,-0.39037680946255826,-2.2655403217214696,0.5167189806038817,1.0311119027127906,-0.7280729939339882,2.2399138984961033,-1.2752392088928555,-0.5378918136584961,2.0295510309720433,0.23191793912741354,-0.7489274861749667,0.1804315695573513,-1.076899175942572,0.1480646205053287,-2.067689597756462,-0.6242648055288316,1.9205984896737025,-0.6626634145557857,0.43755162941932596,-0.08301825934472241,1.6979277445032026,1.3214093229538189,-0.5063299960070593,-0.0634250885800641,1.5099246615970119,-0.06181082497718354,-0.3409827236091026,-0.33324862190788684,1.500014889723033,-1.5918283819078909,0.1436883889894132,1.5756106661076734,-0.32506572639260684,0.37798144298626746,0.46348546666861756,-2.051188827144377,-1.0172458205234336,-0.5070704946445844,-0.8478731955080303,-0.2334924377631749,0.19262355458803307,-1.3003949447844079,-0.9149035966488548,0.8229650720355511,1.3006243742931636,-0.4126201075864305,-0.6711296866905244,-0.4405250418337267,-0.5651290513169568,1.0196385357067541,0.5877685488555959,-0.3945490445285969,0.8054155111464418,-1.0217863363909698,0.46049889877191597,0.57181539365208,-0.8625271604108457,-0.46000004554287016,0.02716586732277476,0.6816588980785862,-0.4668112307509774,0.25228987992077717,0.8669165806315857,0.847033573383717,-1.3863133841285744,-0.01553686633329219,-0.2740973426119702,0.043616214784867754,-2.1647128799946276,-0.05182135785862414,-1.384645553366656,0.4027841869433865,0.11479059202803563,0.3819374624127815,0.22205933188988886,0.9355340173488559,-0.2765941836604982,0.954866972229284,1.073857686349574,-1.1885752619110412,0.28988033179079464,0.8151597284421718,-0.9941872219563699,1.5368506591655258],\"yaxis\":\"y3\",\"type\":\"scatter\"},{\"line\":{\"color\":\"rgba(128, 128, 128, 1.0)\",\"dash\":\"solid\",\"shape\":\"linear\",\"width\":1.3},\"marker\":{\"size\":2,\"symbol\":\"circle\"},\"mode\":\"markers\",\"name\":\"A\",\"text\":\"\",\"x\":[1.7420011505283355,-0.21407790210814454,-0.8346995928206267,0.3572143263372206,-0.44861423493977404,-1.6081212330874752,0.801690734912549,-0.6109376576801621,2.1373076535109092,-0.3895897715840815,0.49813442940114483,0.9759970066716024,-0.7932651994978115,0.6835870707382509,-0.3274394480942042,1.8709656860865775,0.3111020957103798,-0.7509733514305589,0.70735198442484,-2.0380165731831723,-0.2268007663096546,-0.1570710863874976,-0.043925259267604065,1.2132826148806004,-0.35116309161963677,-0.22222779417501082,-0.4744366412490772,0.9675082903553129,0.117057975512573,1.3648150969859354,-0.44309217680230667,-0.2426589005323525,0.6386264583219761,-0.8332164875365083,-0.44728663182657197,-0.02280652878873671,2.225828052114822,-0.14800113052807606,0.6406805425970652,-1.1344693137474502,-1.0701856529498481,-1.0291026082395422,1.439390319110055,0.7584810547627114,0.5888102171302606,0.2724300812740993,0.43539688823221795,0.47801130939445824,0.7306479076541726,0.7096123064838874,0.38797045860083834,0.6450237570733347,-1.6733767642736335,-0.18122074197359497,-0.10116934075473873,0.903652841960548,-1.1081023040397295,0.6399902629524633,0.7793730919102405,0.875387486712953,1.044674558695237,-0.4871528085047099,-0.6143593693157811,0.21228328709304328,-1.4146000066232995,-1.7253060336527681,0.7433283324848287,0.0627648959382127,-1.0410361166019233,-1.0179539366545063,-0.12346745371218192,-0.19861250276447442,-1.2928778298316919,-0.39586307865963055,-0.7406276396929118,0.639801665969883,1.5466490194149656,-2.25710586595814,0.025727214192610162,-1.3997758024249467,0.6293336997602994,0.5524935217565039,2.3874015597003724,-0.39471117140079154,-1.3953941132202565,0.40979403089478883,-0.23403208703945236,-1.5492736810458847,-2.80725233529573,-0.4855463561126437,1.9368340138661833,0.007857349331967686,-0.8882755436060508,-1.6353969003568276,-1.3308136151465673,-0.5024940855850913,-0.09574033787558964,1.876487667138215,-1.4315406749059392,-0.14243853343481255],\"xaxis\":\"x4\",\"y\":[-1.1024981471016053,0.45532653178486426,0.40391046008714476,-0.2809970042901508,0.7989989325364689,1.0832583953209949,-1.234209784210434,0.3224994409690922,-0.3242087708237595,-0.1284653156020744,-0.7552748291440724,0.8184288968726566,0.5422845891231438,0.10789901010090519,-0.32139817008019994,-0.7963759333281335,-0.39037680946255826,-2.2655403217214696,0.5167189806038817,1.0311119027127906,-0.7280729939339882,2.2399138984961033,-1.2752392088928555,-0.5378918136584961,2.0295510309720433,0.23191793912741354,-0.7489274861749667,0.1804315695573513,-1.076899175942572,0.1480646205053287,-2.067689597756462,-0.6242648055288316,1.9205984896737025,-0.6626634145557857,0.43755162941932596,-0.08301825934472241,1.6979277445032026,1.3214093229538189,-0.5063299960070593,-0.0634250885800641,1.5099246615970119,-0.06181082497718354,-0.3409827236091026,-0.33324862190788684,1.500014889723033,-1.5918283819078909,0.1436883889894132,1.5756106661076734,-0.32506572639260684,0.37798144298626746,0.46348546666861756,-2.051188827144377,-1.0172458205234336,-0.5070704946445844,-0.8478731955080303,-0.2334924377631749,0.19262355458803307,-1.3003949447844079,-0.9149035966488548,0.8229650720355511,1.3006243742931636,-0.4126201075864305,-0.6711296866905244,-0.4405250418337267,-0.5651290513169568,1.0196385357067541,0.5877685488555959,-0.3945490445285969,0.8054155111464418,-1.0217863363909698,0.46049889877191597,0.57181539365208,-0.8625271604108457,-0.46000004554287016,0.02716586732277476,0.6816588980785862,-0.4668112307509774,0.25228987992077717,0.8669165806315857,0.847033573383717,-1.3863133841285744,-0.01553686633329219,-0.2740973426119702,0.043616214784867754,-2.1647128799946276,-0.05182135785862414,-1.384645553366656,0.4027841869433865,0.11479059202803563,0.3819374624127815,0.22205933188988886,0.9355340173488559,-0.2765941836604982,0.954866972229284,1.073857686349574,-1.1885752619110412,0.28988033179079464,0.8151597284421718,-0.9941872219563699,1.5368506591655258],\"yaxis\":\"y4\",\"type\":\"scatter\"},{\"line\":{\"color\":\"rgba(128, 128, 128, 1.0)\",\"dash\":\"solid\",\"shape\":\"linear\",\"width\":1.3},\"marker\":{\"size\":2,\"symbol\":\"circle\"},\"mode\":\"markers\",\"name\":\"B\",\"text\":\"\",\"x\":[-1.1024981471016053,0.45532653178486426,0.40391046008714476,-0.2809970042901508,0.7989989325364689,1.0832583953209949,-1.234209784210434,0.3224994409690922,-0.3242087708237595,-0.1284653156020744,-0.7552748291440724,0.8184288968726566,0.5422845891231438,0.10789901010090519,-0.32139817008019994,-0.7963759333281335,-0.39037680946255826,-2.2655403217214696,0.5167189806038817,1.0311119027127906,-0.7280729939339882,2.2399138984961033,-1.2752392088928555,-0.5378918136584961,2.0295510309720433,0.23191793912741354,-0.7489274861749667,0.1804315695573513,-1.076899175942572,0.1480646205053287,-2.067689597756462,-0.6242648055288316,1.9205984896737025,-0.6626634145557857,0.43755162941932596,-0.08301825934472241,1.6979277445032026,1.3214093229538189,-0.5063299960070593,-0.0634250885800641,1.5099246615970119,-0.06181082497718354,-0.3409827236091026,-0.33324862190788684,1.500014889723033,-1.5918283819078909,0.1436883889894132,1.5756106661076734,-0.32506572639260684,0.37798144298626746,0.46348546666861756,-2.051188827144377,-1.0172458205234336,-0.5070704946445844,-0.8478731955080303,-0.2334924377631749,0.19262355458803307,-1.3003949447844079,-0.9149035966488548,0.8229650720355511,1.3006243742931636,-0.4126201075864305,-0.6711296866905244,-0.4405250418337267,-0.5651290513169568,1.0196385357067541,0.5877685488555959,-0.3945490445285969,0.8054155111464418,-1.0217863363909698,0.46049889877191597,0.57181539365208,-0.8625271604108457,-0.46000004554287016,0.02716586732277476,0.6816588980785862,-0.4668112307509774,0.25228987992077717,0.8669165806315857,0.847033573383717,-1.3863133841285744,-0.01553686633329219,-0.2740973426119702,0.043616214784867754,-2.1647128799946276,-0.05182135785862414,-1.384645553366656,0.4027841869433865,0.11479059202803563,0.3819374624127815,0.22205933188988886,0.9355340173488559,-0.2765941836604982,0.954866972229284,1.073857686349574,-1.1885752619110412,0.28988033179079464,0.8151597284421718,-0.9941872219563699,1.5368506591655258],\"xaxis\":\"x5\",\"y\":[-0.8713196634022675,-1.767211174819314,-1.0350908487091959,-0.08072812492485895,-1.1951142174006553,-1.8471571622199414,1.8801067041568933,-1.1058767571189025,0.40937518520839133,0.5074882970638703,-0.9099081392282109,-0.23390168778098436,1.3793033998833388,-0.03876003474237771,1.38539784508653,0.8040467182086181,-1.9859688198263412,1.4318814602300922,0.2856696833736994,-0.02734422820736344,2.2604852635308466,0.3437984522726635,-1.6199777026322286,-1.6252434641567413,0.819414661012346,0.8718682984632122,-0.9577172169711519,0.26839737955878556,1.3259952049003743,-0.5112436727714154,1.5282438868112913,0.46111855997757906,0.5103298218556396,-1.6594959487403262,0.5897407100948779,-0.0702770913251112,2.145076222618863,-0.3302738874863218,1.7954077585596733,-0.32578556653973817,0.8364388798723189,0.22696433098098545,-0.8327353257833802,-1.015031002671774,0.37786457003176177,-0.8097117301574803,-0.9985378053285431,0.5203569062543102,0.4818184236235761,-0.8441091152069875,1.2708165965970095,-0.70334138878969,1.0694277546339286,0.6254820710794478,-0.009766599509518017,0.10566623768884706,-0.38865979307592985,-0.4287810605985193,-0.3739451959228925,-0.9145143264683828,2.625130148137943,0.2778968503855602,0.9934389776868553,-0.9072450113031999,0.5210933674015816,0.0830080569450399,0.14620986056202875,-0.4516254448680814,1.1997048520705935,-0.45206800531489205,1.0943552757896906,0.9640478674870745,-1.6536100269234513,0.101149502791871,-0.4152232250614539,0.6152742885080315,0.2106406522997461,0.0019031646346197241,0.602635626247644,-1.715601158322781,0.5628710900741206,-0.1294924891033397,-0.6355075840796094,1.2649381157969501,0.02498520572713563,0.5104545781590395,-0.5702951302023916,1.7309202655032256,1.2879164184864185,-0.36438719814264675,0.2745117757241402,-0.07135501369983091,-0.10594911360867416,0.2004243601221823,0.5662466524036643,0.4151771166224692,2.0414607940726452,0.3982025407248406,-1.2995806760810338,0.982890176174143],\"yaxis\":\"y5\",\"type\":\"scatter\"},{\"histfunc\":\"count\",\"histnorm\":\"\",\"marker\":{\"color\":\"rgba(55, 128, 191, 1.0)\",\"line\":{\"color\":\"#4D5663\",\"width\":1.3}},\"name\":\"B\",\"nbinsx\":10,\"opacity\":0.8,\"orientation\":\"v\",\"x\":[-0.8713196634022675,-1.767211174819314,-1.0350908487091959,-0.08072812492485895,-1.1951142174006553,-1.8471571622199414,1.8801067041568933,-1.1058767571189025,0.40937518520839133,0.5074882970638703,-0.9099081392282109,-0.23390168778098436,1.3793033998833388,-0.03876003474237771,1.38539784508653,0.8040467182086181,-1.9859688198263412,1.4318814602300922,0.2856696833736994,-0.02734422820736344,2.2604852635308466,0.3437984522726635,-1.6199777026322286,-1.6252434641567413,0.819414661012346,0.8718682984632122,-0.9577172169711519,0.26839737955878556,1.3259952049003743,-0.5112436727714154,1.5282438868112913,0.46111855997757906,0.5103298218556396,-1.6594959487403262,0.5897407100948779,-0.0702770913251112,2.145076222618863,-0.3302738874863218,1.7954077585596733,-0.32578556653973817,0.8364388798723189,0.22696433098098545,-0.8327353257833802,-1.015031002671774,0.37786457003176177,-0.8097117301574803,-0.9985378053285431,0.5203569062543102,0.4818184236235761,-0.8441091152069875,1.2708165965970095,-0.70334138878969,1.0694277546339286,0.6254820710794478,-0.009766599509518017,0.10566623768884706,-0.38865979307592985,-0.4287810605985193,-0.3739451959228925,-0.9145143264683828,2.625130148137943,0.2778968503855602,0.9934389776868553,-0.9072450113031999,0.5210933674015816,0.0830080569450399,0.14620986056202875,-0.4516254448680814,1.1997048520705935,-0.45206800531489205,1.0943552757896906,0.9640478674870745,-1.6536100269234513,0.101149502791871,-0.4152232250614539,0.6152742885080315,0.2106406522997461,0.0019031646346197241,0.602635626247644,-1.715601158322781,0.5628710900741206,-0.1294924891033397,-0.6355075840796094,1.2649381157969501,0.02498520572713563,0.5104545781590395,-0.5702951302023916,1.7309202655032256,1.2879164184864185,-0.36438719814264675,0.2745117757241402,-0.07135501369983091,-0.10594911360867416,0.2004243601221823,0.5662466524036643,0.4151771166224692,2.0414607940726452,0.3982025407248406,-1.2995806760810338,0.982890176174143],\"xaxis\":\"x6\",\"yaxis\":\"y6\",\"type\":\"histogram\"},{\"line\":{\"color\":\"rgba(128, 128, 128, 1.0)\",\"dash\":\"solid\",\"shape\":\"linear\",\"width\":1.3},\"marker\":{\"size\":2,\"symbol\":\"circle\"},\"mode\":\"markers\",\"name\":\"B\",\"text\":\"\",\"x\":[-0.23191483467728796,0.22996169982911116,0.37235644215290814,-0.18317934630443627,0.030269596121248386,0.2377912009439052,-0.4635781052161619,-1.113826422851541,-0.4640499369179566,0.0862418242527444,-0.17526457764388662,-1.2394707131388767,1.1378268189836096,1.1227212390740267,0.8469162696258059,-0.2352349772821939,0.1966858786059231,-0.2933140386799466,-0.30688059116922967,-0.4821681732345493,-0.27745071051604725,-1.1243501531182385,0.057655680779404216,0.45004825152232597,-0.6431969695826352,1.8043144586142832,0.5335382114718625,-0.558890544540614,-1.0720048033208915,-0.941563266309427,0.348237899267876,1.1705473551597216,-0.8353913555607797,-0.857665180470015,-0.34313815056146535,-0.6405363663505411,-0.005708929644882179,-1.0129631575850104,0.5779718783951365,-1.0519358973969024,0.5136347490696667,-1.2979934398788073,0.5349053270524682,2.357078440371061,0.7469704623104282,-0.7512300212264496,-0.0676600767370751,1.1717868904695523,0.056014652083291414,1.9067085542207205,0.22696914256599662,-1.0227464786175227,-0.3662894960812538,-1.069064556566524,0.5477192163632087,0.38967752312019927,-0.30929610039500577,1.3586255897880464,1.5695745260088578,-0.440786731303405,-1.0467786473869678,-0.6406050565135507,1.2910836005523305,-0.11894889194832031,-1.0179449928368667,1.3447998121960456,0.14512180959110263,-1.227725683384825,1.4371215964566564,-0.0031341668208622908,-0.5576920364414308,-0.38328672961847204,0.026830990387689723,-0.8382448805596847,0.8827979098248043,1.5898469507164932,2.604205368168547,0.8892144723017181,-0.07378398071441221,0.4267291792279438,0.8950635767904128,0.3922940160616898,-0.0851112683431683,-0.6736568562098894,-0.43538967839927634,-0.6678661489181582,0.4674966404566777,1.3041628300440022,-1.9223632355127063,-0.6824825992913708,-0.7251925773027719,0.8406610583174904,0.6198675777100461,1.2865116834532744,-1.6841263181861676,0.3858325516026786,-0.31831457953920045,0.9298675048241788,0.08512501033433308,0.5944382814004443],\"xaxis\":\"x7\",\"y\":[-0.8713196634022675,-1.767211174819314,-1.0350908487091959,-0.08072812492485895,-1.1951142174006553,-1.8471571622199414,1.8801067041568933,-1.1058767571189025,0.40937518520839133,0.5074882970638703,-0.9099081392282109,-0.23390168778098436,1.3793033998833388,-0.03876003474237771,1.38539784508653,0.8040467182086181,-1.9859688198263412,1.4318814602300922,0.2856696833736994,-0.02734422820736344,2.2604852635308466,0.3437984522726635,-1.6199777026322286,-1.6252434641567413,0.819414661012346,0.8718682984632122,-0.9577172169711519,0.26839737955878556,1.3259952049003743,-0.5112436727714154,1.5282438868112913,0.46111855997757906,0.5103298218556396,-1.6594959487403262,0.5897407100948779,-0.0702770913251112,2.145076222618863,-0.3302738874863218,1.7954077585596733,-0.32578556653973817,0.8364388798723189,0.22696433098098545,-0.8327353257833802,-1.015031002671774,0.37786457003176177,-0.8097117301574803,-0.9985378053285431,0.5203569062543102,0.4818184236235761,-0.8441091152069875,1.2708165965970095,-0.70334138878969,1.0694277546339286,0.6254820710794478,-0.009766599509518017,0.10566623768884706,-0.38865979307592985,-0.4287810605985193,-0.3739451959228925,-0.9145143264683828,2.625130148137943,0.2778968503855602,0.9934389776868553,-0.9072450113031999,0.5210933674015816,0.0830080569450399,0.14620986056202875,-0.4516254448680814,1.1997048520705935,-0.45206800531489205,1.0943552757896906,0.9640478674870745,-1.6536100269234513,0.101149502791871,-0.4152232250614539,0.6152742885080315,0.2106406522997461,0.0019031646346197241,0.602635626247644,-1.715601158322781,0.5628710900741206,-0.1294924891033397,-0.6355075840796094,1.2649381157969501,0.02498520572713563,0.5104545781590395,-0.5702951302023916,1.7309202655032256,1.2879164184864185,-0.36438719814264675,0.2745117757241402,-0.07135501369983091,-0.10594911360867416,0.2004243601221823,0.5662466524036643,0.4151771166224692,2.0414607940726452,0.3982025407248406,-1.2995806760810338,0.982890176174143],\"yaxis\":\"y7\",\"type\":\"scatter\"},{\"line\":{\"color\":\"rgba(128, 128, 128, 1.0)\",\"dash\":\"solid\",\"shape\":\"linear\",\"width\":1.3},\"marker\":{\"size\":2,\"symbol\":\"circle\"},\"mode\":\"markers\",\"name\":\"B\",\"text\":\"\",\"x\":[1.7420011505283355,-0.21407790210814454,-0.8346995928206267,0.3572143263372206,-0.44861423493977404,-1.6081212330874752,0.801690734912549,-0.6109376576801621,2.1373076535109092,-0.3895897715840815,0.49813442940114483,0.9759970066716024,-0.7932651994978115,0.6835870707382509,-0.3274394480942042,1.8709656860865775,0.3111020957103798,-0.7509733514305589,0.70735198442484,-2.0380165731831723,-0.2268007663096546,-0.1570710863874976,-0.043925259267604065,1.2132826148806004,-0.35116309161963677,-0.22222779417501082,-0.4744366412490772,0.9675082903553129,0.117057975512573,1.3648150969859354,-0.44309217680230667,-0.2426589005323525,0.6386264583219761,-0.8332164875365083,-0.44728663182657197,-0.02280652878873671,2.225828052114822,-0.14800113052807606,0.6406805425970652,-1.1344693137474502,-1.0701856529498481,-1.0291026082395422,1.439390319110055,0.7584810547627114,0.5888102171302606,0.2724300812740993,0.43539688823221795,0.47801130939445824,0.7306479076541726,0.7096123064838874,0.38797045860083834,0.6450237570733347,-1.6733767642736335,-0.18122074197359497,-0.10116934075473873,0.903652841960548,-1.1081023040397295,0.6399902629524633,0.7793730919102405,0.875387486712953,1.044674558695237,-0.4871528085047099,-0.6143593693157811,0.21228328709304328,-1.4146000066232995,-1.7253060336527681,0.7433283324848287,0.0627648959382127,-1.0410361166019233,-1.0179539366545063,-0.12346745371218192,-0.19861250276447442,-1.2928778298316919,-0.39586307865963055,-0.7406276396929118,0.639801665969883,1.5466490194149656,-2.25710586595814,0.025727214192610162,-1.3997758024249467,0.6293336997602994,0.5524935217565039,2.3874015597003724,-0.39471117140079154,-1.3953941132202565,0.40979403089478883,-0.23403208703945236,-1.5492736810458847,-2.80725233529573,-0.4855463561126437,1.9368340138661833,0.007857349331967686,-0.8882755436060508,-1.6353969003568276,-1.3308136151465673,-0.5024940855850913,-0.09574033787558964,1.876487667138215,-1.4315406749059392,-0.14243853343481255],\"xaxis\":\"x8\",\"y\":[-0.8713196634022675,-1.767211174819314,-1.0350908487091959,-0.08072812492485895,-1.1951142174006553,-1.8471571622199414,1.8801067041568933,-1.1058767571189025,0.40937518520839133,0.5074882970638703,-0.9099081392282109,-0.23390168778098436,1.3793033998833388,-0.03876003474237771,1.38539784508653,0.8040467182086181,-1.9859688198263412,1.4318814602300922,0.2856696833736994,-0.02734422820736344,2.2604852635308466,0.3437984522726635,-1.6199777026322286,-1.6252434641567413,0.819414661012346,0.8718682984632122,-0.9577172169711519,0.26839737955878556,1.3259952049003743,-0.5112436727714154,1.5282438868112913,0.46111855997757906,0.5103298218556396,-1.6594959487403262,0.5897407100948779,-0.0702770913251112,2.145076222618863,-0.3302738874863218,1.7954077585596733,-0.32578556653973817,0.8364388798723189,0.22696433098098545,-0.8327353257833802,-1.015031002671774,0.37786457003176177,-0.8097117301574803,-0.9985378053285431,0.5203569062543102,0.4818184236235761,-0.8441091152069875,1.2708165965970095,-0.70334138878969,1.0694277546339286,0.6254820710794478,-0.009766599509518017,0.10566623768884706,-0.38865979307592985,-0.4287810605985193,-0.3739451959228925,-0.9145143264683828,2.625130148137943,0.2778968503855602,0.9934389776868553,-0.9072450113031999,0.5210933674015816,0.0830080569450399,0.14620986056202875,-0.4516254448680814,1.1997048520705935,-0.45206800531489205,1.0943552757896906,0.9640478674870745,-1.6536100269234513,0.101149502791871,-0.4152232250614539,0.6152742885080315,0.2106406522997461,0.0019031646346197241,0.602635626247644,-1.715601158322781,0.5628710900741206,-0.1294924891033397,-0.6355075840796094,1.2649381157969501,0.02498520572713563,0.5104545781590395,-0.5702951302023916,1.7309202655032256,1.2879164184864185,-0.36438719814264675,0.2745117757241402,-0.07135501369983091,-0.10594911360867416,0.2004243601221823,0.5662466524036643,0.4151771166224692,2.0414607940726452,0.3982025407248406,-1.2995806760810338,0.982890176174143],\"yaxis\":\"y8\",\"type\":\"scatter\"},{\"line\":{\"color\":\"rgba(128, 128, 128, 1.0)\",\"dash\":\"solid\",\"shape\":\"linear\",\"width\":1.3},\"marker\":{\"size\":2,\"symbol\":\"circle\"},\"mode\":\"markers\",\"name\":\"C\",\"text\":\"\",\"x\":[-1.1024981471016053,0.45532653178486426,0.40391046008714476,-0.2809970042901508,0.7989989325364689,1.0832583953209949,-1.234209784210434,0.3224994409690922,-0.3242087708237595,-0.1284653156020744,-0.7552748291440724,0.8184288968726566,0.5422845891231438,0.10789901010090519,-0.32139817008019994,-0.7963759333281335,-0.39037680946255826,-2.2655403217214696,0.5167189806038817,1.0311119027127906,-0.7280729939339882,2.2399138984961033,-1.2752392088928555,-0.5378918136584961,2.0295510309720433,0.23191793912741354,-0.7489274861749667,0.1804315695573513,-1.076899175942572,0.1480646205053287,-2.067689597756462,-0.6242648055288316,1.9205984896737025,-0.6626634145557857,0.43755162941932596,-0.08301825934472241,1.6979277445032026,1.3214093229538189,-0.5063299960070593,-0.0634250885800641,1.5099246615970119,-0.06181082497718354,-0.3409827236091026,-0.33324862190788684,1.500014889723033,-1.5918283819078909,0.1436883889894132,1.5756106661076734,-0.32506572639260684,0.37798144298626746,0.46348546666861756,-2.051188827144377,-1.0172458205234336,-0.5070704946445844,-0.8478731955080303,-0.2334924377631749,0.19262355458803307,-1.3003949447844079,-0.9149035966488548,0.8229650720355511,1.3006243742931636,-0.4126201075864305,-0.6711296866905244,-0.4405250418337267,-0.5651290513169568,1.0196385357067541,0.5877685488555959,-0.3945490445285969,0.8054155111464418,-1.0217863363909698,0.46049889877191597,0.57181539365208,-0.8625271604108457,-0.46000004554287016,0.02716586732277476,0.6816588980785862,-0.4668112307509774,0.25228987992077717,0.8669165806315857,0.847033573383717,-1.3863133841285744,-0.01553686633329219,-0.2740973426119702,0.043616214784867754,-2.1647128799946276,-0.05182135785862414,-1.384645553366656,0.4027841869433865,0.11479059202803563,0.3819374624127815,0.22205933188988886,0.9355340173488559,-0.2765941836604982,0.954866972229284,1.073857686349574,-1.1885752619110412,0.28988033179079464,0.8151597284421718,-0.9941872219563699,1.5368506591655258],\"xaxis\":\"x9\",\"y\":[-0.23191483467728796,0.22996169982911116,0.37235644215290814,-0.18317934630443627,0.030269596121248386,0.2377912009439052,-0.4635781052161619,-1.113826422851541,-0.4640499369179566,0.0862418242527444,-0.17526457764388662,-1.2394707131388767,1.1378268189836096,1.1227212390740267,0.8469162696258059,-0.2352349772821939,0.1966858786059231,-0.2933140386799466,-0.30688059116922967,-0.4821681732345493,-0.27745071051604725,-1.1243501531182385,0.057655680779404216,0.45004825152232597,-0.6431969695826352,1.8043144586142832,0.5335382114718625,-0.558890544540614,-1.0720048033208915,-0.941563266309427,0.348237899267876,1.1705473551597216,-0.8353913555607797,-0.857665180470015,-0.34313815056146535,-0.6405363663505411,-0.005708929644882179,-1.0129631575850104,0.5779718783951365,-1.0519358973969024,0.5136347490696667,-1.2979934398788073,0.5349053270524682,2.357078440371061,0.7469704623104282,-0.7512300212264496,-0.0676600767370751,1.1717868904695523,0.056014652083291414,1.9067085542207205,0.22696914256599662,-1.0227464786175227,-0.3662894960812538,-1.069064556566524,0.5477192163632087,0.38967752312019927,-0.30929610039500577,1.3586255897880464,1.5695745260088578,-0.440786731303405,-1.0467786473869678,-0.6406050565135507,1.2910836005523305,-0.11894889194832031,-1.0179449928368667,1.3447998121960456,0.14512180959110263,-1.227725683384825,1.4371215964566564,-0.0031341668208622908,-0.5576920364414308,-0.38328672961847204,0.026830990387689723,-0.8382448805596847,0.8827979098248043,1.5898469507164932,2.604205368168547,0.8892144723017181,-0.07378398071441221,0.4267291792279438,0.8950635767904128,0.3922940160616898,-0.0851112683431683,-0.6736568562098894,-0.43538967839927634,-0.6678661489181582,0.4674966404566777,1.3041628300440022,-1.9223632355127063,-0.6824825992913708,-0.7251925773027719,0.8406610583174904,0.6198675777100461,1.2865116834532744,-1.6841263181861676,0.3858325516026786,-0.31831457953920045,0.9298675048241788,0.08512501033433308,0.5944382814004443],\"yaxis\":\"y9\",\"type\":\"scatter\"},{\"line\":{\"color\":\"rgba(128, 128, 128, 1.0)\",\"dash\":\"solid\",\"shape\":\"linear\",\"width\":1.3},\"marker\":{\"size\":2,\"symbol\":\"circle\"},\"mode\":\"markers\",\"name\":\"C\",\"text\":\"\",\"x\":[-0.8713196634022675,-1.767211174819314,-1.0350908487091959,-0.08072812492485895,-1.1951142174006553,-1.8471571622199414,1.8801067041568933,-1.1058767571189025,0.40937518520839133,0.5074882970638703,-0.9099081392282109,-0.23390168778098436,1.3793033998833388,-0.03876003474237771,1.38539784508653,0.8040467182086181,-1.9859688198263412,1.4318814602300922,0.2856696833736994,-0.02734422820736344,2.2604852635308466,0.3437984522726635,-1.6199777026322286,-1.6252434641567413,0.819414661012346,0.8718682984632122,-0.9577172169711519,0.26839737955878556,1.3259952049003743,-0.5112436727714154,1.5282438868112913,0.46111855997757906,0.5103298218556396,-1.6594959487403262,0.5897407100948779,-0.0702770913251112,2.145076222618863,-0.3302738874863218,1.7954077585596733,-0.32578556653973817,0.8364388798723189,0.22696433098098545,-0.8327353257833802,-1.015031002671774,0.37786457003176177,-0.8097117301574803,-0.9985378053285431,0.5203569062543102,0.4818184236235761,-0.8441091152069875,1.2708165965970095,-0.70334138878969,1.0694277546339286,0.6254820710794478,-0.009766599509518017,0.10566623768884706,-0.38865979307592985,-0.4287810605985193,-0.3739451959228925,-0.9145143264683828,2.625130148137943,0.2778968503855602,0.9934389776868553,-0.9072450113031999,0.5210933674015816,0.0830080569450399,0.14620986056202875,-0.4516254448680814,1.1997048520705935,-0.45206800531489205,1.0943552757896906,0.9640478674870745,-1.6536100269234513,0.101149502791871,-0.4152232250614539,0.6152742885080315,0.2106406522997461,0.0019031646346197241,0.602635626247644,-1.715601158322781,0.5628710900741206,-0.1294924891033397,-0.6355075840796094,1.2649381157969501,0.02498520572713563,0.5104545781590395,-0.5702951302023916,1.7309202655032256,1.2879164184864185,-0.36438719814264675,0.2745117757241402,-0.07135501369983091,-0.10594911360867416,0.2004243601221823,0.5662466524036643,0.4151771166224692,2.0414607940726452,0.3982025407248406,-1.2995806760810338,0.982890176174143],\"xaxis\":\"x10\",\"y\":[-0.23191483467728796,0.22996169982911116,0.37235644215290814,-0.18317934630443627,0.030269596121248386,0.2377912009439052,-0.4635781052161619,-1.113826422851541,-0.4640499369179566,0.0862418242527444,-0.17526457764388662,-1.2394707131388767,1.1378268189836096,1.1227212390740267,0.8469162696258059,-0.2352349772821939,0.1966858786059231,-0.2933140386799466,-0.30688059116922967,-0.4821681732345493,-0.27745071051604725,-1.1243501531182385,0.057655680779404216,0.45004825152232597,-0.6431969695826352,1.8043144586142832,0.5335382114718625,-0.558890544540614,-1.0720048033208915,-0.941563266309427,0.348237899267876,1.1705473551597216,-0.8353913555607797,-0.857665180470015,-0.34313815056146535,-0.6405363663505411,-0.005708929644882179,-1.0129631575850104,0.5779718783951365,-1.0519358973969024,0.5136347490696667,-1.2979934398788073,0.5349053270524682,2.357078440371061,0.7469704623104282,-0.7512300212264496,-0.0676600767370751,1.1717868904695523,0.056014652083291414,1.9067085542207205,0.22696914256599662,-1.0227464786175227,-0.3662894960812538,-1.069064556566524,0.5477192163632087,0.38967752312019927,-0.30929610039500577,1.3586255897880464,1.5695745260088578,-0.440786731303405,-1.0467786473869678,-0.6406050565135507,1.2910836005523305,-0.11894889194832031,-1.0179449928368667,1.3447998121960456,0.14512180959110263,-1.227725683384825,1.4371215964566564,-0.0031341668208622908,-0.5576920364414308,-0.38328672961847204,0.026830990387689723,-0.8382448805596847,0.8827979098248043,1.5898469507164932,2.604205368168547,0.8892144723017181,-0.07378398071441221,0.4267291792279438,0.8950635767904128,0.3922940160616898,-0.0851112683431683,-0.6736568562098894,-0.43538967839927634,-0.6678661489181582,0.4674966404566777,1.3041628300440022,-1.9223632355127063,-0.6824825992913708,-0.7251925773027719,0.8406610583174904,0.6198675777100461,1.2865116834532744,-1.6841263181861676,0.3858325516026786,-0.31831457953920045,0.9298675048241788,0.08512501033433308,0.5944382814004443],\"yaxis\":\"y10\",\"type\":\"scatter\"},{\"histfunc\":\"count\",\"histnorm\":\"\",\"marker\":{\"color\":\"rgba(50, 171, 96, 1.0)\",\"line\":{\"color\":\"#4D5663\",\"width\":1.3}},\"name\":\"C\",\"nbinsx\":10,\"opacity\":0.8,\"orientation\":\"v\",\"x\":[-0.23191483467728796,0.22996169982911116,0.37235644215290814,-0.18317934630443627,0.030269596121248386,0.2377912009439052,-0.4635781052161619,-1.113826422851541,-0.4640499369179566,0.0862418242527444,-0.17526457764388662,-1.2394707131388767,1.1378268189836096,1.1227212390740267,0.8469162696258059,-0.2352349772821939,0.1966858786059231,-0.2933140386799466,-0.30688059116922967,-0.4821681732345493,-0.27745071051604725,-1.1243501531182385,0.057655680779404216,0.45004825152232597,-0.6431969695826352,1.8043144586142832,0.5335382114718625,-0.558890544540614,-1.0720048033208915,-0.941563266309427,0.348237899267876,1.1705473551597216,-0.8353913555607797,-0.857665180470015,-0.34313815056146535,-0.6405363663505411,-0.005708929644882179,-1.0129631575850104,0.5779718783951365,-1.0519358973969024,0.5136347490696667,-1.2979934398788073,0.5349053270524682,2.357078440371061,0.7469704623104282,-0.7512300212264496,-0.0676600767370751,1.1717868904695523,0.056014652083291414,1.9067085542207205,0.22696914256599662,-1.0227464786175227,-0.3662894960812538,-1.069064556566524,0.5477192163632087,0.38967752312019927,-0.30929610039500577,1.3586255897880464,1.5695745260088578,-0.440786731303405,-1.0467786473869678,-0.6406050565135507,1.2910836005523305,-0.11894889194832031,-1.0179449928368667,1.3447998121960456,0.14512180959110263,-1.227725683384825,1.4371215964566564,-0.0031341668208622908,-0.5576920364414308,-0.38328672961847204,0.026830990387689723,-0.8382448805596847,0.8827979098248043,1.5898469507164932,2.604205368168547,0.8892144723017181,-0.07378398071441221,0.4267291792279438,0.8950635767904128,0.3922940160616898,-0.0851112683431683,-0.6736568562098894,-0.43538967839927634,-0.6678661489181582,0.4674966404566777,1.3041628300440022,-1.9223632355127063,-0.6824825992913708,-0.7251925773027719,0.8406610583174904,0.6198675777100461,1.2865116834532744,-1.6841263181861676,0.3858325516026786,-0.31831457953920045,0.9298675048241788,0.08512501033433308,0.5944382814004443],\"xaxis\":\"x11\",\"yaxis\":\"y11\",\"type\":\"histogram\"},{\"line\":{\"color\":\"rgba(128, 128, 128, 1.0)\",\"dash\":\"solid\",\"shape\":\"linear\",\"width\":1.3},\"marker\":{\"size\":2,\"symbol\":\"circle\"},\"mode\":\"markers\",\"name\":\"C\",\"text\":\"\",\"x\":[1.7420011505283355,-0.21407790210814454,-0.8346995928206267,0.3572143263372206,-0.44861423493977404,-1.6081212330874752,0.801690734912549,-0.6109376576801621,2.1373076535109092,-0.3895897715840815,0.49813442940114483,0.9759970066716024,-0.7932651994978115,0.6835870707382509,-0.3274394480942042,1.8709656860865775,0.3111020957103798,-0.7509733514305589,0.70735198442484,-2.0380165731831723,-0.2268007663096546,-0.1570710863874976,-0.043925259267604065,1.2132826148806004,-0.35116309161963677,-0.22222779417501082,-0.4744366412490772,0.9675082903553129,0.117057975512573,1.3648150969859354,-0.44309217680230667,-0.2426589005323525,0.6386264583219761,-0.8332164875365083,-0.44728663182657197,-0.02280652878873671,2.225828052114822,-0.14800113052807606,0.6406805425970652,-1.1344693137474502,-1.0701856529498481,-1.0291026082395422,1.439390319110055,0.7584810547627114,0.5888102171302606,0.2724300812740993,0.43539688823221795,0.47801130939445824,0.7306479076541726,0.7096123064838874,0.38797045860083834,0.6450237570733347,-1.6733767642736335,-0.18122074197359497,-0.10116934075473873,0.903652841960548,-1.1081023040397295,0.6399902629524633,0.7793730919102405,0.875387486712953,1.044674558695237,-0.4871528085047099,-0.6143593693157811,0.21228328709304328,-1.4146000066232995,-1.7253060336527681,0.7433283324848287,0.0627648959382127,-1.0410361166019233,-1.0179539366545063,-0.12346745371218192,-0.19861250276447442,-1.2928778298316919,-0.39586307865963055,-0.7406276396929118,0.639801665969883,1.5466490194149656,-2.25710586595814,0.025727214192610162,-1.3997758024249467,0.6293336997602994,0.5524935217565039,2.3874015597003724,-0.39471117140079154,-1.3953941132202565,0.40979403089478883,-0.23403208703945236,-1.5492736810458847,-2.80725233529573,-0.4855463561126437,1.9368340138661833,0.007857349331967686,-0.8882755436060508,-1.6353969003568276,-1.3308136151465673,-0.5024940855850913,-0.09574033787558964,1.876487667138215,-1.4315406749059392,-0.14243853343481255],\"xaxis\":\"x12\",\"y\":[-0.23191483467728796,0.22996169982911116,0.37235644215290814,-0.18317934630443627,0.030269596121248386,0.2377912009439052,-0.4635781052161619,-1.113826422851541,-0.4640499369179566,0.0862418242527444,-0.17526457764388662,-1.2394707131388767,1.1378268189836096,1.1227212390740267,0.8469162696258059,-0.2352349772821939,0.1966858786059231,-0.2933140386799466,-0.30688059116922967,-0.4821681732345493,-0.27745071051604725,-1.1243501531182385,0.057655680779404216,0.45004825152232597,-0.6431969695826352,1.8043144586142832,0.5335382114718625,-0.558890544540614,-1.0720048033208915,-0.941563266309427,0.348237899267876,1.1705473551597216,-0.8353913555607797,-0.857665180470015,-0.34313815056146535,-0.6405363663505411,-0.005708929644882179,-1.0129631575850104,0.5779718783951365,-1.0519358973969024,0.5136347490696667,-1.2979934398788073,0.5349053270524682,2.357078440371061,0.7469704623104282,-0.7512300212264496,-0.0676600767370751,1.1717868904695523,0.056014652083291414,1.9067085542207205,0.22696914256599662,-1.0227464786175227,-0.3662894960812538,-1.069064556566524,0.5477192163632087,0.38967752312019927,-0.30929610039500577,1.3586255897880464,1.5695745260088578,-0.440786731303405,-1.0467786473869678,-0.6406050565135507,1.2910836005523305,-0.11894889194832031,-1.0179449928368667,1.3447998121960456,0.14512180959110263,-1.227725683384825,1.4371215964566564,-0.0031341668208622908,-0.5576920364414308,-0.38328672961847204,0.026830990387689723,-0.8382448805596847,0.8827979098248043,1.5898469507164932,2.604205368168547,0.8892144723017181,-0.07378398071441221,0.4267291792279438,0.8950635767904128,0.3922940160616898,-0.0851112683431683,-0.6736568562098894,-0.43538967839927634,-0.6678661489181582,0.4674966404566777,1.3041628300440022,-1.9223632355127063,-0.6824825992913708,-0.7251925773027719,0.8406610583174904,0.6198675777100461,1.2865116834532744,-1.6841263181861676,0.3858325516026786,-0.31831457953920045,0.9298675048241788,0.08512501033433308,0.5944382814004443],\"yaxis\":\"y12\",\"type\":\"scatter\"},{\"line\":{\"color\":\"rgba(128, 128, 128, 1.0)\",\"dash\":\"solid\",\"shape\":\"linear\",\"width\":1.3},\"marker\":{\"size\":2,\"symbol\":\"circle\"},\"mode\":\"markers\",\"name\":\"D\",\"text\":\"\",\"x\":[-1.1024981471016053,0.45532653178486426,0.40391046008714476,-0.2809970042901508,0.7989989325364689,1.0832583953209949,-1.234209784210434,0.3224994409690922,-0.3242087708237595,-0.1284653156020744,-0.7552748291440724,0.8184288968726566,0.5422845891231438,0.10789901010090519,-0.32139817008019994,-0.7963759333281335,-0.39037680946255826,-2.2655403217214696,0.5167189806038817,1.0311119027127906,-0.7280729939339882,2.2399138984961033,-1.2752392088928555,-0.5378918136584961,2.0295510309720433,0.23191793912741354,-0.7489274861749667,0.1804315695573513,-1.076899175942572,0.1480646205053287,-2.067689597756462,-0.6242648055288316,1.9205984896737025,-0.6626634145557857,0.43755162941932596,-0.08301825934472241,1.6979277445032026,1.3214093229538189,-0.5063299960070593,-0.0634250885800641,1.5099246615970119,-0.06181082497718354,-0.3409827236091026,-0.33324862190788684,1.500014889723033,-1.5918283819078909,0.1436883889894132,1.5756106661076734,-0.32506572639260684,0.37798144298626746,0.46348546666861756,-2.051188827144377,-1.0172458205234336,-0.5070704946445844,-0.8478731955080303,-0.2334924377631749,0.19262355458803307,-1.3003949447844079,-0.9149035966488548,0.8229650720355511,1.3006243742931636,-0.4126201075864305,-0.6711296866905244,-0.4405250418337267,-0.5651290513169568,1.0196385357067541,0.5877685488555959,-0.3945490445285969,0.8054155111464418,-1.0217863363909698,0.46049889877191597,0.57181539365208,-0.8625271604108457,-0.46000004554287016,0.02716586732277476,0.6816588980785862,-0.4668112307509774,0.25228987992077717,0.8669165806315857,0.847033573383717,-1.3863133841285744,-0.01553686633329219,-0.2740973426119702,0.043616214784867754,-2.1647128799946276,-0.05182135785862414,-1.384645553366656,0.4027841869433865,0.11479059202803563,0.3819374624127815,0.22205933188988886,0.9355340173488559,-0.2765941836604982,0.954866972229284,1.073857686349574,-1.1885752619110412,0.28988033179079464,0.8151597284421718,-0.9941872219563699,1.5368506591655258],\"xaxis\":\"x13\",\"y\":[1.7420011505283355,-0.21407790210814454,-0.8346995928206267,0.3572143263372206,-0.44861423493977404,-1.6081212330874752,0.801690734912549,-0.6109376576801621,2.1373076535109092,-0.3895897715840815,0.49813442940114483,0.9759970066716024,-0.7932651994978115,0.6835870707382509,-0.3274394480942042,1.8709656860865775,0.3111020957103798,-0.7509733514305589,0.70735198442484,-2.0380165731831723,-0.2268007663096546,-0.1570710863874976,-0.043925259267604065,1.2132826148806004,-0.35116309161963677,-0.22222779417501082,-0.4744366412490772,0.9675082903553129,0.117057975512573,1.3648150969859354,-0.44309217680230667,-0.2426589005323525,0.6386264583219761,-0.8332164875365083,-0.44728663182657197,-0.02280652878873671,2.225828052114822,-0.14800113052807606,0.6406805425970652,-1.1344693137474502,-1.0701856529498481,-1.0291026082395422,1.439390319110055,0.7584810547627114,0.5888102171302606,0.2724300812740993,0.43539688823221795,0.47801130939445824,0.7306479076541726,0.7096123064838874,0.38797045860083834,0.6450237570733347,-1.6733767642736335,-0.18122074197359497,-0.10116934075473873,0.903652841960548,-1.1081023040397295,0.6399902629524633,0.7793730919102405,0.875387486712953,1.044674558695237,-0.4871528085047099,-0.6143593693157811,0.21228328709304328,-1.4146000066232995,-1.7253060336527681,0.7433283324848287,0.0627648959382127,-1.0410361166019233,-1.0179539366545063,-0.12346745371218192,-0.19861250276447442,-1.2928778298316919,-0.39586307865963055,-0.7406276396929118,0.639801665969883,1.5466490194149656,-2.25710586595814,0.025727214192610162,-1.3997758024249467,0.6293336997602994,0.5524935217565039,2.3874015597003724,-0.39471117140079154,-1.3953941132202565,0.40979403089478883,-0.23403208703945236,-1.5492736810458847,-2.80725233529573,-0.4855463561126437,1.9368340138661833,0.007857349331967686,-0.8882755436060508,-1.6353969003568276,-1.3308136151465673,-0.5024940855850913,-0.09574033787558964,1.876487667138215,-1.4315406749059392,-0.14243853343481255],\"yaxis\":\"y13\",\"type\":\"scatter\"},{\"line\":{\"color\":\"rgba(128, 128, 128, 1.0)\",\"dash\":\"solid\",\"shape\":\"linear\",\"width\":1.3},\"marker\":{\"size\":2,\"symbol\":\"circle\"},\"mode\":\"markers\",\"name\":\"D\",\"text\":\"\",\"x\":[-0.8713196634022675,-1.767211174819314,-1.0350908487091959,-0.08072812492485895,-1.1951142174006553,-1.8471571622199414,1.8801067041568933,-1.1058767571189025,0.40937518520839133,0.5074882970638703,-0.9099081392282109,-0.23390168778098436,1.3793033998833388,-0.03876003474237771,1.38539784508653,0.8040467182086181,-1.9859688198263412,1.4318814602300922,0.2856696833736994,-0.02734422820736344,2.2604852635308466,0.3437984522726635,-1.6199777026322286,-1.6252434641567413,0.819414661012346,0.8718682984632122,-0.9577172169711519,0.26839737955878556,1.3259952049003743,-0.5112436727714154,1.5282438868112913,0.46111855997757906,0.5103298218556396,-1.6594959487403262,0.5897407100948779,-0.0702770913251112,2.145076222618863,-0.3302738874863218,1.7954077585596733,-0.32578556653973817,0.8364388798723189,0.22696433098098545,-0.8327353257833802,-1.015031002671774,0.37786457003176177,-0.8097117301574803,-0.9985378053285431,0.5203569062543102,0.4818184236235761,-0.8441091152069875,1.2708165965970095,-0.70334138878969,1.0694277546339286,0.6254820710794478,-0.009766599509518017,0.10566623768884706,-0.38865979307592985,-0.4287810605985193,-0.3739451959228925,-0.9145143264683828,2.625130148137943,0.2778968503855602,0.9934389776868553,-0.9072450113031999,0.5210933674015816,0.0830080569450399,0.14620986056202875,-0.4516254448680814,1.1997048520705935,-0.45206800531489205,1.0943552757896906,0.9640478674870745,-1.6536100269234513,0.101149502791871,-0.4152232250614539,0.6152742885080315,0.2106406522997461,0.0019031646346197241,0.602635626247644,-1.715601158322781,0.5628710900741206,-0.1294924891033397,-0.6355075840796094,1.2649381157969501,0.02498520572713563,0.5104545781590395,-0.5702951302023916,1.7309202655032256,1.2879164184864185,-0.36438719814264675,0.2745117757241402,-0.07135501369983091,-0.10594911360867416,0.2004243601221823,0.5662466524036643,0.4151771166224692,2.0414607940726452,0.3982025407248406,-1.2995806760810338,0.982890176174143],\"xaxis\":\"x14\",\"y\":[1.7420011505283355,-0.21407790210814454,-0.8346995928206267,0.3572143263372206,-0.44861423493977404,-1.6081212330874752,0.801690734912549,-0.6109376576801621,2.1373076535109092,-0.3895897715840815,0.49813442940114483,0.9759970066716024,-0.7932651994978115,0.6835870707382509,-0.3274394480942042,1.8709656860865775,0.3111020957103798,-0.7509733514305589,0.70735198442484,-2.0380165731831723,-0.2268007663096546,-0.1570710863874976,-0.043925259267604065,1.2132826148806004,-0.35116309161963677,-0.22222779417501082,-0.4744366412490772,0.9675082903553129,0.117057975512573,1.3648150969859354,-0.44309217680230667,-0.2426589005323525,0.6386264583219761,-0.8332164875365083,-0.44728663182657197,-0.02280652878873671,2.225828052114822,-0.14800113052807606,0.6406805425970652,-1.1344693137474502,-1.0701856529498481,-1.0291026082395422,1.439390319110055,0.7584810547627114,0.5888102171302606,0.2724300812740993,0.43539688823221795,0.47801130939445824,0.7306479076541726,0.7096123064838874,0.38797045860083834,0.6450237570733347,-1.6733767642736335,-0.18122074197359497,-0.10116934075473873,0.903652841960548,-1.1081023040397295,0.6399902629524633,0.7793730919102405,0.875387486712953,1.044674558695237,-0.4871528085047099,-0.6143593693157811,0.21228328709304328,-1.4146000066232995,-1.7253060336527681,0.7433283324848287,0.0627648959382127,-1.0410361166019233,-1.0179539366545063,-0.12346745371218192,-0.19861250276447442,-1.2928778298316919,-0.39586307865963055,-0.7406276396929118,0.639801665969883,1.5466490194149656,-2.25710586595814,0.025727214192610162,-1.3997758024249467,0.6293336997602994,0.5524935217565039,2.3874015597003724,-0.39471117140079154,-1.3953941132202565,0.40979403089478883,-0.23403208703945236,-1.5492736810458847,-2.80725233529573,-0.4855463561126437,1.9368340138661833,0.007857349331967686,-0.8882755436060508,-1.6353969003568276,-1.3308136151465673,-0.5024940855850913,-0.09574033787558964,1.876487667138215,-1.4315406749059392,-0.14243853343481255],\"yaxis\":\"y14\",\"type\":\"scatter\"},{\"line\":{\"color\":\"rgba(128, 128, 128, 1.0)\",\"dash\":\"solid\",\"shape\":\"linear\",\"width\":1.3},\"marker\":{\"size\":2,\"symbol\":\"circle\"},\"mode\":\"markers\",\"name\":\"D\",\"text\":\"\",\"x\":[-0.23191483467728796,0.22996169982911116,0.37235644215290814,-0.18317934630443627,0.030269596121248386,0.2377912009439052,-0.4635781052161619,-1.113826422851541,-0.4640499369179566,0.0862418242527444,-0.17526457764388662,-1.2394707131388767,1.1378268189836096,1.1227212390740267,0.8469162696258059,-0.2352349772821939,0.1966858786059231,-0.2933140386799466,-0.30688059116922967,-0.4821681732345493,-0.27745071051604725,-1.1243501531182385,0.057655680779404216,0.45004825152232597,-0.6431969695826352,1.8043144586142832,0.5335382114718625,-0.558890544540614,-1.0720048033208915,-0.941563266309427,0.348237899267876,1.1705473551597216,-0.8353913555607797,-0.857665180470015,-0.34313815056146535,-0.6405363663505411,-0.005708929644882179,-1.0129631575850104,0.5779718783951365,-1.0519358973969024,0.5136347490696667,-1.2979934398788073,0.5349053270524682,2.357078440371061,0.7469704623104282,-0.7512300212264496,-0.0676600767370751,1.1717868904695523,0.056014652083291414,1.9067085542207205,0.22696914256599662,-1.0227464786175227,-0.3662894960812538,-1.069064556566524,0.5477192163632087,0.38967752312019927,-0.30929610039500577,1.3586255897880464,1.5695745260088578,-0.440786731303405,-1.0467786473869678,-0.6406050565135507,1.2910836005523305,-0.11894889194832031,-1.0179449928368667,1.3447998121960456,0.14512180959110263,-1.227725683384825,1.4371215964566564,-0.0031341668208622908,-0.5576920364414308,-0.38328672961847204,0.026830990387689723,-0.8382448805596847,0.8827979098248043,1.5898469507164932,2.604205368168547,0.8892144723017181,-0.07378398071441221,0.4267291792279438,0.8950635767904128,0.3922940160616898,-0.0851112683431683,-0.6736568562098894,-0.43538967839927634,-0.6678661489181582,0.4674966404566777,1.3041628300440022,-1.9223632355127063,-0.6824825992913708,-0.7251925773027719,0.8406610583174904,0.6198675777100461,1.2865116834532744,-1.6841263181861676,0.3858325516026786,-0.31831457953920045,0.9298675048241788,0.08512501033433308,0.5944382814004443],\"xaxis\":\"x15\",\"y\":[1.7420011505283355,-0.21407790210814454,-0.8346995928206267,0.3572143263372206,-0.44861423493977404,-1.6081212330874752,0.801690734912549,-0.6109376576801621,2.1373076535109092,-0.3895897715840815,0.49813442940114483,0.9759970066716024,-0.7932651994978115,0.6835870707382509,-0.3274394480942042,1.8709656860865775,0.3111020957103798,-0.7509733514305589,0.70735198442484,-2.0380165731831723,-0.2268007663096546,-0.1570710863874976,-0.043925259267604065,1.2132826148806004,-0.35116309161963677,-0.22222779417501082,-0.4744366412490772,0.9675082903553129,0.117057975512573,1.3648150969859354,-0.44309217680230667,-0.2426589005323525,0.6386264583219761,-0.8332164875365083,-0.44728663182657197,-0.02280652878873671,2.225828052114822,-0.14800113052807606,0.6406805425970652,-1.1344693137474502,-1.0701856529498481,-1.0291026082395422,1.439390319110055,0.7584810547627114,0.5888102171302606,0.2724300812740993,0.43539688823221795,0.47801130939445824,0.7306479076541726,0.7096123064838874,0.38797045860083834,0.6450237570733347,-1.6733767642736335,-0.18122074197359497,-0.10116934075473873,0.903652841960548,-1.1081023040397295,0.6399902629524633,0.7793730919102405,0.875387486712953,1.044674558695237,-0.4871528085047099,-0.6143593693157811,0.21228328709304328,-1.4146000066232995,-1.7253060336527681,0.7433283324848287,0.0627648959382127,-1.0410361166019233,-1.0179539366545063,-0.12346745371218192,-0.19861250276447442,-1.2928778298316919,-0.39586307865963055,-0.7406276396929118,0.639801665969883,1.5466490194149656,-2.25710586595814,0.025727214192610162,-1.3997758024249467,0.6293336997602994,0.5524935217565039,2.3874015597003724,-0.39471117140079154,-1.3953941132202565,0.40979403089478883,-0.23403208703945236,-1.5492736810458847,-2.80725233529573,-0.4855463561126437,1.9368340138661833,0.007857349331967686,-0.8882755436060508,-1.6353969003568276,-1.3308136151465673,-0.5024940855850913,-0.09574033787558964,1.876487667138215,-1.4315406749059392,-0.14243853343481255],\"yaxis\":\"y15\",\"type\":\"scatter\"},{\"histfunc\":\"count\",\"histnorm\":\"\",\"marker\":{\"color\":\"rgba(128, 0, 128, 1.0)\",\"line\":{\"color\":\"#4D5663\",\"width\":1.3}},\"name\":\"D\",\"nbinsx\":10,\"opacity\":0.8,\"orientation\":\"v\",\"x\":[1.7420011505283355,-0.21407790210814454,-0.8346995928206267,0.3572143263372206,-0.44861423493977404,-1.6081212330874752,0.801690734912549,-0.6109376576801621,2.1373076535109092,-0.3895897715840815,0.49813442940114483,0.9759970066716024,-0.7932651994978115,0.6835870707382509,-0.3274394480942042,1.8709656860865775,0.3111020957103798,-0.7509733514305589,0.70735198442484,-2.0380165731831723,-0.2268007663096546,-0.1570710863874976,-0.043925259267604065,1.2132826148806004,-0.35116309161963677,-0.22222779417501082,-0.4744366412490772,0.9675082903553129,0.117057975512573,1.3648150969859354,-0.44309217680230667,-0.2426589005323525,0.6386264583219761,-0.8332164875365083,-0.44728663182657197,-0.02280652878873671,2.225828052114822,-0.14800113052807606,0.6406805425970652,-1.1344693137474502,-1.0701856529498481,-1.0291026082395422,1.439390319110055,0.7584810547627114,0.5888102171302606,0.2724300812740993,0.43539688823221795,0.47801130939445824,0.7306479076541726,0.7096123064838874,0.38797045860083834,0.6450237570733347,-1.6733767642736335,-0.18122074197359497,-0.10116934075473873,0.903652841960548,-1.1081023040397295,0.6399902629524633,0.7793730919102405,0.875387486712953,1.044674558695237,-0.4871528085047099,-0.6143593693157811,0.21228328709304328,-1.4146000066232995,-1.7253060336527681,0.7433283324848287,0.0627648959382127,-1.0410361166019233,-1.0179539366545063,-0.12346745371218192,-0.19861250276447442,-1.2928778298316919,-0.39586307865963055,-0.7406276396929118,0.639801665969883,1.5466490194149656,-2.25710586595814,0.025727214192610162,-1.3997758024249467,0.6293336997602994,0.5524935217565039,2.3874015597003724,-0.39471117140079154,-1.3953941132202565,0.40979403089478883,-0.23403208703945236,-1.5492736810458847,-2.80725233529573,-0.4855463561126437,1.9368340138661833,0.007857349331967686,-0.8882755436060508,-1.6353969003568276,-1.3308136151465673,-0.5024940855850913,-0.09574033787558964,1.876487667138215,-1.4315406749059392,-0.14243853343481255],\"xaxis\":\"x16\",\"yaxis\":\"y16\",\"type\":\"histogram\"}],                        {\"bargap\":0.02,\"legend\":{\"bgcolor\":\"#F5F6F9\",\"font\":{\"color\":\"#4D5663\"}},\"paper_bgcolor\":\"#F5F6F9\",\"plot_bgcolor\":\"#F5F6F9\",\"showlegend\":false,\"template\":{\"data\":{\"barpolar\":[{\"marker\":{\"line\":{\"color\":\"#E5ECF6\",\"width\":0.5},\"pattern\":{\"fillmode\":\"overlay\",\"size\":10,\"solidity\":0.2}},\"type\":\"barpolar\"}],\"bar\":[{\"error_x\":{\"color\":\"#2a3f5f\"},\"error_y\":{\"color\":\"#2a3f5f\"},\"marker\":{\"line\":{\"color\":\"#E5ECF6\",\"width\":0.5},\"pattern\":{\"fillmode\":\"overlay\",\"size\":10,\"solidity\":0.2}},\"type\":\"bar\"}],\"carpet\":[{\"aaxis\":{\"endlinecolor\":\"#2a3f5f\",\"gridcolor\":\"white\",\"linecolor\":\"white\",\"minorgridcolor\":\"white\",\"startlinecolor\":\"#2a3f5f\"},\"baxis\":{\"endlinecolor\":\"#2a3f5f\",\"gridcolor\":\"white\",\"linecolor\":\"white\",\"minorgridcolor\":\"white\",\"startlinecolor\":\"#2a3f5f\"},\"type\":\"carpet\"}],\"choropleth\":[{\"colorbar\":{\"outlinewidth\":0,\"ticks\":\"\"},\"type\":\"choropleth\"}],\"contourcarpet\":[{\"colorbar\":{\"outlinewidth\":0,\"ticks\":\"\"},\"type\":\"contourcarpet\"}],\"contour\":[{\"colorbar\":{\"outlinewidth\":0,\"ticks\":\"\"},\"colorscale\":[[0.0,\"#0d0887\"],[0.1111111111111111,\"#46039f\"],[0.2222222222222222,\"#7201a8\"],[0.3333333333333333,\"#9c179e\"],[0.4444444444444444,\"#bd3786\"],[0.5555555555555556,\"#d8576b\"],[0.6666666666666666,\"#ed7953\"],[0.7777777777777778,\"#fb9f3a\"],[0.8888888888888888,\"#fdca26\"],[1.0,\"#f0f921\"]],\"type\":\"contour\"}],\"heatmapgl\":[{\"colorbar\":{\"outlinewidth\":0,\"ticks\":\"\"},\"colorscale\":[[0.0,\"#0d0887\"],[0.1111111111111111,\"#46039f\"],[0.2222222222222222,\"#7201a8\"],[0.3333333333333333,\"#9c179e\"],[0.4444444444444444,\"#bd3786\"],[0.5555555555555556,\"#d8576b\"],[0.6666666666666666,\"#ed7953\"],[0.7777777777777778,\"#fb9f3a\"],[0.8888888888888888,\"#fdca26\"],[1.0,\"#f0f921\"]],\"type\":\"heatmapgl\"}],\"heatmap\":[{\"colorbar\":{\"outlinewidth\":0,\"ticks\":\"\"},\"colorscale\":[[0.0,\"#0d0887\"],[0.1111111111111111,\"#46039f\"],[0.2222222222222222,\"#7201a8\"],[0.3333333333333333,\"#9c179e\"],[0.4444444444444444,\"#bd3786\"],[0.5555555555555556,\"#d8576b\"],[0.6666666666666666,\"#ed7953\"],[0.7777777777777778,\"#fb9f3a\"],[0.8888888888888888,\"#fdca26\"],[1.0,\"#f0f921\"]],\"type\":\"heatmap\"}],\"histogram2dcontour\":[{\"colorbar\":{\"outlinewidth\":0,\"ticks\":\"\"},\"colorscale\":[[0.0,\"#0d0887\"],[0.1111111111111111,\"#46039f\"],[0.2222222222222222,\"#7201a8\"],[0.3333333333333333,\"#9c179e\"],[0.4444444444444444,\"#bd3786\"],[0.5555555555555556,\"#d8576b\"],[0.6666666666666666,\"#ed7953\"],[0.7777777777777778,\"#fb9f3a\"],[0.8888888888888888,\"#fdca26\"],[1.0,\"#f0f921\"]],\"type\":\"histogram2dcontour\"}],\"histogram2d\":[{\"colorbar\":{\"outlinewidth\":0,\"ticks\":\"\"},\"colorscale\":[[0.0,\"#0d0887\"],[0.1111111111111111,\"#46039f\"],[0.2222222222222222,\"#7201a8\"],[0.3333333333333333,\"#9c179e\"],[0.4444444444444444,\"#bd3786\"],[0.5555555555555556,\"#d8576b\"],[0.6666666666666666,\"#ed7953\"],[0.7777777777777778,\"#fb9f3a\"],[0.8888888888888888,\"#fdca26\"],[1.0,\"#f0f921\"]],\"type\":\"histogram2d\"}],\"histogram\":[{\"marker\":{\"pattern\":{\"fillmode\":\"overlay\",\"size\":10,\"solidity\":0.2}},\"type\":\"histogram\"}],\"mesh3d\":[{\"colorbar\":{\"outlinewidth\":0,\"ticks\":\"\"},\"type\":\"mesh3d\"}],\"parcoords\":[{\"line\":{\"colorbar\":{\"outlinewidth\":0,\"ticks\":\"\"}},\"type\":\"parcoords\"}],\"pie\":[{\"automargin\":true,\"type\":\"pie\"}],\"scatter3d\":[{\"line\":{\"colorbar\":{\"outlinewidth\":0,\"ticks\":\"\"}},\"marker\":{\"colorbar\":{\"outlinewidth\":0,\"ticks\":\"\"}},\"type\":\"scatter3d\"}],\"scattercarpet\":[{\"marker\":{\"colorbar\":{\"outlinewidth\":0,\"ticks\":\"\"}},\"type\":\"scattercarpet\"}],\"scattergeo\":[{\"marker\":{\"colorbar\":{\"outlinewidth\":0,\"ticks\":\"\"}},\"type\":\"scattergeo\"}],\"scattergl\":[{\"marker\":{\"colorbar\":{\"outlinewidth\":0,\"ticks\":\"\"}},\"type\":\"scattergl\"}],\"scattermapbox\":[{\"marker\":{\"colorbar\":{\"outlinewidth\":0,\"ticks\":\"\"}},\"type\":\"scattermapbox\"}],\"scatterpolargl\":[{\"marker\":{\"colorbar\":{\"outlinewidth\":0,\"ticks\":\"\"}},\"type\":\"scatterpolargl\"}],\"scatterpolar\":[{\"marker\":{\"colorbar\":{\"outlinewidth\":0,\"ticks\":\"\"}},\"type\":\"scatterpolar\"}],\"scatter\":[{\"fillpattern\":{\"fillmode\":\"overlay\",\"size\":10,\"solidity\":0.2},\"type\":\"scatter\"}],\"scatterternary\":[{\"marker\":{\"colorbar\":{\"outlinewidth\":0,\"ticks\":\"\"}},\"type\":\"scatterternary\"}],\"surface\":[{\"colorbar\":{\"outlinewidth\":0,\"ticks\":\"\"},\"colorscale\":[[0.0,\"#0d0887\"],[0.1111111111111111,\"#46039f\"],[0.2222222222222222,\"#7201a8\"],[0.3333333333333333,\"#9c179e\"],[0.4444444444444444,\"#bd3786\"],[0.5555555555555556,\"#d8576b\"],[0.6666666666666666,\"#ed7953\"],[0.7777777777777778,\"#fb9f3a\"],[0.8888888888888888,\"#fdca26\"],[1.0,\"#f0f921\"]],\"type\":\"surface\"}],\"table\":[{\"cells\":{\"fill\":{\"color\":\"#EBF0F8\"},\"line\":{\"color\":\"white\"}},\"header\":{\"fill\":{\"color\":\"#C8D4E3\"},\"line\":{\"color\":\"white\"}},\"type\":\"table\"}]},\"layout\":{\"annotationdefaults\":{\"arrowcolor\":\"#2a3f5f\",\"arrowhead\":0,\"arrowwidth\":1},\"autotypenumbers\":\"strict\",\"coloraxis\":{\"colorbar\":{\"outlinewidth\":0,\"ticks\":\"\"}},\"colorscale\":{\"diverging\":[[0,\"#8e0152\"],[0.1,\"#c51b7d\"],[0.2,\"#de77ae\"],[0.3,\"#f1b6da\"],[0.4,\"#fde0ef\"],[0.5,\"#f7f7f7\"],[0.6,\"#e6f5d0\"],[0.7,\"#b8e186\"],[0.8,\"#7fbc41\"],[0.9,\"#4d9221\"],[1,\"#276419\"]],\"sequential\":[[0.0,\"#0d0887\"],[0.1111111111111111,\"#46039f\"],[0.2222222222222222,\"#7201a8\"],[0.3333333333333333,\"#9c179e\"],[0.4444444444444444,\"#bd3786\"],[0.5555555555555556,\"#d8576b\"],[0.6666666666666666,\"#ed7953\"],[0.7777777777777778,\"#fb9f3a\"],[0.8888888888888888,\"#fdca26\"],[1.0,\"#f0f921\"]],\"sequentialminus\":[[0.0,\"#0d0887\"],[0.1111111111111111,\"#46039f\"],[0.2222222222222222,\"#7201a8\"],[0.3333333333333333,\"#9c179e\"],[0.4444444444444444,\"#bd3786\"],[0.5555555555555556,\"#d8576b\"],[0.6666666666666666,\"#ed7953\"],[0.7777777777777778,\"#fb9f3a\"],[0.8888888888888888,\"#fdca26\"],[1.0,\"#f0f921\"]]},\"colorway\":[\"#636efa\",\"#EF553B\",\"#00cc96\",\"#ab63fa\",\"#FFA15A\",\"#19d3f3\",\"#FF6692\",\"#B6E880\",\"#FF97FF\",\"#FECB52\"],\"font\":{\"color\":\"#2a3f5f\"},\"geo\":{\"bgcolor\":\"white\",\"lakecolor\":\"white\",\"landcolor\":\"#E5ECF6\",\"showlakes\":true,\"showland\":true,\"subunitcolor\":\"white\"},\"hoverlabel\":{\"align\":\"left\"},\"hovermode\":\"closest\",\"mapbox\":{\"style\":\"light\"},\"paper_bgcolor\":\"white\",\"plot_bgcolor\":\"#E5ECF6\",\"polar\":{\"angularaxis\":{\"gridcolor\":\"white\",\"linecolor\":\"white\",\"ticks\":\"\"},\"bgcolor\":\"#E5ECF6\",\"radialaxis\":{\"gridcolor\":\"white\",\"linecolor\":\"white\",\"ticks\":\"\"}},\"scene\":{\"xaxis\":{\"backgroundcolor\":\"#E5ECF6\",\"gridcolor\":\"white\",\"gridwidth\":2,\"linecolor\":\"white\",\"showbackground\":true,\"ticks\":\"\",\"zerolinecolor\":\"white\"},\"yaxis\":{\"backgroundcolor\":\"#E5ECF6\",\"gridcolor\":\"white\",\"gridwidth\":2,\"linecolor\":\"white\",\"showbackground\":true,\"ticks\":\"\",\"zerolinecolor\":\"white\"},\"zaxis\":{\"backgroundcolor\":\"#E5ECF6\",\"gridcolor\":\"white\",\"gridwidth\":2,\"linecolor\":\"white\",\"showbackground\":true,\"ticks\":\"\",\"zerolinecolor\":\"white\"}},\"shapedefaults\":{\"line\":{\"color\":\"#2a3f5f\"}},\"ternary\":{\"aaxis\":{\"gridcolor\":\"white\",\"linecolor\":\"white\",\"ticks\":\"\"},\"baxis\":{\"gridcolor\":\"white\",\"linecolor\":\"white\",\"ticks\":\"\"},\"bgcolor\":\"#E5ECF6\",\"caxis\":{\"gridcolor\":\"white\",\"linecolor\":\"white\",\"ticks\":\"\"}},\"title\":{\"x\":0.05},\"xaxis\":{\"automargin\":true,\"gridcolor\":\"white\",\"linecolor\":\"white\",\"ticks\":\"\",\"title\":{\"standoff\":15},\"zerolinecolor\":\"white\",\"zerolinewidth\":2},\"yaxis\":{\"automargin\":true,\"gridcolor\":\"white\",\"linecolor\":\"white\",\"ticks\":\"\",\"title\":{\"standoff\":15},\"zerolinecolor\":\"white\",\"zerolinewidth\":2}}},\"title\":{\"font\":{\"color\":\"#4D5663\"}},\"xaxis\":{\"anchor\":\"y\",\"domain\":[0.0,0.2125],\"gridcolor\":\"#E1E5ED\",\"showgrid\":false,\"tickfont\":{\"color\":\"#4D5663\"},\"title\":{\"font\":{\"color\":\"#4D5663\"},\"text\":\"\"},\"zerolinecolor\":\"#E1E5ED\"},\"yaxis\":{\"anchor\":\"x\",\"domain\":[0.8025,1.0],\"gridcolor\":\"#E1E5ED\",\"showgrid\":false,\"tickfont\":{\"color\":\"#4D5663\"},\"title\":{\"font\":{\"color\":\"#4D5663\"},\"text\":\"\"},\"zerolinecolor\":\"#E1E5ED\"},\"xaxis2\":{\"anchor\":\"y2\",\"domain\":[0.2625,0.475],\"gridcolor\":\"#E1E5ED\",\"showgrid\":false,\"tickfont\":{\"color\":\"#4D5663\"},\"title\":{\"font\":{\"color\":\"#4D5663\"},\"text\":\"\"},\"zerolinecolor\":\"#E1E5ED\"},\"yaxis2\":{\"anchor\":\"x2\",\"domain\":[0.8025,1.0],\"gridcolor\":\"#E1E5ED\",\"showgrid\":false,\"tickfont\":{\"color\":\"#4D5663\"},\"title\":{\"font\":{\"color\":\"#4D5663\"},\"text\":\"\"},\"zerolinecolor\":\"#E1E5ED\"},\"xaxis3\":{\"anchor\":\"y3\",\"domain\":[0.525,0.7375],\"gridcolor\":\"#E1E5ED\",\"showgrid\":false,\"tickfont\":{\"color\":\"#4D5663\"},\"title\":{\"font\":{\"color\":\"#4D5663\"},\"text\":\"\"},\"zerolinecolor\":\"#E1E5ED\"},\"yaxis3\":{\"anchor\":\"x3\",\"domain\":[0.8025,1.0],\"gridcolor\":\"#E1E5ED\",\"showgrid\":false,\"tickfont\":{\"color\":\"#4D5663\"},\"title\":{\"font\":{\"color\":\"#4D5663\"},\"text\":\"\"},\"zerolinecolor\":\"#E1E5ED\"},\"xaxis4\":{\"anchor\":\"y4\",\"domain\":[0.7875,1.0],\"gridcolor\":\"#E1E5ED\",\"showgrid\":false,\"tickfont\":{\"color\":\"#4D5663\"},\"title\":{\"font\":{\"color\":\"#4D5663\"},\"text\":\"\"},\"zerolinecolor\":\"#E1E5ED\"},\"yaxis4\":{\"anchor\":\"x4\",\"domain\":[0.8025,1.0],\"gridcolor\":\"#E1E5ED\",\"showgrid\":false,\"tickfont\":{\"color\":\"#4D5663\"},\"title\":{\"font\":{\"color\":\"#4D5663\"},\"text\":\"\"},\"zerolinecolor\":\"#E1E5ED\"},\"xaxis5\":{\"anchor\":\"y5\",\"domain\":[0.0,0.2125],\"gridcolor\":\"#E1E5ED\",\"showgrid\":false,\"tickfont\":{\"color\":\"#4D5663\"},\"title\":{\"font\":{\"color\":\"#4D5663\"},\"text\":\"\"},\"zerolinecolor\":\"#E1E5ED\"},\"yaxis5\":{\"anchor\":\"x5\",\"domain\":[0.535,0.7325],\"gridcolor\":\"#E1E5ED\",\"showgrid\":false,\"tickfont\":{\"color\":\"#4D5663\"},\"title\":{\"font\":{\"color\":\"#4D5663\"},\"text\":\"\"},\"zerolinecolor\":\"#E1E5ED\"},\"xaxis6\":{\"anchor\":\"y6\",\"domain\":[0.2625,0.475],\"gridcolor\":\"#E1E5ED\",\"showgrid\":false,\"tickfont\":{\"color\":\"#4D5663\"},\"title\":{\"font\":{\"color\":\"#4D5663\"},\"text\":\"\"},\"zerolinecolor\":\"#E1E5ED\"},\"yaxis6\":{\"anchor\":\"x6\",\"domain\":[0.535,0.7325],\"gridcolor\":\"#E1E5ED\",\"showgrid\":false,\"tickfont\":{\"color\":\"#4D5663\"},\"title\":{\"font\":{\"color\":\"#4D5663\"},\"text\":\"\"},\"zerolinecolor\":\"#E1E5ED\"},\"xaxis7\":{\"anchor\":\"y7\",\"domain\":[0.525,0.7375],\"gridcolor\":\"#E1E5ED\",\"showgrid\":false,\"tickfont\":{\"color\":\"#4D5663\"},\"title\":{\"font\":{\"color\":\"#4D5663\"},\"text\":\"\"},\"zerolinecolor\":\"#E1E5ED\"},\"yaxis7\":{\"anchor\":\"x7\",\"domain\":[0.535,0.7325],\"gridcolor\":\"#E1E5ED\",\"showgrid\":false,\"tickfont\":{\"color\":\"#4D5663\"},\"title\":{\"font\":{\"color\":\"#4D5663\"},\"text\":\"\"},\"zerolinecolor\":\"#E1E5ED\"},\"xaxis8\":{\"anchor\":\"y8\",\"domain\":[0.7875,1.0],\"gridcolor\":\"#E1E5ED\",\"showgrid\":false,\"tickfont\":{\"color\":\"#4D5663\"},\"title\":{\"font\":{\"color\":\"#4D5663\"},\"text\":\"\"},\"zerolinecolor\":\"#E1E5ED\"},\"yaxis8\":{\"anchor\":\"x8\",\"domain\":[0.535,0.7325],\"gridcolor\":\"#E1E5ED\",\"showgrid\":false,\"tickfont\":{\"color\":\"#4D5663\"},\"title\":{\"font\":{\"color\":\"#4D5663\"},\"text\":\"\"},\"zerolinecolor\":\"#E1E5ED\"},\"xaxis9\":{\"anchor\":\"y9\",\"domain\":[0.0,0.2125],\"gridcolor\":\"#E1E5ED\",\"showgrid\":false,\"tickfont\":{\"color\":\"#4D5663\"},\"title\":{\"font\":{\"color\":\"#4D5663\"},\"text\":\"\"},\"zerolinecolor\":\"#E1E5ED\"},\"yaxis9\":{\"anchor\":\"x9\",\"domain\":[0.2675,0.465],\"gridcolor\":\"#E1E5ED\",\"showgrid\":false,\"tickfont\":{\"color\":\"#4D5663\"},\"title\":{\"font\":{\"color\":\"#4D5663\"},\"text\":\"\"},\"zerolinecolor\":\"#E1E5ED\"},\"xaxis10\":{\"anchor\":\"y10\",\"domain\":[0.2625,0.475],\"gridcolor\":\"#E1E5ED\",\"showgrid\":false,\"tickfont\":{\"color\":\"#4D5663\"},\"title\":{\"font\":{\"color\":\"#4D5663\"},\"text\":\"\"},\"zerolinecolor\":\"#E1E5ED\"},\"yaxis10\":{\"anchor\":\"x10\",\"domain\":[0.2675,0.465],\"gridcolor\":\"#E1E5ED\",\"showgrid\":false,\"tickfont\":{\"color\":\"#4D5663\"},\"title\":{\"font\":{\"color\":\"#4D5663\"},\"text\":\"\"},\"zerolinecolor\":\"#E1E5ED\"},\"xaxis11\":{\"anchor\":\"y11\",\"domain\":[0.525,0.7375],\"gridcolor\":\"#E1E5ED\",\"showgrid\":false,\"tickfont\":{\"color\":\"#4D5663\"},\"title\":{\"font\":{\"color\":\"#4D5663\"},\"text\":\"\"},\"zerolinecolor\":\"#E1E5ED\"},\"yaxis11\":{\"anchor\":\"x11\",\"domain\":[0.2675,0.465],\"gridcolor\":\"#E1E5ED\",\"showgrid\":false,\"tickfont\":{\"color\":\"#4D5663\"},\"title\":{\"font\":{\"color\":\"#4D5663\"},\"text\":\"\"},\"zerolinecolor\":\"#E1E5ED\"},\"xaxis12\":{\"anchor\":\"y12\",\"domain\":[0.7875,1.0],\"gridcolor\":\"#E1E5ED\",\"showgrid\":false,\"tickfont\":{\"color\":\"#4D5663\"},\"title\":{\"font\":{\"color\":\"#4D5663\"},\"text\":\"\"},\"zerolinecolor\":\"#E1E5ED\"},\"yaxis12\":{\"anchor\":\"x12\",\"domain\":[0.2675,0.465],\"gridcolor\":\"#E1E5ED\",\"showgrid\":false,\"tickfont\":{\"color\":\"#4D5663\"},\"title\":{\"font\":{\"color\":\"#4D5663\"},\"text\":\"\"},\"zerolinecolor\":\"#E1E5ED\"},\"xaxis13\":{\"anchor\":\"y13\",\"domain\":[0.0,0.2125],\"gridcolor\":\"#E1E5ED\",\"showgrid\":false,\"tickfont\":{\"color\":\"#4D5663\"},\"title\":{\"font\":{\"color\":\"#4D5663\"},\"text\":\"\"},\"zerolinecolor\":\"#E1E5ED\"},\"yaxis13\":{\"anchor\":\"x13\",\"domain\":[0.0,0.1975],\"gridcolor\":\"#E1E5ED\",\"showgrid\":false,\"tickfont\":{\"color\":\"#4D5663\"},\"title\":{\"font\":{\"color\":\"#4D5663\"},\"text\":\"\"},\"zerolinecolor\":\"#E1E5ED\"},\"xaxis14\":{\"anchor\":\"y14\",\"domain\":[0.2625,0.475],\"gridcolor\":\"#E1E5ED\",\"showgrid\":false,\"tickfont\":{\"color\":\"#4D5663\"},\"title\":{\"font\":{\"color\":\"#4D5663\"},\"text\":\"\"},\"zerolinecolor\":\"#E1E5ED\"},\"yaxis14\":{\"anchor\":\"x14\",\"domain\":[0.0,0.1975],\"gridcolor\":\"#E1E5ED\",\"showgrid\":false,\"tickfont\":{\"color\":\"#4D5663\"},\"title\":{\"font\":{\"color\":\"#4D5663\"},\"text\":\"\"},\"zerolinecolor\":\"#E1E5ED\"},\"xaxis15\":{\"anchor\":\"y15\",\"domain\":[0.525,0.7375],\"gridcolor\":\"#E1E5ED\",\"showgrid\":false,\"tickfont\":{\"color\":\"#4D5663\"},\"title\":{\"font\":{\"color\":\"#4D5663\"},\"text\":\"\"},\"zerolinecolor\":\"#E1E5ED\"},\"yaxis15\":{\"anchor\":\"x15\",\"domain\":[0.0,0.1975],\"gridcolor\":\"#E1E5ED\",\"showgrid\":false,\"tickfont\":{\"color\":\"#4D5663\"},\"title\":{\"font\":{\"color\":\"#4D5663\"},\"text\":\"\"},\"zerolinecolor\":\"#E1E5ED\"},\"xaxis16\":{\"anchor\":\"y16\",\"domain\":[0.7875,1.0],\"gridcolor\":\"#E1E5ED\",\"showgrid\":false,\"tickfont\":{\"color\":\"#4D5663\"},\"title\":{\"font\":{\"color\":\"#4D5663\"},\"text\":\"\"},\"zerolinecolor\":\"#E1E5ED\"},\"yaxis16\":{\"anchor\":\"x16\",\"domain\":[0.0,0.1975],\"gridcolor\":\"#E1E5ED\",\"showgrid\":false,\"tickfont\":{\"color\":\"#4D5663\"},\"title\":{\"font\":{\"color\":\"#4D5663\"},\"text\":\"\"},\"zerolinecolor\":\"#E1E5ED\"}},                        {\"showLink\": true, \"linkText\": \"Export to plot.ly\", \"plotlyServerURL\": \"https://plot.ly\", \"responsive\": true}                    ).then(function(){\n",
       "                            \n",
       "var gd = document.getElementById('b1ad4d9b-ca68-4212-a643-a0730087af07');\n",
       "var x = new MutationObserver(function (mutations, observer) {{\n",
       "        var display = window.getComputedStyle(gd).display;\n",
       "        if (!display || display === 'none') {{\n",
       "            console.log([gd, 'removed!']);\n",
       "            Plotly.purge(gd);\n",
       "            observer.disconnect();\n",
       "        }}\n",
       "}});\n",
       "\n",
       "// Listen for the removal of the full notebook cells\n",
       "var notebookContainer = gd.closest('#notebook-container');\n",
       "if (notebookContainer) {{\n",
       "    x.observe(notebookContainer, {childList: true});\n",
       "}}\n",
       "\n",
       "// Listen for the clearing of the current output cell\n",
       "var outputEl = gd.closest('.output');\n",
       "if (outputEl) {{\n",
       "    x.observe(outputEl, {childList: true});\n",
       "}}\n",
       "\n",
       "                        })                };                });            </script>        </div>"
      ]
     },
     "metadata": {},
     "output_type": "display_data"
    }
   ],
   "source": [
    "# Scatter Matrix -> Similar to seaborn Pairplot\n",
    "df.scatter_matrix()"
   ]
  },
  {
   "cell_type": "code",
   "execution_count": null,
   "metadata": {},
   "outputs": [],
   "source": []
  }
 ],
 "metadata": {
  "kernelspec": {
   "display_name": "base",
   "language": "python",
   "name": "python3"
  },
  "language_info": {
   "codemirror_mode": {
    "name": "ipython",
    "version": 3
   },
   "file_extension": ".py",
   "mimetype": "text/x-python",
   "name": "python",
   "nbconvert_exporter": "python",
   "pygments_lexer": "ipython3",
   "version": "3.11.5"
  }
 },
 "nbformat": 4,
 "nbformat_minor": 2
}
