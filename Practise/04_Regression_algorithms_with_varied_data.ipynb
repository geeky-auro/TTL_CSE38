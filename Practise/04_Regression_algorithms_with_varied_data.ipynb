{
 "cells": [
  {
   "cell_type": "code",
   "execution_count": 1,
   "id": "b1d6fad9",
   "metadata": {},
   "outputs": [],
   "source": [
    "import numpy as np\n",
    "import pandas as pd\n",
    "import matplotlib.pyplot as plt\n",
    "from sklearn.model_selection import train_test_split\n",
    "from sklearn.linear_model import LinearRegression, LogisticRegression\n",
    "from sklearn.preprocessing import PolynomialFeatures\n",
    "from sklearn.metrics import mean_squared_error, accuracy_score"
   ]
  },
  {
   "cell_type": "code",
   "execution_count": 2,
   "id": "5dfeba79",
   "metadata": {},
   "outputs": [
    {
     "name": "stdout",
     "output_type": "stream",
     "text": [
      "Linear Regression MSE: 6.8476586653550715\n"
     ]
    }
   ],
   "source": [
    "# Linear Regression Data\n",
    "X_linear = np.random.rand(100, 1) * 10  # 100 samples, single feature\n",
    "y_linear = 2.5 * X_linear + np.random.randn(100, 1) * 2  # Linear relationship with noise\n",
    "X_train_linear, X_test_linear, y_train_linear, y_test_linear = train_test_split(X_linear, y_linear, test_size=0.2, random_state=42)\n",
    "linear_model = LinearRegression()\n",
    "linear_model.fit(X_train_linear, y_train_linear)\n",
    "# Predict and evaluate\n",
    "y_pred_linear = linear_model.predict(X_test_linear)\n",
    "print(\"Linear Regression MSE:\", mean_squared_error(y_test_linear, y_pred_linear))"
   ]
  },
  {
   "cell_type": "code",
   "execution_count": 4,
   "id": "3bb309bb",
   "metadata": {},
   "outputs": [
    {
     "name": "stdout",
     "output_type": "stream",
     "text": [
      "Multiple Linear Regression MSE: 2.3959486337015403\n"
     ]
    }
   ],
   "source": [
    "\n",
    "# Multiple Linear Regression Data\n",
    "X_multiple = np.random.rand(100, 3) * 10  # 100 samples, three features\n",
    "y_multiple = 2.5 * X_multiple[:, 0] + -1.5 * X_multiple[:, 1] + 0.5 * X_multiple[:, 2] + np.random.randn(100) * 2\n",
    "\n",
    "# Split Dat\n",
    "X_train_multiple, X_test_multiple, y_train_multiple, y_test_multiple = train_test_split(X_multiple, y_multiple, test_size=0.2, random_state=42)\n",
    "\n",
    "# Initialize and train model\n",
    "multiple_linear_model = LinearRegression()\n",
    "multiple_linear_model.fit(X_train_multiple, y_train_multiple)\n",
    "\n",
    "# Predict and evaluate\n",
    "y_pred_multiple = multiple_linear_model.predict(X_test_multiple)\n",
    "print(\"Multiple Linear Regression MSE:\", mean_squared_error(y_test_multiple, y_pred_multiple))"
   ]
  },
  {
   "cell_type": "code",
   "execution_count": 7,
   "id": "8fb26800",
   "metadata": {},
   "outputs": [
    {
     "name": "stdout",
     "output_type": "stream",
     "text": [
      "Logistic Regression Accuracy Score: 0.95\n"
     ]
    }
   ],
   "source": [
    "# Logistic Regression Data\n",
    "X_logistic = np.random.rand(100, 2) * 10\n",
    "y_logistic = (2 * X_logistic[:, 0] - 1 * X_logistic[:, 1] + np.random.randn(100) * 0.5 > 10).astype(int)\n",
    "\n",
    "# Split data\n",
    "X_train_logistic, X_test_logistic, y_train_logistic, y_test_logistic = train_test_split(X_logistic, y_logistic, test_size=0.2, random_state=42)\n",
    "# Initialize and train logistic regression model\n",
    "logistic_model = LogisticRegression()\n",
    "logistic_model.fit(X_train_logistic, y_train_logistic)\n",
    "# Predict and evaluate\n",
    "y_pred_logistic = logistic_model.predict(X_test_logistic)\n",
    "print(\"Logistic Regression Accuracy Score:\", accuracy_score(y_test_logistic, y_pred_logistic))\n"
   ]
  },
  {
   "cell_type": "code",
   "execution_count": 8,
   "id": "18e71c3c",
   "metadata": {},
   "outputs": [
    {
     "name": "stdout",
     "output_type": "stream",
     "text": [
      "Polynomial Regression MSE: 6.930924041535938\n"
     ]
    }
   ],
   "source": [
    "# Generate polynomial features\n",
    "poly_features = PolynomialFeatures(degree=2)\n",
    "X_poly = poly_features.fit_transform(X_linear)\n",
    " \n",
    "# Split data\n",
    "X_train_poly, X_test_poly, y_train_poly, y_test_poly = train_test_split(X_poly, y_linear, test_size=0.2, random_state=42)\n",
    " \n",
    "# Initialize and train model\n",
    "poly_model = LinearRegression()\n",
    "poly_model.fit(X_train_poly, y_train_poly)\n",
    " \n",
    "# Predict and evaluate\n",
    "y_pred_poly = poly_model.predict(X_test_poly)\n",
    "print(\"Polynomial Regression MSE:\", mean_squared_error(y_test_poly, y_pred_poly))"
   ]
  },
  {
   "cell_type": "code",
   "execution_count": null,
   "id": "5856c59a",
   "metadata": {},
   "outputs": [],
   "source": []
  }
 ],
 "metadata": {
  "kernelspec": {
   "display_name": "Python 3 (ipykernel)",
   "language": "python",
   "name": "python3"
  },
  "language_info": {
   "codemirror_mode": {
    "name": "ipython",
    "version": 3
   },
   "file_extension": ".py",
   "mimetype": "text/x-python",
   "name": "python",
   "nbconvert_exporter": "python",
   "pygments_lexer": "ipython3",
   "version": "3.11.5"
  }
 },
 "nbformat": 4,
 "nbformat_minor": 5
}
