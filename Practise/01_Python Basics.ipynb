{
 "cells": [
  {
   "cell_type": "code",
   "execution_count": 38,
   "id": "1b0fa178",
   "metadata": {},
   "outputs": [],
   "source": [
    "num=13\n",
    "name=\"AURO\""
   ]
  },
  {
   "cell_type": "code",
   "execution_count": 39,
   "id": "7dd459f5",
   "metadata": {
    "scrolled": true
   },
   "outputs": [
    {
     "name": "stdout",
     "output_type": "stream",
     "text": [
      "My name is AURO and my favourite Number is 13\n"
     ]
    }
   ],
   "source": [
    "print(\"My name is {} and my favourite Number is {}\".format(name,num))"
   ]
  },
  {
   "cell_type": "code",
   "execution_count": 40,
   "id": "787677f0",
   "metadata": {},
   "outputs": [
    {
     "name": "stdout",
     "output_type": "stream",
     "text": [
      "My name is AURO and my favourite Number is 13\n"
     ]
    }
   ],
   "source": [
    "print(\"My name is {one} and my favourite Number is {two}\".format(one=name,two=num))"
   ]
  },
  {
   "cell_type": "code",
   "execution_count": 41,
   "id": "348f12b4",
   "metadata": {},
   "outputs": [
    {
     "data": {
      "text/plain": [
       "'h'"
      ]
     },
     "execution_count": 41,
     "metadata": {},
     "output_type": "execute_result"
    }
   ],
   "source": [
    "s= \"hello\"\n",
    "s[0]"
   ]
  },
  {
   "cell_type": "code",
   "execution_count": 42,
   "id": "c26e51af",
   "metadata": {},
   "outputs": [
    {
     "data": {
      "text/plain": [
       "'hello'"
      ]
     },
     "execution_count": 42,
     "metadata": {},
     "output_type": "execute_result"
    }
   ],
   "source": [
    "s[:] "
   ]
  },
  {
   "cell_type": "code",
   "execution_count": 43,
   "id": "228da69d",
   "metadata": {},
   "outputs": [
    {
     "data": {
      "text/plain": [
       "''"
      ]
     },
     "execution_count": 43,
     "metadata": {},
     "output_type": "execute_result"
    }
   ],
   "source": [
    "s[:0]"
   ]
  },
  {
   "cell_type": "code",
   "execution_count": 44,
   "id": "8683264a",
   "metadata": {},
   "outputs": [
    {
     "data": {
      "text/plain": [
       "'h'"
      ]
     },
     "execution_count": 44,
     "metadata": {},
     "output_type": "execute_result"
    }
   ],
   "source": [
    "s[:1]"
   ]
  },
  {
   "cell_type": "code",
   "execution_count": 45,
   "id": "0d233502",
   "metadata": {},
   "outputs": [
    {
     "data": {
      "text/plain": [
       "'hell'"
      ]
     },
     "execution_count": 45,
     "metadata": {},
     "output_type": "execute_result"
    }
   ],
   "source": [
    "s[:-1]"
   ]
  },
  {
   "cell_type": "code",
   "execution_count": 46,
   "id": "69e8d33e",
   "metadata": {},
   "outputs": [
    {
     "data": {
      "text/plain": [
       "'o'"
      ]
     },
     "execution_count": 46,
     "metadata": {},
     "output_type": "execute_result"
    }
   ],
   "source": [
    "s[-1]"
   ]
  },
  {
   "cell_type": "code",
   "execution_count": 47,
   "id": "2cdb93e3",
   "metadata": {},
   "outputs": [
    {
     "data": {
      "text/plain": [
       "'hello'"
      ]
     },
     "execution_count": 47,
     "metadata": {},
     "output_type": "execute_result"
    }
   ],
   "source": [
    "s[0:]"
   ]
  },
  {
   "cell_type": "code",
   "execution_count": 48,
   "id": "2bb21cf8",
   "metadata": {},
   "outputs": [
    {
     "name": "stdout",
     "output_type": "stream",
     "text": [
      "hello\n",
      "hello\n"
     ]
    }
   ],
   "source": [
    "print(s[0:])\n",
    "print(s[:])"
   ]
  },
  {
   "cell_type": "code",
   "execution_count": 49,
   "id": "055210d9",
   "metadata": {},
   "outputs": [
    {
     "name": "stdout",
     "output_type": "stream",
     "text": [
      "hell\n",
      "h\n"
     ]
    }
   ],
   "source": [
    "print(s[:-1])\n",
    "print(s[:1])"
   ]
  },
  {
   "cell_type": "code",
   "execution_count": 50,
   "id": "a6a6e5e6",
   "metadata": {},
   "outputs": [
    {
     "name": "stdout",
     "output_type": "stream",
     "text": [
      "hlo\n"
     ]
    }
   ],
   "source": [
    "# [start:stop:step]\n",
    "print(s[0::2])"
   ]
  },
  {
   "cell_type": "code",
   "execution_count": 51,
   "id": "d5dab476",
   "metadata": {},
   "outputs": [
    {
     "data": {
      "text/plain": [
       "[1, 2, 3]"
      ]
     },
     "execution_count": 51,
     "metadata": {},
     "output_type": "execute_result"
    }
   ],
   "source": [
    "[1,2,3]"
   ]
  },
  {
   "cell_type": "code",
   "execution_count": 52,
   "id": "c9ea5879",
   "metadata": {},
   "outputs": [],
   "source": [
    "my_list=['a','b','c']\n",
    "my_list.append('d')"
   ]
  },
  {
   "cell_type": "code",
   "execution_count": 53,
   "id": "e901bb43",
   "metadata": {},
   "outputs": [
    {
     "data": {
      "text/plain": [
       "['a', 'b', 'c', 'd']"
      ]
     },
     "execution_count": 53,
     "metadata": {},
     "output_type": "execute_result"
    }
   ],
   "source": [
    "my_list"
   ]
  },
  {
   "cell_type": "code",
   "execution_count": 54,
   "id": "86427ab1",
   "metadata": {},
   "outputs": [
    {
     "data": {
      "text/plain": [
       "['b', 'c']"
      ]
     },
     "execution_count": 54,
     "metadata": {},
     "output_type": "execute_result"
    }
   ],
   "source": [
    "my_list[1:3]"
   ]
  },
  {
   "cell_type": "code",
   "execution_count": 55,
   "id": "01517fe7",
   "metadata": {},
   "outputs": [
    {
     "data": {
      "text/plain": [
       "'hello'"
      ]
     },
     "execution_count": 55,
     "metadata": {},
     "output_type": "execute_result"
    }
   ],
   "source": [
    "s"
   ]
  },
  {
   "cell_type": "code",
   "execution_count": 56,
   "id": "fa39f186",
   "metadata": {},
   "outputs": [
    {
     "data": {
      "text/plain": [
       "'e'"
      ]
     },
     "execution_count": 56,
     "metadata": {},
     "output_type": "execute_result"
    }
   ],
   "source": [
    "s[1:2]"
   ]
  },
  {
   "cell_type": "code",
   "execution_count": 57,
   "id": "02b89770",
   "metadata": {},
   "outputs": [
    {
     "data": {
      "text/plain": [
       "'el'"
      ]
     },
     "execution_count": 57,
     "metadata": {},
     "output_type": "execute_result"
    }
   ],
   "source": [
    "s[1:3]"
   ]
  },
  {
   "cell_type": "code",
   "execution_count": 58,
   "id": "3ba3d5ad",
   "metadata": {},
   "outputs": [],
   "source": [
    "my_list[0]=\"NEW\""
   ]
  },
  {
   "cell_type": "code",
   "execution_count": 59,
   "id": "64942104",
   "metadata": {},
   "outputs": [
    {
     "data": {
      "text/plain": [
       "['NEW', 'b', 'c', 'd']"
      ]
     },
     "execution_count": 59,
     "metadata": {},
     "output_type": "execute_result"
    }
   ],
   "source": [
    "my_list"
   ]
  },
  {
   "cell_type": "code",
   "execution_count": 60,
   "id": "3d5af404",
   "metadata": {},
   "outputs": [],
   "source": [
    "nest=[1,2,[3,4]]"
   ]
  },
  {
   "cell_type": "code",
   "execution_count": 61,
   "id": "ccb8c870",
   "metadata": {},
   "outputs": [
    {
     "data": {
      "text/plain": [
       "[1, 2, [3, 4]]"
      ]
     },
     "execution_count": 61,
     "metadata": {},
     "output_type": "execute_result"
    }
   ],
   "source": [
    "nest"
   ]
  },
  {
   "cell_type": "code",
   "execution_count": 62,
   "id": "89e3f699",
   "metadata": {},
   "outputs": [
    {
     "data": {
      "text/plain": [
       "'String'"
      ]
     },
     "execution_count": 62,
     "metadata": {},
     "output_type": "execute_result"
    }
   ],
   "source": [
    "nest=[1,2,3,[4,5,[\"String\"]]]\n",
    "nest[3][2][0]"
   ]
  },
  {
   "cell_type": "code",
   "execution_count": 63,
   "id": "942681e5",
   "metadata": {},
   "outputs": [],
   "source": [
    "# Dictionary -> Behave like a key value pair jus like a hash table ;)\n",
    "d={'key':'value','key2':123}"
   ]
  },
  {
   "cell_type": "code",
   "execution_count": 64,
   "id": "bec0a2cd",
   "metadata": {},
   "outputs": [
    {
     "data": {
      "text/plain": [
       "'value'"
      ]
     },
     "execution_count": 64,
     "metadata": {},
     "output_type": "execute_result"
    }
   ],
   "source": [
    "d['key']"
   ]
  },
  {
   "cell_type": "code",
   "execution_count": 65,
   "id": "1154eb83",
   "metadata": {},
   "outputs": [],
   "source": [
    "d['two']=2"
   ]
  },
  {
   "cell_type": "code",
   "execution_count": 66,
   "id": "01f634cb",
   "metadata": {},
   "outputs": [
    {
     "data": {
      "text/plain": [
       "{'key': 'value', 'key2': 123, 'two': 2}"
      ]
     },
     "execution_count": 66,
     "metadata": {},
     "output_type": "execute_result"
    }
   ],
   "source": [
    "d"
   ]
  },
  {
   "cell_type": "code",
   "execution_count": 67,
   "id": "c62296ab",
   "metadata": {},
   "outputs": [
    {
     "name": "stdout",
     "output_type": "stream",
     "text": [
      "('apple', 'banana', 'cherry')\n"
     ]
    }
   ],
   "source": [
    "# Tuples are used to store multiple items in a single variable.\n",
    "thistuple = (\"apple\", \"banana\", \"cherry\")\n",
    "print(thistuple)"
   ]
  },
  {
   "cell_type": "code",
   "execution_count": 68,
   "id": "b346db04",
   "metadata": {},
   "outputs": [
    {
     "ename": "TypeError",
     "evalue": "'tuple' object does not support item assignment",
     "output_type": "error",
     "traceback": [
      "\u001b[1;31m---------------------------------------------------------------------------\u001b[0m",
      "\u001b[1;31mTypeError\u001b[0m                                 Traceback (most recent call last)",
      "Cell \u001b[1;32mIn[68], line 1\u001b[0m\n\u001b[1;32m----> 1\u001b[0m thistuple[\u001b[38;5;241m0\u001b[39m]\u001b[38;5;241m=\u001b[39m\u001b[38;5;124m\"\u001b[39m\u001b[38;5;124mBANANA\u001b[39m\u001b[38;5;124m\"\u001b[39m\n",
      "\u001b[1;31mTypeError\u001b[0m: 'tuple' object does not support item assignment"
     ]
    }
   ],
   "source": [
    "thistuple[0]=\"BANANA\"\n",
    "# So here the difference is tuple doesn't support item assignment \n",
    "# Tuple is immutabele and list is mutable"
   ]
  },
  {
   "cell_type": "code",
   "execution_count": 69,
   "id": "c929da1b",
   "metadata": {},
   "outputs": [
    {
     "data": {
      "text/plain": [
       "{1, 2, 3}"
      ]
     },
     "execution_count": 69,
     "metadata": {},
     "output_type": "execute_result"
    }
   ],
   "source": [
    "# Set is defined by unique elements l;)\n",
    "{1,2,3}"
   ]
  },
  {
   "cell_type": "code",
   "execution_count": 70,
   "id": "73cc5570",
   "metadata": {},
   "outputs": [
    {
     "data": {
      "text/plain": [
       "{1, 2, 3}"
      ]
     },
     "execution_count": 70,
     "metadata": {},
     "output_type": "execute_result"
    }
   ],
   "source": [
    "{1,1,1,2,2,2,2,3,3,3,}"
   ]
  },
  {
   "cell_type": "code",
   "execution_count": 71,
   "id": "27164a6d",
   "metadata": {},
   "outputs": [],
   "source": [
    "s1=set([1,1,1,2,2,2,2,3,3,3])"
   ]
  },
  {
   "cell_type": "code",
   "execution_count": 72,
   "id": "9233599a",
   "metadata": {},
   "outputs": [],
   "source": [
    "s1.add(5)"
   ]
  },
  {
   "cell_type": "code",
   "execution_count": 73,
   "id": "35e55119",
   "metadata": {},
   "outputs": [
    {
     "data": {
      "text/plain": [
       "{1, 2, 3, 5}"
      ]
     },
     "execution_count": 73,
     "metadata": {},
     "output_type": "execute_result"
    }
   ],
   "source": [
    "s1"
   ]
  },
  {
   "cell_type": "code",
   "execution_count": 74,
   "id": "61336de2",
   "metadata": {},
   "outputs": [
    {
     "name": "stdout",
     "output_type": "stream",
     "text": [
      "1\n",
      "2\n",
      "3\n",
      "4\n",
      "5\n"
     ]
    }
   ],
   "source": [
    "seq=[1,2,3,4,5]\n",
    "for num in seq:\n",
    "    print(num)"
   ]
  },
  {
   "cell_type": "code",
   "execution_count": 75,
   "id": "8399ffbe",
   "metadata": {},
   "outputs": [
    {
     "name": "stdout",
     "output_type": "stream",
     "text": [
      "i is 1\n",
      "i is 2\n",
      "i is 3\n",
      "i is 4\n"
     ]
    }
   ],
   "source": [
    "i =1\n",
    "while i<5:\n",
    "    print('i is {}'.format(i))\n",
    "    i=i+1"
   ]
  },
  {
   "cell_type": "code",
   "execution_count": 76,
   "id": "73bcc6ba",
   "metadata": {},
   "outputs": [
    {
     "name": "stdout",
     "output_type": "stream",
     "text": [
      "1\n",
      "2\n",
      "3\n",
      "4\n",
      "5\n"
     ]
    }
   ],
   "source": [
    "for x in seq:\n",
    "    print(x)"
   ]
  },
  {
   "cell_type": "code",
   "execution_count": 77,
   "id": "92c1bc94",
   "metadata": {},
   "outputs": [
    {
     "data": {
      "text/plain": [
       "range(0, 5)"
      ]
     },
     "execution_count": 77,
     "metadata": {},
     "output_type": "execute_result"
    }
   ],
   "source": [
    "range(0,5)"
   ]
  },
  {
   "cell_type": "code",
   "execution_count": 78,
   "id": "e9971847",
   "metadata": {},
   "outputs": [
    {
     "name": "stdout",
     "output_type": "stream",
     "text": [
      "0\n",
      "1\n",
      "2\n",
      "3\n",
      "4\n"
     ]
    }
   ],
   "source": [
    "for x in range(0,5):\n",
    "    print(x)"
   ]
  },
  {
   "cell_type": "code",
   "execution_count": 79,
   "id": "db111450",
   "metadata": {},
   "outputs": [
    {
     "data": {
      "text/plain": [
       "[0, 1, 2, 3, 4]"
      ]
     },
     "execution_count": 79,
     "metadata": {},
     "output_type": "execute_result"
    }
   ],
   "source": [
    "list(range(0,5))"
   ]
  },
  {
   "cell_type": "code",
   "execution_count": 80,
   "id": "91bcc0d3",
   "metadata": {},
   "outputs": [
    {
     "data": {
      "text/plain": [
       "[0, 1, 2, 3, 4, 5, 6, 7, 8, 9]"
      ]
     },
     "execution_count": 80,
     "metadata": {},
     "output_type": "execute_result"
    }
   ],
   "source": [
    "list(range(10))"
   ]
  },
  {
   "cell_type": "code",
   "execution_count": 81,
   "id": "f5a064d7",
   "metadata": {},
   "outputs": [],
   "source": [
    "inp=[1,2,3,4]\n",
    "out=[]\n",
    "for x in inp:\n",
    "    out.append(x**2)"
   ]
  },
  {
   "cell_type": "code",
   "execution_count": 82,
   "id": "1b18e815",
   "metadata": {},
   "outputs": [
    {
     "name": "stdout",
     "output_type": "stream",
     "text": [
      "[1, 4, 9, 16]\n"
     ]
    }
   ],
   "source": [
    "print(out)"
   ]
  },
  {
   "cell_type": "code",
   "execution_count": 83,
   "id": "332eee9d",
   "metadata": {},
   "outputs": [
    {
     "name": "stdout",
     "output_type": "stream",
     "text": [
      "[1, 2, 3, 4]\n"
     ]
    }
   ],
   "source": [
    "# List Comprehension\n",
    "output=[num for num in inp]\n",
    "print(output)"
   ]
  },
  {
   "cell_type": "code",
   "execution_count": 84,
   "id": "c32b0696",
   "metadata": {},
   "outputs": [],
   "source": [
    "def my_func(name=\"Your Default Name\"):\n",
    "    print(\"Hello \"+name)"
   ]
  },
  {
   "cell_type": "code",
   "execution_count": 85,
   "id": "0348bdd7",
   "metadata": {},
   "outputs": [
    {
     "name": "stdout",
     "output_type": "stream",
     "text": [
      "Hello Auro!\n"
     ]
    }
   ],
   "source": [
    "my_func(\"Auro!\")"
   ]
  },
  {
   "cell_type": "code",
   "execution_count": 86,
   "id": "1d1a739d",
   "metadata": {},
   "outputs": [
    {
     "name": "stdout",
     "output_type": "stream",
     "text": [
      "4\n"
     ]
    }
   ],
   "source": [
    "def square(num):\n",
    "    \"\"\"\n",
    "    Multi-line Comment in Python !\n",
    "    Can go multiple line this function squares a number \n",
    "    \"\"\"\n",
    "    return num**2\n",
    "\n",
    "print(square(2))"
   ]
  },
  {
   "cell_type": "code",
   "execution_count": 87,
   "id": "0cf71f78",
   "metadata": {},
   "outputs": [
    {
     "data": {
      "text/plain": [
       "<function __main__.square(num)>"
      ]
     },
     "execution_count": 87,
     "metadata": {},
     "output_type": "execute_result"
    }
   ],
   "source": [
    "square"
   ]
  },
  {
   "cell_type": "code",
   "execution_count": 88,
   "id": "aec48b8b",
   "metadata": {},
   "outputs": [
    {
     "data": {
      "text/plain": [
       "range"
      ]
     },
     "execution_count": 88,
     "metadata": {},
     "output_type": "execute_result"
    }
   ],
   "source": [
    "range # Enter shift + tab to get the definition of the funtion"
   ]
  },
  {
   "cell_type": "code",
   "execution_count": 89,
   "id": "8f29ec46",
   "metadata": {},
   "outputs": [],
   "source": [
    "def times2(var):\n",
    "    return var*2"
   ]
  },
  {
   "cell_type": "code",
   "execution_count": 90,
   "id": "09a64fa3",
   "metadata": {},
   "outputs": [
    {
     "data": {
      "text/plain": [
       "4"
      ]
     },
     "execution_count": 90,
     "metadata": {},
     "output_type": "execute_result"
    }
   ],
   "source": [
    "times2(2)"
   ]
  },
  {
   "cell_type": "code",
   "execution_count": 100,
   "id": "0f701d80",
   "metadata": {},
   "outputs": [],
   "source": [
    "seq=list(range(1,6))"
   ]
  },
  {
   "cell_type": "code",
   "execution_count": 92,
   "id": "58518be3",
   "metadata": {},
   "outputs": [
    {
     "data": {
      "text/plain": [
       "[1, 2, 3, 4, 5]"
      ]
     },
     "execution_count": 92,
     "metadata": {},
     "output_type": "execute_result"
    }
   ],
   "source": [
    "seq"
   ]
  },
  {
   "cell_type": "code",
   "execution_count": 93,
   "id": "17b3fff9",
   "metadata": {},
   "outputs": [
    {
     "data": {
      "text/plain": [
       "[2, 4, 6, 8, 10]"
      ]
     },
     "execution_count": 93,
     "metadata": {},
     "output_type": "execute_result"
    }
   ],
   "source": [
    "## Removing the overhead of writing funtions \n",
    "list(map(times2,seq))"
   ]
  },
  {
   "cell_type": "code",
   "execution_count": 94,
   "id": "31764c3a",
   "metadata": {},
   "outputs": [
    {
     "data": {
      "text/plain": [
       "[3, 6, 9, 12, 15]"
      ]
     },
     "execution_count": 94,
     "metadata": {},
     "output_type": "execute_result"
    }
   ],
   "source": [
    "# Using Lambda Function to remove the overhead of writing funtions\n",
    "# Lamda functions are meant to be written as a single line and clean code ;)\n",
    "list(map(lambda num:num*3,seq))"
   ]
  },
  {
   "cell_type": "code",
   "execution_count": 101,
   "id": "ab623227",
   "metadata": {},
   "outputs": [
    {
     "name": "stdout",
     "output_type": "stream",
     "text": [
      "[1, 2, 3, 4, 5, 6]\n"
     ]
    },
    {
     "data": {
      "text/plain": [
       "[2, 4, 6]"
      ]
     },
     "execution_count": 101,
     "metadata": {},
     "output_type": "execute_result"
    }
   ],
   "source": [
    "# filter needs to use a function or a lambda expression that returns a true or a false\n",
    "# It expects a list on which the defined function needs to operate on!\n",
    "seq.append(6)\n",
    "print(seq)\n",
    "list(filter(lambda num:num%2==0,seq))"
   ]
  },
  {
   "cell_type": "code",
   "execution_count": 102,
   "id": "6ce232f0",
   "metadata": {},
   "outputs": [],
   "source": [
    "s = 'hello my name is Auro'"
   ]
  },
  {
   "cell_type": "code",
   "execution_count": 104,
   "id": "e2c5a799",
   "metadata": {},
   "outputs": [
    {
     "data": {
      "text/plain": [
       "'hello my name is auro'"
      ]
     },
     "execution_count": 104,
     "metadata": {},
     "output_type": "execute_result"
    }
   ],
   "source": [
    "# Click on Tab Button ton get a list of methods available in Python after Dot operator \n",
    "s.lower()"
   ]
  },
  {
   "cell_type": "code",
   "execution_count": 105,
   "id": "e277c626",
   "metadata": {},
   "outputs": [
    {
     "data": {
      "text/plain": [
       "['hello', 'my', 'name', 'is', 'Auro']"
      ]
     },
     "execution_count": 105,
     "metadata": {},
     "output_type": "execute_result"
    }
   ],
   "source": [
    "s.split()"
   ]
  },
  {
   "cell_type": "code",
   "execution_count": 106,
   "id": "dc24b918",
   "metadata": {},
   "outputs": [],
   "source": [
    "tweet=\"Go SPorts! #sports\""
   ]
  },
  {
   "cell_type": "code",
   "execution_count": 107,
   "id": "61edfd3a",
   "metadata": {},
   "outputs": [
    {
     "data": {
      "text/plain": [
       "['Go', 'SPorts!', '#sports']"
      ]
     },
     "execution_count": 107,
     "metadata": {},
     "output_type": "execute_result"
    }
   ],
   "source": [
    "tweet.split()"
   ]
  },
  {
   "cell_type": "code",
   "execution_count": 110,
   "id": "dd953a8a",
   "metadata": {},
   "outputs": [],
   "source": [
    "# TO get Hashtags from a text\n",
    "text_hash_tag=tweet.split(\"#\")"
   ]
  },
  {
   "cell_type": "code",
   "execution_count": 109,
   "id": "ba330693",
   "metadata": {},
   "outputs": [
    {
     "data": {
      "text/plain": [
       "'sports'"
      ]
     },
     "execution_count": 109,
     "metadata": {},
     "output_type": "execute_result"
    }
   ],
   "source": [
    "text_hash_tag[1]"
   ]
  },
  {
   "cell_type": "code",
   "execution_count": 111,
   "id": "88fce19a",
   "metadata": {},
   "outputs": [
    {
     "data": {
      "text/plain": [
       "{'key': 'value', 'key2': 123, 'two': 2}"
      ]
     },
     "execution_count": 111,
     "metadata": {},
     "output_type": "execute_result"
    }
   ],
   "source": [
    "d"
   ]
  },
  {
   "cell_type": "code",
   "execution_count": 114,
   "id": "ec9dd205",
   "metadata": {},
   "outputs": [
    {
     "data": {
      "text/plain": [
       "{'k1': 1, 'k2': 2}"
      ]
     },
     "execution_count": 114,
     "metadata": {},
     "output_type": "execute_result"
    }
   ],
   "source": [
    "d={'k1':1,'k2':2}\n",
    "d"
   ]
  },
  {
   "cell_type": "code",
   "execution_count": 116,
   "id": "52cab064",
   "metadata": {},
   "outputs": [
    {
     "data": {
      "text/plain": [
       "dict_keys(['k1', 'k2'])"
      ]
     },
     "execution_count": 116,
     "metadata": {},
     "output_type": "execute_result"
    }
   ],
   "source": [
    "d.keys()"
   ]
  },
  {
   "cell_type": "code",
   "execution_count": 117,
   "id": "a663f159",
   "metadata": {},
   "outputs": [
    {
     "data": {
      "text/plain": [
       "dict_items([('k1', 1), ('k2', 2)])"
      ]
     },
     "execution_count": 117,
     "metadata": {},
     "output_type": "execute_result"
    }
   ],
   "source": [
    "d.items()"
   ]
  },
  {
   "cell_type": "code",
   "execution_count": 118,
   "id": "802e84fe",
   "metadata": {},
   "outputs": [
    {
     "data": {
      "text/plain": [
       "dict_values([1, 2])"
      ]
     },
     "execution_count": 118,
     "metadata": {},
     "output_type": "execute_result"
    }
   ],
   "source": [
    "d.values()"
   ]
  },
  {
   "cell_type": "code",
   "execution_count": 119,
   "id": "0a57b6c6",
   "metadata": {},
   "outputs": [
    {
     "data": {
      "text/plain": [
       "3"
      ]
     },
     "execution_count": 119,
     "metadata": {},
     "output_type": "execute_result"
    }
   ],
   "source": [
    "lst=[1,2,3]\n",
    "lst.pop()"
   ]
  },
  {
   "cell_type": "code",
   "execution_count": 120,
   "id": "f3106fa2",
   "metadata": {},
   "outputs": [
    {
     "data": {
      "text/plain": [
       "[1, 2]"
      ]
     },
     "execution_count": 120,
     "metadata": {},
     "output_type": "execute_result"
    }
   ],
   "source": [
    "lst"
   ]
  },
  {
   "cell_type": "code",
   "execution_count": 121,
   "id": "1f6c0f48",
   "metadata": {},
   "outputs": [
    {
     "data": {
      "text/plain": [
       "1"
      ]
     },
     "execution_count": 121,
     "metadata": {},
     "output_type": "execute_result"
    }
   ],
   "source": [
    "lst.pop(0)"
   ]
  },
  {
   "cell_type": "code",
   "execution_count": 122,
   "id": "c5a9cf2c",
   "metadata": {},
   "outputs": [
    {
     "data": {
      "text/plain": [
       "[2]"
      ]
     },
     "execution_count": 122,
     "metadata": {},
     "output_type": "execute_result"
    }
   ],
   "source": [
    "lst"
   ]
  },
  {
   "cell_type": "code",
   "execution_count": 123,
   "id": "6f6b7140",
   "metadata": {},
   "outputs": [
    {
     "data": {
      "text/plain": [
       "False"
      ]
     },
     "execution_count": 123,
     "metadata": {},
     "output_type": "execute_result"
    }
   ],
   "source": [
    "# Use of In operator to check whether something is present inside the list or not !\n",
    "'x' in [1,2,3]"
   ]
  },
  {
   "cell_type": "code",
   "execution_count": 124,
   "id": "c7446ef8",
   "metadata": {},
   "outputs": [
    {
     "data": {
      "text/plain": [
       "True"
      ]
     },
     "execution_count": 124,
     "metadata": {},
     "output_type": "execute_result"
    }
   ],
   "source": [
    "'x' in ['x','y','z']"
   ]
  },
  {
   "cell_type": "code",
   "execution_count": 126,
   "id": "0da171f6",
   "metadata": {},
   "outputs": [
    {
     "data": {
      "text/plain": [
       "2"
      ]
     },
     "execution_count": 126,
     "metadata": {},
     "output_type": "execute_result"
    }
   ],
   "source": [
    "# tuple unpacking\n",
    "x=[(1,2),(3,4),(5,6)]\n",
    "x[0][1]"
   ]
  },
  {
   "cell_type": "code",
   "execution_count": 127,
   "id": "0ecf8089",
   "metadata": {},
   "outputs": [
    {
     "name": "stdout",
     "output_type": "stream",
     "text": [
      "(1, 2)\n",
      "(3, 4)\n",
      "(5, 6)\n"
     ]
    }
   ],
   "source": [
    "for item in x:\n",
    "    print(item)"
   ]
  },
  {
   "cell_type": "code",
   "execution_count": 128,
   "id": "c3dedd58",
   "metadata": {},
   "outputs": [
    {
     "name": "stdout",
     "output_type": "stream",
     "text": [
      "1\n",
      "3\n",
      "5\n"
     ]
    }
   ],
   "source": [
    "for a,b in x:\n",
    "    print(a)"
   ]
  },
  {
   "cell_type": "code",
   "execution_count": null,
   "id": "bec310aa",
   "metadata": {},
   "outputs": [],
   "source": []
  }
 ],
 "metadata": {
  "kernelspec": {
   "display_name": "Python 3 (ipykernel)",
   "language": "python",
   "name": "python3"
  },
  "language_info": {
   "codemirror_mode": {
    "name": "ipython",
    "version": 3
   },
   "file_extension": ".py",
   "mimetype": "text/x-python",
   "name": "python",
   "nbconvert_exporter": "python",
   "pygments_lexer": "ipython3",
   "version": "3.11.5"
  }
 },
 "nbformat": 4,
 "nbformat_minor": 5
}
