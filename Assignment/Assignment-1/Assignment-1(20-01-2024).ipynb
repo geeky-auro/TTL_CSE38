{
 "cells": [
  {
   "cell_type": "markdown",
   "id": "6b34dd63",
   "metadata": {},
   "source": [
    "# Write a Python program(WAPP) to input any two integers, and provide a menu to the user to select any of the options as add, subtract, multiply, divide and display the result accordingly."
   ]
  },
  {
   "cell_type": "code",
   "execution_count": 1,
   "id": "1d6cb4e1",
   "metadata": {},
   "outputs": [
    {
     "name": "stdout",
     "output_type": "stream",
     "text": [
      "Enter a Number2\n",
      "Enter a Number4\n",
      "Enter 0->Add, 1->Sub, 2->Mul, 3->Multiply, 4->Divide\n",
      "Enter Choice to Perform Operations 3\n",
      "Solution: 0.5\n"
     ]
    }
   ],
   "source": [
    "a=int(input(\"Enter a Number\"))\n",
    "b=int(input(\"Enter a Number\"))\n",
    "print(\"Enter 0->Add, 1->Sub, 2->Mul, 3->Divide\")\n",
    "choice=int(input(\"Enter Choice to Perform Operations \"))\n",
    "ops=0\n",
    "if(choice==0):\n",
    "    ops=a+b\n",
    "elif(choice==1):\n",
    "    ops=a-b\n",
    "elif(choice==2):\n",
    "    ops=a*b\n",
    "elif(choice==3):\n",
    "    ops=a/b\n",
    "else:\n",
    "    print(\"Invakid\")\n",
    "\n",
    "print(\"Solution:\",ops)"
   ]
  },
  {
   "cell_type": "code",
   "execution_count": 2,
   "id": "db82e9ee",
   "metadata": {},
   "outputs": [],
   "source": [
    "## Check whether a Year is Leap Year or not"
   ]
  },
  {
   "cell_type": "code",
   "execution_count": 4,
   "id": "3b07691b",
   "metadata": {},
   "outputs": [
    {
     "name": "stdout",
     "output_type": "stream",
     "text": [
      "Enter a Year2020\n",
      "It is a Leap Year\n"
     ]
    }
   ],
   "source": [
    "yr=int(input(\"Enter a Year\"))\n",
    "if((yr%4==0 and yr/100!=0) or yr%400==0):\n",
    "    print(\"It is a Leap Year\")\n",
    "else:\n",
    "    print(\"It is not a Leap Year\")"
   ]
  },
  {
   "cell_type": "code",
   "execution_count": 5,
   "id": "ec4a59a5",
   "metadata": {},
   "outputs": [],
   "source": [
    "## WAPP to convert temperature from centigrade to Fahrenheit scale."
   ]
  },
  {
   "cell_type": "code",
   "execution_count": 8,
   "id": "983577fa",
   "metadata": {},
   "outputs": [
    {
     "name": "stdout",
     "output_type": "stream",
     "text": [
      "Enter Temperature in Centigrade0\n",
      "Temperature in Farenheit is  32.0\n"
     ]
    }
   ],
   "source": [
    "c=int(input(\"Enter Temperature in Centigrade\"))\n",
    "f=(c * 9/5) + 32\n",
    "print(\"Temperature in Farenheit is \",f)"
   ]
  },
  {
   "cell_type": "code",
   "execution_count": 9,
   "id": "5110860d",
   "metadata": {},
   "outputs": [],
   "source": [
    "## WAPP to add two times in hour, minute & second format entered through the keyboard."
   ]
  },
  {
   "cell_type": "code",
   "execution_count": 12,
   "id": "3cd0d2a8",
   "metadata": {},
   "outputs": [
    {
     "name": "stdout",
     "output_type": "stream",
     "text": [
      "Enter hr1 10\n",
      "Enter hr2 5\n",
      "Enter minutes1 50\n",
      "Enter minutes2 60\n",
      "Enter sec1 1\n",
      "Enter sec2 5\n",
      "Total Hours: 16\n",
      "Total Minutes: 50\n"
     ]
    }
   ],
   "source": [
    "hours1=int(input(\"Enter hr1 \"))\n",
    "hours2=int(input(\"Enter hr2 \"))\n",
    "totalHours = hours1 + hours2;\n",
    "minutes1=int(input(\"Enter minutes1 \"))\n",
    "minutes2=int(input(\"Enter minutes2 \"))\n",
    "totalMinutes = minutes1 + minutes2;\n",
    "seconds1=int(input(\"Enter sec1 \"))\n",
    "seconds2=int(input(\"Enter sec2 \"))\n",
    "totalSeconds = seconds1 + seconds2; \n",
    "if (totalSeconds >= 60):\n",
    "    totalMinutes=totalMinutes+1\n",
    "    totalSeconds=totalSeconds%60 \n",
    "    \n",
    "if(totalMinutes >= 60):\n",
    "    totalHours=totalHours+1; \n",
    "    totalMinutes = totalMinutes % 60\n",
    "\n",
    "print(\"Total Hours:\",totalHours)\n",
    "print(\"Total Minutes:\",totalMinutes)\n"
   ]
  },
  {
   "cell_type": "code",
   "execution_count": 13,
   "id": "4ea75deb",
   "metadata": {},
   "outputs": [],
   "source": [
    "## WAPP to check given number is Armstrong or not."
   ]
  },
  {
   "cell_type": "code",
   "execution_count": 24,
   "id": "f75a41aa",
   "metadata": {},
   "outputs": [
    {
     "name": "stdout",
     "output_type": "stream",
     "text": [
      "Enter a Number:153\n",
      "It is a Armstrong Number\n"
     ]
    }
   ],
   "source": [
    "no=int(input(\"Enter a Number:\"))\n",
    "count1=0\n",
    "no1=no\n",
    "while(no1!=0):\n",
    "    count1=count1+1\n",
    "    no1=no1//10\n",
    "\n",
    "no2=no\n",
    "arm=0\n",
    "while(no2!=0):\n",
    "    dig=no2%10\n",
    "    arm=arm+(dig**count1)\n",
    "    no2=no2//10\n",
    "\n",
    "# print(no2,no)\n",
    "if(arm==no):\n",
    "    print(\"It is a Armstrong Number\")\n",
    "else:\n",
    "    print(\"It is not a Armstrong Number\")\n"
   ]
  },
  {
   "cell_type": "code",
   "execution_count": 25,
   "id": "c5ac37d7",
   "metadata": {},
   "outputs": [],
   "source": [
    "# WAPP to find out the factors of a number."
   ]
  },
  {
   "cell_type": "code",
   "execution_count": 30,
   "id": "da22fc24",
   "metadata": {},
   "outputs": [
    {
     "name": "stdout",
     "output_type": "stream",
     "text": [
      "Enter a Number 6\n",
      "[1, 2, 3]\n"
     ]
    }
   ],
   "source": [
    "listno=[]\n",
    "no=int(input(\"Enter a Number \"))\n",
    "for i in range(1,no):\n",
    "    if(no%i==0):\n",
    "        listno.append(i)\n",
    "\n",
    "print(listno)"
   ]
  },
  {
   "cell_type": "code",
   "execution_count": 31,
   "id": "e44c31d1",
   "metadata": {},
   "outputs": [],
   "source": [
    "# WAPP to print all even number between 100 to 200 using loop."
   ]
  },
  {
   "cell_type": "code",
   "execution_count": 32,
   "id": "049d4493",
   "metadata": {},
   "outputs": [
    {
     "name": "stdout",
     "output_type": "stream",
     "text": [
      "100 102 104 106 108 110 112 114 116 118 120 122 124 126 128 130 132 134 136 138 140 142 144 146 148 150 152 154 156 158 160 162 164 166 168 170 172 174 176 178 180 182 184 186 188 190 192 194 196 198 200 "
     ]
    }
   ],
   "source": [
    "for i in range(100,201):\n",
    "    if(i%2==0):\n",
    "        print(i,end=\" \")\n",
    "    "
   ]
  },
  {
   "cell_type": "code",
   "execution_count": 33,
   "id": "8ac9660b",
   "metadata": {},
   "outputs": [],
   "source": [
    "# WAPP to find LCM of 2 numbers using while loop."
   ]
  },
  {
   "cell_type": "code",
   "execution_count": 36,
   "id": "50c27b29",
   "metadata": {},
   "outputs": [
    {
     "name": "stdout",
     "output_type": "stream",
     "text": [
      "Enter 1st Number6\n",
      "Enter 2nd Number15\n",
      "30\n"
     ]
    }
   ],
   "source": [
    "i=1\n",
    "no1=int(input(\"Enter 1st Number\"))\n",
    "no2=int(input(\"Enter 2nd Number\"))\n",
    "gcd=1\n",
    "while(i<no1 and i<no2):\n",
    "    if(no1%i==0 and no2%i==0):\n",
    "        gcd=i\n",
    "    i=i+1\n",
    "\n",
    "lcm=(no1*no2)//gcd\n",
    "print(lcm)"
   ]
  },
  {
   "cell_type": "code",
   "execution_count": 39,
   "id": "152037da",
   "metadata": {},
   "outputs": [
    {
     "name": "stdout",
     "output_type": "stream",
     "text": [
      "Enter DIstance x12\n",
      "Enter DIstance x24\n",
      "Enter DIstance y16\n",
      "Enter DIstance y28\n",
      "Distance Between two Coordinates are: 2.8284271247461903\n"
     ]
    }
   ],
   "source": [
    "# WAPP to findout the distance between two coordinates (x1, y1) & (x2, y2).\n",
    "import math\n",
    "x1=int(input(\"Enter DIstance x1\"))\n",
    "x2=int(input(\"Enter DIstance x2\"))\n",
    "y1=int(input(\"Enter DIstance y1\"))\n",
    "y2=int(input(\"Enter DIstance y2\"))\n",
    "dist=math.sqrt((x2-x1)**2 + (y2-y1)**2)\n",
    "print(\"Distance Between two Coordinates are:\",dist)"
   ]
  },
  {
   "cell_type": "code",
   "execution_count": null,
   "id": "0655cf94",
   "metadata": {},
   "outputs": [],
   "source": [
    "# WAPP to find the multiplication table of any number using for loop."
   ]
  },
  {
   "cell_type": "code",
   "execution_count": 40,
   "id": "2e6682eb",
   "metadata": {},
   "outputs": [
    {
     "name": "stdout",
     "output_type": "stream",
     "text": [
      "Enter a Number 8\n",
      "8 X 1 = 8\n",
      "8 X 2 = 16\n",
      "8 X 3 = 24\n",
      "8 X 4 = 32\n",
      "8 X 5 = 40\n",
      "8 X 6 = 48\n",
      "8 X 7 = 56\n",
      "8 X 8 = 64\n",
      "8 X 9 = 72\n",
      "8 X 10 = 80\n"
     ]
    }
   ],
   "source": [
    "n=int(input(\"Enter a Number \"))\n",
    "for i in range(1,11):\n",
    "    print(n,\"X\",i,\"=\",n*i)"
   ]
  },
  {
   "cell_type": "code",
   "execution_count": 41,
   "id": "d094b747",
   "metadata": {},
   "outputs": [],
   "source": [
    "# WAPP to find Volume and Surface Area of Cylinder."
   ]
  },
  {
   "cell_type": "code",
   "execution_count": 47,
   "id": "15348eb0",
   "metadata": {},
   "outputs": [
    {
     "name": "stdout",
     "output_type": "stream",
     "text": [
      "Enter Radius2\n",
      "Enter Height4\n",
      "50.24\n",
      "75.36\n"
     ]
    }
   ],
   "source": [
    "# A cylinder's volume is π r² h, and its surface area is 2π r h + 2π r²\n",
    "rad=int(input(\"Enter Radius\"))\n",
    "height=int(input(\"Enter Height\"))\n",
    "volume=3.14*rad**2*height\n",
    "sa=2*3.14*rad*height + 2*3.14*rad**2\n",
    "print(volume)\n",
    "print(sa)"
   ]
  },
  {
   "cell_type": "code",
   "execution_count": null,
   "id": "854dc40a",
   "metadata": {},
   "outputs": [],
   "source": []
  },
  {
   "cell_type": "code",
   "execution_count": 50,
   "id": "d3464b5e",
   "metadata": {},
   "outputs": [
    {
     "name": "stdout",
     "output_type": "stream",
     "text": [
      "Enter coefficient a: 2\n",
      "Enter coefficient b: 4\n",
      "Enter coefficient c: 6\n",
      "The discriminant is negative. Roots are complex.\n"
     ]
    }
   ],
   "source": [
    "import math\n",
    "\n",
    "a = int(input(\"Enter coefficient a: \"))\n",
    "b = int(input(\"Enter coefficient b: \"))\n",
    "c = int(input(\"Enter coefficient c: \"))\n",
    "\n",
    "discriminant = b**2 - 4*a*c\n",
    "\n",
    "if discriminant >= 0:\n",
    "    roots1 = (-b + math.sqrt(discriminant)) / (2*a)\n",
    "    roots2 = (-b - math.sqrt(discriminant)) / (2*a)\n",
    "    print(\"Root 1:\", roots1)\n",
    "    print(\"Root 2:\", roots2)\n",
    "else:\n",
    "    print(\"The discriminant is negative. Roots are complex.\")\n"
   ]
  },
  {
   "cell_type": "code",
   "execution_count": null,
   "id": "2b0e3572",
   "metadata": {},
   "outputs": [],
   "source": [
    "# CREDIT POINT = CREDIT X POINT for each course item.\n",
    "# CREDIT INDEX (CI) = ∑ CREDIT POINT of all course items in a semester.\n",
    "# Semester Grade Point Average\n",
    "# SGPA = CI / ∑ CREDITS (for a semester)\n",
    "# Cumulative Grade Point Average\n",
    "c1=[]\n",
    "list1=[]\n",
    "list2=[]\n",
    "c2=[]\n",
    "print(\"Enter Marks of 5 sems\")\n",
    "for i in range(1,6):\n",
    "    c1.append(int(input(\"Credit \",i)))\n",
    "    list1.append(int(input())%10)\n",
    "    \n",
    "for i in range(1,6):\n",
    "    c2.append(int(input(\"Credit \",i)))\n",
    "    list2.append(c2[i]*int(input())%10)\n",
    "\n",
    "sgpa1=0\n",
    "for i in range(0,len(list1)):\n",
    "    sgpa=sgpa+list1[i]\n",
    "\n",
    "sgpa//500*100"
   ]
  },
  {
   "cell_type": "code",
   "execution_count": 51,
   "id": "28b88f26",
   "metadata": {},
   "outputs": [
    {
     "name": "stdout",
     "output_type": "stream",
     "text": [
      "Enter the number of classes held: 3\n",
      "Enter the number of classes attended: 2\n",
      "Attendance Percentage: 66.67%\n",
      "The student is not allowed to sit in the exam.\n"
     ]
    }
   ],
   "source": [
    "classes_held = int(input(\"Enter the number of classes held: \"))\n",
    "classes_attended = int(input(\"Enter the number of classes attended: \"))\n",
    "\n",
    "attendance_percentage = (classes_attended / classes_held) * 100\n",
    "\n",
    "if attendance_percentage >= 70:\n",
    "    print(f\"Attendance Percentage: {attendance_percentage:.2f}%\")\n",
    "    print(\"The student is allowed to sit in the exam.\")\n",
    "else:\n",
    "    print(f\"Attendance Percentage: {attendance_percentage:.2f}%\")\n",
    "    print(\"The student is not allowed to sit in the exam.\")\n"
   ]
  },
  {
   "cell_type": "code",
   "execution_count": null,
   "id": "0fa129d6",
   "metadata": {},
   "outputs": [],
   "source": []
  }
 ],
 "metadata": {
  "kernelspec": {
   "display_name": "Python 3 (ipykernel)",
   "language": "python",
   "name": "python3"
  },
  "language_info": {
   "codemirror_mode": {
    "name": "ipython",
    "version": 3
   },
   "file_extension": ".py",
   "mimetype": "text/x-python",
   "name": "python",
   "nbconvert_exporter": "python",
   "pygments_lexer": "ipython3",
   "version": "3.11.5"
  }
 },
 "nbformat": 4,
 "nbformat_minor": 5
}
