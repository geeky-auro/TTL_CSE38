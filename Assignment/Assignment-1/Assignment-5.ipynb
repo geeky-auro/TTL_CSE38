{
 "cells": [
  {
   "cell_type": "code",
   "execution_count": 1,
   "metadata": {},
   "outputs": [],
   "source": [
    "import numpy as np"
   ]
  },
  {
   "cell_type": "code",
   "execution_count": 11,
   "metadata": {},
   "outputs": [
    {
     "name": "stdout",
     "output_type": "stream",
     "text": [
      "[6 2 1 1 5]\n",
      "[6 7 8 6 3]\n",
      "[12  9  9  7  8]\n"
     ]
    }
   ],
   "source": [
    "# Element-wise addition of 2 numpy arrays\n",
    "x=np.array(np.random.randint(1,10,5))\n",
    "y=np.array(np.random.randint(1,10,5))\n",
    "\n",
    "print(x)\n",
    "print(y)\n",
    "print(x+y)"
   ]
  },
  {
   "cell_type": "code",
   "execution_count": 12,
   "metadata": {},
   "outputs": [
    {
     "name": "stdout",
     "output_type": "stream",
     "text": [
      "[36 14  8  6 15]\n"
     ]
    }
   ],
   "source": [
    "# Multiplying a matrix (numpy array) by a scalar\n",
    "print(x*y)"
   ]
  },
  {
   "cell_type": "code",
   "execution_count": 14,
   "metadata": {},
   "outputs": [
    {
     "data": {
      "text/plain": [
       "array([[1, 0, 0, 0],\n",
       "       [0, 1, 0, 0],\n",
       "       [0, 0, 1, 0],\n",
       "       [0, 0, 0, 1]])"
      ]
     },
     "execution_count": 14,
     "metadata": {},
     "output_type": "execute_result"
    }
   ],
   "source": [
    "# Identity Matrix\n",
    "np.eye(4,dtype=int)"
   ]
  },
  {
   "cell_type": "code",
   "execution_count": 20,
   "metadata": {},
   "outputs": [
    {
     "name": "stdout",
     "output_type": "stream",
     "text": [
      "1\n"
     ]
    },
    {
     "data": {
      "text/plain": [
       "3"
      ]
     },
     "execution_count": 20,
     "metadata": {},
     "output_type": "execute_result"
    }
   ],
   "source": [
    "# Array re-dimensioning\n",
    "print(x.ndim)\n",
    "x.reshape(1,5,1).ndim\n"
   ]
  },
  {
   "cell_type": "code",
   "execution_count": 23,
   "metadata": {},
   "outputs": [
    {
     "name": "stdout",
     "output_type": "stream",
     "text": [
      "float32\n"
     ]
    }
   ],
   "source": [
    "# Array datatype conversion\n",
    "print(x.dtype)\n",
    "print(x.astype('float32').dtype)"
   ]
  },
  {
   "cell_type": "code",
   "execution_count": 30,
   "metadata": {},
   "outputs": [
    {
     "name": "stdout",
     "output_type": "stream",
     "text": [
      "[ True  True  True False False  True  True False False  True]\n"
     ]
    }
   ],
   "source": [
    "# Obtaining Boolean Array from Binary Array\n",
    "x=np.random.randint(0,2,10)\n",
    "x\n",
    "y=[True,False]\n",
    "y=np.array(y)\n",
    "y.dtype\n",
    "print(x.astype('bool'))"
   ]
  },
  {
   "cell_type": "code",
   "execution_count": 34,
   "metadata": {},
   "outputs": [
    {
     "name": "stdout",
     "output_type": "stream",
     "text": [
      "[6 2 8 9 8]\n",
      "[1 5 2 5 8]\n",
      "[6 2 8 9 8 1 5 2 5 8]\n"
     ]
    }
   ],
   "source": [
    "# Horizontal Stacking of Numpy Arrays\n",
    "z1=np.array(np.random.randint(1,10,5))\n",
    "z2=np.array(np.random.randint(1,10,5))\n",
    "\n",
    "print(z1)\n",
    "print(z2)\n",
    "print(np.hstack((z1,z2)))"
   ]
  },
  {
   "cell_type": "code",
   "execution_count": 35,
   "metadata": {},
   "outputs": [
    {
     "name": "stdout",
     "output_type": "stream",
     "text": [
      "[[6 2 8 9 8]\n",
      " [1 5 2 5 8]]\n"
     ]
    }
   ],
   "source": [
    "# Vertical Stacking of Numpy Arrays\n",
    "print(np.vstack((z1,z2)))"
   ]
  },
  {
   "cell_type": "code",
   "execution_count": 39,
   "metadata": {},
   "outputs": [
    {
     "name": "stdout",
     "output_type": "stream",
     "text": [
      "[0, 2, 4, 6, 8, 10, 12, 14, 16, 18, 20, 22, 24, 26, 28, 30, 32, 34, 36, 38, 40, 42, 44, 46, 48, 50, 52, 54, 56, 58, 60, 62, 64, 66, 68, 70, 72, 74, 76, 78, 80, 82, 84, 86, 88, 90, 92, 94, 96, 98, 100]\n"
     ]
    }
   ],
   "source": [
    "# Custom Sequence Generation\n",
    "tv=[]\n",
    "for i in range(0,101,2):\n",
    "    tv.append(i)\n",
    "print(tv)"
   ]
  },
  {
   "cell_type": "code",
   "execution_count": 44,
   "metadata": {},
   "outputs": [
    {
     "name": "stdout",
     "output_type": "stream",
     "text": [
      "Element 6 found at index 1 in the first array\n",
      "Element 7 found at index 2 in the first array\n",
      "Element 8 found at index 3 in the first array\n",
      "Indices where x8 == x9: []\n"
     ]
    }
   ],
   "source": [
    "import numpy as np\n",
    "\n",
    "z3 = [5, 6, 7, 8]\n",
    "z4 = [6, 7, 8, 9]\n",
    "x8 = np.array(z3)\n",
    "x9 = np.array(z4)\n",
    "\n",
    "common_elements = np.intersect1d(x8, x9)\n",
    "\n",
    "for element in common_elements:\n",
    "    index = np.where(x8 == element)\n",
    "    print(f\"Element {element} found at index {index[0][0]} in the first array\")\n",
    "\n",
    "matching_indices = np.where(x8 == x9)[0]\n",
    "print(\"Indices where x8 == x9:\", matching_indices)\n"
   ]
  },
  {
   "cell_type": "code",
   "execution_count": 45,
   "metadata": {},
   "outputs": [
    {
     "name": "stdout",
     "output_type": "stream",
     "text": [
      "Equally spaced numbers: [  0.  25.  50.  75. 100.]\n"
     ]
    }
   ],
   "source": [
    "# EXERCISE 11 - Generation of given count of equally spaced numbers within a specified range\n",
    "import numpy as np\n",
    "\n",
    "# Generating 5 equally spaced numbers from 0 to 100\n",
    "numbers = np.linspace(0, 100, 5)\n",
    "print(\"Equally spaced numbers:\", numbers)\n"
   ]
  },
  {
   "cell_type": "code",
   "execution_count": 46,
   "metadata": {},
   "outputs": [
    {
     "name": "stdout",
     "output_type": "stream",
     "text": [
      "Matrix filled with 5s: [[5 5 5]\n",
      " [5 5 5]]\n"
     ]
    }
   ],
   "source": [
    "# EXERCISE 12 - Matrix Generation with one particular value\n",
    "import numpy as np\n",
    "\n",
    "# Creating a 2x3 matrix with all values equal to 5\n",
    "matrix = np.full((2, 3), 5)\n",
    "print(\"Matrix filled with 5s:\", matrix)\n"
   ]
  },
  {
   "cell_type": "code",
   "execution_count": 47,
   "metadata": {},
   "outputs": [
    {
     "name": "stdout",
     "output_type": "stream",
     "text": [
      "Repeated array:\n",
      " [[1 2 1 2 1 2 1 2 1 2 1 2 1 2 1 2 1 2 1 2]\n",
      " [3 4 3 4 3 4 3 4 3 4 3 4 3 4 3 4 3 4 3 4]\n",
      " [1 2 1 2 1 2 1 2 1 2 1 2 1 2 1 2 1 2 1 2]\n",
      " [3 4 3 4 3 4 3 4 3 4 3 4 3 4 3 4 3 4 3 4]\n",
      " [1 2 1 2 1 2 1 2 1 2 1 2 1 2 1 2 1 2 1 2]\n",
      " [3 4 3 4 3 4 3 4 3 4 3 4 3 4 3 4 3 4 3 4]\n",
      " [1 2 1 2 1 2 1 2 1 2 1 2 1 2 1 2 1 2 1 2]\n",
      " [3 4 3 4 3 4 3 4 3 4 3 4 3 4 3 4 3 4 3 4]\n",
      " [1 2 1 2 1 2 1 2 1 2 1 2 1 2 1 2 1 2 1 2]\n",
      " [3 4 3 4 3 4 3 4 3 4 3 4 3 4 3 4 3 4 3 4]\n",
      " [1 2 1 2 1 2 1 2 1 2 1 2 1 2 1 2 1 2 1 2]\n",
      " [3 4 3 4 3 4 3 4 3 4 3 4 3 4 3 4 3 4 3 4]\n",
      " [1 2 1 2 1 2 1 2 1 2 1 2 1 2 1 2 1 2 1 2]\n",
      " [3 4 3 4 3 4 3 4 3 4 3 4 3 4 3 4 3 4 3 4]\n",
      " [1 2 1 2 1 2 1 2 1 2 1 2 1 2 1 2 1 2 1 2]\n",
      " [3 4 3 4 3 4 3 4 3 4 3 4 3 4 3 4 3 4 3 4]\n",
      " [1 2 1 2 1 2 1 2 1 2 1 2 1 2 1 2 1 2 1 2]\n",
      " [3 4 3 4 3 4 3 4 3 4 3 4 3 4 3 4 3 4 3 4]\n",
      " [1 2 1 2 1 2 1 2 1 2 1 2 1 2 1 2 1 2 1 2]\n",
      " [3 4 3 4 3 4 3 4 3 4 3 4 3 4 3 4 3 4 3 4]]\n"
     ]
    }
   ],
   "source": [
    "# Array Generation by repeatition of a small array across each dimension\n",
    "import numpy as np\n",
    "\n",
    "small_array = np.array([[1, 2], [3, 4]])\n",
    "repeated_array = np.tile(small_array, (10, 10))  # Repeat 10 times in each dimension\n",
    "print(\"Repeated array:\\n\", repeated_array)\n"
   ]
  },
  {
   "cell_type": "code",
   "execution_count": 48,
   "metadata": {},
   "outputs": [
    {
     "name": "stdout",
     "output_type": "stream",
     "text": [
      "5x5 array of random integers:\n",
      " [[6 4 2 6 1]\n",
      " [5 3 3 5 9]\n",
      " [9 5 5 1 4]\n",
      " [9 4 0 5 6]\n",
      " [7 6 5 8 9]]\n"
     ]
    }
   ],
   "source": [
    "# EXERCISE 14 - Array Generation of random integers within a specified range\n",
    "array_random_integers = np.random.randint(0, 10, (5, 5))\n",
    "print(\"5x5 array of random integers:\\n\", array_random_integers)\n"
   ]
  },
  {
   "cell_type": "code",
   "execution_count": 54,
   "metadata": {},
   "outputs": [
    {
     "name": "stdout",
     "output_type": "stream",
     "text": [
      "3x3 array of random numbers (normal distribution):\n",
      " [[ 0.55626968  0.00839072  1.20749429]\n",
      " [ 0.94631815 -2.70501588  0.08683233]\n",
      " [ 1.13100094 -1.27429991  0.40630798]]\n"
     ]
    }
   ],
   "source": [
    "# EXERCISE 15 - Array Generation of random numbers following normal distribution\n",
    "array_normal_dist = np.random.randn(3, 3)  # Standard normal distribution\n",
    "print(\"3x3 array of random numbers (normal distribution):\\n\", array_normal_dist)\n"
   ]
  },
  {
   "cell_type": "code",
   "execution_count": 55,
   "metadata": {},
   "outputs": [
    {
     "name": "stdout",
     "output_type": "stream",
     "text": [
      "Product of A and B:\n",
      " [[19 22]\n",
      " [43 50]]\n"
     ]
    }
   ],
   "source": [
    "# EXERCISE 16 - Matrix Multiplication\n",
    "A = np.array([[1, 2], [3, 4]])\n",
    "B = np.array([[5, 6], [7, 8]])\n",
    "product = np.dot(A, B)\n",
    "print(\"Product of A and B:\\n\", product)\n"
   ]
  },
  {
   "cell_type": "code",
   "execution_count": 56,
   "metadata": {},
   "outputs": [
    {
     "name": "stdout",
     "output_type": "stream",
     "text": [
      "Transpose of the matrix:\n",
      " [[1 3 5]\n",
      " [2 4 6]]\n"
     ]
    }
   ],
   "source": [
    "# EXERCISE 17 - Matrix Transpose\n",
    "matrix = np.array([[1, 2], [3, 4], [5, 6]])\n",
    "transpose_matrix = matrix.T\n",
    "print(\"Transpose of the matrix:\\n\", transpose_matrix)\n"
   ]
  },
  {
   "cell_type": "code",
   "execution_count": 52,
   "metadata": {},
   "outputs": [],
   "source": [
    "# EXERCISE 18 - Sine of an Angle (in radians)\n",
    "angles = np.array([0, np.pi/2, np.pi])\n",
    "sine_values = np.sin(angles)\n",
    "print(\"Sine of angles:\\n\", sine_values)\n"
   ]
  },
  {
   "cell_type": "code",
   "execution_count": 57,
   "metadata": {},
   "outputs": [
    {
     "name": "stdout",
     "output_type": "stream",
     "text": [
      "Cosine similarity: 0.9746318461970762\n"
     ]
    }
   ],
   "source": [
    "# EXERCISE 19 - Cosine Similarity\n",
    "vector1 = np.array([1, 2, 3])\n",
    "vector2 = np.array([4, 5, 6])\n",
    "cosine_similarity = np.dot(vector1, vector2) / (np.linalg.norm(vector1) * np.linalg.norm(vector2))\n",
    "print(\"Cosine similarity:\", cosine_similarity)\n"
   ]
  },
  {
   "cell_type": "code",
   "execution_count": 58,
   "metadata": {},
   "outputs": [
    {
     "name": "stdout",
     "output_type": "stream",
     "text": [
      "Indices to sort array: [3 1 2 0 4]\n"
     ]
    }
   ],
   "source": [
    "# EXERCISE 20 - Generating the array element indexes such that the array elements appear in ascending order\n",
    "array = np.array([4, 2, 3, 1, 5])\n",
    "sorted_indices = np.argsort(array)\n",
    "print(\"Indices to sort array:\", sorted_indices)\n"
   ]
  },
  {
   "cell_type": "code",
   "execution_count": 63,
   "metadata": {},
   "outputs": [
    {
     "name": "stdout",
     "output_type": "stream",
     "text": [
      "1.24.3\n",
      "<class 'numpy.ndarray'>\n",
      "Boolean array: [ True False  True False]\n",
      "Condition-based Boolean array: [False  True  True False  True False]\n",
      "Extracted items: [6 7 8 9]\n",
      "Array after replacement: [ 1  2 10 10  5  3 10 10]\n"
     ]
    }
   ],
   "source": [
    "#  Exercise 1. Import numpy as np and see the version\n",
    "print(np.__version__)\n",
    "#  Exercise 2. How to create a 1D array?\n",
    "arr=[1,2,3,4]\n",
    "print(type(np.array(arr)))\n",
    "#  Exercise 3. How to create a boolean array?\n",
    "\n",
    "bool_array = np.array([True, False, True, False])\n",
    "print(\"Boolean array:\", bool_array)\n",
    "\n",
    "numbers = np.array([2, 6, 7, 3, 8, 4])\n",
    "condition_array = numbers > 5  # This will check if each number is greater than 5\n",
    "print(\"Condition-based Boolean array:\", condition_array)\n",
    "\n",
    "#  Exercise 4. How to extract items that satisfy a given\n",
    "# condition from 1D array?\n",
    "\n",
    "\n",
    "array_1d = np.array([1, 2, 6, 7, 5, 3, 8, 9])\n",
    "\n",
    "condition = array_1d > 5\n",
    "extracted_items = array_1d[condition]\n",
    "print(\"Extracted items:\", extracted_items)\n",
    "\n",
    "#  Exercise 5. How to replace items that satisfy a condition with another value in numpy array?\n",
    "\n",
    "\n",
    "array_1d = np.array([1, 2, 6, 7, 5, 3, 8, 9])\n",
    "\n",
    "condition = array_1d > 5\n",
    "\n",
    "array_1d[condition] = 10\n",
    "print(\"Array after replacement:\", array_1d)\n"
   ]
  },
  {
   "cell_type": "code",
   "execution_count": null,
   "metadata": {},
   "outputs": [],
   "source": []
  }
 ],
 "metadata": {
  "kernelspec": {
   "display_name": "base",
   "language": "python",
   "name": "python3"
  },
  "language_info": {
   "codemirror_mode": {
    "name": "ipython",
    "version": 3
   },
   "file_extension": ".py",
   "mimetype": "text/x-python",
   "name": "python",
   "nbconvert_exporter": "python",
   "pygments_lexer": "ipython3",
   "version": "3.11.5"
  }
 },
 "nbformat": 4,
 "nbformat_minor": 2
}
