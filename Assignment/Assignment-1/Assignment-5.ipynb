{
 "cells": [
  {
   "cell_type": "code",
   "execution_count": 2,
   "metadata": {},
   "outputs": [],
   "source": [
    "import numpy as np"
   ]
  },
  {
   "cell_type": "code",
   "execution_count": 3,
   "metadata": {},
   "outputs": [
    {
     "name": "stdout",
     "output_type": "stream",
     "text": [
      "[6 5 5 4 1]\n",
      "[4 9 1 9 2]\n",
      "[10 14  6 13  3]\n"
     ]
    }
   ],
   "source": [
    "# Element-wise addition of 2 numpy arrays\n",
    "x=np.array(np.random.randint(1,10,5))\n",
    "y=np.array(np.random.randint(1,10,5))\n",
    "\n",
    "print(x)\n",
    "print(y)\n",
    "print(x+y)"
   ]
  },
  {
   "cell_type": "code",
   "execution_count": 4,
   "metadata": {},
   "outputs": [
    {
     "name": "stdout",
     "output_type": "stream",
     "text": [
      "[24 45  5 36  2]\n"
     ]
    }
   ],
   "source": [
    "# Multiplying a matrix (numpy array) by a scalar\n",
    "print(x*y)"
   ]
  },
  {
   "cell_type": "code",
   "execution_count": 5,
   "metadata": {},
   "outputs": [
    {
     "data": {
      "text/plain": [
       "array([[1, 0, 0, 0],\n",
       "       [0, 1, 0, 0],\n",
       "       [0, 0, 1, 0],\n",
       "       [0, 0, 0, 1]])"
      ]
     },
     "execution_count": 5,
     "metadata": {},
     "output_type": "execute_result"
    }
   ],
   "source": [
    "# Identity Matrix\n",
    "np.eye(4,dtype=int)"
   ]
  },
  {
   "cell_type": "code",
   "execution_count": 6,
   "metadata": {},
   "outputs": [
    {
     "name": "stdout",
     "output_type": "stream",
     "text": [
      "1\n"
     ]
    },
    {
     "data": {
      "text/plain": [
       "3"
      ]
     },
     "execution_count": 6,
     "metadata": {},
     "output_type": "execute_result"
    }
   ],
   "source": [
    "# Array re-dimensioning\n",
    "print(x.ndim)\n",
    "x.reshape(1,5,1).ndim\n"
   ]
  },
  {
   "cell_type": "code",
   "execution_count": 7,
   "metadata": {},
   "outputs": [
    {
     "name": "stdout",
     "output_type": "stream",
     "text": [
      "int32\n",
      "float32\n"
     ]
    }
   ],
   "source": [
    "# Array datatype conversion\n",
    "print(x.dtype)\n",
    "print(x.astype('float32').dtype)"
   ]
  },
  {
   "cell_type": "code",
   "execution_count": 8,
   "metadata": {},
   "outputs": [
    {
     "name": "stdout",
     "output_type": "stream",
     "text": [
      "[False False False False False  True False False  True False]\n"
     ]
    }
   ],
   "source": [
    "# Obtaining Boolean Array from Binary Array\n",
    "x=np.random.randint(0,2,10)\n",
    "x\n",
    "y=[True,False]\n",
    "y=np.array(y)\n",
    "y.dtype\n",
    "print(x.astype('bool'))"
   ]
  },
  {
   "cell_type": "code",
   "execution_count": 9,
   "metadata": {},
   "outputs": [
    {
     "name": "stdout",
     "output_type": "stream",
     "text": [
      "[8 9 9 7 6]\n",
      "[1 4 3 6 8]\n",
      "[8 9 9 7 6 1 4 3 6 8]\n"
     ]
    }
   ],
   "source": [
    "# Horizontal Stacking of Numpy Arrays\n",
    "z1=np.array(np.random.randint(1,10,5))\n",
    "z2=np.array(np.random.randint(1,10,5))\n",
    "\n",
    "print(z1)\n",
    "print(z2)\n",
    "print(np.hstack((z1,z2)))"
   ]
  },
  {
   "cell_type": "code",
   "execution_count": 10,
   "metadata": {},
   "outputs": [
    {
     "name": "stdout",
     "output_type": "stream",
     "text": [
      "[[8 9 9 7 6]\n",
      " [1 4 3 6 8]]\n"
     ]
    }
   ],
   "source": [
    "# Vertical Stacking of Numpy Arrays\n",
    "print(np.vstack((z1,z2)))"
   ]
  },
  {
   "cell_type": "code",
   "execution_count": 11,
   "metadata": {},
   "outputs": [
    {
     "name": "stdout",
     "output_type": "stream",
     "text": [
      "[0, 2, 4, 6, 8, 10, 12, 14, 16, 18, 20, 22, 24, 26, 28, 30, 32, 34, 36, 38, 40, 42, 44, 46, 48, 50, 52, 54, 56, 58, 60, 62, 64, 66, 68, 70, 72, 74, 76, 78, 80, 82, 84, 86, 88, 90, 92, 94, 96, 98, 100]\n"
     ]
    }
   ],
   "source": [
    "# Custom Sequence Generation\n",
    "tv=[]\n",
    "for i in range(0,101,2):\n",
    "    tv.append(i)\n",
    "print(tv)"
   ]
  },
  {
   "cell_type": "code",
   "execution_count": 12,
   "metadata": {},
   "outputs": [
    {
     "name": "stdout",
     "output_type": "stream",
     "text": [
      "Element 6 found at index 1 in the first array\n",
      "Element 7 found at index 2 in the first array\n",
      "Element 8 found at index 3 in the first array\n",
      "Indices where x8 == x9: []\n"
     ]
    }
   ],
   "source": [
    "import numpy as np\n",
    "\n",
    "z3 = [5, 6, 7, 8]\n",
    "z4 = [6, 7, 8, 9]\n",
    "x8 = np.array(z3)\n",
    "x9 = np.array(z4)\n",
    "\n",
    "common_elements = np.intersect1d(x8, x9)\n",
    "\n",
    "for element in common_elements:\n",
    "    index = np.where(x8 == element)\n",
    "    print(f\"Element {element} found at index {index[0][0]} in the first array\")\n",
    "\n",
    "matching_indices = np.where(x8 == x9)[0]\n",
    "print(\"Indices where x8 == x9:\", matching_indices)\n"
   ]
  },
  {
   "cell_type": "code",
   "execution_count": 13,
   "metadata": {},
   "outputs": [
    {
     "name": "stdout",
     "output_type": "stream",
     "text": [
      "Equally spaced numbers: [  0.  25.  50.  75. 100.]\n"
     ]
    }
   ],
   "source": [
    "# EXERCISE 11 - Generation of given count of equally spaced numbers within a specified range\n",
    "import numpy as np\n",
    "\n",
    "# Generating 5 equally spaced numbers from 0 to 100\n",
    "numbers = np.linspace(0, 100, 5)\n",
    "print(\"Equally spaced numbers:\", numbers)\n"
   ]
  },
  {
   "cell_type": "code",
   "execution_count": 14,
   "metadata": {},
   "outputs": [
    {
     "name": "stdout",
     "output_type": "stream",
     "text": [
      "Matrix filled with 5s: [[5 5 5]\n",
      " [5 5 5]]\n"
     ]
    }
   ],
   "source": [
    "# EXERCISE 12 - Matrix Generation with one particular value\n",
    "import numpy as np\n",
    "\n",
    "# Creating a 2x3 matrix with all values equal to 5\n",
    "matrix = np.full((2, 3), 5)\n",
    "print(\"Matrix filled with 5s:\", matrix)\n"
   ]
  },
  {
   "cell_type": "code",
   "execution_count": 15,
   "metadata": {},
   "outputs": [
    {
     "name": "stdout",
     "output_type": "stream",
     "text": [
      "Repeated array:\n",
      " [[1 2 1 2 1 2 1 2 1 2 1 2 1 2 1 2 1 2 1 2]\n",
      " [3 4 3 4 3 4 3 4 3 4 3 4 3 4 3 4 3 4 3 4]\n",
      " [1 2 1 2 1 2 1 2 1 2 1 2 1 2 1 2 1 2 1 2]\n",
      " [3 4 3 4 3 4 3 4 3 4 3 4 3 4 3 4 3 4 3 4]\n",
      " [1 2 1 2 1 2 1 2 1 2 1 2 1 2 1 2 1 2 1 2]\n",
      " [3 4 3 4 3 4 3 4 3 4 3 4 3 4 3 4 3 4 3 4]\n",
      " [1 2 1 2 1 2 1 2 1 2 1 2 1 2 1 2 1 2 1 2]\n",
      " [3 4 3 4 3 4 3 4 3 4 3 4 3 4 3 4 3 4 3 4]\n",
      " [1 2 1 2 1 2 1 2 1 2 1 2 1 2 1 2 1 2 1 2]\n",
      " [3 4 3 4 3 4 3 4 3 4 3 4 3 4 3 4 3 4 3 4]\n",
      " [1 2 1 2 1 2 1 2 1 2 1 2 1 2 1 2 1 2 1 2]\n",
      " [3 4 3 4 3 4 3 4 3 4 3 4 3 4 3 4 3 4 3 4]\n",
      " [1 2 1 2 1 2 1 2 1 2 1 2 1 2 1 2 1 2 1 2]\n",
      " [3 4 3 4 3 4 3 4 3 4 3 4 3 4 3 4 3 4 3 4]\n",
      " [1 2 1 2 1 2 1 2 1 2 1 2 1 2 1 2 1 2 1 2]\n",
      " [3 4 3 4 3 4 3 4 3 4 3 4 3 4 3 4 3 4 3 4]\n",
      " [1 2 1 2 1 2 1 2 1 2 1 2 1 2 1 2 1 2 1 2]\n",
      " [3 4 3 4 3 4 3 4 3 4 3 4 3 4 3 4 3 4 3 4]\n",
      " [1 2 1 2 1 2 1 2 1 2 1 2 1 2 1 2 1 2 1 2]\n",
      " [3 4 3 4 3 4 3 4 3 4 3 4 3 4 3 4 3 4 3 4]]\n"
     ]
    }
   ],
   "source": [
    "# Array Generation by repeatition of a small array across each dimension\n",
    "import numpy as np\n",
    "\n",
    "small_array = np.array([[1, 2], [3, 4]])\n",
    "repeated_array = np.tile(small_array, (10, 10))  # Repeat 10 times in each dimension\n",
    "print(\"Repeated array:\\n\", repeated_array)\n"
   ]
  },
  {
   "cell_type": "code",
   "execution_count": 16,
   "metadata": {},
   "outputs": [
    {
     "name": "stdout",
     "output_type": "stream",
     "text": [
      "5x5 array of random integers:\n",
      " [[4 7 3 0 2]\n",
      " [5 5 2 5 1]\n",
      " [6 9 1 6 5]\n",
      " [1 8 2 5 9]\n",
      " [6 0 6 6 0]]\n"
     ]
    }
   ],
   "source": [
    "# EXERCISE 14 - Array Generation of random integers within a specified range\n",
    "array_random_integers = np.random.randint(0, 10, (5, 5))\n",
    "print(\"5x5 array of random integers:\\n\", array_random_integers)\n"
   ]
  },
  {
   "cell_type": "code",
   "execution_count": 17,
   "metadata": {},
   "outputs": [
    {
     "name": "stdout",
     "output_type": "stream",
     "text": [
      "3x3 array of random numbers (normal distribution):\n",
      " [[-0.00795682  1.02630479 -1.32558115]\n",
      " [ 0.00953438 -0.09226682  0.49206101]\n",
      " [-0.81932893  0.1115017   2.04504775]]\n"
     ]
    }
   ],
   "source": [
    "# EXERCISE 15 - Array Generation of random numbers following normal distribution\n",
    "array_normal_dist = np.random.randn(3, 3)  # Standard normal distribution\n",
    "print(\"3x3 array of random numbers (normal distribution):\\n\", array_normal_dist)\n"
   ]
  },
  {
   "cell_type": "code",
   "execution_count": 18,
   "metadata": {},
   "outputs": [
    {
     "name": "stdout",
     "output_type": "stream",
     "text": [
      "Product of A and B:\n",
      " [[19 22]\n",
      " [43 50]]\n"
     ]
    }
   ],
   "source": [
    "# EXERCISE 16 - Matrix Multiplication\n",
    "A = np.array([[1, 2], [3, 4]])\n",
    "B = np.array([[5, 6], [7, 8]])\n",
    "product = np.dot(A, B)\n",
    "print(\"Product of A and B:\\n\", product)\n"
   ]
  },
  {
   "cell_type": "code",
   "execution_count": 19,
   "metadata": {},
   "outputs": [
    {
     "name": "stdout",
     "output_type": "stream",
     "text": [
      "Transpose of the matrix:\n",
      " [[1 3 5]\n",
      " [2 4 6]]\n"
     ]
    }
   ],
   "source": [
    "# EXERCISE 17 - Matrix Transpose\n",
    "matrix = np.array([[1, 2], [3, 4], [5, 6]])\n",
    "transpose_matrix = matrix.T\n",
    "print(\"Transpose of the matrix:\\n\", transpose_matrix)\n"
   ]
  },
  {
   "cell_type": "code",
   "execution_count": 20,
   "metadata": {},
   "outputs": [
    {
     "name": "stdout",
     "output_type": "stream",
     "text": [
      "Sine of angles:\n",
      " [0.0000000e+00 1.0000000e+00 1.2246468e-16]\n"
     ]
    }
   ],
   "source": [
    "# EXERCISE 18 - Sine of an Angle (in radians)\n",
    "angles = np.array([0, np.pi/2, np.pi])\n",
    "sine_values = np.sin(angles)\n",
    "print(\"Sine of angles:\\n\", sine_values)\n"
   ]
  },
  {
   "cell_type": "code",
   "execution_count": 21,
   "metadata": {},
   "outputs": [
    {
     "name": "stdout",
     "output_type": "stream",
     "text": [
      "Cosine similarity: 0.9746318461970762\n"
     ]
    }
   ],
   "source": [
    "# EXERCISE 19 - Cosine Similarity\n",
    "vector1 = np.array([1, 2, 3])\n",
    "vector2 = np.array([4, 5, 6])\n",
    "cosine_similarity = np.dot(vector1, vector2) / (np.linalg.norm(vector1) * np.linalg.norm(vector2))\n",
    "print(\"Cosine similarity:\", cosine_similarity)\n"
   ]
  },
  {
   "cell_type": "code",
   "execution_count": 22,
   "metadata": {},
   "outputs": [
    {
     "name": "stdout",
     "output_type": "stream",
     "text": [
      "Indices to sort array: [3 1 2 0 4]\n"
     ]
    }
   ],
   "source": [
    "# EXERCISE 20 - Generating the array element indexes such that the array elements appear in ascending order\n",
    "array = np.array([4, 2, 3, 1, 5])\n",
    "sorted_indices = np.argsort(array)\n",
    "print(\"Indices to sort array:\", sorted_indices)\n"
   ]
  },
  {
   "cell_type": "code",
   "execution_count": 23,
   "metadata": {},
   "outputs": [
    {
     "name": "stdout",
     "output_type": "stream",
     "text": [
      "1.24.3\n",
      "<class 'numpy.ndarray'>\n",
      "Boolean array: [ True False  True False]\n",
      "Condition-based Boolean array: [False  True  True False  True False]\n",
      "Extracted items: [6 7 8 9]\n",
      "Array after replacement: [ 1  2 10 10  5  3 10 10]\n"
     ]
    }
   ],
   "source": [
    "#  Exercise 1. Import numpy as np and see the version\n",
    "print(np.__version__)\n",
    "#  Exercise 2. How to create a 1D array?\n",
    "arr=[1,2,3,4]\n",
    "print(type(np.array(arr)))\n",
    "#  Exercise 3. How to create a boolean array?\n",
    "\n",
    "bool_array = np.array([True, False, True, False])\n",
    "print(\"Boolean array:\", bool_array)\n",
    "\n",
    "numbers = np.array([2, 6, 7, 3, 8, 4])\n",
    "condition_array = numbers > 5  # This will check if each number is greater than 5\n",
    "print(\"Condition-based Boolean array:\", condition_array)\n",
    "\n",
    "#  Exercise 4. How to extract items that satisfy a given\n",
    "# condition from 1D array?\n",
    "\n",
    "\n",
    "array_1d = np.array([1, 2, 6, 7, 5, 3, 8, 9])\n",
    "\n",
    "condition = array_1d > 5\n",
    "extracted_items = array_1d[condition]\n",
    "print(\"Extracted items:\", extracted_items)\n",
    "\n",
    "#  Exercise 5. How to replace items that satisfy a condition with another value in numpy array?\n",
    "\n",
    "\n",
    "array_1d = np.array([1, 2, 6, 7, 5, 3, 8, 9])\n",
    "\n",
    "condition = array_1d > 5\n",
    "\n",
    "array_1d[condition] = 10\n",
    "print(\"Array after replacement:\", array_1d)\n"
   ]
  },
  {
   "cell_type": "code",
   "execution_count": 27,
   "metadata": {},
   "outputs": [],
   "source": [
    "arr=np.arange(10)\n",
    "arr\n",
    "k=arr"
   ]
  },
  {
   "cell_type": "code",
   "execution_count": 28,
   "metadata": {},
   "outputs": [],
   "source": [
    "k[0]=10"
   ]
  },
  {
   "cell_type": "code",
   "execution_count": 29,
   "metadata": {},
   "outputs": [
    {
     "data": {
      "text/plain": [
       "array([10,  1,  2,  3,  4,  5,  6,  7,  8,  9])"
      ]
     },
     "execution_count": 29,
     "metadata": {},
     "output_type": "execute_result"
    }
   ],
   "source": [
    "k"
   ]
  },
  {
   "cell_type": "code",
   "execution_count": 30,
   "metadata": {},
   "outputs": [
    {
     "data": {
      "text/plain": [
       "array([10,  1,  2,  3,  4,  5,  6,  7,  8,  9])"
      ]
     },
     "execution_count": 30,
     "metadata": {},
     "output_type": "execute_result"
    }
   ],
   "source": [
    "arr"
   ]
  },
  {
   "cell_type": "code",
   "execution_count": 31,
   "metadata": {},
   "outputs": [],
   "source": [
    "k=arr.copy()\n",
    "k[0]=5\n"
   ]
  },
  {
   "cell_type": "code",
   "execution_count": 32,
   "metadata": {},
   "outputs": [
    {
     "data": {
      "text/plain": [
       "array([5, 1, 2, 3, 4, 5, 6, 7, 8, 9])"
      ]
     },
     "execution_count": 32,
     "metadata": {},
     "output_type": "execute_result"
    }
   ],
   "source": [
    "k"
   ]
  },
  {
   "cell_type": "code",
   "execution_count": 33,
   "metadata": {},
   "outputs": [
    {
     "data": {
      "text/plain": [
       "array([10,  1,  2,  3,  4,  5,  6,  7,  8,  9])"
      ]
     },
     "execution_count": 33,
     "metadata": {},
     "output_type": "execute_result"
    }
   ],
   "source": [
    "arr"
   ]
  },
  {
   "cell_type": "code",
   "execution_count": 41,
   "metadata": {},
   "outputs": [
    {
     "ename": "SyntaxError",
     "evalue": "invalid syntax (1156282808.py, line 3)",
     "output_type": "error",
     "traceback": [
      "\u001b[1;36m  Cell \u001b[1;32mIn[41], line 3\u001b[1;36m\u001b[0m\n\u001b[1;33m    np.\u001b[0m\n\u001b[1;37m       ^\u001b[0m\n\u001b[1;31mSyntaxError\u001b[0m\u001b[1;31m:\u001b[0m invalid syntax\n"
     ]
    }
   ],
   "source": [
    "arr\n",
    "k\n",
    "np.\n",
    "hstack([arr,k])"
   ]
  },
  {
   "cell_type": "code",
   "execution_count": 40,
   "metadata": {},
   "outputs": [
    {
     "name": "stderr",
     "output_type": "stream",
     "text": [
      "c:\\Users\\KIIT\\anaconda3\\Lib\\site-packages\\seaborn\\axisgrid.py:118: UserWarning: The figure layout has changed to tight\n",
      "  self._figure.tight_layout(*args, **kwargs)\n"
     ]
    },
    {
     "data": {
      "text/plain": [
       "<seaborn.axisgrid.FacetGrid at 0x2025cef3c50>"
      ]
     },
     "execution_count": 40,
     "metadata": {},
     "output_type": "execute_result"
    },
    {
     "data": {
      "image/png": "[encoded data removed]",
      "text/plain": [
       "<Figure size 500x500 with 1 Axes>"
      ]
     },
     "metadata": {},
     "output_type": "display_data"
    }
   ],
   "source": [
    "import seaborn as sns\n",
    "k=np.arange(10)\n",
    "sns.displot(k,kde=True)"
   ]
  },
  {
   "cell_type": "code",
   "execution_count": 44,
   "metadata": {},
   "outputs": [
    {
     "data": {
      "text/plain": [
       "array([1, 2, 3, 1, 2, 3, 1, 2, 3])"
      ]
     },
     "execution_count": 44,
     "metadata": {},
     "output_type": "execute_result"
    }
   ],
   "source": [
    "arr=np.arange(3)+1\n",
    "np.tile(arr,3)"
   ]
  },
  {
   "cell_type": "code",
   "execution_count": 49,
   "metadata": {},
   "outputs": [
    {
     "data": {
      "text/plain": [
       "array([1, 1, 1, 2, 2, 2, 3, 3, 3, 1, 2, 3, 1, 2, 3, 1, 2, 3])"
      ]
     },
     "execution_count": 49,
     "metadata": {},
     "output_type": "execute_result"
    }
   ],
   "source": [
    "np.repeat(arr,3)\n",
    "np.r_[np.repeat(arr,3),np.tile(arr,3)]"
   ]
  },
  {
   "cell_type": "code",
   "execution_count": 50,
   "metadata": {},
   "outputs": [],
   "source": [
    "a=np.arange(10)\n",
    "b=np.arange(10)+1"
   ]
  },
  {
   "cell_type": "code",
   "execution_count": 58,
   "metadata": {},
   "outputs": [
    {
     "data": {
      "text/plain": [
       "[{1, 2, 3, 4, 5, 6, 7, 8, 9}]"
      ]
     },
     "execution_count": 58,
     "metadata": {},
     "output_type": "execute_result"
    }
   ],
   "source": [
    "a,b\n",
    "\n",
    "k=[set(a) & set(b)]\n",
    "k"
   ]
  },
  {
   "cell_type": "code",
   "execution_count": 57,
   "metadata": {},
   "outputs": [
    {
     "ename": "TypeError",
     "evalue": "<lambda>() missing 2 required positional arguments: 'y' and 'i'",
     "output_type": "error",
     "traceback": [
      "\u001b[1;31m---------------------------------------------------------------------------\u001b[0m",
      "\u001b[1;31mTypeError\u001b[0m                                 Traceback (most recent call last)",
      "Cell \u001b[1;32mIn[57], line 4\u001b[0m\n\u001b[0;32m      2\u001b[0m df\u001b[38;5;241m=\u001b[39mpd\u001b[38;5;241m.\u001b[39mDataFrame([a,b])\n\u001b[0;32m      3\u001b[0m \u001b[38;5;66;03m# lambda x,y,i: x[i]==y[i]\u001b[39;00m\n\u001b[1;32m----> 4\u001b[0m df\u001b[38;5;241m.\u001b[39mapply(\u001b[38;5;28;01mlambda\u001b[39;00m x,y,i: x[i]\u001b[38;5;241m==\u001b[39my[i])\n",
      "File \u001b[1;32mc:\\Users\\KIIT\\anaconda3\\Lib\\site-packages\\pandas\\core\\frame.py:9423\u001b[0m, in \u001b[0;36mDataFrame.apply\u001b[1;34m(self, func, axis, raw, result_type, args, **kwargs)\u001b[0m\n\u001b[0;32m   9412\u001b[0m \u001b[38;5;28;01mfrom\u001b[39;00m \u001b[38;5;21;01mpandas\u001b[39;00m\u001b[38;5;21;01m.\u001b[39;00m\u001b[38;5;21;01mcore\u001b[39;00m\u001b[38;5;21;01m.\u001b[39;00m\u001b[38;5;21;01mapply\u001b[39;00m \u001b[38;5;28;01mimport\u001b[39;00m frame_apply\n\u001b[0;32m   9414\u001b[0m op \u001b[38;5;241m=\u001b[39m frame_apply(\n\u001b[0;32m   9415\u001b[0m     \u001b[38;5;28mself\u001b[39m,\n\u001b[0;32m   9416\u001b[0m     func\u001b[38;5;241m=\u001b[39mfunc,\n\u001b[1;32m   (...)\u001b[0m\n\u001b[0;32m   9421\u001b[0m     kwargs\u001b[38;5;241m=\u001b[39mkwargs,\n\u001b[0;32m   9422\u001b[0m )\n\u001b[1;32m-> 9423\u001b[0m \u001b[38;5;28;01mreturn\u001b[39;00m op\u001b[38;5;241m.\u001b[39mapply()\u001b[38;5;241m.\u001b[39m__finalize__(\u001b[38;5;28mself\u001b[39m, method\u001b[38;5;241m=\u001b[39m\u001b[38;5;124m\"\u001b[39m\u001b[38;5;124mapply\u001b[39m\u001b[38;5;124m\"\u001b[39m)\n",
      "File \u001b[1;32mc:\\Users\\KIIT\\anaconda3\\Lib\\site-packages\\pandas\\core\\apply.py:678\u001b[0m, in \u001b[0;36mFrameApply.apply\u001b[1;34m(self)\u001b[0m\n\u001b[0;32m    675\u001b[0m \u001b[38;5;28;01melif\u001b[39;00m \u001b[38;5;28mself\u001b[39m\u001b[38;5;241m.\u001b[39mraw:\n\u001b[0;32m    676\u001b[0m     \u001b[38;5;28;01mreturn\u001b[39;00m \u001b[38;5;28mself\u001b[39m\u001b[38;5;241m.\u001b[39mapply_raw()\n\u001b[1;32m--> 678\u001b[0m \u001b[38;5;28;01mreturn\u001b[39;00m \u001b[38;5;28mself\u001b[39m\u001b[38;5;241m.\u001b[39mapply_standard()\n",
      "File \u001b[1;32mc:\\Users\\KIIT\\anaconda3\\Lib\\site-packages\\pandas\\core\\apply.py:798\u001b[0m, in \u001b[0;36mFrameApply.apply_standard\u001b[1;34m(self)\u001b[0m\n\u001b[0;32m    797\u001b[0m \u001b[38;5;28;01mdef\u001b[39;00m \u001b[38;5;21mapply_standard\u001b[39m(\u001b[38;5;28mself\u001b[39m):\n\u001b[1;32m--> 798\u001b[0m     results, res_index \u001b[38;5;241m=\u001b[39m \u001b[38;5;28mself\u001b[39m\u001b[38;5;241m.\u001b[39mapply_series_generator()\n\u001b[0;32m    800\u001b[0m     \u001b[38;5;66;03m# wrap results\u001b[39;00m\n\u001b[0;32m    801\u001b[0m     \u001b[38;5;28;01mreturn\u001b[39;00m \u001b[38;5;28mself\u001b[39m\u001b[38;5;241m.\u001b[39mwrap_results(results, res_index)\n",
      "File \u001b[1;32mc:\\Users\\KIIT\\anaconda3\\Lib\\site-packages\\pandas\\core\\apply.py:814\u001b[0m, in \u001b[0;36mFrameApply.apply_series_generator\u001b[1;34m(self)\u001b[0m\n\u001b[0;32m    811\u001b[0m \u001b[38;5;28;01mwith\u001b[39;00m option_context(\u001b[38;5;124m\"\u001b[39m\u001b[38;5;124mmode.chained_assignment\u001b[39m\u001b[38;5;124m\"\u001b[39m, \u001b[38;5;28;01mNone\u001b[39;00m):\n\u001b[0;32m    812\u001b[0m     \u001b[38;5;28;01mfor\u001b[39;00m i, v \u001b[38;5;129;01min\u001b[39;00m \u001b[38;5;28menumerate\u001b[39m(series_gen):\n\u001b[0;32m    813\u001b[0m         \u001b[38;5;66;03m# ignore SettingWithCopy here in case the user mutates\u001b[39;00m\n\u001b[1;32m--> 814\u001b[0m         results[i] \u001b[38;5;241m=\u001b[39m \u001b[38;5;28mself\u001b[39m\u001b[38;5;241m.\u001b[39mf(v)\n\u001b[0;32m    815\u001b[0m         \u001b[38;5;28;01mif\u001b[39;00m \u001b[38;5;28misinstance\u001b[39m(results[i], ABCSeries):\n\u001b[0;32m    816\u001b[0m             \u001b[38;5;66;03m# If we have a view on v, we need to make a copy because\u001b[39;00m\n\u001b[0;32m    817\u001b[0m             \u001b[38;5;66;03m#  series_generator will swap out the underlying data\u001b[39;00m\n\u001b[0;32m    818\u001b[0m             results[i] \u001b[38;5;241m=\u001b[39m results[i]\u001b[38;5;241m.\u001b[39mcopy(deep\u001b[38;5;241m=\u001b[39m\u001b[38;5;28;01mFalse\u001b[39;00m)\n",
      "\u001b[1;31mTypeError\u001b[0m: <lambda>() missing 2 required positional arguments: 'y' and 'i'"
     ]
    }
   ],
   "source": [
    "# import pandas as pd\n",
    "# df=pd.DataFrame([a,b])\n",
    "# # lambda x,y,i: x[i]==y[i]\n",
    "# df.apply(lambda x,y,i: x[i]==y[i])"
   ]
  },
  {
   "cell_type": "code",
   "execution_count": 59,
   "metadata": {},
   "outputs": [
    {
     "data": {
      "text/plain": [
       "array([[0.902, 0.029, 0.532],\n",
       "       [0.608, 0.15 , 0.864],\n",
       "       [0.1  , 0.369, 0.299],\n",
       "       [0.545, 0.811, 0.964],\n",
       "       [0.504, 0.581, 0.977]])"
      ]
     },
     "execution_count": 59,
     "metadata": {},
     "output_type": "execute_result"
    }
   ],
   "source": [
    "rand_arr = np.random.random((5,3))\n",
    "np.set_printoptions(precision=3)\n",
    "rand_arr"
   ]
  },
  {
   "cell_type": "code",
   "execution_count": 73,
   "metadata": {},
   "outputs": [
    {
     "name": "stdout",
     "output_type": "stream",
     "text": [
      "[ 0  1  2 ... 12 13 14]\n"
     ]
    }
   ],
   "source": [
    "a = np.arange(15)\n",
    "np.set_printoptions(threshold=13)\n",
    "print(a)"
   ]
  },
  {
   "cell_type": "code",
   "execution_count": 77,
   "metadata": {},
   "outputs": [],
   "source": [
    "from sklearn.datasets import load_iris\n",
    "import numpy as np\n",
    "\n",
    "# Load the iris dataset\n",
    "iris = load_iris()\n",
    "\n",
    "# Access the data and target\n",
    "X = iris.data  # Features (sepal length, sepal width, petal length, petal width)\n",
    "y = iris.target  # Target (species)\n",
    "feature_names = iris.feature_names  # Feature names\n",
    "target_names = iris.target_names  # Target names (species names)\n",
    "\n",
    "# Convert the data to a structured numpy array\n",
    "data_types = [(feature_name, np.float64) for feature_name in feature_names]\n",
    "data_types.append(('species', 'U20'))\n",
    "iris_data = np.zeros(X.shape[0], dtype=data_types)\n",
    "\n",
    "# Assign the features and targets to the structured array\n",
    "for i, feature_name in enumerate(feature_names):\n",
    "    iris_data[feature_name] = X[:, i]\n",
    "iris_data['species'] = np.array([target_names[target] for target in y])"
   ]
  },
  {
   "cell_type": "code",
   "execution_count": 78,
   "metadata": {},
   "outputs": [
    {
     "data": {
      "text/plain": [
       "array([(5.1, 3.5, 1.4, 0.2, 'setosa'), (4.9, 3. , 1.4, 0.2, 'setosa'),\n",
       "       (4.7, 3.2, 1.3, 0.2, 'setosa'), ...,\n",
       "       (6.5, 3. , 5.2, 2. , 'virginica'),\n",
       "       (6.2, 3.4, 5.4, 2.3, 'virginica'),\n",
       "       (5.9, 3. , 5.1, 1.8, 'virginica')],\n",
       "      dtype=[('sepal length (cm)', '<f8'), ('sepal width (cm)', '<f8'), ('petal length (cm)', '<f8'), ('petal width (cm)', '<f8'), ('species', '<U20')])"
      ]
     },
     "execution_count": 78,
     "metadata": {},
     "output_type": "execute_result"
    }
   ],
   "source": [
    "iris_data"
   ]
  },
  {
   "cell_type": "code",
   "execution_count": 81,
   "metadata": {},
   "outputs": [
    {
     "name": "stdout",
     "output_type": "stream",
     "text": [
      "Input vectors:\n",
      "[[1 2 3]\n",
      " [4 5 6]\n",
      " [7 8 9]]\n",
      "\n",
      "Softmax scores:\n",
      "0.9999999999999999\n",
      "[0.074 0.074 0.074 0.074 0.074 0.202 0.074 0.074 0.202 0.074]\n"
     ]
    }
   ],
   "source": [
    "import numpy as np\n",
    "\n",
    "def softmax(x):\n",
    "    \"\"\"Compute the softmax of vector x.\"\"\"\n",
    "    exp_x = np.exp(x)\n",
    "    sum_exp_x = np.sum(exp_x)\n",
    "    return exp_x / sum_exp_x\n",
    "\n",
    "# Example input vectors\n",
    "X = np.array([[1, 2, 3],\n",
    "              [4, 5, 6],\n",
    "              [7, 8, 9]])\n",
    "\n",
    "# Compute softmax scores along the rows (axis=1)\n",
    "softmax_scores = softmax(x)\n",
    "\n",
    "print(\"Input vectors:\")\n",
    "print(X)\n",
    "print(\"\\nSoftmax scores:\")\n",
    "print(softmax_scores.sum())\n",
    "print(softmax_scores)"
   ]
  },
  {
   "cell_type": "code",
   "execution_count": null,
   "metadata": {},
   "outputs": [],
   "source": []
  }
 ],
 "metadata": {
  "kernelspec": {
   "display_name": "base",
   "language": "python",
   "name": "python3"
  },
  "language_info": {
   "codemirror_mode": {
    "name": "ipython",
    "version": 3
   },
   "file_extension": ".py",
   "mimetype": "text/x-python",
   "name": "python",
   "nbconvert_exporter": "python",
   "pygments_lexer": "ipython3",
   "version": "3.11.5"
  }
 },
 "nbformat": 4,
 "nbformat_minor": 2
}
