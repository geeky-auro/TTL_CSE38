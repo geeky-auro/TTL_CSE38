{
 "cells": [
  {
   "cell_type": "code",
   "execution_count": 1,
   "id": "1b81efd1",
   "metadata": {},
   "outputs": [],
   "source": [
    "# Lists Assignment "
   ]
  },
  {
   "cell_type": "code",
   "execution_count": 77,
   "id": "f0d64ba0",
   "metadata": {},
   "outputs": [],
   "source": [
    "import numpy as np"
   ]
  },
  {
   "cell_type": "code",
   "execution_count": 90,
   "id": "cf9b2e5e",
   "metadata": {},
   "outputs": [
    {
     "name": "stdout",
     "output_type": "stream",
     "text": [
      "26\n"
     ]
    }
   ],
   "source": [
    "# Write a Python program to sum all the items\n",
    "listn=[1,7,-10,34,2,-8]\n",
    "sum=0\n",
    "i=0\n",
    "while i<len(listn):\n",
    "    sum+=listn[i]\n",
    "    i=i+1\n",
    "\n",
    "print(sum)"
   ]
  },
  {
   "cell_type": "code",
   "execution_count": 91,
   "id": "b1d22b21",
   "metadata": {},
   "outputs": [
    {
     "ename": "TypeError",
     "evalue": "'int' object is not callable",
     "output_type": "error",
     "traceback": [
      "\u001b[1;31m---------------------------------------------------------------------------\u001b[0m",
      "\u001b[1;31mTypeError\u001b[0m                                 Traceback (most recent call last)",
      "Cell \u001b[1;32mIn[91], line 3\u001b[0m\n\u001b[0;32m      1\u001b[0m \u001b[38;5;66;03m# ALternative\u001b[39;00m\n\u001b[0;32m      2\u001b[0m my_list \u001b[38;5;241m=\u001b[39m [\u001b[38;5;241m1\u001b[39m, \u001b[38;5;241m7\u001b[39m, \u001b[38;5;241m-\u001b[39m\u001b[38;5;241m10\u001b[39m, \u001b[38;5;241m34\u001b[39m, \u001b[38;5;241m2\u001b[39m, \u001b[38;5;241m-\u001b[39m\u001b[38;5;241m8\u001b[39m]\n\u001b[1;32m----> 3\u001b[0m total_sum \u001b[38;5;241m=\u001b[39m \u001b[38;5;28mint\u001b[39m(\u001b[38;5;28msum\u001b[39m(my_list))\n\u001b[0;32m      4\u001b[0m \u001b[38;5;28mprint\u001b[39m(total_sum)\n",
      "\u001b[1;31mTypeError\u001b[0m: 'int' object is not callable"
     ]
    }
   ],
   "source": [
    "# ALternative\n",
    "my_list = [1, 7, -10, 34, 2, -8]\n",
    "total_sum = int(sum(my_list))\n",
    "print(total_sum)\n"
   ]
  },
  {
   "cell_type": "code",
   "execution_count": 92,
   "id": "f5e321a2",
   "metadata": {},
   "outputs": [
    {
     "name": "stdout",
     "output_type": "stream",
     "text": [
      "Maximum Element in the List is 34 at Index 3 \n"
     ]
    }
   ],
   "source": [
    "# Write a Python program to get the largest number from a list\n",
    "listn=[1,7,10,34,2,8]\n",
    "ary=np.array(listn)\n",
    "print(\"Maximum Element in the List is {} at Index {} \".format(ary.max(),ary.argmax()))"
   ]
  },
  {
   "cell_type": "code",
   "execution_count": 93,
   "id": "1d6c71f3",
   "metadata": {},
   "outputs": [
    {
     "name": "stdout",
     "output_type": "stream",
     "text": [
      "Maximum Element in the list is 34 at index 3\n"
     ]
    }
   ],
   "source": [
    "# ALternative \n",
    "maxi=-1e8;\n",
    "i=0\n",
    "ind = -1\n",
    "while i<len(listn):\n",
    "    if listn[i]>maxi:\n",
    "        maxi=listn[i]\n",
    "        ind=i\n",
    "    i=i+1\n",
    "\n",
    "print(f\"Maximum Element in the list is {maxi} at index {ind}\")"
   ]
  },
  {
   "cell_type": "code",
   "execution_count": 94,
   "id": "438899e6",
   "metadata": {},
   "outputs": [
    {
     "name": "stdout",
     "output_type": "stream",
     "text": [
      "First and Last Character are same: 3\n"
     ]
    }
   ],
   "source": [
    "\"\"\"\n",
    "Write a Python program to count the number of strings where the string length is 2 or\n",
    "more and the first and last character are same from a given list of strings\n",
    "\"\"\"\n",
    "listn=['pqp','xyzz','aba','4224']\n",
    "i=0\n",
    "ans=0\n",
    "while i<len(listn):\n",
    "    \n",
    "    if listn[i][0]==listn[i][len(listn[i])-1] and len(listn[i])>=2:\n",
    "        ans+=1\n",
    "    i=i+1\n",
    "    \n",
    "print(f\"First and Last Character are same: {ans}\")"
   ]
  },
  {
   "cell_type": "code",
   "execution_count": 95,
   "id": "f8a429c1",
   "metadata": {},
   "outputs": [
    {
     "name": "stdout",
     "output_type": "stream",
     "text": [
      "Unique set of Elements : {1, 2, 3, 4, 5, 6, 7, 8}\n"
     ]
    }
   ],
   "source": [
    "# Write a Python program to remove duplicates from a list\n",
    "listn=[1,2,3,7,2,1,5,6,4,8,5,4]\n",
    "unique=set()\n",
    "i=0\n",
    "while i<len(listn):\n",
    "    unique.add(listn[i])\n",
    "    i+=1\n",
    "    \n",
    "unique\n",
    "# Alternative Code \n",
    "print(f\"Unique set of Elements : {set(listn)}\")"
   ]
  },
  {
   "cell_type": "code",
   "execution_count": 96,
   "id": "8640cd0f",
   "metadata": {},
   "outputs": [
    {
     "data": {
      "text/plain": [
       "4"
      ]
     },
     "execution_count": 96,
     "metadata": {},
     "output_type": "execute_result"
    }
   ],
   "source": [
    "# Write a Python program to select an item randomly from a list Using random.choice()\n",
    "import random as rand\n",
    "listn=[1,2,3,4,5,6,\"AURO\",\"Python Learns\"]\n",
    "rand.choice(listn)"
   ]
  },
  {
   "cell_type": "code",
   "execution_count": 97,
   "id": "67109a9b",
   "metadata": {},
   "outputs": [
    {
     "data": {
      "text/plain": [
       "[range(1, 16)]"
      ]
     },
     "execution_count": 97,
     "metadata": {},
     "output_type": "execute_result"
    }
   ],
   "source": [
    "# Python program to create a list of 5 random integers.\n",
    "listn=[range(rand.randint(0,10),rand.randint(10,20))]\n",
    "listn"
   ]
  },
  {
   "cell_type": "code",
   "execution_count": 98,
   "id": "13cfa5a1",
   "metadata": {},
   "outputs": [
    {
     "name": "stdout",
     "output_type": "stream",
     "text": [
      "[0.017393588820728723, 0.1249291700090388, 0.09093329383093329, 0.10950360012135507, 0.6344773819046978, 0.6847892558697405, 0.15382885702839988, 0.89856510860847, 0.7579675482076521, 0.7356656447846321]\n"
     ]
    }
   ],
   "source": [
    "from random import random\n",
    "listn=[]\n",
    "for i in range(10):\n",
    "    listn.append(random())\n",
    "    \n",
    "print(listn)"
   ]
  },
  {
   "cell_type": "code",
   "execution_count": 99,
   "id": "80bda1a5",
   "metadata": {},
   "outputs": [
    {
     "name": "stdout",
     "output_type": "stream",
     "text": [
      "[1, 56, 7]\n",
      "[-6, -78, -9, -10]\n"
     ]
    }
   ],
   "source": [
    "# WAP to separate positive and negative number from a list.\n",
    "listn=[1,56,7,-6,-78,-9,-10]\n",
    "i=0\n",
    "pos=[]\n",
    "neg=[]\n",
    "while i<len(listn):\n",
    "    if listn[i]>=0:\n",
    "        pos.append(listn[i])\n",
    "    else:\n",
    "        neg.append(listn[i])\n",
    "    i+=1\n",
    "\n",
    "print(pos)\n",
    "print(neg)\n",
    "    "
   ]
  },
  {
   "cell_type": "code",
   "execution_count": null,
   "id": "4b02fd26",
   "metadata": {},
   "outputs": [],
   "source": [
    "import numpy as np\n",
    "lists = [2, 4, 6, 7, 8, 9, 10, 11, 12, 13, 45, 66, 78, 909]\n",
    "print(\"Even numbers are\")\n",
    "even_numbers = np.array((list)(filter(lambda num: num % 2 == 0, lists)))\n",
    "print(even_numbers)"
   ]
  },
  {
   "cell_type": "code",
   "execution_count": 125,
   "id": "32d30986",
   "metadata": {},
   "outputs": [
    {
     "name": "stdout",
     "output_type": "stream",
     "text": [
      "Original List :['Tutor', 'joes', 'Computer', 'Education']\n",
      "Reversed List :['rotuT', 'seoj', 'retupmoC', 'noitacudE']\n",
      "Reversed List : ['Education', 'Computer', 'joes', 'Tutor']\n"
     ]
    }
   ],
   "source": [
    "# Write a Python program to reverse All Strings in String List\n",
    "Original=['Tutor','joes','Computer','Education']\n",
    "ReversedList=[]\n",
    "ReversedList1=[]\n",
    "i=0\n",
    "while i<len(Original):\n",
    "    ReversedList.append(Original[i][::-1])\n",
    "    ReversedList1.append(Original[i])\n",
    "    i+=1\n",
    "    \n",
    "\n",
    "print(f\"Original List :{Original}\")\n",
    "print(f\"Reversed List :{ReversedList}\")\n",
    "print(f\"Reversed List : {ReversedList1[::-1]}\",)"
   ]
  },
  {
   "cell_type": "code",
   "execution_count": 137,
   "id": "50d9466e",
   "metadata": {},
   "outputs": [
    {
     "name": "stdout",
     "output_type": "stream",
     "text": [
      "['XYZ', 'ABC', 'ABCDE', 'ABBBCDE']\n"
     ]
    }
   ],
   "source": [
    "# Python program to sort a list of strings on the number of alphabets in each word.\n",
    "listings = [\"ABBBCDE\", \"XYZ\", \"ABC\", \"ABCDE\"]\n",
    "\n",
    "for i in range(len(listings)):\n",
    "    for j in range(len(listings) - i - 1):\n",
    "        if len(listings[j]) > len(listings[j + 1]):\n",
    "            listings[j], listings[j + 1] = listings[j + 1], listings[j]\n",
    "\n",
    "print(listings)\n"
   ]
  },
  {
   "cell_type": "code",
   "execution_count": 142,
   "id": "73e73b22",
   "metadata": {},
   "outputs": [
    {
     "name": "stdout",
     "output_type": "stream",
     "text": [
      "123 is a number\n",
      "abc is not a number\n",
      "456 is a number\n",
      "789 is a number\n"
     ]
    }
   ],
   "source": [
    "# Python program non-numeric items in a list in a separate list.\n",
    "import re\n",
    "my_list = [\"123\", \"abc\", \"456\", \"789\"]\n",
    "for item in my_list:\n",
    "    if item.isdigit():\n",
    "        print(f\"{item} is a number\")\n",
    "    else:\n",
    "        print(f\"{item} is not a number\")\n"
   ]
  },
  {
   "cell_type": "code",
   "execution_count": 143,
   "id": "60397921",
   "metadata": {},
   "outputs": [],
   "source": [
    "# Python program to create a list of integers representing each character in a string\n"
   ]
  },
  {
   "cell_type": "code",
   "execution_count": 145,
   "id": "d0a3ce19",
   "metadata": {},
   "outputs": [
    {
     "name": "stdout",
     "output_type": "stream",
     "text": [
      "{4, 5}\n"
     ]
    }
   ],
   "source": [
    "# Python program to find numbers common in two lists.\n",
    "def find_common_numbers(list1, list2):\n",
    "    return np.array((set(list1) & set(list2)))\n",
    "\n",
    "list1 = [1, 2, 3, 4, 5]\n",
    "list2 = [4, 5, 6, 7, 8]\n",
    "print(find_common_numbers(list1, list2))"
   ]
  },
  {
   "cell_type": "code",
   "execution_count": 146,
   "id": "6717151f",
   "metadata": {},
   "outputs": [
    {
     "name": "stdout",
     "output_type": "stream",
     "text": [
      "[1, 2, 3] [4, 5, 6]\n"
     ]
    }
   ],
   "source": [
    "# Split a List in half and store the elements in two different lists.\n",
    "def split_list_in_half(lst):\n",
    "    mid = len(lst) // 2\n",
    "    return lst[:mid], lst[mid:]\n",
    " \n",
    "# Example\n",
    "lst = [1, 2, 3, 4, 5, 6]\n",
    "first_half, second_half = split_list_in_half(lst)\n",
    "print(first_half, second_half)"
   ]
  },
  {
   "cell_type": "code",
   "execution_count": 147,
   "id": "ce8ac972",
   "metadata": {},
   "outputs": [
    {
     "name": "stdout",
     "output_type": "stream",
     "text": [
      "[4, 2, 3, 1]\n"
     ]
    }
   ],
   "source": [
    "# Interchange first and last elements of a list\n",
    "def interchange_first_last(lst):\n",
    "    if len(lst) > 1:\n",
    "        lst[0], lst[-1] = lst[-1], lst[0]\n",
    "    return lst\n",
    " \n",
    "# Example\n",
    "lst = [1, 2, 3, 4]\n",
    "print(interchange_first_last(lst))"
   ]
  },
  {
   "cell_type": "code",
   "execution_count": 148,
   "id": "efc3cf54",
   "metadata": {},
   "outputs": [
    {
     "name": "stdout",
     "output_type": "stream",
     "text": [
      "[2]\n"
     ]
    }
   ],
   "source": [
    "# Display elements wit Frequency greater than a given value k\n",
    "def elements_with_freq_greater_than_k(lst, k):\n",
    "    frequency = {}\n",
    "    for item in lst:\n",
    "        if item in frequency:\n",
    "            frequency[item] += 1\n",
    "        else:\n",
    "            frequency[item] = 1\n",
    "    return [item for item, count in frequency.items() if count > k]\n",
    " \n",
    "# Example\n",
    "lst = [1, 2, 3, 2, 4, 3, 2]\n",
    "k = 2\n",
    "print(elements_with_freq_greater_than_k(lst, k))"
   ]
  },
  {
   "cell_type": "code",
   "execution_count": null,
   "id": "b6ac9f37",
   "metadata": {},
   "outputs": [],
   "source": []
  }
 ],
 "metadata": {
  "kernelspec": {
   "display_name": "Python 3 (ipykernel)",
   "language": "python",
   "name": "python3"
  },
  "language_info": {
   "codemirror_mode": {
    "name": "ipython",
    "version": 3
   },
   "file_extension": ".py",
   "mimetype": "text/x-python",
   "name": "python",
   "nbconvert_exporter": "python",
   "pygments_lexer": "ipython3",
   "version": "3.11.5"
  }
 },
 "nbformat": 4,
 "nbformat_minor": 5
}
