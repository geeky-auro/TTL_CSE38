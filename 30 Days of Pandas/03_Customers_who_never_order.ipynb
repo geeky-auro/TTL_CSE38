{
 "cells": [
  {
   "attachments": {
    "image.png": {
     "image/png": "[encoded data removed]"
    }
   },
   "cell_type": "markdown",
   "metadata": {},
   "source": [
    "![image.png](attachment:image.png)\n",
    "id is the primary key (column with unique values) for this table.\n",
    "Each row of this table indicates the ID and name of a customer.\n",
    "# Input\n",
    "| id | name  |\n",
    "|----|-------|\n",
    "| 1  | Joe   |\n",
    "| 2  | Henry |\n",
    "| 3  | Sam   |\n",
    "| 4  | Max   |\n",
    "\n",
    "\n",
    "id is the primary key (column with unique values) for this table.\n",
    "customerId is a foreign key (reference columns) of the ID from the Customers table.\n",
    "Each row of this table indicates the ID of an order and the ID of the customer who ordered it.\n",
    "\n",
    "| id | customerId |\n",
    "|----|------------|\n",
    "| 1  | 3          |\n",
    "| 2  | 1          |\n",
    "\n",
    "\n",
    "# Output\n",
    "| Customers | Description                                             |\n",
    "|-----------|---------------------------------------------------------|\n",
    "| Henry     | Customers who never placed any orders.                  |\n",
    "| Max       |                                                         |\n"
   ]
  },
  {
   "cell_type": "markdown",
   "metadata": {},
   "source": [
    "# Intuition\n",
    "- Perform Left Join on customers and orders.\n",
    "- Filter customers who never ordered select only those rows where the 'customerId' column is NaN (indicating that the customer never placed an order).\n",
    "- Create DataFrame for customers who never ordered(Optional).\n",
    "- Rename column."
   ]
  },
  {
   "cell_type": "code",
   "execution_count": 2,
   "metadata": {},
   "outputs": [],
   "source": [
    "import pandas as pd\n",
    "\n",
    "def find_customers(customers: pd.DataFrame, orders: pd.DataFrame) -> pd.DataFrame:\n",
    "    # Select the customers whose 'id' is not present in the orders DataFrame's 'customerId' column.\n",
    "    df = customers[~customers['id'].isin(orders['customerId'])]\n",
    "\n",
    "    # Build a DataFrame that only contains the 'name' column and rename it as 'Customers'.\n",
    "    df = df[['name']].rename(columns={'name': 'Customers'})\n",
    "\n",
    "    return df\n"
   ]
  },
  {
   "cell_type": "markdown",
   "metadata": {},
   "source": [
    "df = customers[~customers['id'].isin(orders['customerId'])]: In this line, we use boolean indexing to filter the rows from the 'customers' DataFrame. The condition ~customers['id'].isin(orders['customerId']) checks if the 'id' column in the 'customers' DataFrame is not present in the 'customerId' column of the 'orders' DataFrame. The tilde (~) operator negates the result, so we select only the rows where the 'id' is not found in the 'customerId' column of the 'orders' DataFrame.\n",
    "\n",
    "df = df[['name']].rename(columns={'name': 'Customers'}): After filtering, we create a new DataFrame df containing only the 'name' column. The [['name']] part is used to select only the 'name' column and keep it as a DataFrame. Then, we rename this column from 'name' to 'Customers' using the rename function. The resulting DataFrame df contains the names of customers who never placed any orders, and the column is labeled as 'Customers'.\n",
    "\n",
    "In summary, the find_customers function takes two DataFrames, 'customers' and 'orders', and filters the 'customers' DataFrame to find customers whose 'id' is not present in the 'orders' DataFrame's 'customerId' column. It then returns a new DataFrame with the names of these customers, labeled as 'Customers'. This function effectively finds customers who never placed any orders."
   ]
  },
  {
   "cell_type": "code",
   "execution_count": 3,
   "metadata": {},
   "outputs": [],
   "source": [
    "import pandas as pd\n",
    "\n",
    "def find_customers(customers: pd.DataFrame, orders: pd.DataFrame) -> pd.DataFrame:\n",
    "    # Merge the customers DataFrame with the orders DataFrame using a left join on 'id' and 'customerId'\n",
    "    merged_df = customers.merge(orders, how='left', left_on='id', right_on='customerId')\n",
    "    \n",
    "    # Use the 'customerId' column to create a boolean mask for customers who never placed any orders\n",
    "    mask = merged_df['customerId'].isna()\n",
    "    \n",
    "    # Filter the rows using the boolean mask\n",
    "    result_df = merged_df[mask]\n",
    "    \n",
    "    # Select only the 'name' column from the result DataFrame and rename it as 'Customers'\n",
    "    result_df = result_df[['name']].rename(columns={'name': 'Customers'})\n",
    "    \n",
    "    return result_df"
   ]
  },
  {
   "cell_type": "markdown",
   "metadata": {},
   "source": [
    "Approach\n",
    "- We first merge the 'customers' DataFrame with the 'orders' DataFrame using a left join. This allows us to have a DataFrame where each row represents a customer and includes any orders they may have placed.\n",
    "\n",
    "- We create a boolean mask named mask by checking if the 'customerId' column in the merged DataFrame is null. This mask will be True for customers who never placed any orders and False for customers who placed orders.\n",
    "\n",
    "- We use the boolean mask mask to filter the rows from the 'customers' DataFrame, selecting only those customers who never placed any orders.\n",
    "\n",
    "- We select only the 'name' column from the filtered DataFrame and rename it as 'Customers'.\n",
    "\n",
    "- Finally, we return the resulting DataFrame containing the names of customers who never placed any orders, labeled as 'Customers'.\n",
    "\n",
    "- This approach achieves the same goal of finding customers who never placed any orders but uses a different technique involving a left join and boolean masking."
   ]
  },
  {
   "cell_type": "markdown",
   "metadata": {},
   "source": []
  }
 ],
 "metadata": {
  "kernelspec": {
   "display_name": "base",
   "language": "python",
   "name": "python3"
  },
  "language_info": {
   "codemirror_mode": {
    "name": "ipython",
    "version": 3
   },
   "file_extension": ".py",
   "mimetype": "text/x-python",
   "name": "python",
   "nbconvert_exporter": "python",
   "pygments_lexer": "ipython3",
   "version": "3.11.5"
  }
 },
 "nbformat": 4,
 "nbformat_minor": 2
}
