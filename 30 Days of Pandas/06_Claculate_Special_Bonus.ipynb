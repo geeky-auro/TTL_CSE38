{
 "cells": [
  {
   "cell_type": "code",
   "execution_count": 2,
   "metadata": {},
   "outputs": [],
   "source": [
    "import pandas as pd"
   ]
  },
  {
   "cell_type": "code",
   "execution_count": 16,
   "metadata": {},
   "outputs": [
    {
     "name": "stdout",
     "output_type": "stream",
     "text": [
      "   id     name  salary\n",
      "0   2     Meir    3000\n",
      "1   3  Michael    3800\n",
      "2   7  Addilyn    7400\n",
      "3   8     Juan    6100\n",
      "4   9   Kannon    7700\n"
     ]
    }
   ],
   "source": [
    "import pandas as pd\n",
    "\n",
    "# Create a list of dictionaries\n",
    "data = [\n",
    "    {'id': 2, 'name': 'Meir', 'salary': 3000},\n",
    "    {'id': 3, 'name': 'Michael', 'salary': 3800},\n",
    "    {'id': 7, 'name': 'Addilyn', 'salary': 7400},\n",
    "    {'id': 8, 'name': 'Juan', 'salary': 6100},\n",
    "    {'id': 9, 'name': 'Kannon', 'salary': 7700}\n",
    "]\n",
    "\n",
    "# Create a DataFrame from the list of dictionaries\n",
    "df = pd.DataFrame(data)\n",
    "print(df)"
   ]
  },
  {
   "cell_type": "code",
   "execution_count": 17,
   "metadata": {},
   "outputs": [],
   "source": [
    "df['Bonus']=0"
   ]
  },
  {
   "cell_type": "code",
   "execution_count": 22,
   "metadata": {},
   "outputs": [
    {
     "data": {
      "text/html": [
       "<div>\n",
       "<style scoped>\n",
       "    .dataframe tbody tr th:only-of-type {\n",
       "        vertical-align: middle;\n",
       "    }\n",
       "\n",
       "    .dataframe tbody tr th {\n",
       "        vertical-align: top;\n",
       "    }\n",
       "\n",
       "    .dataframe thead th {\n",
       "        text-align: right;\n",
       "    }\n",
       "</style>\n",
       "<table border=\"1\" class=\"dataframe\">\n",
       "  <thead>\n",
       "    <tr style=\"text-align: right;\">\n",
       "      <th></th>\n",
       "      <th>id</th>\n",
       "      <th>name</th>\n",
       "      <th>salary</th>\n",
       "      <th>Bonus</th>\n",
       "    </tr>\n",
       "  </thead>\n",
       "  <tbody>\n",
       "    <tr>\n",
       "      <th>0</th>\n",
       "      <td>2</td>\n",
       "      <td>Meir</td>\n",
       "      <td>3000</td>\n",
       "      <td>0</td>\n",
       "    </tr>\n",
       "    <tr>\n",
       "      <th>1</th>\n",
       "      <td>3</td>\n",
       "      <td>Michael</td>\n",
       "      <td>3800</td>\n",
       "      <td>0</td>\n",
       "    </tr>\n",
       "    <tr>\n",
       "      <th>2</th>\n",
       "      <td>7</td>\n",
       "      <td>Addilyn</td>\n",
       "      <td>7400</td>\n",
       "      <td>7400</td>\n",
       "    </tr>\n",
       "    <tr>\n",
       "      <th>3</th>\n",
       "      <td>8</td>\n",
       "      <td>Juan</td>\n",
       "      <td>6100</td>\n",
       "      <td>0</td>\n",
       "    </tr>\n",
       "    <tr>\n",
       "      <th>4</th>\n",
       "      <td>9</td>\n",
       "      <td>Kannon</td>\n",
       "      <td>7700</td>\n",
       "      <td>7700</td>\n",
       "    </tr>\n",
       "  </tbody>\n",
       "</table>\n",
       "</div>"
      ],
      "text/plain": [
       "   id     name  salary  Bonus\n",
       "0   2     Meir    3000      0\n",
       "1   3  Michael    3800      0\n",
       "2   7  Addilyn    7400   7400\n",
       "3   8     Juan    6100      0\n",
       "4   9   Kannon    7700   7700"
      ]
     },
     "execution_count": 22,
     "metadata": {},
     "output_type": "execute_result"
    }
   ],
   "source": [
    "# Write a solution to calculate the bonus of each employee. \n",
    "# The bonus of an employee is 100% of their salary if the ID of the employee is an odd number and the employee's name does not start with the character 'M'. \n",
    "# The bonus of an employee is 0 otherwise.\n",
    "# df[[(df['id']%2!=0) & (df['name'][0]!='M')]['Bonus']]=df['salary']\n",
    "# df.loc[((df['id']%2!=0) & (df['name'].str[0]!='M')),'Bonus']=df['salary']\n",
    "# df.loc[((df['id']%2!=0) & (df['name'].str[0]!='M')),'Bonus']\n",
    "df.loc[((df['id']%2!=0) & (df['name'].str[0]!='M')),'Bonus']=df['salary']\n",
    "df"
   ]
  },
  {
   "cell_type": "code",
   "execution_count": 23,
   "metadata": {},
   "outputs": [],
   "source": [
    "import pandas as pd\n",
    "import numpy as np\n",
    "\n",
    "def calculate_special_bonus(employees: pd.DataFrame) -> pd.DataFrame:\n",
    "    employees['bonus'] = 0\n",
    "    condition = (employees['employee_id'] % 2 != 0) & (employees['name'].str[0] != 'M')\n",
    "    employees.loc[condition, 'bonus'] = np.where(condition, employees['salary'], employees['bonus'])\n",
    "    return employees[['employee_id', 'bonus']].sort_values('employee_id')"
   ]
  },
  {
   "cell_type": "code",
   "execution_count": 24,
   "metadata": {},
   "outputs": [],
   "source": [
    "import pandas as pd\n",
    "\n",
    "def calculate_special_bonus(employees: pd.DataFrame) -> pd.DataFrame:\n",
    "    employees['bonus']=0\n",
    "    employees.loc[((employees['employee_id']%2!=0) & (employees['name'].str[0]!='M')),'bonus']=employees['salary']\n",
    "    return employees[['employee_id','bonus']].sort_values('employee_id')\n",
    "    "
   ]
  },
  {
   "cell_type": "code",
   "execution_count": null,
   "metadata": {},
   "outputs": [],
   "source": []
  }
 ],
 "metadata": {
  "kernelspec": {
   "display_name": "base",
   "language": "python",
   "name": "python3"
  },
  "language_info": {
   "codemirror_mode": {
    "name": "ipython",
    "version": 3
   },
   "file_extension": ".py",
   "mimetype": "text/x-python",
   "name": "python",
   "nbconvert_exporter": "python",
   "pygments_lexer": "ipython3",
   "version": "3.11.5"
  }
 },
 "nbformat": 4,
 "nbformat_minor": 2
}
