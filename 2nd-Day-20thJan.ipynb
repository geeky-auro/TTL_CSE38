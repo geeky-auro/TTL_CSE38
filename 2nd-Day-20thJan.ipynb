{
 "cells": [
  {
   "cell_type": "code",
   "execution_count": 1,
   "id": "37603785",
   "metadata": {},
   "outputs": [
    {
     "data": {
      "text/plain": [
       "True"
      ]
     },
     "execution_count": 1,
     "metadata": {},
     "output_type": "execute_result"
    }
   ],
   "source": [
    "-567>=-567"
   ]
  },
  {
   "cell_type": "code",
   "execution_count": 2,
   "id": "bce03cf6",
   "metadata": {},
   "outputs": [
    {
     "name": "stdout",
     "output_type": "stream",
     "text": [
      "The value of n1 20000\n"
     ]
    }
   ],
   "source": [
    "n1=20000\n",
    "print(\"The value of n1\",n1)"
   ]
  },
  {
   "cell_type": "code",
   "execution_count": 3,
   "id": "91cbd5f6",
   "metadata": {},
   "outputs": [
    {
     "name": "stdout",
     "output_type": "stream",
     "text": [
      "Type Casted n1 --> <class 'int'>\n"
     ]
    }
   ],
   "source": [
    "print(\"Type Casted n1 -->\",type(n1))"
   ]
  },
  {
   "cell_type": "code",
   "execution_count": 4,
   "id": "8c68deca",
   "metadata": {},
   "outputs": [
    {
     "name": "stdout",
     "output_type": "stream",
     "text": [
      "Value of n1 is 20000\n"
     ]
    }
   ],
   "source": [
    "print(\"Value of n1 is \"+str(n1))"
   ]
  },
  {
   "cell_type": "markdown",
   "id": "3c8c9c9e",
   "metadata": {},
   "source": [
    "## Input name from the Keyboard,then display letters from 2nd Index to 6th Index\n"
   ]
  },
  {
   "cell_type": "code",
   "execution_count": 5,
   "id": "24f3b221",
   "metadata": {},
   "outputs": [
    {
     "name": "stdout",
     "output_type": "stream",
     "text": [
      "Enter your NameAuro Saswat Raj\n",
      "ro Sa\n"
     ]
    }
   ],
   "source": [
    "name=input(\"Enter your Name \")\n",
    "print(name[2:7])"
   ]
  },
  {
   "cell_type": "code",
   "execution_count": 6,
   "id": "e7123d1e",
   "metadata": {},
   "outputs": [
    {
     "name": "stdout",
     "output_type": "stream",
     "text": [
      "A\n",
      "r\n",
      " \n",
      "a\n",
      "w\n",
      "t\n",
      "R\n",
      "j\n"
     ]
    }
   ],
   "source": [
    "for i in range(0,len(name)):\n",
    "    if(i%2==0):\n",
    "        print(name[i])"
   ]
  },
  {
   "cell_type": "code",
   "execution_count": 7,
   "id": "bcde9f09",
   "metadata": {},
   "outputs": [
    {
     "name": "stdout",
     "output_type": "stream",
     "text": [
      "Length of my Name: 15\n"
     ]
    }
   ],
   "source": [
    "print(\"Length of my Name:\",len(name))"
   ]
  },
  {
   "cell_type": "markdown",
   "id": "ff2855b9",
   "metadata": {},
   "source": [
    "## <strong>Check What all Methods are available of that Data-Type</strong>\n"
   ]
  },
  {
   "cell_type": "code",
   "execution_count": 8,
   "id": "f60c5153",
   "metadata": {},
   "outputs": [
    {
     "data": {
      "text/plain": [
       "['__add__',\n",
       " '__class__',\n",
       " '__contains__',\n",
       " '__delattr__',\n",
       " '__dir__',\n",
       " '__doc__',\n",
       " '__eq__',\n",
       " '__format__',\n",
       " '__ge__',\n",
       " '__getattribute__',\n",
       " '__getitem__',\n",
       " '__getnewargs__',\n",
       " '__getstate__',\n",
       " '__gt__',\n",
       " '__hash__',\n",
       " '__init__',\n",
       " '__init_subclass__',\n",
       " '__iter__',\n",
       " '__le__',\n",
       " '__len__',\n",
       " '__lt__',\n",
       " '__mod__',\n",
       " '__mul__',\n",
       " '__ne__',\n",
       " '__new__',\n",
       " '__reduce__',\n",
       " '__reduce_ex__',\n",
       " '__repr__',\n",
       " '__rmod__',\n",
       " '__rmul__',\n",
       " '__setattr__',\n",
       " '__sizeof__',\n",
       " '__str__',\n",
       " '__subclasshook__',\n",
       " 'capitalize',\n",
       " 'casefold',\n",
       " 'center',\n",
       " 'count',\n",
       " 'encode',\n",
       " 'endswith',\n",
       " 'expandtabs',\n",
       " 'find',\n",
       " 'format',\n",
       " 'format_map',\n",
       " 'index',\n",
       " 'isalnum',\n",
       " 'isalpha',\n",
       " 'isascii',\n",
       " 'isdecimal',\n",
       " 'isdigit',\n",
       " 'isidentifier',\n",
       " 'islower',\n",
       " 'isnumeric',\n",
       " 'isprintable',\n",
       " 'isspace',\n",
       " 'istitle',\n",
       " 'isupper',\n",
       " 'join',\n",
       " 'ljust',\n",
       " 'lower',\n",
       " 'lstrip',\n",
       " 'maketrans',\n",
       " 'partition',\n",
       " 'removeprefix',\n",
       " 'removesuffix',\n",
       " 'replace',\n",
       " 'rfind',\n",
       " 'rindex',\n",
       " 'rjust',\n",
       " 'rpartition',\n",
       " 'rsplit',\n",
       " 'rstrip',\n",
       " 'split',\n",
       " 'splitlines',\n",
       " 'startswith',\n",
       " 'strip',\n",
       " 'swapcase',\n",
       " 'title',\n",
       " 'translate',\n",
       " 'upper',\n",
       " 'zfill']"
      ]
     },
     "execution_count": 8,
     "metadata": {},
     "output_type": "execute_result"
    }
   ],
   "source": [
    "dir(str)"
   ]
  },
  {
   "cell_type": "markdown",
   "id": "58b2fa21",
   "metadata": {},
   "source": [
    "### Swap Case is used to Exchange Upper to Lower and Lower to Upper Case"
   ]
  },
  {
   "cell_type": "code",
   "execution_count": 11,
   "id": "26ffafef",
   "metadata": {},
   "outputs": [
    {
     "name": "stdout",
     "output_type": "stream",
     "text": [
      "aURO sASWAT rAJ\n",
      "AURO SASWAT RAJ\n",
      "auro saswat raj\n",
      "Auro Saswat Raj\n"
     ]
    }
   ],
   "source": [
    "print(name.swapcase())\n",
    "print(name.upper())\n",
    "print(name.lower())\n",
    "print(name.title())"
   ]
  },
  {
   "cell_type": "markdown",
   "id": "5c83343e",
   "metadata": {},
   "source": [
    "### Display Only Even Letters of your Name"
   ]
  },
  {
   "cell_type": "code",
   "execution_count": 12,
   "id": "9d8426cb",
   "metadata": {},
   "outputs": [
    {
     "name": "stdout",
     "output_type": "stream",
     "text": [
      "Ar awtRj\n"
     ]
    }
   ],
   "source": [
    "print(name[0:len(name):2])"
   ]
  },
  {
   "cell_type": "markdown",
   "id": "fb85c05a",
   "metadata": {},
   "source": [
    "### List's in Python"
   ]
  },
  {
   "cell_type": "code",
   "execution_count": 13,
   "id": "1f97129f",
   "metadata": {},
   "outputs": [
    {
     "name": "stdout",
     "output_type": "stream",
     "text": [
      "[0, 1, 2, 3, 4, 5, 6, 7]\n"
     ]
    }
   ],
   "source": [
    "num=[0,1,2,3,4,5,6,7]\n",
    "# To display Even Indexes\n",
    "print(num[0:len(num):2])"
   ]
  },
  {
   "cell_type": "code",
   "execution_count": 16,
   "id": "590871ff",
   "metadata": {},
   "outputs": [
    {
     "name": "stdout",
     "output_type": "stream",
     "text": [
      "[1, 3, 5, 7]\n"
     ]
    }
   ],
   "source": [
    "# To Display Odd Indexes\n",
    "print(num[1:len(num):2])"
   ]
  },
  {
   "cell_type": "markdown",
   "id": "dba2b684",
   "metadata": {},
   "source": [
    "## Loops in Python"
   ]
  },
  {
   "cell_type": "code",
   "execution_count": 18,
   "id": "75bb3273",
   "metadata": {},
   "outputs": [
    {
     "name": "stdout",
     "output_type": "stream",
     "text": [
      "0 1 2 3 4 5 6 7 8 9 10 "
     ]
    }
   ],
   "source": [
    "for i in range(0,11):\n",
    "    print(i,end=\" \")"
   ]
  },
  {
   "cell_type": "code",
   "execution_count": 19,
   "id": "96ca411f",
   "metadata": {},
   "outputs": [
    {
     "name": "stdout",
     "output_type": "stream",
     "text": [
      "0 1 2 3 4 5 6 7 8 9 10 11 12 13 14 "
     ]
    }
   ],
   "source": [
    "for i in range(0,len(name)):\n",
    "    \n",
    "    print(name[i],end=\" \")"
   ]
  },
  {
   "cell_type": "markdown",
   "id": "f0fcb568",
   "metadata": {},
   "source": [
    "## The Property of Assigning or Reassigning is called Mutability Property, Strings are by default immutable\n",
    "~~~\n",
    "For Ex:-\n",
    "p=\"Auro\"\n",
    "~~~\n",
    "In the above we cannot Reassign such as :-\n",
    "p[0]='B'\n",
    "The above will display error as Strings are Immutable"
   ]
  },
  {
   "cell_type": "code",
   "execution_count": 20,
   "id": "260909d7",
   "metadata": {},
   "outputs": [
    {
     "ename": "TypeError",
     "evalue": "'str' object does not support item assignment",
     "output_type": "error",
     "traceback": [
      "\u001b[1;31m---------------------------------------------------------------------------\u001b[0m",
      "\u001b[1;31mTypeError\u001b[0m                                 Traceback (most recent call last)",
      "Cell \u001b[1;32mIn[20], line 2\u001b[0m\n\u001b[0;32m      1\u001b[0m p\u001b[38;5;241m=\u001b[39m\u001b[38;5;124m\"\u001b[39m\u001b[38;5;124mAuro\u001b[39m\u001b[38;5;124m\"\u001b[39m\n\u001b[1;32m----> 2\u001b[0m p[\u001b[38;5;241m0\u001b[39m]\u001b[38;5;241m=\u001b[39m\u001b[38;5;124m'\u001b[39m\u001b[38;5;124mB\u001b[39m\u001b[38;5;124m'\u001b[39m\n",
      "\u001b[1;31mTypeError\u001b[0m: 'str' object does not support item assignment"
     ]
    }
   ],
   "source": [
    "p=\"Auro\"\n",
    "p[0]='B'"
   ]
  },
  {
   "cell_type": "markdown",
   "id": "b17207e6",
   "metadata": {},
   "source": [
    "## Display 1st 8 Natural Numbers using range"
   ]
  },
  {
   "cell_type": "code",
   "execution_count": 25,
   "id": "ce9cc715",
   "metadata": {},
   "outputs": [
    {
     "ename": "TypeError",
     "evalue": "range expected at most 3 arguments, got 4",
     "output_type": "error",
     "traceback": [
      "\u001b[1;31m---------------------------------------------------------------------------\u001b[0m",
      "\u001b[1;31mTypeError\u001b[0m                                 Traceback (most recent call last)",
      "Cell \u001b[1;32mIn[25], line 1\u001b[0m\n\u001b[1;32m----> 1\u001b[0m \u001b[38;5;28;01mfor\u001b[39;00m i \u001b[38;5;129;01min\u001b[39;00m \u001b[38;5;28mrange\u001b[39m(\u001b[38;5;241m1\u001b[39m,\u001b[38;5;241m9\u001b[39m,\u001b[38;5;241m2\u001b[39m,\u001b[38;5;241m3\u001b[39m):\n\u001b[0;32m      2\u001b[0m     \u001b[38;5;28mprint\u001b[39m(i,end\u001b[38;5;241m=\u001b[39m\u001b[38;5;124m\"\u001b[39m\u001b[38;5;124m \u001b[39m\u001b[38;5;124m\"\u001b[39m)\n",
      "\u001b[1;31mTypeError\u001b[0m: range expected at most 3 arguments, got 4"
     ]
    }
   ],
   "source": [
    "for i in range(1,9,2):\n",
    "    print(i,end=\" \")"
   ]
  },
  {
   "cell_type": "code",
   "execution_count": 26,
   "id": "1857a3ad",
   "metadata": {},
   "outputs": [
    {
     "name": "stdout",
     "output_type": "stream",
     "text": [
      "Enter a Number2\n",
      "Enter a Number4\n",
      "Enter a Number6\n",
      "Enter a Number8\n",
      "Enter a Number10\n"
     ]
    }
   ],
   "source": [
    "# Display the Sum of 5 Numbers using For Loop and WHile Loop\n",
    "numbers=[]\n",
    "for i in range(0,5):\n",
    "    numbers.append(int(input(\"Enter a Number\")))"
   ]
  },
  {
   "cell_type": "code",
   "execution_count": 27,
   "id": "24a00198",
   "metadata": {},
   "outputs": [
    {
     "name": "stdout",
     "output_type": "stream",
     "text": [
      "[2, 4, 6, 8, 10]\n"
     ]
    }
   ],
   "source": [
    "print(numbers)"
   ]
  },
  {
   "cell_type": "code",
   "execution_count": 28,
   "id": "85872868",
   "metadata": {},
   "outputs": [
    {
     "name": "stdout",
     "output_type": "stream",
     "text": [
      "30\n"
     ]
    }
   ],
   "source": [
    "sum=0\n",
    "for i in range(0,len(numbers)):\n",
    "    sum+=numbers[i]\n",
    "    \n",
    "print(sum)"
   ]
  },
  {
   "cell_type": "code",
   "execution_count": 32,
   "id": "31b89089",
   "metadata": {},
   "outputs": [
    {
     "name": "stdout",
     "output_type": "stream",
     "text": [
      "30\n"
     ]
    }
   ],
   "source": [
    "sum_while=0\n",
    "i=0\n",
    "while(i<len(numbers)):\n",
    "    sum_while+=numbers[i]\n",
    "    i=i+1\n",
    "\n",
    "print(sum_while)"
   ]
  },
  {
   "cell_type": "code",
   "execution_count": null,
   "id": "f2beee98",
   "metadata": {},
   "outputs": [],
   "source": []
  }
 ],
 "metadata": {
  "kernelspec": {
   "display_name": "Python 3 (ipykernel)",
   "language": "python",
   "name": "python3"
  },
  "language_info": {
   "codemirror_mode": {
    "name": "ipython",
    "version": 3
   },
   "file_extension": ".py",
   "mimetype": "text/x-python",
   "name": "python",
   "nbconvert_exporter": "python",
   "pygments_lexer": "ipython3",
   "version": "3.11.5"
  }
 },
 "nbformat": 4,
 "nbformat_minor": 5
}
