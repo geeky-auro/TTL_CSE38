{
 "cells": [
  {
   "cell_type": "code",
   "execution_count": 10,
   "metadata": {},
   "outputs": [
    {
     "name": "stdout",
     "output_type": "stream",
     "text": [
      "dict_items([('header', 'h1'), ('body', 'b1'), ('footer', 'f1')])\n",
      "[['a1', 'header', 'h1', 'body', 'b1', 'footer', 'f1'], ['a2', 'header', 'h2', 'body', 'b2', 'footer', 'f3']]\n"
     ]
    }
   ],
   "source": [
    "example={'a1':{'header':\"h1\",'body':\"b1\",'footer':'f1'},\"a2\":{'header':\"h2\",'body':\"b2\",'footer':'f3'}}\n",
    "print(example['a1'].items())\n",
    "output=[]\n",
    "for x1,x2 in example.items():\n",
    "    item=[]\n",
    "    item.append(x1)\n",
    "    for value1,value2 in x2.items():\n",
    "        item.append(value1)\n",
    "        item.append(value2)\n",
    "    output.append(item)\n",
    "\n",
    "print(output)"
   ]
  },
  {
   "cell_type": "code",
   "execution_count": null,
   "metadata": {},
   "outputs": [],
   "source": []
  }
 ],
 "metadata": {
  "kernelspec": {
   "display_name": "base",
   "language": "python",
   "name": "python3"
  },
  "language_info": {
   "codemirror_mode": {
    "name": "ipython",
    "version": 3
   },
   "file_extension": ".py",
   "mimetype": "text/x-python",
   "name": "python",
   "nbconvert_exporter": "python",
   "pygments_lexer": "ipython3",
   "version": "3.11.5"
  }
 },
 "nbformat": 4,
 "nbformat_minor": 2
}
